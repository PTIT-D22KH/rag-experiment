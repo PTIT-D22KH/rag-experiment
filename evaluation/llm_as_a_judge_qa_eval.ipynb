{
 "cells": [
  {
   "cell_type": "code",
   "execution_count": 1,
   "id": "6830a174-9fbb-4c64-b7f9-ad32f4aa3d04",
   "metadata": {},
   "outputs": [
    {
     "name": "stderr",
     "output_type": "stream",
     "text": [
      "/home/codespace/.local/lib/python3.10/site-packages/tqdm/auto.py:21: TqdmWarning: IProgress not found. Please update jupyter and ipywidgets. See https://ipywidgets.readthedocs.io/en/stable/user_install.html\n",
      "  from .autonotebook import tqdm as notebook_tqdm\n"
     ]
    }
   ],
   "source": [
    "import json\n",
    "from openai import OpenAI\n",
    "from groq import Groq\n",
    "import os\n",
    "from sentence_transformers import SentenceTransformer\n",
    "from tqdm.auto import tqdm\n",
    "import pickle\n",
    "from elasticsearch import Elasticsearch\n",
    "import pandas as pd\n",
    "import requests\n",
    "import numpy as np\n",
    "from concurrent.futures import ThreadPoolExecutor\n",
    "from requests.exceptions import HTTPError\n",
    "\n",
    "import time"
   ]
  },
  {
   "cell_type": "code",
   "execution_count": 2,
   "id": "fb136d09-c923-44e9-ac05-c17db15bb3e6",
   "metadata": {},
   "outputs": [],
   "source": [
    "prompt1_template = \"\"\"\n",
    "You are an expert evaluator for a Retrieval-Augmented Generation (RAG) system.\n",
    "Your task is to analyze the relevance of the generated answer compared to the original answer provided.\n",
    "Based on the relevance and similarity of the generated answer to the original answer, you will classify\n",
    "it as \"NON_RELEVANT\", \"PARTLY_RELEVANT\", or \"RELEVANT\".\n",
    "\n",
    "Here is the data for evaluation:\n",
    "\n",
    "Original Answer: {answer_orig}\n",
    "Generated Question: {question}\n",
    "Generated Answer: {answer_llm}\n",
    "\n",
    "Please analyze the content and context of the generated answer in relation to the original\n",
    "answer and provide your evaluation in parsable JSON without using code blocks:\n",
    "\n",
    "{{\n",
    "  \"Relevance\": \"NON_RELEVANT\" | \"PARTLY_RELEVANT\" | \"RELEVANT\",\n",
    "  \"Explanation\": \"[Provide a brief explanation for your evaluation]\"\n",
    "}}\n",
    "\"\"\".strip()\n",
    "\n",
    "prompt2_template = \"\"\"\n",
    "You are an expert evaluator for a Retrieval-Augmented Generation (RAG) system.\n",
    "Your task is to analyze the relevance of the generated answer to the given question.\n",
    "Based on the relevance of the generated answer, you will classify it\n",
    "as \"NON_RELEVANT\", \"PARTLY_RELEVANT\", or \"RELEVANT\".\n",
    "\n",
    "Here is the data for evaluation:\n",
    "\n",
    "Question: {question}\n",
    "Generated Answer: {answer_llm}\n",
    "\n",
    "Please analyze the content and context of the generated answer in relation to the question\n",
    "and provide your evaluation in parsable JSON without using code blocks:\n",
    "\n",
    "{{\n",
    "  \"Relevance\": \"NON_RELEVANT\" | \"PARTLY_RELEVANT\" | \"RELEVANT\",\n",
    "  \"Explanation\": \"[Provide a brief explanation for your evaluation]\"\n",
    "}}\n",
    "\"\"\".strip()"
   ]
  },
  {
   "cell_type": "code",
   "execution_count": 4,
   "id": "a7167686-211e-451d-8066-27355d7b2146",
   "metadata": {},
   "outputs": [],
   "source": [
    "client =  Groq(api_key = os.environ['GROQ_API_KEY2'])\n",
    "def llm(prompt, model = 'mixtral-8x7b-32768'):\n",
    "    retries = 5\n",
    "    for i in range(retries):\n",
    "        try:\n",
    "            response = client.chat.completions.create(\n",
    "                model= 'llama3-8b-8192',\n",
    "                messages=[{\"role\": \"user\", \"content\": prompt}]\n",
    "            )\n",
    "            json_response = response.choices[0].message.content\n",
    "            return json_response\n",
    "        except HTTPError as e:\n",
    "            if e.response.status_code == 429:  # Rate limit error\n",
    "                retry_after = float(e.response.json()['error']['message'].split('in ')[-1].split('s')[0])\n",
    "                time.sleep(retry_after)\n",
    "            else:\n",
    "                raise\n",
    "        except Exception as e:\n",
    "            if i < retries - 1:\n",
    "                time.sleep(2 ** i)  # Exponential backoff\n",
    "            else:\n",
    "                raise"
   ]
  },
  {
   "cell_type": "code",
   "execution_count": 6,
   "id": "587dab48-d275-451c-aaf8-9a36cde6aece",
   "metadata": {},
   "outputs": [
    {
     "name": "stderr",
     "output_type": "stream",
     "text": [
      "100%|███████████████████████████████████████████████████| 15/15 [00:06<00:00,  2.44it/s]\n"
     ]
    },
    {
     "name": "stdout",
     "output_type": "stream",
     "text": [
      "JSONDecodeError: Expecting ',' delimiter: line 3 column 357 (char 385)\n",
      "JSONDecodeError: Expecting ',' delimiter: line 3 column 415 (char 450)\n",
      "JSONDecodeError: Expecting ',' delimiter: line 3 column 354 (char 382)\n",
      "evaluations-qa1.csv saved\n"
     ]
    },
    {
     "name": "stderr",
     "output_type": "stream",
     "text": [
      "100%|███████████████████████████████████████████████████| 15/15 [00:05<00:00,  2.70it/s]\n"
     ]
    },
    {
     "name": "stdout",
     "output_type": "stream",
     "text": [
      "JSONDecodeError: Expecting ',' delimiter: line 3 column 300 (char 328)\n",
      "JSONDecodeError: Expecting ',' delimiter: line 3 column 284 (char 319)\n",
      "JSONDecodeError: Expecting ',' delimiter: line 3 column 359 (char 385)\n",
      "JSONDecodeError: Expecting value: line 1 column 1 (char 0)\n",
      "Failed to fix JSON string: Expecting value: line 1 column 1 (char 0)\n",
      "JSONDecodeError: Expecting ',' delimiter: line 3 column 252 (char 280)\n",
      "evaluations-qa2.csv saved\n"
     ]
    },
    {
     "name": "stderr",
     "output_type": "stream",
     "text": [
      "100%|███████████████████████████████████████████████████| 15/15 [00:39<00:00,  2.63s/it]\n"
     ]
    },
    {
     "name": "stdout",
     "output_type": "stream",
     "text": [
      "JSONDecodeError: Expecting ',' delimiter: line 3 column 229 (char 261)\n",
      "JSONDecodeError: Expecting ',' delimiter: line 3 column 312 (char 340)\n",
      "JSONDecodeError: Expecting ',' delimiter: line 3 column 397 (char 432)\n",
      "evaluations-qa3.csv saved\n"
     ]
    },
    {
     "name": "stderr",
     "output_type": "stream",
     "text": [
      "100%|███████████████████████████████████████████████████| 15/15 [00:38<00:00,  2.57s/it]\n"
     ]
    },
    {
     "name": "stdout",
     "output_type": "stream",
     "text": [
      "JSONDecodeError: Expecting ',' delimiter: line 3 column 224 (char 252)\n",
      "JSONDecodeError: Expecting ',' delimiter: line 3 column 230 (char 258)\n",
      "JSONDecodeError: Expecting ',' delimiter: line 3 column 332 (char 358)\n",
      "JSONDecodeError: Expecting ',' delimiter: line 3 column 320 (char 348)\n",
      "JSONDecodeError: Expecting ',' delimiter: line 3 column 247 (char 275)\n",
      "JSONDecodeError: Expecting ',' delimiter: line 3 column 266 (char 294)\n",
      "JSONDecodeError: Expecting ',' delimiter: line 3 column 288 (char 316)\n",
      "JSONDecodeError: Expecting ',' delimiter: line 3 column 391 (char 426)\n",
      "evaluations-qa4.csv saved\n"
     ]
    },
    {
     "name": "stderr",
     "output_type": "stream",
     "text": [
      "100%|███████████████████████████████████████████████████| 15/15 [00:38<00:00,  2.56s/it]\n"
     ]
    },
    {
     "name": "stdout",
     "output_type": "stream",
     "text": [
      "JSONDecodeError: Expecting ',' delimiter: line 3 column 319 (char 347)\n",
      "JSONDecodeError: Expecting ',' delimiter: line 3 column 279 (char 307)\n",
      "JSONDecodeError: Expecting ',' delimiter: line 3 column 204 (char 232)\n",
      "JSONDecodeError: Expecting ',' delimiter: line 3 column 279 (char 307)\n",
      "JSONDecodeError: Expecting ',' delimiter: line 3 column 209 (char 237)\n",
      "JSONDecodeError: Expecting ',' delimiter: line 3 column 220 (char 248)\n",
      "JSONDecodeError: Expecting ',' delimiter: line 3 column 244 (char 272)\n",
      "evaluations-qa5.csv saved\n"
     ]
    },
    {
     "name": "stderr",
     "output_type": "stream",
     "text": [
      "100%|███████████████████████████████████████████████████| 15/15 [00:38<00:00,  2.56s/it]\n"
     ]
    },
    {
     "name": "stdout",
     "output_type": "stream",
     "text": [
      "JSONDecodeError: Expecting ',' delimiter: line 3 column 254 (char 282)\n",
      "JSONDecodeError: Expecting ',' delimiter: line 3 column 296 (char 324)\n",
      "JSONDecodeError: Expecting ',' delimiter: line 3 column 363 (char 398)\n",
      "JSONDecodeError: Expecting ',' delimiter: line 3 column 264 (char 292)\n",
      "JSONDecodeError: Expecting ',' delimiter: line 3 column 316 (char 344)\n",
      "JSONDecodeError: Expecting ',' delimiter: line 3 column 326 (char 354)\n",
      "JSONDecodeError: Expecting ',' delimiter: line 3 column 203 (char 233)\n",
      "evaluations-qa6.csv saved\n"
     ]
    },
    {
     "name": "stderr",
     "output_type": "stream",
     "text": [
      "100%|███████████████████████████████████████████████████| 15/15 [00:38<00:00,  2.56s/it]\n"
     ]
    },
    {
     "name": "stdout",
     "output_type": "stream",
     "text": [
      "JSONDecodeError: Expecting ',' delimiter: line 3 column 284 (char 312)\n",
      "JSONDecodeError: Expecting value: line 1 column 1 (char 0)\n",
      "Failed to fix JSON string: Expecting value: line 1 column 1 (char 0)\n",
      "JSONDecodeError: Expecting ',' delimiter: line 3 column 348 (char 376)\n",
      "JSONDecodeError: Expecting ',' delimiter: line 3 column 282 (char 308)\n",
      "JSONDecodeError: Expecting ',' delimiter: line 3 column 174 (char 202)\n",
      "JSONDecodeError: Expecting ',' delimiter: line 3 column 318 (char 346)\n",
      "JSONDecodeError: Expecting value: line 1 column 1 (char 0)\n",
      "Failed to fix JSON string: Expecting value: line 1 column 1 (char 0)\n",
      "evaluations-qa7.csv saved\n"
     ]
    },
    {
     "name": "stderr",
     "output_type": "stream",
     "text": [
      "100%|███████████████████████████████████████████████████| 15/15 [00:38<00:00,  2.54s/it]\n"
     ]
    },
    {
     "name": "stdout",
     "output_type": "stream",
     "text": [
      "JSONDecodeError: Expecting ',' delimiter: line 3 column 321 (char 356)\n",
      "JSONDecodeError: Expecting ',' delimiter: line 3 column 356 (char 389)\n",
      "JSONDecodeError: Expecting ',' delimiter: line 3 column 365 (char 400)\n",
      "JSONDecodeError: Expecting ',' delimiter: line 3 column 255 (char 281)\n",
      "JSONDecodeError: Expecting ',' delimiter: line 3 column 345 (char 373)\n",
      "JSONDecodeError: Expecting ',' delimiter: line 3 column 199 (char 227)\n",
      "JSONDecodeError: Expecting ',' delimiter: line 3 column 282 (char 314)\n",
      "JSONDecodeError: Expecting ',' delimiter: line 3 column 299 (char 332)\n",
      "JSONDecodeError: Expecting ',' delimiter: line 3 column 365 (char 400)\n",
      "evaluations-qa8.csv saved\n"
     ]
    },
    {
     "name": "stderr",
     "output_type": "stream",
     "text": [
      "100%|███████████████████████████████████████████████████| 15/15 [00:38<00:00,  2.56s/it]\n"
     ]
    },
    {
     "name": "stdout",
     "output_type": "stream",
     "text": [
      "JSONDecodeError: Expecting ',' delimiter: line 3 column 481 (char 514)\n",
      "JSONDecodeError: Expecting ',' delimiter: line 3 column 378 (char 406)\n",
      "JSONDecodeError: Expecting ',' delimiter: line 3 column 268 (char 296)\n",
      "JSONDecodeError: Expecting ',' delimiter: line 3 column 272 (char 300)\n",
      "JSONDecodeError: Expecting ',' delimiter: line 3 column 369 (char 397)\n",
      "JSONDecodeError: Expecting ',' delimiter: line 3 column 434 (char 460)\n",
      "evaluations-qa9.csv saved\n"
     ]
    },
    {
     "name": "stderr",
     "output_type": "stream",
     "text": [
      "100%|███████████████████████████████████████████████████| 15/15 [00:38<00:00,  2.56s/it]\n"
     ]
    },
    {
     "name": "stdout",
     "output_type": "stream",
     "text": [
      "JSONDecodeError: Expecting ',' delimiter: line 3 column 382 (char 410)\n",
      "JSONDecodeError: Expecting ',' delimiter: line 3 column 298 (char 333)\n",
      "JSONDecodeError: Expecting ',' delimiter: line 3 column 331 (char 359)\n",
      "JSONDecodeError: Expecting ',' delimiter: line 3 column 320 (char 348)\n",
      "JSONDecodeError: Expecting ',' delimiter: line 3 column 319 (char 347)\n",
      "evaluations-qa10.csv saved\n"
     ]
    },
    {
     "name": "stderr",
     "output_type": "stream",
     "text": [
      "100%|███████████████████████████████████████████████████| 15/15 [00:39<00:00,  2.62s/it]\n"
     ]
    },
    {
     "name": "stdout",
     "output_type": "stream",
     "text": [
      "JSONDecodeError: Expecting ',' delimiter: line 3 column 280 (char 308)\n",
      "JSONDecodeError: Expecting ',' delimiter: line 3 column 291 (char 323)\n",
      "JSONDecodeError: Expecting ',' delimiter: line 3 column 421 (char 449)\n",
      "JSONDecodeError: Expecting ',' delimiter: line 3 column 327 (char 355)\n",
      "JSONDecodeError: Expecting ',' delimiter: line 3 column 248 (char 278)\n",
      "JSONDecodeError: Expecting ',' delimiter: line 3 column 507 (char 542)\n",
      "JSONDecodeError: Expecting ',' delimiter: line 3 column 569 (char 604)\n",
      "JSONDecodeError: Expecting ',' delimiter: line 3 column 430 (char 465)\n",
      "JSONDecodeError: Expecting ',' delimiter: line 3 column 377 (char 412)\n",
      "evaluations-qa11.csv saved\n"
     ]
    },
    {
     "name": "stderr",
     "output_type": "stream",
     "text": [
      "100%|███████████████████████████████████████████████████| 15/15 [00:38<00:00,  2.56s/it]\n"
     ]
    },
    {
     "name": "stdout",
     "output_type": "stream",
     "text": [
      "JSONDecodeError: Expecting ',' delimiter: line 3 column 374 (char 409)\n",
      "JSONDecodeError: Expecting ',' delimiter: line 3 column 249 (char 284)\n",
      "JSONDecodeError: Expecting ',' delimiter: line 3 column 447 (char 475)\n",
      "JSONDecodeError: Expecting ',' delimiter: line 3 column 397 (char 432)\n",
      "JSONDecodeError: Expecting ',' delimiter: line 3 column 484 (char 519)\n",
      "JSONDecodeError: Expecting ',' delimiter: line 3 column 317 (char 345)\n",
      "JSONDecodeError: Expecting value: line 1 column 1 (char 0)\n",
      "Failed to fix JSON string: Expecting value: line 1 column 1 (char 0)\n",
      "JSONDecodeError: Expecting ',' delimiter: line 3 column 366 (char 401)\n",
      "JSONDecodeError: Expecting ',' delimiter: line 3 column 309 (char 344)\n",
      "evaluations-qa12.csv saved\n"
     ]
    },
    {
     "name": "stderr",
     "output_type": "stream",
     "text": [
      "100%|███████████████████████████████████████████████████| 15/15 [00:38<00:00,  2.56s/it]\n"
     ]
    },
    {
     "name": "stdout",
     "output_type": "stream",
     "text": [
      "JSONDecodeError: Expecting ',' delimiter: line 3 column 174 (char 202)\n",
      "JSONDecodeError: Expecting ',' delimiter: line 3 column 449 (char 477)\n",
      "JSONDecodeError: Expecting ',' delimiter: line 3 column 322 (char 350)\n",
      "JSONDecodeError: Expecting ',' delimiter: line 3 column 312 (char 340)\n",
      "evaluations-qa13.csv saved\n"
     ]
    },
    {
     "name": "stderr",
     "output_type": "stream",
     "text": [
      "100%|███████████████████████████████████████████████████| 15/15 [00:38<00:00,  2.58s/it]\n"
     ]
    },
    {
     "name": "stdout",
     "output_type": "stream",
     "text": [
      "JSONDecodeError: Expecting ',' delimiter: line 3 column 216 (char 244)\n",
      "JSONDecodeError: Expecting ',' delimiter: line 3 column 264 (char 292)\n",
      "JSONDecodeError: Expecting ',' delimiter: line 3 column 314 (char 342)\n",
      "JSONDecodeError: Expecting ',' delimiter: line 3 column 352 (char 380)\n",
      "JSONDecodeError: Expecting ',' delimiter: line 3 column 305 (char 333)\n",
      "JSONDecodeError: Expecting ',' delimiter: line 3 column 280 (char 308)\n",
      "evaluations-qa14.csv saved\n"
     ]
    },
    {
     "name": "stderr",
     "output_type": "stream",
     "text": [
      "100%|███████████████████████████████████████████████████| 15/15 [00:38<00:00,  2.60s/it]\n"
     ]
    },
    {
     "name": "stdout",
     "output_type": "stream",
     "text": [
      "JSONDecodeError: Expecting ',' delimiter: line 3 column 389 (char 417)\n",
      "JSONDecodeError: Expecting ',' delimiter: line 3 column 351 (char 386)\n",
      "JSONDecodeError: Expecting ',' delimiter: line 3 column 303 (char 329)\n",
      "JSONDecodeError: Expecting value: line 1 column 1 (char 0)\n",
      "Failed to fix JSON string: Expecting value: line 1 column 1 (char 0)\n",
      "JSONDecodeError: Expecting ',' delimiter: line 3 column 172 (char 200)\n",
      "JSONDecodeError: Expecting ',' delimiter: line 3 column 364 (char 392)\n",
      "JSONDecodeError: Expecting ',' delimiter: line 3 column 209 (char 237)\n",
      "JSONDecodeError: Expecting ',' delimiter: line 3 column 316 (char 344)\n",
      "JSONDecodeError: Expecting ',' delimiter: line 3 column 187 (char 215)\n",
      "JSONDecodeError: Expecting ',' delimiter: line 3 column 253 (char 279)\n",
      "JSONDecodeError: Expecting ',' delimiter: line 3 column 330 (char 358)\n",
      "evaluations-qa15.csv saved\n"
     ]
    },
    {
     "name": "stderr",
     "output_type": "stream",
     "text": [
      "100%|████████████████████████████| 15/15 [00:38<00:00,  2.59s/it]\n"
     ]
    },
    {
     "name": "stdout",
     "output_type": "stream",
     "text": [
      "JSONDecodeError: Expecting ',' delimiter: line 3 column 374 (char 402)\n",
      "JSONDecodeError: Expecting ',' delimiter: line 3 column 532 (char 567)\n",
      "JSONDecodeError: Expecting ',' delimiter: line 3 column 411 (char 446)\n",
      "JSONDecodeError: Expecting ',' delimiter: line 3 column 286 (char 314)\n",
      "JSONDecodeError: Expecting ',' delimiter: line 3 column 394 (char 429)\n",
      "JSONDecodeError: Expecting ',' delimiter: line 3 column 472 (char 507)\n",
      "evaluations-qa16.csv saved\n"
     ]
    },
    {
     "name": "stderr",
     "output_type": "stream",
     "text": [
      "100%|████████████████████████████| 15/15 [00:38<00:00,  2.59s/it]\n"
     ]
    },
    {
     "name": "stdout",
     "output_type": "stream",
     "text": [
      "JSONDecodeError: Expecting value: line 1 column 1 (char 0)\n",
      "Failed to fix JSON string: Expecting value: line 1 column 1 (char 0)\n",
      "JSONDecodeError: Expecting ',' delimiter: line 3 column 321 (char 349)\n",
      "JSONDecodeError: Expecting ',' delimiter: line 3 column 508 (char 543)\n",
      "JSONDecodeError: Expecting ',' delimiter: line 3 column 311 (char 346)\n",
      "JSONDecodeError: Expecting ',' delimiter: line 3 column 322 (char 350)\n",
      "JSONDecodeError: Expecting ',' delimiter: line 3 column 218 (char 244)\n",
      "JSONDecodeError: Expecting ',' delimiter: line 3 column 490 (char 525)\n",
      "evaluations-qa17.csv saved\n"
     ]
    },
    {
     "name": "stderr",
     "output_type": "stream",
     "text": [
      "100%|████████████████████████████| 15/15 [00:39<00:00,  2.63s/it]\n"
     ]
    },
    {
     "name": "stdout",
     "output_type": "stream",
     "text": [
      "JSONDecodeError: Expecting value: line 1 column 1 (char 0)\n",
      "Failed to fix JSON string: Expecting value: line 1 column 1 (char 0)\n",
      "JSONDecodeError: Expecting ',' delimiter: line 3 column 336 (char 364)\n",
      "JSONDecodeError: Expecting ',' delimiter: line 3 column 451 (char 486)\n",
      "JSONDecodeError: Expecting ',' delimiter: line 3 column 311 (char 346)\n",
      "JSONDecodeError: Expecting ',' delimiter: line 3 column 319 (char 345)\n",
      "evaluations-qa18.csv saved\n"
     ]
    },
    {
     "name": "stderr",
     "output_type": "stream",
     "text": [
      "100%|███████████████████████████████████████████████████| 15/15 [00:37<00:00,  2.51s/it]\n"
     ]
    },
    {
     "name": "stdout",
     "output_type": "stream",
     "text": [
      "JSONDecodeError: Expecting ',' delimiter: line 3 column 469 (char 504)\n",
      "JSONDecodeError: Expecting ',' delimiter: line 3 column 243 (char 271)\n",
      "JSONDecodeError: Expecting ',' delimiter: line 3 column 381 (char 409)\n",
      "JSONDecodeError: Expecting ',' delimiter: line 3 column 292 (char 320)\n",
      "evaluations-qa19.csv saved\n"
     ]
    },
    {
     "name": "stderr",
     "output_type": "stream",
     "text": [
      "100%|███████████████████████████████████████████████████| 15/15 [00:38<00:00,  2.55s/it]\n"
     ]
    },
    {
     "name": "stdout",
     "output_type": "stream",
     "text": [
      "JSONDecodeError: Expecting ',' delimiter: line 3 column 373 (char 399)\n",
      "JSONDecodeError: Expecting ',' delimiter: line 3 column 414 (char 449)\n",
      "JSONDecodeError: Expecting ',' delimiter: line 3 column 395 (char 423)\n",
      "JSONDecodeError: Expecting ',' delimiter: line 3 column 303 (char 335)\n",
      "JSONDecodeError: Expecting ',' delimiter: line 3 column 270 (char 296)\n",
      "JSONDecodeError: Expecting ',' delimiter: line 3 column 306 (char 334)\n",
      "JSONDecodeError: Expecting value: line 1 column 1 (char 0)\n",
      "Failed to fix JSON string: Expecting value: line 1 column 1 (char 0)\n",
      "JSONDecodeError: Expecting ',' delimiter: line 3 column 275 (char 303)\n",
      "JSONDecodeError: Expecting ',' delimiter: line 3 column 460 (char 495)\n",
      "JSONDecodeError: Expecting ',' delimiter: line 3 column 261 (char 289)\n",
      "JSONDecodeError: Expecting ',' delimiter: line 3 column 330 (char 358)\n",
      "JSONDecodeError: Expecting ',' delimiter: line 3 column 275 (char 310)\n",
      "evaluations-qa20.csv saved\n"
     ]
    },
    {
     "name": "stderr",
     "output_type": "stream",
     "text": [
      "100%|███████████████████████████████████████████████████| 15/15 [00:38<00:00,  2.56s/it]\n"
     ]
    },
    {
     "name": "stdout",
     "output_type": "stream",
     "text": [
      "JSONDecodeError: Expecting ',' delimiter: line 3 column 240 (char 268)\n",
      "JSONDecodeError: Expecting ',' delimiter: line 3 column 209 (char 237)\n",
      "JSONDecodeError: Expecting ',' delimiter: line 3 column 257 (char 285)\n",
      "JSONDecodeError: Expecting ',' delimiter: line 3 column 467 (char 502)\n",
      "JSONDecodeError: Expecting ',' delimiter: line 3 column 250 (char 278)\n",
      "evaluations-qa21.csv saved\n"
     ]
    },
    {
     "name": "stderr",
     "output_type": "stream",
     "text": [
      "100%|███████████████████████████████████████████████████| 15/15 [00:38<00:00,  2.54s/it]\n"
     ]
    },
    {
     "name": "stdout",
     "output_type": "stream",
     "text": [
      "JSONDecodeError: Expecting ',' delimiter: line 3 column 174 (char 202)\n",
      "JSONDecodeError: Expecting ',' delimiter: line 3 column 290 (char 318)\n",
      "JSONDecodeError: Expecting value: line 1 column 1 (char 0)\n",
      "Failed to fix JSON string: Expecting value: line 1 column 1 (char 0)\n",
      "JSONDecodeError: Expecting ',' delimiter: line 3 column 223 (char 251)\n",
      "JSONDecodeError: Expecting ',' delimiter: line 3 column 301 (char 329)\n",
      "JSONDecodeError: Expecting ',' delimiter: line 3 column 244 (char 272)\n",
      "JSONDecodeError: Expecting ',' delimiter: line 3 column 492 (char 525)\n",
      "evaluations-qa22.csv saved\n"
     ]
    },
    {
     "name": "stderr",
     "output_type": "stream",
     "text": [
      "100%|███████████████████████████████████████████████████| 15/15 [00:38<00:00,  2.55s/it]\n"
     ]
    },
    {
     "name": "stdout",
     "output_type": "stream",
     "text": [
      "JSONDecodeError: Expecting ',' delimiter: line 3 column 205 (char 233)\n",
      "JSONDecodeError: Expecting value: line 1 column 1 (char 0)\n",
      "Failed to fix JSON string: Expecting value: line 1 column 1 (char 0)\n",
      "JSONDecodeError: Expecting ',' delimiter: line 3 column 423 (char 451)\n",
      "JSONDecodeError: Expecting ',' delimiter: line 3 column 320 (char 355)\n",
      "JSONDecodeError: Expecting ',' delimiter: line 3 column 320 (char 348)\n",
      "JSONDecodeError: Expecting ',' delimiter: line 3 column 252 (char 280)\n",
      "JSONDecodeError: Expecting ',' delimiter: line 3 column 244 (char 272)\n",
      "JSONDecodeError: Expecting ',' delimiter: line 3 column 213 (char 241)\n",
      "evaluations-qa23.csv saved\n"
     ]
    },
    {
     "name": "stderr",
     "output_type": "stream",
     "text": [
      "100%|███████████████████████████████████████████████████| 15/15 [00:39<00:00,  2.61s/it]\n"
     ]
    },
    {
     "name": "stdout",
     "output_type": "stream",
     "text": [
      "JSONDecodeError: Expecting ',' delimiter: line 3 column 317 (char 345)\n",
      "JSONDecodeError: Expecting ',' delimiter: line 3 column 184 (char 212)\n",
      "JSONDecodeError: Expecting ',' delimiter: line 3 column 355 (char 383)\n",
      "JSONDecodeError: Expecting ',' delimiter: line 3 column 332 (char 358)\n",
      "JSONDecodeError: Expecting ',' delimiter: line 3 column 337 (char 365)\n",
      "JSONDecodeError: Expecting ',' delimiter: line 3 column 345 (char 380)\n",
      "JSONDecodeError: Expecting ',' delimiter: line 3 column 239 (char 267)\n",
      "JSONDecodeError: Expecting ',' delimiter: line 3 column 407 (char 442)\n",
      "JSONDecodeError: Expecting ',' delimiter: line 3 column 269 (char 297)\n",
      "evaluations-qa24.csv saved\n"
     ]
    },
    {
     "name": "stderr",
     "output_type": "stream",
     "text": [
      "100%|███████████████████████████████████████████████████| 15/15 [00:38<00:00,  2.59s/it]\n"
     ]
    },
    {
     "name": "stdout",
     "output_type": "stream",
     "text": [
      "JSONDecodeError: Expecting ',' delimiter: line 3 column 384 (char 417)\n",
      "JSONDecodeError: Expecting ',' delimiter: line 3 column 407 (char 442)\n",
      "JSONDecodeError: Expecting ',' delimiter: line 3 column 580 (char 615)\n",
      "JSONDecodeError: Expecting ',' delimiter: line 3 column 439 (char 467)\n",
      "JSONDecodeError: Expecting value: line 1 column 1 (char 0)\n",
      "Failed to fix JSON string: Expecting value: line 1 column 1 (char 0)\n",
      "JSONDecodeError: Expecting ',' delimiter: line 3 column 437 (char 465)\n",
      "JSONDecodeError: Expecting ',' delimiter: line 3 column 293 (char 321)\n",
      "JSONDecodeError: Expecting ',' delimiter: line 3 column 298 (char 331)\n",
      "JSONDecodeError: Expecting ',' delimiter: line 3 column 218 (char 246)\n",
      "evaluations-qa25.csv saved\n"
     ]
    },
    {
     "name": "stderr",
     "output_type": "stream",
     "text": [
      "100%|███████████████████████████████████████████████████| 15/15 [00:38<00:00,  2.55s/it]\n"
     ]
    },
    {
     "name": "stdout",
     "output_type": "stream",
     "text": [
      "JSONDecodeError: Expecting ',' delimiter: line 3 column 293 (char 321)\n",
      "JSONDecodeError: Expecting ',' delimiter: line 3 column 234 (char 262)\n",
      "JSONDecodeError: Expecting ',' delimiter: line 3 column 311 (char 337)\n",
      "JSONDecodeError: Expecting ',' delimiter: line 3 column 209 (char 237)\n",
      "JSONDecodeError: Expecting ',' delimiter: line 3 column 248 (char 276)\n",
      "JSONDecodeError: Expecting ',' delimiter: line 3 column 205 (char 233)\n",
      "JSONDecodeError: Expecting ',' delimiter: line 3 column 285 (char 313)\n",
      "evaluations-qa26.csv saved\n"
     ]
    },
    {
     "name": "stderr",
     "output_type": "stream",
     "text": [
      "100%|███████████████████████████████████████████████████| 15/15 [00:38<00:00,  2.58s/it]\n"
     ]
    },
    {
     "name": "stdout",
     "output_type": "stream",
     "text": [
      "JSONDecodeError: Expecting ',' delimiter: line 3 column 278 (char 304)\n",
      "JSONDecodeError: Expecting ',' delimiter: line 3 column 303 (char 331)\n",
      "JSONDecodeError: Expecting ',' delimiter: line 3 column 225 (char 253)\n",
      "JSONDecodeError: Expecting ',' delimiter: line 3 column 288 (char 316)\n",
      "JSONDecodeError: Expecting ',' delimiter: line 3 column 289 (char 317)\n",
      "evaluations-qa27.csv saved\n"
     ]
    },
    {
     "name": "stderr",
     "output_type": "stream",
     "text": [
      "100%|████████████████████████████| 15/15 [00:38<00:00,  2.57s/it]\n"
     ]
    },
    {
     "name": "stdout",
     "output_type": "stream",
     "text": [
      "JSONDecodeError: Expecting ',' delimiter: line 3 column 213 (char 241)\n",
      "JSONDecodeError: Expecting ',' delimiter: line 3 column 259 (char 287)\n",
      "JSONDecodeError: Expecting ',' delimiter: line 3 column 318 (char 344)\n",
      "JSONDecodeError: Expecting value: line 1 column 1 (char 0)\n",
      "Failed to fix JSON string: Expecting value: line 1 column 1 (char 0)\n",
      "JSONDecodeError: Expecting ',' delimiter: line 3 column 179 (char 207)\n",
      "JSONDecodeError: Expecting value: line 1 column 1 (char 0)\n",
      "Failed to fix JSON string: Expecting value: line 1 column 1 (char 0)\n",
      "JSONDecodeError: Expecting ',' delimiter: line 3 column 310 (char 338)\n",
      "JSONDecodeError: Expecting ',' delimiter: line 3 column 334 (char 362)\n",
      "JSONDecodeError: Expecting ',' delimiter: line 3 column 280 (char 308)\n",
      "JSONDecodeError: Expecting ',' delimiter: line 3 column 264 (char 292)\n",
      "JSONDecodeError: Expecting ',' delimiter: line 3 column 290 (char 318)\n",
      "JSONDecodeError: Expecting ',' delimiter: line 3 column 418 (char 446)\n",
      "JSONDecodeError: Expecting ',' delimiter: line 3 column 335 (char 363)\n",
      "evaluations-qa28.csv saved\n"
     ]
    },
    {
     "name": "stderr",
     "output_type": "stream",
     "text": [
      "100%|████████████████████████████| 15/15 [00:39<00:00,  2.61s/it]\n"
     ]
    },
    {
     "name": "stdout",
     "output_type": "stream",
     "text": [
      "JSONDecodeError: Expecting ',' delimiter: line 3 column 287 (char 315)\n",
      "JSONDecodeError: Expecting ',' delimiter: line 3 column 202 (char 230)\n",
      "JSONDecodeError: Expecting ',' delimiter: line 3 column 201 (char 229)\n",
      "JSONDecodeError: Expecting ',' delimiter: line 3 column 296 (char 324)\n",
      "JSONDecodeError: Expecting ',' delimiter: line 3 column 318 (char 346)\n",
      "JSONDecodeError: Expecting ',' delimiter: line 3 column 440 (char 473)\n",
      "evaluations-qa29.csv saved\n"
     ]
    },
    {
     "name": "stderr",
     "output_type": "stream",
     "text": [
      "100%|████████████████████████████| 15/15 [00:38<00:00,  2.56s/it]\n"
     ]
    },
    {
     "name": "stdout",
     "output_type": "stream",
     "text": [
      "JSONDecodeError: Expecting ',' delimiter: line 3 column 330 (char 362)\n",
      "JSONDecodeError: Expecting ',' delimiter: line 3 column 381 (char 407)\n",
      "JSONDecodeError: Expecting ',' delimiter: line 3 column 262 (char 290)\n",
      "JSONDecodeError: Expecting ',' delimiter: line 3 column 445 (char 471)\n",
      "JSONDecodeError: Expecting ',' delimiter: line 3 column 291 (char 319)\n",
      "JSONDecodeError: Expecting ',' delimiter: line 3 column 247 (char 273)\n",
      "JSONDecodeError: Expecting value: line 1 column 1 (char 0)\n",
      "Failed to fix JSON string: Expecting value: line 1 column 1 (char 0)\n",
      "JSONDecodeError: Expecting ',' delimiter: line 3 column 500 (char 535)\n",
      "evaluations-qa30.csv saved\n"
     ]
    },
    {
     "name": "stderr",
     "output_type": "stream",
     "text": [
      "100%|████████████████████████████| 15/15 [00:38<00:00,  2.55s/it]\n"
     ]
    },
    {
     "name": "stdout",
     "output_type": "stream",
     "text": [
      "JSONDecodeError: Expecting ',' delimiter: line 3 column 225 (char 253)\n",
      "JSONDecodeError: Expecting ',' delimiter: line 3 column 275 (char 303)\n",
      "JSONDecodeError: Expecting ',' delimiter: line 3 column 358 (char 386)\n",
      "JSONDecodeError: Expecting ',' delimiter: line 3 column 190 (char 216)\n",
      "evaluations-qa31.csv saved\n"
     ]
    },
    {
     "name": "stderr",
     "output_type": "stream",
     "text": [
      "100%|████████████████████████████| 15/15 [00:39<00:00,  2.64s/it]\n"
     ]
    },
    {
     "name": "stdout",
     "output_type": "stream",
     "text": [
      "JSONDecodeError: Expecting ',' delimiter: line 3 column 468 (char 501)\n",
      "JSONDecodeError: Expecting ',' delimiter: line 3 column 455 (char 483)\n",
      "JSONDecodeError: Expecting ',' delimiter: line 3 column 347 (char 377)\n",
      "JSONDecodeError: Expecting ',' delimiter: line 3 column 308 (char 336)\n",
      "JSONDecodeError: Expecting ',' delimiter: line 3 column 344 (char 376)\n",
      "JSONDecodeError: Expecting ',' delimiter: line 3 column 294 (char 326)\n",
      "JSONDecodeError: Expecting ',' delimiter: line 3 column 456 (char 491)\n",
      "JSONDecodeError: Expecting ',' delimiter: line 3 column 426 (char 461)\n",
      "JSONDecodeError: Expecting ',' delimiter: line 3 column 381 (char 409)\n",
      "evaluations-qa32.csv saved\n"
     ]
    },
    {
     "name": "stderr",
     "output_type": "stream",
     "text": [
      "100%|████████████████████████████| 15/15 [00:38<00:00,  2.58s/it]\n"
     ]
    },
    {
     "name": "stdout",
     "output_type": "stream",
     "text": [
      "JSONDecodeError: Expecting value: line 1 column 1 (char 0)\n",
      "Failed to fix JSON string: Expecting value: line 1 column 1 (char 0)\n",
      "JSONDecodeError: Expecting ',' delimiter: line 3 column 297 (char 325)\n",
      "JSONDecodeError: Expecting ',' delimiter: line 3 column 434 (char 469)\n",
      "JSONDecodeError: Expecting ',' delimiter: line 3 column 351 (char 379)\n",
      "JSONDecodeError: Expecting ',' delimiter: line 3 column 345 (char 373)\n",
      "JSONDecodeError: Expecting ',' delimiter: line 3 column 395 (char 430)\n",
      "JSONDecodeError: Expecting ',' delimiter: line 3 column 197 (char 225)\n",
      "JSONDecodeError: Expecting ',' delimiter: line 3 column 391 (char 426)\n",
      "evaluations-qa33.csv saved\n"
     ]
    },
    {
     "name": "stderr",
     "output_type": "stream",
     "text": [
      "100%|███████████████████████████████████████████████████| 15/15 [00:39<00:00,  2.62s/it]\n"
     ]
    },
    {
     "name": "stdout",
     "output_type": "stream",
     "text": [
      "JSONDecodeError: Expecting ',' delimiter: line 3 column 328 (char 363)\n",
      "JSONDecodeError: Expecting ',' delimiter: line 3 column 354 (char 389)\n",
      "JSONDecodeError: Expecting ',' delimiter: line 3 column 211 (char 239)\n",
      "JSONDecodeError: Expecting value: line 1 column 1 (char 0)\n",
      "Failed to fix JSON string: Expecting value: line 1 column 1 (char 0)\n",
      "JSONDecodeError: Expecting ',' delimiter: line 3 column 180 (char 208)\n",
      "JSONDecodeError: Expecting ',' delimiter: line 3 column 307 (char 335)\n",
      "evaluations-qa34.csv saved\n"
     ]
    },
    {
     "name": "stderr",
     "output_type": "stream",
     "text": [
      "100%|███████████████████████████████████████████████████| 15/15 [00:39<00:00,  2.62s/it]\n"
     ]
    },
    {
     "name": "stdout",
     "output_type": "stream",
     "text": [
      "JSONDecodeError: Expecting value: line 1 column 1 (char 0)\n",
      "Failed to fix JSON string: Expecting value: line 1 column 1 (char 0)\n",
      "JSONDecodeError: Expecting ',' delimiter: line 3 column 296 (char 331)\n",
      "JSONDecodeError: Expecting ',' delimiter: line 3 column 440 (char 466)\n",
      "JSONDecodeError: Expecting ',' delimiter: line 3 column 332 (char 365)\n",
      "JSONDecodeError: Expecting ',' delimiter: line 3 column 245 (char 273)\n",
      "JSONDecodeError: Expecting ',' delimiter: line 3 column 221 (char 249)\n",
      "JSONDecodeError: Expecting ',' delimiter: line 3 column 309 (char 344)\n",
      "JSONDecodeError: Expecting ',' delimiter: line 3 column 290 (char 316)\n",
      "evaluations-qa35.csv saved\n"
     ]
    },
    {
     "name": "stderr",
     "output_type": "stream",
     "text": [
      "100%|███████████████████████████████████████████████████| 15/15 [00:38<00:00,  2.58s/it]\n"
     ]
    },
    {
     "name": "stdout",
     "output_type": "stream",
     "text": [
      "JSONDecodeError: Expecting ',' delimiter: line 3 column 602 (char 628)\n",
      "JSONDecodeError: Expecting ',' delimiter: line 3 column 251 (char 279)\n",
      "JSONDecodeError: Expecting ',' delimiter: line 3 column 331 (char 359)\n",
      "JSONDecodeError: Expecting ',' delimiter: line 3 column 203 (char 231)\n",
      "JSONDecodeError: Expecting ',' delimiter: line 3 column 189 (char 217)\n",
      "JSONDecodeError: Expecting ',' delimiter: line 3 column 349 (char 377)\n",
      "JSONDecodeError: Expecting ',' delimiter: line 3 column 255 (char 281)\n",
      "JSONDecodeError: Expecting ',' delimiter: line 3 column 373 (char 399)\n",
      "JSONDecodeError: Expecting ',' delimiter: line 3 column 210 (char 238)\n",
      "evaluations-qa36.csv saved\n"
     ]
    },
    {
     "name": "stderr",
     "output_type": "stream",
     "text": [
      "100%|███████████████████████████████████████████████████| 15/15 [00:39<00:00,  2.62s/it]\n"
     ]
    },
    {
     "name": "stdout",
     "output_type": "stream",
     "text": [
      "JSONDecodeError: Expecting ',' delimiter: line 3 column 346 (char 374)\n",
      "JSONDecodeError: Expecting ',' delimiter: line 3 column 325 (char 353)\n",
      "JSONDecodeError: Expecting ',' delimiter: line 3 column 326 (char 354)\n",
      "JSONDecodeError: Expecting ',' delimiter: line 3 column 436 (char 469)\n",
      "JSONDecodeError: Expecting ',' delimiter: line 3 column 268 (char 303)\n",
      "JSONDecodeError: Expecting ',' delimiter: line 3 column 281 (char 313)\n",
      "evaluations-qa37.csv saved\n"
     ]
    },
    {
     "name": "stderr",
     "output_type": "stream",
     "text": [
      "100%|████████████████████████████| 15/15 [00:38<00:00,  2.57s/it]\n"
     ]
    },
    {
     "name": "stdout",
     "output_type": "stream",
     "text": [
      "JSONDecodeError: Expecting ',' delimiter: line 3 column 250 (char 278)\n",
      "JSONDecodeError: Expecting ',' delimiter: line 3 column 343 (char 376)\n",
      "JSONDecodeError: Expecting ',' delimiter: line 3 column 170 (char 198)\n",
      "JSONDecodeError: Expecting ',' delimiter: line 3 column 206 (char 234)\n",
      "JSONDecodeError: Expecting ',' delimiter: line 3 column 340 (char 368)\n",
      "JSONDecodeError: Expecting ',' delimiter: line 3 column 371 (char 406)\n",
      "JSONDecodeError: Expecting ',' delimiter: line 3 column 295 (char 330)\n",
      "JSONDecodeError: Expecting ',' delimiter: line 3 column 312 (char 340)\n",
      "JSONDecodeError: Expecting ',' delimiter: line 3 column 253 (char 281)\n",
      "evaluations-qa38.csv saved\n"
     ]
    },
    {
     "name": "stderr",
     "output_type": "stream",
     "text": [
      "100%|███████████████████████████████████████████████████| 15/15 [00:38<00:00,  2.58s/it]\n"
     ]
    },
    {
     "name": "stdout",
     "output_type": "stream",
     "text": [
      "JSONDecodeError: Expecting ',' delimiter: line 3 column 244 (char 272)\n",
      "JSONDecodeError: Expecting ',' delimiter: line 3 column 177 (char 205)\n",
      "JSONDecodeError: Expecting ',' delimiter: line 3 column 226 (char 254)\n",
      "JSONDecodeError: Expecting ',' delimiter: line 3 column 186 (char 214)\n",
      "JSONDecodeError: Expecting ',' delimiter: line 3 column 288 (char 316)\n",
      "JSONDecodeError: Expecting ',' delimiter: line 3 column 232 (char 260)\n",
      "JSONDecodeError: Expecting ',' delimiter: line 3 column 285 (char 313)\n",
      "evaluations-qa39.csv saved\n"
     ]
    },
    {
     "name": "stderr",
     "output_type": "stream",
     "text": [
      "100%|███████████████████████████████████████████████████| 15/15 [00:38<00:00,  2.56s/it]\n"
     ]
    },
    {
     "name": "stdout",
     "output_type": "stream",
     "text": [
      "JSONDecodeError: Expecting ',' delimiter: line 3 column 300 (char 328)\n",
      "JSONDecodeError: Expecting ',' delimiter: line 3 column 301 (char 329)\n",
      "JSONDecodeError: Expecting ',' delimiter: line 3 column 242 (char 270)\n",
      "JSONDecodeError: Expecting ',' delimiter: line 3 column 301 (char 329)\n",
      "JSONDecodeError: Expecting ',' delimiter: line 3 column 294 (char 322)\n",
      "JSONDecodeError: Expecting ',' delimiter: line 3 column 222 (char 250)\n",
      "JSONDecodeError: Expecting ',' delimiter: line 3 column 209 (char 235)\n",
      "JSONDecodeError: Expecting value: line 1 column 1 (char 0)\n",
      "Failed to fix JSON string: Expecting value: line 1 column 1 (char 0)\n",
      "JSONDecodeError: Expecting ',' delimiter: line 3 column 296 (char 324)\n",
      "JSONDecodeError: Expecting ',' delimiter: line 3 column 420 (char 446)\n",
      "JSONDecodeError: Expecting ',' delimiter: line 3 column 334 (char 362)\n",
      "evaluations-qa40.csv saved\n"
     ]
    },
    {
     "name": "stderr",
     "output_type": "stream",
     "text": [
      "100%|███████████████████████████████████████████████████| 15/15 [00:38<00:00,  2.59s/it]\n"
     ]
    },
    {
     "name": "stdout",
     "output_type": "stream",
     "text": [
      "JSONDecodeError: Expecting ',' delimiter: line 3 column 319 (char 354)\n",
      "JSONDecodeError: Expecting ',' delimiter: line 3 column 258 (char 286)\n",
      "JSONDecodeError: Expecting ',' delimiter: line 3 column 362 (char 390)\n",
      "JSONDecodeError: Expecting ',' delimiter: line 3 column 237 (char 265)\n",
      "JSONDecodeError: Expecting ',' delimiter: line 3 column 311 (char 339)\n",
      "JSONDecodeError: Expecting ',' delimiter: line 3 column 399 (char 427)\n",
      "JSONDecodeError: Expecting ',' delimiter: line 3 column 203 (char 231)\n",
      "JSONDecodeError: Expecting ',' delimiter: line 3 column 246 (char 272)\n",
      "JSONDecodeError: Expecting ',' delimiter: line 3 column 352 (char 380)\n",
      "JSONDecodeError: Expecting ',' delimiter: line 3 column 282 (char 308)\n",
      "evaluations-qa41.csv saved\n"
     ]
    },
    {
     "name": "stderr",
     "output_type": "stream",
     "text": [
      "100%|███████████████████████████████████████████████████| 15/15 [00:38<00:00,  2.57s/it]\n"
     ]
    },
    {
     "name": "stdout",
     "output_type": "stream",
     "text": [
      "JSONDecodeError: Expecting ',' delimiter: line 3 column 263 (char 291)\n",
      "JSONDecodeError: Expecting ',' delimiter: line 3 column 243 (char 271)\n",
      "JSONDecodeError: Expecting ',' delimiter: line 3 column 159 (char 185)\n",
      "JSONDecodeError: Expecting ',' delimiter: line 3 column 402 (char 437)\n",
      "JSONDecodeError: Expecting ',' delimiter: line 3 column 220 (char 248)\n",
      "JSONDecodeError: Expecting ',' delimiter: line 3 column 198 (char 226)\n",
      "JSONDecodeError: Expecting ',' delimiter: line 3 column 299 (char 331)\n",
      "evaluations-qa42.csv saved\n"
     ]
    },
    {
     "name": "stderr",
     "output_type": "stream",
     "text": [
      "100%|███████████████████████████████████████████████████| 15/15 [00:39<00:00,  2.65s/it]\n"
     ]
    },
    {
     "name": "stdout",
     "output_type": "stream",
     "text": [
      "JSONDecodeError: Expecting ',' delimiter: line 3 column 495 (char 530)\n",
      "JSONDecodeError: Expecting ',' delimiter: line 3 column 307 (char 342)\n",
      "evaluations-qa43.csv saved\n"
     ]
    },
    {
     "name": "stderr",
     "output_type": "stream",
     "text": [
      "100%|███████████████████████████████████████████████████| 15/15 [00:39<00:00,  2.61s/it]\n"
     ]
    },
    {
     "name": "stdout",
     "output_type": "stream",
     "text": [
      "JSONDecodeError: Expecting ',' delimiter: line 3 column 270 (char 298)\n",
      "JSONDecodeError: Expecting ',' delimiter: line 3 column 264 (char 292)\n",
      "JSONDecodeError: Expecting ',' delimiter: line 3 column 330 (char 365)\n",
      "JSONDecodeError: Expecting ',' delimiter: line 3 column 419 (char 454)\n",
      "JSONDecodeError: Expecting ',' delimiter: line 3 column 299 (char 327)\n",
      "JSONDecodeError: Expecting ',' delimiter: line 3 column 248 (char 276)\n",
      "JSONDecodeError: Expecting ',' delimiter: line 3 column 267 (char 295)\n",
      "JSONDecodeError: Expecting ',' delimiter: line 3 column 261 (char 289)\n",
      "JSONDecodeError: Expecting ',' delimiter: line 3 column 394 (char 422)\n",
      "evaluations-qa44.csv saved\n"
     ]
    },
    {
     "name": "stderr",
     "output_type": "stream",
     "text": [
      "100%|███████████████████████████████████████████████████| 15/15 [00:39<00:00,  2.61s/it]\n"
     ]
    },
    {
     "name": "stdout",
     "output_type": "stream",
     "text": [
      "JSONDecodeError: Expecting ',' delimiter: line 3 column 409 (char 437)\n",
      "JSONDecodeError: Expecting ',' delimiter: line 3 column 358 (char 386)\n",
      "JSONDecodeError: Expecting ',' delimiter: line 3 column 293 (char 328)\n",
      "JSONDecodeError: Expecting value: line 1 column 1 (char 0)\n",
      "Failed to fix JSON string: Expecting value: line 1 column 1 (char 0)\n",
      "JSONDecodeError: Expecting ',' delimiter: line 3 column 268 (char 296)\n",
      "JSONDecodeError: Expecting ',' delimiter: line 3 column 328 (char 361)\n",
      "JSONDecodeError: Expecting ',' delimiter: line 3 column 396 (char 424)\n",
      "evaluations-qa45.csv saved\n"
     ]
    },
    {
     "name": "stderr",
     "output_type": "stream",
     "text": [
      "100%|███████████████████████████████████████████████████| 15/15 [00:39<00:00,  2.61s/it]\n"
     ]
    },
    {
     "name": "stdout",
     "output_type": "stream",
     "text": [
      "JSONDecodeError: Expecting ',' delimiter: line 3 column 396 (char 431)\n",
      "JSONDecodeError: Expecting ',' delimiter: line 3 column 295 (char 323)\n",
      "JSONDecodeError: Expecting ',' delimiter: line 3 column 280 (char 308)\n",
      "JSONDecodeError: Expecting ',' delimiter: line 3 column 298 (char 326)\n",
      "JSONDecodeError: Expecting ',' delimiter: line 3 column 479 (char 507)\n",
      "JSONDecodeError: Expecting ',' delimiter: line 3 column 438 (char 466)\n",
      "JSONDecodeError: Expecting ',' delimiter: line 3 column 312 (char 340)\n",
      "JSONDecodeError: Expecting ',' delimiter: line 3 column 481 (char 516)\n",
      "JSONDecodeError: Expecting ',' delimiter: line 3 column 511 (char 539)\n",
      "evaluations-qa46.csv saved\n"
     ]
    },
    {
     "name": "stderr",
     "output_type": "stream",
     "text": [
      "100%|███████████████████████████████████████████████████| 15/15 [00:38<00:00,  2.57s/it]\n"
     ]
    },
    {
     "name": "stdout",
     "output_type": "stream",
     "text": [
      "JSONDecodeError: Expecting ',' delimiter: line 3 column 368 (char 400)\n",
      "JSONDecodeError: Expecting ',' delimiter: line 3 column 387 (char 415)\n",
      "JSONDecodeError: Expecting ',' delimiter: line 3 column 482 (char 517)\n",
      "JSONDecodeError: Expecting value: line 1 column 1 (char 0)\n",
      "Failed to fix JSON string: Expecting value: line 1 column 1 (char 0)\n",
      "JSONDecodeError: Expecting ',' delimiter: line 3 column 528 (char 563)\n",
      "JSONDecodeError: Expecting ',' delimiter: line 3 column 385 (char 420)\n",
      "JSONDecodeError: Expecting ',' delimiter: line 3 column 263 (char 298)\n",
      "evaluations-qa47.csv saved\n"
     ]
    },
    {
     "name": "stderr",
     "output_type": "stream",
     "text": [
      "100%|████████████████████████████| 15/15 [00:38<00:00,  2.60s/it]\n"
     ]
    },
    {
     "name": "stdout",
     "output_type": "stream",
     "text": [
      "JSONDecodeError: Expecting ',' delimiter: line 3 column 353 (char 381)\n",
      "JSONDecodeError: Expecting ',' delimiter: line 3 column 338 (char 366)\n",
      "JSONDecodeError: Expecting ',' delimiter: line 3 column 198 (char 233)\n",
      "JSONDecodeError: Expecting ',' delimiter: line 3 column 360 (char 388)\n",
      "JSONDecodeError: Expecting ',' delimiter: line 3 column 424 (char 459)\n",
      "JSONDecodeError: Expecting ',' delimiter: line 3 column 397 (char 423)\n",
      "evaluations-qa48.csv saved\n"
     ]
    },
    {
     "name": "stderr",
     "output_type": "stream",
     "text": [
      "100%|████████████████████████████| 15/15 [00:38<00:00,  2.57s/it]\n"
     ]
    },
    {
     "name": "stdout",
     "output_type": "stream",
     "text": [
      "JSONDecodeError: Expecting ',' delimiter: line 3 column 313 (char 345)\n",
      "JSONDecodeError: Expecting ',' delimiter: line 3 column 169 (char 197)\n",
      "JSONDecodeError: Expecting ',' delimiter: line 3 column 239 (char 271)\n",
      "JSONDecodeError: Expecting ',' delimiter: line 3 column 288 (char 314)\n",
      "JSONDecodeError: Expecting ',' delimiter: line 3 column 263 (char 291)\n",
      "JSONDecodeError: Expecting ',' delimiter: line 3 column 214 (char 242)\n",
      "JSONDecodeError: Expecting ',' delimiter: line 3 column 240 (char 266)\n",
      "JSONDecodeError: Expecting ',' delimiter: line 3 column 298 (char 326)\n",
      "JSONDecodeError: Expecting ',' delimiter: line 3 column 328 (char 356)\n",
      "evaluations-qa49.csv saved\n"
     ]
    },
    {
     "name": "stderr",
     "output_type": "stream",
     "text": [
      "100%|████████████████████████████| 15/15 [00:38<00:00,  2.59s/it]\n"
     ]
    },
    {
     "name": "stdout",
     "output_type": "stream",
     "text": [
      "JSONDecodeError: Expecting ',' delimiter: line 3 column 258 (char 286)\n",
      "JSONDecodeError: Expecting ',' delimiter: line 3 column 416 (char 444)\n",
      "JSONDecodeError: Expecting ',' delimiter: line 3 column 523 (char 558)\n",
      "JSONDecodeError: Expecting ',' delimiter: line 3 column 378 (char 406)\n",
      "JSONDecodeError: Expecting ',' delimiter: line 3 column 433 (char 468)\n",
      "JSONDecodeError: Expecting ',' delimiter: line 3 column 349 (char 377)\n",
      "JSONDecodeError: Expecting ',' delimiter: line 3 column 329 (char 357)\n",
      "JSONDecodeError: Expecting ',' delimiter: line 3 column 215 (char 243)\n",
      "evaluations-qa50.csv saved\n"
     ]
    },
    {
     "name": "stderr",
     "output_type": "stream",
     "text": [
      "100%|████████████████████████████| 15/15 [00:38<00:00,  2.57s/it]\n"
     ]
    },
    {
     "name": "stdout",
     "output_type": "stream",
     "text": [
      "JSONDecodeError: Expecting ',' delimiter: line 3 column 297 (char 327)\n",
      "JSONDecodeError: Expecting ',' delimiter: line 3 column 251 (char 279)\n",
      "JSONDecodeError: Expecting ',' delimiter: line 3 column 300 (char 328)\n",
      "JSONDecodeError: Expecting ',' delimiter: line 3 column 343 (char 378)\n",
      "JSONDecodeError: Expecting ',' delimiter: line 3 column 251 (char 279)\n",
      "JSONDecodeError: Expecting ',' delimiter: line 3 column 401 (char 429)\n",
      "JSONDecodeError: Expecting ',' delimiter: line 3 column 466 (char 501)\n",
      "JSONDecodeError: Expecting ',' delimiter: line 3 column 390 (char 425)\n",
      "evaluations-qa51.csv saved\n"
     ]
    },
    {
     "name": "stderr",
     "output_type": "stream",
     "text": [
      "100%|████████████████████████████| 15/15 [00:39<00:00,  2.61s/it]\n"
     ]
    },
    {
     "name": "stdout",
     "output_type": "stream",
     "text": [
      "JSONDecodeError: Expecting ',' delimiter: line 3 column 275 (char 308)\n",
      "JSONDecodeError: Expecting ',' delimiter: line 3 column 284 (char 310)\n",
      "JSONDecodeError: Expecting ',' delimiter: line 3 column 238 (char 266)\n",
      "JSONDecodeError: Expecting ',' delimiter: line 3 column 234 (char 262)\n",
      "JSONDecodeError: Expecting ',' delimiter: line 3 column 504 (char 530)\n",
      "JSONDecodeError: Expecting ',' delimiter: line 3 column 235 (char 270)\n",
      "JSONDecodeError: Expecting ',' delimiter: line 3 column 473 (char 508)\n",
      "JSONDecodeError: Expecting ',' delimiter: line 3 column 378 (char 413)\n",
      "evaluations-qa52.csv saved\n"
     ]
    },
    {
     "name": "stderr",
     "output_type": "stream",
     "text": [
      "100%|███████████████████████████████████████████████████| 15/15 [00:39<00:00,  2.62s/it]\n"
     ]
    },
    {
     "name": "stdout",
     "output_type": "stream",
     "text": [
      "JSONDecodeError: Expecting ',' delimiter: line 3 column 205 (char 233)\n",
      "JSONDecodeError: Expecting ',' delimiter: line 3 column 239 (char 267)\n",
      "JSONDecodeError: Expecting ',' delimiter: line 3 column 304 (char 332)\n",
      "JSONDecodeError: Expecting value: line 1 column 1 (char 0)\n",
      "Failed to fix JSON string: Expecting value: line 1 column 1 (char 0)\n",
      "JSONDecodeError: Expecting ',' delimiter: line 3 column 320 (char 346)\n",
      "JSONDecodeError: Expecting ',' delimiter: line 3 column 423 (char 449)\n",
      "JSONDecodeError: Expecting ',' delimiter: line 3 column 260 (char 288)\n",
      "evaluations-qa53.csv saved\n"
     ]
    },
    {
     "name": "stderr",
     "output_type": "stream",
     "text": [
      "100%|███████████████████████████████████████████████████| 15/15 [00:39<00:00,  2.60s/it]\n"
     ]
    },
    {
     "name": "stdout",
     "output_type": "stream",
     "text": [
      "JSONDecodeError: Expecting ',' delimiter: line 3 column 282 (char 310)\n",
      "JSONDecodeError: Expecting ',' delimiter: line 3 column 259 (char 287)\n",
      "JSONDecodeError: Expecting ',' delimiter: line 3 column 251 (char 279)\n",
      "JSONDecodeError: Expecting ',' delimiter: line 3 column 283 (char 311)\n",
      "JSONDecodeError: Expecting ',' delimiter: line 3 column 412 (char 447)\n",
      "JSONDecodeError: Expecting ',' delimiter: line 3 column 462 (char 490)\n",
      "evaluations-qa54.csv saved\n"
     ]
    },
    {
     "name": "stderr",
     "output_type": "stream",
     "text": [
      "100%|███████████████████████████████████████████████████| 15/15 [00:38<00:00,  2.58s/it]\n"
     ]
    },
    {
     "name": "stdout",
     "output_type": "stream",
     "text": [
      "JSONDecodeError: Expecting ',' delimiter: line 3 column 310 (char 338)\n",
      "JSONDecodeError: Expecting ',' delimiter: line 3 column 188 (char 216)\n",
      "JSONDecodeError: Expecting ',' delimiter: line 3 column 335 (char 367)\n",
      "JSONDecodeError: Expecting ',' delimiter: line 3 column 301 (char 329)\n",
      "JSONDecodeError: Expecting ',' delimiter: line 3 column 276 (char 304)\n",
      "JSONDecodeError: Expecting ',' delimiter: line 3 column 244 (char 276)\n",
      "JSONDecodeError: Expecting ',' delimiter: line 3 column 422 (char 455)\n",
      "JSONDecodeError: Expecting ',' delimiter: line 3 column 233 (char 261)\n",
      "JSONDecodeError: Expecting ',' delimiter: line 3 column 328 (char 361)\n",
      "JSONDecodeError: Expecting ',' delimiter: line 3 column 469 (char 504)\n",
      "evaluations-qa55.csv saved\n"
     ]
    },
    {
     "name": "stderr",
     "output_type": "stream",
     "text": [
      "100%|███████████████████████████████████████████████████| 15/15 [00:39<00:00,  2.61s/it]\n"
     ]
    },
    {
     "name": "stdout",
     "output_type": "stream",
     "text": [
      "JSONDecodeError: Expecting ',' delimiter: line 3 column 459 (char 494)\n",
      "JSONDecodeError: Expecting ',' delimiter: line 3 column 311 (char 337)\n",
      "JSONDecodeError: Expecting ',' delimiter: line 3 column 293 (char 326)\n",
      "JSONDecodeError: Expecting ',' delimiter: line 3 column 498 (char 526)\n",
      "JSONDecodeError: Expecting ',' delimiter: line 3 column 266 (char 294)\n",
      "JSONDecodeError: Expecting ',' delimiter: line 3 column 400 (char 433)\n",
      "JSONDecodeError: Expecting ',' delimiter: line 3 column 235 (char 270)\n",
      "evaluations-qa56.csv saved\n"
     ]
    },
    {
     "name": "stderr",
     "output_type": "stream",
     "text": [
      "100%|████████████████████████████| 15/15 [00:38<00:00,  2.57s/it]\n"
     ]
    },
    {
     "name": "stdout",
     "output_type": "stream",
     "text": [
      "JSONDecodeError: Expecting ',' delimiter: line 3 column 360 (char 388)\n",
      "JSONDecodeError: Expecting ',' delimiter: line 3 column 290 (char 320)\n",
      "JSONDecodeError: Expecting ',' delimiter: line 3 column 303 (char 335)\n",
      "JSONDecodeError: Expecting ',' delimiter: line 3 column 312 (char 344)\n",
      "JSONDecodeError: Expecting ',' delimiter: line 3 column 277 (char 305)\n",
      "JSONDecodeError: Expecting ',' delimiter: line 3 column 299 (char 327)\n",
      "JSONDecodeError: Expecting ',' delimiter: line 3 column 448 (char 476)\n",
      "JSONDecodeError: Expecting ',' delimiter: line 3 column 178 (char 206)\n",
      "JSONDecodeError: Expecting ',' delimiter: line 3 column 272 (char 307)\n",
      "evaluations-qa57.csv saved\n"
     ]
    },
    {
     "name": "stderr",
     "output_type": "stream",
     "text": [
      "100%|████████████████████████████| 15/15 [00:39<00:00,  2.62s/it]\n"
     ]
    },
    {
     "name": "stdout",
     "output_type": "stream",
     "text": [
      "JSONDecodeError: Expecting ',' delimiter: line 3 column 311 (char 346)\n",
      "JSONDecodeError: Expecting ',' delimiter: line 3 column 300 (char 326)\n",
      "JSONDecodeError: Expecting ',' delimiter: line 3 column 542 (char 577)\n",
      "JSONDecodeError: Expecting ',' delimiter: line 3 column 207 (char 235)\n",
      "JSONDecodeError: Expecting ',' delimiter: line 3 column 285 (char 320)\n",
      "JSONDecodeError: Expecting ',' delimiter: line 3 column 326 (char 354)\n",
      "evaluations-qa58.csv saved\n"
     ]
    },
    {
     "name": "stderr",
     "output_type": "stream",
     "text": [
      "100%|███████████████████████████████████████████████████| 15/15 [00:38<00:00,  2.56s/it]\n"
     ]
    },
    {
     "name": "stdout",
     "output_type": "stream",
     "text": [
      "JSONDecodeError: Expecting ',' delimiter: line 3 column 526 (char 559)\n",
      "JSONDecodeError: Expecting ',' delimiter: line 3 column 342 (char 377)\n",
      "JSONDecodeError: Expecting ',' delimiter: line 3 column 288 (char 314)\n",
      "JSONDecodeError: Expecting ',' delimiter: line 3 column 410 (char 438)\n",
      "JSONDecodeError: Expecting ',' delimiter: line 3 column 306 (char 334)\n",
      "JSONDecodeError: Expecting value: line 1 column 1 (char 0)\n",
      "Failed to fix JSON string: Expecting value: line 1 column 1 (char 0)\n",
      "evaluations-qa59.csv saved\n"
     ]
    },
    {
     "name": "stderr",
     "output_type": "stream",
     "text": [
      "100%|███████████████████████████████████████████████████| 15/15 [00:38<00:00,  2.59s/it]\n"
     ]
    },
    {
     "name": "stdout",
     "output_type": "stream",
     "text": [
      "JSONDecodeError: Expecting ',' delimiter: line 3 column 398 (char 433)\n",
      "JSONDecodeError: Expecting ',' delimiter: line 3 column 304 (char 330)\n",
      "JSONDecodeError: Expecting ',' delimiter: line 3 column 582 (char 617)\n",
      "JSONDecodeError: Expecting ',' delimiter: line 3 column 254 (char 282)\n",
      "JSONDecodeError: Expecting ',' delimiter: line 3 column 505 (char 540)\n",
      "JSONDecodeError: Expecting ',' delimiter: line 3 column 333 (char 368)\n",
      "evaluations-qa60.csv saved\n"
     ]
    },
    {
     "name": "stderr",
     "output_type": "stream",
     "text": [
      "100%|███████████████████████████████████████████████████| 15/15 [00:39<00:00,  2.60s/it]\n"
     ]
    },
    {
     "name": "stdout",
     "output_type": "stream",
     "text": [
      "JSONDecodeError: Expecting ',' delimiter: line 3 column 268 (char 296)\n",
      "JSONDecodeError: Expecting ',' delimiter: line 3 column 209 (char 237)\n",
      "JSONDecodeError: Expecting ',' delimiter: line 3 column 162 (char 190)\n",
      "JSONDecodeError: Expecting ',' delimiter: line 3 column 232 (char 258)\n",
      "JSONDecodeError: Expecting ',' delimiter: line 3 column 342 (char 370)\n",
      "JSONDecodeError: Expecting ',' delimiter: line 3 column 308 (char 343)\n",
      "JSONDecodeError: Expecting ',' delimiter: line 3 column 226 (char 254)\n",
      "JSONDecodeError: Expecting ',' delimiter: line 3 column 343 (char 378)\n",
      "evaluations-qa61.csv saved\n"
     ]
    },
    {
     "name": "stderr",
     "output_type": "stream",
     "text": [
      "100%|███████████████████████████████████████████████████| 15/15 [00:38<00:00,  2.56s/it]\n"
     ]
    },
    {
     "name": "stdout",
     "output_type": "stream",
     "text": [
      "JSONDecodeError: Expecting ',' delimiter: line 3 column 431 (char 466)\n",
      "JSONDecodeError: Expecting ',' delimiter: line 3 column 301 (char 327)\n",
      "JSONDecodeError: Expecting ',' delimiter: line 3 column 385 (char 415)\n",
      "JSONDecodeError: Expecting value: line 1 column 1 (char 0)\n",
      "Failed to fix JSON string: Expecting value: line 1 column 1 (char 0)\n",
      "JSONDecodeError: Expecting ',' delimiter: line 3 column 297 (char 325)\n",
      "JSONDecodeError: Expecting ',' delimiter: line 3 column 262 (char 290)\n",
      "JSONDecodeError: Expecting ',' delimiter: line 3 column 346 (char 381)\n",
      "JSONDecodeError: Expecting ',' delimiter: line 3 column 226 (char 254)\n",
      "JSONDecodeError: Expecting ',' delimiter: line 3 column 262 (char 290)\n",
      "JSONDecodeError: Expecting ',' delimiter: line 3 column 249 (char 277)\n",
      "evaluations-qa62.csv saved\n"
     ]
    },
    {
     "name": "stderr",
     "output_type": "stream",
     "text": [
      "100%|███████████████████████████████████████████████████| 15/15 [00:39<00:00,  2.61s/it]\n"
     ]
    },
    {
     "name": "stdout",
     "output_type": "stream",
     "text": [
      "JSONDecodeError: Expecting ',' delimiter: line 3 column 329 (char 357)\n",
      "JSONDecodeError: Expecting ',' delimiter: line 3 column 264 (char 292)\n",
      "JSONDecodeError: Expecting ',' delimiter: line 3 column 252 (char 280)\n",
      "JSONDecodeError: Expecting ',' delimiter: line 3 column 348 (char 383)\n",
      "JSONDecodeError: Expecting ',' delimiter: line 3 column 324 (char 359)\n",
      "JSONDecodeError: Expecting ',' delimiter: line 3 column 357 (char 392)\n",
      "JSONDecodeError: Expecting ',' delimiter: line 3 column 447 (char 482)\n",
      "evaluations-qa63.csv saved\n"
     ]
    },
    {
     "name": "stderr",
     "output_type": "stream",
     "text": [
      "100%|███████████████████████████████████████████████████| 15/15 [00:38<00:00,  2.59s/it]\n"
     ]
    },
    {
     "name": "stdout",
     "output_type": "stream",
     "text": [
      "JSONDecodeError: Expecting ',' delimiter: line 3 column 300 (char 328)\n",
      "JSONDecodeError: Expecting ',' delimiter: line 3 column 257 (char 285)\n",
      "JSONDecodeError: Expecting ',' delimiter: line 3 column 223 (char 251)\n",
      "JSONDecodeError: Expecting ',' delimiter: line 3 column 314 (char 342)\n",
      "JSONDecodeError: Expecting ',' delimiter: line 3 column 280 (char 308)\n",
      "JSONDecodeError: Expecting ',' delimiter: line 3 column 226 (char 258)\n",
      "JSONDecodeError: Expecting ',' delimiter: line 3 column 353 (char 385)\n",
      "JSONDecodeError: Expecting ',' delimiter: line 3 column 216 (char 248)\n",
      "JSONDecodeError: Expecting ',' delimiter: line 3 column 328 (char 361)\n",
      "evaluations-qa64.csv saved\n"
     ]
    },
    {
     "name": "stderr",
     "output_type": "stream",
     "text": [
      "100%|███████████████████████████████████████████████████| 15/15 [00:39<00:00,  2.62s/it]\n"
     ]
    },
    {
     "name": "stdout",
     "output_type": "stream",
     "text": [
      "JSONDecodeError: Expecting ',' delimiter: line 3 column 308 (char 334)\n",
      "JSONDecodeError: Expecting ',' delimiter: line 3 column 561 (char 589)\n",
      "JSONDecodeError: Expecting ',' delimiter: line 3 column 299 (char 325)\n",
      "JSONDecodeError: Expecting ',' delimiter: line 3 column 409 (char 444)\n",
      "JSONDecodeError: Expecting ',' delimiter: line 3 column 330 (char 358)\n",
      "JSONDecodeError: Expecting ',' delimiter: line 3 column 334 (char 362)\n",
      "evaluations-qa65.csv saved\n"
     ]
    },
    {
     "name": "stderr",
     "output_type": "stream",
     "text": [
      "100%|███████████████████████████████████████████████████| 15/15 [00:38<00:00,  2.60s/it]\n"
     ]
    },
    {
     "name": "stdout",
     "output_type": "stream",
     "text": [
      "JSONDecodeError: Expecting ',' delimiter: line 3 column 272 (char 298)\n",
      "JSONDecodeError: Expecting ',' delimiter: line 3 column 252 (char 280)\n",
      "JSONDecodeError: Expecting ',' delimiter: line 3 column 388 (char 416)\n",
      "JSONDecodeError: Expecting ',' delimiter: line 3 column 267 (char 295)\n",
      "JSONDecodeError: Expecting ',' delimiter: line 3 column 420 (char 448)\n",
      "evaluations-qa66.csv saved\n"
     ]
    },
    {
     "name": "stderr",
     "output_type": "stream",
     "text": [
      "100%|███████████████████████████████████████████████████| 15/15 [00:39<00:00,  2.61s/it]\n"
     ]
    },
    {
     "name": "stdout",
     "output_type": "stream",
     "text": [
      "JSONDecodeError: Expecting ',' delimiter: line 3 column 369 (char 395)\n",
      "JSONDecodeError: Expecting ',' delimiter: line 3 column 468 (char 501)\n",
      "JSONDecodeError: Expecting ',' delimiter: line 3 column 493 (char 528)\n",
      "JSONDecodeError: Expecting ',' delimiter: line 3 column 254 (char 282)\n",
      "JSONDecodeError: Expecting ',' delimiter: line 3 column 264 (char 292)\n",
      "evaluations-qa67.csv saved\n"
     ]
    },
    {
     "name": "stderr",
     "output_type": "stream",
     "text": [
      "100%|███████████████████████████████████████████████████| 15/15 [00:39<00:00,  2.60s/it]\n"
     ]
    },
    {
     "name": "stdout",
     "output_type": "stream",
     "text": [
      "JSONDecodeError: Expecting ',' delimiter: line 3 column 288 (char 316)\n",
      "JSONDecodeError: Expecting ',' delimiter: line 3 column 261 (char 289)\n",
      "JSONDecodeError: Expecting ',' delimiter: line 3 column 369 (char 397)\n",
      "JSONDecodeError: Expecting ',' delimiter: line 3 column 417 (char 445)\n",
      "JSONDecodeError: Expecting ',' delimiter: line 3 column 293 (char 328)\n",
      "JSONDecodeError: Expecting ',' delimiter: line 3 column 296 (char 324)\n",
      "JSONDecodeError: Expecting ',' delimiter: line 3 column 365 (char 393)\n",
      "evaluations-qa68.csv saved\n"
     ]
    },
    {
     "name": "stderr",
     "output_type": "stream",
     "text": [
      "100%|████████████████████████████| 15/15 [00:39<00:00,  2.66s/it]\n"
     ]
    },
    {
     "name": "stdout",
     "output_type": "stream",
     "text": [
      "JSONDecodeError: Expecting ',' delimiter: line 3 column 247 (char 275)\n",
      "JSONDecodeError: Expecting ',' delimiter: line 3 column 322 (char 350)\n",
      "JSONDecodeError: Expecting ',' delimiter: line 3 column 288 (char 314)\n",
      "JSONDecodeError: Expecting ',' delimiter: line 3 column 238 (char 266)\n",
      "JSONDecodeError: Expecting ',' delimiter: line 3 column 321 (char 356)\n",
      "JSONDecodeError: Expecting ',' delimiter: line 3 column 200 (char 228)\n",
      "JSONDecodeError: Expecting ',' delimiter: line 3 column 192 (char 220)\n",
      "JSONDecodeError: Expecting ',' delimiter: line 3 column 255 (char 283)\n",
      "evaluations-qa69.csv saved\n"
     ]
    },
    {
     "name": "stderr",
     "output_type": "stream",
     "text": [
      "100%|████████████████████████████| 15/15 [00:38<00:00,  2.59s/it]\n"
     ]
    },
    {
     "name": "stdout",
     "output_type": "stream",
     "text": [
      "JSONDecodeError: Expecting ',' delimiter: line 3 column 420 (char 455)\n",
      "JSONDecodeError: Expecting ',' delimiter: line 3 column 256 (char 291)\n",
      "JSONDecodeError: Expecting ',' delimiter: line 3 column 224 (char 252)\n",
      "JSONDecodeError: Expecting ',' delimiter: line 3 column 277 (char 305)\n",
      "JSONDecodeError: Expecting ',' delimiter: line 3 column 265 (char 293)\n",
      "JSONDecodeError: Expecting ',' delimiter: line 3 column 372 (char 400)\n",
      "JSONDecodeError: Expecting ',' delimiter: line 3 column 332 (char 362)\n",
      "JSONDecodeError: Expecting value: line 1 column 1 (char 0)\n",
      "Failed to fix JSON string: Expecting value: line 1 column 1 (char 0)\n",
      "evaluations-qa70.csv saved\n"
     ]
    },
    {
     "name": "stderr",
     "output_type": "stream",
     "text": [
      "100%|███████████████████████████████████████████████████| 15/15 [00:38<00:00,  2.60s/it]\n"
     ]
    },
    {
     "name": "stdout",
     "output_type": "stream",
     "text": [
      "JSONDecodeError: Expecting ',' delimiter: line 3 column 342 (char 370)\n",
      "JSONDecodeError: Expecting ',' delimiter: line 3 column 244 (char 270)\n",
      "JSONDecodeError: Expecting ',' delimiter: line 3 column 403 (char 438)\n",
      "JSONDecodeError: Expecting ',' delimiter: line 3 column 326 (char 354)\n",
      "JSONDecodeError: Expecting ',' delimiter: line 3 column 253 (char 281)\n",
      "JSONDecodeError: Expecting ',' delimiter: line 3 column 250 (char 276)\n",
      "JSONDecodeError: Expecting ',' delimiter: line 3 column 208 (char 236)\n",
      "JSONDecodeError: Expecting ',' delimiter: line 3 column 440 (char 475)\n",
      "JSONDecodeError: Expecting ',' delimiter: line 3 column 328 (char 356)\n",
      "evaluations-qa71.csv saved\n"
     ]
    },
    {
     "name": "stderr",
     "output_type": "stream",
     "text": [
      "100%|███████████████████████████████████████████████████| 15/15 [00:38<00:00,  2.59s/it]\n"
     ]
    },
    {
     "name": "stdout",
     "output_type": "stream",
     "text": [
      "JSONDecodeError: Expecting ',' delimiter: line 3 column 306 (char 341)\n",
      "JSONDecodeError: Expecting ',' delimiter: line 3 column 324 (char 359)\n",
      "JSONDecodeError: Expecting ',' delimiter: line 3 column 239 (char 267)\n",
      "JSONDecodeError: Expecting ',' delimiter: line 3 column 321 (char 349)\n",
      "JSONDecodeError: Expecting ',' delimiter: line 3 column 290 (char 318)\n",
      "JSONDecodeError: Expecting ',' delimiter: line 3 column 399 (char 434)\n",
      "JSONDecodeError: Expecting ',' delimiter: line 3 column 350 (char 378)\n",
      "JSONDecodeError: Expecting ',' delimiter: line 3 column 266 (char 301)\n",
      "JSONDecodeError: Expecting ',' delimiter: line 3 column 212 (char 240)\n",
      "JSONDecodeError: Expecting ',' delimiter: line 3 column 241 (char 269)\n",
      "evaluations-qa72.csv saved\n"
     ]
    },
    {
     "name": "stderr",
     "output_type": "stream",
     "text": [
      "100%|███████████████████████████████████████████████████| 15/15 [00:38<00:00,  2.57s/it]\n"
     ]
    },
    {
     "name": "stdout",
     "output_type": "stream",
     "text": [
      "JSONDecodeError: Expecting ',' delimiter: line 3 column 254 (char 282)\n",
      "JSONDecodeError: Expecting ',' delimiter: line 3 column 320 (char 348)\n",
      "JSONDecodeError: Expecting ',' delimiter: line 3 column 268 (char 296)\n",
      "JSONDecodeError: Expecting ',' delimiter: line 3 column 357 (char 385)\n",
      "JSONDecodeError: Expecting ',' delimiter: line 3 column 467 (char 495)\n",
      "JSONDecodeError: Expecting ',' delimiter: line 3 column 331 (char 366)\n",
      "evaluations-qa73.csv saved\n"
     ]
    },
    {
     "name": "stderr",
     "output_type": "stream",
     "text": [
      "100%|███████████████████████████████████████████████████| 15/15 [00:38<00:00,  2.58s/it]\n"
     ]
    },
    {
     "name": "stdout",
     "output_type": "stream",
     "text": [
      "JSONDecodeError: Expecting value: line 1 column 1 (char 0)\n",
      "Failed to fix JSON string: Expecting value: line 1 column 1 (char 0)\n",
      "JSONDecodeError: Expecting ',' delimiter: line 3 column 303 (char 331)\n",
      "JSONDecodeError: Expecting ',' delimiter: line 3 column 504 (char 532)\n",
      "evaluations-qa74.csv saved\n"
     ]
    },
    {
     "name": "stderr",
     "output_type": "stream",
     "text": [
      "100%|███████████████████████████████████████████████████| 15/15 [00:38<00:00,  2.56s/it]\n"
     ]
    },
    {
     "name": "stdout",
     "output_type": "stream",
     "text": [
      "JSONDecodeError: Expecting value: line 1 column 1 (char 0)\n",
      "Failed to fix JSON string: Expecting value: line 1 column 1 (char 0)\n",
      "JSONDecodeError: Expecting ',' delimiter: line 3 column 431 (char 466)\n",
      "JSONDecodeError: Expecting value: line 1 column 1 (char 0)\n",
      "Failed to fix JSON string: Expecting value: line 1 column 1 (char 0)\n",
      "JSONDecodeError: Expecting ',' delimiter: line 3 column 314 (char 342)\n",
      "JSONDecodeError: Expecting ',' delimiter: line 3 column 306 (char 339)\n",
      "evaluations-qa75.csv saved\n"
     ]
    },
    {
     "name": "stderr",
     "output_type": "stream",
     "text": [
      "100%|███████████████████████████████████████████████████| 15/15 [00:38<00:00,  2.56s/it]\n"
     ]
    },
    {
     "name": "stdout",
     "output_type": "stream",
     "text": [
      "JSONDecodeError: Expecting value: line 1 column 1 (char 0)\n",
      "Failed to fix JSON string: Expecting value: line 1 column 1 (char 0)\n",
      "JSONDecodeError: Expecting ',' delimiter: line 3 column 301 (char 329)\n",
      "JSONDecodeError: Expecting ',' delimiter: line 3 column 437 (char 465)\n",
      "JSONDecodeError: Expecting ',' delimiter: line 3 column 274 (char 300)\n",
      "JSONDecodeError: Expecting ',' delimiter: line 3 column 343 (char 378)\n",
      "JSONDecodeError: Expecting ',' delimiter: line 3 column 370 (char 405)\n",
      "JSONDecodeError: Expecting ',' delimiter: line 3 column 269 (char 302)\n",
      "JSONDecodeError: Expecting ',' delimiter: line 3 column 433 (char 468)\n",
      "JSONDecodeError: Expecting ',' delimiter: line 3 column 371 (char 399)\n",
      "evaluations-qa76.csv saved\n"
     ]
    },
    {
     "name": "stderr",
     "output_type": "stream",
     "text": [
      "100%|███████████████████████████████████████████████████| 15/15 [00:39<00:00,  2.60s/it]\n"
     ]
    },
    {
     "name": "stdout",
     "output_type": "stream",
     "text": [
      "JSONDecodeError: Expecting ',' delimiter: line 3 column 343 (char 378)\n",
      "JSONDecodeError: Expecting ',' delimiter: line 3 column 187 (char 215)\n",
      "JSONDecodeError: Expecting ',' delimiter: line 3 column 397 (char 432)\n",
      "JSONDecodeError: Expecting ',' delimiter: line 3 column 254 (char 282)\n",
      "JSONDecodeError: Expecting ',' delimiter: line 3 column 322 (char 350)\n",
      "JSONDecodeError: Expecting ',' delimiter: line 3 column 411 (char 446)\n",
      "JSONDecodeError: Expecting ',' delimiter: line 3 column 448 (char 481)\n",
      "evaluations-qa77.csv saved\n"
     ]
    },
    {
     "name": "stderr",
     "output_type": "stream",
     "text": [
      "100%|███████████████████████████████████████████████████| 15/15 [00:38<00:00,  2.60s/it]\n"
     ]
    },
    {
     "name": "stdout",
     "output_type": "stream",
     "text": [
      "JSONDecodeError: Expecting ',' delimiter: line 3 column 298 (char 326)\n",
      "JSONDecodeError: Expecting ',' delimiter: line 3 column 324 (char 356)\n",
      "JSONDecodeError: Expecting ',' delimiter: line 3 column 549 (char 575)\n",
      "JSONDecodeError: Expecting ',' delimiter: line 3 column 507 (char 542)\n",
      "JSONDecodeError: Expecting ',' delimiter: line 3 column 322 (char 350)\n",
      "JSONDecodeError: Expecting ',' delimiter: line 3 column 223 (char 255)\n",
      "JSONDecodeError: Expecting ',' delimiter: line 3 column 538 (char 566)\n",
      "JSONDecodeError: Expecting ',' delimiter: line 3 column 204 (char 232)\n",
      "JSONDecodeError: Expecting ',' delimiter: line 3 column 355 (char 383)\n",
      "JSONDecodeError: Expecting value: line 1 column 1 (char 0)\n",
      "Failed to fix JSON string: Expecting value: line 1 column 1 (char 0)\n",
      "JSONDecodeError: Expecting ',' delimiter: line 3 column 242 (char 270)\n",
      "JSONDecodeError: Expecting ',' delimiter: line 3 column 246 (char 274)\n",
      "evaluations-qa78.csv saved\n"
     ]
    },
    {
     "name": "stderr",
     "output_type": "stream",
     "text": [
      "100%|███████████████████████████████████████████████████| 15/15 [00:38<00:00,  2.55s/it]\n"
     ]
    },
    {
     "name": "stdout",
     "output_type": "stream",
     "text": [
      "JSONDecodeError: Expecting ',' delimiter: line 3 column 198 (char 226)\n",
      "JSONDecodeError: Expecting ',' delimiter: line 3 column 225 (char 253)\n",
      "JSONDecodeError: Expecting ',' delimiter: line 3 column 238 (char 266)\n",
      "JSONDecodeError: Expecting ',' delimiter: line 3 column 246 (char 272)\n",
      "JSONDecodeError: Expecting ',' delimiter: line 3 column 212 (char 240)\n",
      "JSONDecodeError: Expecting ',' delimiter: line 3 column 239 (char 267)\n",
      "JSONDecodeError: Expecting ',' delimiter: line 3 column 419 (char 456)\n",
      "JSONDecodeError: Expecting ',' delimiter: line 3 column 265 (char 291)\n",
      "JSONDecodeError: Expecting ',' delimiter: line 3 column 203 (char 231)\n",
      "JSONDecodeError: Expecting ',' delimiter: line 3 column 220 (char 246)\n",
      "evaluations-qa79.csv saved\n"
     ]
    },
    {
     "name": "stderr",
     "output_type": "stream",
     "text": [
      "100%|███████████████████████████████████████████████████| 15/15 [00:38<00:00,  2.58s/it]\n"
     ]
    },
    {
     "name": "stdout",
     "output_type": "stream",
     "text": [
      "JSONDecodeError: Expecting ',' delimiter: line 3 column 237 (char 269)\n",
      "JSONDecodeError: Expecting ',' delimiter: line 3 column 240 (char 266)\n",
      "JSONDecodeError: Expecting ',' delimiter: line 3 column 181 (char 209)\n",
      "JSONDecodeError: Expecting ',' delimiter: line 3 column 362 (char 395)\n",
      "JSONDecodeError: Expecting ',' delimiter: line 3 column 238 (char 266)\n",
      "JSONDecodeError: Expecting ',' delimiter: line 3 column 235 (char 263)\n",
      "JSONDecodeError: Expecting ',' delimiter: line 3 column 184 (char 212)\n",
      "evaluations-qa80.csv saved\n"
     ]
    },
    {
     "name": "stderr",
     "output_type": "stream",
     "text": [
      "100%|███████████████████████████████████████████████████| 15/15 [00:38<00:00,  2.57s/it]\n"
     ]
    },
    {
     "name": "stdout",
     "output_type": "stream",
     "text": [
      "JSONDecodeError: Expecting ',' delimiter: line 3 column 252 (char 284)\n",
      "JSONDecodeError: Expecting value: line 1 column 1 (char 0)\n",
      "Failed to fix JSON string: Expecting value: line 1 column 1 (char 0)\n",
      "JSONDecodeError: Expecting ',' delimiter: line 3 column 230 (char 258)\n",
      "JSONDecodeError: Expecting ',' delimiter: line 3 column 286 (char 314)\n",
      "evaluations-qa81.csv saved\n"
     ]
    },
    {
     "name": "stderr",
     "output_type": "stream",
     "text": [
      "100%|█████████████████████████████████████████████████████| 2/2 [00:05<00:00,  2.68s/it]"
     ]
    },
    {
     "name": "stdout",
     "output_type": "stream",
     "text": [
      "JSONDecodeError: Expecting ',' delimiter: line 3 column 363 (char 398)\n",
      "evaluations-qa82.csv saved\n"
     ]
    },
    {
     "name": "stderr",
     "output_type": "stream",
     "text": [
      "\n"
     ]
    }
   ],
   "source": [
    "for i in range(1, 83):\n",
    "    evaluations = []\n",
    "    results = []\n",
    "    json_evaluations = []\n",
    "    \n",
    "    # Load the pickle file\n",
    "    with open(f\"../data/vietnamese_rag/llm_answer/llm_answer{i}.pkl\", 'rb') as file:\n",
    "        r = pickle.load(file)\n",
    "    results.extend(r)\n",
    "    \n",
    "    # Convert results to DataFrame\n",
    "    df = pd.DataFrame(results)\n",
    "    samples = df.to_dict(orient='records')\n",
    "    \n",
    "    # Generate evaluations\n",
    "    for record in tqdm(samples):\n",
    "        prompt = prompt2_template.format(**record)\n",
    "        evaluation = llm(prompt)\n",
    "        evaluations.append(evaluation)\n",
    "    \n",
    "    # Parse evaluations\n",
    "    for j, str_eval in enumerate(evaluations):\n",
    "        try:\n",
    "            json_eval = json.loads(str_eval)\n",
    "        except json.JSONDecodeError as e:\n",
    "            print(f\"JSONDecodeError: {e}\")\n",
    "            # Attempt to fix the JSON string\n",
    "            try:\n",
    "                str_eval = str_eval.rstrip('}') + '}'  # Ensure it ends with a closing brace\n",
    "                json_eval = json.loads(str_eval)\n",
    "            except json.JSONDecodeError as e:\n",
    "                print(f\"Failed to fix JSON string: {e}\")\n",
    "                continue  # Skip this evaluation if it cannot be fixed\n",
    "        json_evaluations.append(json_eval)\n",
    "    \n",
    "    # Save evaluations to CSV\n",
    "    if json_evaluations:\n",
    "        df_evaluations = pd.DataFrame(json_evaluations)\n",
    "        df_evaluations.to_csv(f'../data/vietnamese_rag/evaluations_qa/evaluations-qa{i}.csv', index=False)\n",
    "        print(f\"evaluations-qa{i}.csv saved\")"
   ]
  },
  {
   "cell_type": "code",
   "execution_count": 7,
   "id": "1d12a525-a045-4c4d-a677-122995df74b5",
   "metadata": {},
   "outputs": [
    {
     "name": "stderr",
     "output_type": "stream",
     "text": [
      "100%|███████████████████████████████████████████████████| 15/15 [00:39<00:00,  2.61s/it]\n"
     ]
    },
    {
     "name": "stdout",
     "output_type": "stream",
     "text": [
      "JSONDecodeError: Expecting ',' delimiter: line 3 column 215 (char 241)\n",
      "JSONDecodeError: Expecting ',' delimiter: line 3 column 394 (char 420)\n",
      "JSONDecodeError: Expecting ',' delimiter: line 3 column 350 (char 378)\n",
      "JSONDecodeError: Expecting ',' delimiter: line 3 column 336 (char 364)\n",
      "JSONDecodeError: Expecting value: line 1 column 1 (char 0)\n",
      "Failed to fix JSON string: Expecting value: line 1 column 1 (char 0)\n",
      "JSONDecodeError: Expecting ',' delimiter: line 3 column 256 (char 284)\n",
      "evaluations-qa83.csv saved\n"
     ]
    },
    {
     "name": "stderr",
     "output_type": "stream",
     "text": [
      "100%|███████████████████████████████████████████████████| 15/15 [00:38<00:00,  2.57s/it]\n"
     ]
    },
    {
     "name": "stdout",
     "output_type": "stream",
     "text": [
      "JSONDecodeError: Expecting ',' delimiter: line 3 column 343 (char 369)\n",
      "JSONDecodeError: Expecting ',' delimiter: line 3 column 364 (char 392)\n",
      "JSONDecodeError: Expecting ',' delimiter: line 3 column 330 (char 358)\n",
      "JSONDecodeError: Expecting ',' delimiter: line 3 column 328 (char 363)\n",
      "JSONDecodeError: Expecting ',' delimiter: line 3 column 266 (char 294)\n",
      "JSONDecodeError: Expecting ',' delimiter: line 3 column 374 (char 402)\n",
      "JSONDecodeError: Expecting ',' delimiter: line 3 column 220 (char 246)\n",
      "JSONDecodeError: Expecting ',' delimiter: line 3 column 261 (char 296)\n",
      "JSONDecodeError: Expecting ',' delimiter: line 3 column 349 (char 377)\n",
      "JSONDecodeError: Expecting ',' delimiter: line 3 column 169 (char 195)\n",
      "evaluations-qa84.csv saved\n"
     ]
    },
    {
     "name": "stderr",
     "output_type": "stream",
     "text": [
      "100%|███████████████████████████████████████████████████| 15/15 [00:38<00:00,  2.55s/it]\n"
     ]
    },
    {
     "name": "stdout",
     "output_type": "stream",
     "text": [
      "JSONDecodeError: Expecting ',' delimiter: line 3 column 208 (char 236)\n",
      "JSONDecodeError: Expecting ',' delimiter: line 3 column 267 (char 295)\n",
      "JSONDecodeError: Expecting ',' delimiter: line 3 column 364 (char 399)\n",
      "JSONDecodeError: Expecting ',' delimiter: line 3 column 473 (char 508)\n",
      "JSONDecodeError: Expecting ',' delimiter: line 3 column 284 (char 312)\n",
      "JSONDecodeError: Expecting ',' delimiter: line 3 column 299 (char 327)\n",
      "JSONDecodeError: Expecting ',' delimiter: line 3 column 182 (char 210)\n",
      "JSONDecodeError: Expecting ',' delimiter: line 3 column 225 (char 253)\n",
      "evaluations-qa85.csv saved\n"
     ]
    },
    {
     "name": "stderr",
     "output_type": "stream",
     "text": [
      "100%|███████████████████████████████████████████████████| 15/15 [00:38<00:00,  2.60s/it]\n"
     ]
    },
    {
     "name": "stdout",
     "output_type": "stream",
     "text": [
      "JSONDecodeError: Expecting ',' delimiter: line 3 column 315 (char 350)\n",
      "JSONDecodeError: Expecting ',' delimiter: line 3 column 299 (char 327)\n",
      "JSONDecodeError: Expecting ',' delimiter: line 3 column 244 (char 276)\n",
      "JSONDecodeError: Expecting ',' delimiter: line 3 column 316 (char 344)\n",
      "JSONDecodeError: Expecting ',' delimiter: line 3 column 335 (char 363)\n",
      "JSONDecodeError: Expecting ',' delimiter: line 3 column 474 (char 502)\n",
      "JSONDecodeError: Expecting value: line 1 column 1 (char 0)\n",
      "Failed to fix JSON string: Expecting value: line 1 column 1 (char 0)\n",
      "JSONDecodeError: Expecting ',' delimiter: line 3 column 472 (char 507)\n",
      "JSONDecodeError: Expecting ',' delimiter: line 3 column 203 (char 231)\n",
      "evaluations-qa86.csv saved\n"
     ]
    },
    {
     "name": "stderr",
     "output_type": "stream",
     "text": [
      "100%|███████████████████████████████████████████████████| 15/15 [00:39<00:00,  2.62s/it]\n"
     ]
    },
    {
     "name": "stdout",
     "output_type": "stream",
     "text": [
      "JSONDecodeError: Expecting ',' delimiter: line 3 column 363 (char 398)\n",
      "JSONDecodeError: Expecting ',' delimiter: line 3 column 272 (char 307)\n",
      "JSONDecodeError: Expecting ',' delimiter: line 3 column 286 (char 321)\n",
      "JSONDecodeError: Expecting ',' delimiter: line 3 column 275 (char 303)\n",
      "evaluations-qa87.csv saved\n"
     ]
    },
    {
     "name": "stderr",
     "output_type": "stream",
     "text": [
      "100%|███████████████████████████████████████████████████| 15/15 [00:38<00:00,  2.57s/it]\n"
     ]
    },
    {
     "name": "stdout",
     "output_type": "stream",
     "text": [
      "JSONDecodeError: Expecting ',' delimiter: line 3 column 207 (char 235)\n",
      "JSONDecodeError: Expecting ',' delimiter: line 3 column 269 (char 297)\n",
      "JSONDecodeError: Expecting ',' delimiter: line 3 column 212 (char 240)\n",
      "JSONDecodeError: Expecting ',' delimiter: line 3 column 343 (char 369)\n",
      "JSONDecodeError: Expecting ',' delimiter: line 3 column 266 (char 292)\n",
      "evaluations-qa88.csv saved\n"
     ]
    },
    {
     "name": "stderr",
     "output_type": "stream",
     "text": [
      "100%|███████████████████████████████████████████████████| 15/15 [00:39<00:00,  2.60s/it]\n"
     ]
    },
    {
     "name": "stdout",
     "output_type": "stream",
     "text": [
      "JSONDecodeError: Expecting ',' delimiter: line 3 column 367 (char 399)\n",
      "JSONDecodeError: Expecting ',' delimiter: line 3 column 356 (char 384)\n",
      "JSONDecodeError: Expecting ',' delimiter: line 3 column 237 (char 265)\n",
      "JSONDecodeError: Expecting value: line 1 column 1 (char 0)\n",
      "Failed to fix JSON string: Expecting value: line 1 column 1 (char 0)\n",
      "JSONDecodeError: Expecting ',' delimiter: line 3 column 314 (char 342)\n",
      "JSONDecodeError: Expecting ',' delimiter: line 3 column 223 (char 249)\n",
      "JSONDecodeError: Expecting ',' delimiter: line 3 column 511 (char 546)\n",
      "JSONDecodeError: Expecting ',' delimiter: line 3 column 218 (char 244)\n",
      "JSONDecodeError: Expecting ',' delimiter: line 3 column 365 (char 397)\n",
      "JSONDecodeError: Expecting ',' delimiter: line 3 column 373 (char 401)\n",
      "JSONDecodeError: Expecting value: line 1 column 1 (char 0)\n",
      "Failed to fix JSON string: Expecting value: line 1 column 1 (char 0)\n",
      "evaluations-qa89.csv saved\n"
     ]
    },
    {
     "name": "stderr",
     "output_type": "stream",
     "text": [
      "100%|███████████████████████████████████████████████████| 15/15 [00:39<00:00,  2.60s/it]\n"
     ]
    },
    {
     "name": "stdout",
     "output_type": "stream",
     "text": [
      "JSONDecodeError: Expecting ',' delimiter: line 3 column 471 (char 499)\n",
      "JSONDecodeError: Expecting ',' delimiter: line 3 column 230 (char 258)\n",
      "JSONDecodeError: Expecting ',' delimiter: line 3 column 227 (char 255)\n",
      "JSONDecodeError: Expecting ',' delimiter: line 3 column 338 (char 366)\n",
      "JSONDecodeError: Expecting ',' delimiter: line 3 column 221 (char 249)\n",
      "JSONDecodeError: Expecting ',' delimiter: line 3 column 274 (char 302)\n",
      "JSONDecodeError: Expecting ',' delimiter: line 3 column 276 (char 304)\n",
      "JSONDecodeError: Expecting ',' delimiter: line 3 column 599 (char 634)\n",
      "JSONDecodeError: Expecting ',' delimiter: line 3 column 419 (char 454)\n",
      "evaluations-qa90.csv saved\n"
     ]
    },
    {
     "name": "stderr",
     "output_type": "stream",
     "text": [
      "100%|███████████████████████████████████████████████████| 15/15 [00:38<00:00,  2.58s/it]\n"
     ]
    },
    {
     "name": "stdout",
     "output_type": "stream",
     "text": [
      "JSONDecodeError: Expecting ',' delimiter: line 3 column 359 (char 394)\n",
      "JSONDecodeError: Expecting ',' delimiter: line 3 column 493 (char 519)\n",
      "JSONDecodeError: Expecting ',' delimiter: line 3 column 231 (char 259)\n",
      "JSONDecodeError: Expecting ',' delimiter: line 3 column 179 (char 205)\n",
      "JSONDecodeError: Expecting ',' delimiter: line 3 column 339 (char 374)\n",
      "JSONDecodeError: Expecting ',' delimiter: line 3 column 315 (char 341)\n",
      "JSONDecodeError: Expecting ',' delimiter: line 3 column 500 (char 526)\n",
      "evaluations-qa91.csv saved\n"
     ]
    },
    {
     "name": "stderr",
     "output_type": "stream",
     "text": [
      "100%|███████████████████████████████████████████████████| 15/15 [00:38<00:00,  2.56s/it]\n"
     ]
    },
    {
     "name": "stdout",
     "output_type": "stream",
     "text": [
      "JSONDecodeError: Expecting ',' delimiter: line 3 column 348 (char 376)\n",
      "JSONDecodeError: Expecting ',' delimiter: line 3 column 283 (char 311)\n",
      "JSONDecodeError: Expecting ',' delimiter: line 3 column 255 (char 283)\n",
      "JSONDecodeError: Expecting value: line 1 column 1 (char 0)\n",
      "Failed to fix JSON string: Expecting value: line 1 column 1 (char 0)\n",
      "JSONDecodeError: Expecting ',' delimiter: line 3 column 292 (char 320)\n",
      "JSONDecodeError: Expecting value: line 1 column 1 (char 0)\n",
      "Failed to fix JSON string: Expecting value: line 1 column 1 (char 0)\n",
      "JSONDecodeError: Expecting ',' delimiter: line 3 column 264 (char 297)\n",
      "JSONDecodeError: Expecting ',' delimiter: line 3 column 382 (char 417)\n",
      "JSONDecodeError: Expecting ',' delimiter: line 3 column 426 (char 454)\n",
      "JSONDecodeError: Expecting ',' delimiter: line 3 column 295 (char 325)\n",
      "JSONDecodeError: Expecting ',' delimiter: line 3 column 306 (char 334)\n",
      "evaluations-qa92.csv saved\n"
     ]
    },
    {
     "name": "stderr",
     "output_type": "stream",
     "text": [
      "100%|███████████████████████████████████████████████████| 15/15 [00:38<00:00,  2.57s/it]\n"
     ]
    },
    {
     "name": "stdout",
     "output_type": "stream",
     "text": [
      "JSONDecodeError: Expecting ',' delimiter: line 3 column 474 (char 509)\n",
      "JSONDecodeError: Expecting ',' delimiter: line 3 column 265 (char 293)\n",
      "JSONDecodeError: Expecting ',' delimiter: line 3 column 237 (char 265)\n",
      "JSONDecodeError: Expecting ',' delimiter: line 3 column 280 (char 306)\n",
      "JSONDecodeError: Expecting ',' delimiter: line 3 column 474 (char 500)\n",
      "evaluations-qa93.csv saved\n"
     ]
    },
    {
     "name": "stderr",
     "output_type": "stream",
     "text": [
      "100%|███████████████████████████████████████████████████| 15/15 [00:38<00:00,  2.60s/it]\n"
     ]
    },
    {
     "name": "stdout",
     "output_type": "stream",
     "text": [
      "JSONDecodeError: Expecting ',' delimiter: line 3 column 253 (char 285)\n",
      "JSONDecodeError: Expecting ',' delimiter: line 3 column 300 (char 332)\n",
      "JSONDecodeError: Expecting ',' delimiter: line 3 column 240 (char 268)\n",
      "JSONDecodeError: Expecting ',' delimiter: line 3 column 489 (char 524)\n",
      "JSONDecodeError: Expecting ',' delimiter: line 3 column 207 (char 233)\n",
      "JSONDecodeError: Expecting ',' delimiter: line 3 column 375 (char 408)\n",
      "JSONDecodeError: Expecting ',' delimiter: line 3 column 328 (char 356)\n",
      "JSONDecodeError: Expecting ',' delimiter: line 3 column 187 (char 213)\n",
      "JSONDecodeError: Expecting ',' delimiter: line 3 column 319 (char 351)\n",
      "JSONDecodeError: Expecting ',' delimiter: line 3 column 567 (char 595)\n",
      "evaluations-qa94.csv saved\n"
     ]
    },
    {
     "name": "stderr",
     "output_type": "stream",
     "text": [
      "100%|████████| 15/15 [00:39<00:00,  2.62s/it]\n"
     ]
    },
    {
     "name": "stdout",
     "output_type": "stream",
     "text": [
      "JSONDecodeError: Expecting ',' delimiter: line 3 column 369 (char 397)\n",
      "JSONDecodeError: Expecting value: line 1 column 1 (char 0)\n",
      "Failed to fix JSON string: Expecting value: line 1 column 1 (char 0)\n",
      "JSONDecodeError: Expecting value: line 1 column 1 (char 0)\n",
      "Failed to fix JSON string: Expecting value: line 1 column 1 (char 0)\n",
      "JSONDecodeError: Expecting ',' delimiter: line 3 column 424 (char 459)\n",
      "evaluations-qa95.csv saved\n"
     ]
    },
    {
     "name": "stderr",
     "output_type": "stream",
     "text": [
      "100%|███████████████████████████████████████████████████| 15/15 [00:39<00:00,  2.63s/it]\n"
     ]
    },
    {
     "name": "stdout",
     "output_type": "stream",
     "text": [
      "JSONDecodeError: Expecting ',' delimiter: line 3 column 364 (char 397)\n",
      "JSONDecodeError: Expecting ',' delimiter: line 3 column 221 (char 249)\n",
      "JSONDecodeError: Expecting ',' delimiter: line 3 column 227 (char 259)\n",
      "JSONDecodeError: Expecting ',' delimiter: line 3 column 210 (char 238)\n",
      "JSONDecodeError: Expecting ',' delimiter: line 3 column 482 (char 515)\n",
      "JSONDecodeError: Expecting ',' delimiter: line 3 column 245 (char 277)\n",
      "JSONDecodeError: Expecting ',' delimiter: line 3 column 301 (char 333)\n",
      "JSONDecodeError: Expecting ',' delimiter: line 3 column 295 (char 323)\n",
      "JSONDecodeError: Expecting ',' delimiter: line 3 column 345 (char 373)\n",
      "evaluations-qa96.csv saved\n"
     ]
    },
    {
     "name": "stderr",
     "output_type": "stream",
     "text": [
      "100%|████████| 15/15 [00:38<00:00,  2.58s/it]\n"
     ]
    },
    {
     "name": "stdout",
     "output_type": "stream",
     "text": [
      "JSONDecodeError: Expecting ',' delimiter: line 3 column 354 (char 389)\n",
      "JSONDecodeError: Expecting ',' delimiter: line 3 column 354 (char 382)\n",
      "JSONDecodeError: Expecting ',' delimiter: line 3 column 371 (char 406)\n",
      "JSONDecodeError: Expecting ',' delimiter: line 3 column 261 (char 287)\n",
      "JSONDecodeError: Expecting ',' delimiter: line 3 column 319 (char 347)\n",
      "JSONDecodeError: Expecting ',' delimiter: line 3 column 228 (char 256)\n",
      "JSONDecodeError: Expecting ',' delimiter: line 3 column 407 (char 442)\n",
      "JSONDecodeError: Expecting ',' delimiter: line 3 column 370 (char 405)\n",
      "JSONDecodeError: Expecting ',' delimiter: line 3 column 369 (char 402)\n",
      "evaluations-qa97.csv saved\n"
     ]
    },
    {
     "name": "stderr",
     "output_type": "stream",
     "text": [
      "100%|███████████████████████████████████████████████████| 15/15 [00:39<00:00,  2.61s/it]\n"
     ]
    },
    {
     "name": "stdout",
     "output_type": "stream",
     "text": [
      "JSONDecodeError: Expecting ',' delimiter: line 3 column 387 (char 422)\n",
      "JSONDecodeError: Expecting ',' delimiter: line 3 column 281 (char 316)\n",
      "JSONDecodeError: Expecting ',' delimiter: line 3 column 306 (char 334)\n",
      "JSONDecodeError: Expecting ',' delimiter: line 3 column 212 (char 240)\n",
      "JSONDecodeError: Expecting ',' delimiter: line 3 column 325 (char 360)\n",
      "evaluations-qa98.csv saved\n"
     ]
    },
    {
     "name": "stderr",
     "output_type": "stream",
     "text": [
      "100%|███████████████████████████████████████████████████| 15/15 [00:38<00:00,  2.57s/it]\n"
     ]
    },
    {
     "name": "stdout",
     "output_type": "stream",
     "text": [
      "JSONDecodeError: Expecting ',' delimiter: line 3 column 456 (char 491)\n",
      "JSONDecodeError: Expecting ',' delimiter: line 3 column 309 (char 337)\n",
      "JSONDecodeError: Expecting ',' delimiter: line 3 column 240 (char 268)\n",
      "JSONDecodeError: Expecting ',' delimiter: line 3 column 308 (char 334)\n",
      "JSONDecodeError: Expecting ',' delimiter: line 3 column 336 (char 364)\n",
      "evaluations-qa99.csv saved\n"
     ]
    },
    {
     "name": "stderr",
     "output_type": "stream",
     "text": [
      "100%|███████████████████████████████████████████████████| 15/15 [00:38<00:00,  2.60s/it]\n"
     ]
    },
    {
     "name": "stdout",
     "output_type": "stream",
     "text": [
      "JSONDecodeError: Expecting ',' delimiter: line 3 column 325 (char 353)\n",
      "JSONDecodeError: Expecting ',' delimiter: line 3 column 199 (char 227)\n",
      "JSONDecodeError: Expecting ',' delimiter: line 3 column 403 (char 438)\n",
      "JSONDecodeError: Expecting ',' delimiter: line 3 column 240 (char 272)\n",
      "JSONDecodeError: Expecting ',' delimiter: line 3 column 299 (char 327)\n",
      "JSONDecodeError: Expecting ',' delimiter: line 3 column 232 (char 258)\n",
      "JSONDecodeError: Expecting ',' delimiter: line 3 column 548 (char 583)\n",
      "evaluations-qa100.csv saved\n"
     ]
    },
    {
     "name": "stderr",
     "output_type": "stream",
     "text": [
      "100%|███████████████████████████████████████████████████| 15/15 [00:38<00:00,  2.57s/it]\n"
     ]
    },
    {
     "name": "stdout",
     "output_type": "stream",
     "text": [
      "JSONDecodeError: Expecting ',' delimiter: line 3 column 374 (char 402)\n",
      "JSONDecodeError: Expecting ',' delimiter: line 3 column 450 (char 485)\n",
      "JSONDecodeError: Expecting ',' delimiter: line 3 column 447 (char 482)\n",
      "JSONDecodeError: Expecting ',' delimiter: line 3 column 465 (char 498)\n",
      "JSONDecodeError: Expecting ',' delimiter: line 3 column 267 (char 302)\n",
      "JSONDecodeError: Expecting ',' delimiter: line 3 column 285 (char 313)\n",
      "JSONDecodeError: Expecting ',' delimiter: line 3 column 360 (char 388)\n",
      "JSONDecodeError: Expecting ',' delimiter: line 3 column 330 (char 365)\n",
      "JSONDecodeError: Expecting ',' delimiter: line 3 column 392 (char 420)\n",
      "evaluations-qa101.csv saved\n"
     ]
    },
    {
     "name": "stderr",
     "output_type": "stream",
     "text": [
      "100%|███████████████████████████████████████████████████| 15/15 [00:39<00:00,  2.61s/it]\n"
     ]
    },
    {
     "name": "stdout",
     "output_type": "stream",
     "text": [
      "JSONDecodeError: Expecting ',' delimiter: line 3 column 351 (char 377)\n",
      "JSONDecodeError: Expecting ',' delimiter: line 4 column 318 (char 345)\n",
      "JSONDecodeError: Expecting ',' delimiter: line 3 column 421 (char 456)\n",
      "JSONDecodeError: Expecting ',' delimiter: line 3 column 374 (char 402)\n",
      "JSONDecodeError: Expecting ',' delimiter: line 3 column 256 (char 284)\n",
      "JSONDecodeError: Expecting ',' delimiter: line 3 column 332 (char 360)\n",
      "JSONDecodeError: Expecting ',' delimiter: line 3 column 309 (char 337)\n",
      "JSONDecodeError: Expecting ',' delimiter: line 3 column 340 (char 368)\n",
      "JSONDecodeError: Expecting ',' delimiter: line 3 column 315 (char 347)\n",
      "evaluations-qa102.csv saved\n"
     ]
    },
    {
     "name": "stderr",
     "output_type": "stream",
     "text": [
      "100%|██████████████████████████████████████████████████████████████████████████████████████████████████████████████████████████████████████████████████████████████| 15/15 [00:38<00:00,  2.56s/it]\n"
     ]
    },
    {
     "name": "stdout",
     "output_type": "stream",
     "text": [
      "JSONDecodeError: Expecting ',' delimiter: line 3 column 314 (char 342)\n",
      "JSONDecodeError: Expecting ',' delimiter: line 3 column 176 (char 204)\n",
      "JSONDecodeError: Expecting ',' delimiter: line 3 column 222 (char 250)\n",
      "JSONDecodeError: Expecting ',' delimiter: line 3 column 303 (char 331)\n",
      "JSONDecodeError: Expecting ',' delimiter: line 3 column 326 (char 354)\n",
      "JSONDecodeError: Expecting ',' delimiter: line 3 column 260 (char 286)\n",
      "JSONDecodeError: Expecting ',' delimiter: line 3 column 299 (char 327)\n",
      "JSONDecodeError: Expecting ',' delimiter: line 3 column 158 (char 186)\n",
      "JSONDecodeError: Expecting ',' delimiter: line 3 column 213 (char 241)\n",
      "evaluations-qa103.csv saved\n"
     ]
    },
    {
     "name": "stderr",
     "output_type": "stream",
     "text": [
      "100%|███████████████████████████████████████████████████████████████████████████████████████████████████████████████████| 15/15 [00:38<00:00,  2.59s/it]\n"
     ]
    },
    {
     "name": "stdout",
     "output_type": "stream",
     "text": [
      "JSONDecodeError: Expecting ',' delimiter: line 3 column 371 (char 406)\n",
      "JSONDecodeError: Expecting ',' delimiter: line 3 column 274 (char 309)\n",
      "JSONDecodeError: Expecting ',' delimiter: line 3 column 184 (char 212)\n",
      "JSONDecodeError: Expecting ',' delimiter: line 3 column 438 (char 473)\n",
      "JSONDecodeError: Expecting ',' delimiter: line 3 column 397 (char 432)\n",
      "JSONDecodeError: Expecting ',' delimiter: line 3 column 334 (char 369)\n",
      "JSONDecodeError: Expecting ',' delimiter: line 3 column 289 (char 317)\n",
      "evaluations-qa104.csv saved\n"
     ]
    },
    {
     "name": "stderr",
     "output_type": "stream",
     "text": [
      "100%|███████████████████████████████████████████████████████████████████████████████████████████████████████████████████| 15/15 [00:38<00:00,  2.56s/it]\n"
     ]
    },
    {
     "name": "stdout",
     "output_type": "stream",
     "text": [
      "JSONDecodeError: Expecting ',' delimiter: line 3 column 268 (char 294)\n",
      "JSONDecodeError: Expecting ',' delimiter: line 3 column 244 (char 272)\n",
      "JSONDecodeError: Expecting ',' delimiter: line 3 column 325 (char 353)\n",
      "JSONDecodeError: Expecting ',' delimiter: line 3 column 387 (char 420)\n",
      "JSONDecodeError: Expecting ',' delimiter: line 3 column 366 (char 401)\n",
      "JSONDecodeError: Expecting ',' delimiter: line 3 column 269 (char 299)\n",
      "evaluations-qa105.csv saved\n"
     ]
    },
    {
     "name": "stderr",
     "output_type": "stream",
     "text": [
      "100%|███████████████████████████████████████████████████████████████████████████████████████████████████████████████████| 15/15 [00:39<00:00,  2.65s/it]\n"
     ]
    },
    {
     "name": "stdout",
     "output_type": "stream",
     "text": [
      "JSONDecodeError: Expecting ',' delimiter: line 3 column 302 (char 335)\n",
      "JSONDecodeError: Expecting ',' delimiter: line 3 column 387 (char 422)\n",
      "JSONDecodeError: Expecting ',' delimiter: line 3 column 344 (char 379)\n",
      "JSONDecodeError: Expecting ',' delimiter: line 3 column 299 (char 329)\n",
      "JSONDecodeError: Expecting ',' delimiter: line 3 column 268 (char 296)\n",
      "JSONDecodeError: Expecting ',' delimiter: line 3 column 285 (char 313)\n",
      "evaluations-qa106.csv saved\n"
     ]
    },
    {
     "name": "stderr",
     "output_type": "stream",
     "text": [
      "100%|███████████████████████████████████████████████████████████████████████████████████████████████████████████████████| 15/15 [00:39<00:00,  2.61s/it]\n"
     ]
    },
    {
     "name": "stdout",
     "output_type": "stream",
     "text": [
      "JSONDecodeError: Expecting ',' delimiter: line 3 column 248 (char 276)\n",
      "JSONDecodeError: Expecting ',' delimiter: line 3 column 190 (char 218)\n",
      "JSONDecodeError: Expecting value: line 1 column 1 (char 0)\n",
      "Failed to fix JSON string: Expecting value: line 1 column 1 (char 0)\n",
      "JSONDecodeError: Expecting value: line 1 column 1 (char 0)\n",
      "Failed to fix JSON string: Expecting value: line 1 column 1 (char 0)\n",
      "JSONDecodeError: Expecting ',' delimiter: line 3 column 289 (char 317)\n",
      "JSONDecodeError: Expecting ',' delimiter: line 3 column 517 (char 545)\n",
      "JSONDecodeError: Expecting ',' delimiter: line 3 column 249 (char 277)\n",
      "evaluations-qa107.csv saved\n"
     ]
    },
    {
     "name": "stderr",
     "output_type": "stream",
     "text": [
      "100%|███████████████████████████████████████████████████████████████████████████████████████████████████████████████████| 15/15 [00:38<00:00,  2.60s/it]\n"
     ]
    },
    {
     "name": "stdout",
     "output_type": "stream",
     "text": [
      "JSONDecodeError: Expecting ',' delimiter: line 3 column 225 (char 253)\n",
      "JSONDecodeError: Expecting ',' delimiter: line 3 column 193 (char 221)\n",
      "JSONDecodeError: Expecting ',' delimiter: line 3 column 320 (char 355)\n",
      "JSONDecodeError: Expecting ',' delimiter: line 3 column 308 (char 336)\n",
      "JSONDecodeError: Expecting ',' delimiter: line 3 column 246 (char 278)\n",
      "JSONDecodeError: Expecting ',' delimiter: line 3 column 273 (char 299)\n",
      "JSONDecodeError: Expecting ',' delimiter: line 3 column 287 (char 315)\n",
      "JSONDecodeError: Expecting ',' delimiter: line 3 column 467 (char 502)\n",
      "JSONDecodeError: Expecting ',' delimiter: line 3 column 324 (char 352)\n",
      "evaluations-qa108.csv saved\n"
     ]
    },
    {
     "name": "stderr",
     "output_type": "stream",
     "text": [
      "100%|███████████████████████████████████████████████████████████████████████████████████████████████████████████████████| 15/15 [00:38<00:00,  2.60s/it]\n"
     ]
    },
    {
     "name": "stdout",
     "output_type": "stream",
     "text": [
      "JSONDecodeError: Expecting ',' delimiter: line 3 column 290 (char 316)\n",
      "JSONDecodeError: Expecting ',' delimiter: line 3 column 479 (char 514)\n",
      "JSONDecodeError: Expecting ',' delimiter: line 3 column 279 (char 305)\n",
      "JSONDecodeError: Expecting ',' delimiter: line 3 column 552 (char 578)\n",
      "JSONDecodeError: Expecting ',' delimiter: line 3 column 329 (char 357)\n",
      "JSONDecodeError: Expecting ',' delimiter: line 3 column 279 (char 307)\n",
      "JSONDecodeError: Expecting ',' delimiter: line 3 column 485 (char 513)\n",
      "JSONDecodeError: Expecting ',' delimiter: line 3 column 202 (char 228)\n",
      "JSONDecodeError: Expecting ',' delimiter: line 3 column 309 (char 337)\n",
      "evaluations-qa109.csv saved\n"
     ]
    },
    {
     "name": "stderr",
     "output_type": "stream",
     "text": [
      "100%|███████████████████████████████████████████████████████████████████████████████████████████████████████████████████| 15/15 [00:39<00:00,  2.62s/it]\n"
     ]
    },
    {
     "name": "stdout",
     "output_type": "stream",
     "text": [
      "JSONDecodeError: Expecting ',' delimiter: line 3 column 361 (char 396)\n",
      "JSONDecodeError: Expecting ',' delimiter: line 3 column 257 (char 289)\n",
      "JSONDecodeError: Expecting ',' delimiter: line 3 column 223 (char 249)\n",
      "JSONDecodeError: Expecting ',' delimiter: line 3 column 369 (char 397)\n",
      "JSONDecodeError: Expecting ',' delimiter: line 3 column 293 (char 321)\n",
      "JSONDecodeError: Expecting ',' delimiter: line 3 column 284 (char 316)\n",
      "evaluations-qa110.csv saved\n"
     ]
    },
    {
     "name": "stderr",
     "output_type": "stream",
     "text": [
      "100%|███████████████████████████████████████████████████████████████████████████████████████████████████████████████████| 15/15 [00:39<00:00,  2.63s/it]\n"
     ]
    },
    {
     "name": "stdout",
     "output_type": "stream",
     "text": [
      "JSONDecodeError: Expecting ',' delimiter: line 3 column 192 (char 220)\n",
      "JSONDecodeError: Expecting ',' delimiter: line 3 column 329 (char 357)\n",
      "JSONDecodeError: Expecting ',' delimiter: line 3 column 233 (char 261)\n",
      "evaluations-qa111.csv saved\n"
     ]
    },
    {
     "name": "stderr",
     "output_type": "stream",
     "text": [
      "100%|███████████████████████████████████████████████████████████████████████████████████████████████████████████████████| 15/15 [00:39<00:00,  2.66s/it]\n"
     ]
    },
    {
     "name": "stdout",
     "output_type": "stream",
     "text": [
      "JSONDecodeError: Expecting ',' delimiter: line 3 column 401 (char 434)\n",
      "JSONDecodeError: Expecting ',' delimiter: line 3 column 378 (char 406)\n",
      "JSONDecodeError: Expecting ',' delimiter: line 3 column 272 (char 304)\n",
      "JSONDecodeError: Expecting ',' delimiter: line 3 column 300 (char 328)\n",
      "JSONDecodeError: Expecting ',' delimiter: line 3 column 175 (char 201)\n",
      "JSONDecodeError: Expecting ',' delimiter: line 3 column 184 (char 212)\n",
      "JSONDecodeError: Expecting ',' delimiter: line 3 column 196 (char 224)\n",
      "JSONDecodeError: Expecting ',' delimiter: line 3 column 473 (char 508)\n",
      "evaluations-qa112.csv saved\n"
     ]
    },
    {
     "name": "stderr",
     "output_type": "stream",
     "text": [
      "100%|███████████████████████████████████████████████████████████████████████████████████████████████████████████████████| 15/15 [00:39<00:00,  2.60s/it]\n"
     ]
    },
    {
     "name": "stdout",
     "output_type": "stream",
     "text": [
      "JSONDecodeError: Expecting ',' delimiter: line 3 column 415 (char 450)\n",
      "JSONDecodeError: Expecting ',' delimiter: line 3 column 182 (char 210)\n",
      "JSONDecodeError: Expecting ',' delimiter: line 3 column 270 (char 298)\n",
      "JSONDecodeError: Expecting ',' delimiter: line 3 column 219 (char 247)\n",
      "JSONDecodeError: Expecting value: line 1 column 1 (char 0)\n",
      "Failed to fix JSON string: Expecting value: line 1 column 1 (char 0)\n",
      "JSONDecodeError: Expecting ',' delimiter: line 3 column 389 (char 424)\n",
      "JSONDecodeError: Expecting ',' delimiter: line 3 column 248 (char 276)\n",
      "evaluations-qa113.csv saved\n"
     ]
    },
    {
     "name": "stderr",
     "output_type": "stream",
     "text": [
      "100%|███████████████████████████████████████████████████████████████████████████████████████████████████████████████████| 15/15 [00:38<00:00,  2.60s/it]\n"
     ]
    },
    {
     "name": "stdout",
     "output_type": "stream",
     "text": [
      "JSONDecodeError: Expecting ',' delimiter: line 3 column 225 (char 253)\n",
      "JSONDecodeError: Expecting ',' delimiter: line 3 column 153 (char 179)\n",
      "JSONDecodeError: Expecting ',' delimiter: line 3 column 213 (char 241)\n",
      "JSONDecodeError: Expecting ',' delimiter: line 3 column 235 (char 263)\n",
      "JSONDecodeError: Expecting ',' delimiter: line 3 column 362 (char 397)\n",
      "JSONDecodeError: Expecting ',' delimiter: line 3 column 263 (char 289)\n",
      "JSONDecodeError: Expecting value: line 1 column 1 (char 0)\n",
      "Failed to fix JSON string: Expecting value: line 1 column 1 (char 0)\n",
      "JSONDecodeError: Expecting ',' delimiter: line 3 column 321 (char 349)\n",
      "evaluations-qa114.csv saved\n"
     ]
    },
    {
     "name": "stderr",
     "output_type": "stream",
     "text": [
      "100%|███████████████████████████████████████████████████████████████████████████████████████████████████████████████████| 15/15 [00:38<00:00,  2.57s/it]\n"
     ]
    },
    {
     "name": "stdout",
     "output_type": "stream",
     "text": [
      "JSONDecodeError: Expecting ',' delimiter: line 3 column 316 (char 344)\n",
      "JSONDecodeError: Expecting ',' delimiter: line 3 column 295 (char 321)\n",
      "JSONDecodeError: Expecting ',' delimiter: line 3 column 265 (char 293)\n",
      "JSONDecodeError: Expecting ',' delimiter: line 3 column 311 (char 346)\n",
      "JSONDecodeError: Expecting ',' delimiter: line 3 column 336 (char 364)\n",
      "JSONDecodeError: Expecting ',' delimiter: line 3 column 319 (char 354)\n",
      "JSONDecodeError: Expecting value: line 1 column 1 (char 0)\n",
      "Failed to fix JSON string: Expecting value: line 1 column 1 (char 0)\n",
      "evaluations-qa115.csv saved\n"
     ]
    },
    {
     "name": "stderr",
     "output_type": "stream",
     "text": [
      "100%|███████████████████████████████████████████████████████████████████████████████████████████████████████████████████| 15/15 [00:38<00:00,  2.60s/it]\n"
     ]
    },
    {
     "name": "stdout",
     "output_type": "stream",
     "text": [
      "JSONDecodeError: Expecting ',' delimiter: line 3 column 343 (char 371)\n",
      "JSONDecodeError: Expecting value: line 1 column 1 (char 0)\n",
      "Failed to fix JSON string: Expecting value: line 1 column 1 (char 0)\n",
      "JSONDecodeError: Expecting ',' delimiter: line 3 column 97 (char 132)\n",
      "Failed to fix JSON string: Expecting ',' delimiter: line 3 column 97 (char 132)\n",
      "JSONDecodeError: Expecting ',' delimiter: line 3 column 249 (char 277)\n",
      "JSONDecodeError: Expecting ',' delimiter: line 3 column 345 (char 373)\n",
      "JSONDecodeError: Expecting ',' delimiter: line 3 column 233 (char 261)\n",
      "JSONDecodeError: Expecting ',' delimiter: line 3 column 287 (char 313)\n",
      "JSONDecodeError: Expecting ',' delimiter: line 3 column 327 (char 355)\n",
      "JSONDecodeError: Expecting ',' delimiter: line 3 column 262 (char 290)\n",
      "evaluations-qa116.csv saved\n"
     ]
    },
    {
     "name": "stderr",
     "output_type": "stream",
     "text": [
      "100%|███████████████████████████████████████████████████████████████████████████████████████████████████████████████████| 15/15 [00:39<00:00,  2.62s/it]\n"
     ]
    },
    {
     "name": "stdout",
     "output_type": "stream",
     "text": [
      "JSONDecodeError: Expecting ',' delimiter: line 3 column 391 (char 426)\n",
      "JSONDecodeError: Expecting ',' delimiter: line 3 column 292 (char 320)\n",
      "JSONDecodeError: Expecting ',' delimiter: line 3 column 230 (char 258)\n",
      "JSONDecodeError: Expecting value: line 1 column 1 (char 0)\n",
      "Failed to fix JSON string: Expecting value: line 1 column 1 (char 0)\n",
      "JSONDecodeError: Expecting ',' delimiter: line 3 column 364 (char 399)\n",
      "JSONDecodeError: Expecting ',' delimiter: line 3 column 343 (char 378)\n",
      "evaluations-qa117.csv saved\n"
     ]
    },
    {
     "name": "stderr",
     "output_type": "stream",
     "text": [
      "100%|███████████████████████████████████████████████████████████████████████████████████████████████████████████████████| 15/15 [00:38<00:00,  2.57s/it]\n"
     ]
    },
    {
     "name": "stdout",
     "output_type": "stream",
     "text": [
      "JSONDecodeError: Expecting ',' delimiter: line 3 column 261 (char 289)\n",
      "JSONDecodeError: Expecting ',' delimiter: line 3 column 375 (char 403)\n",
      "JSONDecodeError: Expecting ',' delimiter: line 3 column 284 (char 310)\n",
      "JSONDecodeError: Expecting ',' delimiter: line 3 column 585 (char 611)\n",
      "JSONDecodeError: Expecting ',' delimiter: line 3 column 519 (char 554)\n",
      "JSONDecodeError: Expecting ',' delimiter: line 3 column 355 (char 383)\n",
      "JSONDecodeError: Expecting ',' delimiter: line 3 column 423 (char 456)\n",
      "JSONDecodeError: Expecting ',' delimiter: line 3 column 493 (char 526)\n",
      "JSONDecodeError: Expecting ',' delimiter: line 3 column 248 (char 283)\n",
      "evaluations-qa118.csv saved\n"
     ]
    },
    {
     "name": "stderr",
     "output_type": "stream",
     "text": [
      "100%|███████████████████████████████████████████████████████████████████████████████████████████████████████████████████| 15/15 [00:38<00:00,  2.59s/it]\n"
     ]
    },
    {
     "name": "stdout",
     "output_type": "stream",
     "text": [
      "JSONDecodeError: Expecting ',' delimiter: line 3 column 417 (char 449)\n",
      "JSONDecodeError: Expecting ',' delimiter: line 3 column 417 (char 452)\n",
      "JSONDecodeError: Expecting ',' delimiter: line 3 column 201 (char 227)\n",
      "JSONDecodeError: Expecting ',' delimiter: line 3 column 226 (char 254)\n",
      "evaluations-qa119.csv saved\n"
     ]
    },
    {
     "name": "stderr",
     "output_type": "stream",
     "text": [
      "100%|███████████████████████████████████████████████████████████████████████████████████████████████████████████████████| 15/15 [00:38<00:00,  2.58s/it]\n"
     ]
    },
    {
     "name": "stdout",
     "output_type": "stream",
     "text": [
      "JSONDecodeError: Expecting ',' delimiter: line 3 column 528 (char 563)\n",
      "JSONDecodeError: Expecting ',' delimiter: line 3 column 203 (char 231)\n",
      "JSONDecodeError: Expecting ',' delimiter: line 3 column 391 (char 426)\n",
      "JSONDecodeError: Expecting ',' delimiter: line 3 column 240 (char 266)\n",
      "JSONDecodeError: Expecting ',' delimiter: line 3 column 239 (char 267)\n",
      "JSONDecodeError: Expecting ',' delimiter: line 3 column 243 (char 271)\n",
      "evaluations-qa120.csv saved\n"
     ]
    },
    {
     "name": "stderr",
     "output_type": "stream",
     "text": [
      "100%|███████████████████████████████████████████████████████████████████████████████████████████████████████████████████| 15/15 [00:38<00:00,  2.58s/it]\n"
     ]
    },
    {
     "name": "stdout",
     "output_type": "stream",
     "text": [
      "JSONDecodeError: Expecting ',' delimiter: line 3 column 323 (char 351)\n",
      "JSONDecodeError: Expecting value: line 1 column 1 (char 0)\n",
      "Failed to fix JSON string: Expecting value: line 1 column 1 (char 0)\n",
      "JSONDecodeError: Expecting ',' delimiter: line 3 column 289 (char 318)\n",
      "JSONDecodeError: Expecting ',' delimiter: line 3 column 210 (char 238)\n",
      "JSONDecodeError: Expecting ',' delimiter: line 3 column 457 (char 492)\n",
      "JSONDecodeError: Expecting ',' delimiter: line 3 column 362 (char 390)\n",
      "evaluations-qa121.csv saved\n"
     ]
    },
    {
     "name": "stderr",
     "output_type": "stream",
     "text": [
      "100%|███████████████████████████████████████████████████████████████████████████████████████████████████████████████████| 15/15 [00:39<00:00,  2.64s/it]\n"
     ]
    },
    {
     "name": "stdout",
     "output_type": "stream",
     "text": [
      "JSONDecodeError: Expecting ',' delimiter: line 3 column 311 (char 343)\n",
      "JSONDecodeError: Expecting ',' delimiter: line 3 column 541 (char 569)\n",
      "JSONDecodeError: Expecting ',' delimiter: line 3 column 407 (char 442)\n",
      "JSONDecodeError: Expecting ',' delimiter: line 3 column 364 (char 392)\n",
      "JSONDecodeError: Expecting ',' delimiter: line 3 column 436 (char 469)\n",
      "JSONDecodeError: Expecting ',' delimiter: line 3 column 270 (char 298)\n",
      "JSONDecodeError: Expecting ',' delimiter: line 3 column 230 (char 258)\n",
      "JSONDecodeError: Expecting ',' delimiter: line 3 column 276 (char 304)\n",
      "evaluations-qa122.csv saved\n"
     ]
    },
    {
     "name": "stderr",
     "output_type": "stream",
     "text": [
      "100%|███████████████████████████████████████████████████████████████████████████████████████████████████████████████████| 15/15 [00:39<00:00,  2.62s/it]\n"
     ]
    },
    {
     "name": "stdout",
     "output_type": "stream",
     "text": [
      "JSONDecodeError: Expecting ',' delimiter: line 3 column 355 (char 383)\n",
      "JSONDecodeError: Expecting ',' delimiter: line 3 column 328 (char 356)\n",
      "JSONDecodeError: Expecting value: line 1 column 1 (char 0)\n",
      "Failed to fix JSON string: Expecting value: line 1 column 1 (char 0)\n",
      "JSONDecodeError: Expecting ',' delimiter: line 3 column 375 (char 403)\n",
      "JSONDecodeError: Expecting ',' delimiter: line 3 column 294 (char 322)\n",
      "JSONDecodeError: Expecting ',' delimiter: line 3 column 370 (char 398)\n",
      "JSONDecodeError: Expecting ',' delimiter: line 3 column 375 (char 403)\n",
      "JSONDecodeError: Expecting ',' delimiter: line 3 column 201 (char 229)\n",
      "JSONDecodeError: Expecting ',' delimiter: line 3 column 497 (char 532)\n",
      "evaluations-qa123.csv saved\n"
     ]
    },
    {
     "name": "stderr",
     "output_type": "stream",
     "text": [
      "100%|███████████████████████████████████████████████████████████████████████████████████████████████████████████████████| 15/15 [00:38<00:00,  2.58s/it]\n"
     ]
    },
    {
     "name": "stdout",
     "output_type": "stream",
     "text": [
      "JSONDecodeError: Expecting ',' delimiter: line 3 column 393 (char 421)\n",
      "JSONDecodeError: Expecting ',' delimiter: line 3 column 234 (char 262)\n",
      "JSONDecodeError: Expecting ',' delimiter: line 3 column 323 (char 351)\n",
      "JSONDecodeError: Expecting ',' delimiter: line 3 column 213 (char 241)\n",
      "JSONDecodeError: Expecting ',' delimiter: line 3 column 428 (char 463)\n",
      "JSONDecodeError: Expecting ',' delimiter: line 3 column 305 (char 333)\n",
      "JSONDecodeError: Expecting ',' delimiter: line 3 column 206 (char 234)\n",
      "JSONDecodeError: Expecting ',' delimiter: line 3 column 515 (char 550)\n",
      "evaluations-qa124.csv saved\n"
     ]
    },
    {
     "name": "stderr",
     "output_type": "stream",
     "text": [
      "100%|███████████████████████████████████████████████████████████████████████████████████████████████████████████████████| 15/15 [00:39<00:00,  2.60s/it]\n"
     ]
    },
    {
     "name": "stdout",
     "output_type": "stream",
     "text": [
      "JSONDecodeError: Expecting ',' delimiter: line 3 column 369 (char 404)\n",
      "JSONDecodeError: Expecting ',' delimiter: line 3 column 232 (char 267)\n",
      "JSONDecodeError: Expecting ',' delimiter: line 3 column 395 (char 423)\n",
      "JSONDecodeError: Expecting ',' delimiter: line 3 column 312 (char 347)\n",
      "JSONDecodeError: Expecting ',' delimiter: line 3 column 276 (char 304)\n",
      "JSONDecodeError: Expecting ',' delimiter: line 3 column 246 (char 274)\n",
      "evaluations-qa125.csv saved\n"
     ]
    },
    {
     "name": "stderr",
     "output_type": "stream",
     "text": [
      "100%|███████████████████████████████████████████████████████████████████████████████████████████████████████████████████| 15/15 [00:38<00:00,  2.60s/it]\n"
     ]
    },
    {
     "name": "stdout",
     "output_type": "stream",
     "text": [
      "JSONDecodeError: Expecting ',' delimiter: line 3 column 295 (char 323)\n",
      "JSONDecodeError: Expecting ',' delimiter: line 3 column 315 (char 343)\n",
      "JSONDecodeError: Expecting ',' delimiter: line 3 column 351 (char 379)\n",
      "JSONDecodeError: Expecting ',' delimiter: line 3 column 440 (char 475)\n",
      "JSONDecodeError: Expecting value: line 1 column 1 (char 0)\n",
      "Failed to fix JSON string: Expecting value: line 1 column 1 (char 0)\n",
      "JSONDecodeError: Expecting ',' delimiter: line 3 column 376 (char 411)\n",
      "JSONDecodeError: Expecting ',' delimiter: line 3 column 390 (char 418)\n",
      "JSONDecodeError: Expecting ',' delimiter: line 3 column 277 (char 303)\n",
      "JSONDecodeError: Expecting ',' delimiter: line 3 column 318 (char 346)\n",
      "JSONDecodeError: Expecting ',' delimiter: line 3 column 232 (char 260)\n",
      "JSONDecodeError: Expecting ',' delimiter: line 3 column 266 (char 298)\n",
      "evaluations-qa126.csv saved\n"
     ]
    },
    {
     "name": "stderr",
     "output_type": "stream",
     "text": [
      "100%|███████████████████████████████████████████████████████████████████████████████████████████████████████████████████| 15/15 [00:39<00:00,  2.61s/it]\n"
     ]
    },
    {
     "name": "stdout",
     "output_type": "stream",
     "text": [
      "JSONDecodeError: Expecting ',' delimiter: line 3 column 249 (char 277)\n",
      "JSONDecodeError: Expecting ',' delimiter: line 3 column 199 (char 227)\n",
      "JSONDecodeError: Expecting ',' delimiter: line 3 column 334 (char 366)\n",
      "JSONDecodeError: Expecting ',' delimiter: line 3 column 365 (char 393)\n",
      "JSONDecodeError: Expecting ',' delimiter: line 3 column 436 (char 464)\n",
      "JSONDecodeError: Expecting ',' delimiter: line 3 column 247 (char 275)\n",
      "JSONDecodeError: Expecting ',' delimiter: line 3 column 403 (char 431)\n",
      "JSONDecodeError: Expecting ',' delimiter: line 3 column 217 (char 245)\n",
      "evaluations-qa127.csv saved\n"
     ]
    },
    {
     "name": "stderr",
     "output_type": "stream",
     "text": [
      "100%|███████████████████████████████████████████████████████████████████████████████████████████████████████████████████| 15/15 [00:39<00:00,  2.62s/it]\n"
     ]
    },
    {
     "name": "stdout",
     "output_type": "stream",
     "text": [
      "JSONDecodeError: Expecting ',' delimiter: line 3 column 252 (char 280)\n",
      "JSONDecodeError: Expecting ',' delimiter: line 3 column 305 (char 333)\n",
      "JSONDecodeError: Expecting ',' delimiter: line 3 column 409 (char 444)\n",
      "JSONDecodeError: Expecting ',' delimiter: line 3 column 324 (char 352)\n",
      "JSONDecodeError: Expecting ',' delimiter: line 3 column 268 (char 296)\n",
      "JSONDecodeError: Expecting ',' delimiter: line 3 column 212 (char 238)\n",
      "JSONDecodeError: Expecting ',' delimiter: line 3 column 499 (char 534)\n",
      "evaluations-qa128.csv saved\n"
     ]
    },
    {
     "name": "stderr",
     "output_type": "stream",
     "text": [
      "100%|███████████████████████████████████████████████████████████████████████████████████████████████████████████████████| 15/15 [00:38<00:00,  2.58s/it]\n"
     ]
    },
    {
     "name": "stdout",
     "output_type": "stream",
     "text": [
      "JSONDecodeError: Expecting ',' delimiter: line 3 column 373 (char 406)\n",
      "JSONDecodeError: Expecting ',' delimiter: line 3 column 403 (char 431)\n",
      "JSONDecodeError: Expecting ',' delimiter: line 3 column 223 (char 251)\n",
      "JSONDecodeError: Expecting ',' delimiter: line 3 column 159 (char 187)\n",
      "JSONDecodeError: Expecting ',' delimiter: line 3 column 223 (char 251)\n",
      "JSONDecodeError: Expecting ',' delimiter: line 3 column 325 (char 353)\n",
      "JSONDecodeError: Expecting ',' delimiter: line 3 column 296 (char 324)\n",
      "evaluations-qa129.csv saved\n"
     ]
    },
    {
     "name": "stderr",
     "output_type": "stream",
     "text": [
      "100%|███████████████████████████████████████████████████████████████████████████████████████████████████████████████████| 15/15 [00:38<00:00,  2.59s/it]\n"
     ]
    },
    {
     "name": "stdout",
     "output_type": "stream",
     "text": [
      "JSONDecodeError: Expecting ',' delimiter: line 3 column 366 (char 394)\n",
      "JSONDecodeError: Expecting ',' delimiter: line 3 column 303 (char 329)\n",
      "JSONDecodeError: Expecting ',' delimiter: line 3 column 203 (char 231)\n",
      "JSONDecodeError: Expecting value: line 1 column 1 (char 0)\n",
      "Failed to fix JSON string: Expecting value: line 1 column 1 (char 0)\n",
      "JSONDecodeError: Expecting ',' delimiter: line 3 column 283 (char 309)\n",
      "evaluations-qa130.csv saved\n"
     ]
    },
    {
     "name": "stderr",
     "output_type": "stream",
     "text": [
      "100%|███████████████████████████████████████████████████████████████████████████████████████████████████████████████████| 15/15 [00:38<00:00,  2.57s/it]\n"
     ]
    },
    {
     "name": "stdout",
     "output_type": "stream",
     "text": [
      "JSONDecodeError: Expecting ',' delimiter: line 3 column 349 (char 377)\n",
      "JSONDecodeError: Expecting ',' delimiter: line 3 column 206 (char 234)\n",
      "JSONDecodeError: Expecting ',' delimiter: line 3 column 290 (char 318)\n",
      "JSONDecodeError: Expecting ',' delimiter: line 3 column 404 (char 439)\n",
      "JSONDecodeError: Expecting ',' delimiter: line 3 column 221 (char 249)\n",
      "evaluations-qa131.csv saved\n"
     ]
    },
    {
     "name": "stderr",
     "output_type": "stream",
     "text": [
      "100%|███████████████████████████████████████████████████████████████████████████████████████████████████████████████████| 15/15 [00:38<00:00,  2.59s/it]\n"
     ]
    },
    {
     "name": "stdout",
     "output_type": "stream",
     "text": [
      "JSONDecodeError: Expecting ',' delimiter: line 3 column 336 (char 364)\n",
      "JSONDecodeError: Expecting ',' delimiter: line 3 column 168 (char 200)\n",
      "JSONDecodeError: Unterminated string starting at: line 3 column 18 (char 53)\n",
      "Failed to fix JSON string: Unterminated string starting at: line 3 column 18 (char 53)\n",
      "JSONDecodeError: Expecting ',' delimiter: line 3 column 300 (char 328)\n",
      "JSONDecodeError: Expecting ',' delimiter: line 3 column 336 (char 364)\n",
      "JSONDecodeError: Expecting ',' delimiter: line 3 column 393 (char 426)\n",
      "evaluations-qa132.csv saved\n"
     ]
    },
    {
     "name": "stderr",
     "output_type": "stream",
     "text": [
      "100%|███████████████████████████████████████████████████████████████████████████████████████████████████████████████████| 15/15 [00:38<00:00,  2.59s/it]\n"
     ]
    },
    {
     "name": "stdout",
     "output_type": "stream",
     "text": [
      "JSONDecodeError: Expecting ',' delimiter: line 3 column 216 (char 242)\n",
      "JSONDecodeError: Expecting ',' delimiter: line 3 column 274 (char 304)\n",
      "JSONDecodeError: Expecting ',' delimiter: line 3 column 456 (char 491)\n",
      "JSONDecodeError: Expecting value: line 1 column 1 (char 0)\n",
      "Failed to fix JSON string: Expecting value: line 1 column 1 (char 0)\n",
      "JSONDecodeError: Expecting ',' delimiter: line 3 column 225 (char 253)\n",
      "evaluations-qa133.csv saved\n"
     ]
    },
    {
     "name": "stderr",
     "output_type": "stream",
     "text": [
      "100%|███████████████████████████████████████████████████████████████████████████████████████████████████████████████████| 15/15 [00:39<00:00,  2.66s/it]\n"
     ]
    },
    {
     "name": "stdout",
     "output_type": "stream",
     "text": [
      "JSONDecodeError: Expecting ',' delimiter: line 3 column 352 (char 380)\n",
      "JSONDecodeError: Expecting ',' delimiter: line 3 column 277 (char 305)\n",
      "JSONDecodeError: Expecting ',' delimiter: line 3 column 405 (char 433)\n",
      "JSONDecodeError: Expecting ',' delimiter: line 3 column 393 (char 421)\n",
      "JSONDecodeError: Expecting ',' delimiter: line 3 column 326 (char 354)\n",
      "JSONDecodeError: Expecting ',' delimiter: line 3 column 425 (char 460)\n",
      "JSONDecodeError: Expecting ',' delimiter: line 3 column 601 (char 636)\n",
      "JSONDecodeError: Expecting ',' delimiter: line 3 column 163 (char 189)\n",
      "JSONDecodeError: Expecting ',' delimiter: line 3 column 475 (char 510)\n",
      "JSONDecodeError: Expecting ',' delimiter: line 3 column 308 (char 336)\n",
      "evaluations-qa134.csv saved\n"
     ]
    },
    {
     "name": "stderr",
     "output_type": "stream",
     "text": [
      "100%|███████████████████████████████████████████████████████████████████████████████████████████████████████████████████| 15/15 [00:39<00:00,  2.60s/it]\n"
     ]
    },
    {
     "name": "stdout",
     "output_type": "stream",
     "text": [
      "JSONDecodeError: Expecting ',' delimiter: line 3 column 277 (char 305)\n",
      "JSONDecodeError: Expecting ',' delimiter: line 3 column 407 (char 442)\n",
      "JSONDecodeError: Expecting ',' delimiter: line 3 column 373 (char 406)\n",
      "JSONDecodeError: Expecting ',' delimiter: line 3 column 244 (char 272)\n",
      "JSONDecodeError: Expecting ',' delimiter: line 3 column 265 (char 297)\n",
      "JSONDecodeError: Expecting ',' delimiter: line 3 column 252 (char 287)\n",
      "JSONDecodeError: Expecting ',' delimiter: line 3 column 294 (char 326)\n",
      "JSONDecodeError: Expecting ',' delimiter: line 3 column 181 (char 207)\n",
      "JSONDecodeError: Expecting ',' delimiter: line 3 column 414 (char 449)\n",
      "JSONDecodeError: Expecting ',' delimiter: line 3 column 178 (char 206)\n",
      "JSONDecodeError: Expecting ',' delimiter: line 3 column 326 (char 361)\n",
      "JSONDecodeError: Expecting ',' delimiter: line 3 column 197 (char 225)\n",
      "evaluations-qa135.csv saved\n"
     ]
    },
    {
     "name": "stderr",
     "output_type": "stream",
     "text": [
      "100%|███████████████████████████████████████████████████████████████████████████████████████████████████████████████████| 15/15 [00:39<00:00,  2.61s/it]\n"
     ]
    },
    {
     "name": "stdout",
     "output_type": "stream",
     "text": [
      "JSONDecodeError: Expecting ',' delimiter: line 3 column 202 (char 230)\n",
      "JSONDecodeError: Expecting ',' delimiter: line 3 column 480 (char 515)\n",
      "JSONDecodeError: Expecting ',' delimiter: line 3 column 317 (char 345)\n",
      "JSONDecodeError: Expecting ',' delimiter: line 3 column 354 (char 380)\n",
      "JSONDecodeError: Expecting ',' delimiter: line 3 column 266 (char 294)\n",
      "JSONDecodeError: Expecting ',' delimiter: line 3 column 393 (char 421)\n",
      "JSONDecodeError: Expecting ',' delimiter: line 3 column 342 (char 368)\n",
      "evaluations-qa136.csv saved\n"
     ]
    },
    {
     "name": "stderr",
     "output_type": "stream",
     "text": [
      "100%|███████████████████████████████████████████████████████████████████████████████████████████████████████████████████| 15/15 [00:38<00:00,  2.57s/it]\n"
     ]
    },
    {
     "name": "stdout",
     "output_type": "stream",
     "text": [
      "JSONDecodeError: Expecting ',' delimiter: line 3 column 215 (char 243)\n",
      "JSONDecodeError: Expecting ',' delimiter: line 3 column 258 (char 286)\n",
      "JSONDecodeError: Expecting ',' delimiter: line 3 column 360 (char 388)\n",
      "JSONDecodeError: Expecting ',' delimiter: line 3 column 276 (char 302)\n",
      "JSONDecodeError: Expecting ',' delimiter: line 3 column 327 (char 355)\n",
      "JSONDecodeError: Expecting ',' delimiter: line 3 column 187 (char 215)\n",
      "evaluations-qa137.csv saved\n"
     ]
    },
    {
     "name": "stderr",
     "output_type": "stream",
     "text": [
      "100%|███████████████████████████████████████████████████████████████████████████████████████████████████████████████████| 15/15 [00:38<00:00,  2.58s/it]\n"
     ]
    },
    {
     "name": "stdout",
     "output_type": "stream",
     "text": [
      "JSONDecodeError: Expecting ',' delimiter: line 3 column 216 (char 244)\n",
      "JSONDecodeError: Expecting value: line 1 column 1 (char 0)\n",
      "Failed to fix JSON string: Expecting value: line 1 column 1 (char 0)\n",
      "JSONDecodeError: Expecting ',' delimiter: line 3 column 340 (char 375)\n",
      "JSONDecodeError: Expecting ',' delimiter: line 3 column 430 (char 465)\n",
      "JSONDecodeError: Expecting ',' delimiter: line 3 column 292 (char 320)\n",
      "JSONDecodeError: Expecting ',' delimiter: line 3 column 378 (char 413)\n",
      "JSONDecodeError: Expecting ',' delimiter: line 3 column 394 (char 422)\n",
      "JSONDecodeError: Expecting ',' delimiter: line 3 column 335 (char 363)\n",
      "evaluations-qa138.csv saved\n"
     ]
    },
    {
     "name": "stderr",
     "output_type": "stream",
     "text": [
      "100%|███████████████████████████████████████████████████████████████████████████████████████████████████████████████████| 15/15 [00:38<00:00,  2.57s/it]\n"
     ]
    },
    {
     "name": "stdout",
     "output_type": "stream",
     "text": [
      "JSONDecodeError: Expecting ',' delimiter: line 3 column 215 (char 243)\n",
      "JSONDecodeError: Expecting ',' delimiter: line 3 column 320 (char 355)\n",
      "JSONDecodeError: Expecting ',' delimiter: line 3 column 310 (char 345)\n",
      "JSONDecodeError: Expecting ',' delimiter: line 3 column 328 (char 356)\n",
      "JSONDecodeError: Expecting ',' delimiter: line 3 column 159 (char 187)\n",
      "JSONDecodeError: Expecting ',' delimiter: line 3 column 360 (char 395)\n",
      "JSONDecodeError: Expecting ',' delimiter: line 3 column 210 (char 242)\n",
      "JSONDecodeError: Expecting ',' delimiter: line 3 column 417 (char 452)\n",
      "evaluations-qa139.csv saved\n"
     ]
    },
    {
     "name": "stderr",
     "output_type": "stream",
     "text": [
      "100%|███████████████████████████████████████████████████████████████████████████████████████████████████████████████████| 15/15 [00:38<00:00,  2.59s/it]\n"
     ]
    },
    {
     "name": "stdout",
     "output_type": "stream",
     "text": [
      "JSONDecodeError: Expecting ',' delimiter: line 3 column 306 (char 334)\n",
      "JSONDecodeError: Expecting ',' delimiter: line 3 column 284 (char 316)\n",
      "JSONDecodeError: Expecting value: line 1 column 1 (char 0)\n",
      "Failed to fix JSON string: Expecting value: line 1 column 1 (char 0)\n",
      "JSONDecodeError: Expecting ',' delimiter: line 3 column 311 (char 339)\n",
      "JSONDecodeError: Expecting value: line 1 column 1 (char 0)\n",
      "Failed to fix JSON string: Expecting value: line 1 column 1 (char 0)\n",
      "JSONDecodeError: Expecting ',' delimiter: line 3 column 300 (char 328)\n",
      "JSONDecodeError: Expecting ',' delimiter: line 3 column 221 (char 249)\n",
      "JSONDecodeError: Expecting ',' delimiter: line 3 column 247 (char 273)\n",
      "JSONDecodeError: Expecting ',' delimiter: line 3 column 323 (char 351)\n",
      "evaluations-qa140.csv saved\n"
     ]
    },
    {
     "name": "stderr",
     "output_type": "stream",
     "text": [
      "100%|███████████████████████████████████████████████████████████████████████████████████████████████████████████████████| 15/15 [00:38<00:00,  2.57s/it]\n"
     ]
    },
    {
     "name": "stdout",
     "output_type": "stream",
     "text": [
      "JSONDecodeError: Expecting ',' delimiter: line 3 column 307 (char 335)\n",
      "JSONDecodeError: Expecting ',' delimiter: line 3 column 371 (char 399)\n",
      "JSONDecodeError: Expecting ',' delimiter: line 3 column 298 (char 326)\n",
      "JSONDecodeError: Expecting ',' delimiter: line 3 column 320 (char 348)\n",
      "JSONDecodeError: Expecting ',' delimiter: line 3 column 338 (char 373)\n",
      "JSONDecodeError: Expecting ',' delimiter: line 3 column 261 (char 289)\n",
      "evaluations-qa141.csv saved\n"
     ]
    },
    {
     "name": "stderr",
     "output_type": "stream",
     "text": [
      "100%|███████████████████████████████████████████████████████████████████████████████████████████████████████████████████| 15/15 [00:39<00:00,  2.66s/it]\n"
     ]
    },
    {
     "name": "stdout",
     "output_type": "stream",
     "text": [
      "JSONDecodeError: Expecting ',' delimiter: line 3 column 320 (char 346)\n",
      "JSONDecodeError: Expecting ',' delimiter: line 3 column 467 (char 502)\n",
      "JSONDecodeError: Expecting ',' delimiter: line 3 column 308 (char 343)\n",
      "JSONDecodeError: Expecting ',' delimiter: line 3 column 387 (char 415)\n",
      "JSONDecodeError: Expecting ',' delimiter: line 3 column 285 (char 313)\n",
      "JSONDecodeError: Expecting ',' delimiter: line 3 column 191 (char 219)\n",
      "JSONDecodeError: Expecting ',' delimiter: line 3 column 358 (char 393)\n",
      "JSONDecodeError: Expecting value: line 1 column 1 (char 0)\n",
      "Failed to fix JSON string: Expecting value: line 1 column 1 (char 0)\n",
      "evaluations-qa142.csv saved\n"
     ]
    },
    {
     "name": "stderr",
     "output_type": "stream",
     "text": [
      "100%|███████████████████████████████████████████████████████████████████████████████████████████████████████████████████| 15/15 [00:38<00:00,  2.57s/it]\n"
     ]
    },
    {
     "name": "stdout",
     "output_type": "stream",
     "text": [
      "JSONDecodeError: Expecting ',' delimiter: line 3 column 270 (char 298)\n",
      "JSONDecodeError: Expecting ',' delimiter: line 3 column 360 (char 392)\n",
      "JSONDecodeError: Expecting ',' delimiter: line 3 column 422 (char 457)\n",
      "JSONDecodeError: Expecting ',' delimiter: line 3 column 478 (char 506)\n",
      "JSONDecodeError: Expecting ',' delimiter: line 3 column 282 (char 308)\n",
      "JSONDecodeError: Expecting ',' delimiter: line 3 column 366 (char 398)\n",
      "JSONDecodeError: Expecting ',' delimiter: line 3 column 344 (char 379)\n",
      "JSONDecodeError: Expecting ',' delimiter: line 3 column 325 (char 355)\n",
      "evaluations-qa143.csv saved\n"
     ]
    },
    {
     "name": "stderr",
     "output_type": "stream",
     "text": [
      "100%|███████████████████████████████████████████████████████████████████████████████████████████████████████████████████| 15/15 [00:38<00:00,  2.58s/it]\n"
     ]
    },
    {
     "name": "stdout",
     "output_type": "stream",
     "text": [
      "JSONDecodeError: Expecting ',' delimiter: line 3 column 389 (char 424)\n",
      "JSONDecodeError: Expecting value: line 1 column 1 (char 0)\n",
      "Failed to fix JSON string: Expecting value: line 1 column 1 (char 0)\n",
      "JSONDecodeError: Expecting ',' delimiter: line 3 column 236 (char 269)\n",
      "JSONDecodeError: Expecting ',' delimiter: line 3 column 304 (char 332)\n",
      "JSONDecodeError: Expecting ',' delimiter: line 3 column 555 (char 588)\n",
      "JSONDecodeError: Expecting value: line 1 column 1 (char 0)\n",
      "Failed to fix JSON string: Expecting value: line 1 column 1 (char 0)\n",
      "JSONDecodeError: Expecting ',' delimiter: line 3 column 475 (char 507)\n",
      "JSONDecodeError: Expecting ',' delimiter: line 3 column 339 (char 374)\n",
      "JSONDecodeError: Expecting ',' delimiter: line 3 column 453 (char 481)\n",
      "evaluations-qa144.csv saved\n"
     ]
    },
    {
     "name": "stderr",
     "output_type": "stream",
     "text": [
      "100%|███████████████████████████████████████████████████████████████████████████████████████████████████████████████████| 15/15 [00:38<00:00,  2.58s/it]\n"
     ]
    },
    {
     "name": "stdout",
     "output_type": "stream",
     "text": [
      "JSONDecodeError: Expecting ',' delimiter: line 3 column 467 (char 502)\n",
      "JSONDecodeError: Expecting ',' delimiter: line 3 column 551 (char 586)\n",
      "JSONDecodeError: Expecting value: line 1 column 1 (char 0)\n",
      "Failed to fix JSON string: Expecting value: line 1 column 1 (char 0)\n",
      "JSONDecodeError: Expecting ',' delimiter: line 3 column 216 (char 242)\n",
      "JSONDecodeError: Expecting ',' delimiter: line 3 column 175 (char 203)\n",
      "JSONDecodeError: Expecting ',' delimiter: line 3 column 388 (char 416)\n",
      "evaluations-qa145.csv saved\n"
     ]
    },
    {
     "name": "stderr",
     "output_type": "stream",
     "text": [
      "100%|███████████████████████████████████████████████████████████████████████████████████████████████████████████████████| 15/15 [00:38<00:00,  2.58s/it]\n"
     ]
    },
    {
     "name": "stdout",
     "output_type": "stream",
     "text": [
      "JSONDecodeError: Expecting ',' delimiter: line 3 column 279 (char 307)\n",
      "JSONDecodeError: Expecting ',' delimiter: line 3 column 336 (char 364)\n",
      "JSONDecodeError: Expecting ',' delimiter: line 3 column 366 (char 401)\n",
      "JSONDecodeError: Expecting ',' delimiter: line 3 column 370 (char 398)\n",
      "JSONDecodeError: Expecting ',' delimiter: line 3 column 387 (char 413)\n",
      "JSONDecodeError: Expecting ',' delimiter: line 3 column 483 (char 516)\n",
      "JSONDecodeError: Expecting ',' delimiter: line 3 column 313 (char 346)\n",
      "evaluations-qa146.csv saved\n"
     ]
    },
    {
     "name": "stderr",
     "output_type": "stream",
     "text": [
      "100%|███████████████████████████████████████████████████████████████████████████████████████████████████████████████████| 15/15 [00:39<00:00,  2.63s/it]\n"
     ]
    },
    {
     "name": "stdout",
     "output_type": "stream",
     "text": [
      "JSONDecodeError: Expecting ',' delimiter: line 3 column 534 (char 569)\n",
      "JSONDecodeError: Expecting ',' delimiter: line 3 column 225 (char 253)\n",
      "JSONDecodeError: Expecting ',' delimiter: line 3 column 175 (char 203)\n",
      "JSONDecodeError: Expecting ',' delimiter: line 3 column 447 (char 482)\n",
      "evaluations-qa147.csv saved\n"
     ]
    },
    {
     "name": "stderr",
     "output_type": "stream",
     "text": [
      "100%|███████████████████████████████████████████████████████████████████████████████████████████████████████████████████| 15/15 [00:38<00:00,  2.58s/it]\n"
     ]
    },
    {
     "name": "stdout",
     "output_type": "stream",
     "text": [
      "JSONDecodeError: Expecting ',' delimiter: line 3 column 275 (char 303)\n",
      "JSONDecodeError: Expecting ',' delimiter: line 3 column 391 (char 426)\n",
      "JSONDecodeError: Expecting ',' delimiter: line 3 column 284 (char 312)\n",
      "JSONDecodeError: Expecting ',' delimiter: line 3 column 323 (char 351)\n",
      "JSONDecodeError: Expecting ',' delimiter: line 3 column 266 (char 294)\n",
      "JSONDecodeError: Expecting ',' delimiter: line 3 column 237 (char 265)\n",
      "JSONDecodeError: Expecting ',' delimiter: line 3 column 290 (char 318)\n",
      "JSONDecodeError: Expecting ',' delimiter: line 3 column 182 (char 210)\n",
      "JSONDecodeError: Expecting ',' delimiter: line 3 column 290 (char 318)\n",
      "JSONDecodeError: Expecting ',' delimiter: line 3 column 520 (char 546)\n",
      "evaluations-qa148.csv saved\n"
     ]
    },
    {
     "name": "stderr",
     "output_type": "stream",
     "text": [
      "100%|███████████████████████████████████████████████████████████████████████████████████████████████████████████████████| 15/15 [00:38<00:00,  2.57s/it]"
     ]
    },
    {
     "name": "stdout",
     "output_type": "stream",
     "text": [
      "JSONDecodeError: Expecting ',' delimiter: line 3 column 302 (char 328)\n",
      "JSONDecodeError: Expecting ',' delimiter: line 3 column 461 (char 489)\n",
      "JSONDecodeError: Expecting ',' delimiter: line 3 column 437 (char 463)\n",
      "JSONDecodeError: Expecting ',' delimiter: line 3 column 317 (char 345)\n",
      "JSONDecodeError: Expecting ',' delimiter: line 3 column 287 (char 315)\n",
      "JSONDecodeError: Expecting value: line 1 column 1 (char 0)\n",
      "Failed to fix JSON string: Expecting value: line 1 column 1 (char 0)\n",
      "JSONDecodeError: Expecting ',' delimiter: line 3 column 218 (char 246)\n",
      "evaluations-qa149.csv saved\n"
     ]
    },
    {
     "name": "stderr",
     "output_type": "stream",
     "text": [
      "\n"
     ]
    }
   ],
   "source": [
    "for i in range(83, 150):\n",
    "    evaluations = []\n",
    "    results = []\n",
    "    json_evaluations = []\n",
    "    \n",
    "    # Load the pickle file\n",
    "    with open(f\"../data/vietnamese_rag/llm_answer/llm_answer{i}.pkl\", 'rb') as file:\n",
    "        r = pickle.load(file)\n",
    "    results.extend(r)\n",
    "    \n",
    "    # Convert results to DataFrame\n",
    "    df = pd.DataFrame(results)\n",
    "    samples = df.to_dict(orient='records')\n",
    "    \n",
    "    # Generate evaluations\n",
    "    for record in tqdm(samples):\n",
    "        prompt = prompt2_template.format(**record)\n",
    "        evaluation = llm(prompt)\n",
    "        evaluations.append(evaluation)\n",
    "    \n",
    "    # Parse evaluations\n",
    "    for j, str_eval in enumerate(evaluations):\n",
    "        try:\n",
    "            json_eval = json.loads(str_eval)\n",
    "        except json.JSONDecodeError as e:\n",
    "            print(f\"JSONDecodeError: {e}\")\n",
    "            # Attempt to fix the JSON string\n",
    "            try:\n",
    "                # str_eval = \"{\" + str_eval.lstrip(\"{\")  # Ensure it starts with an opening brace\n",
    "                str_eval = str_eval.rstrip('}') + '}'  # Ensure it ends with a closing brace\n",
    "                json_eval = json.loads(str_eval)\n",
    "            except json.JSONDecodeError as e:\n",
    "                print(f\"Failed to fix JSON string: {e}\")\n",
    "                continue  # Skip this evaluation if it cannot be fixed\n",
    "        json_evaluations.append(json_eval)\n",
    "    \n",
    "    # Save evaluations to CSV\n",
    "    if json_evaluations:\n",
    "        df_evaluations = pd.DataFrame(json_evaluations)\n",
    "        df_evaluations.to_csv(f'../data/vietnamese_rag/evaluations_qa/evaluations-qa{i}.csv', index=False)\n",
    "        print(f\"evaluations-qa{i}.csv saved\")"
   ]
  },
  {
   "cell_type": "code",
   "execution_count": null,
   "id": "1abebc3a-a2e3-4c07-800d-75f2dc85394e",
   "metadata": {},
   "outputs": [
    {
     "name": "stderr",
     "output_type": "stream",
     "text": [
      "100%|███████████████████████████████████████████████████████████████████████████████████████████████████████████████████| 15/15 [00:38<00:00,  2.57s/it]\n"
     ]
    },
    {
     "name": "stdout",
     "output_type": "stream",
     "text": [
      "JSONDecodeError: Expecting ',' delimiter: line 3 column 381 (char 409)\n",
      "JSONDecodeError: Expecting ',' delimiter: line 3 column 304 (char 339)\n",
      "Failed to fix JSON string: Expecting ',' delimiter: line 3 column 304 (char 339)\n",
      "JSONDecodeError: Expecting ',' delimiter: line 3 column 421 (char 449)\n",
      "JSONDecodeError: Expecting ',' delimiter: line 3 column 241 (char 269)\n",
      "JSONDecodeError: Expecting value: line 1 column 1 (char 0)\n",
      "Failed to fix JSON string: Expecting value: line 1 column 1 (char 0)\n",
      "JSONDecodeError: Expecting ',' delimiter: line 3 column 303 (char 331)\n",
      "evaluations-qa150.csv saved\n"
     ]
    },
    {
     "name": "stderr",
     "output_type": "stream",
     "text": [
      "100%|███████████████████████████████████████████████████████████████████████████████████████████████████████████████████| 15/15 [00:40<00:00,  2.68s/it]\n"
     ]
    },
    {
     "name": "stdout",
     "output_type": "stream",
     "text": [
      "JSONDecodeError: Expecting ',' delimiter: line 3 column 342 (char 370)\n",
      "JSONDecodeError: Expecting ',' delimiter: line 3 column 236 (char 264)\n",
      "JSONDecodeError: Expecting ',' delimiter: line 3 column 327 (char 353)\n",
      "JSONDecodeError: Expecting ',' delimiter: line 3 column 351 (char 379)\n",
      "JSONDecodeError: Expecting ',' delimiter: line 3 column 398 (char 426)\n",
      "JSONDecodeError: Expecting ',' delimiter: line 3 column 329 (char 355)\n",
      "JSONDecodeError: Expecting ',' delimiter: line 3 column 411 (char 439)\n",
      "JSONDecodeError: Expecting ',' delimiter: line 3 column 393 (char 421)\n",
      "JSONDecodeError: Expecting ',' delimiter: line 3 column 190 (char 218)\n",
      "JSONDecodeError: Expecting ',' delimiter: line 3 column 422 (char 457)\n",
      "JSONDecodeError: Expecting ',' delimiter: line 3 column 324 (char 352)\n",
      "JSONDecodeError: Expecting ',' delimiter: line 3 column 358 (char 393)\n",
      "JSONDecodeError: Expecting ',' delimiter: line 3 column 220 (char 248)\n",
      "JSONDecodeError: Expecting ',' delimiter: line 3 column 498 (char 533)\n",
      "evaluations-qa151.csv saved\n"
     ]
    },
    {
     "name": "stderr",
     "output_type": "stream",
     "text": [
      "100%|███████████████████████████████████████████████████████████████████████████████████████████████████████████████████| 15/15 [00:39<00:00,  2.62s/it]\n"
     ]
    },
    {
     "name": "stdout",
     "output_type": "stream",
     "text": [
      "JSONDecodeError: Expecting ',' delimiter: line 3 column 431 (char 464)\n",
      "JSONDecodeError: Expecting ',' delimiter: line 3 column 312 (char 338)\n",
      "JSONDecodeError: Expecting ',' delimiter: line 3 column 353 (char 388)\n",
      "JSONDecodeError: Expecting ',' delimiter: line 3 column 332 (char 360)\n",
      "JSONDecodeError: Expecting ',' delimiter: line 3 column 414 (char 447)\n",
      "JSONDecodeError: Expecting ',' delimiter: line 3 column 322 (char 350)\n",
      "JSONDecodeError: Expecting ',' delimiter: line 3 column 613 (char 648)\n",
      "JSONDecodeError: Expecting ',' delimiter: line 3 column 499 (char 534)\n",
      "evaluations-qa152.csv saved\n"
     ]
    },
    {
     "name": "stderr",
     "output_type": "stream",
     "text": [
      "100%|███████████████████████████████████████████████████████████████████████████████████████████████████████████████████| 15/15 [00:39<00:00,  2.60s/it]\n"
     ]
    },
    {
     "name": "stdout",
     "output_type": "stream",
     "text": [
      "JSONDecodeError: Expecting ',' delimiter: line 3 column 355 (char 381)\n",
      "JSONDecodeError: Expecting value: line 1 column 1 (char 0)\n",
      "Failed to fix JSON string: Expecting value: line 1 column 1 (char 0)\n",
      "JSONDecodeError: Expecting ',' delimiter: line 3 column 366 (char 392)\n",
      "JSONDecodeError: Expecting ',' delimiter: line 3 column 304 (char 332)\n",
      "JSONDecodeError: Expecting ',' delimiter: line 3 column 214 (char 249)\n",
      "Failed to fix JSON string: Expecting ',' delimiter: line 3 column 214 (char 249)\n",
      "JSONDecodeError: Expecting ',' delimiter: line 3 column 409 (char 444)\n",
      "JSONDecodeError: Expecting ',' delimiter: line 3 column 350 (char 376)\n",
      "JSONDecodeError: Expecting ',' delimiter: line 3 column 206 (char 234)\n",
      "evaluations-qa153.csv saved\n"
     ]
    },
    {
     "name": "stderr",
     "output_type": "stream",
     "text": [
      "100%|███████████████████████████████████████████████████████████████████████████████████████████████████████████████████| 15/15 [00:38<00:00,  2.60s/it]\n"
     ]
    },
    {
     "name": "stdout",
     "output_type": "stream",
     "text": [
      "JSONDecodeError: Expecting ',' delimiter: line 3 column 483 (char 518)\n",
      "JSONDecodeError: Expecting ',' delimiter: line 3 column 337 (char 365)\n",
      "JSONDecodeError: Expecting ',' delimiter: line 3 column 437 (char 472)\n",
      "JSONDecodeError: Expecting value: line 1 column 1 (char 0)\n",
      "Failed to fix JSON string: Expecting value: line 1 column 1 (char 0)\n",
      "JSONDecodeError: Expecting ',' delimiter: line 3 column 210 (char 242)\n",
      "JSONDecodeError: Expecting ',' delimiter: line 3 column 217 (char 245)\n",
      "JSONDecodeError: Expecting ',' delimiter: line 3 column 507 (char 540)\n",
      "evaluations-qa154.csv saved\n"
     ]
    },
    {
     "name": "stderr",
     "output_type": "stream",
     "text": [
      "100%|███████████████████████████████████████████████████████████████████████████████████████████████████████████████████| 15/15 [00:38<00:00,  2.59s/it]\n"
     ]
    },
    {
     "name": "stdout",
     "output_type": "stream",
     "text": [
      "JSONDecodeError: Expecting ',' delimiter: line 3 column 440 (char 468)\n",
      "JSONDecodeError: Expecting ',' delimiter: line 3 column 454 (char 482)\n",
      "JSONDecodeError: Expecting value: line 1 column 1 (char 0)\n",
      "Failed to fix JSON string: Expecting value: line 1 column 1 (char 0)\n",
      "JSONDecodeError: Expecting ',' delimiter: line 3 column 312 (char 340)\n",
      "JSONDecodeError: Expecting ',' delimiter: line 3 column 377 (char 405)\n",
      "JSONDecodeError: Expecting ',' delimiter: line 3 column 378 (char 406)\n",
      "JSONDecodeError: Expecting ',' delimiter: line 3 column 370 (char 405)\n",
      "JSONDecodeError: Expecting ',' delimiter: line 3 column 374 (char 402)\n",
      "evaluations-qa155.csv saved\n"
     ]
    },
    {
     "name": "stderr",
     "output_type": "stream",
     "text": [
      "100%|███████████████████████████████████████████████████████████████████████████████████████████████████████████████████| 15/15 [00:39<00:00,  2.62s/it]\n"
     ]
    },
    {
     "name": "stdout",
     "output_type": "stream",
     "text": [
      "JSONDecodeError: Expecting value: line 1 column 1 (char 0)\n",
      "Failed to fix JSON string: Expecting value: line 1 column 1 (char 0)\n",
      "JSONDecodeError: Expecting ',' delimiter: line 3 column 199 (char 229)\n",
      "JSONDecodeError: Expecting ',' delimiter: line 3 column 444 (char 479)\n",
      "JSONDecodeError: Expecting ',' delimiter: line 3 column 275 (char 310)\n",
      "JSONDecodeError: Expecting ',' delimiter: line 3 column 433 (char 468)\n",
      "JSONDecodeError: Expecting ',' delimiter: line 3 column 306 (char 341)\n",
      "JSONDecodeError: Expecting ',' delimiter: line 3 column 164 (char 192)\n",
      "evaluations-qa156.csv saved\n"
     ]
    },
    {
     "name": "stderr",
     "output_type": "stream",
     "text": [
      "100%|███████████████████████████████████████████████████████████████████████████████████████████████████████████████████| 15/15 [00:40<00:00,  2.67s/it]\n"
     ]
    },
    {
     "name": "stdout",
     "output_type": "stream",
     "text": [
      "JSONDecodeError: Expecting ',' delimiter: line 3 column 310 (char 345)\n",
      "JSONDecodeError: Expecting ',' delimiter: line 3 column 268 (char 296)\n",
      "JSONDecodeError: Expecting ',' delimiter: line 3 column 546 (char 581)\n",
      "JSONDecodeError: Expecting ',' delimiter: line 3 column 384 (char 412)\n",
      "JSONDecodeError: Expecting ',' delimiter: line 3 column 311 (char 337)\n",
      "JSONDecodeError: Expecting value: line 1 column 1 (char 0)\n",
      "Failed to fix JSON string: Expecting value: line 1 column 1 (char 0)\n",
      "JSONDecodeError: Expecting ',' delimiter: line 3 column 482 (char 514)\n",
      "evaluations-qa157.csv saved\n"
     ]
    },
    {
     "name": "stderr",
     "output_type": "stream",
     "text": [
      "100%|███████████████████████████████████████████████████████████████████████████████████████████████████████████████████| 15/15 [00:39<00:00,  2.61s/it]\n"
     ]
    },
    {
     "name": "stdout",
     "output_type": "stream",
     "text": [
      "JSONDecodeError: Expecting ',' delimiter: line 3 column 299 (char 327)\n",
      "JSONDecodeError: Expecting ',' delimiter: line 3 column 228 (char 256)\n",
      "JSONDecodeError: Expecting ',' delimiter: line 3 column 252 (char 280)\n",
      "JSONDecodeError: Expecting ',' delimiter: line 3 column 391 (char 419)\n",
      "JSONDecodeError: Expecting ',' delimiter: line 3 column 216 (char 244)\n",
      "JSONDecodeError: Expecting ',' delimiter: line 3 column 302 (char 330)\n",
      "JSONDecodeError: Expecting ',' delimiter: line 3 column 147 (char 173)\n",
      "evaluations-qa158.csv saved\n"
     ]
    },
    {
     "name": "stderr",
     "output_type": "stream",
     "text": [
      "100%|███████████████████████████████████████████████████████████████████████████████████████████████████████████████████| 15/15 [00:38<00:00,  2.59s/it]\n"
     ]
    },
    {
     "name": "stdout",
     "output_type": "stream",
     "text": [
      "JSONDecodeError: Expecting ',' delimiter: line 3 column 248 (char 276)\n",
      "JSONDecodeError: Expecting ',' delimiter: line 3 column 374 (char 402)\n",
      "JSONDecodeError: Expecting ',' delimiter: line 3 column 296 (char 324)\n",
      "JSONDecodeError: Expecting ',' delimiter: line 3 column 286 (char 314)\n",
      "Failed to fix JSON string: Expecting ',' delimiter: line 3 column 286 (char 314)\n",
      "JSONDecodeError: Expecting value: line 1 column 1 (char 0)\n",
      "Failed to fix JSON string: Expecting value: line 1 column 1 (char 0)\n",
      "JSONDecodeError: Expecting ',' delimiter: line 3 column 271 (char 297)\n",
      "JSONDecodeError: Expecting ',' delimiter: line 3 column 306 (char 332)\n",
      "evaluations-qa159.csv saved\n"
     ]
    },
    {
     "name": "stderr",
     "output_type": "stream",
     "text": [
      "100%|███████████████████████████████████████████████████████████████████████████████████████████████████████████████████| 15/15 [00:39<00:00,  2.62s/it]\n"
     ]
    },
    {
     "name": "stdout",
     "output_type": "stream",
     "text": [
      "JSONDecodeError: Expecting ',' delimiter: line 3 column 464 (char 499)\n",
      "JSONDecodeError: Expecting ',' delimiter: line 3 column 331 (char 357)\n",
      "JSONDecodeError: Expecting ',' delimiter: line 3 column 289 (char 317)\n",
      "JSONDecodeError: Expecting ',' delimiter: line 3 column 369 (char 402)\n",
      "JSONDecodeError: Expecting value: line 1 column 1 (char 0)\n",
      "Failed to fix JSON string: Expecting value: line 1 column 1 (char 0)\n",
      "JSONDecodeError: Expecting ',' delimiter: line 3 column 331 (char 359)\n",
      "evaluations-qa160.csv saved\n"
     ]
    },
    {
     "name": "stderr",
     "output_type": "stream",
     "text": [
      "100%|███████████████████████████████████████████████████████████████████████████████████████████████████████████████████| 15/15 [00:39<00:00,  2.61s/it]\n"
     ]
    },
    {
     "name": "stdout",
     "output_type": "stream",
     "text": [
      "JSONDecodeError: Expecting ',' delimiter: line 3 column 319 (char 345)\n",
      "JSONDecodeError: Expecting value: line 1 column 1 (char 0)\n",
      "Failed to fix JSON string: Expecting value: line 1 column 1 (char 0)\n",
      "JSONDecodeError: Expecting ',' delimiter: line 3 column 428 (char 456)\n",
      "JSONDecodeError: Expecting ',' delimiter: line 3 column 249 (char 277)\n",
      "JSONDecodeError: Expecting ',' delimiter: line 3 column 303 (char 331)\n",
      "JSONDecodeError: Expecting ',' delimiter: line 3 column 250 (char 278)\n",
      "JSONDecodeError: Expecting ',' delimiter: line 3 column 268 (char 296)\n",
      "JSONDecodeError: Expecting ',' delimiter: line 3 column 350 (char 385)\n",
      "evaluations-qa161.csv saved\n"
     ]
    },
    {
     "name": "stderr",
     "output_type": "stream",
     "text": [
      "100%|███████████████████████████████████████████████████████████████████████████████████████████████████████████████████| 15/15 [00:38<00:00,  2.60s/it]\n"
     ]
    },
    {
     "name": "stdout",
     "output_type": "stream",
     "text": [
      "JSONDecodeError: Expecting ',' delimiter: line 3 column 260 (char 288)\n",
      "JSONDecodeError: Expecting ',' delimiter: line 3 column 471 (char 506)\n",
      "JSONDecodeError: Expecting ',' delimiter: line 3 column 172 (char 200)\n",
      "JSONDecodeError: Expecting ',' delimiter: line 3 column 521 (char 556)\n",
      "JSONDecodeError: Expecting value: line 1 column 1 (char 0)\n",
      "Failed to fix JSON string: Expecting value: line 1 column 1 (char 0)\n",
      "JSONDecodeError: Expecting ',' delimiter: line 3 column 204 (char 230)\n",
      "JSONDecodeError: Expecting ',' delimiter: line 3 column 295 (char 325)\n",
      "JSONDecodeError: Expecting ',' delimiter: line 3 column 405 (char 433)\n",
      "JSONDecodeError: Expecting value: line 1 column 1 (char 0)\n",
      "Failed to fix JSON string: Expecting value: line 1 column 1 (char 0)\n",
      "evaluations-qa162.csv saved\n"
     ]
    },
    {
     "name": "stderr",
     "output_type": "stream",
     "text": [
      "100%|███████████████████████████████████████████████████████████████████████████████████████████████████████████████████| 15/15 [00:38<00:00,  2.59s/it]\n"
     ]
    },
    {
     "name": "stdout",
     "output_type": "stream",
     "text": [
      "JSONDecodeError: Expecting value: line 1 column 1 (char 0)\n",
      "Failed to fix JSON string: Expecting value: line 1 column 1 (char 0)\n",
      "JSONDecodeError: Expecting ',' delimiter: line 3 column 208 (char 234)\n",
      "JSONDecodeError: Expecting ',' delimiter: line 3 column 261 (char 289)\n",
      "JSONDecodeError: Expecting value: line 1 column 1 (char 0)\n",
      "Failed to fix JSON string: Expecting value: line 1 column 1 (char 0)\n",
      "JSONDecodeError: Expecting value: line 1 column 1 (char 0)\n",
      "Failed to fix JSON string: Expecting value: line 1 column 1 (char 0)\n",
      "JSONDecodeError: Expecting value: line 1 column 1 (char 0)\n",
      "Failed to fix JSON string: Expecting value: line 1 column 1 (char 0)\n",
      "JSONDecodeError: Expecting ',' delimiter: line 3 column 247 (char 282)\n",
      "JSONDecodeError: Expecting ',' delimiter: line 3 column 195 (char 223)\n",
      "evaluations-qa163.csv saved\n"
     ]
    },
    {
     "name": "stderr",
     "output_type": "stream",
     "text": [
      "100%|█████████████████████████████████████████████████████████████████████████████████████████████████████████████████████| 2/2 [00:05<00:00,  2.58s/it]\n"
     ]
    },
    {
     "name": "stdout",
     "output_type": "stream",
     "text": [
      "JSONDecodeError: Expecting ',' delimiter: line 3 column 282 (char 308)\n",
      "evaluations-qa164.csv saved\n"
     ]
    },
    {
     "name": "stderr",
     "output_type": "stream",
     "text": [
      "100%|███████████████████████████████████████████████████████████████████████████████████████████████████████████████████| 15/15 [00:38<00:00,  2.57s/it]\n"
     ]
    },
    {
     "name": "stdout",
     "output_type": "stream",
     "text": [
      "JSONDecodeError: Expecting ',' delimiter: line 3 column 262 (char 290)\n",
      "JSONDecodeError: Expecting value: line 1 column 1 (char 0)\n",
      "Failed to fix JSON string: Expecting value: line 1 column 1 (char 0)\n",
      "JSONDecodeError: Expecting ',' delimiter: line 3 column 252 (char 278)\n",
      "JSONDecodeError: Expecting ',' delimiter: line 3 column 413 (char 448)\n",
      "JSONDecodeError: Expecting ',' delimiter: line 3 column 261 (char 289)\n",
      "JSONDecodeError: Expecting value: line 1 column 1 (char 0)\n",
      "Failed to fix JSON string: Expecting value: line 1 column 1 (char 0)\n",
      "JSONDecodeError: Expecting ',' delimiter: line 3 column 415 (char 443)\n",
      "JSONDecodeError: Expecting ',' delimiter: line 3 column 315 (char 343)\n",
      "JSONDecodeError: Expecting ',' delimiter: line 3 column 292 (char 318)\n",
      "evaluations-qa165.csv saved\n"
     ]
    },
    {
     "name": "stderr",
     "output_type": "stream",
     "text": [
      "100%|███████████████████████████████████████████████████████████████████████████████████████████████████████████████████| 15/15 [00:38<00:00,  2.57s/it]\n"
     ]
    },
    {
     "name": "stdout",
     "output_type": "stream",
     "text": [
      "JSONDecodeError: Expecting ',' delimiter: line 3 column 317 (char 345)\n",
      "JSONDecodeError: Expecting ',' delimiter: line 3 column 303 (char 331)\n",
      "JSONDecodeError: Expecting ',' delimiter: line 3 column 420 (char 455)\n",
      "JSONDecodeError: Expecting ',' delimiter: line 3 column 224 (char 250)\n",
      "JSONDecodeError: Expecting ',' delimiter: line 3 column 281 (char 309)\n",
      "JSONDecodeError: Expecting ',' delimiter: line 3 column 250 (char 278)\n",
      "JSONDecodeError: Expecting ',' delimiter: line 3 column 378 (char 413)\n",
      "evaluations-qa166.csv saved\n"
     ]
    },
    {
     "name": "stderr",
     "output_type": "stream",
     "text": [
      "100%|███████████████████████████████████████████████████████████████████████████████████████████████████████████████████| 15/15 [00:39<00:00,  2.60s/it]\n"
     ]
    },
    {
     "name": "stdout",
     "output_type": "stream",
     "text": [
      "JSONDecodeError: Expecting ',' delimiter: line 3 column 453 (char 488)\n",
      "JSONDecodeError: Expecting ',' delimiter: line 3 column 289 (char 317)\n",
      "JSONDecodeError: Expecting ',' delimiter: line 3 column 277 (char 305)\n",
      "JSONDecodeError: Expecting ',' delimiter: line 3 column 280 (char 306)\n",
      "JSONDecodeError: Expecting value: line 1 column 1 (char 0)\n",
      "Failed to fix JSON string: Expecting value: line 1 column 1 (char 0)\n",
      "JSONDecodeError: Expecting ',' delimiter: line 3 column 213 (char 241)\n",
      "JSONDecodeError: Expecting ',' delimiter: line 3 column 192 (char 220)\n",
      "evaluations-qa167.csv saved\n"
     ]
    },
    {
     "name": "stderr",
     "output_type": "stream",
     "text": [
      "100%|███████████████████████████████████████████████████████████████████████████████████████████████████████████████████| 15/15 [00:39<00:00,  2.62s/it]\n"
     ]
    },
    {
     "name": "stdout",
     "output_type": "stream",
     "text": [
      "JSONDecodeError: Expecting ',' delimiter: line 3 column 174 (char 202)\n",
      "JSONDecodeError: Expecting ',' delimiter: line 3 column 495 (char 530)\n",
      "JSONDecodeError: Expecting value: line 1 column 1 (char 0)\n",
      "Failed to fix JSON string: Expecting value: line 1 column 1 (char 0)\n",
      "JSONDecodeError: Expecting value: line 1 column 1 (char 0)\n",
      "Failed to fix JSON string: Expecting value: line 1 column 1 (char 0)\n",
      "JSONDecodeError: Expecting ',' delimiter: line 3 column 438 (char 473)\n",
      "JSONDecodeError: Expecting ',' delimiter: line 3 column 367 (char 395)\n",
      "JSONDecodeError: Expecting value: line 1 column 1 (char 0)\n",
      "Failed to fix JSON string: Expecting value: line 1 column 1 (char 0)\n",
      "JSONDecodeError: Expecting ',' delimiter: line 3 column 273 (char 301)\n",
      "evaluations-qa168.csv saved\n"
     ]
    },
    {
     "name": "stderr",
     "output_type": "stream",
     "text": [
      "100%|███████████████████████████████████████████████████████████████████████████████████████████████████████████████████| 15/15 [00:38<00:00,  2.60s/it]\n"
     ]
    },
    {
     "name": "stdout",
     "output_type": "stream",
     "text": [
      "JSONDecodeError: Expecting ',' delimiter: line 3 column 339 (char 367)\n",
      "JSONDecodeError: Expecting ',' delimiter: line 3 column 308 (char 336)\n",
      "JSONDecodeError: Expecting value: line 1 column 1 (char 0)\n",
      "Failed to fix JSON string: Expecting value: line 1 column 1 (char 0)\n",
      "JSONDecodeError: Expecting ',' delimiter: line 3 column 316 (char 344)\n",
      "JSONDecodeError: Expecting ',' delimiter: line 3 column 296 (char 328)\n",
      "JSONDecodeError: Expecting value: line 1 column 1 (char 0)\n",
      "Failed to fix JSON string: Expecting value: line 1 column 1 (char 0)\n",
      "JSONDecodeError: Expecting value: line 1 column 1 (char 0)\n",
      "Failed to fix JSON string: Expecting value: line 1 column 1 (char 0)\n",
      "JSONDecodeError: Expecting value: line 1 column 1 (char 0)\n",
      "Failed to fix JSON string: Expecting value: line 1 column 1 (char 0)\n",
      "evaluations-qa169.csv saved\n"
     ]
    },
    {
     "name": "stderr",
     "output_type": "stream",
     "text": [
      "100%|███████████████████████████████████████████████████████████████████████████████████████████████████████████████████| 15/15 [00:39<00:00,  2.62s/it]\n"
     ]
    },
    {
     "name": "stdout",
     "output_type": "stream",
     "text": [
      "JSONDecodeError: Expecting ',' delimiter: line 3 column 358 (char 386)\n",
      "JSONDecodeError: Expecting ',' delimiter: line 3 column 581 (char 616)\n",
      "JSONDecodeError: Expecting ',' delimiter: line 3 column 316 (char 344)\n",
      "JSONDecodeError: Expecting ',' delimiter: line 3 column 232 (char 260)\n",
      "JSONDecodeError: Expecting ',' delimiter: line 3 column 412 (char 440)\n",
      "JSONDecodeError: Expecting ',' delimiter: line 3 column 371 (char 406)\n",
      "JSONDecodeError: Expecting ',' delimiter: line 3 column 351 (char 386)\n",
      "evaluations-qa170.csv saved\n"
     ]
    },
    {
     "name": "stderr",
     "output_type": "stream",
     "text": [
      "100%|███████████████████████████████████████████████████████████████████████████████████████████████████████████████████| 15/15 [00:38<00:00,  2.57s/it]\n"
     ]
    },
    {
     "name": "stdout",
     "output_type": "stream",
     "text": [
      "JSONDecodeError: Expecting ',' delimiter: line 3 column 223 (char 251)\n",
      "JSONDecodeError: Expecting ',' delimiter: line 3 column 320 (char 346)\n",
      "JSONDecodeError: Expecting ',' delimiter: line 3 column 360 (char 388)\n",
      "JSONDecodeError: Expecting ',' delimiter: line 3 column 261 (char 289)\n",
      "JSONDecodeError: Expecting ',' delimiter: line 3 column 355 (char 383)\n",
      "evaluations-qa171.csv saved\n"
     ]
    },
    {
     "name": "stderr",
     "output_type": "stream",
     "text": [
      "100%|███████████████████████████████████████████████████████████████████████████████████████████████████████████████████| 15/15 [00:39<00:00,  2.63s/it]\n"
     ]
    },
    {
     "name": "stdout",
     "output_type": "stream",
     "text": [
      "JSONDecodeError: Expecting ',' delimiter: line 3 column 555 (char 588)\n",
      "JSONDecodeError: Expecting ',' delimiter: line 3 column 450 (char 478)\n",
      "JSONDecodeError: Expecting ',' delimiter: line 3 column 412 (char 440)\n",
      "JSONDecodeError: Expecting ',' delimiter: line 3 column 305 (char 333)\n",
      "JSONDecodeError: Expecting ',' delimiter: line 3 column 359 (char 387)\n",
      "JSONDecodeError: Expecting ',' delimiter: line 3 column 201 (char 229)\n",
      "JSONDecodeError: Expecting ',' delimiter: line 3 column 215 (char 243)\n",
      "evaluations-qa172.csv saved\n"
     ]
    },
    {
     "name": "stderr",
     "output_type": "stream",
     "text": [
      "100%|███████████████████████████████████████████████████████████████████████████████████████████████████████████████████| 15/15 [00:39<00:00,  2.63s/it]\n"
     ]
    },
    {
     "name": "stdout",
     "output_type": "stream",
     "text": [
      "JSONDecodeError: Expecting ',' delimiter: line 3 column 192 (char 220)\n",
      "JSONDecodeError: Expecting ',' delimiter: line 3 column 253 (char 279)\n",
      "JSONDecodeError: Expecting ',' delimiter: line 3 column 264 (char 292)\n",
      "JSONDecodeError: Expecting ',' delimiter: line 3 column 267 (char 293)\n",
      "JSONDecodeError: Expecting ',' delimiter: line 3 column 272 (char 298)\n",
      "JSONDecodeError: Expecting value: line 1 column 1 (char 0)\n",
      "Failed to fix JSON string: Expecting value: line 1 column 1 (char 0)\n",
      "JSONDecodeError: Expecting value: line 1 column 1 (char 0)\n",
      "Failed to fix JSON string: Expecting value: line 1 column 1 (char 0)\n",
      "JSONDecodeError: Expecting ',' delimiter: line 3 column 284 (char 312)\n",
      "evaluations-qa173.csv saved\n"
     ]
    },
    {
     "name": "stderr",
     "output_type": "stream",
     "text": [
      "100%|███████████████████████████████████████████████████████████████████████████████████████████████████████████████████| 15/15 [00:38<00:00,  2.59s/it]\n"
     ]
    },
    {
     "name": "stdout",
     "output_type": "stream",
     "text": [
      "JSONDecodeError: Expecting ',' delimiter: line 3 column 558 (char 593)\n",
      "JSONDecodeError: Expecting ',' delimiter: line 3 column 350 (char 378)\n",
      "JSONDecodeError: Expecting ',' delimiter: line 3 column 196 (char 224)\n",
      "JSONDecodeError: Expecting ',' delimiter: line 3 column 421 (char 456)\n",
      "JSONDecodeError: Expecting ',' delimiter: line 3 column 248 (char 276)\n",
      "JSONDecodeError: Expecting value: line 1 column 1 (char 0)\n",
      "Failed to fix JSON string: Expecting value: line 1 column 1 (char 0)\n",
      "evaluations-qa174.csv saved\n"
     ]
    },
    {
     "name": "stderr",
     "output_type": "stream",
     "text": [
      "100%|███████████████████████████████████████████████████████████████████████████████████████████████████████████████████| 15/15 [00:39<00:00,  2.61s/it]\n"
     ]
    },
    {
     "name": "stdout",
     "output_type": "stream",
     "text": [
      "JSONDecodeError: Expecting ',' delimiter: line 3 column 251 (char 279)\n",
      "JSONDecodeError: Expecting ',' delimiter: line 3 column 194 (char 222)\n",
      "JSONDecodeError: Expecting ',' delimiter: line 3 column 175 (char 201)\n",
      "JSONDecodeError: Expecting ',' delimiter: line 3 column 355 (char 390)\n",
      "JSONDecodeError: Expecting ',' delimiter: line 3 column 245 (char 271)\n",
      "JSONDecodeError: Expecting ',' delimiter: line 3 column 158 (char 186)\n",
      "JSONDecodeError: Expecting ',' delimiter: line 3 column 504 (char 539)\n",
      "evaluations-qa175.csv saved\n"
     ]
    },
    {
     "name": "stderr",
     "output_type": "stream",
     "text": [
      "100%|███████████████████████████████████████████████████████████████████████████████████████████████████████████████████| 15/15 [00:39<00:00,  2.66s/it]\n"
     ]
    },
    {
     "name": "stdout",
     "output_type": "stream",
     "text": [
      "JSONDecodeError: Expecting ',' delimiter: line 3 column 264 (char 290)\n",
      "JSONDecodeError: Expecting ',' delimiter: line 3 column 384 (char 410)\n",
      "JSONDecodeError: Expecting value: line 1 column 1 (char 0)\n",
      "Failed to fix JSON string: Expecting value: line 1 column 1 (char 0)\n",
      "JSONDecodeError: Expecting ',' delimiter: line 3 column 262 (char 290)\n",
      "JSONDecodeError: Expecting ',' delimiter: line 3 column 453 (char 479)\n",
      "JSONDecodeError: Expecting ',' delimiter: line 3 column 428 (char 456)\n",
      "JSONDecodeError: Expecting value: line 1 column 1 (char 0)\n",
      "Failed to fix JSON string: Expecting value: line 1 column 1 (char 0)\n",
      "JSONDecodeError: Expecting value: line 1 column 1 (char 0)\n",
      "Failed to fix JSON string: Expecting value: line 1 column 1 (char 0)\n",
      "evaluations-qa176.csv saved\n"
     ]
    },
    {
     "name": "stderr",
     "output_type": "stream",
     "text": [
      "100%|███████████████████████████████████████████████████████████████████████████████████████████████████████████████████| 15/15 [00:38<00:00,  2.55s/it]\n"
     ]
    },
    {
     "name": "stdout",
     "output_type": "stream",
     "text": [
      "JSONDecodeError: Expecting value: line 1 column 1 (char 0)\n",
      "Failed to fix JSON string: Expecting value: line 1 column 1 (char 0)\n",
      "JSONDecodeError: Expecting ',' delimiter: line 3 column 408 (char 436)\n",
      "JSONDecodeError: Expecting ',' delimiter: line 3 column 371 (char 397)\n",
      "JSONDecodeError: Expecting value: line 1 column 1 (char 0)\n",
      "Failed to fix JSON string: Expecting value: line 1 column 1 (char 0)\n",
      "JSONDecodeError: Expecting ',' delimiter: line 3 column 143 (char 171)\n",
      "JSONDecodeError: Expecting value: line 1 column 1 (char 0)\n",
      "Failed to fix JSON string: Expecting value: line 1 column 1 (char 0)\n",
      "JSONDecodeError: Expecting value: line 1 column 1 (char 0)\n",
      "Failed to fix JSON string: Expecting value: line 1 column 1 (char 0)\n",
      "JSONDecodeError: Expecting ',' delimiter: line 3 column 231 (char 259)\n",
      "JSONDecodeError: Expecting ',' delimiter: line 3 column 315 (char 341)\n",
      "JSONDecodeError: Expecting value: line 1 column 1 (char 0)\n",
      "Failed to fix JSON string: Expecting value: line 1 column 1 (char 0)\n",
      "evaluations-qa177.csv saved\n"
     ]
    },
    {
     "name": "stderr",
     "output_type": "stream",
     "text": [
      "100%|███████████████████████████████████████████████████████████████████████████████████████████████████████████████████| 15/15 [00:38<00:00,  2.58s/it]\n"
     ]
    },
    {
     "name": "stdout",
     "output_type": "stream",
     "text": [
      "JSONDecodeError: Expecting ',' delimiter: line 3 column 321 (char 349)\n",
      "JSONDecodeError: Expecting ',' delimiter: line 3 column 346 (char 374)\n",
      "JSONDecodeError: Expecting ',' delimiter: line 3 column 336 (char 364)\n",
      "JSONDecodeError: Expecting ',' delimiter: line 3 column 350 (char 378)\n",
      "JSONDecodeError: Expecting value: line 1 column 1 (char 0)\n",
      "Failed to fix JSON string: Expecting value: line 1 column 1 (char 0)\n",
      "JSONDecodeError: Expecting ',' delimiter: line 3 column 390 (char 418)\n",
      "JSONDecodeError: Expecting value: line 1 column 1 (char 0)\n",
      "Failed to fix JSON string: Expecting value: line 1 column 1 (char 0)\n",
      "JSONDecodeError: Expecting ',' delimiter: line 3 column 214 (char 242)\n",
      "evaluations-qa178.csv saved\n"
     ]
    },
    {
     "name": "stderr",
     "output_type": "stream",
     "text": [
      "100%|███████████████████████████████████████████████████████████████████████████████████████████████████████████████████| 15/15 [00:39<00:00,  2.66s/it]\n"
     ]
    },
    {
     "name": "stdout",
     "output_type": "stream",
     "text": [
      "JSONDecodeError: Expecting ',' delimiter: line 3 column 269 (char 295)\n",
      "JSONDecodeError: Expecting ',' delimiter: line 3 column 229 (char 257)\n",
      "JSONDecodeError: Expecting ',' delimiter: line 3 column 227 (char 259)\n",
      "JSONDecodeError: Expecting ',' delimiter: line 3 column 372 (char 400)\n",
      "JSONDecodeError: Expecting ',' delimiter: line 3 column 206 (char 234)\n",
      "JSONDecodeError: Expecting ',' delimiter: line 3 column 371 (char 397)\n",
      "evaluations-qa179.csv saved\n"
     ]
    },
    {
     "name": "stderr",
     "output_type": "stream",
     "text": [
      "100%|███████████████████████████████████████████████████████████████████████████████████████████████████████████████████| 15/15 [00:39<00:00,  2.61s/it]\n"
     ]
    },
    {
     "name": "stdout",
     "output_type": "stream",
     "text": [
      "JSONDecodeError: Expecting ',' delimiter: line 5 column 1 (char 310)\n",
      "Failed to fix JSON string: Expecting ',' delimiter: line 5 column 1 (char 310)\n",
      "JSONDecodeError: Expecting ',' delimiter: line 3 column 272 (char 300)\n",
      "JSONDecodeError: Expecting value: line 1 column 1 (char 0)\n",
      "Failed to fix JSON string: Expecting value: line 1 column 1 (char 0)\n",
      "JSONDecodeError: Expecting value: line 1 column 1 (char 0)\n",
      "Failed to fix JSON string: Expecting value: line 1 column 1 (char 0)\n",
      "evaluations-qa180.csv saved\n"
     ]
    },
    {
     "name": "stderr",
     "output_type": "stream",
     "text": [
      "100%|███████████████████████████████████████████████████████████████████████████████████████████████████████████████████| 15/15 [00:38<00:00,  2.59s/it]\n"
     ]
    },
    {
     "name": "stdout",
     "output_type": "stream",
     "text": [
      "JSONDecodeError: Expecting ',' delimiter: line 3 column 383 (char 416)\n",
      "JSONDecodeError: Expecting ',' delimiter: line 3 column 196 (char 224)\n",
      "JSONDecodeError: Expecting ',' delimiter: line 3 column 234 (char 262)\n",
      "JSONDecodeError: Expecting ',' delimiter: line 3 column 362 (char 390)\n",
      "JSONDecodeError: Expecting ',' delimiter: line 3 column 289 (char 317)\n",
      "JSONDecodeError: Expecting value: line 1 column 1 (char 0)\n",
      "Failed to fix JSON string: Expecting value: line 1 column 1 (char 0)\n",
      "evaluations-qa181.csv saved\n"
     ]
    },
    {
     "name": "stderr",
     "output_type": "stream",
     "text": [
      "100%|██████████████████████████████████████████████████████████████████████████████████████████████████████████████████████████████████████████████████████████████| 15/15 [00:39<00:00,  2.62s/it]\n"
     ]
    },
    {
     "name": "stdout",
     "output_type": "stream",
     "text": [
      "JSONDecodeError: Expecting ',' delimiter: line 3 column 241 (char 269)\n",
      "JSONDecodeError: Expecting ',' delimiter: line 3 column 265 (char 293)\n",
      "JSONDecodeError: Expecting ',' delimiter: line 3 column 225 (char 253)\n",
      "evaluations-qa182.csv saved\n"
     ]
    },
    {
     "name": "stderr",
     "output_type": "stream",
     "text": [
      "100%|███████████████████████████████████████████████████████████████████████████████████████████████████████████████████| 15/15 [00:38<00:00,  2.59s/it]\n"
     ]
    },
    {
     "name": "stdout",
     "output_type": "stream",
     "text": [
      "JSONDecodeError: Expecting value: line 1 column 1 (char 0)\n",
      "Failed to fix JSON string: Expecting value: line 1 column 1 (char 0)\n",
      "JSONDecodeError: Expecting ',' delimiter: line 3 column 566 (char 594)\n",
      "JSONDecodeError: Expecting ',' delimiter: line 3 column 574 (char 609)\n",
      "JSONDecodeError: Expecting ',' delimiter: line 3 column 348 (char 376)\n",
      "JSONDecodeError: Expecting value: line 1 column 1 (char 0)\n",
      "Failed to fix JSON string: Expecting value: line 1 column 1 (char 0)\n",
      "JSONDecodeError: Expecting ',' delimiter: line 3 column 256 (char 291)\n",
      "JSONDecodeError: Expecting ',' delimiter: line 3 column 256 (char 284)\n",
      "evaluations-qa183.csv saved\n"
     ]
    },
    {
     "name": "stderr",
     "output_type": "stream",
     "text": [
      "100%|███████████████████████████████████████████████████████████████████████████████████████████████████████████████████| 15/15 [00:38<00:00,  2.58s/it]\n"
     ]
    },
    {
     "name": "stdout",
     "output_type": "stream",
     "text": [
      "JSONDecodeError: Expecting value: line 1 column 1 (char 0)\n",
      "Failed to fix JSON string: Expecting value: line 1 column 1 (char 0)\n",
      "JSONDecodeError: Expecting ',' delimiter: line 3 column 174 (char 200)\n",
      "JSONDecodeError: Expecting ',' delimiter: line 3 column 371 (char 399)\n",
      "JSONDecodeError: Expecting value: line 1 column 1 (char 0)\n",
      "Failed to fix JSON string: Expecting value: line 1 column 1 (char 0)\n",
      "JSONDecodeError: Expecting ',' delimiter: line 3 column 302 (char 330)\n",
      "evaluations-qa184.csv saved\n"
     ]
    },
    {
     "name": "stderr",
     "output_type": "stream",
     "text": [
      "100%|███████████████████████████████████████████████████████████████████████████████████████████████████████████████████| 15/15 [00:39<00:00,  2.62s/it]\n"
     ]
    },
    {
     "name": "stdout",
     "output_type": "stream",
     "text": [
      "JSONDecodeError: Expecting ',' delimiter: line 3 column 323 (char 351)\n",
      "JSONDecodeError: Expecting ',' delimiter: line 3 column 291 (char 319)\n",
      "JSONDecodeError: Expecting ',' delimiter: line 3 column 345 (char 377)\n",
      "JSONDecodeError: Expecting ',' delimiter: line 3 column 334 (char 362)\n",
      "evaluations-qa185.csv saved\n"
     ]
    },
    {
     "name": "stderr",
     "output_type": "stream",
     "text": [
      "100%|███████████████████████████████████████████████████████████████████████████████████████████████████████████████████| 15/15 [00:39<00:00,  2.61s/it]\n"
     ]
    },
    {
     "name": "stdout",
     "output_type": "stream",
     "text": [
      "JSONDecodeError: Expecting ',' delimiter: line 3 column 333 (char 368)\n",
      "JSONDecodeError: Expecting ',' delimiter: line 3 column 164 (char 192)\n",
      "JSONDecodeError: Expecting ',' delimiter: line 3 column 414 (char 442)\n",
      "JSONDecodeError: Expecting ',' delimiter: line 3 column 394 (char 422)\n",
      "JSONDecodeError: Expecting ',' delimiter: line 3 column 299 (char 325)\n",
      "JSONDecodeError: Expecting ',' delimiter: line 3 column 306 (char 338)\n",
      "JSONDecodeError: Expecting ',' delimiter: line 3 column 277 (char 309)\n",
      "JSONDecodeError: Expecting ',' delimiter: line 3 column 496 (char 531)\n",
      "evaluations-qa186.csv saved\n"
     ]
    },
    {
     "name": "stderr",
     "output_type": "stream",
     "text": [
      "100%|███████████████████████████████████████████████████████████████████████████████████████████████████████████████████| 15/15 [00:39<00:00,  2.61s/it]\n"
     ]
    },
    {
     "name": "stdout",
     "output_type": "stream",
     "text": [
      "JSONDecodeError: Expecting ',' delimiter: line 3 column 399 (char 434)\n",
      "JSONDecodeError: Expecting ',' delimiter: line 3 column 281 (char 309)\n",
      "JSONDecodeError: Expecting ',' delimiter: line 3 column 238 (char 266)\n",
      "JSONDecodeError: Expecting ',' delimiter: line 3 column 570 (char 598)\n",
      "JSONDecodeError: Expecting ',' delimiter: line 3 column 308 (char 336)\n",
      "JSONDecodeError: Expecting ',' delimiter: line 3 column 374 (char 402)\n",
      "JSONDecodeError: Expecting ',' delimiter: line 3 column 384 (char 412)\n",
      "JSONDecodeError: Expecting ',' delimiter: line 3 column 362 (char 394)\n",
      "JSONDecodeError: Expecting ',' delimiter: line 3 column 274 (char 302)\n",
      "JSONDecodeError: Expecting ',' delimiter: line 3 column 244 (char 272)\n",
      "evaluations-qa187.csv saved\n"
     ]
    },
    {
     "name": "stderr",
     "output_type": "stream",
     "text": [
      "100%|███████████████████████████████████████████████████████████████████████████████████████████████████████████████████| 15/15 [00:38<00:00,  2.56s/it]\n"
     ]
    },
    {
     "name": "stdout",
     "output_type": "stream",
     "text": [
      "JSONDecodeError: Expecting ',' delimiter: line 3 column 188 (char 214)\n",
      "JSONDecodeError: Expecting ',' delimiter: line 3 column 370 (char 398)\n",
      "JSONDecodeError: Expecting ',' delimiter: line 3 column 240 (char 266)\n",
      "JSONDecodeError: Expecting ',' delimiter: line 3 column 332 (char 360)\n",
      "JSONDecodeError: Expecting value: line 1 column 1 (char 0)\n",
      "Failed to fix JSON string: Expecting value: line 1 column 1 (char 0)\n",
      "JSONDecodeError: Expecting ',' delimiter: line 3 column 375 (char 408)\n",
      "JSONDecodeError: Expecting ',' delimiter: line 3 column 251 (char 279)\n",
      "JSONDecodeError: Expecting ',' delimiter: line 3 column 312 (char 340)\n",
      "JSONDecodeError: Expecting value: line 1 column 1 (char 0)\n",
      "Failed to fix JSON string: Expecting value: line 1 column 1 (char 0)\n",
      "evaluations-qa188.csv saved\n"
     ]
    },
    {
     "name": "stderr",
     "output_type": "stream",
     "text": [
      "100%|███████████████████████████████████████████████████████████████████████████████████████████████████████████████████| 15/15 [00:38<00:00,  2.57s/it]\n"
     ]
    },
    {
     "name": "stdout",
     "output_type": "stream",
     "text": [
      "JSONDecodeError: Expecting ',' delimiter: line 3 column 151 (char 177)\n",
      "JSONDecodeError: Expecting ',' delimiter: line 3 column 320 (char 355)\n",
      "JSONDecodeError: Expecting ',' delimiter: line 3 column 188 (char 216)\n",
      "JSONDecodeError: Expecting ',' delimiter: line 3 column 352 (char 380)\n",
      "JSONDecodeError: Expecting ',' delimiter: line 3 column 189 (char 217)\n",
      "JSONDecodeError: Expecting ',' delimiter: line 3 column 419 (char 454)\n",
      "evaluations-qa189.csv saved\n"
     ]
    },
    {
     "name": "stderr",
     "output_type": "stream",
     "text": [
      "100%|███████████████████████████████████████████████████████████████████████████████████████████████████████████████████| 15/15 [00:39<00:00,  2.63s/it]\n"
     ]
    },
    {
     "name": "stdout",
     "output_type": "stream",
     "text": [
      "JSONDecodeError: Expecting ',' delimiter: line 3 column 211 (char 237)\n",
      "JSONDecodeError: Expecting value: line 1 column 1 (char 0)\n",
      "Failed to fix JSON string: Expecting value: line 1 column 1 (char 0)\n",
      "JSONDecodeError: Expecting ',' delimiter: line 3 column 401 (char 436)\n",
      "JSONDecodeError: Expecting ',' delimiter: line 3 column 315 (char 348)\n",
      "JSONDecodeError: Expecting ',' delimiter: line 3 column 450 (char 485)\n",
      "JSONDecodeError: Expecting value: line 1 column 1 (char 0)\n",
      "Failed to fix JSON string: Expecting value: line 1 column 1 (char 0)\n",
      "JSONDecodeError: Expecting ',' delimiter: line 3 column 306 (char 334)\n",
      "JSONDecodeError: Expecting ',' delimiter: line 3 column 163 (char 191)\n",
      "JSONDecodeError: Expecting ',' delimiter: line 3 column 397 (char 425)\n",
      "JSONDecodeError: Expecting ',' delimiter: line 3 column 295 (char 323)\n",
      "evaluations-qa190.csv saved\n"
     ]
    },
    {
     "name": "stderr",
     "output_type": "stream",
     "text": [
      "100%|███████████████████████████████████████████████████████████████████████████████████████████████████████████████████| 15/15 [00:39<00:00,  2.60s/it]\n"
     ]
    },
    {
     "name": "stdout",
     "output_type": "stream",
     "text": [
      "JSONDecodeError: Expecting ',' delimiter: line 3 column 386 (char 421)\n",
      "JSONDecodeError: Expecting ',' delimiter: line 3 column 340 (char 375)\n",
      "JSONDecodeError: Expecting ',' delimiter: line 3 column 479 (char 505)\n",
      "JSONDecodeError: Expecting ',' delimiter: line 3 column 604 (char 639)\n",
      "JSONDecodeError: Expecting ',' delimiter: line 3 column 246 (char 274)\n",
      "JSONDecodeError: Expecting ',' delimiter: line 3 column 489 (char 522)\n",
      "JSONDecodeError: Expecting ',' delimiter: line 3 column 386 (char 412)\n",
      "JSONDecodeError: Expecting ',' delimiter: line 3 column 234 (char 262)\n",
      "JSONDecodeError: Expecting ',' delimiter: line 3 column 286 (char 314)\n",
      "evaluations-qa191.csv saved\n"
     ]
    },
    {
     "name": "stderr",
     "output_type": "stream",
     "text": [
      "100%|███████████████████████████████████████████████████████████████████████████████████████████████████████████████████| 15/15 [00:38<00:00,  2.60s/it]\n"
     ]
    },
    {
     "name": "stdout",
     "output_type": "stream",
     "text": [
      "JSONDecodeError: Expecting ',' delimiter: line 3 column 430 (char 458)\n",
      "JSONDecodeError: Expecting ',' delimiter: line 3 column 260 (char 288)\n",
      "JSONDecodeError: Expecting ',' delimiter: line 3 column 190 (char 220)\n",
      "JSONDecodeError: Expecting ',' delimiter: line 3 column 260 (char 288)\n",
      "JSONDecodeError: Expecting ',' delimiter: line 3 column 306 (char 338)\n",
      "JSONDecodeError: Expecting ',' delimiter: line 3 column 176 (char 202)\n",
      "JSONDecodeError: Expecting ',' delimiter: line 3 column 294 (char 322)\n",
      "JSONDecodeError: Expecting ',' delimiter: line 3 column 338 (char 373)\n",
      "JSONDecodeError: Expecting value: line 1 column 1 (char 0)\n",
      "Failed to fix JSON string: Expecting value: line 1 column 1 (char 0)\n",
      "JSONDecodeError: Expecting ',' delimiter: line 3 column 231 (char 259)\n",
      "evaluations-qa192.csv saved\n"
     ]
    },
    {
     "name": "stderr",
     "output_type": "stream",
     "text": [
      "100%|███████████████████████████████████████████████████████████████████████████████████████████████████████████████████| 15/15 [00:40<00:00,  2.71s/it]\n"
     ]
    },
    {
     "name": "stdout",
     "output_type": "stream",
     "text": [
      "JSONDecodeError: Expecting ',' delimiter: line 3 column 251 (char 277)\n",
      "JSONDecodeError: Expecting ',' delimiter: line 3 column 205 (char 233)\n",
      "JSONDecodeError: Expecting ',' delimiter: line 3 column 340 (char 368)\n",
      "JSONDecodeError: Expecting value: line 1 column 1 (char 0)\n",
      "Failed to fix JSON string: Expecting value: line 1 column 1 (char 0)\n",
      "JSONDecodeError: Expecting ',' delimiter: line 3 column 426 (char 452)\n",
      "JSONDecodeError: Expecting ',' delimiter: line 3 column 205 (char 233)\n",
      "JSONDecodeError: Expecting ',' delimiter: line 3 column 243 (char 271)\n",
      "evaluations-qa193.csv saved\n"
     ]
    },
    {
     "name": "stderr",
     "output_type": "stream",
     "text": [
      "100%|███████████████████████████████████████████████████████████████████████████████████████████████████████████████████| 15/15 [00:38<00:00,  2.59s/it]\n"
     ]
    },
    {
     "name": "stdout",
     "output_type": "stream",
     "text": [
      "JSONDecodeError: Expecting value: line 1 column 1 (char 0)\n",
      "Failed to fix JSON string: Expecting value: line 1 column 1 (char 0)\n",
      "JSONDecodeError: Expecting ',' delimiter: line 3 column 378 (char 406)\n",
      "JSONDecodeError: Expecting ',' delimiter: line 3 column 344 (char 372)\n",
      "JSONDecodeError: Expecting ',' delimiter: line 3 column 198 (char 226)\n",
      "JSONDecodeError: Expecting value: line 1 column 1 (char 0)\n",
      "Failed to fix JSON string: Expecting value: line 1 column 1 (char 0)\n",
      "JSONDecodeError: Expecting ',' delimiter: line 3 column 222 (char 250)\n",
      "JSONDecodeError: Expecting ',' delimiter: line 3 column 421 (char 449)\n",
      "evaluations-qa194.csv saved\n"
     ]
    },
    {
     "name": "stderr",
     "output_type": "stream",
     "text": [
      "100%|███████████████████████████████████████████████████████████████████████████████████████████████████████████████████| 15/15 [00:38<00:00,  2.59s/it]\n"
     ]
    },
    {
     "name": "stdout",
     "output_type": "stream",
     "text": [
      "JSONDecodeError: Expecting value: line 1 column 1 (char 0)\n",
      "Failed to fix JSON string: Expecting value: line 1 column 1 (char 0)\n",
      "JSONDecodeError: Expecting ',' delimiter: line 3 column 228 (char 256)\n",
      "JSONDecodeError: Expecting ',' delimiter: line 3 column 402 (char 430)\n",
      "JSONDecodeError: Expecting ',' delimiter: line 3 column 158 (char 186)\n",
      "JSONDecodeError: Expecting value: line 1 column 1 (char 0)\n",
      "Failed to fix JSON string: Expecting value: line 1 column 1 (char 0)\n",
      "JSONDecodeError: Expecting ',' delimiter: line 3 column 291 (char 323)\n",
      "JSONDecodeError: Expecting value: line 1 column 1 (char 0)\n",
      "Failed to fix JSON string: Expecting value: line 1 column 1 (char 0)\n",
      "evaluations-qa195.csv saved\n"
     ]
    },
    {
     "name": "stderr",
     "output_type": "stream",
     "text": [
      "100%|███████████████████████████████████████████████████████████████████████████████████████████████████████████████████| 15/15 [00:38<00:00,  2.60s/it]\n"
     ]
    },
    {
     "name": "stdout",
     "output_type": "stream",
     "text": [
      "JSONDecodeError: Expecting value: line 1 column 1 (char 0)\n",
      "Failed to fix JSON string: Expecting value: line 1 column 1 (char 0)\n",
      "JSONDecodeError: Expecting value: line 1 column 1 (char 0)\n",
      "Failed to fix JSON string: Expecting value: line 1 column 1 (char 0)\n",
      "JSONDecodeError: Expecting ',' delimiter: line 3 column 416 (char 444)\n",
      "JSONDecodeError: Expecting ',' delimiter: line 3 column 193 (char 223)\n",
      "JSONDecodeError: Expecting ',' delimiter: line 3 column 428 (char 463)\n",
      "JSONDecodeError: Expecting ',' delimiter: line 3 column 466 (char 499)\n",
      "evaluations-qa196.csv saved\n"
     ]
    },
    {
     "name": "stderr",
     "output_type": "stream",
     "text": [
      "100%|███████████████████████████████████████████████████████████████████████████████████████████████████████████████████| 15/15 [00:39<00:00,  2.61s/it]\n"
     ]
    },
    {
     "name": "stdout",
     "output_type": "stream",
     "text": [
      "JSONDecodeError: Expecting value: line 1 column 1 (char 0)\n",
      "Failed to fix JSON string: Expecting value: line 1 column 1 (char 0)\n",
      "JSONDecodeError: Expecting ',' delimiter: line 3 column 297 (char 325)\n",
      "JSONDecodeError: Expecting ',' delimiter: line 3 column 246 (char 274)\n",
      "JSONDecodeError: Expecting value: line 1 column 1 (char 0)\n",
      "Failed to fix JSON string: Expecting value: line 1 column 1 (char 0)\n",
      "JSONDecodeError: Expecting ',' delimiter: line 3 column 270 (char 296)\n",
      "JSONDecodeError: Expecting value: line 1 column 1 (char 0)\n",
      "Failed to fix JSON string: Expecting value: line 1 column 1 (char 0)\n",
      "JSONDecodeError: Expecting ',' delimiter: line 3 column 317 (char 345)\n",
      "JSONDecodeError: Expecting ',' delimiter: line 3 column 300 (char 328)\n",
      "JSONDecodeError: Expecting value: line 1 column 1 (char 0)\n",
      "Failed to fix JSON string: Expecting value: line 1 column 1 (char 0)\n",
      "JSONDecodeError: Expecting value: line 1 column 1 (char 0)\n",
      "Failed to fix JSON string: Expecting value: line 1 column 1 (char 0)\n",
      "JSONDecodeError: Expecting ',' delimiter: line 3 column 233 (char 261)\n",
      "evaluations-qa197.csv saved\n"
     ]
    },
    {
     "name": "stderr",
     "output_type": "stream",
     "text": [
      "100%|███████████████████████████████████████████████████████████████████████████████████████████████████████████████████| 15/15 [00:39<00:00,  2.62s/it]\n"
     ]
    },
    {
     "name": "stdout",
     "output_type": "stream",
     "text": [
      "JSONDecodeError: Expecting ',' delimiter: line 3 column 253 (char 281)\n",
      "JSONDecodeError: Expecting ',' delimiter: line 3 column 368 (char 396)\n",
      "JSONDecodeError: Expecting ',' delimiter: line 3 column 239 (char 267)\n",
      "JSONDecodeError: Expecting ',' delimiter: line 3 column 185 (char 213)\n",
      "JSONDecodeError: Expecting value: line 1 column 1 (char 0)\n",
      "Failed to fix JSON string: Expecting value: line 1 column 1 (char 0)\n",
      "JSONDecodeError: Expecting ',' delimiter: line 3 column 318 (char 353)\n",
      "JSONDecodeError: Expecting ',' delimiter: line 3 column 271 (char 299)\n",
      "JSONDecodeError: Expecting value: line 1 column 1 (char 0)\n",
      "Failed to fix JSON string: Expecting value: line 1 column 1 (char 0)\n",
      "evaluations-qa198.csv saved\n"
     ]
    },
    {
     "name": "stderr",
     "output_type": "stream",
     "text": [
      "100%|███████████████████████████████████████████████████████████████████████████████████████████████████████████████████| 15/15 [00:39<00:00,  2.62s/it]\n"
     ]
    },
    {
     "name": "stdout",
     "output_type": "stream",
     "text": [
      "JSONDecodeError: Expecting ',' delimiter: line 3 column 231 (char 257)\n",
      "JSONDecodeError: Expecting value: line 1 column 1 (char 0)\n",
      "Failed to fix JSON string: Expecting value: line 1 column 1 (char 0)\n",
      "JSONDecodeError: Expecting value: line 1 column 1 (char 0)\n",
      "Failed to fix JSON string: Expecting value: line 1 column 1 (char 0)\n",
      "JSONDecodeError: Expecting value: line 1 column 1 (char 0)\n",
      "Failed to fix JSON string: Expecting value: line 1 column 1 (char 0)\n",
      "JSONDecodeError: Expecting value: line 1 column 1 (char 0)\n",
      "Failed to fix JSON string: Expecting value: line 1 column 1 (char 0)\n",
      "JSONDecodeError: Expecting ',' delimiter: line 3 column 425 (char 451)\n",
      "JSONDecodeError: Expecting ',' delimiter: line 3 column 391 (char 419)\n",
      "evaluations-qa199.csv saved\n"
     ]
    },
    {
     "name": "stderr",
     "output_type": "stream",
     "text": [
      "100%|███████████████████████████████████████████████████████████████████████████████████████████████████████████████████| 15/15 [00:38<00:00,  2.54s/it]\n"
     ]
    },
    {
     "name": "stdout",
     "output_type": "stream",
     "text": [
      "JSONDecodeError: Expecting ',' delimiter: line 3 column 367 (char 395)\n",
      "JSONDecodeError: Expecting ',' delimiter: line 3 column 358 (char 386)\n",
      "JSONDecodeError: Expecting ',' delimiter: line 3 column 254 (char 282)\n",
      "JSONDecodeError: Expecting ',' delimiter: line 3 column 404 (char 439)\n",
      "JSONDecodeError: Expecting ',' delimiter: line 3 column 279 (char 307)\n",
      "JSONDecodeError: Expecting ',' delimiter: line 3 column 244 (char 272)\n",
      "JSONDecodeError: Expecting ',' delimiter: line 3 column 287 (char 315)\n",
      "evaluations-qa200.csv saved\n"
     ]
    },
    {
     "name": "stderr",
     "output_type": "stream",
     "text": [
      "100%|███████████████████████████████████████████████████████████████████████████████████████████████████████████████████| 15/15 [00:39<00:00,  2.63s/it]\n"
     ]
    },
    {
     "name": "stdout",
     "output_type": "stream",
     "text": [
      "JSONDecodeError: Expecting value: line 1 column 1 (char 0)\n",
      "Failed to fix JSON string: Expecting value: line 1 column 1 (char 0)\n",
      "JSONDecodeError: Expecting ',' delimiter: line 3 column 376 (char 406)\n",
      "JSONDecodeError: Expecting ',' delimiter: line 3 column 253 (char 283)\n",
      "JSONDecodeError: Expecting ',' delimiter: line 3 column 425 (char 453)\n",
      "JSONDecodeError: Expecting value: line 1 column 1 (char 0)\n",
      "Failed to fix JSON string: Expecting value: line 1 column 1 (char 0)\n",
      "JSONDecodeError: Expecting value: line 1 column 1 (char 0)\n",
      "Failed to fix JSON string: Expecting value: line 1 column 1 (char 0)\n",
      "JSONDecodeError: Expecting value: line 1 column 1 (char 0)\n",
      "Failed to fix JSON string: Expecting value: line 1 column 1 (char 0)\n",
      "JSONDecodeError: Expecting ',' delimiter: line 3 column 352 (char 378)\n",
      "JSONDecodeError: Expecting value: line 1 column 1 (char 0)\n",
      "Failed to fix JSON string: Expecting value: line 1 column 1 (char 0)\n",
      "evaluations-qa201.csv saved\n"
     ]
    },
    {
     "name": "stderr",
     "output_type": "stream",
     "text": [
      "100%|███████████████████████████████████████████████████████████████████████████████████████████████████████████████████| 15/15 [00:37<00:00,  2.53s/it]\n"
     ]
    },
    {
     "name": "stdout",
     "output_type": "stream",
     "text": [
      "JSONDecodeError: Expecting ',' delimiter: line 3 column 273 (char 299)\n",
      "JSONDecodeError: Expecting ',' delimiter: line 3 column 199 (char 227)\n",
      "JSONDecodeError: Expecting ',' delimiter: line 3 column 286 (char 314)\n",
      "evaluations-qa202.csv saved\n"
     ]
    },
    {
     "name": "stderr",
     "output_type": "stream",
     "text": [
      "100%|███████████████████████████████████████████████████████████████████████████████████████████████████████████████████| 15/15 [00:38<00:00,  2.57s/it]\n"
     ]
    },
    {
     "name": "stdout",
     "output_type": "stream",
     "text": [
      "JSONDecodeError: Expecting ',' delimiter: line 3 column 312 (char 340)\n",
      "JSONDecodeError: Expecting ',' delimiter: line 3 column 449 (char 484)\n",
      "JSONDecodeError: Expecting ',' delimiter: line 3 column 376 (char 408)\n",
      "JSONDecodeError: Expecting ',' delimiter: line 3 column 375 (char 403)\n",
      "JSONDecodeError: Expecting ',' delimiter: line 3 column 417 (char 452)\n",
      "JSONDecodeError: Expecting ',' delimiter: line 3 column 215 (char 247)\n",
      "JSONDecodeError: Expecting ',' delimiter: line 3 column 440 (char 475)\n",
      "JSONDecodeError: Expecting ',' delimiter: line 3 column 373 (char 399)\n",
      "JSONDecodeError: Expecting ',' delimiter: line 3 column 248 (char 276)\n",
      "evaluations-qa203.csv saved\n"
     ]
    },
    {
     "name": "stderr",
     "output_type": "stream",
     "text": [
      "100%|███████████████████████████████████████████████████████████████████████████████████████████████████████████████████| 15/15 [00:39<00:00,  2.65s/it]\n"
     ]
    },
    {
     "name": "stdout",
     "output_type": "stream",
     "text": [
      "JSONDecodeError: Expecting ',' delimiter: line 3 column 212 (char 240)\n",
      "JSONDecodeError: Expecting ',' delimiter: line 3 column 293 (char 319)\n",
      "JSONDecodeError: Expecting ',' delimiter: line 3 column 266 (char 294)\n",
      "JSONDecodeError: Expecting ',' delimiter: line 3 column 303 (char 335)\n",
      "JSONDecodeError: Expecting ',' delimiter: line 3 column 408 (char 434)\n",
      "JSONDecodeError: Expecting ',' delimiter: line 3 column 330 (char 363)\n",
      "JSONDecodeError: Expecting ',' delimiter: line 3 column 321 (char 349)\n",
      "evaluations-qa204.csv saved\n"
     ]
    },
    {
     "name": "stderr",
     "output_type": "stream",
     "text": [
      "100%|███████████████████████████████████████████████████████████████████████████████████████████████████████████████████| 15/15 [00:38<00:00,  2.55s/it]\n"
     ]
    },
    {
     "name": "stdout",
     "output_type": "stream",
     "text": [
      "JSONDecodeError: Expecting ',' delimiter: line 3 column 219 (char 247)\n",
      "JSONDecodeError: Expecting ',' delimiter: line 3 column 301 (char 329)\n",
      "JSONDecodeError: Expecting value: line 1 column 1 (char 0)\n",
      "Failed to fix JSON string: Expecting value: line 1 column 1 (char 0)\n",
      "JSONDecodeError: Expecting ',' delimiter: line 3 column 331 (char 359)\n",
      "evaluations-qa205.csv saved\n"
     ]
    },
    {
     "name": "stderr",
     "output_type": "stream",
     "text": [
      "100%|███████████████████████████████████████████████████████████████████████████████████████████████████████████████████| 15/15 [00:39<00:00,  2.66s/it]\n"
     ]
    },
    {
     "name": "stdout",
     "output_type": "stream",
     "text": [
      "JSONDecodeError: Expecting ',' delimiter: line 3 column 467 (char 502)\n",
      "JSONDecodeError: Expecting ',' delimiter: line 3 column 278 (char 306)\n",
      "JSONDecodeError: Expecting ',' delimiter: line 3 column 248 (char 276)\n",
      "JSONDecodeError: Expecting ',' delimiter: line 3 column 236 (char 264)\n",
      "JSONDecodeError: Expecting ',' delimiter: line 3 column 261 (char 287)\n",
      "JSONDecodeError: Expecting value: line 1 column 1 (char 0)\n",
      "Failed to fix JSON string: Expecting value: line 1 column 1 (char 0)\n",
      "evaluations-qa206.csv saved\n"
     ]
    },
    {
     "name": "stderr",
     "output_type": "stream",
     "text": [
      "100%|███████████████████████████████████████████████████████████████████████████████████████████████████████████████████| 15/15 [00:39<00:00,  2.66s/it]\n"
     ]
    },
    {
     "name": "stdout",
     "output_type": "stream",
     "text": [
      "JSONDecodeError: Expecting ',' delimiter: line 3 column 478 (char 506)\n",
      "JSONDecodeError: Expecting ',' delimiter: line 3 column 254 (char 282)\n",
      "JSONDecodeError: Expecting value: line 1 column 1 (char 0)\n",
      "Failed to fix JSON string: Expecting value: line 1 column 1 (char 0)\n",
      "JSONDecodeError: Expecting ',' delimiter: line 3 column 238 (char 266)\n",
      "JSONDecodeError: Expecting ',' delimiter: line 3 column 324 (char 350)\n",
      "JSONDecodeError: Expecting ',' delimiter: line 3 column 416 (char 451)\n",
      "evaluations-qa207.csv saved\n"
     ]
    },
    {
     "name": "stderr",
     "output_type": "stream",
     "text": [
      "100%|███████████████████████████████████████████████████████████████████████████████████████████████████████████████████| 15/15 [00:38<00:00,  2.58s/it]\n"
     ]
    },
    {
     "name": "stdout",
     "output_type": "stream",
     "text": [
      "JSONDecodeError: Expecting value: line 1 column 1 (char 0)\n",
      "Failed to fix JSON string: Expecting value: line 1 column 1 (char 0)\n",
      "JSONDecodeError: Expecting value: line 1 column 1 (char 0)\n",
      "Failed to fix JSON string: Expecting value: line 1 column 1 (char 0)\n",
      "JSONDecodeError: Expecting ',' delimiter: line 3 column 331 (char 357)\n",
      "JSONDecodeError: Expecting ',' delimiter: line 3 column 315 (char 343)\n",
      "JSONDecodeError: Expecting ',' delimiter: line 3 column 557 (char 590)\n",
      "JSONDecodeError: Expecting ',' delimiter: line 3 column 328 (char 356)\n",
      "JSONDecodeError: Expecting ',' delimiter: line 3 column 169 (char 197)\n",
      "JSONDecodeError: Expecting ',' delimiter: line 3 column 295 (char 323)\n",
      "evaluations-qa208.csv saved\n"
     ]
    },
    {
     "name": "stderr",
     "output_type": "stream",
     "text": [
      "100%|███████████████████████████████████████████████████████████████████████████████████████████████████████████████████| 15/15 [00:39<00:00,  2.64s/it]\n"
     ]
    },
    {
     "name": "stdout",
     "output_type": "stream",
     "text": [
      "JSONDecodeError: Expecting ',' delimiter: line 3 column 332 (char 360)\n",
      "JSONDecodeError: Expecting ',' delimiter: line 3 column 279 (char 307)\n",
      "JSONDecodeError: Expecting ',' delimiter: line 3 column 332 (char 364)\n",
      "JSONDecodeError: Expecting ',' delimiter: line 3 column 289 (char 317)\n",
      "JSONDecodeError: Expecting ',' delimiter: line 3 column 620 (char 655)\n",
      "JSONDecodeError: Expecting ',' delimiter: line 3 column 328 (char 356)\n",
      "JSONDecodeError: Expecting ',' delimiter: line 3 column 421 (char 456)\n",
      "JSONDecodeError: Expecting ',' delimiter: line 3 column 366 (char 394)\n",
      "JSONDecodeError: Expecting value: line 1 column 1 (char 0)\n",
      "Failed to fix JSON string: Expecting value: line 1 column 1 (char 0)\n",
      "JSONDecodeError: Expecting ',' delimiter: line 3 column 619 (char 647)\n",
      "evaluations-qa209.csv saved\n"
     ]
    },
    {
     "name": "stderr",
     "output_type": "stream",
     "text": [
      "100%|███████████████████████████████████████████████████████████████████████████████████████████████████████████████████| 15/15 [00:38<00:00,  2.56s/it]\n"
     ]
    },
    {
     "name": "stdout",
     "output_type": "stream",
     "text": [
      "JSONDecodeError: Expecting ',' delimiter: line 3 column 179 (char 207)\n",
      "JSONDecodeError: Expecting ',' delimiter: line 3 column 284 (char 312)\n",
      "JSONDecodeError: Expecting value: line 1 column 1 (char 0)\n",
      "Failed to fix JSON string: Expecting value: line 1 column 1 (char 0)\n",
      "JSONDecodeError: Expecting value: line 1 column 1 (char 0)\n",
      "Failed to fix JSON string: Expecting value: line 1 column 1 (char 0)\n",
      "JSONDecodeError: Expecting ',' delimiter: line 3 column 428 (char 461)\n",
      "JSONDecodeError: Expecting ',' delimiter: line 3 column 412 (char 447)\n",
      "evaluations-qa210.csv saved\n"
     ]
    },
    {
     "name": "stderr",
     "output_type": "stream",
     "text": [
      "100%|███████████████████████████████████████████████████████████████████████████████████████████████████████████████████| 15/15 [00:39<00:00,  2.64s/it]\n"
     ]
    },
    {
     "name": "stdout",
     "output_type": "stream",
     "text": [
      "JSONDecodeError: Expecting ',' delimiter: line 3 column 311 (char 343)\n",
      "JSONDecodeError: Expecting value: line 1 column 1 (char 0)\n",
      "Failed to fix JSON string: Expecting value: line 1 column 1 (char 0)\n",
      "JSONDecodeError: Expecting ',' delimiter: line 3 column 289 (char 317)\n",
      "JSONDecodeError: Expecting value: line 1 column 1 (char 0)\n",
      "Failed to fix JSON string: Expecting value: line 1 column 1 (char 0)\n",
      "evaluations-qa211.csv saved\n"
     ]
    },
    {
     "name": "stderr",
     "output_type": "stream",
     "text": [
      "100%|███████████████████████████████████████████████████████████████████████████████████████████████████████████████████| 15/15 [00:39<00:00,  2.61s/it]\n"
     ]
    },
    {
     "name": "stdout",
     "output_type": "stream",
     "text": [
      "JSONDecodeError: Expecting ',' delimiter: line 3 column 307 (char 337)\n",
      "JSONDecodeError: Expecting ',' delimiter: line 3 column 242 (char 268)\n",
      "JSONDecodeError: Expecting ',' delimiter: line 3 column 281 (char 309)\n",
      "JSONDecodeError: Expecting value: line 1 column 1 (char 0)\n",
      "Failed to fix JSON string: Expecting value: line 1 column 1 (char 0)\n",
      "JSONDecodeError: Expecting value: line 1 column 1 (char 0)\n",
      "Failed to fix JSON string: Expecting value: line 1 column 1 (char 0)\n",
      "evaluations-qa212.csv saved\n"
     ]
    },
    {
     "name": "stderr",
     "output_type": "stream",
     "text": [
      "100%|███████████████████████████████████████████████████████████████████████████████████████████████████████████████████| 15/15 [00:38<00:00,  2.58s/it]\n"
     ]
    },
    {
     "name": "stdout",
     "output_type": "stream",
     "text": [
      "JSONDecodeError: Expecting ',' delimiter: line 3 column 291 (char 317)\n",
      "JSONDecodeError: Expecting ',' delimiter: line 3 column 210 (char 238)\n",
      "JSONDecodeError: Expecting ',' delimiter: line 3 column 303 (char 331)\n",
      "JSONDecodeError: Expecting ',' delimiter: line 3 column 258 (char 286)\n",
      "JSONDecodeError: Expecting ',' delimiter: line 3 column 285 (char 313)\n",
      "JSONDecodeError: Expecting ',' delimiter: line 3 column 241 (char 269)\n",
      "JSONDecodeError: Expecting ',' delimiter: line 3 column 338 (char 364)\n",
      "JSONDecodeError: Expecting ',' delimiter: line 3 column 413 (char 446)\n",
      "evaluations-qa213.csv saved\n"
     ]
    },
    {
     "name": "stderr",
     "output_type": "stream",
     "text": [
      "100%|███████████████████████████████████████████████████████████████████████████████████████████████████████████████████| 15/15 [00:39<00:00,  2.62s/it]\n"
     ]
    },
    {
     "name": "stdout",
     "output_type": "stream",
     "text": [
      "JSONDecodeError: Expecting ',' delimiter: line 3 column 311 (char 337)\n",
      "JSONDecodeError: Expecting ',' delimiter: line 3 column 497 (char 525)\n",
      "JSONDecodeError: Expecting value: line 1 column 1 (char 0)\n",
      "Failed to fix JSON string: Expecting value: line 1 column 1 (char 0)\n",
      "JSONDecodeError: Expecting ',' delimiter: line 3 column 177 (char 205)\n",
      "JSONDecodeError: Expecting ',' delimiter: line 3 column 412 (char 447)\n",
      "evaluations-qa214.csv saved\n"
     ]
    },
    {
     "name": "stderr",
     "output_type": "stream",
     "text": [
      "100%|███████████████████████████████████████████████████████████████████████████████████████████████████████████████████| 15/15 [00:38<00:00,  2.58s/it]\n"
     ]
    },
    {
     "name": "stdout",
     "output_type": "stream",
     "text": [
      "JSONDecodeError: Expecting ',' delimiter: line 3 column 383 (char 411)\n",
      "JSONDecodeError: Expecting ',' delimiter: line 3 column 241 (char 269)\n",
      "JSONDecodeError: Expecting ',' delimiter: line 3 column 206 (char 234)\n",
      "JSONDecodeError: Expecting ',' delimiter: line 3 column 225 (char 253)\n",
      "JSONDecodeError: Expecting ',' delimiter: line 3 column 301 (char 329)\n",
      "JSONDecodeError: Expecting value: line 1 column 1 (char 0)\n",
      "Failed to fix JSON string: Expecting value: line 1 column 1 (char 0)\n",
      "JSONDecodeError: Expecting ',' delimiter: line 3 column 318 (char 346)\n",
      "JSONDecodeError: Expecting ',' delimiter: line 3 column 267 (char 299)\n",
      "evaluations-qa215.csv saved\n"
     ]
    },
    {
     "name": "stderr",
     "output_type": "stream",
     "text": [
      "100%|███████████████████████████████████████████████████████████████████████████████████████████████████████████████████| 15/15 [00:39<00:00,  2.61s/it]\n"
     ]
    },
    {
     "name": "stdout",
     "output_type": "stream",
     "text": [
      "JSONDecodeError: Expecting value: line 1 column 1 (char 0)\n",
      "Failed to fix JSON string: Expecting value: line 1 column 1 (char 0)\n",
      "JSONDecodeError: Expecting ',' delimiter: line 3 column 427 (char 462)\n",
      "JSONDecodeError: Expecting value: line 1 column 1 (char 0)\n",
      "Failed to fix JSON string: Expecting value: line 1 column 1 (char 0)\n",
      "JSONDecodeError: Expecting ',' delimiter: line 3 column 220 (char 248)\n",
      "JSONDecodeError: Expecting ',' delimiter: line 3 column 160 (char 186)\n",
      "JSONDecodeError: Expecting ',' delimiter: line 3 column 324 (char 356)\n",
      "evaluations-qa216.csv saved\n"
     ]
    },
    {
     "name": "stderr",
     "output_type": "stream",
     "text": [
      "100%|███████████████████████████████████████████████████████████████████████████████████████████████████████████████████| 15/15 [00:38<00:00,  2.59s/it]\n"
     ]
    },
    {
     "name": "stdout",
     "output_type": "stream",
     "text": [
      "JSONDecodeError: Expecting ',' delimiter: line 3 column 306 (char 334)\n",
      "JSONDecodeError: Expecting ',' delimiter: line 3 column 258 (char 284)\n",
      "JSONDecodeError: Expecting ',' delimiter: line 3 column 248 (char 276)\n",
      "JSONDecodeError: Expecting ',' delimiter: line 3 column 237 (char 265)\n",
      "JSONDecodeError: Expecting ',' delimiter: line 3 column 460 (char 488)\n",
      "JSONDecodeError: Expecting ',' delimiter: line 3 column 363 (char 393)\n",
      "JSONDecodeError: Expecting ',' delimiter: line 3 column 346 (char 374)\n",
      "JSONDecodeError: Expecting value: line 1 column 1 (char 0)\n",
      "Failed to fix JSON string: Expecting value: line 1 column 1 (char 0)\n",
      "JSONDecodeError: Expecting ',' delimiter: line 3 column 318 (char 346)\n",
      "JSONDecodeError: Expecting value: line 1 column 1 (char 0)\n",
      "Failed to fix JSON string: Expecting value: line 1 column 1 (char 0)\n",
      "evaluations-qa217.csv saved\n"
     ]
    },
    {
     "name": "stderr",
     "output_type": "stream",
     "text": [
      "100%|███████████████████████████████████████████████████████████████████████████████████████████████████████████████████| 15/15 [00:38<00:00,  2.57s/it]\n"
     ]
    },
    {
     "name": "stdout",
     "output_type": "stream",
     "text": [
      "JSONDecodeError: Expecting value: line 1 column 1 (char 0)\n",
      "Failed to fix JSON string: Expecting value: line 1 column 1 (char 0)\n",
      "JSONDecodeError: Expecting ',' delimiter: line 3 column 287 (char 322)\n",
      "JSONDecodeError: Expecting ',' delimiter: line 3 column 183 (char 211)\n",
      "JSONDecodeError: Expecting ',' delimiter: line 3 column 240 (char 268)\n",
      "JSONDecodeError: Expecting ',' delimiter: line 3 column 167 (char 195)\n",
      "evaluations-qa218.csv saved\n"
     ]
    },
    {
     "name": "stderr",
     "output_type": "stream",
     "text": [
      "100%|███████████████████████████████████████████████████████████████████████████████████████████████████████████████████| 15/15 [00:39<00:00,  2.60s/it]\n"
     ]
    },
    {
     "name": "stdout",
     "output_type": "stream",
     "text": [
      "JSONDecodeError: Expecting ',' delimiter: line 3 column 278 (char 306)\n",
      "JSONDecodeError: Expecting ',' delimiter: line 3 column 285 (char 313)\n",
      "JSONDecodeError: Expecting ',' delimiter: line 3 column 356 (char 391)\n",
      "JSONDecodeError: Expecting ',' delimiter: line 3 column 215 (char 243)\n",
      "JSONDecodeError: Expecting ',' delimiter: line 3 column 237 (char 265)\n",
      "JSONDecodeError: Expecting value: line 1 column 1 (char 0)\n",
      "Failed to fix JSON string: Expecting value: line 1 column 1 (char 0)\n",
      "JSONDecodeError: Expecting ',' delimiter: line 3 column 234 (char 262)\n",
      "JSONDecodeError: Expecting ',' delimiter: line 3 column 506 (char 534)\n",
      "JSONDecodeError: Expecting ',' delimiter: line 3 column 287 (char 315)\n",
      "evaluations-qa219.csv saved\n"
     ]
    },
    {
     "name": "stderr",
     "output_type": "stream",
     "text": [
      "100%|███████████████████████████████████████████████████████████████████████████████████████████████████████████████████| 15/15 [00:38<00:00,  2.58s/it]\n"
     ]
    },
    {
     "name": "stdout",
     "output_type": "stream",
     "text": [
      "JSONDecodeError: Expecting ',' delimiter: line 3 column 553 (char 579)\n",
      "JSONDecodeError: Expecting ',' delimiter: line 3 column 548 (char 576)\n",
      "JSONDecodeError: Expecting ',' delimiter: line 3 column 228 (char 256)\n",
      "JSONDecodeError: Expecting ',' delimiter: line 3 column 356 (char 391)\n",
      "JSONDecodeError: Expecting ',' delimiter: line 3 column 478 (char 513)\n",
      "JSONDecodeError: Expecting ',' delimiter: line 3 column 264 (char 290)\n",
      "JSONDecodeError: Expecting value: line 1 column 1 (char 0)\n",
      "Failed to fix JSON string: Expecting value: line 1 column 1 (char 0)\n",
      "JSONDecodeError: Expecting ',' delimiter: line 3 column 366 (char 392)\n",
      "evaluations-qa220.csv saved\n"
     ]
    },
    {
     "name": "stderr",
     "output_type": "stream",
     "text": [
      "100%|███████████████████████████████████████████████████████████████████████████████████████████████████████████████████| 15/15 [00:39<00:00,  2.64s/it]\n"
     ]
    },
    {
     "name": "stdout",
     "output_type": "stream",
     "text": [
      "JSONDecodeError: Expecting ',' delimiter: line 3 column 292 (char 320)\n",
      "JSONDecodeError: Expecting value: line 1 column 1 (char 0)\n",
      "Failed to fix JSON string: Expecting value: line 1 column 1 (char 0)\n",
      "JSONDecodeError: Expecting ',' delimiter: line 3 column 305 (char 331)\n",
      "JSONDecodeError: Expecting ',' delimiter: line 3 column 302 (char 330)\n",
      "JSONDecodeError: Expecting ',' delimiter: line 3 column 324 (char 352)\n",
      "JSONDecodeError: Expecting ',' delimiter: line 3 column 510 (char 545)\n",
      "JSONDecodeError: Expecting ',' delimiter: line 3 column 300 (char 335)\n",
      "Failed to fix JSON string: Expecting ',' delimiter: line 3 column 300 (char 335)\n",
      "JSONDecodeError: Expecting value: line 1 column 1 (char 0)\n",
      "Failed to fix JSON string: Expecting value: line 1 column 1 (char 0)\n",
      "JSONDecodeError: Expecting ',' delimiter: line 3 column 406 (char 441)\n",
      "evaluations-qa221.csv saved\n"
     ]
    },
    {
     "name": "stderr",
     "output_type": "stream",
     "text": [
      "100%|███████████████████████████████████████████████████████████████████████████████████████████████████████████████████| 15/15 [00:38<00:00,  2.57s/it]\n"
     ]
    },
    {
     "name": "stdout",
     "output_type": "stream",
     "text": [
      "JSONDecodeError: Expecting ',' delimiter: line 3 column 440 (char 475)\n",
      "JSONDecodeError: Expecting ',' delimiter: line 3 column 261 (char 289)\n",
      "JSONDecodeError: Expecting ',' delimiter: line 3 column 279 (char 307)\n",
      "JSONDecodeError: Expecting ',' delimiter: line 3 column 342 (char 370)\n",
      "JSONDecodeError: Expecting ',' delimiter: line 3 column 228 (char 256)\n",
      "JSONDecodeError: Expecting ',' delimiter: line 3 column 228 (char 256)\n",
      "JSONDecodeError: Expecting ',' delimiter: line 3 column 213 (char 239)\n",
      "evaluations-qa222.csv saved\n"
     ]
    },
    {
     "name": "stderr",
     "output_type": "stream",
     "text": [
      "100%|███████████████████████████████████████████████████████████████████████████████████████████████████████████████████| 15/15 [00:38<00:00,  2.59s/it]\n"
     ]
    },
    {
     "name": "stdout",
     "output_type": "stream",
     "text": [
      "JSONDecodeError: Expecting value: line 1 column 1 (char 0)\n",
      "Failed to fix JSON string: Expecting value: line 1 column 1 (char 0)\n",
      "JSONDecodeError: Extra data: line 6 column 1 (char 241)\n",
      "Failed to fix JSON string: Extra data: line 6 column 1 (char 241)\n",
      "JSONDecodeError: Expecting ',' delimiter: line 3 column 282 (char 310)\n",
      "JSONDecodeError: Expecting ',' delimiter: line 3 column 318 (char 346)\n",
      "JSONDecodeError: Expecting ',' delimiter: line 3 column 349 (char 384)\n",
      "JSONDecodeError: Expecting ',' delimiter: line 3 column 331 (char 359)\n",
      "JSONDecodeError: Expecting ',' delimiter: line 3 column 327 (char 355)\n",
      "JSONDecodeError: Expecting ',' delimiter: line 3 column 334 (char 362)\n",
      "evaluations-qa223.csv saved\n"
     ]
    },
    {
     "name": "stderr",
     "output_type": "stream",
     "text": [
      "100%|███████████████████████████████████████████████████████████████████████████████████████████████████████████████████| 15/15 [00:39<00:00,  2.67s/it]\n"
     ]
    },
    {
     "name": "stdout",
     "output_type": "stream",
     "text": [
      "JSONDecodeError: Expecting ',' delimiter: line 3 column 562 (char 597)\n",
      "JSONDecodeError: Expecting ',' delimiter: line 3 column 315 (char 343)\n",
      "JSONDecodeError: Expecting value: line 1 column 1 (char 0)\n",
      "Failed to fix JSON string: Expecting value: line 1 column 1 (char 0)\n",
      "JSONDecodeError: Expecting ',' delimiter: line 3 column 392 (char 425)\n",
      "JSONDecodeError: Expecting value: line 1 column 1 (char 0)\n",
      "Failed to fix JSON string: Expecting value: line 1 column 1 (char 0)\n",
      "JSONDecodeError: Expecting ',' delimiter: line 3 column 405 (char 433)\n",
      "JSONDecodeError: Expecting ',' delimiter: line 3 column 189 (char 217)\n",
      "JSONDecodeError: Expecting ',' delimiter: line 3 column 225 (char 253)\n",
      "JSONDecodeError: Expecting value: line 1 column 1 (char 0)\n",
      "Failed to fix JSON string: Expecting value: line 1 column 1 (char 0)\n",
      "JSONDecodeError: Expecting ',' delimiter: line 3 column 270 (char 305)\n",
      "JSONDecodeError: Expecting ',' delimiter: line 3 column 241 (char 267)\n",
      "evaluations-qa224.csv saved\n"
     ]
    },
    {
     "name": "stderr",
     "output_type": "stream",
     "text": [
      "100%|███████████████████████████████████████████████████████████████████████████████████████████████████████████████████| 15/15 [00:38<00:00,  2.60s/it]\n"
     ]
    },
    {
     "name": "stdout",
     "output_type": "stream",
     "text": [
      "JSONDecodeError: Expecting ',' delimiter: line 3 column 216 (char 244)\n",
      "JSONDecodeError: Expecting ',' delimiter: line 3 column 198 (char 224)\n",
      "JSONDecodeError: Expecting ',' delimiter: line 3 column 295 (char 323)\n",
      "JSONDecodeError: Expecting ',' delimiter: line 3 column 467 (char 502)\n",
      "JSONDecodeError: Expecting ',' delimiter: line 3 column 187 (char 215)\n",
      "evaluations-qa225.csv saved\n"
     ]
    },
    {
     "name": "stderr",
     "output_type": "stream",
     "text": [
      "100%|███████████████████████████████████████████████████████████████████████████████████████████████████████████████████| 15/15 [00:39<00:00,  2.60s/it]\n"
     ]
    },
    {
     "name": "stdout",
     "output_type": "stream",
     "text": [
      "JSONDecodeError: Expecting ',' delimiter: line 3 column 213 (char 241)\n",
      "JSONDecodeError: Expecting ',' delimiter: line 3 column 346 (char 374)\n",
      "JSONDecodeError: Expecting ',' delimiter: line 3 column 256 (char 284)\n",
      "JSONDecodeError: Expecting value: line 1 column 1 (char 0)\n",
      "Failed to fix JSON string: Expecting value: line 1 column 1 (char 0)\n",
      "JSONDecodeError: Expecting value: line 1 column 1 (char 0)\n",
      "Failed to fix JSON string: Expecting value: line 1 column 1 (char 0)\n",
      "evaluations-qa226.csv saved\n"
     ]
    },
    {
     "name": "stderr",
     "output_type": "stream",
     "text": [
      "100%|███████████████████████████████████████████████████████████████████████████████████████████████████████████████████| 15/15 [00:39<00:00,  2.60s/it]\n"
     ]
    },
    {
     "name": "stdout",
     "output_type": "stream",
     "text": [
      "JSONDecodeError: Expecting ',' delimiter: line 3 column 364 (char 396)\n",
      "JSONDecodeError: Expecting ',' delimiter: line 3 column 365 (char 391)\n",
      "JSONDecodeError: Expecting value: line 1 column 1 (char 0)\n",
      "Failed to fix JSON string: Expecting value: line 1 column 1 (char 0)\n",
      "JSONDecodeError: Expecting ',' delimiter: line 3 column 264 (char 296)\n",
      "JSONDecodeError: Expecting ',' delimiter: line 3 column 315 (char 348)\n",
      "JSONDecodeError: Expecting ',' delimiter: line 3 column 271 (char 299)\n",
      "JSONDecodeError: Expecting ',' delimiter: line 3 column 244 (char 272)\n",
      "JSONDecodeError: Expecting ',' delimiter: line 3 column 236 (char 264)\n",
      "JSONDecodeError: Expecting ',' delimiter: line 3 column 525 (char 553)\n",
      "JSONDecodeError: Expecting ',' delimiter: line 3 column 470 (char 498)\n",
      "evaluations-qa227.csv saved\n"
     ]
    },
    {
     "name": "stderr",
     "output_type": "stream",
     "text": [
      "100%|███████████████████████████████████████████████████████████████████████████████████████████████████████████████████| 15/15 [00:39<00:00,  2.62s/it]\n"
     ]
    },
    {
     "name": "stdout",
     "output_type": "stream",
     "text": [
      "JSONDecodeError: Expecting ',' delimiter: line 3 column 265 (char 293)\n",
      "JSONDecodeError: Expecting ',' delimiter: line 3 column 265 (char 300)\n",
      "JSONDecodeError: Expecting ',' delimiter: line 3 column 311 (char 339)\n",
      "JSONDecodeError: Expecting ',' delimiter: line 3 column 282 (char 310)\n",
      "JSONDecodeError: Expecting ',' delimiter: line 3 column 406 (char 434)\n",
      "JSONDecodeError: Expecting value: line 1 column 1 (char 0)\n",
      "Failed to fix JSON string: Expecting value: line 1 column 1 (char 0)\n",
      "JSONDecodeError: Expecting value: line 1 column 1 (char 0)\n",
      "Failed to fix JSON string: Expecting value: line 1 column 1 (char 0)\n",
      "JSONDecodeError: Expecting ',' delimiter: line 3 column 343 (char 369)\n",
      "evaluations-qa228.csv saved\n"
     ]
    },
    {
     "name": "stderr",
     "output_type": "stream",
     "text": [
      "100%|███████████████████████████████████████████████████████████████████████████████████████████████████████████████████| 15/15 [00:39<00:00,  2.61s/it]\n"
     ]
    },
    {
     "name": "stdout",
     "output_type": "stream",
     "text": [
      "JSONDecodeError: Expecting ',' delimiter: line 3 column 420 (char 455)\n",
      "JSONDecodeError: Expecting ',' delimiter: line 3 column 303 (char 329)\n",
      "JSONDecodeError: Expecting ',' delimiter: line 3 column 227 (char 253)\n",
      "JSONDecodeError: Expecting ',' delimiter: line 3 column 377 (char 412)\n",
      "JSONDecodeError: Expecting value: line 1 column 1 (char 0)\n",
      "Failed to fix JSON string: Expecting value: line 1 column 1 (char 0)\n",
      "JSONDecodeError: Expecting ',' delimiter: line 3 column 371 (char 399)\n",
      "JSONDecodeError: Expecting value: line 1 column 1 (char 0)\n",
      "Failed to fix JSON string: Expecting value: line 1 column 1 (char 0)\n",
      "JSONDecodeError: Expecting ',' delimiter: line 3 column 550 (char 585)\n",
      "evaluations-qa229.csv saved\n"
     ]
    },
    {
     "name": "stderr",
     "output_type": "stream",
     "text": [
      "100%|███████████████████████████████████████████████████████████████████████████████████████████████████████████████████| 15/15 [00:38<00:00,  2.58s/it]\n"
     ]
    },
    {
     "name": "stdout",
     "output_type": "stream",
     "text": [
      "JSONDecodeError: Expecting value: line 1 column 1 (char 0)\n",
      "Failed to fix JSON string: Expecting value: line 1 column 1 (char 0)\n",
      "JSONDecodeError: Expecting value: line 1 column 1 (char 0)\n",
      "Failed to fix JSON string: Expecting value: line 1 column 1 (char 0)\n",
      "JSONDecodeError: Expecting ',' delimiter: line 3 column 253 (char 279)\n",
      "JSONDecodeError: Expecting ',' delimiter: line 3 column 315 (char 350)\n",
      "JSONDecodeError: Expecting ',' delimiter: line 3 column 172 (char 198)\n",
      "JSONDecodeError: Expecting ',' delimiter: line 3 column 307 (char 335)\n",
      "JSONDecodeError: Expecting ',' delimiter: line 3 column 367 (char 402)\n",
      "JSONDecodeError: Expecting ',' delimiter: line 3 column 348 (char 383)\n",
      "JSONDecodeError: Expecting ',' delimiter: line 3 column 291 (char 319)\n",
      "JSONDecodeError: Expecting ',' delimiter: line 3 column 359 (char 394)\n",
      "JSONDecodeError: Expecting ',' delimiter: line 3 column 508 (char 536)\n",
      "evaluations-qa230.csv saved\n"
     ]
    },
    {
     "name": "stderr",
     "output_type": "stream",
     "text": [
      "100%|███████████████████████████████████████████████████████████████████████████████████████████████████████████████████| 15/15 [00:38<00:00,  2.59s/it]\n"
     ]
    },
    {
     "name": "stdout",
     "output_type": "stream",
     "text": [
      "JSONDecodeError: Expecting ',' delimiter: line 3 column 452 (char 480)\n",
      "JSONDecodeError: Expecting value: line 1 column 1 (char 0)\n",
      "Failed to fix JSON string: Expecting value: line 1 column 1 (char 0)\n",
      "JSONDecodeError: Expecting ',' delimiter: line 3 column 408 (char 436)\n",
      "JSONDecodeError: Expecting ',' delimiter: line 3 column 327 (char 355)\n",
      "JSONDecodeError: Expecting ',' delimiter: line 3 column 269 (char 297)\n",
      "JSONDecodeError: Expecting value: line 1 column 1 (char 0)\n",
      "Failed to fix JSON string: Expecting value: line 1 column 1 (char 0)\n",
      "JSONDecodeError: Expecting ',' delimiter: line 3 column 338 (char 366)\n",
      "JSONDecodeError: Expecting value: line 1 column 1 (char 0)\n",
      "Failed to fix JSON string: Expecting value: line 1 column 1 (char 0)\n",
      "JSONDecodeError: Expecting ',' delimiter: line 3 column 333 (char 359)\n",
      "evaluations-qa231.csv saved\n"
     ]
    },
    {
     "name": "stderr",
     "output_type": "stream",
     "text": [
      "100%|███████████████████████████████████████████████████████████████████████████████████████████████████████████████████| 15/15 [00:38<00:00,  2.55s/it]\n"
     ]
    },
    {
     "name": "stdout",
     "output_type": "stream",
     "text": [
      "JSONDecodeError: Expecting ',' delimiter: line 3 column 245 (char 273)\n",
      "JSONDecodeError: Expecting ',' delimiter: line 3 column 370 (char 398)\n",
      "JSONDecodeError: Expecting ',' delimiter: line 3 column 291 (char 319)\n",
      "JSONDecodeError: Expecting value: line 1 column 1 (char 0)\n",
      "Failed to fix JSON string: Expecting value: line 1 column 1 (char 0)\n",
      "JSONDecodeError: Expecting value: line 1 column 1 (char 0)\n",
      "Failed to fix JSON string: Expecting value: line 1 column 1 (char 0)\n",
      "JSONDecodeError: Expecting ',' delimiter: line 3 column 194 (char 222)\n",
      "JSONDecodeError: Expecting value: line 1 column 1 (char 0)\n",
      "Failed to fix JSON string: Expecting value: line 1 column 1 (char 0)\n",
      "evaluations-qa232.csv saved\n"
     ]
    },
    {
     "name": "stderr",
     "output_type": "stream",
     "text": [
      "100%|███████████████████████████████████████████████████████████████████████████████████████████████████████████████████| 15/15 [00:39<00:00,  2.60s/it]\n"
     ]
    },
    {
     "name": "stdout",
     "output_type": "stream",
     "text": [
      "JSONDecodeError: Expecting ',' delimiter: line 3 column 385 (char 420)\n",
      "JSONDecodeError: Expecting ',' delimiter: line 3 column 627 (char 662)\n",
      "JSONDecodeError: Expecting ',' delimiter: line 3 column 346 (char 374)\n",
      "JSONDecodeError: Expecting ',' delimiter: line 3 column 202 (char 230)\n",
      "JSONDecodeError: Expecting ',' delimiter: line 3 column 283 (char 311)\n",
      "JSONDecodeError: Expecting ',' delimiter: line 3 column 357 (char 392)\n",
      "evaluations-qa233.csv saved\n"
     ]
    },
    {
     "name": "stderr",
     "output_type": "stream",
     "text": [
      "100%|███████████████████████████████████████████████████████████████████████████████████████████████████████████████████| 15/15 [00:39<00:00,  2.62s/it]\n"
     ]
    },
    {
     "name": "stdout",
     "output_type": "stream",
     "text": [
      "JSONDecodeError: Expecting ',' delimiter: line 3 column 264 (char 292)\n",
      "JSONDecodeError: Expecting value: line 1 column 1 (char 0)\n",
      "Failed to fix JSON string: Expecting value: line 1 column 1 (char 0)\n",
      "JSONDecodeError: Expecting ',' delimiter: line 3 column 468 (char 494)\n",
      "JSONDecodeError: Expecting ',' delimiter: line 3 column 227 (char 255)\n",
      "JSONDecodeError: Expecting ',' delimiter: line 3 column 345 (char 373)\n",
      "evaluations-qa234.csv saved\n"
     ]
    },
    {
     "name": "stderr",
     "output_type": "stream",
     "text": [
      "100%|███████████████████████████████████████████████████████████████████████████████████████████████████████████████████| 15/15 [00:39<00:00,  2.65s/it]\n"
     ]
    },
    {
     "name": "stdout",
     "output_type": "stream",
     "text": [
      "JSONDecodeError: Expecting ',' delimiter: line 3 column 386 (char 414)\n",
      "JSONDecodeError: Expecting ',' delimiter: line 3 column 260 (char 286)\n",
      "JSONDecodeError: Expecting ',' delimiter: line 3 column 414 (char 442)\n",
      "JSONDecodeError: Expecting value: line 1 column 1 (char 0)\n",
      "Failed to fix JSON string: Expecting value: line 1 column 1 (char 0)\n",
      "evaluations-qa235.csv saved\n"
     ]
    },
    {
     "name": "stderr",
     "output_type": "stream",
     "text": [
      "100%|███████████████████████████████████████████████████████████████████████████████████████████████████████████████████| 15/15 [00:38<00:00,  2.58s/it]\n"
     ]
    },
    {
     "name": "stdout",
     "output_type": "stream",
     "text": [
      "JSONDecodeError: Expecting ',' delimiter: line 3 column 297 (char 325)\n",
      "JSONDecodeError: Expecting ',' delimiter: line 3 column 375 (char 401)\n",
      "JSONDecodeError: Expecting ',' delimiter: line 3 column 311 (char 339)\n",
      "JSONDecodeError: Expecting ',' delimiter: line 3 column 186 (char 214)\n",
      "JSONDecodeError: Expecting ',' delimiter: line 3 column 477 (char 512)\n",
      "JSONDecodeError: Expecting ',' delimiter: line 3 column 256 (char 286)\n",
      "JSONDecodeError: Expecting value: line 1 column 1 (char 0)\n",
      "Failed to fix JSON string: Expecting value: line 1 column 1 (char 0)\n",
      "evaluations-qa236.csv saved\n"
     ]
    },
    {
     "name": "stderr",
     "output_type": "stream",
     "text": [
      "100%|███████████████████████████████████████████████████████████████████████████████████████████████████████████████████| 15/15 [00:39<00:00,  2.60s/it]\n"
     ]
    },
    {
     "name": "stdout",
     "output_type": "stream",
     "text": [
      "JSONDecodeError: Expecting ',' delimiter: line 3 column 248 (char 274)\n",
      "JSONDecodeError: Expecting ',' delimiter: line 3 column 467 (char 502)\n",
      "JSONDecodeError: Expecting ',' delimiter: line 3 column 228 (char 261)\n",
      "JSONDecodeError: Expecting ',' delimiter: line 3 column 330 (char 365)\n",
      "JSONDecodeError: Expecting ',' delimiter: line 3 column 225 (char 253)\n",
      "JSONDecodeError: Expecting ',' delimiter: line 3 column 364 (char 399)\n",
      "evaluations-qa237.csv saved\n"
     ]
    },
    {
     "name": "stderr",
     "output_type": "stream",
     "text": [
      "100%|███████████████████████████████████████████████████████████████████████████████████████████████████████████████████| 15/15 [00:39<00:00,  2.61s/it]\n"
     ]
    },
    {
     "name": "stdout",
     "output_type": "stream",
     "text": [
      "JSONDecodeError: Expecting ',' delimiter: line 3 column 296 (char 324)\n",
      "JSONDecodeError: Expecting value: line 1 column 1 (char 0)\n",
      "Failed to fix JSON string: Expecting value: line 1 column 1 (char 0)\n",
      "JSONDecodeError: Expecting ',' delimiter: line 3 column 323 (char 351)\n",
      "JSONDecodeError: Expecting value: line 1 column 1 (char 0)\n",
      "Failed to fix JSON string: Expecting value: line 1 column 1 (char 0)\n",
      "JSONDecodeError: Expecting ',' delimiter: line 3 column 502 (char 530)\n",
      "JSONDecodeError: Expecting ',' delimiter: line 3 column 368 (char 396)\n",
      "evaluations-qa238.csv saved\n"
     ]
    },
    {
     "name": "stderr",
     "output_type": "stream",
     "text": [
      "100%|███████████████████████████████████████████████████████████████████████████████████████████████████████████████████| 15/15 [00:39<00:00,  2.60s/it]\n"
     ]
    },
    {
     "name": "stdout",
     "output_type": "stream",
     "text": [
      "JSONDecodeError: Expecting ',' delimiter: line 3 column 323 (char 351)\n",
      "JSONDecodeError: Expecting ',' delimiter: line 3 column 253 (char 288)\n",
      "JSONDecodeError: Expecting ',' delimiter: line 3 column 313 (char 345)\n",
      "JSONDecodeError: Expecting value: line 1 column 1 (char 0)\n",
      "Failed to fix JSON string: Expecting value: line 1 column 1 (char 0)\n",
      "JSONDecodeError: Expecting ',' delimiter: line 3 column 487 (char 522)\n",
      "JSONDecodeError: Expecting ',' delimiter: line 3 column 531 (char 559)\n",
      "JSONDecodeError: Expecting value: line 1 column 1 (char 0)\n",
      "Failed to fix JSON string: Expecting value: line 1 column 1 (char 0)\n",
      "evaluations-qa239.csv saved\n"
     ]
    },
    {
     "name": "stderr",
     "output_type": "stream",
     "text": [
      "100%|███████████████████████████████████████████████████████████████████████████████████████████████████████████████████| 15/15 [00:38<00:00,  2.57s/it]\n"
     ]
    },
    {
     "name": "stdout",
     "output_type": "stream",
     "text": [
      "JSONDecodeError: Expecting ',' delimiter: line 3 column 502 (char 530)\n",
      "JSONDecodeError: Expecting ',' delimiter: line 3 column 243 (char 271)\n",
      "JSONDecodeError: Expecting ',' delimiter: line 3 column 414 (char 440)\n",
      "JSONDecodeError: Expecting ',' delimiter: line 3 column 452 (char 480)\n",
      "JSONDecodeError: Expecting ',' delimiter: line 3 column 273 (char 301)\n",
      "JSONDecodeError: Expecting ',' delimiter: line 3 column 310 (char 338)\n",
      "JSONDecodeError: Expecting ',' delimiter: line 3 column 257 (char 285)\n",
      "JSONDecodeError: Expecting ',' delimiter: line 3 column 270 (char 298)\n",
      "evaluations-qa240.csv saved\n"
     ]
    },
    {
     "name": "stderr",
     "output_type": "stream",
     "text": [
      "100%|███████████████████████████████████████████████████████████████████████████████████████████████████████████████████| 15/15 [00:38<00:00,  2.60s/it]\n"
     ]
    },
    {
     "name": "stdout",
     "output_type": "stream",
     "text": [
      "JSONDecodeError: Expecting value: line 1 column 1 (char 0)\n",
      "Failed to fix JSON string: Expecting value: line 1 column 1 (char 0)\n",
      "JSONDecodeError: Expecting ',' delimiter: line 3 column 213 (char 241)\n",
      "JSONDecodeError: Expecting ',' delimiter: line 3 column 551 (char 584)\n",
      "JSONDecodeError: Expecting ',' delimiter: line 3 column 416 (char 444)\n",
      "JSONDecodeError: Expecting value: line 1 column 1 (char 0)\n",
      "Failed to fix JSON string: Expecting value: line 1 column 1 (char 0)\n",
      "evaluations-qa241.csv saved\n"
     ]
    },
    {
     "name": "stderr",
     "output_type": "stream",
     "text": [
      "100%|███████████████████████████████████████████████████████████████████████████████████████████████████████████████████| 15/15 [00:38<00:00,  2.57s/it]\n"
     ]
    },
    {
     "name": "stdout",
     "output_type": "stream",
     "text": [
      "JSONDecodeError: Expecting ',' delimiter: line 3 column 282 (char 308)\n",
      "JSONDecodeError: Expecting ',' delimiter: line 3 column 347 (char 375)\n",
      "JSONDecodeError: Expecting ',' delimiter: line 3 column 297 (char 325)\n",
      "JSONDecodeError: Expecting ',' delimiter: line 3 column 314 (char 342)\n",
      "JSONDecodeError: Expecting ',' delimiter: line 3 column 405 (char 440)\n",
      "JSONDecodeError: Expecting ',' delimiter: line 3 column 307 (char 339)\n",
      "evaluations-qa242.csv saved\n"
     ]
    },
    {
     "name": "stderr",
     "output_type": "stream",
     "text": [
      "100%|███████████████████████████████████████████████████████████████████████████████████████████████████████████████████| 15/15 [00:38<00:00,  2.59s/it]\n"
     ]
    },
    {
     "name": "stdout",
     "output_type": "stream",
     "text": [
      "JSONDecodeError: Expecting ',' delimiter: line 3 column 288 (char 316)\n",
      "JSONDecodeError: Expecting ',' delimiter: line 3 column 238 (char 266)\n",
      "JSONDecodeError: Expecting ',' delimiter: line 3 column 449 (char 484)\n",
      "JSONDecodeError: Expecting ',' delimiter: line 3 column 427 (char 462)\n",
      "JSONDecodeError: Expecting ',' delimiter: line 3 column 418 (char 446)\n",
      "JSONDecodeError: Expecting ',' delimiter: line 3 column 174 (char 202)\n",
      "JSONDecodeError: Expecting ',' delimiter: line 3 column 212 (char 244)\n",
      "JSONDecodeError: Expecting ',' delimiter: line 3 column 255 (char 283)\n",
      "evaluations-qa243.csv saved\n"
     ]
    },
    {
     "name": "stderr",
     "output_type": "stream",
     "text": [
      "100%|███████████████████████████████████████████████████████████████████████████████████████████████████████████████████| 15/15 [00:39<00:00,  2.64s/it]\n"
     ]
    },
    {
     "name": "stdout",
     "output_type": "stream",
     "text": [
      "JSONDecodeError: Expecting ',' delimiter: line 3 column 412 (char 440)\n",
      "JSONDecodeError: Expecting ',' delimiter: line 3 column 451 (char 479)\n",
      "JSONDecodeError: Expecting value: line 1 column 1 (char 0)\n",
      "Failed to fix JSON string: Expecting value: line 1 column 1 (char 0)\n",
      "JSONDecodeError: Expecting ',' delimiter: line 3 column 498 (char 526)\n",
      "JSONDecodeError: Expecting value: line 1 column 1 (char 0)\n",
      "Failed to fix JSON string: Expecting value: line 1 column 1 (char 0)\n",
      "JSONDecodeError: Expecting ',' delimiter: line 3 column 358 (char 386)\n",
      "JSONDecodeError: Expecting ',' delimiter: line 3 column 250 (char 278)\n",
      "evaluations-qa244.csv saved\n"
     ]
    },
    {
     "name": "stderr",
     "output_type": "stream",
     "text": [
      "100%|███████████████████████████████████████████████████████████████████████████████████████████████████████████████████| 15/15 [00:38<00:00,  2.60s/it]\n"
     ]
    },
    {
     "name": "stdout",
     "output_type": "stream",
     "text": [
      "JSONDecodeError: Expecting ',' delimiter: line 3 column 321 (char 356)\n",
      "JSONDecodeError: Expecting ',' delimiter: line 3 column 500 (char 528)\n",
      "JSONDecodeError: Expecting value: line 1 column 1 (char 0)\n",
      "Failed to fix JSON string: Expecting value: line 1 column 1 (char 0)\n",
      "JSONDecodeError: Expecting ',' delimiter: line 3 column 391 (char 426)\n",
      "JSONDecodeError: Expecting ',' delimiter: line 3 column 303 (char 335)\n",
      "JSONDecodeError: Expecting ',' delimiter: line 3 column 317 (char 352)\n",
      "JSONDecodeError: Expecting value: line 1 column 1 (char 0)\n",
      "Failed to fix JSON string: Expecting value: line 1 column 1 (char 0)\n",
      "evaluations-qa245.csv saved\n"
     ]
    },
    {
     "name": "stderr",
     "output_type": "stream",
     "text": [
      "100%|███████████████████████████████████████████████████████████████████████████████████████████████████████████████████| 17/17 [00:47<00:00,  2.77s/it]\n"
     ]
    },
    {
     "name": "stdout",
     "output_type": "stream",
     "text": [
      "JSONDecodeError: Expecting ',' delimiter: line 3 column 276 (char 304)\n",
      "JSONDecodeError: Expecting ',' delimiter: line 3 column 252 (char 280)\n",
      "JSONDecodeError: Expecting ',' delimiter: line 3 column 397 (char 429)\n",
      "JSONDecodeError: Expecting ',' delimiter: line 3 column 319 (char 347)\n",
      "JSONDecodeError: Expecting value: line 1 column 1 (char 0)\n",
      "Failed to fix JSON string: Expecting value: line 1 column 1 (char 0)\n",
      "JSONDecodeError: Expecting ',' delimiter: line 3 column 283 (char 311)\n",
      "JSONDecodeError: Expecting value: line 1 column 1 (char 0)\n",
      "Failed to fix JSON string: Expecting value: line 1 column 1 (char 0)\n",
      "JSONDecodeError: Expecting ',' delimiter: line 3 column 302 (char 330)\n",
      "evaluations-qa246.csv saved\n"
     ]
    },
    {
     "name": "stderr",
     "output_type": "stream",
     "text": [
      "100%|███████████████████████████████████████████████████████████████████████████████████████████████████████████████████| 15/15 [00:37<00:00,  2.47s/it]\n"
     ]
    },
    {
     "name": "stdout",
     "output_type": "stream",
     "text": [
      "JSONDecodeError: Expecting value: line 1 column 1 (char 0)\n",
      "Failed to fix JSON string: Expecting value: line 1 column 1 (char 0)\n",
      "JSONDecodeError: Expecting value: line 1 column 1 (char 0)\n",
      "Failed to fix JSON string: Expecting value: line 1 column 1 (char 0)\n",
      "JSONDecodeError: Expecting value: line 1 column 1 (char 0)\n",
      "Failed to fix JSON string: Expecting value: line 1 column 1 (char 0)\n",
      "JSONDecodeError: Expecting ',' delimiter: line 3 column 476 (char 511)\n",
      "JSONDecodeError: Expecting ',' delimiter: line 3 column 229 (char 257)\n",
      "JSONDecodeError: Expecting value: line 1 column 1 (char 0)\n",
      "Failed to fix JSON string: Expecting value: line 1 column 1 (char 0)\n",
      "JSONDecodeError: Expecting ',' delimiter: line 3 column 227 (char 255)\n",
      "JSONDecodeError: Expecting ',' delimiter: line 3 column 301 (char 329)\n",
      "JSONDecodeError: Expecting ',' delimiter: line 3 column 350 (char 385)\n",
      "JSONDecodeError: Expecting ',' delimiter: line 3 column 282 (char 314)\n",
      "evaluations-qa247.csv saved\n"
     ]
    },
    {
     "name": "stderr",
     "output_type": "stream",
     "text": [
      "100%|███████████████████████████████████████████████████████████████████████████████████████████████████████████████████| 15/15 [00:38<00:00,  2.59s/it]\n"
     ]
    },
    {
     "name": "stdout",
     "output_type": "stream",
     "text": [
      "JSONDecodeError: Expecting ',' delimiter: line 3 column 301 (char 329)\n",
      "JSONDecodeError: Expecting value: line 1 column 1 (char 0)\n",
      "Failed to fix JSON string: Expecting value: line 1 column 1 (char 0)\n",
      "JSONDecodeError: Expecting value: line 1 column 1 (char 0)\n",
      "Failed to fix JSON string: Expecting value: line 1 column 1 (char 0)\n",
      "JSONDecodeError: Expecting ',' delimiter: line 3 column 405 (char 433)\n",
      "JSONDecodeError: Expecting ',' delimiter: line 3 column 410 (char 436)\n",
      "JSONDecodeError: Expecting ',' delimiter: line 3 column 290 (char 318)\n",
      "JSONDecodeError: Expecting ',' delimiter: line 3 column 286 (char 314)\n",
      "JSONDecodeError: Expecting value: line 1 column 1 (char 0)\n",
      "Failed to fix JSON string: Expecting value: line 1 column 1 (char 0)\n",
      "JSONDecodeError: Expecting ',' delimiter: line 3 column 401 (char 436)\n",
      "JSONDecodeError: Expecting ',' delimiter: line 3 column 406 (char 434)\n",
      "JSONDecodeError: Expecting ',' delimiter: line 3 column 291 (char 319)\n",
      "evaluations-qa248.csv saved\n"
     ]
    },
    {
     "name": "stderr",
     "output_type": "stream",
     "text": [
      "100%|███████████████████████████████████████████████████████████████████████████████████████████████████████████████████| 15/15 [00:39<00:00,  2.61s/it]\n"
     ]
    },
    {
     "name": "stdout",
     "output_type": "stream",
     "text": [
      "JSONDecodeError: Expecting ',' delimiter: line 3 column 219 (char 249)\n",
      "JSONDecodeError: Expecting value: line 1 column 1 (char 0)\n",
      "Failed to fix JSON string: Expecting value: line 1 column 1 (char 0)\n",
      "JSONDecodeError: Expecting ',' delimiter: line 3 column 509 (char 542)\n",
      "JSONDecodeError: Expecting ',' delimiter: line 3 column 501 (char 536)\n",
      "JSONDecodeError: Expecting ',' delimiter: line 3 column 361 (char 389)\n",
      "JSONDecodeError: Expecting ',' delimiter: line 3 column 244 (char 276)\n",
      "JSONDecodeError: Expecting ',' delimiter: line 3 column 448 (char 483)\n",
      "JSONDecodeError: Expecting ',' delimiter: line 3 column 306 (char 334)\n",
      "evaluations-qa249.csv saved\n"
     ]
    },
    {
     "name": "stderr",
     "output_type": "stream",
     "text": [
      "100%|███████████████████████████████████████████████████████████████████████████████████████████████████████████████████| 15/15 [00:39<00:00,  2.61s/it]\n"
     ]
    },
    {
     "name": "stdout",
     "output_type": "stream",
     "text": [
      "JSONDecodeError: Expecting ',' delimiter: line 3 column 303 (char 331)\n",
      "JSONDecodeError: Expecting ',' delimiter: line 3 column 257 (char 290)\n",
      "JSONDecodeError: Expecting ',' delimiter: line 3 column 436 (char 471)\n",
      "JSONDecodeError: Expecting ',' delimiter: line 3 column 264 (char 292)\n",
      "JSONDecodeError: Expecting value: line 1 column 1 (char 0)\n",
      "Failed to fix JSON string: Expecting value: line 1 column 1 (char 0)\n",
      "JSONDecodeError: Expecting value: line 1 column 1 (char 0)\n",
      "Failed to fix JSON string: Expecting value: line 1 column 1 (char 0)\n",
      "JSONDecodeError: Expecting ',' delimiter: line 3 column 178 (char 204)\n",
      "JSONDecodeError: Expecting ',' delimiter: line 3 column 406 (char 441)\n",
      "JSONDecodeError: Expecting ',' delimiter: line 3 column 265 (char 293)\n",
      "JSONDecodeError: Expecting ',' delimiter: line 3 column 342 (char 370)\n",
      "JSONDecodeError: Expecting ',' delimiter: line 3 column 244 (char 272)\n",
      "JSONDecodeError: Expecting ',' delimiter: line 3 column 233 (char 259)\n",
      "JSONDecodeError: Expecting ',' delimiter: line 3 column 343 (char 371)\n",
      "evaluations-qa250.csv saved\n"
     ]
    },
    {
     "name": "stderr",
     "output_type": "stream",
     "text": [
      "100%|███████████████████████████████████████████████████████████████████████████████████████████████████████████████████| 15/15 [00:39<00:00,  2.60s/it]\n"
     ]
    },
    {
     "name": "stdout",
     "output_type": "stream",
     "text": [
      "JSONDecodeError: Expecting value: line 1 column 1 (char 0)\n",
      "Failed to fix JSON string: Expecting value: line 1 column 1 (char 0)\n",
      "JSONDecodeError: Expecting ',' delimiter: line 3 column 249 (char 277)\n",
      "JSONDecodeError: Expecting ',' delimiter: line 3 column 396 (char 422)\n",
      "JSONDecodeError: Expecting ',' delimiter: line 3 column 343 (char 371)\n",
      "evaluations-qa251.csv saved\n"
     ]
    },
    {
     "name": "stderr",
     "output_type": "stream",
     "text": [
      "100%|███████████████████████████████████████████████████████████████████████████████████████████████████████████████████| 15/15 [00:38<00:00,  2.60s/it]\n"
     ]
    },
    {
     "name": "stdout",
     "output_type": "stream",
     "text": [
      "JSONDecodeError: Expecting ',' delimiter: line 3 column 344 (char 372)\n",
      "JSONDecodeError: Expecting ',' delimiter: line 3 column 335 (char 363)\n",
      "JSONDecodeError: Expecting value: line 1 column 1 (char 0)\n",
      "Failed to fix JSON string: Expecting value: line 1 column 1 (char 0)\n",
      "JSONDecodeError: Expecting ',' delimiter: line 3 column 329 (char 357)\n",
      "JSONDecodeError: Expecting value: line 1 column 1 (char 0)\n",
      "Failed to fix JSON string: Expecting value: line 1 column 1 (char 0)\n",
      "JSONDecodeError: Expecting ',' delimiter: line 3 column 332 (char 360)\n",
      "JSONDecodeError: Expecting ',' delimiter: line 3 column 304 (char 332)\n",
      "JSONDecodeError: Expecting ',' delimiter: line 3 column 405 (char 440)\n",
      "evaluations-qa252.csv saved\n"
     ]
    },
    {
     "name": "stderr",
     "output_type": "stream",
     "text": [
      "100%|███████████████████████████████████████████████████████████████████████████████████████████████████████████████████| 15/15 [00:38<00:00,  2.56s/it]\n"
     ]
    },
    {
     "name": "stdout",
     "output_type": "stream",
     "text": [
      "JSONDecodeError: Expecting ',' delimiter: line 3 column 406 (char 441)\n",
      "JSONDecodeError: Expecting ',' delimiter: line 3 column 392 (char 420)\n",
      "JSONDecodeError: Expecting ',' delimiter: line 3 column 264 (char 290)\n",
      "JSONDecodeError: Expecting ',' delimiter: line 3 column 259 (char 287)\n",
      "JSONDecodeError: Expecting ',' delimiter: line 3 column 337 (char 370)\n",
      "evaluations-qa253.csv saved\n"
     ]
    },
    {
     "name": "stderr",
     "output_type": "stream",
     "text": [
      "100%|███████████████████████████████████████████████████████████████████████████████████████████████████████████████████| 15/15 [00:39<00:00,  2.61s/it]\n"
     ]
    },
    {
     "name": "stdout",
     "output_type": "stream",
     "text": [
      "JSONDecodeError: Expecting ',' delimiter: line 3 column 319 (char 347)\n",
      "JSONDecodeError: Expecting value: line 1 column 1 (char 0)\n",
      "Failed to fix JSON string: Expecting value: line 1 column 1 (char 0)\n",
      "JSONDecodeError: Expecting ',' delimiter: line 3 column 277 (char 305)\n",
      "JSONDecodeError: Expecting ',' delimiter: line 3 column 347 (char 375)\n",
      "JSONDecodeError: Expecting ',' delimiter: line 3 column 361 (char 389)\n",
      "JSONDecodeError: Expecting ',' delimiter: line 3 column 322 (char 350)\n",
      "JSONDecodeError: Expecting ',' delimiter: line 3 column 519 (char 547)\n",
      "JSONDecodeError: Expecting ',' delimiter: line 3 column 517 (char 545)\n",
      "evaluations-qa254.csv saved\n"
     ]
    },
    {
     "name": "stderr",
     "output_type": "stream",
     "text": [
      "100%|███████████████████████████████████████████████████████████████████████████████████████████████████████████████████| 15/15 [00:38<00:00,  2.59s/it]\n"
     ]
    },
    {
     "name": "stdout",
     "output_type": "stream",
     "text": [
      "JSONDecodeError: Expecting ',' delimiter: line 3 column 494 (char 529)\n",
      "JSONDecodeError: Expecting ',' delimiter: line 3 column 326 (char 352)\n",
      "JSONDecodeError: Expecting ',' delimiter: line 3 column 278 (char 306)\n",
      "JSONDecodeError: Expecting value: line 1 column 1 (char 0)\n",
      "Failed to fix JSON string: Expecting value: line 1 column 1 (char 0)\n",
      "JSONDecodeError: Expecting ',' delimiter: line 3 column 327 (char 355)\n",
      "JSONDecodeError: Expecting value: line 1 column 1 (char 0)\n",
      "Failed to fix JSON string: Expecting value: line 1 column 1 (char 0)\n",
      "evaluations-qa255.csv saved\n"
     ]
    },
    {
     "name": "stderr",
     "output_type": "stream",
     "text": [
      "100%|███████████████████████████████████████████████████████████████████████████████████████████████████████████████████| 15/15 [00:39<00:00,  2.65s/it]\n"
     ]
    },
    {
     "name": "stdout",
     "output_type": "stream",
     "text": [
      "JSONDecodeError: Expecting ',' delimiter: line 3 column 337 (char 365)\n",
      "JSONDecodeError: Expecting value: line 1 column 1 (char 0)\n",
      "Failed to fix JSON string: Expecting value: line 1 column 1 (char 0)\n",
      "JSONDecodeError: Expecting ',' delimiter: line 3 column 655 (char 683)\n",
      "JSONDecodeError: Expecting ',' delimiter: line 3 column 484 (char 512)\n",
      "JSONDecodeError: Expecting ',' delimiter: line 3 column 452 (char 480)\n",
      "JSONDecodeError: Expecting ',' delimiter: line 3 column 526 (char 561)\n",
      "JSONDecodeError: Expecting ',' delimiter: line 3 column 426 (char 454)\n",
      "JSONDecodeError: Expecting ',' delimiter: line 3 column 506 (char 534)\n",
      "evaluations-qa256.csv saved\n"
     ]
    },
    {
     "name": "stderr",
     "output_type": "stream",
     "text": [
      "100%|███████████████████████████████████████████████████████████████████████████████████████████████████████████████████| 15/15 [00:39<00:00,  2.63s/it]\n"
     ]
    },
    {
     "name": "stdout",
     "output_type": "stream",
     "text": [
      "JSONDecodeError: Expecting value: line 1 column 1 (char 0)\n",
      "Failed to fix JSON string: Expecting value: line 1 column 1 (char 0)\n",
      "JSONDecodeError: Expecting value: line 1 column 1 (char 0)\n",
      "Failed to fix JSON string: Expecting value: line 1 column 1 (char 0)\n",
      "JSONDecodeError: Expecting ',' delimiter: line 3 column 241 (char 269)\n",
      "JSONDecodeError: Expecting ',' delimiter: line 3 column 350 (char 378)\n",
      "JSONDecodeError: Expecting value: line 1 column 1 (char 0)\n",
      "Failed to fix JSON string: Expecting value: line 1 column 1 (char 0)\n",
      "JSONDecodeError: Expecting ',' delimiter: line 3 column 331 (char 357)\n",
      "JSONDecodeError: Expecting value: line 1 column 1 (char 0)\n",
      "Failed to fix JSON string: Expecting value: line 1 column 1 (char 0)\n",
      "evaluations-qa257.csv saved\n"
     ]
    },
    {
     "name": "stderr",
     "output_type": "stream",
     "text": [
      "100%|███████████████████████████████████████████████████| 15/15 [00:39<00:00,  2.63s/it]\n"
     ]
    },
    {
     "name": "stdout",
     "output_type": "stream",
     "text": [
      "JSONDecodeError: Expecting ',' delimiter: line 3 column 433 (char 461)\n",
      "JSONDecodeError: Expecting ',' delimiter: line 3 column 356 (char 384)\n",
      "JSONDecodeError: Expecting ',' delimiter: line 3 column 459 (char 491)\n",
      "JSONDecodeError: Expecting ',' delimiter: line 3 column 244 (char 272)\n",
      "JSONDecodeError: Expecting ',' delimiter: line 3 column 224 (char 252)\n",
      "JSONDecodeError: Expecting ',' delimiter: line 3 column 384 (char 412)\n",
      "JSONDecodeError: Expecting ',' delimiter: line 3 column 263 (char 289)\n",
      "evaluations-qa258.csv saved\n"
     ]
    },
    {
     "name": "stderr",
     "output_type": "stream",
     "text": [
      " 53%|███████████████████████████▋                        | 8/15 [00:21<00:18,  2.58s/it]"
     ]
    }
   ],
   "source": [
    "for i in range(150, 411):\n",
    "    evaluations = []\n",
    "    results = []\n",
    "    json_evaluations = []\n",
    "    \n",
    "    # Load the pickle file\n",
    "    with open(f\"../data/vietnamese_rag/llm_answer/llm_answer{i}.pkl\", 'rb') as file:\n",
    "        r = pickle.load(file)\n",
    "    results.extend(r)\n",
    "    \n",
    "    # Convert results to DataFrame\n",
    "    df = pd.DataFrame(results)\n",
    "    samples = df.to_dict(orient='records')\n",
    "    \n",
    "    # Generate evaluations\n",
    "    for record in tqdm(samples):\n",
    "        prompt = prompt2_template.format(**record)\n",
    "        evaluation = llm(prompt)\n",
    "        evaluations.append(evaluation)\n",
    "    \n",
    "    # Parse evaluations\n",
    "    for j, str_eval in enumerate(evaluations):\n",
    "        try:\n",
    "            json_eval = json.loads(str_eval)\n",
    "        except json.JSONDecodeError as e:\n",
    "            print(f\"JSONDecodeError: {e}\")\n",
    "            # Attempt to fix the JSON string\n",
    "            try:\n",
    "                # str_eval = \"{\" + str_eval.lstrip(\"{\")  # Ensure it starts with an opening brace\n",
    "                str_eval = str_eval.rstrip('}') + '}'  # Ensure it ends with a closing brace\n",
    "                json_eval = json.loads(str_eval)\n",
    "            except json.JSONDecodeError as e:\n",
    "                print(f\"Failed to fix JSON string: {e}\")\n",
    "                continue  # Skip this evaluation if it cannot be fixed\n",
    "        json_evaluations.append(json_eval)\n",
    "    \n",
    "    # Save evaluations to CSV\n",
    "    if json_evaluations:\n",
    "        df_evaluations = pd.DataFrame(json_evaluations)\n",
    "        df_evaluations.to_csv(f'../data/vietnamese_rag/evaluations_qa/evaluations-qa{i}.csv', index=False)\n",
    "        print(f\"evaluations-qa{i}.csv saved\")"
   ]
  },
  {
   "cell_type": "code",
   "execution_count": null,
   "id": "2492f723-8e84-43d8-b7a1-25c017544839",
   "metadata": {},
   "outputs": [],
   "source": []
  }
 ],
 "metadata": {
  "kernelspec": {
   "display_name": "Python 3 (ipykernel)",
   "language": "python",
   "name": "python3"
  },
  "language_info": {
   "codemirror_mode": {
    "name": "ipython",
    "version": 3
   },
   "file_extension": ".py",
   "mimetype": "text/x-python",
   "name": "python",
   "nbconvert_exporter": "python",
   "pygments_lexer": "ipython3",
   "version": "3.10.13"
  }
 },
 "nbformat": 4,
 "nbformat_minor": 5
}
