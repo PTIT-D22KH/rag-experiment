{
 "cells": [
  {
   "cell_type": "code",
   "execution_count": 1,
   "id": "6830a174-9fbb-4c64-b7f9-ad32f4aa3d04",
   "metadata": {},
   "outputs": [
    {
     "name": "stderr",
     "output_type": "stream",
     "text": [
      "/home/codespace/.local/lib/python3.10/site-packages/tqdm/auto.py:21: TqdmWarning: IProgress not found. Please update jupyter and ipywidgets. See https://ipywidgets.readthedocs.io/en/stable/user_install.html\n",
      "  from .autonotebook import tqdm as notebook_tqdm\n"
     ]
    }
   ],
   "source": [
    "import json\n",
    "from openai import OpenAI\n",
    "from groq import Groq\n",
    "import os\n",
    "from sentence_transformers import SentenceTransformer\n",
    "from tqdm.auto import tqdm\n",
    "import pickle\n",
    "from elasticsearch import Elasticsearch\n",
    "import pandas as pd\n",
    "import requests\n",
    "import numpy as np\n",
    "from concurrent.futures import ThreadPoolExecutor\n",
    "from requests.exceptions import HTTPError\n",
    "\n",
    "import time"
   ]
  },
  {
   "cell_type": "code",
   "execution_count": 2,
   "id": "fb136d09-c923-44e9-ac05-c17db15bb3e6",
   "metadata": {},
   "outputs": [],
   "source": [
    "prompt1_template = \"\"\"\n",
    "You are an expert evaluator for a Retrieval-Augmented Generation (RAG) system.\n",
    "Your task is to analyze the relevance of the generated answer compared to the original answer provided.\n",
    "Based on the relevance and similarity of the generated answer to the original answer, you will classify\n",
    "it as \"NON_RELEVANT\", \"PARTLY_RELEVANT\", or \"RELEVANT\".\n",
    "\n",
    "Here is the data for evaluation:\n",
    "\n",
    "Original Answer: {answer_orig}\n",
    "Generated Question: {question}\n",
    "Generated Answer: {answer_llm}\n",
    "\n",
    "Please analyze the content and context of the generated answer in relation to the original\n",
    "answer and provide your evaluation in parsable JSON without using code blocks:\n",
    "\n",
    "{{\n",
    "  \"Relevance\": \"NON_RELEVANT\" | \"PARTLY_RELEVANT\" | \"RELEVANT\",\n",
    "  \"Explanation\": \"[Provide a brief explanation for your evaluation]\"\n",
    "}}\n",
    "\"\"\".strip()\n",
    "\n",
    "prompt2_template = \"\"\"\n",
    "You are an expert evaluator for a Retrieval-Augmented Generation (RAG) system.\n",
    "Your task is to analyze the relevance of the generated answer to the given question.\n",
    "Based on the relevance of the generated answer, you will classify it\n",
    "as \"NON_RELEVANT\", \"PARTLY_RELEVANT\", or \"RELEVANT\".\n",
    "\n",
    "Here is the data for evaluation:\n",
    "\n",
    "Question: {question}\n",
    "Generated Answer: {answer_llm}\n",
    "\n",
    "Please analyze the content and context of the generated answer in relation to the question\n",
    "and provide your evaluation in parsable JSON without using code blocks:\n",
    "\n",
    "{{\n",
    "  \"Relevance\": \"NON_RELEVANT\" | \"PARTLY_RELEVANT\" | \"RELEVANT\",\n",
    "  \"Explanation\": \"[Provide a brief explanation for your evaluation]\"\n",
    "}}\n",
    "\"\"\".strip()"
   ]
  },
  {
   "cell_type": "code",
   "execution_count": 4,
   "id": "a7167686-211e-451d-8066-27355d7b2146",
   "metadata": {},
   "outputs": [],
   "source": [
    "client =  Groq(api_key = os.environ['GROQ_API_KEY2'])\n",
    "def llm(prompt, model = 'mixtral-8x7b-32768'):\n",
    "    retries = 5\n",
    "    for i in range(retries):\n",
    "        try:\n",
    "            response = client.chat.completions.create(\n",
    "                model= 'llama3-8b-8192',\n",
    "                messages=[{\"role\": \"user\", \"content\": prompt}]\n",
    "            )\n",
    "            json_response = response.choices[0].message.content\n",
    "            return json_response\n",
    "        except HTTPError as e:\n",
    "            if e.response.status_code == 429:  # Rate limit error\n",
    "                retry_after = float(e.response.json()['error']['message'].split('in ')[-1].split('s')[0])\n",
    "                time.sleep(retry_after)\n",
    "            else:\n",
    "                raise\n",
    "        except Exception as e:\n",
    "            if i < retries - 1:\n",
    "                time.sleep(2 ** i)  # Exponential backoff\n",
    "            else:\n",
    "                raise"
   ]
  },
  {
   "cell_type": "code",
   "execution_count": null,
   "id": "587dab48-d275-451c-aaf8-9a36cde6aece",
   "metadata": {},
   "outputs": [
    {
     "name": "stderr",
     "output_type": "stream",
     "text": [
      "100%|███████████████████████████████████████████████████| 15/15 [00:06<00:00,  2.44it/s]\n"
     ]
    },
    {
     "name": "stdout",
     "output_type": "stream",
     "text": [
      "JSONDecodeError: Expecting ',' delimiter: line 3 column 357 (char 385)\n",
      "JSONDecodeError: Expecting ',' delimiter: line 3 column 415 (char 450)\n",
      "JSONDecodeError: Expecting ',' delimiter: line 3 column 354 (char 382)\n",
      "evaluations-qa1.csv saved\n"
     ]
    },
    {
     "name": "stderr",
     "output_type": "stream",
     "text": [
      "100%|███████████████████████████████████████████████████| 15/15 [00:05<00:00,  2.70it/s]\n"
     ]
    },
    {
     "name": "stdout",
     "output_type": "stream",
     "text": [
      "JSONDecodeError: Expecting ',' delimiter: line 3 column 300 (char 328)\n",
      "JSONDecodeError: Expecting ',' delimiter: line 3 column 284 (char 319)\n",
      "JSONDecodeError: Expecting ',' delimiter: line 3 column 359 (char 385)\n",
      "JSONDecodeError: Expecting value: line 1 column 1 (char 0)\n",
      "Failed to fix JSON string: Expecting value: line 1 column 1 (char 0)\n",
      "JSONDecodeError: Expecting ',' delimiter: line 3 column 252 (char 280)\n",
      "evaluations-qa2.csv saved\n"
     ]
    },
    {
     "name": "stderr",
     "output_type": "stream",
     "text": [
      "100%|███████████████████████████████████████████████████| 15/15 [00:39<00:00,  2.63s/it]\n"
     ]
    },
    {
     "name": "stdout",
     "output_type": "stream",
     "text": [
      "JSONDecodeError: Expecting ',' delimiter: line 3 column 229 (char 261)\n",
      "JSONDecodeError: Expecting ',' delimiter: line 3 column 312 (char 340)\n",
      "JSONDecodeError: Expecting ',' delimiter: line 3 column 397 (char 432)\n",
      "evaluations-qa3.csv saved\n"
     ]
    },
    {
     "name": "stderr",
     "output_type": "stream",
     "text": [
      "100%|███████████████████████████████████████████████████| 15/15 [00:38<00:00,  2.57s/it]\n"
     ]
    },
    {
     "name": "stdout",
     "output_type": "stream",
     "text": [
      "JSONDecodeError: Expecting ',' delimiter: line 3 column 224 (char 252)\n",
      "JSONDecodeError: Expecting ',' delimiter: line 3 column 230 (char 258)\n",
      "JSONDecodeError: Expecting ',' delimiter: line 3 column 332 (char 358)\n",
      "JSONDecodeError: Expecting ',' delimiter: line 3 column 320 (char 348)\n",
      "JSONDecodeError: Expecting ',' delimiter: line 3 column 247 (char 275)\n",
      "JSONDecodeError: Expecting ',' delimiter: line 3 column 266 (char 294)\n",
      "JSONDecodeError: Expecting ',' delimiter: line 3 column 288 (char 316)\n",
      "JSONDecodeError: Expecting ',' delimiter: line 3 column 391 (char 426)\n",
      "evaluations-qa4.csv saved\n"
     ]
    },
    {
     "name": "stderr",
     "output_type": "stream",
     "text": [
      "100%|███████████████████████████████████████████████████| 15/15 [00:38<00:00,  2.56s/it]\n"
     ]
    },
    {
     "name": "stdout",
     "output_type": "stream",
     "text": [
      "JSONDecodeError: Expecting ',' delimiter: line 3 column 319 (char 347)\n",
      "JSONDecodeError: Expecting ',' delimiter: line 3 column 279 (char 307)\n",
      "JSONDecodeError: Expecting ',' delimiter: line 3 column 204 (char 232)\n",
      "JSONDecodeError: Expecting ',' delimiter: line 3 column 279 (char 307)\n",
      "JSONDecodeError: Expecting ',' delimiter: line 3 column 209 (char 237)\n",
      "JSONDecodeError: Expecting ',' delimiter: line 3 column 220 (char 248)\n",
      "JSONDecodeError: Expecting ',' delimiter: line 3 column 244 (char 272)\n",
      "evaluations-qa5.csv saved\n"
     ]
    },
    {
     "name": "stderr",
     "output_type": "stream",
     "text": [
      "100%|███████████████████████████████████████████████████| 15/15 [00:38<00:00,  2.56s/it]\n"
     ]
    },
    {
     "name": "stdout",
     "output_type": "stream",
     "text": [
      "JSONDecodeError: Expecting ',' delimiter: line 3 column 254 (char 282)\n",
      "JSONDecodeError: Expecting ',' delimiter: line 3 column 296 (char 324)\n",
      "JSONDecodeError: Expecting ',' delimiter: line 3 column 363 (char 398)\n",
      "JSONDecodeError: Expecting ',' delimiter: line 3 column 264 (char 292)\n",
      "JSONDecodeError: Expecting ',' delimiter: line 3 column 316 (char 344)\n",
      "JSONDecodeError: Expecting ',' delimiter: line 3 column 326 (char 354)\n",
      "JSONDecodeError: Expecting ',' delimiter: line 3 column 203 (char 233)\n",
      "evaluations-qa6.csv saved\n"
     ]
    },
    {
     "name": "stderr",
     "output_type": "stream",
     "text": [
      "100%|███████████████████████████████████████████████████| 15/15 [00:38<00:00,  2.56s/it]\n"
     ]
    },
    {
     "name": "stdout",
     "output_type": "stream",
     "text": [
      "JSONDecodeError: Expecting ',' delimiter: line 3 column 284 (char 312)\n",
      "JSONDecodeError: Expecting value: line 1 column 1 (char 0)\n",
      "Failed to fix JSON string: Expecting value: line 1 column 1 (char 0)\n",
      "JSONDecodeError: Expecting ',' delimiter: line 3 column 348 (char 376)\n",
      "JSONDecodeError: Expecting ',' delimiter: line 3 column 282 (char 308)\n",
      "JSONDecodeError: Expecting ',' delimiter: line 3 column 174 (char 202)\n",
      "JSONDecodeError: Expecting ',' delimiter: line 3 column 318 (char 346)\n",
      "JSONDecodeError: Expecting value: line 1 column 1 (char 0)\n",
      "Failed to fix JSON string: Expecting value: line 1 column 1 (char 0)\n",
      "evaluations-qa7.csv saved\n"
     ]
    },
    {
     "name": "stderr",
     "output_type": "stream",
     "text": [
      "100%|███████████████████████████████████████████████████| 15/15 [00:38<00:00,  2.54s/it]\n"
     ]
    },
    {
     "name": "stdout",
     "output_type": "stream",
     "text": [
      "JSONDecodeError: Expecting ',' delimiter: line 3 column 321 (char 356)\n",
      "JSONDecodeError: Expecting ',' delimiter: line 3 column 356 (char 389)\n",
      "JSONDecodeError: Expecting ',' delimiter: line 3 column 365 (char 400)\n",
      "JSONDecodeError: Expecting ',' delimiter: line 3 column 255 (char 281)\n",
      "JSONDecodeError: Expecting ',' delimiter: line 3 column 345 (char 373)\n",
      "JSONDecodeError: Expecting ',' delimiter: line 3 column 199 (char 227)\n",
      "JSONDecodeError: Expecting ',' delimiter: line 3 column 282 (char 314)\n",
      "JSONDecodeError: Expecting ',' delimiter: line 3 column 299 (char 332)\n",
      "JSONDecodeError: Expecting ',' delimiter: line 3 column 365 (char 400)\n",
      "evaluations-qa8.csv saved\n"
     ]
    },
    {
     "name": "stderr",
     "output_type": "stream",
     "text": [
      "100%|███████████████████████████████████████████████████| 15/15 [00:38<00:00,  2.56s/it]\n"
     ]
    },
    {
     "name": "stdout",
     "output_type": "stream",
     "text": [
      "JSONDecodeError: Expecting ',' delimiter: line 3 column 481 (char 514)\n",
      "JSONDecodeError: Expecting ',' delimiter: line 3 column 378 (char 406)\n",
      "JSONDecodeError: Expecting ',' delimiter: line 3 column 268 (char 296)\n",
      "JSONDecodeError: Expecting ',' delimiter: line 3 column 272 (char 300)\n",
      "JSONDecodeError: Expecting ',' delimiter: line 3 column 369 (char 397)\n",
      "JSONDecodeError: Expecting ',' delimiter: line 3 column 434 (char 460)\n",
      "evaluations-qa9.csv saved\n"
     ]
    },
    {
     "name": "stderr",
     "output_type": "stream",
     "text": [
      "100%|███████████████████████████████████████████████████| 15/15 [00:38<00:00,  2.56s/it]\n"
     ]
    },
    {
     "name": "stdout",
     "output_type": "stream",
     "text": [
      "JSONDecodeError: Expecting ',' delimiter: line 3 column 382 (char 410)\n",
      "JSONDecodeError: Expecting ',' delimiter: line 3 column 298 (char 333)\n",
      "JSONDecodeError: Expecting ',' delimiter: line 3 column 331 (char 359)\n",
      "JSONDecodeError: Expecting ',' delimiter: line 3 column 320 (char 348)\n",
      "JSONDecodeError: Expecting ',' delimiter: line 3 column 319 (char 347)\n",
      "evaluations-qa10.csv saved\n"
     ]
    },
    {
     "name": "stderr",
     "output_type": "stream",
     "text": [
      "100%|███████████████████████████████████████████████████| 15/15 [00:39<00:00,  2.62s/it]\n"
     ]
    },
    {
     "name": "stdout",
     "output_type": "stream",
     "text": [
      "JSONDecodeError: Expecting ',' delimiter: line 3 column 280 (char 308)\n",
      "JSONDecodeError: Expecting ',' delimiter: line 3 column 291 (char 323)\n",
      "JSONDecodeError: Expecting ',' delimiter: line 3 column 421 (char 449)\n",
      "JSONDecodeError: Expecting ',' delimiter: line 3 column 327 (char 355)\n",
      "JSONDecodeError: Expecting ',' delimiter: line 3 column 248 (char 278)\n",
      "JSONDecodeError: Expecting ',' delimiter: line 3 column 507 (char 542)\n",
      "JSONDecodeError: Expecting ',' delimiter: line 3 column 569 (char 604)\n",
      "JSONDecodeError: Expecting ',' delimiter: line 3 column 430 (char 465)\n",
      "JSONDecodeError: Expecting ',' delimiter: line 3 column 377 (char 412)\n",
      "evaluations-qa11.csv saved\n"
     ]
    },
    {
     "name": "stderr",
     "output_type": "stream",
     "text": [
      "100%|███████████████████████████████████████████████████| 15/15 [00:38<00:00,  2.56s/it]\n"
     ]
    },
    {
     "name": "stdout",
     "output_type": "stream",
     "text": [
      "JSONDecodeError: Expecting ',' delimiter: line 3 column 374 (char 409)\n",
      "JSONDecodeError: Expecting ',' delimiter: line 3 column 249 (char 284)\n",
      "JSONDecodeError: Expecting ',' delimiter: line 3 column 447 (char 475)\n",
      "JSONDecodeError: Expecting ',' delimiter: line 3 column 397 (char 432)\n",
      "JSONDecodeError: Expecting ',' delimiter: line 3 column 484 (char 519)\n",
      "JSONDecodeError: Expecting ',' delimiter: line 3 column 317 (char 345)\n",
      "JSONDecodeError: Expecting value: line 1 column 1 (char 0)\n",
      "Failed to fix JSON string: Expecting value: line 1 column 1 (char 0)\n",
      "JSONDecodeError: Expecting ',' delimiter: line 3 column 366 (char 401)\n",
      "JSONDecodeError: Expecting ',' delimiter: line 3 column 309 (char 344)\n",
      "evaluations-qa12.csv saved\n"
     ]
    },
    {
     "name": "stderr",
     "output_type": "stream",
     "text": [
      "100%|███████████████████████████████████████████████████| 15/15 [00:38<00:00,  2.56s/it]\n"
     ]
    },
    {
     "name": "stdout",
     "output_type": "stream",
     "text": [
      "JSONDecodeError: Expecting ',' delimiter: line 3 column 174 (char 202)\n",
      "JSONDecodeError: Expecting ',' delimiter: line 3 column 449 (char 477)\n",
      "JSONDecodeError: Expecting ',' delimiter: line 3 column 322 (char 350)\n",
      "JSONDecodeError: Expecting ',' delimiter: line 3 column 312 (char 340)\n",
      "evaluations-qa13.csv saved\n"
     ]
    },
    {
     "name": "stderr",
     "output_type": "stream",
     "text": [
      "100%|███████████████████████████████████████████████████| 15/15 [00:38<00:00,  2.58s/it]\n"
     ]
    },
    {
     "name": "stdout",
     "output_type": "stream",
     "text": [
      "JSONDecodeError: Expecting ',' delimiter: line 3 column 216 (char 244)\n",
      "JSONDecodeError: Expecting ',' delimiter: line 3 column 264 (char 292)\n",
      "JSONDecodeError: Expecting ',' delimiter: line 3 column 314 (char 342)\n",
      "JSONDecodeError: Expecting ',' delimiter: line 3 column 352 (char 380)\n",
      "JSONDecodeError: Expecting ',' delimiter: line 3 column 305 (char 333)\n",
      "JSONDecodeError: Expecting ',' delimiter: line 3 column 280 (char 308)\n",
      "evaluations-qa14.csv saved\n"
     ]
    },
    {
     "name": "stderr",
     "output_type": "stream",
     "text": [
      "100%|███████████████████████████████████████████████████| 15/15 [00:38<00:00,  2.60s/it]\n"
     ]
    },
    {
     "name": "stdout",
     "output_type": "stream",
     "text": [
      "JSONDecodeError: Expecting ',' delimiter: line 3 column 389 (char 417)\n",
      "JSONDecodeError: Expecting ',' delimiter: line 3 column 351 (char 386)\n",
      "JSONDecodeError: Expecting ',' delimiter: line 3 column 303 (char 329)\n",
      "JSONDecodeError: Expecting value: line 1 column 1 (char 0)\n",
      "Failed to fix JSON string: Expecting value: line 1 column 1 (char 0)\n",
      "JSONDecodeError: Expecting ',' delimiter: line 3 column 172 (char 200)\n",
      "JSONDecodeError: Expecting ',' delimiter: line 3 column 364 (char 392)\n",
      "JSONDecodeError: Expecting ',' delimiter: line 3 column 209 (char 237)\n",
      "JSONDecodeError: Expecting ',' delimiter: line 3 column 316 (char 344)\n",
      "JSONDecodeError: Expecting ',' delimiter: line 3 column 187 (char 215)\n",
      "JSONDecodeError: Expecting ',' delimiter: line 3 column 253 (char 279)\n",
      "JSONDecodeError: Expecting ',' delimiter: line 3 column 330 (char 358)\n",
      "evaluations-qa15.csv saved\n"
     ]
    },
    {
     "name": "stderr",
     "output_type": "stream",
     "text": [
      "100%|████████████████████████████| 15/15 [00:38<00:00,  2.59s/it]\n"
     ]
    },
    {
     "name": "stdout",
     "output_type": "stream",
     "text": [
      "JSONDecodeError: Expecting ',' delimiter: line 3 column 374 (char 402)\n",
      "JSONDecodeError: Expecting ',' delimiter: line 3 column 532 (char 567)\n",
      "JSONDecodeError: Expecting ',' delimiter: line 3 column 411 (char 446)\n",
      "JSONDecodeError: Expecting ',' delimiter: line 3 column 286 (char 314)\n",
      "JSONDecodeError: Expecting ',' delimiter: line 3 column 394 (char 429)\n",
      "JSONDecodeError: Expecting ',' delimiter: line 3 column 472 (char 507)\n",
      "evaluations-qa16.csv saved\n"
     ]
    },
    {
     "name": "stderr",
     "output_type": "stream",
     "text": [
      "100%|████████████████████████████| 15/15 [00:38<00:00,  2.59s/it]\n"
     ]
    },
    {
     "name": "stdout",
     "output_type": "stream",
     "text": [
      "JSONDecodeError: Expecting value: line 1 column 1 (char 0)\n",
      "Failed to fix JSON string: Expecting value: line 1 column 1 (char 0)\n",
      "JSONDecodeError: Expecting ',' delimiter: line 3 column 321 (char 349)\n",
      "JSONDecodeError: Expecting ',' delimiter: line 3 column 508 (char 543)\n",
      "JSONDecodeError: Expecting ',' delimiter: line 3 column 311 (char 346)\n",
      "JSONDecodeError: Expecting ',' delimiter: line 3 column 322 (char 350)\n",
      "JSONDecodeError: Expecting ',' delimiter: line 3 column 218 (char 244)\n",
      "JSONDecodeError: Expecting ',' delimiter: line 3 column 490 (char 525)\n",
      "evaluations-qa17.csv saved\n"
     ]
    },
    {
     "name": "stderr",
     "output_type": "stream",
     "text": [
      "100%|████████████████████████████| 15/15 [00:39<00:00,  2.63s/it]\n"
     ]
    },
    {
     "name": "stdout",
     "output_type": "stream",
     "text": [
      "JSONDecodeError: Expecting value: line 1 column 1 (char 0)\n",
      "Failed to fix JSON string: Expecting value: line 1 column 1 (char 0)\n",
      "JSONDecodeError: Expecting ',' delimiter: line 3 column 336 (char 364)\n",
      "JSONDecodeError: Expecting ',' delimiter: line 3 column 451 (char 486)\n",
      "JSONDecodeError: Expecting ',' delimiter: line 3 column 311 (char 346)\n",
      "JSONDecodeError: Expecting ',' delimiter: line 3 column 319 (char 345)\n",
      "evaluations-qa18.csv saved\n"
     ]
    },
    {
     "name": "stderr",
     "output_type": "stream",
     "text": [
      "100%|███████████████████████████████████████████████████| 15/15 [00:37<00:00,  2.51s/it]\n"
     ]
    },
    {
     "name": "stdout",
     "output_type": "stream",
     "text": [
      "JSONDecodeError: Expecting ',' delimiter: line 3 column 469 (char 504)\n",
      "JSONDecodeError: Expecting ',' delimiter: line 3 column 243 (char 271)\n",
      "JSONDecodeError: Expecting ',' delimiter: line 3 column 381 (char 409)\n",
      "JSONDecodeError: Expecting ',' delimiter: line 3 column 292 (char 320)\n",
      "evaluations-qa19.csv saved\n"
     ]
    },
    {
     "name": "stderr",
     "output_type": "stream",
     "text": [
      "100%|███████████████████████████████████████████████████| 15/15 [00:38<00:00,  2.55s/it]\n"
     ]
    },
    {
     "name": "stdout",
     "output_type": "stream",
     "text": [
      "JSONDecodeError: Expecting ',' delimiter: line 3 column 373 (char 399)\n",
      "JSONDecodeError: Expecting ',' delimiter: line 3 column 414 (char 449)\n",
      "JSONDecodeError: Expecting ',' delimiter: line 3 column 395 (char 423)\n",
      "JSONDecodeError: Expecting ',' delimiter: line 3 column 303 (char 335)\n",
      "JSONDecodeError: Expecting ',' delimiter: line 3 column 270 (char 296)\n",
      "JSONDecodeError: Expecting ',' delimiter: line 3 column 306 (char 334)\n",
      "JSONDecodeError: Expecting value: line 1 column 1 (char 0)\n",
      "Failed to fix JSON string: Expecting value: line 1 column 1 (char 0)\n",
      "JSONDecodeError: Expecting ',' delimiter: line 3 column 275 (char 303)\n",
      "JSONDecodeError: Expecting ',' delimiter: line 3 column 460 (char 495)\n",
      "JSONDecodeError: Expecting ',' delimiter: line 3 column 261 (char 289)\n",
      "JSONDecodeError: Expecting ',' delimiter: line 3 column 330 (char 358)\n",
      "JSONDecodeError: Expecting ',' delimiter: line 3 column 275 (char 310)\n",
      "evaluations-qa20.csv saved\n"
     ]
    },
    {
     "name": "stderr",
     "output_type": "stream",
     "text": [
      "100%|███████████████████████████████████████████████████| 15/15 [00:38<00:00,  2.56s/it]\n"
     ]
    },
    {
     "name": "stdout",
     "output_type": "stream",
     "text": [
      "JSONDecodeError: Expecting ',' delimiter: line 3 column 240 (char 268)\n",
      "JSONDecodeError: Expecting ',' delimiter: line 3 column 209 (char 237)\n",
      "JSONDecodeError: Expecting ',' delimiter: line 3 column 257 (char 285)\n",
      "JSONDecodeError: Expecting ',' delimiter: line 3 column 467 (char 502)\n",
      "JSONDecodeError: Expecting ',' delimiter: line 3 column 250 (char 278)\n",
      "evaluations-qa21.csv saved\n"
     ]
    },
    {
     "name": "stderr",
     "output_type": "stream",
     "text": [
      "100%|███████████████████████████████████████████████████| 15/15 [00:38<00:00,  2.54s/it]\n"
     ]
    },
    {
     "name": "stdout",
     "output_type": "stream",
     "text": [
      "JSONDecodeError: Expecting ',' delimiter: line 3 column 174 (char 202)\n",
      "JSONDecodeError: Expecting ',' delimiter: line 3 column 290 (char 318)\n",
      "JSONDecodeError: Expecting value: line 1 column 1 (char 0)\n",
      "Failed to fix JSON string: Expecting value: line 1 column 1 (char 0)\n",
      "JSONDecodeError: Expecting ',' delimiter: line 3 column 223 (char 251)\n",
      "JSONDecodeError: Expecting ',' delimiter: line 3 column 301 (char 329)\n",
      "JSONDecodeError: Expecting ',' delimiter: line 3 column 244 (char 272)\n",
      "JSONDecodeError: Expecting ',' delimiter: line 3 column 492 (char 525)\n",
      "evaluations-qa22.csv saved\n"
     ]
    },
    {
     "name": "stderr",
     "output_type": "stream",
     "text": [
      "100%|███████████████████████████████████████████████████| 15/15 [00:38<00:00,  2.55s/it]\n"
     ]
    },
    {
     "name": "stdout",
     "output_type": "stream",
     "text": [
      "JSONDecodeError: Expecting ',' delimiter: line 3 column 205 (char 233)\n",
      "JSONDecodeError: Expecting value: line 1 column 1 (char 0)\n",
      "Failed to fix JSON string: Expecting value: line 1 column 1 (char 0)\n",
      "JSONDecodeError: Expecting ',' delimiter: line 3 column 423 (char 451)\n",
      "JSONDecodeError: Expecting ',' delimiter: line 3 column 320 (char 355)\n",
      "JSONDecodeError: Expecting ',' delimiter: line 3 column 320 (char 348)\n",
      "JSONDecodeError: Expecting ',' delimiter: line 3 column 252 (char 280)\n",
      "JSONDecodeError: Expecting ',' delimiter: line 3 column 244 (char 272)\n",
      "JSONDecodeError: Expecting ',' delimiter: line 3 column 213 (char 241)\n",
      "evaluations-qa23.csv saved\n"
     ]
    },
    {
     "name": "stderr",
     "output_type": "stream",
     "text": [
      "100%|███████████████████████████████████████████████████| 15/15 [00:39<00:00,  2.61s/it]\n"
     ]
    },
    {
     "name": "stdout",
     "output_type": "stream",
     "text": [
      "JSONDecodeError: Expecting ',' delimiter: line 3 column 317 (char 345)\n",
      "JSONDecodeError: Expecting ',' delimiter: line 3 column 184 (char 212)\n",
      "JSONDecodeError: Expecting ',' delimiter: line 3 column 355 (char 383)\n",
      "JSONDecodeError: Expecting ',' delimiter: line 3 column 332 (char 358)\n",
      "JSONDecodeError: Expecting ',' delimiter: line 3 column 337 (char 365)\n",
      "JSONDecodeError: Expecting ',' delimiter: line 3 column 345 (char 380)\n",
      "JSONDecodeError: Expecting ',' delimiter: line 3 column 239 (char 267)\n",
      "JSONDecodeError: Expecting ',' delimiter: line 3 column 407 (char 442)\n",
      "JSONDecodeError: Expecting ',' delimiter: line 3 column 269 (char 297)\n",
      "evaluations-qa24.csv saved\n"
     ]
    },
    {
     "name": "stderr",
     "output_type": "stream",
     "text": [
      "100%|███████████████████████████████████████████████████| 15/15 [00:38<00:00,  2.59s/it]\n"
     ]
    },
    {
     "name": "stdout",
     "output_type": "stream",
     "text": [
      "JSONDecodeError: Expecting ',' delimiter: line 3 column 384 (char 417)\n",
      "JSONDecodeError: Expecting ',' delimiter: line 3 column 407 (char 442)\n",
      "JSONDecodeError: Expecting ',' delimiter: line 3 column 580 (char 615)\n",
      "JSONDecodeError: Expecting ',' delimiter: line 3 column 439 (char 467)\n",
      "JSONDecodeError: Expecting value: line 1 column 1 (char 0)\n",
      "Failed to fix JSON string: Expecting value: line 1 column 1 (char 0)\n",
      "JSONDecodeError: Expecting ',' delimiter: line 3 column 437 (char 465)\n",
      "JSONDecodeError: Expecting ',' delimiter: line 3 column 293 (char 321)\n",
      "JSONDecodeError: Expecting ',' delimiter: line 3 column 298 (char 331)\n",
      "JSONDecodeError: Expecting ',' delimiter: line 3 column 218 (char 246)\n",
      "evaluations-qa25.csv saved\n"
     ]
    },
    {
     "name": "stderr",
     "output_type": "stream",
     "text": [
      "100%|███████████████████████████████████████████████████| 15/15 [00:38<00:00,  2.55s/it]\n"
     ]
    },
    {
     "name": "stdout",
     "output_type": "stream",
     "text": [
      "JSONDecodeError: Expecting ',' delimiter: line 3 column 293 (char 321)\n",
      "JSONDecodeError: Expecting ',' delimiter: line 3 column 234 (char 262)\n",
      "JSONDecodeError: Expecting ',' delimiter: line 3 column 311 (char 337)\n",
      "JSONDecodeError: Expecting ',' delimiter: line 3 column 209 (char 237)\n",
      "JSONDecodeError: Expecting ',' delimiter: line 3 column 248 (char 276)\n",
      "JSONDecodeError: Expecting ',' delimiter: line 3 column 205 (char 233)\n",
      "JSONDecodeError: Expecting ',' delimiter: line 3 column 285 (char 313)\n",
      "evaluations-qa26.csv saved\n"
     ]
    },
    {
     "name": "stderr",
     "output_type": "stream",
     "text": [
      "100%|███████████████████████████████████████████████████| 15/15 [00:38<00:00,  2.58s/it]\n"
     ]
    },
    {
     "name": "stdout",
     "output_type": "stream",
     "text": [
      "JSONDecodeError: Expecting ',' delimiter: line 3 column 278 (char 304)\n",
      "JSONDecodeError: Expecting ',' delimiter: line 3 column 303 (char 331)\n",
      "JSONDecodeError: Expecting ',' delimiter: line 3 column 225 (char 253)\n",
      "JSONDecodeError: Expecting ',' delimiter: line 3 column 288 (char 316)\n",
      "JSONDecodeError: Expecting ',' delimiter: line 3 column 289 (char 317)\n",
      "evaluations-qa27.csv saved\n"
     ]
    },
    {
     "name": "stderr",
     "output_type": "stream",
     "text": [
      "100%|████████████████████████████| 15/15 [00:38<00:00,  2.57s/it]\n"
     ]
    },
    {
     "name": "stdout",
     "output_type": "stream",
     "text": [
      "JSONDecodeError: Expecting ',' delimiter: line 3 column 213 (char 241)\n",
      "JSONDecodeError: Expecting ',' delimiter: line 3 column 259 (char 287)\n",
      "JSONDecodeError: Expecting ',' delimiter: line 3 column 318 (char 344)\n",
      "JSONDecodeError: Expecting value: line 1 column 1 (char 0)\n",
      "Failed to fix JSON string: Expecting value: line 1 column 1 (char 0)\n",
      "JSONDecodeError: Expecting ',' delimiter: line 3 column 179 (char 207)\n",
      "JSONDecodeError: Expecting value: line 1 column 1 (char 0)\n",
      "Failed to fix JSON string: Expecting value: line 1 column 1 (char 0)\n",
      "JSONDecodeError: Expecting ',' delimiter: line 3 column 310 (char 338)\n",
      "JSONDecodeError: Expecting ',' delimiter: line 3 column 334 (char 362)\n",
      "JSONDecodeError: Expecting ',' delimiter: line 3 column 280 (char 308)\n",
      "JSONDecodeError: Expecting ',' delimiter: line 3 column 264 (char 292)\n",
      "JSONDecodeError: Expecting ',' delimiter: line 3 column 290 (char 318)\n",
      "JSONDecodeError: Expecting ',' delimiter: line 3 column 418 (char 446)\n",
      "JSONDecodeError: Expecting ',' delimiter: line 3 column 335 (char 363)\n",
      "evaluations-qa28.csv saved\n"
     ]
    },
    {
     "name": "stderr",
     "output_type": "stream",
     "text": [
      "100%|████████████████████████████| 15/15 [00:39<00:00,  2.61s/it]\n"
     ]
    },
    {
     "name": "stdout",
     "output_type": "stream",
     "text": [
      "JSONDecodeError: Expecting ',' delimiter: line 3 column 287 (char 315)\n",
      "JSONDecodeError: Expecting ',' delimiter: line 3 column 202 (char 230)\n",
      "JSONDecodeError: Expecting ',' delimiter: line 3 column 201 (char 229)\n",
      "JSONDecodeError: Expecting ',' delimiter: line 3 column 296 (char 324)\n",
      "JSONDecodeError: Expecting ',' delimiter: line 3 column 318 (char 346)\n",
      "JSONDecodeError: Expecting ',' delimiter: line 3 column 440 (char 473)\n",
      "evaluations-qa29.csv saved\n"
     ]
    },
    {
     "name": "stderr",
     "output_type": "stream",
     "text": [
      "100%|████████████████████████████| 15/15 [00:38<00:00,  2.56s/it]\n"
     ]
    },
    {
     "name": "stdout",
     "output_type": "stream",
     "text": [
      "JSONDecodeError: Expecting ',' delimiter: line 3 column 330 (char 362)\n",
      "JSONDecodeError: Expecting ',' delimiter: line 3 column 381 (char 407)\n",
      "JSONDecodeError: Expecting ',' delimiter: line 3 column 262 (char 290)\n",
      "JSONDecodeError: Expecting ',' delimiter: line 3 column 445 (char 471)\n",
      "JSONDecodeError: Expecting ',' delimiter: line 3 column 291 (char 319)\n",
      "JSONDecodeError: Expecting ',' delimiter: line 3 column 247 (char 273)\n",
      "JSONDecodeError: Expecting value: line 1 column 1 (char 0)\n",
      "Failed to fix JSON string: Expecting value: line 1 column 1 (char 0)\n",
      "JSONDecodeError: Expecting ',' delimiter: line 3 column 500 (char 535)\n",
      "evaluations-qa30.csv saved\n"
     ]
    },
    {
     "name": "stderr",
     "output_type": "stream",
     "text": [
      "100%|████████████████████████████| 15/15 [00:38<00:00,  2.55s/it]\n"
     ]
    },
    {
     "name": "stdout",
     "output_type": "stream",
     "text": [
      "JSONDecodeError: Expecting ',' delimiter: line 3 column 225 (char 253)\n",
      "JSONDecodeError: Expecting ',' delimiter: line 3 column 275 (char 303)\n",
      "JSONDecodeError: Expecting ',' delimiter: line 3 column 358 (char 386)\n",
      "JSONDecodeError: Expecting ',' delimiter: line 3 column 190 (char 216)\n",
      "evaluations-qa31.csv saved\n"
     ]
    },
    {
     "name": "stderr",
     "output_type": "stream",
     "text": [
      "100%|████████████████████████████| 15/15 [00:39<00:00,  2.64s/it]\n"
     ]
    },
    {
     "name": "stdout",
     "output_type": "stream",
     "text": [
      "JSONDecodeError: Expecting ',' delimiter: line 3 column 468 (char 501)\n",
      "JSONDecodeError: Expecting ',' delimiter: line 3 column 455 (char 483)\n",
      "JSONDecodeError: Expecting ',' delimiter: line 3 column 347 (char 377)\n",
      "JSONDecodeError: Expecting ',' delimiter: line 3 column 308 (char 336)\n",
      "JSONDecodeError: Expecting ',' delimiter: line 3 column 344 (char 376)\n",
      "JSONDecodeError: Expecting ',' delimiter: line 3 column 294 (char 326)\n",
      "JSONDecodeError: Expecting ',' delimiter: line 3 column 456 (char 491)\n",
      "JSONDecodeError: Expecting ',' delimiter: line 3 column 426 (char 461)\n",
      "JSONDecodeError: Expecting ',' delimiter: line 3 column 381 (char 409)\n",
      "evaluations-qa32.csv saved\n"
     ]
    },
    {
     "name": "stderr",
     "output_type": "stream",
     "text": [
      "100%|████████████████████████████| 15/15 [00:38<00:00,  2.58s/it]\n"
     ]
    },
    {
     "name": "stdout",
     "output_type": "stream",
     "text": [
      "JSONDecodeError: Expecting value: line 1 column 1 (char 0)\n",
      "Failed to fix JSON string: Expecting value: line 1 column 1 (char 0)\n",
      "JSONDecodeError: Expecting ',' delimiter: line 3 column 297 (char 325)\n",
      "JSONDecodeError: Expecting ',' delimiter: line 3 column 434 (char 469)\n",
      "JSONDecodeError: Expecting ',' delimiter: line 3 column 351 (char 379)\n",
      "JSONDecodeError: Expecting ',' delimiter: line 3 column 345 (char 373)\n",
      "JSONDecodeError: Expecting ',' delimiter: line 3 column 395 (char 430)\n",
      "JSONDecodeError: Expecting ',' delimiter: line 3 column 197 (char 225)\n",
      "JSONDecodeError: Expecting ',' delimiter: line 3 column 391 (char 426)\n",
      "evaluations-qa33.csv saved\n"
     ]
    },
    {
     "name": "stderr",
     "output_type": "stream",
     "text": [
      "100%|███████████████████████████████████████████████████| 15/15 [00:39<00:00,  2.62s/it]\n"
     ]
    },
    {
     "name": "stdout",
     "output_type": "stream",
     "text": [
      "JSONDecodeError: Expecting ',' delimiter: line 3 column 328 (char 363)\n",
      "JSONDecodeError: Expecting ',' delimiter: line 3 column 354 (char 389)\n",
      "JSONDecodeError: Expecting ',' delimiter: line 3 column 211 (char 239)\n",
      "JSONDecodeError: Expecting value: line 1 column 1 (char 0)\n",
      "Failed to fix JSON string: Expecting value: line 1 column 1 (char 0)\n",
      "JSONDecodeError: Expecting ',' delimiter: line 3 column 180 (char 208)\n",
      "JSONDecodeError: Expecting ',' delimiter: line 3 column 307 (char 335)\n",
      "evaluations-qa34.csv saved\n"
     ]
    },
    {
     "name": "stderr",
     "output_type": "stream",
     "text": [
      "100%|███████████████████████████████████████████████████| 15/15 [00:39<00:00,  2.62s/it]\n"
     ]
    },
    {
     "name": "stdout",
     "output_type": "stream",
     "text": [
      "JSONDecodeError: Expecting value: line 1 column 1 (char 0)\n",
      "Failed to fix JSON string: Expecting value: line 1 column 1 (char 0)\n",
      "JSONDecodeError: Expecting ',' delimiter: line 3 column 296 (char 331)\n",
      "JSONDecodeError: Expecting ',' delimiter: line 3 column 440 (char 466)\n",
      "JSONDecodeError: Expecting ',' delimiter: line 3 column 332 (char 365)\n",
      "JSONDecodeError: Expecting ',' delimiter: line 3 column 245 (char 273)\n",
      "JSONDecodeError: Expecting ',' delimiter: line 3 column 221 (char 249)\n",
      "JSONDecodeError: Expecting ',' delimiter: line 3 column 309 (char 344)\n",
      "JSONDecodeError: Expecting ',' delimiter: line 3 column 290 (char 316)\n",
      "evaluations-qa35.csv saved\n"
     ]
    },
    {
     "name": "stderr",
     "output_type": "stream",
     "text": [
      "100%|███████████████████████████████████████████████████| 15/15 [00:38<00:00,  2.58s/it]\n"
     ]
    },
    {
     "name": "stdout",
     "output_type": "stream",
     "text": [
      "JSONDecodeError: Expecting ',' delimiter: line 3 column 602 (char 628)\n",
      "JSONDecodeError: Expecting ',' delimiter: line 3 column 251 (char 279)\n",
      "JSONDecodeError: Expecting ',' delimiter: line 3 column 331 (char 359)\n",
      "JSONDecodeError: Expecting ',' delimiter: line 3 column 203 (char 231)\n",
      "JSONDecodeError: Expecting ',' delimiter: line 3 column 189 (char 217)\n",
      "JSONDecodeError: Expecting ',' delimiter: line 3 column 349 (char 377)\n",
      "JSONDecodeError: Expecting ',' delimiter: line 3 column 255 (char 281)\n",
      "JSONDecodeError: Expecting ',' delimiter: line 3 column 373 (char 399)\n",
      "JSONDecodeError: Expecting ',' delimiter: line 3 column 210 (char 238)\n",
      "evaluations-qa36.csv saved\n"
     ]
    },
    {
     "name": "stderr",
     "output_type": "stream",
     "text": [
      "100%|███████████████████████████████████████████████████| 15/15 [00:39<00:00,  2.62s/it]\n"
     ]
    },
    {
     "name": "stdout",
     "output_type": "stream",
     "text": [
      "JSONDecodeError: Expecting ',' delimiter: line 3 column 346 (char 374)\n",
      "JSONDecodeError: Expecting ',' delimiter: line 3 column 325 (char 353)\n",
      "JSONDecodeError: Expecting ',' delimiter: line 3 column 326 (char 354)\n",
      "JSONDecodeError: Expecting ',' delimiter: line 3 column 436 (char 469)\n",
      "JSONDecodeError: Expecting ',' delimiter: line 3 column 268 (char 303)\n",
      "JSONDecodeError: Expecting ',' delimiter: line 3 column 281 (char 313)\n",
      "evaluations-qa37.csv saved\n"
     ]
    },
    {
     "name": "stderr",
     "output_type": "stream",
     "text": [
      "100%|████████████████████████████| 15/15 [00:38<00:00,  2.57s/it]\n"
     ]
    },
    {
     "name": "stdout",
     "output_type": "stream",
     "text": [
      "JSONDecodeError: Expecting ',' delimiter: line 3 column 250 (char 278)\n",
      "JSONDecodeError: Expecting ',' delimiter: line 3 column 343 (char 376)\n",
      "JSONDecodeError: Expecting ',' delimiter: line 3 column 170 (char 198)\n",
      "JSONDecodeError: Expecting ',' delimiter: line 3 column 206 (char 234)\n",
      "JSONDecodeError: Expecting ',' delimiter: line 3 column 340 (char 368)\n",
      "JSONDecodeError: Expecting ',' delimiter: line 3 column 371 (char 406)\n",
      "JSONDecodeError: Expecting ',' delimiter: line 3 column 295 (char 330)\n",
      "JSONDecodeError: Expecting ',' delimiter: line 3 column 312 (char 340)\n",
      "JSONDecodeError: Expecting ',' delimiter: line 3 column 253 (char 281)\n",
      "evaluations-qa38.csv saved\n"
     ]
    },
    {
     "name": "stderr",
     "output_type": "stream",
     "text": [
      "100%|███████████████████████████████████████████████████| 15/15 [00:38<00:00,  2.58s/it]\n"
     ]
    },
    {
     "name": "stdout",
     "output_type": "stream",
     "text": [
      "JSONDecodeError: Expecting ',' delimiter: line 3 column 244 (char 272)\n",
      "JSONDecodeError: Expecting ',' delimiter: line 3 column 177 (char 205)\n",
      "JSONDecodeError: Expecting ',' delimiter: line 3 column 226 (char 254)\n",
      "JSONDecodeError: Expecting ',' delimiter: line 3 column 186 (char 214)\n",
      "JSONDecodeError: Expecting ',' delimiter: line 3 column 288 (char 316)\n",
      "JSONDecodeError: Expecting ',' delimiter: line 3 column 232 (char 260)\n",
      "JSONDecodeError: Expecting ',' delimiter: line 3 column 285 (char 313)\n",
      "evaluations-qa39.csv saved\n"
     ]
    },
    {
     "name": "stderr",
     "output_type": "stream",
     "text": [
      "100%|███████████████████████████████████████████████████| 15/15 [00:38<00:00,  2.56s/it]\n"
     ]
    },
    {
     "name": "stdout",
     "output_type": "stream",
     "text": [
      "JSONDecodeError: Expecting ',' delimiter: line 3 column 300 (char 328)\n",
      "JSONDecodeError: Expecting ',' delimiter: line 3 column 301 (char 329)\n",
      "JSONDecodeError: Expecting ',' delimiter: line 3 column 242 (char 270)\n",
      "JSONDecodeError: Expecting ',' delimiter: line 3 column 301 (char 329)\n",
      "JSONDecodeError: Expecting ',' delimiter: line 3 column 294 (char 322)\n",
      "JSONDecodeError: Expecting ',' delimiter: line 3 column 222 (char 250)\n",
      "JSONDecodeError: Expecting ',' delimiter: line 3 column 209 (char 235)\n",
      "JSONDecodeError: Expecting value: line 1 column 1 (char 0)\n",
      "Failed to fix JSON string: Expecting value: line 1 column 1 (char 0)\n",
      "JSONDecodeError: Expecting ',' delimiter: line 3 column 296 (char 324)\n",
      "JSONDecodeError: Expecting ',' delimiter: line 3 column 420 (char 446)\n",
      "JSONDecodeError: Expecting ',' delimiter: line 3 column 334 (char 362)\n",
      "evaluations-qa40.csv saved\n"
     ]
    },
    {
     "name": "stderr",
     "output_type": "stream",
     "text": [
      "100%|███████████████████████████████████████████████████| 15/15 [00:38<00:00,  2.59s/it]\n"
     ]
    },
    {
     "name": "stdout",
     "output_type": "stream",
     "text": [
      "JSONDecodeError: Expecting ',' delimiter: line 3 column 319 (char 354)\n",
      "JSONDecodeError: Expecting ',' delimiter: line 3 column 258 (char 286)\n",
      "JSONDecodeError: Expecting ',' delimiter: line 3 column 362 (char 390)\n",
      "JSONDecodeError: Expecting ',' delimiter: line 3 column 237 (char 265)\n",
      "JSONDecodeError: Expecting ',' delimiter: line 3 column 311 (char 339)\n",
      "JSONDecodeError: Expecting ',' delimiter: line 3 column 399 (char 427)\n",
      "JSONDecodeError: Expecting ',' delimiter: line 3 column 203 (char 231)\n",
      "JSONDecodeError: Expecting ',' delimiter: line 3 column 246 (char 272)\n",
      "JSONDecodeError: Expecting ',' delimiter: line 3 column 352 (char 380)\n",
      "JSONDecodeError: Expecting ',' delimiter: line 3 column 282 (char 308)\n",
      "evaluations-qa41.csv saved\n"
     ]
    },
    {
     "name": "stderr",
     "output_type": "stream",
     "text": [
      "100%|███████████████████████████████████████████████████| 15/15 [00:38<00:00,  2.57s/it]\n"
     ]
    },
    {
     "name": "stdout",
     "output_type": "stream",
     "text": [
      "JSONDecodeError: Expecting ',' delimiter: line 3 column 263 (char 291)\n",
      "JSONDecodeError: Expecting ',' delimiter: line 3 column 243 (char 271)\n",
      "JSONDecodeError: Expecting ',' delimiter: line 3 column 159 (char 185)\n",
      "JSONDecodeError: Expecting ',' delimiter: line 3 column 402 (char 437)\n",
      "JSONDecodeError: Expecting ',' delimiter: line 3 column 220 (char 248)\n",
      "JSONDecodeError: Expecting ',' delimiter: line 3 column 198 (char 226)\n",
      "JSONDecodeError: Expecting ',' delimiter: line 3 column 299 (char 331)\n",
      "evaluations-qa42.csv saved\n"
     ]
    },
    {
     "name": "stderr",
     "output_type": "stream",
     "text": [
      "100%|███████████████████████████████████████████████████| 15/15 [00:39<00:00,  2.65s/it]\n"
     ]
    },
    {
     "name": "stdout",
     "output_type": "stream",
     "text": [
      "JSONDecodeError: Expecting ',' delimiter: line 3 column 495 (char 530)\n",
      "JSONDecodeError: Expecting ',' delimiter: line 3 column 307 (char 342)\n",
      "evaluations-qa43.csv saved\n"
     ]
    },
    {
     "name": "stderr",
     "output_type": "stream",
     "text": [
      "100%|███████████████████████████████████████████████████| 15/15 [00:39<00:00,  2.61s/it]\n"
     ]
    },
    {
     "name": "stdout",
     "output_type": "stream",
     "text": [
      "JSONDecodeError: Expecting ',' delimiter: line 3 column 270 (char 298)\n",
      "JSONDecodeError: Expecting ',' delimiter: line 3 column 264 (char 292)\n",
      "JSONDecodeError: Expecting ',' delimiter: line 3 column 330 (char 365)\n",
      "JSONDecodeError: Expecting ',' delimiter: line 3 column 419 (char 454)\n",
      "JSONDecodeError: Expecting ',' delimiter: line 3 column 299 (char 327)\n",
      "JSONDecodeError: Expecting ',' delimiter: line 3 column 248 (char 276)\n",
      "JSONDecodeError: Expecting ',' delimiter: line 3 column 267 (char 295)\n",
      "JSONDecodeError: Expecting ',' delimiter: line 3 column 261 (char 289)\n",
      "JSONDecodeError: Expecting ',' delimiter: line 3 column 394 (char 422)\n",
      "evaluations-qa44.csv saved\n"
     ]
    },
    {
     "name": "stderr",
     "output_type": "stream",
     "text": [
      "100%|███████████████████████████████████████████████████| 15/15 [00:39<00:00,  2.61s/it]\n"
     ]
    },
    {
     "name": "stdout",
     "output_type": "stream",
     "text": [
      "JSONDecodeError: Expecting ',' delimiter: line 3 column 409 (char 437)\n",
      "JSONDecodeError: Expecting ',' delimiter: line 3 column 358 (char 386)\n",
      "JSONDecodeError: Expecting ',' delimiter: line 3 column 293 (char 328)\n",
      "JSONDecodeError: Expecting value: line 1 column 1 (char 0)\n",
      "Failed to fix JSON string: Expecting value: line 1 column 1 (char 0)\n",
      "JSONDecodeError: Expecting ',' delimiter: line 3 column 268 (char 296)\n",
      "JSONDecodeError: Expecting ',' delimiter: line 3 column 328 (char 361)\n",
      "JSONDecodeError: Expecting ',' delimiter: line 3 column 396 (char 424)\n",
      "evaluations-qa45.csv saved\n"
     ]
    },
    {
     "name": "stderr",
     "output_type": "stream",
     "text": [
      "100%|███████████████████████████████████████████████████| 15/15 [00:39<00:00,  2.61s/it]\n"
     ]
    },
    {
     "name": "stdout",
     "output_type": "stream",
     "text": [
      "JSONDecodeError: Expecting ',' delimiter: line 3 column 396 (char 431)\n",
      "JSONDecodeError: Expecting ',' delimiter: line 3 column 295 (char 323)\n",
      "JSONDecodeError: Expecting ',' delimiter: line 3 column 280 (char 308)\n",
      "JSONDecodeError: Expecting ',' delimiter: line 3 column 298 (char 326)\n",
      "JSONDecodeError: Expecting ',' delimiter: line 3 column 479 (char 507)\n",
      "JSONDecodeError: Expecting ',' delimiter: line 3 column 438 (char 466)\n",
      "JSONDecodeError: Expecting ',' delimiter: line 3 column 312 (char 340)\n",
      "JSONDecodeError: Expecting ',' delimiter: line 3 column 481 (char 516)\n",
      "JSONDecodeError: Expecting ',' delimiter: line 3 column 511 (char 539)\n",
      "evaluations-qa46.csv saved\n"
     ]
    },
    {
     "name": "stderr",
     "output_type": "stream",
     "text": [
      "100%|███████████████████████████████████████████████████| 15/15 [00:38<00:00,  2.57s/it]\n"
     ]
    },
    {
     "name": "stdout",
     "output_type": "stream",
     "text": [
      "JSONDecodeError: Expecting ',' delimiter: line 3 column 368 (char 400)\n",
      "JSONDecodeError: Expecting ',' delimiter: line 3 column 387 (char 415)\n",
      "JSONDecodeError: Expecting ',' delimiter: line 3 column 482 (char 517)\n",
      "JSONDecodeError: Expecting value: line 1 column 1 (char 0)\n",
      "Failed to fix JSON string: Expecting value: line 1 column 1 (char 0)\n",
      "JSONDecodeError: Expecting ',' delimiter: line 3 column 528 (char 563)\n",
      "JSONDecodeError: Expecting ',' delimiter: line 3 column 385 (char 420)\n",
      "JSONDecodeError: Expecting ',' delimiter: line 3 column 263 (char 298)\n",
      "evaluations-qa47.csv saved\n"
     ]
    },
    {
     "name": "stderr",
     "output_type": "stream",
     "text": [
      "100%|████████████████████████████| 15/15 [00:38<00:00,  2.60s/it]\n"
     ]
    },
    {
     "name": "stdout",
     "output_type": "stream",
     "text": [
      "JSONDecodeError: Expecting ',' delimiter: line 3 column 353 (char 381)\n",
      "JSONDecodeError: Expecting ',' delimiter: line 3 column 338 (char 366)\n",
      "JSONDecodeError: Expecting ',' delimiter: line 3 column 198 (char 233)\n",
      "JSONDecodeError: Expecting ',' delimiter: line 3 column 360 (char 388)\n",
      "JSONDecodeError: Expecting ',' delimiter: line 3 column 424 (char 459)\n",
      "JSONDecodeError: Expecting ',' delimiter: line 3 column 397 (char 423)\n",
      "evaluations-qa48.csv saved\n"
     ]
    },
    {
     "name": "stderr",
     "output_type": "stream",
     "text": [
      "100%|████████████████████████████| 15/15 [00:38<00:00,  2.57s/it]\n"
     ]
    },
    {
     "name": "stdout",
     "output_type": "stream",
     "text": [
      "JSONDecodeError: Expecting ',' delimiter: line 3 column 313 (char 345)\n",
      "JSONDecodeError: Expecting ',' delimiter: line 3 column 169 (char 197)\n",
      "JSONDecodeError: Expecting ',' delimiter: line 3 column 239 (char 271)\n",
      "JSONDecodeError: Expecting ',' delimiter: line 3 column 288 (char 314)\n",
      "JSONDecodeError: Expecting ',' delimiter: line 3 column 263 (char 291)\n",
      "JSONDecodeError: Expecting ',' delimiter: line 3 column 214 (char 242)\n",
      "JSONDecodeError: Expecting ',' delimiter: line 3 column 240 (char 266)\n",
      "JSONDecodeError: Expecting ',' delimiter: line 3 column 298 (char 326)\n",
      "JSONDecodeError: Expecting ',' delimiter: line 3 column 328 (char 356)\n",
      "evaluations-qa49.csv saved\n"
     ]
    },
    {
     "name": "stderr",
     "output_type": "stream",
     "text": [
      "100%|████████████████████████████| 15/15 [00:38<00:00,  2.59s/it]\n"
     ]
    },
    {
     "name": "stdout",
     "output_type": "stream",
     "text": [
      "JSONDecodeError: Expecting ',' delimiter: line 3 column 258 (char 286)\n",
      "JSONDecodeError: Expecting ',' delimiter: line 3 column 416 (char 444)\n",
      "JSONDecodeError: Expecting ',' delimiter: line 3 column 523 (char 558)\n",
      "JSONDecodeError: Expecting ',' delimiter: line 3 column 378 (char 406)\n",
      "JSONDecodeError: Expecting ',' delimiter: line 3 column 433 (char 468)\n",
      "JSONDecodeError: Expecting ',' delimiter: line 3 column 349 (char 377)\n",
      "JSONDecodeError: Expecting ',' delimiter: line 3 column 329 (char 357)\n",
      "JSONDecodeError: Expecting ',' delimiter: line 3 column 215 (char 243)\n",
      "evaluations-qa50.csv saved\n"
     ]
    },
    {
     "name": "stderr",
     "output_type": "stream",
     "text": [
      "100%|████████████████████████████| 15/15 [00:38<00:00,  2.57s/it]\n"
     ]
    },
    {
     "name": "stdout",
     "output_type": "stream",
     "text": [
      "JSONDecodeError: Expecting ',' delimiter: line 3 column 297 (char 327)\n",
      "JSONDecodeError: Expecting ',' delimiter: line 3 column 251 (char 279)\n",
      "JSONDecodeError: Expecting ',' delimiter: line 3 column 300 (char 328)\n",
      "JSONDecodeError: Expecting ',' delimiter: line 3 column 343 (char 378)\n",
      "JSONDecodeError: Expecting ',' delimiter: line 3 column 251 (char 279)\n",
      "JSONDecodeError: Expecting ',' delimiter: line 3 column 401 (char 429)\n",
      "JSONDecodeError: Expecting ',' delimiter: line 3 column 466 (char 501)\n",
      "JSONDecodeError: Expecting ',' delimiter: line 3 column 390 (char 425)\n",
      "evaluations-qa51.csv saved\n"
     ]
    },
    {
     "name": "stderr",
     "output_type": "stream",
     "text": [
      "100%|████████████████████████████| 15/15 [00:39<00:00,  2.61s/it]\n"
     ]
    },
    {
     "name": "stdout",
     "output_type": "stream",
     "text": [
      "JSONDecodeError: Expecting ',' delimiter: line 3 column 275 (char 308)\n",
      "JSONDecodeError: Expecting ',' delimiter: line 3 column 284 (char 310)\n",
      "JSONDecodeError: Expecting ',' delimiter: line 3 column 238 (char 266)\n",
      "JSONDecodeError: Expecting ',' delimiter: line 3 column 234 (char 262)\n",
      "JSONDecodeError: Expecting ',' delimiter: line 3 column 504 (char 530)\n",
      "JSONDecodeError: Expecting ',' delimiter: line 3 column 235 (char 270)\n",
      "JSONDecodeError: Expecting ',' delimiter: line 3 column 473 (char 508)\n",
      "JSONDecodeError: Expecting ',' delimiter: line 3 column 378 (char 413)\n",
      "evaluations-qa52.csv saved\n"
     ]
    },
    {
     "name": "stderr",
     "output_type": "stream",
     "text": [
      "100%|███████████████████████████████████████████████████| 15/15 [00:39<00:00,  2.62s/it]\n"
     ]
    },
    {
     "name": "stdout",
     "output_type": "stream",
     "text": [
      "JSONDecodeError: Expecting ',' delimiter: line 3 column 205 (char 233)\n",
      "JSONDecodeError: Expecting ',' delimiter: line 3 column 239 (char 267)\n",
      "JSONDecodeError: Expecting ',' delimiter: line 3 column 304 (char 332)\n",
      "JSONDecodeError: Expecting value: line 1 column 1 (char 0)\n",
      "Failed to fix JSON string: Expecting value: line 1 column 1 (char 0)\n",
      "JSONDecodeError: Expecting ',' delimiter: line 3 column 320 (char 346)\n",
      "JSONDecodeError: Expecting ',' delimiter: line 3 column 423 (char 449)\n",
      "JSONDecodeError: Expecting ',' delimiter: line 3 column 260 (char 288)\n",
      "evaluations-qa53.csv saved\n"
     ]
    },
    {
     "name": "stderr",
     "output_type": "stream",
     "text": [
      "100%|███████████████████████████████████████████████████| 15/15 [00:39<00:00,  2.60s/it]\n"
     ]
    },
    {
     "name": "stdout",
     "output_type": "stream",
     "text": [
      "JSONDecodeError: Expecting ',' delimiter: line 3 column 282 (char 310)\n",
      "JSONDecodeError: Expecting ',' delimiter: line 3 column 259 (char 287)\n",
      "JSONDecodeError: Expecting ',' delimiter: line 3 column 251 (char 279)\n",
      "JSONDecodeError: Expecting ',' delimiter: line 3 column 283 (char 311)\n",
      "JSONDecodeError: Expecting ',' delimiter: line 3 column 412 (char 447)\n",
      "JSONDecodeError: Expecting ',' delimiter: line 3 column 462 (char 490)\n",
      "evaluations-qa54.csv saved\n"
     ]
    },
    {
     "name": "stderr",
     "output_type": "stream",
     "text": [
      "100%|███████████████████████████████████████████████████| 15/15 [00:38<00:00,  2.58s/it]\n"
     ]
    },
    {
     "name": "stdout",
     "output_type": "stream",
     "text": [
      "JSONDecodeError: Expecting ',' delimiter: line 3 column 310 (char 338)\n",
      "JSONDecodeError: Expecting ',' delimiter: line 3 column 188 (char 216)\n",
      "JSONDecodeError: Expecting ',' delimiter: line 3 column 335 (char 367)\n",
      "JSONDecodeError: Expecting ',' delimiter: line 3 column 301 (char 329)\n",
      "JSONDecodeError: Expecting ',' delimiter: line 3 column 276 (char 304)\n",
      "JSONDecodeError: Expecting ',' delimiter: line 3 column 244 (char 276)\n",
      "JSONDecodeError: Expecting ',' delimiter: line 3 column 422 (char 455)\n",
      "JSONDecodeError: Expecting ',' delimiter: line 3 column 233 (char 261)\n",
      "JSONDecodeError: Expecting ',' delimiter: line 3 column 328 (char 361)\n",
      "JSONDecodeError: Expecting ',' delimiter: line 3 column 469 (char 504)\n",
      "evaluations-qa55.csv saved\n"
     ]
    },
    {
     "name": "stderr",
     "output_type": "stream",
     "text": [
      "100%|███████████████████████████████████████████████████| 15/15 [00:39<00:00,  2.61s/it]\n"
     ]
    },
    {
     "name": "stdout",
     "output_type": "stream",
     "text": [
      "JSONDecodeError: Expecting ',' delimiter: line 3 column 459 (char 494)\n",
      "JSONDecodeError: Expecting ',' delimiter: line 3 column 311 (char 337)\n",
      "JSONDecodeError: Expecting ',' delimiter: line 3 column 293 (char 326)\n",
      "JSONDecodeError: Expecting ',' delimiter: line 3 column 498 (char 526)\n",
      "JSONDecodeError: Expecting ',' delimiter: line 3 column 266 (char 294)\n",
      "JSONDecodeError: Expecting ',' delimiter: line 3 column 400 (char 433)\n",
      "JSONDecodeError: Expecting ',' delimiter: line 3 column 235 (char 270)\n",
      "evaluations-qa56.csv saved\n"
     ]
    },
    {
     "name": "stderr",
     "output_type": "stream",
     "text": [
      "100%|████████████████████████████| 15/15 [00:38<00:00,  2.57s/it]\n"
     ]
    },
    {
     "name": "stdout",
     "output_type": "stream",
     "text": [
      "JSONDecodeError: Expecting ',' delimiter: line 3 column 360 (char 388)\n",
      "JSONDecodeError: Expecting ',' delimiter: line 3 column 290 (char 320)\n",
      "JSONDecodeError: Expecting ',' delimiter: line 3 column 303 (char 335)\n",
      "JSONDecodeError: Expecting ',' delimiter: line 3 column 312 (char 344)\n",
      "JSONDecodeError: Expecting ',' delimiter: line 3 column 277 (char 305)\n",
      "JSONDecodeError: Expecting ',' delimiter: line 3 column 299 (char 327)\n",
      "JSONDecodeError: Expecting ',' delimiter: line 3 column 448 (char 476)\n",
      "JSONDecodeError: Expecting ',' delimiter: line 3 column 178 (char 206)\n",
      "JSONDecodeError: Expecting ',' delimiter: line 3 column 272 (char 307)\n",
      "evaluations-qa57.csv saved\n"
     ]
    },
    {
     "name": "stderr",
     "output_type": "stream",
     "text": [
      "100%|████████████████████████████| 15/15 [00:39<00:00,  2.62s/it]\n"
     ]
    },
    {
     "name": "stdout",
     "output_type": "stream",
     "text": [
      "JSONDecodeError: Expecting ',' delimiter: line 3 column 311 (char 346)\n",
      "JSONDecodeError: Expecting ',' delimiter: line 3 column 300 (char 326)\n",
      "JSONDecodeError: Expecting ',' delimiter: line 3 column 542 (char 577)\n",
      "JSONDecodeError: Expecting ',' delimiter: line 3 column 207 (char 235)\n",
      "JSONDecodeError: Expecting ',' delimiter: line 3 column 285 (char 320)\n",
      "JSONDecodeError: Expecting ',' delimiter: line 3 column 326 (char 354)\n",
      "evaluations-qa58.csv saved\n"
     ]
    },
    {
     "name": "stderr",
     "output_type": "stream",
     "text": [
      "100%|███████████████████████████████████████████████████| 15/15 [00:38<00:00,  2.56s/it]\n"
     ]
    },
    {
     "name": "stdout",
     "output_type": "stream",
     "text": [
      "JSONDecodeError: Expecting ',' delimiter: line 3 column 526 (char 559)\n",
      "JSONDecodeError: Expecting ',' delimiter: line 3 column 342 (char 377)\n",
      "JSONDecodeError: Expecting ',' delimiter: line 3 column 288 (char 314)\n",
      "JSONDecodeError: Expecting ',' delimiter: line 3 column 410 (char 438)\n",
      "JSONDecodeError: Expecting ',' delimiter: line 3 column 306 (char 334)\n",
      "JSONDecodeError: Expecting value: line 1 column 1 (char 0)\n",
      "Failed to fix JSON string: Expecting value: line 1 column 1 (char 0)\n",
      "evaluations-qa59.csv saved\n"
     ]
    },
    {
     "name": "stderr",
     "output_type": "stream",
     "text": [
      "100%|███████████████████████████████████████████████████| 15/15 [00:38<00:00,  2.59s/it]\n"
     ]
    },
    {
     "name": "stdout",
     "output_type": "stream",
     "text": [
      "JSONDecodeError: Expecting ',' delimiter: line 3 column 398 (char 433)\n",
      "JSONDecodeError: Expecting ',' delimiter: line 3 column 304 (char 330)\n",
      "JSONDecodeError: Expecting ',' delimiter: line 3 column 582 (char 617)\n",
      "JSONDecodeError: Expecting ',' delimiter: line 3 column 254 (char 282)\n",
      "JSONDecodeError: Expecting ',' delimiter: line 3 column 505 (char 540)\n",
      "JSONDecodeError: Expecting ',' delimiter: line 3 column 333 (char 368)\n",
      "evaluations-qa60.csv saved\n"
     ]
    },
    {
     "name": "stderr",
     "output_type": "stream",
     "text": [
      "100%|███████████████████████████████████████████████████| 15/15 [00:39<00:00,  2.60s/it]\n"
     ]
    },
    {
     "name": "stdout",
     "output_type": "stream",
     "text": [
      "JSONDecodeError: Expecting ',' delimiter: line 3 column 268 (char 296)\n",
      "JSONDecodeError: Expecting ',' delimiter: line 3 column 209 (char 237)\n",
      "JSONDecodeError: Expecting ',' delimiter: line 3 column 162 (char 190)\n",
      "JSONDecodeError: Expecting ',' delimiter: line 3 column 232 (char 258)\n",
      "JSONDecodeError: Expecting ',' delimiter: line 3 column 342 (char 370)\n",
      "JSONDecodeError: Expecting ',' delimiter: line 3 column 308 (char 343)\n",
      "JSONDecodeError: Expecting ',' delimiter: line 3 column 226 (char 254)\n",
      "JSONDecodeError: Expecting ',' delimiter: line 3 column 343 (char 378)\n",
      "evaluations-qa61.csv saved\n"
     ]
    },
    {
     "name": "stderr",
     "output_type": "stream",
     "text": [
      "100%|███████████████████████████████████████████████████| 15/15 [00:38<00:00,  2.56s/it]\n"
     ]
    },
    {
     "name": "stdout",
     "output_type": "stream",
     "text": [
      "JSONDecodeError: Expecting ',' delimiter: line 3 column 431 (char 466)\n",
      "JSONDecodeError: Expecting ',' delimiter: line 3 column 301 (char 327)\n",
      "JSONDecodeError: Expecting ',' delimiter: line 3 column 385 (char 415)\n",
      "JSONDecodeError: Expecting value: line 1 column 1 (char 0)\n",
      "Failed to fix JSON string: Expecting value: line 1 column 1 (char 0)\n",
      "JSONDecodeError: Expecting ',' delimiter: line 3 column 297 (char 325)\n",
      "JSONDecodeError: Expecting ',' delimiter: line 3 column 262 (char 290)\n",
      "JSONDecodeError: Expecting ',' delimiter: line 3 column 346 (char 381)\n",
      "JSONDecodeError: Expecting ',' delimiter: line 3 column 226 (char 254)\n",
      "JSONDecodeError: Expecting ',' delimiter: line 3 column 262 (char 290)\n",
      "JSONDecodeError: Expecting ',' delimiter: line 3 column 249 (char 277)\n",
      "evaluations-qa62.csv saved\n"
     ]
    },
    {
     "name": "stderr",
     "output_type": "stream",
     "text": [
      "100%|███████████████████████████████████████████████████| 15/15 [00:39<00:00,  2.61s/it]\n"
     ]
    },
    {
     "name": "stdout",
     "output_type": "stream",
     "text": [
      "JSONDecodeError: Expecting ',' delimiter: line 3 column 329 (char 357)\n",
      "JSONDecodeError: Expecting ',' delimiter: line 3 column 264 (char 292)\n",
      "JSONDecodeError: Expecting ',' delimiter: line 3 column 252 (char 280)\n",
      "JSONDecodeError: Expecting ',' delimiter: line 3 column 348 (char 383)\n",
      "JSONDecodeError: Expecting ',' delimiter: line 3 column 324 (char 359)\n",
      "JSONDecodeError: Expecting ',' delimiter: line 3 column 357 (char 392)\n",
      "JSONDecodeError: Expecting ',' delimiter: line 3 column 447 (char 482)\n",
      "evaluations-qa63.csv saved\n"
     ]
    },
    {
     "name": "stderr",
     "output_type": "stream",
     "text": [
      "100%|███████████████████████████████████████████████████| 15/15 [00:38<00:00,  2.59s/it]\n"
     ]
    },
    {
     "name": "stdout",
     "output_type": "stream",
     "text": [
      "JSONDecodeError: Expecting ',' delimiter: line 3 column 300 (char 328)\n",
      "JSONDecodeError: Expecting ',' delimiter: line 3 column 257 (char 285)\n",
      "JSONDecodeError: Expecting ',' delimiter: line 3 column 223 (char 251)\n",
      "JSONDecodeError: Expecting ',' delimiter: line 3 column 314 (char 342)\n",
      "JSONDecodeError: Expecting ',' delimiter: line 3 column 280 (char 308)\n",
      "JSONDecodeError: Expecting ',' delimiter: line 3 column 226 (char 258)\n",
      "JSONDecodeError: Expecting ',' delimiter: line 3 column 353 (char 385)\n",
      "JSONDecodeError: Expecting ',' delimiter: line 3 column 216 (char 248)\n",
      "JSONDecodeError: Expecting ',' delimiter: line 3 column 328 (char 361)\n",
      "evaluations-qa64.csv saved\n"
     ]
    },
    {
     "name": "stderr",
     "output_type": "stream",
     "text": [
      "100%|███████████████████████████████████████████████████| 15/15 [00:39<00:00,  2.62s/it]\n"
     ]
    },
    {
     "name": "stdout",
     "output_type": "stream",
     "text": [
      "JSONDecodeError: Expecting ',' delimiter: line 3 column 308 (char 334)\n",
      "JSONDecodeError: Expecting ',' delimiter: line 3 column 561 (char 589)\n",
      "JSONDecodeError: Expecting ',' delimiter: line 3 column 299 (char 325)\n",
      "JSONDecodeError: Expecting ',' delimiter: line 3 column 409 (char 444)\n",
      "JSONDecodeError: Expecting ',' delimiter: line 3 column 330 (char 358)\n",
      "JSONDecodeError: Expecting ',' delimiter: line 3 column 334 (char 362)\n",
      "evaluations-qa65.csv saved\n"
     ]
    },
    {
     "name": "stderr",
     "output_type": "stream",
     "text": [
      "100%|███████████████████████████████████████████████████| 15/15 [00:38<00:00,  2.60s/it]\n"
     ]
    },
    {
     "name": "stdout",
     "output_type": "stream",
     "text": [
      "JSONDecodeError: Expecting ',' delimiter: line 3 column 272 (char 298)\n",
      "JSONDecodeError: Expecting ',' delimiter: line 3 column 252 (char 280)\n",
      "JSONDecodeError: Expecting ',' delimiter: line 3 column 388 (char 416)\n",
      "JSONDecodeError: Expecting ',' delimiter: line 3 column 267 (char 295)\n",
      "JSONDecodeError: Expecting ',' delimiter: line 3 column 420 (char 448)\n",
      "evaluations-qa66.csv saved\n"
     ]
    },
    {
     "name": "stderr",
     "output_type": "stream",
     "text": [
      "100%|███████████████████████████████████████████████████| 15/15 [00:39<00:00,  2.61s/it]\n"
     ]
    },
    {
     "name": "stdout",
     "output_type": "stream",
     "text": [
      "JSONDecodeError: Expecting ',' delimiter: line 3 column 369 (char 395)\n",
      "JSONDecodeError: Expecting ',' delimiter: line 3 column 468 (char 501)\n",
      "JSONDecodeError: Expecting ',' delimiter: line 3 column 493 (char 528)\n",
      "JSONDecodeError: Expecting ',' delimiter: line 3 column 254 (char 282)\n",
      "JSONDecodeError: Expecting ',' delimiter: line 3 column 264 (char 292)\n",
      "evaluations-qa67.csv saved\n"
     ]
    },
    {
     "name": "stderr",
     "output_type": "stream",
     "text": [
      "100%|███████████████████████████████████████████████████| 15/15 [00:39<00:00,  2.60s/it]\n"
     ]
    },
    {
     "name": "stdout",
     "output_type": "stream",
     "text": [
      "JSONDecodeError: Expecting ',' delimiter: line 3 column 288 (char 316)\n",
      "JSONDecodeError: Expecting ',' delimiter: line 3 column 261 (char 289)\n",
      "JSONDecodeError: Expecting ',' delimiter: line 3 column 369 (char 397)\n",
      "JSONDecodeError: Expecting ',' delimiter: line 3 column 417 (char 445)\n",
      "JSONDecodeError: Expecting ',' delimiter: line 3 column 293 (char 328)\n",
      "JSONDecodeError: Expecting ',' delimiter: line 3 column 296 (char 324)\n",
      "JSONDecodeError: Expecting ',' delimiter: line 3 column 365 (char 393)\n",
      "evaluations-qa68.csv saved\n"
     ]
    },
    {
     "name": "stderr",
     "output_type": "stream",
     "text": [
      "100%|████████████████████████████| 15/15 [00:39<00:00,  2.66s/it]\n"
     ]
    },
    {
     "name": "stdout",
     "output_type": "stream",
     "text": [
      "JSONDecodeError: Expecting ',' delimiter: line 3 column 247 (char 275)\n",
      "JSONDecodeError: Expecting ',' delimiter: line 3 column 322 (char 350)\n",
      "JSONDecodeError: Expecting ',' delimiter: line 3 column 288 (char 314)\n",
      "JSONDecodeError: Expecting ',' delimiter: line 3 column 238 (char 266)\n",
      "JSONDecodeError: Expecting ',' delimiter: line 3 column 321 (char 356)\n",
      "JSONDecodeError: Expecting ',' delimiter: line 3 column 200 (char 228)\n",
      "JSONDecodeError: Expecting ',' delimiter: line 3 column 192 (char 220)\n",
      "JSONDecodeError: Expecting ',' delimiter: line 3 column 255 (char 283)\n",
      "evaluations-qa69.csv saved\n"
     ]
    },
    {
     "name": "stderr",
     "output_type": "stream",
     "text": [
      "100%|████████████████████████████| 15/15 [00:38<00:00,  2.59s/it]\n"
     ]
    },
    {
     "name": "stdout",
     "output_type": "stream",
     "text": [
      "JSONDecodeError: Expecting ',' delimiter: line 3 column 420 (char 455)\n",
      "JSONDecodeError: Expecting ',' delimiter: line 3 column 256 (char 291)\n",
      "JSONDecodeError: Expecting ',' delimiter: line 3 column 224 (char 252)\n",
      "JSONDecodeError: Expecting ',' delimiter: line 3 column 277 (char 305)\n",
      "JSONDecodeError: Expecting ',' delimiter: line 3 column 265 (char 293)\n",
      "JSONDecodeError: Expecting ',' delimiter: line 3 column 372 (char 400)\n",
      "JSONDecodeError: Expecting ',' delimiter: line 3 column 332 (char 362)\n",
      "JSONDecodeError: Expecting value: line 1 column 1 (char 0)\n",
      "Failed to fix JSON string: Expecting value: line 1 column 1 (char 0)\n",
      "evaluations-qa70.csv saved\n"
     ]
    },
    {
     "name": "stderr",
     "output_type": "stream",
     "text": [
      " 20%|██████████▍                                         | 3/15 [00:07<00:30,  2.58s/it]"
     ]
    }
   ],
   "source": [
    "for i in range(1, 83):\n",
    "    evaluations = []\n",
    "    results = []\n",
    "    json_evaluations = []\n",
    "    \n",
    "    # Load the pickle file\n",
    "    with open(f\"../data/vietnamese_rag/llm_answer/llm_answer{i}.pkl\", 'rb') as file:\n",
    "        r = pickle.load(file)\n",
    "    results.extend(r)\n",
    "    \n",
    "    # Convert results to DataFrame\n",
    "    df = pd.DataFrame(results)\n",
    "    samples = df.to_dict(orient='records')\n",
    "    \n",
    "    # Generate evaluations\n",
    "    for record in tqdm(samples):\n",
    "        prompt = prompt2_template.format(**record)\n",
    "        evaluation = llm(prompt)\n",
    "        evaluations.append(evaluation)\n",
    "    \n",
    "    # Parse evaluations\n",
    "    for j, str_eval in enumerate(evaluations):\n",
    "        try:\n",
    "            json_eval = json.loads(str_eval)\n",
    "        except json.JSONDecodeError as e:\n",
    "            print(f\"JSONDecodeError: {e}\")\n",
    "            # Attempt to fix the JSON string\n",
    "            try:\n",
    "                str_eval = str_eval.rstrip('}') + '}'  # Ensure it ends with a closing brace\n",
    "                json_eval = json.loads(str_eval)\n",
    "            except json.JSONDecodeError as e:\n",
    "                print(f\"Failed to fix JSON string: {e}\")\n",
    "                continue  # Skip this evaluation if it cannot be fixed\n",
    "        json_evaluations.append(json_eval)\n",
    "    \n",
    "    # Save evaluations to CSV\n",
    "    if json_evaluations:\n",
    "        df_evaluations = pd.DataFrame(json_evaluations)\n",
    "        df_evaluations.to_csv(f'../data/vietnamese_rag/evaluations_qa/evaluations-qa{i}.csv', index=False)\n",
    "        print(f\"evaluations-qa{i}.csv saved\")"
   ]
  },
  {
   "cell_type": "code",
   "execution_count": null,
   "id": "1d12a525-a045-4c4d-a677-122995df74b5",
   "metadata": {},
   "outputs": [],
   "source": [
    "for i in range(83, 150):\n",
    "    evaluations = []\n",
    "    results = []\n",
    "    json_evaluations = []\n",
    "    \n",
    "    # Load the pickle file\n",
    "    with open(f\"../data/vietnamese_rag/llm_answer/llm_answer{i}.pkl\", 'rb') as file:\n",
    "        r = pickle.load(file)\n",
    "    results.extend(r)\n",
    "    \n",
    "    # Convert results to DataFrame\n",
    "    df = pd.DataFrame(results)\n",
    "    samples = df.to_dict(orient='records')\n",
    "    \n",
    "    # Generate evaluations\n",
    "    for record in tqdm(samples):\n",
    "        prompt = prompt2_template.format(**record)\n",
    "        evaluation = llm(prompt)\n",
    "        evaluations.append(evaluation)\n",
    "    \n",
    "    # Parse evaluations\n",
    "    for j, str_eval in enumerate(evaluations):\n",
    "        try:\n",
    "            json_eval = json.loads(str_eval)\n",
    "        except json.JSONDecodeError as e:\n",
    "            print(f\"JSONDecodeError: {e}\")\n",
    "            # Attempt to fix the JSON string\n",
    "            try:\n",
    "                # str_eval = \"{\" + str_eval.lstrip(\"{\")  # Ensure it starts with an opening brace\n",
    "                str_eval = str_eval.rstrip('}') + '}'  # Ensure it ends with a closing brace\n",
    "                json_eval = json.loads(str_eval)\n",
    "            except json.JSONDecodeError as e:\n",
    "                print(f\"Failed to fix JSON string: {e}\")\n",
    "                continue  # Skip this evaluation if it cannot be fixed\n",
    "        json_evaluations.append(json_eval)\n",
    "    \n",
    "    # Save evaluations to CSV\n",
    "    if json_evaluations:\n",
    "        df_evaluations = pd.DataFrame(json_evaluations)\n",
    "        df_evaluations.to_csv(f'../data/vietnamese_rag/evaluations_qa/evaluations-qa{i}.csv', index=False)\n",
    "        print(f\"evaluations-qa{i}.csv saved\")"
   ]
  },
  {
   "cell_type": "code",
   "execution_count": null,
   "id": "1abebc3a-a2e3-4c07-800d-75f2dc85394e",
   "metadata": {},
   "outputs": [],
   "source": []
  }
 ],
 "metadata": {
  "kernelspec": {
   "display_name": "Python 3 (ipykernel)",
   "language": "python",
   "name": "python3"
  },
  "language_info": {
   "codemirror_mode": {
    "name": "ipython",
    "version": 3
   },
   "file_extension": ".py",
   "mimetype": "text/x-python",
   "name": "python",
   "nbconvert_exporter": "python",
   "pygments_lexer": "ipython3",
   "version": "3.10.13"
  }
 },
 "nbformat": 4,
 "nbformat_minor": 5
}
