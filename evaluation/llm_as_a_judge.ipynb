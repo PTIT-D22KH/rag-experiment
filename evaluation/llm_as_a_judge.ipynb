{
 "cells": [
  {
   "cell_type": "code",
   "execution_count": 2,
   "id": "cb1f13ea-c16c-450c-8b78-6757d1f7be6a",
   "metadata": {},
   "outputs": [
    {
     "name": "stderr",
     "output_type": "stream",
     "text": [
      "/home/codespace/.local/lib/python3.10/site-packages/tqdm/auto.py:21: TqdmWarning: IProgress not found. Please update jupyter and ipywidgets. See https://ipywidgets.readthedocs.io/en/stable/user_install.html\n",
      "  from .autonotebook import tqdm as notebook_tqdm\n"
     ]
    }
   ],
   "source": [
    "import json\n",
    "from openai import OpenAI\n",
    "from groq import Groq\n",
    "import os\n",
    "from sentence_transformers import SentenceTransformer\n",
    "from tqdm.auto import tqdm\n",
    "import pickle\n",
    "from elasticsearch import Elasticsearch\n",
    "import pandas as pd\n",
    "import requests\n",
    "import numpy as np\n",
    "from concurrent.futures import ThreadPoolExecutor\n",
    "from requests.exceptions import HTTPError\n",
    "\n",
    "import time"
   ]
  },
  {
   "cell_type": "code",
   "execution_count": 3,
   "id": "53284ee3-7ed6-42c9-9a50-8bafc94756e8",
   "metadata": {},
   "outputs": [],
   "source": [
    "prompt1_template = \"\"\"\n",
    "You are an expert evaluator for a Retrieval-Augmented Generation (RAG) system.\n",
    "Your task is to analyze the relevance of the generated answer compared to the original answer provided.\n",
    "Based on the relevance and similarity of the generated answer to the original answer, you will classify\n",
    "it as \"NON_RELEVANT\", \"PARTLY_RELEVANT\", or \"RELEVANT\".\n",
    "\n",
    "Here is the data for evaluation:\n",
    "\n",
    "Original Answer: {answer_orig}\n",
    "Generated Question: {question}\n",
    "Generated Answer: {answer_llm}\n",
    "\n",
    "Please analyze the content and context of the generated answer in relation to the original\n",
    "answer and provide your evaluation in parsable JSON without using code blocks:\n",
    "\n",
    "{{\n",
    "  \"Relevance\": \"NON_RELEVANT\" | \"PARTLY_RELEVANT\" | \"RELEVANT\",\n",
    "  \"Explanation\": \"[Provide a brief explanation for your evaluation]\"\n",
    "}}\n",
    "\"\"\".strip()\n",
    "\n",
    "prompt2_template = \"\"\"\n",
    "You are an expert evaluator for a Retrieval-Augmented Generation (RAG) system.\n",
    "Your task is to analyze the relevance of the generated answer to the given question.\n",
    "Based on the relevance of the generated answer, you will classify it\n",
    "as \"NON_RELEVANT\", \"PARTLY_RELEVANT\", or \"RELEVANT\".\n",
    "\n",
    "Here is the data for evaluation:\n",
    "\n",
    "Question: {question}\n",
    "Generated Answer: {answer_llm}\n",
    "\n",
    "Please analyze the content and context of the generated answer in relation to the question\n",
    "and provide your evaluation in parsable JSON without using code blocks:\n",
    "\n",
    "{{\n",
    "  \"Relevance\": \"NON_RELEVANT\" | \"PARTLY_RELEVANT\" | \"RELEVANT\",\n",
    "  \"Explanation\": \"[Provide a brief explanation for your evaluation]\"\n",
    "}}\n",
    "\"\"\".strip()"
   ]
  },
  {
   "cell_type": "code",
   "execution_count": 6,
   "id": "47d22ef0-0bb1-4aca-94a9-e5d7d61b9dd8",
   "metadata": {},
   "outputs": [],
   "source": [
    "client =  Groq(api_key = os.environ['GROQ_API_KEY1'])\n",
    "def llm(prompt, model = 'mixtral-8x7b-32768'):\n",
    "    retries = 5\n",
    "    for i in range(retries):\n",
    "        try:\n",
    "            response = client.chat.completions.create(\n",
    "                model= 'llama3-8b-8192',\n",
    "                messages=[{\"role\": \"user\", \"content\": prompt}]\n",
    "            )\n",
    "            json_response = response.choices[0].message.content\n",
    "            return json_response\n",
    "        except HTTPError as e:\n",
    "            if e.response.status_code == 429:  # Rate limit error\n",
    "                retry_after = float(e.response.json()['error']['message'].split('in ')[-1].split('s')[0])\n",
    "                time.sleep(retry_after)\n",
    "            else:\n",
    "                raise\n",
    "        except Exception as e:\n",
    "            if i < retries - 1:\n",
    "                time.sleep(2 ** i)  # Exponential backoff\n",
    "            else:\n",
    "                raise"
   ]
  },
  {
   "cell_type": "code",
   "execution_count": 35,
   "id": "542bb9fc-0911-435c-b395-2f0d809b6cd0",
   "metadata": {},
   "outputs": [],
   "source": [
    "results = []\n",
    "for i in range(1,83):\n",
    "    \n",
    "    with open(f\"../data/vietnamese_rag/llm_answer/llm_answer{i}.pkl\", 'rb') as file:\n",
    "        r = pickle.load(file)\n",
    "    results.extend(r)\n",
    "df = pd.DataFrame(results)"
   ]
  },
  {
   "cell_type": "code",
   "execution_count": 37,
   "id": "07c148bd-c105-45f9-8b0b-e64d80ae13fb",
   "metadata": {},
   "outputs": [
    {
     "name": "stdout",
     "output_type": "stream",
     "text": [
      "<class 'pandas.core.frame.DataFrame'>\n",
      "RangeIndex: 1217 entries, 0 to 1216\n",
      "Data columns (total 5 columns):\n",
      " #   Column       Non-Null Count  Dtype \n",
      "---  ------       --------------  ----- \n",
      " 0   answer_llm   1217 non-null   object\n",
      " 1   answer_orig  1217 non-null   object\n",
      " 2   document     1217 non-null   object\n",
      " 3   question     1217 non-null   object\n",
      " 4   group        1217 non-null   object\n",
      "dtypes: object(5)\n",
      "memory usage: 47.7+ KB\n"
     ]
    }
   ],
   "source": [
    "df.info()"
   ]
  },
  {
   "cell_type": "code",
   "execution_count": 39,
   "id": "01f2506e-1596-4b59-897c-a8ca9e23345d",
   "metadata": {},
   "outputs": [],
   "source": [
    "df.to_csv('../data/vietnamese_rag/llm_answer/llm_answer1.csv', index=False)"
   ]
  },
  {
   "cell_type": "code",
   "execution_count": 58,
   "id": "099019c8-74dd-4b5a-8d58-cdac59b6289e",
   "metadata": {},
   "outputs": [
    {
     "name": "stderr",
     "output_type": "stream",
     "text": [
      "100%|██████████████████| 15/15 [00:07<00:00,  2.01it/s]\n"
     ]
    },
    {
     "name": "stdout",
     "output_type": "stream",
     "text": [
      "JSONDecodeError: Expecting ',' delimiter: line 3 column 417 (char 445)\n",
      "JSONDecodeError: Expecting ',' delimiter: line 3 column 593 (char 628)\n",
      "JSONDecodeError: Expecting ',' delimiter: line 3 column 414 (char 442)\n",
      "JSONDecodeError: Expecting ',' delimiter: line 3 column 418 (char 446)\n",
      "JSONDecodeError: Expecting ',' delimiter: line 3 column 392 (char 420)\n",
      "JSONDecodeError: Expecting ',' delimiter: line 3 column 321 (char 347)\n",
      "JSONDecodeError: Expecting ',' delimiter: line 3 column 417 (char 450)\n"
     ]
    },
    {
     "name": "stderr",
     "output_type": "stream",
     "text": [
      "100%|██████████████████| 15/15 [00:19<00:00,  1.30s/it]\n"
     ]
    },
    {
     "name": "stdout",
     "output_type": "stream",
     "text": [
      "JSONDecodeError: Expecting ',' delimiter: line 3 column 395 (char 423)\n",
      "JSONDecodeError: Expecting ',' delimiter: line 3 column 413 (char 441)\n",
      "JSONDecodeError: Expecting ',' delimiter: line 3 column 339 (char 367)\n",
      "JSONDecodeError: Expecting ',' delimiter: line 3 column 616 (char 642)\n",
      "JSONDecodeError: Expecting ',' delimiter: line 3 column 321 (char 349)\n",
      "JSONDecodeError: Expecting ',' delimiter: line 3 column 269 (char 297)\n",
      "JSONDecodeError: Expecting ',' delimiter: line 3 column 444 (char 476)\n",
      "JSONDecodeError: Expecting ',' delimiter: line 3 column 454 (char 489)\n",
      "JSONDecodeError: Expecting ',' delimiter: line 3 column 306 (char 332)\n",
      "JSONDecodeError: Expecting value: line 1 column 1 (char 0)\n",
      "Failed to fix JSON string: Expecting value: line 1 column 1 (char 0)\n",
      "JSONDecodeError: Expecting value: line 1 column 1 (char 0)\n",
      "Failed to fix JSON string: Expecting value: line 1 column 1 (char 0)\n",
      "JSONDecodeError: Expecting ',' delimiter: line 3 column 498 (char 526)\n"
     ]
    },
    {
     "name": "stderr",
     "output_type": "stream",
     "text": [
      "100%|██████████████████| 15/15 [00:39<00:00,  2.64s/it]\n"
     ]
    },
    {
     "name": "stdout",
     "output_type": "stream",
     "text": [
      "JSONDecodeError: Expecting ',' delimiter: line 3 column 306 (char 334)\n",
      "JSONDecodeError: Expecting ',' delimiter: line 3 column 498 (char 533)\n",
      "JSONDecodeError: Expecting ',' delimiter: line 3 column 323 (char 358)\n",
      "JSONDecodeError: Expecting ',' delimiter: line 3 column 411 (char 446)\n",
      "JSONDecodeError: Expecting ',' delimiter: line 3 column 318 (char 346)\n",
      "JSONDecodeError: Expecting ',' delimiter: line 3 column 428 (char 456)\n",
      "JSONDecodeError: Expecting ',' delimiter: line 3 column 364 (char 392)\n",
      "JSONDecodeError: Expecting ',' delimiter: line 3 column 269 (char 297)\n",
      "JSONDecodeError: Expecting ',' delimiter: line 3 column 392 (char 427)\n",
      "JSONDecodeError: Expecting ',' delimiter: line 3 column 365 (char 391)\n",
      "JSONDecodeError: Expecting value: line 1 column 1 (char 0)\n",
      "Failed to fix JSON string: Expecting value: line 1 column 1 (char 0)\n"
     ]
    },
    {
     "name": "stderr",
     "output_type": "stream",
     "text": [
      "100%|██████████████████| 15/15 [00:39<00:00,  2.66s/it]\n"
     ]
    },
    {
     "name": "stdout",
     "output_type": "stream",
     "text": [
      "JSONDecodeError: Expecting value: line 1 column 1 (char 0)\n",
      "Failed to fix JSON string: Expecting value: line 1 column 1 (char 0)\n",
      "JSONDecodeError: Expecting ',' delimiter: line 3 column 313 (char 341)\n",
      "JSONDecodeError: Expecting ',' delimiter: line 3 column 323 (char 358)\n",
      "JSONDecodeError: Expecting ',' delimiter: line 3 column 377 (char 405)\n",
      "JSONDecodeError: Expecting ',' delimiter: line 3 column 505 (char 533)\n"
     ]
    },
    {
     "name": "stderr",
     "output_type": "stream",
     "text": [
      "100%|██████████████████████████████████████████████████████████████████████████████████████████████████████████████████████████████████████████████████████████████| 15/15 [00:39<00:00,  2.65s/it]\n"
     ]
    },
    {
     "name": "stdout",
     "output_type": "stream",
     "text": [
      "JSONDecodeError: Expecting ',' delimiter: line 3 column 480 (char 515)\n",
      "JSONDecodeError: Expecting ',' delimiter: line 3 column 483 (char 516)\n",
      "JSONDecodeError: Expecting ',' delimiter: line 3 column 417 (char 452)\n",
      "JSONDecodeError: Expecting ',' delimiter: line 3 column 293 (char 321)\n",
      "JSONDecodeError: Expecting ',' delimiter: line 3 column 304 (char 332)\n",
      "JSONDecodeError: Expecting ',' delimiter: line 3 column 395 (char 427)\n"
     ]
    },
    {
     "name": "stderr",
     "output_type": "stream",
     "text": [
      "100%|██████████████████████████████████████████████████████████████████████████████████████████████████████████████████████████████████████████████████████████████| 15/15 [00:38<00:00,  2.59s/it]\n"
     ]
    },
    {
     "name": "stdout",
     "output_type": "stream",
     "text": [
      "JSONDecodeError: Expecting ',' delimiter: line 3 column 306 (char 334)\n",
      "JSONDecodeError: Expecting ',' delimiter: line 3 column 304 (char 332)\n",
      "JSONDecodeError: Expecting ',' delimiter: line 3 column 291 (char 319)\n",
      "JSONDecodeError: Expecting ',' delimiter: line 3 column 311 (char 337)\n",
      "JSONDecodeError: Expecting value: line 1 column 1 (char 0)\n",
      "Failed to fix JSON string: Expecting value: line 1 column 1 (char 0)\n",
      "JSONDecodeError: Expecting ',' delimiter: line 3 column 627 (char 662)\n",
      "JSONDecodeError: Expecting ',' delimiter: line 3 column 386 (char 421)\n",
      "JSONDecodeError: Expecting ',' delimiter: line 3 column 346 (char 376)\n"
     ]
    },
    {
     "name": "stderr",
     "output_type": "stream",
     "text": [
      "100%|██████████████████████████████████████████████████████████████████████████████████████████████████████████████████████████████████████████████████████████████| 15/15 [00:39<00:00,  2.62s/it]\n"
     ]
    },
    {
     "name": "stdout",
     "output_type": "stream",
     "text": [
      "JSONDecodeError: Expecting value: line 1 column 1 (char 0)\n",
      "Failed to fix JSON string: Expecting value: line 1 column 1 (char 0)\n",
      "JSONDecodeError: Expecting value: line 1 column 1 (char 0)\n",
      "Failed to fix JSON string: Expecting value: line 1 column 1 (char 0)\n",
      "JSONDecodeError: Expecting ',' delimiter: line 3 column 376 (char 406)\n",
      "JSONDecodeError: Expecting value: line 1 column 1 (char 0)\n",
      "Failed to fix JSON string: Expecting value: line 1 column 1 (char 0)\n",
      "JSONDecodeError: Expecting value: line 1 column 1 (char 0)\n",
      "Failed to fix JSON string: Expecting value: line 1 column 1 (char 0)\n",
      "JSONDecodeError: Expecting ',' delimiter: line 3 column 377 (char 410)\n",
      "JSONDecodeError: Expecting ',' delimiter: line 3 column 475 (char 510)\n"
     ]
    },
    {
     "name": "stderr",
     "output_type": "stream",
     "text": [
      "100%|██████████████████████████████████████████████████████████████████████████████████████████████████████████████████████████████████████████████████████████████| 15/15 [00:39<00:00,  2.61s/it]\n"
     ]
    },
    {
     "name": "stdout",
     "output_type": "stream",
     "text": [
      "JSONDecodeError: Expecting ',' delimiter: line 3 column 259 (char 287)\n",
      "JSONDecodeError: Expecting ',' delimiter: line 3 column 370 (char 398)\n",
      "JSONDecodeError: Expecting ',' delimiter: line 3 column 482 (char 517)\n",
      "JSONDecodeError: Expecting ',' delimiter: line 3 column 369 (char 397)\n",
      "JSONDecodeError: Expecting ',' delimiter: line 3 column 272 (char 298)\n",
      "JSONDecodeError: Expecting ',' delimiter: line 3 column 460 (char 488)\n",
      "JSONDecodeError: Expecting ',' delimiter: line 3 column 339 (char 367)\n",
      "JSONDecodeError: Expecting value: line 1 column 1 (char 0)\n",
      "Failed to fix JSON string: Expecting value: line 1 column 1 (char 0)\n",
      "JSONDecodeError: Expecting value: line 1 column 1 (char 0)\n",
      "Failed to fix JSON string: Expecting value: line 1 column 1 (char 0)\n"
     ]
    },
    {
     "name": "stderr",
     "output_type": "stream",
     "text": [
      "100%|██████████████████████████████████████████████████████████████████████████████████████████████████████████████████████████████████████████████████████████████| 15/15 [00:39<00:00,  2.62s/it]\n"
     ]
    },
    {
     "name": "stdout",
     "output_type": "stream",
     "text": [
      "JSONDecodeError: Expecting ',' delimiter: line 3 column 402 (char 437)\n",
      "JSONDecodeError: Expecting value: line 1 column 1 (char 0)\n",
      "Failed to fix JSON string: Expecting value: line 1 column 1 (char 0)\n",
      "JSONDecodeError: Expecting ',' delimiter: line 3 column 359 (char 387)\n",
      "JSONDecodeError: Expecting ',' delimiter: line 3 column 277 (char 303)\n",
      "JSONDecodeError: Expecting value: line 1 column 1 (char 0)\n",
      "Failed to fix JSON string: Expecting value: line 1 column 1 (char 0)\n"
     ]
    },
    {
     "name": "stderr",
     "output_type": "stream",
     "text": [
      "100%|██████████████████████████████████████████████████████████████████████████████████████████████████████████████████████████████████████████████████████████████| 15/15 [00:39<00:00,  2.63s/it]\n"
     ]
    },
    {
     "name": "stdout",
     "output_type": "stream",
     "text": [
      "JSONDecodeError: Expecting value: line 1 column 1 (char 0)\n",
      "Failed to fix JSON string: Expecting value: line 1 column 1 (char 0)\n",
      "JSONDecodeError: Expecting ',' delimiter: line 3 column 384 (char 416)\n",
      "JSONDecodeError: Expecting ',' delimiter: line 3 column 316 (char 348)\n",
      "JSONDecodeError: Expecting ',' delimiter: line 3 column 557 (char 592)\n",
      "JSONDecodeError: Expecting ',' delimiter: line 3 column 390 (char 416)\n",
      "JSONDecodeError: Expecting ',' delimiter: line 3 column 517 (char 545)\n",
      "JSONDecodeError: Expecting ',' delimiter: line 3 column 507 (char 535)\n",
      "JSONDecodeError: Expecting ',' delimiter: line 3 column 584 (char 619)\n",
      "JSONDecodeError: Expecting ',' delimiter: line 3 column 561 (char 589)\n"
     ]
    },
    {
     "name": "stderr",
     "output_type": "stream",
     "text": [
      "100%|██████████████████████████████████████████████████████████████████████████████████████████████████████████████████████████████████████████████████████████████| 15/15 [00:38<00:00,  2.59s/it]\n"
     ]
    },
    {
     "name": "stdout",
     "output_type": "stream",
     "text": [
      "JSONDecodeError: Expecting ',' delimiter: line 3 column 568 (char 603)\n",
      "JSONDecodeError: Expecting ',' delimiter: line 3 column 561 (char 589)\n",
      "JSONDecodeError: Expecting ',' delimiter: line 3 column 538 (char 573)\n",
      "JSONDecodeError: Expecting ',' delimiter: line 3 column 330 (char 358)\n",
      "JSONDecodeError: Expecting ',' delimiter: line 3 column 455 (char 490)\n",
      "JSONDecodeError: Expecting value: line 1 column 1 (char 0)\n",
      "Failed to fix JSON string: Expecting value: line 1 column 1 (char 0)\n",
      "JSONDecodeError: Expecting ',' delimiter: line 3 column 381 (char 416)\n"
     ]
    },
    {
     "name": "stderr",
     "output_type": "stream",
     "text": [
      "100%|███████████████████████████████████████████████████| 15/15 [00:38<00:00,  2.59s/it]\n"
     ]
    },
    {
     "name": "stdout",
     "output_type": "stream",
     "text": [
      "JSONDecodeError: Expecting ',' delimiter: line 3 column 290 (char 325)\n",
      "JSONDecodeError: Expecting ',' delimiter: line 3 column 329 (char 357)\n",
      "JSONDecodeError: Expecting ',' delimiter: line 3 column 426 (char 454)\n",
      "JSONDecodeError: Expecting ',' delimiter: line 3 column 472 (char 500)\n",
      "JSONDecodeError: Expecting ',' delimiter: line 3 column 453 (char 488)\n",
      "JSONDecodeError: Expecting ',' delimiter: line 3 column 267 (char 293)\n",
      "JSONDecodeError: Expecting value: line 1 column 1 (char 0)\n",
      "Failed to fix JSON string: Expecting value: line 1 column 1 (char 0)\n",
      "JSONDecodeError: Expecting ',' delimiter: line 3 column 346 (char 374)\n"
     ]
    },
    {
     "name": "stderr",
     "output_type": "stream",
     "text": [
      "100%|███████████████████████████████████████████████████| 15/15 [00:38<00:00,  2.59s/it]\n"
     ]
    },
    {
     "name": "stdout",
     "output_type": "stream",
     "text": [
      "JSONDecodeError: Expecting value: line 1 column 1 (char 0)\n",
      "Failed to fix JSON string: Expecting value: line 1 column 1 (char 0)\n",
      "JSONDecodeError: Expecting ',' delimiter: line 3 column 373 (char 401)\n",
      "JSONDecodeError: Expecting ',' delimiter: line 3 column 280 (char 308)\n",
      "JSONDecodeError: Expecting ',' delimiter: line 3 column 450 (char 478)\n",
      "JSONDecodeError: Expecting ',' delimiter: line 3 column 311 (char 339)\n",
      "JSONDecodeError: Expecting ',' delimiter: line 3 column 309 (char 337)\n",
      "JSONDecodeError: Expecting ',' delimiter: line 3 column 275 (char 303)\n"
     ]
    },
    {
     "name": "stderr",
     "output_type": "stream",
     "text": [
      "100%|███████████████████████████████████████████████████| 15/15 [00:39<00:00,  2.61s/it]\n"
     ]
    },
    {
     "name": "stdout",
     "output_type": "stream",
     "text": [
      "JSONDecodeError: Expecting ',' delimiter: line 3 column 377 (char 409)\n",
      "JSONDecodeError: Expecting ',' delimiter: line 3 column 430 (char 458)\n",
      "JSONDecodeError: Expecting ',' delimiter: line 3 column 339 (char 367)\n",
      "JSONDecodeError: Expecting ',' delimiter: line 3 column 733 (char 761)\n"
     ]
    },
    {
     "name": "stderr",
     "output_type": "stream",
     "text": [
      "100%|███████████████████████████████████████████████████| 15/15 [00:39<00:00,  2.64s/it]\n"
     ]
    },
    {
     "name": "stdout",
     "output_type": "stream",
     "text": [
      "JSONDecodeError: Expecting value: line 1 column 1 (char 0)\n",
      "Failed to fix JSON string: Expecting value: line 1 column 1 (char 0)\n",
      "JSONDecodeError: Expecting ',' delimiter: line 3 column 512 (char 547)\n",
      "JSONDecodeError: Expecting ',' delimiter: line 3 column 665 (char 700)\n",
      "JSONDecodeError: Expecting ',' delimiter: line 3 column 579 (char 607)\n",
      "JSONDecodeError: Expecting value: line 1 column 1 (char 0)\n",
      "Failed to fix JSON string: Expecting value: line 1 column 1 (char 0)\n",
      "JSONDecodeError: Expecting ',' delimiter: line 3 column 342 (char 374)\n",
      "JSONDecodeError: Expecting ',' delimiter: line 3 column 338 (char 366)\n",
      "JSONDecodeError: Expecting ',' delimiter: line 3 column 325 (char 351)\n"
     ]
    },
    {
     "name": "stderr",
     "output_type": "stream",
     "text": [
      "100%|███████████████████████████████████████████████████| 15/15 [00:39<00:00,  2.60s/it]\n"
     ]
    },
    {
     "name": "stdout",
     "output_type": "stream",
     "text": [
      "JSONDecodeError: Expecting ',' delimiter: line 3 column 548 (char 583)\n",
      "JSONDecodeError: Expecting ',' delimiter: line 3 column 233 (char 261)\n",
      "JSONDecodeError: Expecting ',' delimiter: line 3 column 339 (char 367)\n",
      "JSONDecodeError: Expecting ',' delimiter: line 3 column 274 (char 302)\n",
      "JSONDecodeError: Expecting ',' delimiter: line 3 column 390 (char 418)\n",
      "JSONDecodeError: Expecting ',' delimiter: line 3 column 307 (char 335)\n",
      "JSONDecodeError: Expecting ',' delimiter: line 3 column 483 (char 518)\n",
      "JSONDecodeError: Expecting ',' delimiter: line 3 column 567 (char 595)\n",
      "JSONDecodeError: Expecting ',' delimiter: line 3 column 355 (char 390)\n"
     ]
    },
    {
     "name": "stderr",
     "output_type": "stream",
     "text": [
      "100%|███████████████████████████████████████████████████| 15/15 [00:38<00:00,  2.59s/it]\n"
     ]
    },
    {
     "name": "stdout",
     "output_type": "stream",
     "text": [
      "JSONDecodeError: Expecting ',' delimiter: line 3 column 501 (char 529)\n",
      "JSONDecodeError: Expecting value: line 1 column 1 (char 0)\n",
      "Failed to fix JSON string: Expecting value: line 1 column 1 (char 0)\n",
      "JSONDecodeError: Expecting ',' delimiter: line 3 column 479 (char 514)\n",
      "JSONDecodeError: Expecting ',' delimiter: line 3 column 519 (char 545)\n",
      "JSONDecodeError: Expecting value: line 1 column 1 (char 0)\n",
      "Failed to fix JSON string: Expecting value: line 1 column 1 (char 0)\n",
      "JSONDecodeError: Expecting ',' delimiter: line 3 column 295 (char 321)\n",
      "JSONDecodeError: Expecting ',' delimiter: line 3 column 288 (char 316)\n"
     ]
    },
    {
     "name": "stderr",
     "output_type": "stream",
     "text": [
      "100%|███████████████████████████████████████████████████| 15/15 [00:39<00:00,  2.61s/it]\n"
     ]
    },
    {
     "name": "stdout",
     "output_type": "stream",
     "text": [
      "JSONDecodeError: Expecting ',' delimiter: line 3 column 364 (char 392)\n",
      "JSONDecodeError: Expecting ',' delimiter: line 3 column 325 (char 353)\n",
      "JSONDecodeError: Expecting ',' delimiter: line 3 column 417 (char 445)\n",
      "JSONDecodeError: Expecting ',' delimiter: line 3 column 584 (char 617)\n",
      "JSONDecodeError: Expecting ',' delimiter: line 3 column 401 (char 429)\n"
     ]
    },
    {
     "name": "stderr",
     "output_type": "stream",
     "text": [
      "100%|███████████████████████████████████████████████████| 15/15 [00:39<00:00,  2.62s/it]\n"
     ]
    },
    {
     "name": "stdout",
     "output_type": "stream",
     "text": [
      "JSONDecodeError: Expecting ',' delimiter: line 3 column 457 (char 492)\n",
      "JSONDecodeError: Expecting value: line 1 column 1 (char 0)\n",
      "Failed to fix JSON string: Expecting value: line 1 column 1 (char 0)\n",
      "JSONDecodeError: Expecting ',' delimiter: line 3 column 374 (char 406)\n",
      "JSONDecodeError: Expecting ',' delimiter: line 3 column 366 (char 394)\n",
      "JSONDecodeError: Expecting ',' delimiter: line 3 column 388 (char 416)\n",
      "JSONDecodeError: Expecting ',' delimiter: line 3 column 450 (char 478)\n",
      "JSONDecodeError: Expecting ',' delimiter: line 3 column 468 (char 496)\n",
      "JSONDecodeError: Expecting value: line 1 column 1 (char 0)\n",
      "Failed to fix JSON string: Expecting value: line 1 column 1 (char 0)\n",
      "JSONDecodeError: Expecting ',' delimiter: line 3 column 476 (char 511)\n",
      "JSONDecodeError: Expecting ',' delimiter: line 3 column 382 (char 417)\n"
     ]
    },
    {
     "name": "stderr",
     "output_type": "stream",
     "text": [
      "100%|███████████████████████████████████████████████████| 15/15 [00:38<00:00,  2.60s/it]\n"
     ]
    },
    {
     "name": "stdout",
     "output_type": "stream",
     "text": [
      "JSONDecodeError: Expecting ',' delimiter: line 3 column 482 (char 510)\n",
      "JSONDecodeError: Expecting ',' delimiter: line 3 column 265 (char 293)\n",
      "JSONDecodeError: Expecting ',' delimiter: line 3 column 595 (char 630)\n",
      "JSONDecodeError: Expecting ',' delimiter: line 3 column 275 (char 303)\n",
      "JSONDecodeError: Expecting ':' delimiter: line 3 column 1 (char 16)\n",
      "Failed to fix JSON string: Expecting ':' delimiter: line 3 column 1 (char 16)\n",
      "JSONDecodeError: Expecting ',' delimiter: line 3 column 383 (char 418)\n",
      "JSONDecodeError: Expecting ',' delimiter: line 3 column 526 (char 561)\n"
     ]
    },
    {
     "name": "stderr",
     "output_type": "stream",
     "text": [
      "100%|███████████████████████████████████████████████████| 15/15 [00:38<00:00,  2.56s/it]\n"
     ]
    },
    {
     "name": "stdout",
     "output_type": "stream",
     "text": [
      "JSONDecodeError: Expecting ',' delimiter: line 3 column 337 (char 365)\n",
      "JSONDecodeError: Expecting value: line 1 column 1 (char 0)\n",
      "Failed to fix JSON string: Expecting value: line 1 column 1 (char 0)\n",
      "JSONDecodeError: Expecting ',' delimiter: line 3 column 486 (char 514)\n",
      "JSONDecodeError: Expecting ',' delimiter: line 3 column 313 (char 348)\n",
      "JSONDecodeError: Expecting ',' delimiter: line 3 column 513 (char 548)\n",
      "JSONDecodeError: Expecting ',' delimiter: line 3 column 412 (char 447)\n",
      "JSONDecodeError: Expecting ',' delimiter: line 3 column 359 (char 394)\n"
     ]
    },
    {
     "name": "stderr",
     "output_type": "stream",
     "text": [
      "100%|███████████████████████████████████████████████████| 15/15 [00:39<00:00,  2.61s/it]\n"
     ]
    },
    {
     "name": "stdout",
     "output_type": "stream",
     "text": [
      "JSONDecodeError: Expecting value: line 1 column 1 (char 0)\n",
      "Failed to fix JSON string: Expecting value: line 1 column 1 (char 0)\n",
      "JSONDecodeError: Expecting value: line 1 column 1 (char 0)\n",
      "Failed to fix JSON string: Expecting value: line 1 column 1 (char 0)\n",
      "JSONDecodeError: Expecting value: line 1 column 1 (char 0)\n",
      "Failed to fix JSON string: Expecting value: line 1 column 1 (char 0)\n",
      "JSONDecodeError: Expecting ',' delimiter: line 3 column 287 (char 315)\n",
      "JSONDecodeError: Expecting ',' delimiter: line 3 column 420 (char 452)\n",
      "JSONDecodeError: Expecting ',' delimiter: line 3 column 509 (char 544)\n",
      "JSONDecodeError: Expecting ',' delimiter: line 3 column 573 (char 608)\n",
      "JSONDecodeError: Expecting ',' delimiter: line 3 column 412 (char 440)\n",
      "JSONDecodeError: Expecting ',' delimiter: line 3 column 380 (char 415)\n"
     ]
    },
    {
     "name": "stderr",
     "output_type": "stream",
     "text": [
      "100%|███████████████████████████████████████████████████| 15/15 [00:39<00:00,  2.63s/it]\n"
     ]
    },
    {
     "name": "stdout",
     "output_type": "stream",
     "text": [
      "JSONDecodeError: Expecting value: line 1 column 1 (char 0)\n",
      "Failed to fix JSON string: Expecting value: line 1 column 1 (char 0)\n",
      "JSONDecodeError: Expecting ',' delimiter: line 3 column 520 (char 548)\n",
      "JSONDecodeError: Expecting ',' delimiter: line 3 column 342 (char 370)\n",
      "JSONDecodeError: Expecting ',' delimiter: line 3 column 559 (char 594)\n",
      "JSONDecodeError: Expecting value: line 1 column 1 (char 0)\n",
      "Failed to fix JSON string: Expecting value: line 1 column 1 (char 0)\n",
      "JSONDecodeError: Expecting ',' delimiter: line 3 column 570 (char 605)\n",
      "JSONDecodeError: Expecting ',' delimiter: line 3 column 318 (char 344)\n"
     ]
    },
    {
     "name": "stderr",
     "output_type": "stream",
     "text": [
      "100%|███████████████████████████████████████████████████| 15/15 [00:38<00:00,  2.59s/it]\n"
     ]
    },
    {
     "name": "stdout",
     "output_type": "stream",
     "text": [
      "JSONDecodeError: Expecting ',' delimiter: line 3 column 317 (char 345)\n",
      "JSONDecodeError: Unterminated string starting at: line 3 column 18 (char 53)\n",
      "Failed to fix JSON string: Unterminated string starting at: line 3 column 18 (char 53)\n",
      "JSONDecodeError: Expecting value: line 1 column 1 (char 0)\n",
      "Failed to fix JSON string: Expecting value: line 1 column 1 (char 0)\n",
      "JSONDecodeError: Expecting ',' delimiter: line 3 column 810 (char 838)\n",
      "JSONDecodeError: Expecting ',' delimiter: line 3 column 560 (char 595)\n",
      "JSONDecodeError: Invalid \\escape: line 3 column 169 (char 204)\n",
      "Failed to fix JSON string: Invalid \\escape: line 3 column 169 (char 204)\n",
      "JSONDecodeError: Expecting value: line 1 column 1 (char 0)\n",
      "Failed to fix JSON string: Expecting value: line 1 column 1 (char 0)\n",
      "JSONDecodeError: Expecting value: line 1 column 1 (char 0)\n",
      "Failed to fix JSON string: Expecting value: line 1 column 1 (char 0)\n"
     ]
    },
    {
     "name": "stderr",
     "output_type": "stream",
     "text": [
      "100%|███████████████████████████████████████████████████| 15/15 [00:39<00:00,  2.61s/it]\n"
     ]
    },
    {
     "name": "stdout",
     "output_type": "stream",
     "text": [
      "JSONDecodeError: Expecting ',' delimiter: line 3 column 269 (char 297)\n",
      "JSONDecodeError: Expecting ',' delimiter: line 3 column 295 (char 323)\n",
      "JSONDecodeError: Expecting ',' delimiter: line 3 column 376 (char 411)\n",
      "JSONDecodeError: Expecting ',' delimiter: line 3 column 372 (char 400)\n",
      "JSONDecodeError: Expecting ',' delimiter: line 3 column 522 (char 557)\n",
      "JSONDecodeError: Expecting ',' delimiter: line 3 column 525 (char 553)\n",
      "JSONDecodeError: Expecting ',' delimiter: line 3 column 427 (char 455)\n"
     ]
    },
    {
     "name": "stderr",
     "output_type": "stream",
     "text": [
      "100%|███████████████████████████████████████████████████| 15/15 [00:39<00:00,  2.64s/it]\n"
     ]
    },
    {
     "name": "stdout",
     "output_type": "stream",
     "text": [
      "JSONDecodeError: Expecting ',' delimiter: line 3 column 361 (char 389)\n",
      "JSONDecodeError: Expecting ',' delimiter: line 3 column 491 (char 519)\n",
      "JSONDecodeError: Expecting ',' delimiter: line 3 column 581 (char 609)\n",
      "JSONDecodeError: Expecting ',' delimiter: line 3 column 444 (char 479)\n",
      "JSONDecodeError: Expecting ',' delimiter: line 3 column 235 (char 263)\n",
      "JSONDecodeError: Expecting ',' delimiter: line 3 column 243 (char 271)\n",
      "JSONDecodeError: Expecting ',' delimiter: line 3 column 308 (char 340)\n",
      "JSONDecodeError: Expecting ',' delimiter: line 3 column 375 (char 403)\n",
      "JSONDecodeError: Expecting ',' delimiter: line 3 column 499 (char 525)\n",
      "JSONDecodeError: Expecting ',' delimiter: line 3 column 448 (char 483)\n"
     ]
    },
    {
     "name": "stderr",
     "output_type": "stream",
     "text": [
      "100%|███████████████████████████████████████████████████| 15/15 [00:39<00:00,  2.60s/it]\n"
     ]
    },
    {
     "name": "stdout",
     "output_type": "stream",
     "text": [
      "JSONDecodeError: Expecting ',' delimiter: line 3 column 493 (char 528)\n",
      "JSONDecodeError: Expecting ',' delimiter: line 3 column 250 (char 278)\n",
      "JSONDecodeError: Expecting ',' delimiter: line 3 column 346 (char 374)\n",
      "JSONDecodeError: Expecting ',' delimiter: line 3 column 536 (char 562)\n",
      "JSONDecodeError: Expecting ',' delimiter: line 3 column 644 (char 679)\n",
      "JSONDecodeError: Expecting ',' delimiter: line 3 column 337 (char 365)\n",
      "JSONDecodeError: Expecting value: line 1 column 1 (char 0)\n",
      "Failed to fix JSON string: Expecting value: line 1 column 1 (char 0)\n",
      "JSONDecodeError: Expecting ',' delimiter: line 3 column 323 (char 351)\n",
      "JSONDecodeError: Expecting value: line 1 column 1 (char 0)\n",
      "Failed to fix JSON string: Expecting value: line 1 column 1 (char 0)\n"
     ]
    },
    {
     "name": "stderr",
     "output_type": "stream",
     "text": [
      "100%|███████████████████████████████████████████████████| 15/15 [00:39<00:00,  2.65s/it]\n"
     ]
    },
    {
     "name": "stdout",
     "output_type": "stream",
     "text": [
      "JSONDecodeError: Expecting ',' delimiter: line 3 column 470 (char 505)\n",
      "JSONDecodeError: Expecting ',' delimiter: line 3 column 358 (char 386)\n",
      "JSONDecodeError: Expecting ',' delimiter: line 3 column 278 (char 306)\n",
      "JSONDecodeError: Expecting ',' delimiter: line 3 column 274 (char 302)\n",
      "JSONDecodeError: Expecting ',' delimiter: line 3 column 405 (char 433)\n",
      "JSONDecodeError: Expecting ',' delimiter: line 3 column 406 (char 441)\n",
      "JSONDecodeError: Expecting ',' delimiter: line 3 column 475 (char 503)\n"
     ]
    },
    {
     "name": "stderr",
     "output_type": "stream",
     "text": [
      "100%|███████████████████████████████████████████████████| 15/15 [00:38<00:00,  2.59s/it]\n"
     ]
    },
    {
     "name": "stdout",
     "output_type": "stream",
     "text": [
      "JSONDecodeError: Expecting ',' delimiter: line 3 column 397 (char 425)\n",
      "JSONDecodeError: Expecting ',' delimiter: line 3 column 425 (char 460)\n",
      "JSONDecodeError: Expecting ',' delimiter: line 3 column 328 (char 356)\n",
      "JSONDecodeError: Expecting ',' delimiter: line 3 column 220 (char 248)\n",
      "JSONDecodeError: Expecting ',' delimiter: line 3 column 318 (char 346)\n",
      "JSONDecodeError: Expecting ',' delimiter: line 3 column 312 (char 338)\n"
     ]
    },
    {
     "name": "stderr",
     "output_type": "stream",
     "text": [
      "100%|███████████████████████████████████████████████████| 15/15 [00:39<00:00,  2.61s/it]\n"
     ]
    },
    {
     "name": "stdout",
     "output_type": "stream",
     "text": [
      "JSONDecodeError: Expecting ',' delimiter: line 3 column 296 (char 324)\n",
      "JSONDecodeError: Expecting ',' delimiter: line 3 column 316 (char 344)\n",
      "JSONDecodeError: Expecting ',' delimiter: line 3 column 402 (char 437)\n",
      "JSONDecodeError: Expecting ',' delimiter: line 3 column 451 (char 481)\n",
      "JSONDecodeError: Expecting ',' delimiter: line 3 column 342 (char 375)\n",
      "JSONDecodeError: Expecting ',' delimiter: line 3 column 401 (char 434)\n"
     ]
    },
    {
     "name": "stderr",
     "output_type": "stream",
     "text": [
      "100%|███████████████████████████████████████████████████| 15/15 [00:39<00:00,  2.63s/it]\n"
     ]
    },
    {
     "name": "stdout",
     "output_type": "stream",
     "text": [
      "JSONDecodeError: Expecting ',' delimiter: line 3 column 295 (char 323)\n",
      "JSONDecodeError: Expecting value: line 1 column 1 (char 0)\n",
      "Failed to fix JSON string: Expecting value: line 1 column 1 (char 0)\n",
      "JSONDecodeError: Expecting ',' delimiter: line 3 column 463 (char 498)\n",
      "JSONDecodeError: Expecting ',' delimiter: line 3 column 422 (char 454)\n",
      "JSONDecodeError: Expecting ',' delimiter: line 3 column 280 (char 312)\n",
      "JSONDecodeError: Expecting value: line 1 column 1 (char 0)\n",
      "Failed to fix JSON string: Expecting value: line 1 column 1 (char 0)\n",
      "JSONDecodeError: Expecting value: line 1 column 1 (char 0)\n",
      "Failed to fix JSON string: Expecting value: line 1 column 1 (char 0)\n"
     ]
    },
    {
     "name": "stderr",
     "output_type": "stream",
     "text": [
      "100%|███████████████████████████████████████████████████| 15/15 [00:39<00:00,  2.61s/it]\n"
     ]
    },
    {
     "name": "stdout",
     "output_type": "stream",
     "text": [
      "JSONDecodeError: Expecting ',' delimiter: line 3 column 392 (char 420)\n",
      "JSONDecodeError: Expecting ',' delimiter: line 3 column 531 (char 559)\n",
      "JSONDecodeError: Expecting value: line 1 column 1 (char 0)\n",
      "Failed to fix JSON string: Expecting value: line 1 column 1 (char 0)\n",
      "JSONDecodeError: Expecting value: line 1 column 1 (char 0)\n",
      "Failed to fix JSON string: Expecting value: line 1 column 1 (char 0)\n",
      "JSONDecodeError: Expecting ',' delimiter: line 3 column 504 (char 539)\n",
      "JSONDecodeError: Expecting ',' delimiter: line 3 column 402 (char 430)\n",
      "JSONDecodeError: Expecting ',' delimiter: line 3 column 413 (char 439)\n",
      "JSONDecodeError: Expecting ',' delimiter: line 3 column 271 (char 299)\n"
     ]
    },
    {
     "name": "stderr",
     "output_type": "stream",
     "text": [
      "100%|███████████████████████████████████████████████████| 15/15 [00:39<00:00,  2.64s/it]\n"
     ]
    },
    {
     "name": "stdout",
     "output_type": "stream",
     "text": [
      "JSONDecodeError: Expecting value: line 1 column 1 (char 0)\n",
      "Failed to fix JSON string: Expecting value: line 1 column 1 (char 0)\n",
      "JSONDecodeError: Expecting value: line 1 column 1 (char 0)\n",
      "Failed to fix JSON string: Expecting value: line 1 column 1 (char 0)\n",
      "JSONDecodeError: Expecting ',' delimiter: line 3 column 507 (char 542)\n",
      "JSONDecodeError: Expecting ',' delimiter: line 3 column 483 (char 518)\n",
      "JSONDecodeError: Expecting ',' delimiter: line 3 column 449 (char 484)\n",
      "JSONDecodeError: Expecting ',' delimiter: line 3 column 341 (char 369)\n",
      "JSONDecodeError: Expecting ',' delimiter: line 3 column 373 (char 408)\n",
      "JSONDecodeError: Expecting ',' delimiter: line 3 column 256 (char 284)\n",
      "JSONDecodeError: Expecting ',' delimiter: line 3 column 503 (char 538)\n"
     ]
    },
    {
     "name": "stderr",
     "output_type": "stream",
     "text": [
      "100%|███████████████████████████████████████████████████| 15/15 [00:39<00:00,  2.61s/it]\n"
     ]
    },
    {
     "name": "stdout",
     "output_type": "stream",
     "text": [
      "JSONDecodeError: Expecting ',' delimiter: line 3 column 364 (char 396)\n",
      "JSONDecodeError: Expecting ',' delimiter: line 3 column 490 (char 522)\n",
      "JSONDecodeError: Expecting value: line 1 column 1 (char 0)\n",
      "Failed to fix JSON string: Expecting value: line 1 column 1 (char 0)\n",
      "JSONDecodeError: Expecting ',' delimiter: line 3 column 258 (char 286)\n",
      "JSONDecodeError: Expecting ',' delimiter: line 3 column 502 (char 537)\n",
      "JSONDecodeError: Expecting ',' delimiter: line 3 column 364 (char 399)\n",
      "JSONDecodeError: Expecting ',' delimiter: line 3 column 474 (char 502)\n"
     ]
    },
    {
     "name": "stderr",
     "output_type": "stream",
     "text": [
      "100%|███████████████████████████████████████████████████| 15/15 [00:39<00:00,  2.63s/it]\n"
     ]
    },
    {
     "name": "stdout",
     "output_type": "stream",
     "text": [
      "JSONDecodeError: Expecting ',' delimiter: line 3 column 343 (char 371)\n",
      "JSONDecodeError: Expecting ',' delimiter: line 3 column 606 (char 634)\n",
      "JSONDecodeError: Expecting ',' delimiter: line 3 column 482 (char 517)\n",
      "JSONDecodeError: Expecting ',' delimiter: line 3 column 379 (char 407)\n",
      "JSONDecodeError: Expecting value: line 1 column 1 (char 0)\n",
      "Failed to fix JSON string: Expecting value: line 1 column 1 (char 0)\n",
      "JSONDecodeError: Expecting value: line 1 column 1 (char 0)\n",
      "Failed to fix JSON string: Expecting value: line 1 column 1 (char 0)\n",
      "JSONDecodeError: Expecting ',' delimiter: line 3 column 372 (char 407)\n"
     ]
    },
    {
     "name": "stderr",
     "output_type": "stream",
     "text": [
      "100%|███████████████████████████████████████████████████| 15/15 [00:38<00:00,  2.58s/it]\n"
     ]
    },
    {
     "name": "stdout",
     "output_type": "stream",
     "text": [
      "JSONDecodeError: Expecting ',' delimiter: line 3 column 293 (char 321)\n",
      "JSONDecodeError: Expecting ',' delimiter: line 3 column 213 (char 241)\n",
      "JSONDecodeError: Expecting ',' delimiter: line 3 column 276 (char 304)\n",
      "JSONDecodeError: Expecting ',' delimiter: line 3 column 352 (char 378)\n",
      "JSONDecodeError: Expecting ',' delimiter: line 3 column 263 (char 291)\n",
      "JSONDecodeError: Expecting ',' delimiter: line 3 column 491 (char 519)\n",
      "JSONDecodeError: Expecting ',' delimiter: line 3 column 399 (char 427)\n",
      "JSONDecodeError: Expecting ',' delimiter: line 3 column 465 (char 491)\n"
     ]
    },
    {
     "name": "stderr",
     "output_type": "stream",
     "text": [
      "100%|████████████████████████████| 15/15 [00:38<00:00,  2.58s/it]\n"
     ]
    },
    {
     "name": "stdout",
     "output_type": "stream",
     "text": [
      "JSONDecodeError: Expecting ',' delimiter: line 3 column 285 (char 311)\n",
      "JSONDecodeError: Expecting ',' delimiter: line 3 column 266 (char 294)\n",
      "JSONDecodeError: Expecting ',' delimiter: line 3 column 408 (char 443)\n",
      "JSONDecodeError: Expecting ',' delimiter: line 3 column 256 (char 284)\n",
      "JSONDecodeError: Expecting ',' delimiter: line 3 column 268 (char 296)\n",
      "JSONDecodeError: Expecting ',' delimiter: line 3 column 311 (char 339)\n",
      "JSONDecodeError: Expecting ',' delimiter: line 3 column 210 (char 236)\n",
      "JSONDecodeError: Expecting ',' delimiter: line 3 column 208 (char 236)\n",
      "JSONDecodeError: Expecting ',' delimiter: line 3 column 471 (char 499)\n"
     ]
    },
    {
     "name": "stderr",
     "output_type": "stream",
     "text": [
      "100%|████████████████████████████| 15/15 [00:38<00:00,  2.60s/it]\n"
     ]
    },
    {
     "name": "stdout",
     "output_type": "stream",
     "text": [
      "JSONDecodeError: Expecting ',' delimiter: line 3 column 386 (char 414)\n",
      "JSONDecodeError: Expecting ',' delimiter: line 3 column 319 (char 347)\n",
      "JSONDecodeError: Expecting ',' delimiter: line 3 column 429 (char 457)\n",
      "JSONDecodeError: Expecting ',' delimiter: line 3 column 427 (char 455)\n"
     ]
    },
    {
     "name": "stderr",
     "output_type": "stream",
     "text": [
      "100%|████████████████████████████| 15/15 [00:38<00:00,  2.59s/it]\n"
     ]
    },
    {
     "name": "stdout",
     "output_type": "stream",
     "text": [
      "JSONDecodeError: Expecting ',' delimiter: line 3 column 509 (char 544)\n",
      "JSONDecodeError: Expecting ',' delimiter: line 3 column 444 (char 479)\n",
      "JSONDecodeError: Expecting ',' delimiter: line 3 column 297 (char 325)\n",
      "JSONDecodeError: Expecting ',' delimiter: line 3 column 261 (char 289)\n",
      "JSONDecodeError: Expecting ',' delimiter: line 3 column 404 (char 439)\n",
      "JSONDecodeError: Expecting value: line 1 column 1 (char 0)\n",
      "Failed to fix JSON string: Expecting value: line 1 column 1 (char 0)\n"
     ]
    },
    {
     "name": "stderr",
     "output_type": "stream",
     "text": [
      "100%|███████████████████████████████████████████████████| 15/15 [00:39<00:00,  2.64s/it]\n"
     ]
    },
    {
     "name": "stdout",
     "output_type": "stream",
     "text": [
      "JSONDecodeError: Expecting ',' delimiter: line 3 column 484 (char 517)\n",
      "JSONDecodeError: Expecting ',' delimiter: line 3 column 365 (char 393)\n",
      "JSONDecodeError: Expecting value: line 1 column 1 (char 0)\n",
      "Failed to fix JSON string: Expecting value: line 1 column 1 (char 0)\n"
     ]
    },
    {
     "name": "stderr",
     "output_type": "stream",
     "text": [
      "100%|███████████████████████████████████████████████████| 15/15 [00:39<00:00,  2.65s/it]\n"
     ]
    },
    {
     "name": "stdout",
     "output_type": "stream",
     "text": [
      "JSONDecodeError: Expecting ',' delimiter: line 3 column 301 (char 329)\n",
      "JSONDecodeError: Expecting ',' delimiter: line 3 column 212 (char 240)\n",
      "JSONDecodeError: Expecting ',' delimiter: line 3 column 202 (char 230)\n",
      "JSONDecodeError: Expecting ',' delimiter: line 3 column 398 (char 426)\n",
      "JSONDecodeError: Expecting ',' delimiter: line 3 column 464 (char 499)\n",
      "JSONDecodeError: Expecting ',' delimiter: line 3 column 562 (char 597)\n",
      "JSONDecodeError: Expecting value: line 1 column 1 (char 0)\n",
      "Failed to fix JSON string: Expecting value: line 1 column 1 (char 0)\n",
      "JSONDecodeError: Expecting ',' delimiter: line 3 column 390 (char 422)\n"
     ]
    },
    {
     "name": "stderr",
     "output_type": "stream",
     "text": [
      "100%|███████████████████████████████████████████████████| 15/15 [00:39<00:00,  2.64s/it]\n"
     ]
    },
    {
     "name": "stdout",
     "output_type": "stream",
     "text": [
      "JSONDecodeError: Expecting value: line 1 column 1 (char 0)\n",
      "Failed to fix JSON string: Expecting value: line 1 column 1 (char 0)\n",
      "JSONDecodeError: Expecting ',' delimiter: line 3 column 575 (char 610)\n",
      "JSONDecodeError: Expecting ',' delimiter: line 3 column 609 (char 644)\n",
      "JSONDecodeError: Expecting ',' delimiter: line 3 column 332 (char 367)\n",
      "JSONDecodeError: Expecting value: line 1 column 1 (char 0)\n",
      "Failed to fix JSON string: Expecting value: line 1 column 1 (char 0)\n",
      "JSONDecodeError: Expecting ',' delimiter: line 3 column 519 (char 547)\n",
      "JSONDecodeError: Expecting value: line 1 column 1 (char 0)\n",
      "Failed to fix JSON string: Expecting value: line 1 column 1 (char 0)\n",
      "JSONDecodeError: Expecting ',' delimiter: line 3 column 454 (char 482)\n",
      "JSONDecodeError: Expecting ',' delimiter: line 3 column 603 (char 638)\n",
      "JSONDecodeError: Expecting ',' delimiter: line 3 column 529 (char 557)\n",
      "JSONDecodeError: Expecting ',' delimiter: line 3 column 537 (char 565)\n"
     ]
    },
    {
     "name": "stderr",
     "output_type": "stream",
     "text": [
      "100%|███████████████████████████████████████████████████| 15/15 [00:39<00:00,  2.62s/it]\n"
     ]
    },
    {
     "name": "stdout",
     "output_type": "stream",
     "text": [
      "JSONDecodeError: Expecting ',' delimiter: line 3 column 308 (char 343)\n",
      "JSONDecodeError: Expecting value: line 1 column 1 (char 0)\n",
      "Failed to fix JSON string: Expecting value: line 1 column 1 (char 0)\n",
      "JSONDecodeError: Expecting ',' delimiter: line 3 column 412 (char 444)\n",
      "JSONDecodeError: Expecting ',' delimiter: line 3 column 257 (char 285)\n",
      "JSONDecodeError: Expecting ',' delimiter: line 3 column 315 (char 343)\n",
      "JSONDecodeError: Expecting value: line 1 column 1 (char 0)\n",
      "Failed to fix JSON string: Expecting value: line 1 column 1 (char 0)\n",
      "JSONDecodeError: Expecting ',' delimiter: line 3 column 269 (char 297)\n",
      "JSONDecodeError: Expecting ',' delimiter: line 3 column 440 (char 468)\n",
      "JSONDecodeError: Expecting ',' delimiter: line 3 column 387 (char 419)\n",
      "JSONDecodeError: Expecting value: line 1 column 1 (char 0)\n",
      "Failed to fix JSON string: Expecting value: line 1 column 1 (char 0)\n",
      "JSONDecodeError: Expecting value: line 1 column 1 (char 0)\n",
      "Failed to fix JSON string: Expecting value: line 1 column 1 (char 0)\n"
     ]
    },
    {
     "name": "stderr",
     "output_type": "stream",
     "text": [
      "100%|███████████████████████████████████████████████████| 15/15 [00:39<00:00,  2.64s/it]\n"
     ]
    },
    {
     "name": "stdout",
     "output_type": "stream",
     "text": [
      "JSONDecodeError: Expecting ',' delimiter: line 3 column 342 (char 370)\n",
      "JSONDecodeError: Expecting ',' delimiter: line 3 column 332 (char 360)\n",
      "JSONDecodeError: Expecting ',' delimiter: line 3 column 315 (char 350)\n",
      "JSONDecodeError: Expecting ',' delimiter: line 3 column 252 (char 280)\n",
      "JSONDecodeError: Expecting ',' delimiter: line 3 column 438 (char 473)\n",
      "JSONDecodeError: Expecting ',' delimiter: line 3 column 390 (char 425)\n",
      "JSONDecodeError: Expecting ',' delimiter: line 3 column 297 (char 325)\n",
      "JSONDecodeError: Expecting value: line 1 column 1 (char 0)\n",
      "Failed to fix JSON string: Expecting value: line 1 column 1 (char 0)\n",
      "JSONDecodeError: Expecting ',' delimiter: line 3 column 506 (char 541)\n",
      "JSONDecodeError: Expecting value: line 1 column 1 (char 0)\n",
      "Failed to fix JSON string: Expecting value: line 1 column 1 (char 0)\n"
     ]
    },
    {
     "name": "stderr",
     "output_type": "stream",
     "text": [
      "100%|███████████████████████████████████████████████████| 15/15 [00:39<00:00,  2.63s/it]\n"
     ]
    },
    {
     "name": "stdout",
     "output_type": "stream",
     "text": [
      "JSONDecodeError: Expecting value: line 1 column 1 (char 0)\n",
      "Failed to fix JSON string: Expecting value: line 1 column 1 (char 0)\n",
      "JSONDecodeError: Expecting ',' delimiter: line 3 column 498 (char 533)\n"
     ]
    },
    {
     "name": "stderr",
     "output_type": "stream",
     "text": [
      "100%|███████████████████████████████████████████████████| 15/15 [00:39<00:00,  2.62s/it]\n"
     ]
    },
    {
     "name": "stdout",
     "output_type": "stream",
     "text": [
      "JSONDecodeError: Expecting ',' delimiter: line 3 column 556 (char 584)\n",
      "JSONDecodeError: Expecting ',' delimiter: line 3 column 505 (char 540)\n",
      "JSONDecodeError: Expecting value: line 1 column 1 (char 0)\n",
      "Failed to fix JSON string: Expecting value: line 1 column 1 (char 0)\n",
      "JSONDecodeError: Expecting value: line 1 column 1 (char 0)\n",
      "Failed to fix JSON string: Expecting value: line 1 column 1 (char 0)\n",
      "JSONDecodeError: Expecting ',' delimiter: line 3 column 577 (char 605)\n",
      "JSONDecodeError: Expecting ',' delimiter: line 3 column 535 (char 570)\n",
      "JSONDecodeError: Expecting ',' delimiter: line 3 column 603 (char 636)\n",
      "JSONDecodeError: Expecting ',' delimiter: line 3 column 341 (char 369)\n",
      "JSONDecodeError: Expecting ',' delimiter: line 3 column 259 (char 287)\n",
      "JSONDecodeError: Expecting ',' delimiter: line 3 column 595 (char 630)\n"
     ]
    },
    {
     "name": "stderr",
     "output_type": "stream",
     "text": [
      "100%|███████████████████████████████████████████████████| 15/15 [00:39<00:00,  2.65s/it]\n"
     ]
    },
    {
     "name": "stdout",
     "output_type": "stream",
     "text": [
      "JSONDecodeError: Expecting value: line 1 column 1 (char 0)\n",
      "Failed to fix JSON string: Expecting value: line 1 column 1 (char 0)\n",
      "JSONDecodeError: Expecting ',' delimiter: line 3 column 224 (char 252)\n",
      "JSONDecodeError: Expecting ',' delimiter: line 3 column 413 (char 441)\n",
      "JSONDecodeError: Expecting ',' delimiter: line 3 column 446 (char 474)\n",
      "JSONDecodeError: Expecting ',' delimiter: line 3 column 425 (char 457)\n",
      "JSONDecodeError: Expecting value: line 1 column 1 (char 0)\n",
      "Failed to fix JSON string: Expecting value: line 1 column 1 (char 0)\n",
      "JSONDecodeError: Expecting ',' delimiter: line 3 column 637 (char 665)\n",
      "JSONDecodeError: Expecting ',' delimiter: line 3 column 411 (char 439)\n"
     ]
    },
    {
     "name": "stderr",
     "output_type": "stream",
     "text": [
      "100%|███████████████████████████████████████████████████| 15/15 [00:39<00:00,  2.64s/it]\n"
     ]
    },
    {
     "name": "stdout",
     "output_type": "stream",
     "text": [
      "JSONDecodeError: Expecting ',' delimiter: line 3 column 270 (char 302)\n",
      "JSONDecodeError: Expecting ',' delimiter: line 3 column 350 (char 380)\n",
      "JSONDecodeError: Expecting ',' delimiter: line 3 column 414 (char 442)\n",
      "JSONDecodeError: Expecting ',' delimiter: line 3 column 311 (char 339)\n",
      "JSONDecodeError: Expecting ',' delimiter: line 3 column 355 (char 383)\n",
      "JSONDecodeError: Expecting ',' delimiter: line 3 column 369 (char 397)\n",
      "JSONDecodeError: Expecting value: line 1 column 1 (char 0)\n",
      "Failed to fix JSON string: Expecting value: line 1 column 1 (char 0)\n"
     ]
    },
    {
     "name": "stderr",
     "output_type": "stream",
     "text": [
      "100%|████████████████████████████| 15/15 [00:39<00:00,  2.62s/it]\n"
     ]
    },
    {
     "name": "stdout",
     "output_type": "stream",
     "text": [
      "JSONDecodeError: Expecting ',' delimiter: line 3 column 418 (char 448)\n",
      "JSONDecodeError: Expecting ',' delimiter: line 3 column 504 (char 532)\n",
      "JSONDecodeError: Expecting ',' delimiter: line 3 column 421 (char 449)\n",
      "JSONDecodeError: Expecting ',' delimiter: line 3 column 340 (char 368)\n",
      "JSONDecodeError: Expecting ',' delimiter: line 3 column 365 (char 393)\n",
      "JSONDecodeError: Expecting ',' delimiter: line 3 column 422 (char 450)\n",
      "JSONDecodeError: Expecting ',' delimiter: line 3 column 380 (char 406)\n"
     ]
    },
    {
     "name": "stderr",
     "output_type": "stream",
     "text": [
      "100%|████████████████████████████| 15/15 [00:39<00:00,  2.63s/it]\n"
     ]
    },
    {
     "name": "stdout",
     "output_type": "stream",
     "text": [
      "JSONDecodeError: Expecting ',' delimiter: line 3 column 303 (char 335)\n",
      "JSONDecodeError: Expecting ',' delimiter: line 3 column 267 (char 297)\n",
      "JSONDecodeError: Expecting ',' delimiter: line 3 column 346 (char 378)\n",
      "JSONDecodeError: Expecting ',' delimiter: line 3 column 738 (char 773)\n",
      "JSONDecodeError: Expecting ',' delimiter: line 3 column 427 (char 455)\n",
      "JSONDecodeError: Expecting ',' delimiter: line 3 column 433 (char 466)\n"
     ]
    },
    {
     "name": "stderr",
     "output_type": "stream",
     "text": [
      "100%|████████████████████████████| 15/15 [00:38<00:00,  2.59s/it]\n"
     ]
    },
    {
     "name": "stdout",
     "output_type": "stream",
     "text": [
      "JSONDecodeError: Expecting value: line 1 column 1 (char 0)\n",
      "Failed to fix JSON string: Expecting value: line 1 column 1 (char 0)\n",
      "JSONDecodeError: Expecting ',' delimiter: line 3 column 499 (char 534)\n",
      "JSONDecodeError: Expecting ',' delimiter: line 3 column 416 (char 451)\n",
      "JSONDecodeError: Expecting ',' delimiter: line 3 column 382 (char 417)\n",
      "JSONDecodeError: Expecting ',' delimiter: line 3 column 286 (char 312)\n",
      "JSONDecodeError: Expecting ',' delimiter: line 3 column 301 (char 329)\n",
      "JSONDecodeError: Expecting ',' delimiter: line 3 column 289 (char 317)\n",
      "JSONDecodeError: Expecting ',' delimiter: line 3 column 350 (char 378)\n",
      "JSONDecodeError: Expecting ',' delimiter: line 3 column 340 (char 368)\n",
      "JSONDecodeError: Expecting ',' delimiter: line 3 column 201 (char 229)\n"
     ]
    },
    {
     "name": "stderr",
     "output_type": "stream",
     "text": [
      "100%|████████████████████████████| 15/15 [00:39<00:00,  2.61s/it]\n"
     ]
    },
    {
     "name": "stdout",
     "output_type": "stream",
     "text": [
      "JSONDecodeError: Expecting ',' delimiter: line 3 column 156 (char 184)\n",
      "JSONDecodeError: Expecting value: line 1 column 1 (char 0)\n",
      "Failed to fix JSON string: Expecting value: line 1 column 1 (char 0)\n",
      "JSONDecodeError: Expecting value: line 1 column 1 (char 0)\n",
      "Failed to fix JSON string: Expecting value: line 1 column 1 (char 0)\n",
      "JSONDecodeError: Expecting ',' delimiter: line 3 column 435 (char 467)\n",
      "JSONDecodeError: Expecting value: line 1 column 1 (char 0)\n",
      "Failed to fix JSON string: Expecting value: line 1 column 1 (char 0)\n",
      "JSONDecodeError: Expecting ',' delimiter: line 3 column 548 (char 576)\n",
      "JSONDecodeError: Expecting value: line 1 column 1 (char 0)\n",
      "Failed to fix JSON string: Expecting value: line 1 column 1 (char 0)\n"
     ]
    },
    {
     "name": "stderr",
     "output_type": "stream",
     "text": [
      "100%|████████████████████████████| 15/15 [00:39<00:00,  2.61s/it]\n"
     ]
    },
    {
     "name": "stdout",
     "output_type": "stream",
     "text": [
      "JSONDecodeError: Expecting value: line 1 column 1 (char 0)\n",
      "Failed to fix JSON string: Expecting value: line 1 column 1 (char 0)\n",
      "JSONDecodeError: Expecting ',' delimiter: line 3 column 291 (char 319)\n",
      "JSONDecodeError: Expecting ',' delimiter: line 3 column 381 (char 407)\n",
      "JSONDecodeError: Expecting ',' delimiter: line 3 column 276 (char 304)\n",
      "JSONDecodeError: Expecting value: line 1 column 1 (char 0)\n",
      "Failed to fix JSON string: Expecting value: line 1 column 1 (char 0)\n",
      "JSONDecodeError: Expecting value: line 1 column 1 (char 0)\n",
      "Failed to fix JSON string: Expecting value: line 1 column 1 (char 0)\n",
      "JSONDecodeError: Expecting ',' delimiter: line 3 column 468 (char 496)\n"
     ]
    },
    {
     "name": "stderr",
     "output_type": "stream",
     "text": [
      "100%|████████████████████████████| 15/15 [00:39<00:00,  2.62s/it]\n"
     ]
    },
    {
     "name": "stdout",
     "output_type": "stream",
     "text": [
      "JSONDecodeError: Expecting ',' delimiter: line 3 column 459 (char 494)\n",
      "JSONDecodeError: Expecting ',' delimiter: line 3 column 261 (char 289)\n",
      "JSONDecodeError: Expecting ',' delimiter: line 3 column 318 (char 346)\n",
      "JSONDecodeError: Expecting ',' delimiter: line 3 column 376 (char 408)\n",
      "JSONDecodeError: Expecting ',' delimiter: line 3 column 268 (char 300)\n",
      "JSONDecodeError: Expecting ',' delimiter: line 3 column 215 (char 241)\n",
      "JSONDecodeError: Expecting ',' delimiter: line 3 column 344 (char 376)\n",
      "JSONDecodeError: Expecting value: line 1 column 1 (char 0)\n",
      "Failed to fix JSON string: Expecting value: line 1 column 1 (char 0)\n",
      "JSONDecodeError: Expecting ',' delimiter: line 3 column 417 (char 452)\n",
      "JSONDecodeError: Expecting ',' delimiter: line 3 column 370 (char 402)\n",
      "JSONDecodeError: Expecting value: line 1 column 1 (char 0)\n",
      "Failed to fix JSON string: Expecting value: line 1 column 1 (char 0)\n"
     ]
    },
    {
     "name": "stderr",
     "output_type": "stream",
     "text": [
      "100%|███████████████████████████████████████████████████| 15/15 [00:39<00:00,  2.62s/it]\n"
     ]
    },
    {
     "name": "stdout",
     "output_type": "stream",
     "text": [
      "JSONDecodeError: Expecting value: line 1 column 1 (char 0)\n",
      "Failed to fix JSON string: Expecting value: line 1 column 1 (char 0)\n",
      "JSONDecodeError: Expecting value: line 1 column 1 (char 0)\n",
      "Failed to fix JSON string: Expecting value: line 1 column 1 (char 0)\n",
      "JSONDecodeError: Expecting ',' delimiter: line 3 column 358 (char 393)\n",
      "JSONDecodeError: Expecting ',' delimiter: line 3 column 208 (char 240)\n",
      "JSONDecodeError: Expecting value: line 1 column 1 (char 0)\n",
      "Failed to fix JSON string: Expecting value: line 1 column 1 (char 0)\n",
      "JSONDecodeError: Expecting ',' delimiter: line 3 column 252 (char 284)\n",
      "JSONDecodeError: Expecting value: line 1 column 1 (char 0)\n",
      "Failed to fix JSON string: Expecting value: line 1 column 1 (char 0)\n",
      "JSONDecodeError: Expecting value: line 1 column 1 (char 0)\n",
      "Failed to fix JSON string: Expecting value: line 1 column 1 (char 0)\n"
     ]
    },
    {
     "name": "stderr",
     "output_type": "stream",
     "text": [
      "100%|███████████████████████████████████████████████████| 15/15 [00:39<00:00,  2.64s/it]\n"
     ]
    },
    {
     "name": "stdout",
     "output_type": "stream",
     "text": [
      "JSONDecodeError: Expecting ',' delimiter: line 3 column 324 (char 356)\n",
      "JSONDecodeError: Expecting ',' delimiter: line 3 column 476 (char 504)\n",
      "JSONDecodeError: Expecting ',' delimiter: line 3 column 351 (char 386)\n",
      "JSONDecodeError: Expecting ',' delimiter: line 3 column 380 (char 408)\n",
      "JSONDecodeError: Expecting ',' delimiter: line 3 column 277 (char 305)\n",
      "JSONDecodeError: Expecting ',' delimiter: line 3 column 518 (char 544)\n",
      "JSONDecodeError: Expecting ',' delimiter: line 3 column 529 (char 564)\n",
      "JSONDecodeError: Expecting ',' delimiter: line 3 column 569 (char 604)\n",
      "JSONDecodeError: Expecting ',' delimiter: line 3 column 301 (char 329)\n",
      "JSONDecodeError: Expecting value: line 1 column 1 (char 0)\n",
      "Failed to fix JSON string: Expecting value: line 1 column 1 (char 0)\n"
     ]
    },
    {
     "name": "stderr",
     "output_type": "stream",
     "text": [
      "100%|███████████████████████████████████████████████████| 15/15 [00:39<00:00,  2.64s/it]\n"
     ]
    },
    {
     "name": "stdout",
     "output_type": "stream",
     "text": [
      "JSONDecodeError: Expecting ',' delimiter: line 3 column 303 (char 331)\n",
      "JSONDecodeError: Expecting ',' delimiter: line 3 column 369 (char 397)\n",
      "JSONDecodeError: Expecting ',' delimiter: line 3 column 339 (char 365)\n",
      "JSONDecodeError: Expecting ',' delimiter: line 3 column 319 (char 347)\n",
      "JSONDecodeError: Expecting ',' delimiter: line 3 column 302 (char 328)\n",
      "JSONDecodeError: Expecting value: line 1 column 1 (char 0)\n",
      "Failed to fix JSON string: Expecting value: line 1 column 1 (char 0)\n",
      "JSONDecodeError: Expecting ',' delimiter: line 3 column 486 (char 521)\n",
      "JSONDecodeError: Expecting ',' delimiter: line 3 column 523 (char 551)\n",
      "JSONDecodeError: Expecting value: line 1 column 1 (char 0)\n",
      "Failed to fix JSON string: Expecting value: line 1 column 1 (char 0)\n",
      "JSONDecodeError: Expecting ',' delimiter: line 3 column 650 (char 685)\n"
     ]
    },
    {
     "name": "stderr",
     "output_type": "stream",
     "text": [
      "100%|███████████████████████████████████████████████████| 15/15 [00:39<00:00,  2.64s/it]\n"
     ]
    },
    {
     "name": "stdout",
     "output_type": "stream",
     "text": [
      "JSONDecodeError: Expecting value: line 1 column 1 (char 0)\n",
      "Failed to fix JSON string: Expecting value: line 1 column 1 (char 0)\n",
      "JSONDecodeError: Expecting ',' delimiter: line 3 column 363 (char 396)\n",
      "JSONDecodeError: Expecting value: line 1 column 1 (char 0)\n",
      "Failed to fix JSON string: Expecting value: line 1 column 1 (char 0)\n",
      "JSONDecodeError: Expecting ',' delimiter: line 3 column 501 (char 529)\n",
      "JSONDecodeError: Expecting ',' delimiter: line 3 column 253 (char 281)\n",
      "JSONDecodeError: Expecting ',' delimiter: line 3 column 313 (char 341)\n",
      "JSONDecodeError: Expecting ',' delimiter: line 3 column 391 (char 419)\n",
      "JSONDecodeError: Expecting ',' delimiter: line 3 column 392 (char 420)\n"
     ]
    },
    {
     "name": "stderr",
     "output_type": "stream",
     "text": [
      "100%|███████████████████████████████████████████████████| 15/15 [00:39<00:00,  2.66s/it]\n"
     ]
    },
    {
     "name": "stdout",
     "output_type": "stream",
     "text": [
      "JSONDecodeError: Expecting ',' delimiter: line 3 column 259 (char 287)\n",
      "JSONDecodeError: Expecting ',' delimiter: line 3 column 520 (char 553)\n",
      "JSONDecodeError: Expecting ',' delimiter: line 3 column 375 (char 410)\n",
      "JSONDecodeError: Expecting ',' delimiter: line 3 column 451 (char 479)\n",
      "JSONDecodeError: Expecting ',' delimiter: line 3 column 823 (char 849)\n",
      "JSONDecodeError: Expecting value: line 1 column 1 (char 0)\n",
      "Failed to fix JSON string: Expecting value: line 1 column 1 (char 0)\n"
     ]
    },
    {
     "name": "stderr",
     "output_type": "stream",
     "text": [
      "100%|███████████████████████████████████████████████████| 15/15 [00:39<00:00,  2.65s/it]\n"
     ]
    },
    {
     "name": "stdout",
     "output_type": "stream",
     "text": [
      "JSONDecodeError: Expecting ',' delimiter: line 3 column 341 (char 369)\n",
      "JSONDecodeError: Expecting ',' delimiter: line 3 column 371 (char 403)\n",
      "JSONDecodeError: Expecting ',' delimiter: line 3 column 389 (char 417)\n",
      "JSONDecodeError: Expecting value: line 1 column 1 (char 0)\n",
      "Failed to fix JSON string: Expecting value: line 1 column 1 (char 0)\n",
      "JSONDecodeError: Expecting ',' delimiter: line 3 column 644 (char 679)\n",
      "JSONDecodeError: Expecting ',' delimiter: line 3 column 530 (char 558)\n",
      "JSONDecodeError: Expecting ',' delimiter: line 3 column 539 (char 574)\n"
     ]
    },
    {
     "name": "stderr",
     "output_type": "stream",
     "text": [
      "100%|████████████████████████████| 15/15 [00:40<00:00,  2.71s/it]\n"
     ]
    },
    {
     "name": "stdout",
     "output_type": "stream",
     "text": [
      "JSONDecodeError: Expecting ',' delimiter: line 3 column 438 (char 466)\n",
      "JSONDecodeError: Expecting ',' delimiter: line 3 column 608 (char 634)\n",
      "JSONDecodeError: Expecting ',' delimiter: line 3 column 493 (char 521)\n",
      "JSONDecodeError: Expecting ',' delimiter: line 3 column 436 (char 468)\n",
      "JSONDecodeError: Expecting ',' delimiter: line 3 column 400 (char 428)\n",
      "JSONDecodeError: Expecting ',' delimiter: line 3 column 489 (char 517)\n",
      "JSONDecodeError: Expecting ',' delimiter: line 3 column 432 (char 467)\n",
      "JSONDecodeError: Expecting ',' delimiter: line 3 column 427 (char 462)\n"
     ]
    },
    {
     "name": "stderr",
     "output_type": "stream",
     "text": [
      "100%|███████████████████████████████████████████████████| 15/15 [00:39<00:00,  2.62s/it]\n"
     ]
    },
    {
     "name": "stdout",
     "output_type": "stream",
     "text": [
      "JSONDecodeError: Expecting ',' delimiter: line 3 column 467 (char 502)\n",
      "JSONDecodeError: Expecting ',' delimiter: line 3 column 478 (char 506)\n",
      "JSONDecodeError: Expecting ',' delimiter: line 3 column 445 (char 473)\n",
      "JSONDecodeError: Expecting ',' delimiter: line 3 column 321 (char 349)\n",
      "JSONDecodeError: Expecting ',' delimiter: line 3 column 370 (char 398)\n",
      "JSONDecodeError: Expecting ',' delimiter: line 3 column 343 (char 375)\n",
      "JSONDecodeError: Expecting ',' delimiter: line 3 column 328 (char 360)\n",
      "JSONDecodeError: Expecting ',' delimiter: line 3 column 401 (char 434)\n",
      "JSONDecodeError: Expecting ',' delimiter: line 3 column 528 (char 556)\n"
     ]
    },
    {
     "name": "stderr",
     "output_type": "stream",
     "text": [
      "100%|███████████████████████████████████████████████████| 15/15 [00:38<00:00,  2.59s/it]\n"
     ]
    },
    {
     "name": "stdout",
     "output_type": "stream",
     "text": [
      "JSONDecodeError: Expecting value: line 1 column 1 (char 0)\n",
      "Failed to fix JSON string: Expecting value: line 1 column 1 (char 0)\n",
      "JSONDecodeError: Expecting ',' delimiter: line 3 column 248 (char 276)\n",
      "JSONDecodeError: Expecting value: line 1 column 1 (char 0)\n",
      "Failed to fix JSON string: Expecting value: line 1 column 1 (char 0)\n",
      "JSONDecodeError: Expecting ',' delimiter: line 3 column 307 (char 337)\n",
      "JSONDecodeError: Expecting value: line 1 column 1 (char 0)\n",
      "Failed to fix JSON string: Expecting value: line 1 column 1 (char 0)\n",
      "JSONDecodeError: Expecting ',' delimiter: line 3 column 551 (char 586)\n",
      "JSONDecodeError: Expecting ',' delimiter: line 3 column 490 (char 522)\n",
      "JSONDecodeError: Expecting ',' delimiter: line 3 column 469 (char 499)\n",
      "JSONDecodeError: Expecting ',' delimiter: line 3 column 302 (char 334)\n"
     ]
    },
    {
     "name": "stderr",
     "output_type": "stream",
     "text": [
      "100%|███████████████████████████████████████████████████| 15/15 [00:39<00:00,  2.62s/it]\n"
     ]
    },
    {
     "name": "stdout",
     "output_type": "stream",
     "text": [
      "JSONDecodeError: Expecting ',' delimiter: line 3 column 332 (char 364)\n",
      "JSONDecodeError: Expecting ',' delimiter: line 3 column 420 (char 448)\n",
      "JSONDecodeError: Expecting ',' delimiter: line 3 column 444 (char 472)\n",
      "JSONDecodeError: Expecting ',' delimiter: line 3 column 471 (char 506)\n",
      "JSONDecodeError: Expecting value: line 1 column 1 (char 0)\n",
      "Failed to fix JSON string: Expecting value: line 1 column 1 (char 0)\n",
      "JSONDecodeError: Expecting ',' delimiter: line 3 column 521 (char 556)\n",
      "JSONDecodeError: Expecting ',' delimiter: line 3 column 460 (char 488)\n"
     ]
    },
    {
     "name": "stderr",
     "output_type": "stream",
     "text": [
      "100%|███████████████████████████████████████████████████| 15/15 [00:39<00:00,  2.63s/it]\n"
     ]
    },
    {
     "name": "stdout",
     "output_type": "stream",
     "text": [
      "JSONDecodeError: Expecting value: line 1 column 1 (char 0)\n",
      "Failed to fix JSON string: Expecting value: line 1 column 1 (char 0)\n",
      "JSONDecodeError: Expecting value: line 1 column 1 (char 0)\n",
      "Failed to fix JSON string: Expecting value: line 1 column 1 (char 0)\n",
      "JSONDecodeError: Expecting ',' delimiter: line 3 column 583 (char 611)\n",
      "JSONDecodeError: Expecting ',' delimiter: line 3 column 430 (char 458)\n",
      "JSONDecodeError: Expecting ',' delimiter: line 3 column 403 (char 438)\n",
      "JSONDecodeError: Expecting ',' delimiter: line 3 column 282 (char 310)\n",
      "JSONDecodeError: Expecting ',' delimiter: line 3 column 540 (char 568)\n",
      "JSONDecodeError: Expecting ',' delimiter: line 3 column 311 (char 339)\n",
      "JSONDecodeError: Expecting ',' delimiter: line 3 column 276 (char 304)\n"
     ]
    },
    {
     "name": "stderr",
     "output_type": "stream",
     "text": [
      "100%|███████████████████████████████████████████████████| 15/15 [00:39<00:00,  2.61s/it]\n"
     ]
    },
    {
     "name": "stdout",
     "output_type": "stream",
     "text": [
      "JSONDecodeError: Expecting ',' delimiter: line 3 column 489 (char 517)\n",
      "JSONDecodeError: Expecting ',' delimiter: line 3 column 307 (char 335)\n",
      "JSONDecodeError: Expecting ',' delimiter: line 3 column 521 (char 549)\n",
      "JSONDecodeError: Expecting value: line 1 column 1 (char 0)\n",
      "Failed to fix JSON string: Expecting value: line 1 column 1 (char 0)\n",
      "JSONDecodeError: Expecting ',' delimiter: line 3 column 425 (char 453)\n",
      "JSONDecodeError: Expecting ',' delimiter: line 3 column 322 (char 357)\n",
      "JSONDecodeError: Expecting value: line 1 column 1 (char 0)\n",
      "Failed to fix JSON string: Expecting value: line 1 column 1 (char 0)\n",
      "JSONDecodeError: Expecting ',' delimiter: line 3 column 276 (char 304)\n",
      "JSONDecodeError: Expecting value: line 1 column 1 (char 0)\n",
      "Failed to fix JSON string: Expecting value: line 1 column 1 (char 0)\n"
     ]
    },
    {
     "name": "stderr",
     "output_type": "stream",
     "text": [
      "100%|███████████████████████████████████████████████████| 15/15 [00:38<00:00,  2.59s/it]\n"
     ]
    },
    {
     "name": "stdout",
     "output_type": "stream",
     "text": [
      "JSONDecodeError: Expecting ',' delimiter: line 3 column 543 (char 575)\n",
      "JSONDecodeError: Expecting value: line 1 column 1 (char 0)\n",
      "Failed to fix JSON string: Expecting value: line 1 column 1 (char 0)\n",
      "JSONDecodeError: Expecting ',' delimiter: line 3 column 531 (char 559)\n",
      "JSONDecodeError: Expecting ',' delimiter: line 3 column 297 (char 325)\n",
      "JSONDecodeError: Expecting ',' delimiter: line 3 column 303 (char 331)\n"
     ]
    },
    {
     "name": "stderr",
     "output_type": "stream",
     "text": [
      "100%|████████████████████████████| 15/15 [00:38<00:00,  2.58s/it]\n"
     ]
    },
    {
     "name": "stdout",
     "output_type": "stream",
     "text": [
      "JSONDecodeError: Expecting ',' delimiter: line 3 column 431 (char 459)\n",
      "JSONDecodeError: Expecting ',' delimiter: line 3 column 536 (char 564)\n",
      "JSONDecodeError: Expecting ',' delimiter: line 3 column 343 (char 371)\n",
      "JSONDecodeError: Expecting ',' delimiter: line 3 column 309 (char 337)\n",
      "JSONDecodeError: Expecting ',' delimiter: line 3 column 625 (char 660)\n",
      "JSONDecodeError: Expecting ',' delimiter: line 3 column 227 (char 255)\n",
      "JSONDecodeError: Expecting ',' delimiter: line 3 column 507 (char 535)\n",
      "JSONDecodeError: Expecting ',' delimiter: line 3 column 299 (char 327)\n"
     ]
    },
    {
     "name": "stderr",
     "output_type": "stream",
     "text": [
      "100%|████████████████████████████| 15/15 [00:39<00:00,  2.63s/it]\n"
     ]
    },
    {
     "name": "stdout",
     "output_type": "stream",
     "text": [
      "JSONDecodeError: Expecting ',' delimiter: line 3 column 355 (char 383)\n",
      "JSONDecodeError: Expecting ',' delimiter: line 3 column 369 (char 397)\n",
      "JSONDecodeError: Expecting ',' delimiter: line 3 column 379 (char 414)\n",
      "JSONDecodeError: Expecting ',' delimiter: line 3 column 707 (char 735)\n",
      "JSONDecodeError: Expecting value: line 1 column 1 (char 0)\n",
      "Failed to fix JSON string: Expecting value: line 1 column 1 (char 0)\n"
     ]
    },
    {
     "name": "stderr",
     "output_type": "stream",
     "text": [
      "100%|████████████████████████████| 15/15 [00:39<00:00,  2.62s/it]\n"
     ]
    },
    {
     "name": "stdout",
     "output_type": "stream",
     "text": [
      "JSONDecodeError: Extra data: line 6 column 1 (char 333)\n",
      "Failed to fix JSON string: Extra data: line 6 column 1 (char 333)\n",
      "JSONDecodeError: Expecting ',' delimiter: line 3 column 201 (char 229)\n",
      "JSONDecodeError: Expecting ',' delimiter: line 3 column 266 (char 294)\n",
      "JSONDecodeError: Expecting ',' delimiter: line 3 column 408 (char 436)\n",
      "JSONDecodeError: Expecting ',' delimiter: line 3 column 346 (char 374)\n",
      "JSONDecodeError: Expecting ',' delimiter: line 3 column 410 (char 445)\n",
      "JSONDecodeError: Expecting ',' delimiter: line 3 column 303 (char 331)\n",
      "JSONDecodeError: Expecting ',' delimiter: line 3 column 576 (char 609)\n",
      "JSONDecodeError: Expecting ',' delimiter: line 3 column 404 (char 432)\n"
     ]
    },
    {
     "name": "stderr",
     "output_type": "stream",
     "text": [
      "100%|████████████████████████████| 15/15 [00:39<00:00,  2.61s/it]\n"
     ]
    },
    {
     "name": "stdout",
     "output_type": "stream",
     "text": [
      "JSONDecodeError: Expecting value: line 1 column 1 (char 0)\n",
      "Failed to fix JSON string: Expecting value: line 1 column 1 (char 0)\n",
      "JSONDecodeError: Expecting ',' delimiter: line 3 column 279 (char 307)\n",
      "JSONDecodeError: Expecting ',' delimiter: line 3 column 418 (char 446)\n",
      "JSONDecodeError: Expecting ',' delimiter: line 3 column 433 (char 461)\n",
      "JSONDecodeError: Expecting ',' delimiter: line 3 column 524 (char 559)\n",
      "JSONDecodeError: Expecting ',' delimiter: line 3 column 523 (char 558)\n",
      "JSONDecodeError: Expecting ',' delimiter: line 3 column 302 (char 337)\n",
      "Failed to fix JSON string: Expecting ',' delimiter: line 3 column 302 (char 337)\n",
      "JSONDecodeError: Expecting ',' delimiter: line 3 column 362 (char 394)\n",
      "JSONDecodeError: Expecting ',' delimiter: line 3 column 469 (char 497)\n",
      "JSONDecodeError: Expecting ',' delimiter: line 3 column 342 (char 370)\n",
      "JSONDecodeError: Expecting ',' delimiter: line 3 column 223 (char 251)\n"
     ]
    },
    {
     "name": "stderr",
     "output_type": "stream",
     "text": [
      "100%|████████████████████████████| 15/15 [00:39<00:00,  2.64s/it]\n"
     ]
    },
    {
     "name": "stdout",
     "output_type": "stream",
     "text": [
      "JSONDecodeError: Expecting ',' delimiter: line 3 column 268 (char 300)\n",
      "JSONDecodeError: Expecting ',' delimiter: line 3 column 313 (char 341)\n",
      "JSONDecodeError: Expecting ',' delimiter: line 3 column 383 (char 418)\n",
      "JSONDecodeError: Expecting ',' delimiter: line 3 column 354 (char 382)\n",
      "JSONDecodeError: Expecting ',' delimiter: line 3 column 284 (char 310)\n",
      "JSONDecodeError: Expecting ',' delimiter: line 3 column 430 (char 465)\n",
      "JSONDecodeError: Expecting ',' delimiter: line 3 column 339 (char 374)\n",
      "JSONDecodeError: Expecting ',' delimiter: line 3 column 445 (char 473)\n",
      "JSONDecodeError: Expecting ',' delimiter: line 3 column 391 (char 419)\n",
      "JSONDecodeError: Expecting ',' delimiter: line 3 column 566 (char 601)\n"
     ]
    },
    {
     "name": "stderr",
     "output_type": "stream",
     "text": [
      "100%|████████████████████████████| 15/15 [00:39<00:00,  2.65s/it]\n"
     ]
    },
    {
     "name": "stdout",
     "output_type": "stream",
     "text": [
      "JSONDecodeError: Expecting ',' delimiter: line 3 column 290 (char 316)\n",
      "JSONDecodeError: Expecting ',' delimiter: line 3 column 366 (char 394)\n",
      "JSONDecodeError: Expecting ',' delimiter: line 3 column 357 (char 387)\n",
      "JSONDecodeError: Expecting ',' delimiter: line 3 column 431 (char 466)\n",
      "JSONDecodeError: Expecting ',' delimiter: line 3 column 310 (char 336)\n",
      "JSONDecodeError: Expecting ',' delimiter: line 3 column 386 (char 421)\n",
      "JSONDecodeError: Expecting value: line 1 column 1 (char 0)\n",
      "Failed to fix JSON string: Expecting value: line 1 column 1 (char 0)\n",
      "JSONDecodeError: Expecting ',' delimiter: line 3 column 405 (char 431)\n"
     ]
    },
    {
     "name": "stderr",
     "output_type": "stream",
     "text": [
      "100%|███████████████████████████████████████████████████| 15/15 [00:40<00:00,  2.67s/it]\n"
     ]
    },
    {
     "name": "stdout",
     "output_type": "stream",
     "text": [
      "JSONDecodeError: Expecting value: line 1 column 1 (char 0)\n",
      "Failed to fix JSON string: Expecting value: line 1 column 1 (char 0)\n",
      "JSONDecodeError: Expecting ',' delimiter: line 3 column 500 (char 528)\n",
      "JSONDecodeError: Expecting value: line 1 column 1 (char 0)\n",
      "Failed to fix JSON string: Expecting value: line 1 column 1 (char 0)\n",
      "JSONDecodeError: Expecting ',' delimiter: line 3 column 242 (char 270)\n",
      "JSONDecodeError: Expecting value: line 1 column 1 (char 0)\n",
      "Failed to fix JSON string: Expecting value: line 1 column 1 (char 0)\n",
      "JSONDecodeError: Expecting ',' delimiter: line 3 column 346 (char 381)\n"
     ]
    },
    {
     "name": "stderr",
     "output_type": "stream",
     "text": [
      "100%|███████████████████████████████████████████████████| 15/15 [00:39<00:00,  2.64s/it]\n"
     ]
    },
    {
     "name": "stdout",
     "output_type": "stream",
     "text": [
      "JSONDecodeError: Expecting ',' delimiter: line 3 column 505 (char 533)\n",
      "JSONDecodeError: Expecting value: line 1 column 1 (char 0)\n",
      "Failed to fix JSON string: Expecting value: line 1 column 1 (char 0)\n",
      "JSONDecodeError: Expecting ',' delimiter: line 3 column 452 (char 484)\n",
      "JSONDecodeError: Expecting ',' delimiter: line 3 column 588 (char 623)\n",
      "JSONDecodeError: Expecting ',' delimiter: line 3 column 443 (char 478)\n",
      "JSONDecodeError: Expecting ',' delimiter: line 3 column 357 (char 392)\n",
      "JSONDecodeError: Expecting ',' delimiter: line 3 column 331 (char 363)\n",
      "JSONDecodeError: Expecting ',' delimiter: line 3 column 250 (char 280)\n",
      "JSONDecodeError: Expecting ',' delimiter: line 3 column 448 (char 476)\n",
      "JSONDecodeError: Expecting ',' delimiter: line 3 column 378 (char 406)\n",
      "JSONDecodeError: Expecting ',' delimiter: line 3 column 299 (char 327)\n",
      "JSONDecodeError: Expecting ',' delimiter: line 3 column 544 (char 579)\n",
      "JSONDecodeError: Expecting ',' delimiter: line 3 column 186 (char 214)\n"
     ]
    },
    {
     "name": "stderr",
     "output_type": "stream",
     "text": [
      "100%|████████████████████████████| 15/15 [00:38<00:00,  2.56s/it]\n"
     ]
    },
    {
     "name": "stdout",
     "output_type": "stream",
     "text": [
      "JSONDecodeError: Expecting ',' delimiter: line 3 column 311 (char 346)\n",
      "JSONDecodeError: Expecting value: line 1 column 1 (char 0)\n",
      "Failed to fix JSON string: Expecting value: line 1 column 1 (char 0)\n",
      "JSONDecodeError: Expecting ',' delimiter: line 3 column 290 (char 318)\n",
      "JSONDecodeError: Expecting ',' delimiter: line 3 column 503 (char 538)\n",
      "JSONDecodeError: Expecting ',' delimiter: line 3 column 513 (char 539)\n",
      "JSONDecodeError: Expecting ',' delimiter: line 3 column 440 (char 468)\n",
      "JSONDecodeError: Expecting ',' delimiter: line 3 column 407 (char 435)\n",
      "JSONDecodeError: Expecting ',' delimiter: line 3 column 287 (char 319)\n"
     ]
    },
    {
     "name": "stderr",
     "output_type": "stream",
     "text": [
      "100%|████████████████████████████| 15/15 [00:39<00:00,  2.64s/it]\n"
     ]
    },
    {
     "name": "stdout",
     "output_type": "stream",
     "text": [
      "JSONDecodeError: Expecting ',' delimiter: line 3 column 295 (char 323)\n",
      "JSONDecodeError: Expecting value: line 1 column 1 (char 0)\n",
      "Failed to fix JSON string: Expecting value: line 1 column 1 (char 0)\n",
      "JSONDecodeError: Expecting ',' delimiter: line 3 column 663 (char 698)\n",
      "JSONDecodeError: Expecting ',' delimiter: line 3 column 750 (char 783)\n",
      "JSONDecodeError: Expecting ',' delimiter: line 3 column 520 (char 555)\n",
      "JSONDecodeError: Expecting ',' delimiter: line 3 column 396 (char 428)\n",
      "JSONDecodeError: Expecting ',' delimiter: line 3 column 401 (char 433)\n",
      "JSONDecodeError: Expecting ',' delimiter: line 3 column 495 (char 523)\n"
     ]
    },
    {
     "name": "stderr",
     "output_type": "stream",
     "text": [
      "100%|████████████████████████████| 15/15 [00:39<00:00,  2.64s/it]\n"
     ]
    },
    {
     "name": "stdout",
     "output_type": "stream",
     "text": [
      "JSONDecodeError: Expecting ',' delimiter: line 3 column 318 (char 346)\n",
      "JSONDecodeError: Expecting ',' delimiter: line 3 column 457 (char 492)\n",
      "JSONDecodeError: Expecting ',' delimiter: line 3 column 324 (char 352)\n",
      "JSONDecodeError: Expecting value: line 1 column 1 (char 0)\n",
      "Failed to fix JSON string: Expecting value: line 1 column 1 (char 0)\n",
      "JSONDecodeError: Expecting ',' delimiter: line 3 column 525 (char 551)\n",
      "JSONDecodeError: Expecting ',' delimiter: line 3 column 753 (char 781)\n",
      "JSONDecodeError: Expecting value: line 1 column 1 (char 0)\n",
      "Failed to fix JSON string: Expecting value: line 1 column 1 (char 0)\n",
      "JSONDecodeError: Expecting ',' delimiter: line 3 column 396 (char 428)\n",
      "JSONDecodeError: Expecting ',' delimiter: line 3 column 365 (char 400)\n",
      "JSONDecodeError: Expecting ',' delimiter: line 3 column 314 (char 342)\n"
     ]
    },
    {
     "name": "stderr",
     "output_type": "stream",
     "text": [
      "100%|███████████████████████████████████████████████████| 15/15 [00:39<00:00,  2.62s/it]\n"
     ]
    },
    {
     "name": "stdout",
     "output_type": "stream",
     "text": [
      "JSONDecodeError: Expecting ',' delimiter: line 3 column 281 (char 313)\n",
      "JSONDecodeError: Expecting ',' delimiter: line 3 column 446 (char 481)\n",
      "JSONDecodeError: Expecting value: line 1 column 1 (char 0)\n",
      "Failed to fix JSON string: Expecting value: line 1 column 1 (char 0)\n",
      "JSONDecodeError: Expecting ',' delimiter: line 3 column 497 (char 532)\n",
      "JSONDecodeError: Expecting ',' delimiter: line 3 column 366 (char 394)\n",
      "JSONDecodeError: Expecting ',' delimiter: line 3 column 411 (char 446)\n"
     ]
    },
    {
     "name": "stderr",
     "output_type": "stream",
     "text": [
      "100%|███████████████████████████████████████████████████| 15/15 [00:39<00:00,  2.65s/it]\n"
     ]
    },
    {
     "name": "stdout",
     "output_type": "stream",
     "text": [
      "JSONDecodeError: Expecting ',' delimiter: line 3 column 363 (char 395)\n",
      "JSONDecodeError: Expecting ',' delimiter: line 3 column 327 (char 355)\n",
      "JSONDecodeError: Expecting ',' delimiter: line 3 column 309 (char 337)\n",
      "JSONDecodeError: Expecting ',' delimiter: line 3 column 309 (char 337)\n",
      "JSONDecodeError: Expecting value: line 1 column 1 (char 0)\n",
      "Failed to fix JSON string: Expecting value: line 1 column 1 (char 0)\n",
      "JSONDecodeError: Expecting value: line 1 column 1 (char 0)\n",
      "Failed to fix JSON string: Expecting value: line 1 column 1 (char 0)\n",
      "JSONDecodeError: Expecting ',' delimiter: line 3 column 476 (char 504)\n",
      "JSONDecodeError: Expecting ',' delimiter: line 3 column 577 (char 612)\n",
      "JSONDecodeError: Expecting ',' delimiter: line 3 column 432 (char 464)\n"
     ]
    },
    {
     "name": "stderr",
     "output_type": "stream",
     "text": [
      "100%|█████████████████████████████████████████████████████| 2/2 [00:05<00:00,  2.70s/it]"
     ]
    },
    {
     "name": "stdout",
     "output_type": "stream",
     "text": [
      "JSONDecodeError: Expecting ',' delimiter: line 3 column 468 (char 503)\n",
      "JSONDecodeError: Expecting value: line 1 column 1 (char 0)\n",
      "Failed to fix JSON string: Expecting value: line 1 column 1 (char 0)\n"
     ]
    },
    {
     "name": "stderr",
     "output_type": "stream",
     "text": [
      "\n"
     ]
    }
   ],
   "source": [
    "for i in range(2, 83):\n",
    "    evaluations = []\n",
    "    results = []\n",
    "    json_evaluations = []\n",
    "    \n",
    "    # Load the pickle file\n",
    "    with open(f\"../data/vietnamese_rag/llm_answer/llm_answer{i}.pkl\", 'rb') as file:\n",
    "        r = pickle.load(file)\n",
    "    results.extend(r)\n",
    "    \n",
    "    # Convert results to DataFrame\n",
    "    df = pd.DataFrame(results)\n",
    "    samples = df.to_dict(orient='records')\n",
    "    \n",
    "    # Generate evaluations\n",
    "    for record in tqdm(samples):\n",
    "        prompt = prompt1_template.format(**record)\n",
    "        evaluation = llm(prompt)\n",
    "        evaluations.append(evaluation)\n",
    "    \n",
    "    # Parse evaluations\n",
    "    for j, str_eval in enumerate(evaluations):\n",
    "        try:\n",
    "            json_eval = json.loads(str_eval)\n",
    "        except json.JSONDecodeError as e:\n",
    "            print(f\"JSONDecodeError: {e}\")\n",
    "            # Attempt to fix the JSON string\n",
    "            try:\n",
    "                str_eval = str_eval.rstrip('}') + '}'  # Ensure it ends with a closing brace\n",
    "                json_eval = json.loads(str_eval)\n",
    "            except json.JSONDecodeError as e:\n",
    "                print(f\"Failed to fix JSON string: {e}\")\n",
    "                continue  # Skip this evaluation if it cannot be fixed\n",
    "        json_evaluations.append(json_eval)\n",
    "    \n",
    "    # Save evaluations to CSV\n",
    "    if json_evaluations:\n",
    "        df_evaluations = pd.DataFrame(json_evaluations)\n",
    "        df_evaluations.to_csv(f'../data/vietnamese_rag/evaluations_aqa/evaluations-aqa{i}.csv', index=False)"
   ]
  },
  {
   "cell_type": "code",
   "execution_count": null,
   "id": "732accb0-12df-46ef-ad49-1711255c942b",
   "metadata": {},
   "outputs": [],
   "source": [
    "\n",
    "    # evaluations = []\n",
    "    # results = []\n",
    "    # json_evaluations = []\n",
    "    # with open(f\"../data/vietnamese_rag/llm_answer/llm_answer1.pkl\", 'rb') as file:\n",
    "    #     r = pickle.load(file)\n",
    "    # results.extend(r)\n",
    "    # df = pd.DataFrame(results)\n",
    "    # samples = df.to_dict(orient='records')\n",
    "    # for record in tqdm(samples):\n",
    "    #     prompt = prompt1_template.format(**record)\n",
    "    #     evaluation = llm(prompt)\n",
    "    #     evaluations.append(evaluation)\n",
    "    "
   ]
  },
  {
   "cell_type": "code",
   "execution_count": null,
   "id": "d01a3c2f-4846-4cba-a020-559c9de11291",
   "metadata": {},
   "outputs": [],
   "source": [
    "# for i, str_eval in enumerate(evaluations):\n",
    "#     # print(str_eval)\n",
    "#     try:\n",
    "#         json_eval = json.loads(str_eval)\n",
    "        \n",
    "#     except json.JSONDecodeError as e:\n",
    "#         print(f\"JSONDecodeError: {e}\")\n",
    "#         str_eval = str_eval + \"}\"\n",
    "#         json_eval = json.loads(str_eval)\n",
    "#         # print(\"After fix: \", json_eval)\n",
    "#     json_evaluations.append(json_eval)\n",
    "# df_evaluations = pd.DataFrame(json_evaluations)\n",
    "# df_evaluations.to_csv(f'../data/vietnamese_rag/evaluations_aqa/evaluations-aqa1.csv', index=False)"
   ]
  },
  {
   "cell_type": "code",
   "execution_count": null,
   "id": "7c948fe7-e430-4392-83fa-fa555e105875",
   "metadata": {},
   "outputs": [],
   "source": [
    "# df_evaluations"
   ]
  },
  {
   "cell_type": "code",
   "execution_count": null,
   "id": "4cefb6fe-4a56-4284-b178-eee4ca24bf1e",
   "metadata": {},
   "outputs": [],
   "source": [
    "# import json\n",
    "\n",
    "# evaluations = [\n",
    "#     '{\"Relevance\": \"PARTLY_RELEVANT\", \"Explanation\": \"The generated answer partially corresponds to the original answer, as it describes Minh Tú\\'s experience in the catwalk challenge on Asia\\'s Next Top Model, which is similar to the context in the original answer. However, the generated answer focuses more on the outcome (her photo being considered too sexy) and doesn\\'t fully capture the original answer\\'s description of Minh Tú overcoming fear to complete the challenge successfully. The relevance is partly relevant because it shares some similar context, but crucial aspects of the original answer are missing.\"}'\n",
    "# ]\n",
    "\n",
    "# json_evaluations = []\n",
    "\n",
    "# for i, str_eval in enumerate(evaluations):\n",
    "#     print(f\"Evaluation {i}: {str_eval}\")\n",
    "#     try:\n",
    "#         json_eval = json.loads(str_eval)\n",
    "#         json_evaluations.append(json_eval)\n",
    "#     except json.JSONDecodeError as e:\n",
    "#         print(f\"JSONDecodeError: {e}\")\n",
    "#         # Optionally, handle the error or log it for further investigation\n",
    "\n",
    "# # If no errors, create DataFrame\n",
    "# if json_evaluations:\n",
    "#     import pandas as pd\n",
    "#     df_evaluations = pd.DataFrame(json_evaluations)\n",
    "#     print(df_evaluations)"
   ]
  },
  {
   "cell_type": "code",
   "execution_count": null,
   "id": "f9692661-66bd-443b-b6ae-d992e78807bc",
   "metadata": {},
   "outputs": [],
   "source": [
    "# df_evaluations"
   ]
  },
  {
   "cell_type": "code",
   "execution_count": null,
   "id": "8b38c692-0a3f-4b7c-ab70-87b5082f6a1e",
   "metadata": {},
   "outputs": [
    {
     "name": "stderr",
     "output_type": "stream",
     "text": [
      "100%|███████████████████████████████████████████████████| 15/15 [00:06<00:00,  2.34it/s]\n"
     ]
    },
    {
     "name": "stdout",
     "output_type": "stream",
     "text": [
      "JSONDecodeError: Expecting ',' delimiter: line 3 column 454 (char 482)\n",
      "JSONDecodeError: Expecting ',' delimiter: line 3 column 622 (char 650)\n",
      "JSONDecodeError: Expecting ',' delimiter: line 3 column 424 (char 452)\n",
      "JSONDecodeError: Expecting ',' delimiter: line 3 column 459 (char 487)\n",
      "JSONDecodeError: Expecting ',' delimiter: line 3 column 621 (char 649)\n",
      "JSONDecodeError: Expecting value: line 1 column 1 (char 0)\n",
      "Failed to fix JSON string: Expecting value: line 1 column 1 (char 0)\n",
      "JSONDecodeError: Expecting ',' delimiter: line 3 column 332 (char 360)\n",
      "JSONDecodeError: Expecting ',' delimiter: line 3 column 225 (char 253)\n",
      "JSONDecodeError: Expecting ',' delimiter: line 3 column 279 (char 311)\n",
      "evaluations-aqa85.csv saved\n"
     ]
    },
    {
     "name": "stderr",
     "output_type": "stream",
     "text": [
      "100%|███████████████████████████████████████████████████| 15/15 [00:07<00:00,  2.11it/s]\n"
     ]
    },
    {
     "name": "stdout",
     "output_type": "stream",
     "text": [
      "JSONDecodeError: Expecting ',' delimiter: line 3 column 191 (char 219)\n",
      "JSONDecodeError: Expecting ',' delimiter: line 3 column 388 (char 420)\n",
      "JSONDecodeError: Expecting ',' delimiter: line 3 column 481 (char 509)\n",
      "JSONDecodeError: Expecting ',' delimiter: line 3 column 370 (char 396)\n",
      "JSONDecodeError: Expecting ',' delimiter: line 3 column 298 (char 326)\n",
      "JSONDecodeError: Expecting ',' delimiter: line 3 column 198 (char 226)\n",
      "JSONDecodeError: Expecting ',' delimiter: line 3 column 401 (char 429)\n",
      "JSONDecodeError: Expecting value: line 1 column 1 (char 0)\n",
      "Failed to fix JSON string: Expecting value: line 1 column 1 (char 0)\n",
      "evaluations-aqa86.csv saved\n"
     ]
    },
    {
     "name": "stderr",
     "output_type": "stream",
     "text": [
      "100%|███████████████████████████████████████████████████| 15/15 [00:38<00:00,  2.60s/it]\n"
     ]
    },
    {
     "name": "stdout",
     "output_type": "stream",
     "text": [
      "JSONDecodeError: Expecting ',' delimiter: line 3 column 399 (char 434)\n",
      "JSONDecodeError: Expecting ',' delimiter: line 3 column 383 (char 415)\n",
      "JSONDecodeError: Expecting ',' delimiter: line 3 column 455 (char 483)\n",
      "JSONDecodeError: Expecting ',' delimiter: line 3 column 449 (char 477)\n",
      "JSONDecodeError: Expecting ',' delimiter: line 3 column 267 (char 295)\n",
      "JSONDecodeError: Expecting ',' delimiter: line 3 column 547 (char 575)\n",
      "evaluations-aqa87.csv saved\n"
     ]
    },
    {
     "name": "stderr",
     "output_type": "stream",
     "text": [
      "100%|███████████████████████████████████████████████████| 15/15 [00:39<00:00,  2.64s/it]\n"
     ]
    },
    {
     "name": "stdout",
     "output_type": "stream",
     "text": [
      "JSONDecodeError: Expecting ',' delimiter: line 3 column 359 (char 387)\n",
      "JSONDecodeError: Expecting ',' delimiter: line 3 column 279 (char 307)\n",
      "JSONDecodeError: Expecting ',' delimiter: line 3 column 376 (char 411)\n",
      "JSONDecodeError: Expecting value: line 1 column 1 (char 0)\n",
      "Failed to fix JSON string: Expecting value: line 1 column 1 (char 0)\n",
      "JSONDecodeError: Expecting ',' delimiter: line 3 column 355 (char 383)\n",
      "evaluations-aqa88.csv saved\n"
     ]
    },
    {
     "name": "stderr",
     "output_type": "stream",
     "text": [
      " 93%|███████████████████████████████████████████████▌   | 14/15 [00:36<00:02,  2.58s/it]"
     ]
    }
   ],
   "source": [
    "for i in range(85, 170):\n",
    "    evaluations = []\n",
    "    results = []\n",
    "    json_evaluations = []\n",
    "    \n",
    "    # Load the pickle file\n",
    "    with open(f\"../data/vietnamese_rag/llm_answer/llm_answer{i}.pkl\", 'rb') as file:\n",
    "        r = pickle.load(file)\n",
    "    results.extend(r)\n",
    "    \n",
    "    # Convert results to DataFrame\n",
    "    df = pd.DataFrame(results)\n",
    "    samples = df.to_dict(orient='records')\n",
    "    \n",
    "    # Generate evaluations\n",
    "    for record in tqdm(samples):\n",
    "        prompt = prompt1_template.format(**record)\n",
    "        evaluation = llm(prompt)\n",
    "        evaluations.append(evaluation)\n",
    "    \n",
    "    # Parse evaluations\n",
    "    for j, str_eval in enumerate(evaluations):\n",
    "        try:\n",
    "            json_eval = json.loads(str_eval)\n",
    "        except json.JSONDecodeError as e:\n",
    "            print(f\"JSONDecodeError: {e}\")\n",
    "            # Attempt to fix the JSON string\n",
    "            try:\n",
    "                # str_eval = \"{\" + str_eval.lstrip(\"{\")  # Ensure it starts with an opening brace\n",
    "                str_eval = str_eval.rstrip('}') + '}'  # Ensure it ends with a closing brace\n",
    "                json_eval = json.loads(str_eval)\n",
    "            except json.JSONDecodeError as e:\n",
    "                print(f\"Failed to fix JSON string: {e}\")\n",
    "                continue  # Skip this evaluation if it cannot be fixed\n",
    "        json_evaluations.append(json_eval)\n",
    "    \n",
    "    # Save evaluations to CSV\n",
    "    if json_evaluations:\n",
    "        df_evaluations = pd.DataFrame(json_evaluations)\n",
    "        df_evaluations.to_csv(f'../data/vietnamese_rag/evaluations_aqa/evaluations-aqa{i}.csv', index=False)\n",
    "        print(f\"evaluations-aqa{i}.csv saved\")"
   ]
  },
  {
   "cell_type": "code",
   "execution_count": null,
   "id": "ec1ce80f-c703-4468-8ece-33f95a003881",
   "metadata": {},
   "outputs": [],
   "source": []
  }
 ],
 "metadata": {
  "kernelspec": {
   "display_name": "Python 3 (ipykernel)",
   "language": "python",
   "name": "python3"
  },
  "language_info": {
   "codemirror_mode": {
    "name": "ipython",
    "version": 3
   },
   "file_extension": ".py",
   "mimetype": "text/x-python",
   "name": "python",
   "nbconvert_exporter": "python",
   "pygments_lexer": "ipython3",
   "version": "3.10.13"
  }
 },
 "nbformat": 4,
 "nbformat_minor": 5
}
