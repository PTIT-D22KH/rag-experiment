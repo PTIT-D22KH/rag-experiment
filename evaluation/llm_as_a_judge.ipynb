{
 "cells": [
  {
   "cell_type": "code",
   "execution_count": 2,
   "id": "cb1f13ea-c16c-450c-8b78-6757d1f7be6a",
   "metadata": {},
   "outputs": [
    {
     "name": "stderr",
     "output_type": "stream",
     "text": [
      "/home/codespace/.local/lib/python3.10/site-packages/tqdm/auto.py:21: TqdmWarning: IProgress not found. Please update jupyter and ipywidgets. See https://ipywidgets.readthedocs.io/en/stable/user_install.html\n",
      "  from .autonotebook import tqdm as notebook_tqdm\n"
     ]
    }
   ],
   "source": [
    "import json\n",
    "from openai import OpenAI\n",
    "from groq import Groq\n",
    "import os\n",
    "from sentence_transformers import SentenceTransformer\n",
    "from tqdm.auto import tqdm\n",
    "import pickle\n",
    "from elasticsearch import Elasticsearch\n",
    "import pandas as pd\n",
    "import requests\n",
    "import numpy as np\n",
    "from concurrent.futures import ThreadPoolExecutor\n",
    "from requests.exceptions import HTTPError\n",
    "\n",
    "import time"
   ]
  },
  {
   "cell_type": "code",
   "execution_count": 3,
   "id": "53284ee3-7ed6-42c9-9a50-8bafc94756e8",
   "metadata": {},
   "outputs": [],
   "source": [
    "prompt1_template = \"\"\"\n",
    "You are an expert evaluator for a Retrieval-Augmented Generation (RAG) system.\n",
    "Your task is to analyze the relevance of the generated answer compared to the original answer provided.\n",
    "Based on the relevance and similarity of the generated answer to the original answer, you will classify\n",
    "it as \"NON_RELEVANT\", \"PARTLY_RELEVANT\", or \"RELEVANT\".\n",
    "\n",
    "Here is the data for evaluation:\n",
    "\n",
    "Original Answer: {answer_orig}\n",
    "Generated Question: {question}\n",
    "Generated Answer: {answer_llm}\n",
    "\n",
    "Please analyze the content and context of the generated answer in relation to the original\n",
    "answer and provide your evaluation in parsable JSON without using code blocks:\n",
    "\n",
    "{{\n",
    "  \"Relevance\": \"NON_RELEVANT\" | \"PARTLY_RELEVANT\" | \"RELEVANT\",\n",
    "  \"Explanation\": \"[Provide a brief explanation for your evaluation]\"\n",
    "}}\n",
    "\"\"\".strip()\n",
    "\n",
    "prompt2_template = \"\"\"\n",
    "You are an expert evaluator for a Retrieval-Augmented Generation (RAG) system.\n",
    "Your task is to analyze the relevance of the generated answer to the given question.\n",
    "Based on the relevance of the generated answer, you will classify it\n",
    "as \"NON_RELEVANT\", \"PARTLY_RELEVANT\", or \"RELEVANT\".\n",
    "\n",
    "Here is the data for evaluation:\n",
    "\n",
    "Question: {question}\n",
    "Generated Answer: {answer_llm}\n",
    "\n",
    "Please analyze the content and context of the generated answer in relation to the question\n",
    "and provide your evaluation in parsable JSON without using code blocks:\n",
    "\n",
    "{{\n",
    "  \"Relevance\": \"NON_RELEVANT\" | \"PARTLY_RELEVANT\" | \"RELEVANT\",\n",
    "  \"Explanation\": \"[Provide a brief explanation for your evaluation]\"\n",
    "}}\n",
    "\"\"\".strip()"
   ]
  },
  {
   "cell_type": "code",
   "execution_count": 6,
   "id": "47d22ef0-0bb1-4aca-94a9-e5d7d61b9dd8",
   "metadata": {},
   "outputs": [],
   "source": [
    "client =  Groq(api_key = os.environ['GROQ_API_KEY1'])\n",
    "def llm(prompt, model = 'mixtral-8x7b-32768'):\n",
    "    retries = 5\n",
    "    for i in range(retries):\n",
    "        try:\n",
    "            response = client.chat.completions.create(\n",
    "                model= 'llama3-8b-8192',\n",
    "                messages=[{\"role\": \"user\", \"content\": prompt}]\n",
    "            )\n",
    "            json_response = response.choices[0].message.content\n",
    "            return json_response\n",
    "        except HTTPError as e:\n",
    "            if e.response.status_code == 429:  # Rate limit error\n",
    "                retry_after = float(e.response.json()['error']['message'].split('in ')[-1].split('s')[0])\n",
    "                time.sleep(retry_after)\n",
    "            else:\n",
    "                raise\n",
    "        except Exception as e:\n",
    "            if i < retries - 1:\n",
    "                time.sleep(2 ** i)  # Exponential backoff\n",
    "            else:\n",
    "                raise"
   ]
  },
  {
   "cell_type": "code",
   "execution_count": 35,
   "id": "542bb9fc-0911-435c-b395-2f0d809b6cd0",
   "metadata": {},
   "outputs": [],
   "source": [
    "results = []\n",
    "for i in range(1,83):\n",
    "    \n",
    "    with open(f\"../data/vietnamese_rag/llm_answer/llm_answer{i}.pkl\", 'rb') as file:\n",
    "        r = pickle.load(file)\n",
    "    results.extend(r)\n",
    "df = pd.DataFrame(results)"
   ]
  },
  {
   "cell_type": "code",
   "execution_count": 37,
   "id": "07c148bd-c105-45f9-8b0b-e64d80ae13fb",
   "metadata": {},
   "outputs": [
    {
     "name": "stdout",
     "output_type": "stream",
     "text": [
      "<class 'pandas.core.frame.DataFrame'>\n",
      "RangeIndex: 1217 entries, 0 to 1216\n",
      "Data columns (total 5 columns):\n",
      " #   Column       Non-Null Count  Dtype \n",
      "---  ------       --------------  ----- \n",
      " 0   answer_llm   1217 non-null   object\n",
      " 1   answer_orig  1217 non-null   object\n",
      " 2   document     1217 non-null   object\n",
      " 3   question     1217 non-null   object\n",
      " 4   group        1217 non-null   object\n",
      "dtypes: object(5)\n",
      "memory usage: 47.7+ KB\n"
     ]
    }
   ],
   "source": [
    "df.info()"
   ]
  },
  {
   "cell_type": "code",
   "execution_count": 39,
   "id": "01f2506e-1596-4b59-897c-a8ca9e23345d",
   "metadata": {},
   "outputs": [],
   "source": [
    "df.to_csv('../data/vietnamese_rag/llm_answer/llm_answer1.csv', index=False)"
   ]
  },
  {
   "cell_type": "code",
   "execution_count": 58,
   "id": "099019c8-74dd-4b5a-8d58-cdac59b6289e",
   "metadata": {},
   "outputs": [
    {
     "name": "stderr",
     "output_type": "stream",
     "text": [
      "100%|██████████████████| 15/15 [00:07<00:00,  2.01it/s]\n"
     ]
    },
    {
     "name": "stdout",
     "output_type": "stream",
     "text": [
      "JSONDecodeError: Expecting ',' delimiter: line 3 column 417 (char 445)\n",
      "JSONDecodeError: Expecting ',' delimiter: line 3 column 593 (char 628)\n",
      "JSONDecodeError: Expecting ',' delimiter: line 3 column 414 (char 442)\n",
      "JSONDecodeError: Expecting ',' delimiter: line 3 column 418 (char 446)\n",
      "JSONDecodeError: Expecting ',' delimiter: line 3 column 392 (char 420)\n",
      "JSONDecodeError: Expecting ',' delimiter: line 3 column 321 (char 347)\n",
      "JSONDecodeError: Expecting ',' delimiter: line 3 column 417 (char 450)\n"
     ]
    },
    {
     "name": "stderr",
     "output_type": "stream",
     "text": [
      "100%|██████████████████| 15/15 [00:19<00:00,  1.30s/it]\n"
     ]
    },
    {
     "name": "stdout",
     "output_type": "stream",
     "text": [
      "JSONDecodeError: Expecting ',' delimiter: line 3 column 395 (char 423)\n",
      "JSONDecodeError: Expecting ',' delimiter: line 3 column 413 (char 441)\n",
      "JSONDecodeError: Expecting ',' delimiter: line 3 column 339 (char 367)\n",
      "JSONDecodeError: Expecting ',' delimiter: line 3 column 616 (char 642)\n",
      "JSONDecodeError: Expecting ',' delimiter: line 3 column 321 (char 349)\n",
      "JSONDecodeError: Expecting ',' delimiter: line 3 column 269 (char 297)\n",
      "JSONDecodeError: Expecting ',' delimiter: line 3 column 444 (char 476)\n",
      "JSONDecodeError: Expecting ',' delimiter: line 3 column 454 (char 489)\n",
      "JSONDecodeError: Expecting ',' delimiter: line 3 column 306 (char 332)\n",
      "JSONDecodeError: Expecting value: line 1 column 1 (char 0)\n",
      "Failed to fix JSON string: Expecting value: line 1 column 1 (char 0)\n",
      "JSONDecodeError: Expecting value: line 1 column 1 (char 0)\n",
      "Failed to fix JSON string: Expecting value: line 1 column 1 (char 0)\n",
      "JSONDecodeError: Expecting ',' delimiter: line 3 column 498 (char 526)\n"
     ]
    },
    {
     "name": "stderr",
     "output_type": "stream",
     "text": [
      "100%|██████████████████| 15/15 [00:39<00:00,  2.64s/it]\n"
     ]
    },
    {
     "name": "stdout",
     "output_type": "stream",
     "text": [
      "JSONDecodeError: Expecting ',' delimiter: line 3 column 306 (char 334)\n",
      "JSONDecodeError: Expecting ',' delimiter: line 3 column 498 (char 533)\n",
      "JSONDecodeError: Expecting ',' delimiter: line 3 column 323 (char 358)\n",
      "JSONDecodeError: Expecting ',' delimiter: line 3 column 411 (char 446)\n",
      "JSONDecodeError: Expecting ',' delimiter: line 3 column 318 (char 346)\n",
      "JSONDecodeError: Expecting ',' delimiter: line 3 column 428 (char 456)\n",
      "JSONDecodeError: Expecting ',' delimiter: line 3 column 364 (char 392)\n",
      "JSONDecodeError: Expecting ',' delimiter: line 3 column 269 (char 297)\n",
      "JSONDecodeError: Expecting ',' delimiter: line 3 column 392 (char 427)\n",
      "JSONDecodeError: Expecting ',' delimiter: line 3 column 365 (char 391)\n",
      "JSONDecodeError: Expecting value: line 1 column 1 (char 0)\n",
      "Failed to fix JSON string: Expecting value: line 1 column 1 (char 0)\n"
     ]
    },
    {
     "name": "stderr",
     "output_type": "stream",
     "text": [
      "100%|██████████████████| 15/15 [00:39<00:00,  2.66s/it]\n"
     ]
    },
    {
     "name": "stdout",
     "output_type": "stream",
     "text": [
      "JSONDecodeError: Expecting value: line 1 column 1 (char 0)\n",
      "Failed to fix JSON string: Expecting value: line 1 column 1 (char 0)\n",
      "JSONDecodeError: Expecting ',' delimiter: line 3 column 313 (char 341)\n",
      "JSONDecodeError: Expecting ',' delimiter: line 3 column 323 (char 358)\n",
      "JSONDecodeError: Expecting ',' delimiter: line 3 column 377 (char 405)\n",
      "JSONDecodeError: Expecting ',' delimiter: line 3 column 505 (char 533)\n"
     ]
    },
    {
     "name": "stderr",
     "output_type": "stream",
     "text": [
      "100%|██████████████████████████████████████████████████████████████████████████████████████████████████████████████████████████████████████████████████████████████| 15/15 [00:39<00:00,  2.65s/it]\n"
     ]
    },
    {
     "name": "stdout",
     "output_type": "stream",
     "text": [
      "JSONDecodeError: Expecting ',' delimiter: line 3 column 480 (char 515)\n",
      "JSONDecodeError: Expecting ',' delimiter: line 3 column 483 (char 516)\n",
      "JSONDecodeError: Expecting ',' delimiter: line 3 column 417 (char 452)\n",
      "JSONDecodeError: Expecting ',' delimiter: line 3 column 293 (char 321)\n",
      "JSONDecodeError: Expecting ',' delimiter: line 3 column 304 (char 332)\n",
      "JSONDecodeError: Expecting ',' delimiter: line 3 column 395 (char 427)\n"
     ]
    },
    {
     "name": "stderr",
     "output_type": "stream",
     "text": [
      "100%|██████████████████████████████████████████████████████████████████████████████████████████████████████████████████████████████████████████████████████████████| 15/15 [00:38<00:00,  2.59s/it]\n"
     ]
    },
    {
     "name": "stdout",
     "output_type": "stream",
     "text": [
      "JSONDecodeError: Expecting ',' delimiter: line 3 column 306 (char 334)\n",
      "JSONDecodeError: Expecting ',' delimiter: line 3 column 304 (char 332)\n",
      "JSONDecodeError: Expecting ',' delimiter: line 3 column 291 (char 319)\n",
      "JSONDecodeError: Expecting ',' delimiter: line 3 column 311 (char 337)\n",
      "JSONDecodeError: Expecting value: line 1 column 1 (char 0)\n",
      "Failed to fix JSON string: Expecting value: line 1 column 1 (char 0)\n",
      "JSONDecodeError: Expecting ',' delimiter: line 3 column 627 (char 662)\n",
      "JSONDecodeError: Expecting ',' delimiter: line 3 column 386 (char 421)\n",
      "JSONDecodeError: Expecting ',' delimiter: line 3 column 346 (char 376)\n"
     ]
    },
    {
     "name": "stderr",
     "output_type": "stream",
     "text": [
      "100%|██████████████████████████████████████████████████████████████████████████████████████████████████████████████████████████████████████████████████████████████| 15/15 [00:39<00:00,  2.62s/it]\n"
     ]
    },
    {
     "name": "stdout",
     "output_type": "stream",
     "text": [
      "JSONDecodeError: Expecting value: line 1 column 1 (char 0)\n",
      "Failed to fix JSON string: Expecting value: line 1 column 1 (char 0)\n",
      "JSONDecodeError: Expecting value: line 1 column 1 (char 0)\n",
      "Failed to fix JSON string: Expecting value: line 1 column 1 (char 0)\n",
      "JSONDecodeError: Expecting ',' delimiter: line 3 column 376 (char 406)\n",
      "JSONDecodeError: Expecting value: line 1 column 1 (char 0)\n",
      "Failed to fix JSON string: Expecting value: line 1 column 1 (char 0)\n",
      "JSONDecodeError: Expecting value: line 1 column 1 (char 0)\n",
      "Failed to fix JSON string: Expecting value: line 1 column 1 (char 0)\n",
      "JSONDecodeError: Expecting ',' delimiter: line 3 column 377 (char 410)\n",
      "JSONDecodeError: Expecting ',' delimiter: line 3 column 475 (char 510)\n"
     ]
    },
    {
     "name": "stderr",
     "output_type": "stream",
     "text": [
      "100%|██████████████████████████████████████████████████████████████████████████████████████████████████████████████████████████████████████████████████████████████| 15/15 [00:39<00:00,  2.61s/it]\n"
     ]
    },
    {
     "name": "stdout",
     "output_type": "stream",
     "text": [
      "JSONDecodeError: Expecting ',' delimiter: line 3 column 259 (char 287)\n",
      "JSONDecodeError: Expecting ',' delimiter: line 3 column 370 (char 398)\n",
      "JSONDecodeError: Expecting ',' delimiter: line 3 column 482 (char 517)\n",
      "JSONDecodeError: Expecting ',' delimiter: line 3 column 369 (char 397)\n",
      "JSONDecodeError: Expecting ',' delimiter: line 3 column 272 (char 298)\n",
      "JSONDecodeError: Expecting ',' delimiter: line 3 column 460 (char 488)\n",
      "JSONDecodeError: Expecting ',' delimiter: line 3 column 339 (char 367)\n",
      "JSONDecodeError: Expecting value: line 1 column 1 (char 0)\n",
      "Failed to fix JSON string: Expecting value: line 1 column 1 (char 0)\n",
      "JSONDecodeError: Expecting value: line 1 column 1 (char 0)\n",
      "Failed to fix JSON string: Expecting value: line 1 column 1 (char 0)\n"
     ]
    },
    {
     "name": "stderr",
     "output_type": "stream",
     "text": [
      "100%|██████████████████████████████████████████████████████████████████████████████████████████████████████████████████████████████████████████████████████████████| 15/15 [00:39<00:00,  2.62s/it]\n"
     ]
    },
    {
     "name": "stdout",
     "output_type": "stream",
     "text": [
      "JSONDecodeError: Expecting ',' delimiter: line 3 column 402 (char 437)\n",
      "JSONDecodeError: Expecting value: line 1 column 1 (char 0)\n",
      "Failed to fix JSON string: Expecting value: line 1 column 1 (char 0)\n",
      "JSONDecodeError: Expecting ',' delimiter: line 3 column 359 (char 387)\n",
      "JSONDecodeError: Expecting ',' delimiter: line 3 column 277 (char 303)\n",
      "JSONDecodeError: Expecting value: line 1 column 1 (char 0)\n",
      "Failed to fix JSON string: Expecting value: line 1 column 1 (char 0)\n"
     ]
    },
    {
     "name": "stderr",
     "output_type": "stream",
     "text": [
      "100%|██████████████████████████████████████████████████████████████████████████████████████████████████████████████████████████████████████████████████████████████| 15/15 [00:39<00:00,  2.63s/it]\n"
     ]
    },
    {
     "name": "stdout",
     "output_type": "stream",
     "text": [
      "JSONDecodeError: Expecting value: line 1 column 1 (char 0)\n",
      "Failed to fix JSON string: Expecting value: line 1 column 1 (char 0)\n",
      "JSONDecodeError: Expecting ',' delimiter: line 3 column 384 (char 416)\n",
      "JSONDecodeError: Expecting ',' delimiter: line 3 column 316 (char 348)\n",
      "JSONDecodeError: Expecting ',' delimiter: line 3 column 557 (char 592)\n",
      "JSONDecodeError: Expecting ',' delimiter: line 3 column 390 (char 416)\n",
      "JSONDecodeError: Expecting ',' delimiter: line 3 column 517 (char 545)\n",
      "JSONDecodeError: Expecting ',' delimiter: line 3 column 507 (char 535)\n",
      "JSONDecodeError: Expecting ',' delimiter: line 3 column 584 (char 619)\n",
      "JSONDecodeError: Expecting ',' delimiter: line 3 column 561 (char 589)\n"
     ]
    },
    {
     "name": "stderr",
     "output_type": "stream",
     "text": [
      "100%|██████████████████████████████████████████████████████████████████████████████████████████████████████████████████████████████████████████████████████████████| 15/15 [00:38<00:00,  2.59s/it]\n"
     ]
    },
    {
     "name": "stdout",
     "output_type": "stream",
     "text": [
      "JSONDecodeError: Expecting ',' delimiter: line 3 column 568 (char 603)\n",
      "JSONDecodeError: Expecting ',' delimiter: line 3 column 561 (char 589)\n",
      "JSONDecodeError: Expecting ',' delimiter: line 3 column 538 (char 573)\n",
      "JSONDecodeError: Expecting ',' delimiter: line 3 column 330 (char 358)\n",
      "JSONDecodeError: Expecting ',' delimiter: line 3 column 455 (char 490)\n",
      "JSONDecodeError: Expecting value: line 1 column 1 (char 0)\n",
      "Failed to fix JSON string: Expecting value: line 1 column 1 (char 0)\n",
      "JSONDecodeError: Expecting ',' delimiter: line 3 column 381 (char 416)\n"
     ]
    },
    {
     "name": "stderr",
     "output_type": "stream",
     "text": [
      "100%|███████████████████████████████████████████████████| 15/15 [00:38<00:00,  2.59s/it]\n"
     ]
    },
    {
     "name": "stdout",
     "output_type": "stream",
     "text": [
      "JSONDecodeError: Expecting ',' delimiter: line 3 column 290 (char 325)\n",
      "JSONDecodeError: Expecting ',' delimiter: line 3 column 329 (char 357)\n",
      "JSONDecodeError: Expecting ',' delimiter: line 3 column 426 (char 454)\n",
      "JSONDecodeError: Expecting ',' delimiter: line 3 column 472 (char 500)\n",
      "JSONDecodeError: Expecting ',' delimiter: line 3 column 453 (char 488)\n",
      "JSONDecodeError: Expecting ',' delimiter: line 3 column 267 (char 293)\n",
      "JSONDecodeError: Expecting value: line 1 column 1 (char 0)\n",
      "Failed to fix JSON string: Expecting value: line 1 column 1 (char 0)\n",
      "JSONDecodeError: Expecting ',' delimiter: line 3 column 346 (char 374)\n"
     ]
    },
    {
     "name": "stderr",
     "output_type": "stream",
     "text": [
      "100%|███████████████████████████████████████████████████| 15/15 [00:38<00:00,  2.59s/it]\n"
     ]
    },
    {
     "name": "stdout",
     "output_type": "stream",
     "text": [
      "JSONDecodeError: Expecting value: line 1 column 1 (char 0)\n",
      "Failed to fix JSON string: Expecting value: line 1 column 1 (char 0)\n",
      "JSONDecodeError: Expecting ',' delimiter: line 3 column 373 (char 401)\n",
      "JSONDecodeError: Expecting ',' delimiter: line 3 column 280 (char 308)\n",
      "JSONDecodeError: Expecting ',' delimiter: line 3 column 450 (char 478)\n",
      "JSONDecodeError: Expecting ',' delimiter: line 3 column 311 (char 339)\n",
      "JSONDecodeError: Expecting ',' delimiter: line 3 column 309 (char 337)\n",
      "JSONDecodeError: Expecting ',' delimiter: line 3 column 275 (char 303)\n"
     ]
    },
    {
     "name": "stderr",
     "output_type": "stream",
     "text": [
      "100%|███████████████████████████████████████████████████| 15/15 [00:39<00:00,  2.61s/it]\n"
     ]
    },
    {
     "name": "stdout",
     "output_type": "stream",
     "text": [
      "JSONDecodeError: Expecting ',' delimiter: line 3 column 377 (char 409)\n",
      "JSONDecodeError: Expecting ',' delimiter: line 3 column 430 (char 458)\n",
      "JSONDecodeError: Expecting ',' delimiter: line 3 column 339 (char 367)\n",
      "JSONDecodeError: Expecting ',' delimiter: line 3 column 733 (char 761)\n"
     ]
    },
    {
     "name": "stderr",
     "output_type": "stream",
     "text": [
      "100%|███████████████████████████████████████████████████| 15/15 [00:39<00:00,  2.64s/it]\n"
     ]
    },
    {
     "name": "stdout",
     "output_type": "stream",
     "text": [
      "JSONDecodeError: Expecting value: line 1 column 1 (char 0)\n",
      "Failed to fix JSON string: Expecting value: line 1 column 1 (char 0)\n",
      "JSONDecodeError: Expecting ',' delimiter: line 3 column 512 (char 547)\n",
      "JSONDecodeError: Expecting ',' delimiter: line 3 column 665 (char 700)\n",
      "JSONDecodeError: Expecting ',' delimiter: line 3 column 579 (char 607)\n",
      "JSONDecodeError: Expecting value: line 1 column 1 (char 0)\n",
      "Failed to fix JSON string: Expecting value: line 1 column 1 (char 0)\n",
      "JSONDecodeError: Expecting ',' delimiter: line 3 column 342 (char 374)\n",
      "JSONDecodeError: Expecting ',' delimiter: line 3 column 338 (char 366)\n",
      "JSONDecodeError: Expecting ',' delimiter: line 3 column 325 (char 351)\n"
     ]
    },
    {
     "name": "stderr",
     "output_type": "stream",
     "text": [
      "100%|███████████████████████████████████████████████████| 15/15 [00:39<00:00,  2.60s/it]\n"
     ]
    },
    {
     "name": "stdout",
     "output_type": "stream",
     "text": [
      "JSONDecodeError: Expecting ',' delimiter: line 3 column 548 (char 583)\n",
      "JSONDecodeError: Expecting ',' delimiter: line 3 column 233 (char 261)\n",
      "JSONDecodeError: Expecting ',' delimiter: line 3 column 339 (char 367)\n",
      "JSONDecodeError: Expecting ',' delimiter: line 3 column 274 (char 302)\n",
      "JSONDecodeError: Expecting ',' delimiter: line 3 column 390 (char 418)\n",
      "JSONDecodeError: Expecting ',' delimiter: line 3 column 307 (char 335)\n",
      "JSONDecodeError: Expecting ',' delimiter: line 3 column 483 (char 518)\n",
      "JSONDecodeError: Expecting ',' delimiter: line 3 column 567 (char 595)\n",
      "JSONDecodeError: Expecting ',' delimiter: line 3 column 355 (char 390)\n"
     ]
    },
    {
     "name": "stderr",
     "output_type": "stream",
     "text": [
      "100%|███████████████████████████████████████████████████| 15/15 [00:38<00:00,  2.59s/it]\n"
     ]
    },
    {
     "name": "stdout",
     "output_type": "stream",
     "text": [
      "JSONDecodeError: Expecting ',' delimiter: line 3 column 501 (char 529)\n",
      "JSONDecodeError: Expecting value: line 1 column 1 (char 0)\n",
      "Failed to fix JSON string: Expecting value: line 1 column 1 (char 0)\n",
      "JSONDecodeError: Expecting ',' delimiter: line 3 column 479 (char 514)\n",
      "JSONDecodeError: Expecting ',' delimiter: line 3 column 519 (char 545)\n",
      "JSONDecodeError: Expecting value: line 1 column 1 (char 0)\n",
      "Failed to fix JSON string: Expecting value: line 1 column 1 (char 0)\n",
      "JSONDecodeError: Expecting ',' delimiter: line 3 column 295 (char 321)\n",
      "JSONDecodeError: Expecting ',' delimiter: line 3 column 288 (char 316)\n"
     ]
    },
    {
     "name": "stderr",
     "output_type": "stream",
     "text": [
      "100%|███████████████████████████████████████████████████| 15/15 [00:39<00:00,  2.61s/it]\n"
     ]
    },
    {
     "name": "stdout",
     "output_type": "stream",
     "text": [
      "JSONDecodeError: Expecting ',' delimiter: line 3 column 364 (char 392)\n",
      "JSONDecodeError: Expecting ',' delimiter: line 3 column 325 (char 353)\n",
      "JSONDecodeError: Expecting ',' delimiter: line 3 column 417 (char 445)\n",
      "JSONDecodeError: Expecting ',' delimiter: line 3 column 584 (char 617)\n",
      "JSONDecodeError: Expecting ',' delimiter: line 3 column 401 (char 429)\n"
     ]
    },
    {
     "name": "stderr",
     "output_type": "stream",
     "text": [
      "100%|███████████████████████████████████████████████████| 15/15 [00:39<00:00,  2.62s/it]\n"
     ]
    },
    {
     "name": "stdout",
     "output_type": "stream",
     "text": [
      "JSONDecodeError: Expecting ',' delimiter: line 3 column 457 (char 492)\n",
      "JSONDecodeError: Expecting value: line 1 column 1 (char 0)\n",
      "Failed to fix JSON string: Expecting value: line 1 column 1 (char 0)\n",
      "JSONDecodeError: Expecting ',' delimiter: line 3 column 374 (char 406)\n",
      "JSONDecodeError: Expecting ',' delimiter: line 3 column 366 (char 394)\n",
      "JSONDecodeError: Expecting ',' delimiter: line 3 column 388 (char 416)\n",
      "JSONDecodeError: Expecting ',' delimiter: line 3 column 450 (char 478)\n",
      "JSONDecodeError: Expecting ',' delimiter: line 3 column 468 (char 496)\n",
      "JSONDecodeError: Expecting value: line 1 column 1 (char 0)\n",
      "Failed to fix JSON string: Expecting value: line 1 column 1 (char 0)\n",
      "JSONDecodeError: Expecting ',' delimiter: line 3 column 476 (char 511)\n",
      "JSONDecodeError: Expecting ',' delimiter: line 3 column 382 (char 417)\n"
     ]
    },
    {
     "name": "stderr",
     "output_type": "stream",
     "text": [
      "100%|███████████████████████████████████████████████████| 15/15 [00:38<00:00,  2.60s/it]\n"
     ]
    },
    {
     "name": "stdout",
     "output_type": "stream",
     "text": [
      "JSONDecodeError: Expecting ',' delimiter: line 3 column 482 (char 510)\n",
      "JSONDecodeError: Expecting ',' delimiter: line 3 column 265 (char 293)\n",
      "JSONDecodeError: Expecting ',' delimiter: line 3 column 595 (char 630)\n",
      "JSONDecodeError: Expecting ',' delimiter: line 3 column 275 (char 303)\n",
      "JSONDecodeError: Expecting ':' delimiter: line 3 column 1 (char 16)\n",
      "Failed to fix JSON string: Expecting ':' delimiter: line 3 column 1 (char 16)\n",
      "JSONDecodeError: Expecting ',' delimiter: line 3 column 383 (char 418)\n",
      "JSONDecodeError: Expecting ',' delimiter: line 3 column 526 (char 561)\n"
     ]
    },
    {
     "name": "stderr",
     "output_type": "stream",
     "text": [
      "100%|███████████████████████████████████████████████████| 15/15 [00:38<00:00,  2.56s/it]\n"
     ]
    },
    {
     "name": "stdout",
     "output_type": "stream",
     "text": [
      "JSONDecodeError: Expecting ',' delimiter: line 3 column 337 (char 365)\n",
      "JSONDecodeError: Expecting value: line 1 column 1 (char 0)\n",
      "Failed to fix JSON string: Expecting value: line 1 column 1 (char 0)\n",
      "JSONDecodeError: Expecting ',' delimiter: line 3 column 486 (char 514)\n",
      "JSONDecodeError: Expecting ',' delimiter: line 3 column 313 (char 348)\n",
      "JSONDecodeError: Expecting ',' delimiter: line 3 column 513 (char 548)\n",
      "JSONDecodeError: Expecting ',' delimiter: line 3 column 412 (char 447)\n",
      "JSONDecodeError: Expecting ',' delimiter: line 3 column 359 (char 394)\n"
     ]
    },
    {
     "name": "stderr",
     "output_type": "stream",
     "text": [
      "100%|███████████████████████████████████████████████████| 15/15 [00:39<00:00,  2.61s/it]\n"
     ]
    },
    {
     "name": "stdout",
     "output_type": "stream",
     "text": [
      "JSONDecodeError: Expecting value: line 1 column 1 (char 0)\n",
      "Failed to fix JSON string: Expecting value: line 1 column 1 (char 0)\n",
      "JSONDecodeError: Expecting value: line 1 column 1 (char 0)\n",
      "Failed to fix JSON string: Expecting value: line 1 column 1 (char 0)\n",
      "JSONDecodeError: Expecting value: line 1 column 1 (char 0)\n",
      "Failed to fix JSON string: Expecting value: line 1 column 1 (char 0)\n",
      "JSONDecodeError: Expecting ',' delimiter: line 3 column 287 (char 315)\n",
      "JSONDecodeError: Expecting ',' delimiter: line 3 column 420 (char 452)\n",
      "JSONDecodeError: Expecting ',' delimiter: line 3 column 509 (char 544)\n",
      "JSONDecodeError: Expecting ',' delimiter: line 3 column 573 (char 608)\n",
      "JSONDecodeError: Expecting ',' delimiter: line 3 column 412 (char 440)\n",
      "JSONDecodeError: Expecting ',' delimiter: line 3 column 380 (char 415)\n"
     ]
    },
    {
     "name": "stderr",
     "output_type": "stream",
     "text": [
      "100%|███████████████████████████████████████████████████| 15/15 [00:39<00:00,  2.63s/it]\n"
     ]
    },
    {
     "name": "stdout",
     "output_type": "stream",
     "text": [
      "JSONDecodeError: Expecting value: line 1 column 1 (char 0)\n",
      "Failed to fix JSON string: Expecting value: line 1 column 1 (char 0)\n",
      "JSONDecodeError: Expecting ',' delimiter: line 3 column 520 (char 548)\n",
      "JSONDecodeError: Expecting ',' delimiter: line 3 column 342 (char 370)\n",
      "JSONDecodeError: Expecting ',' delimiter: line 3 column 559 (char 594)\n",
      "JSONDecodeError: Expecting value: line 1 column 1 (char 0)\n",
      "Failed to fix JSON string: Expecting value: line 1 column 1 (char 0)\n",
      "JSONDecodeError: Expecting ',' delimiter: line 3 column 570 (char 605)\n",
      "JSONDecodeError: Expecting ',' delimiter: line 3 column 318 (char 344)\n"
     ]
    },
    {
     "name": "stderr",
     "output_type": "stream",
     "text": [
      "100%|███████████████████████████████████████████████████| 15/15 [00:38<00:00,  2.59s/it]\n"
     ]
    },
    {
     "name": "stdout",
     "output_type": "stream",
     "text": [
      "JSONDecodeError: Expecting ',' delimiter: line 3 column 317 (char 345)\n",
      "JSONDecodeError: Unterminated string starting at: line 3 column 18 (char 53)\n",
      "Failed to fix JSON string: Unterminated string starting at: line 3 column 18 (char 53)\n",
      "JSONDecodeError: Expecting value: line 1 column 1 (char 0)\n",
      "Failed to fix JSON string: Expecting value: line 1 column 1 (char 0)\n",
      "JSONDecodeError: Expecting ',' delimiter: line 3 column 810 (char 838)\n",
      "JSONDecodeError: Expecting ',' delimiter: line 3 column 560 (char 595)\n",
      "JSONDecodeError: Invalid \\escape: line 3 column 169 (char 204)\n",
      "Failed to fix JSON string: Invalid \\escape: line 3 column 169 (char 204)\n",
      "JSONDecodeError: Expecting value: line 1 column 1 (char 0)\n",
      "Failed to fix JSON string: Expecting value: line 1 column 1 (char 0)\n",
      "JSONDecodeError: Expecting value: line 1 column 1 (char 0)\n",
      "Failed to fix JSON string: Expecting value: line 1 column 1 (char 0)\n"
     ]
    },
    {
     "name": "stderr",
     "output_type": "stream",
     "text": [
      "100%|███████████████████████████████████████████████████| 15/15 [00:39<00:00,  2.61s/it]\n"
     ]
    },
    {
     "name": "stdout",
     "output_type": "stream",
     "text": [
      "JSONDecodeError: Expecting ',' delimiter: line 3 column 269 (char 297)\n",
      "JSONDecodeError: Expecting ',' delimiter: line 3 column 295 (char 323)\n",
      "JSONDecodeError: Expecting ',' delimiter: line 3 column 376 (char 411)\n",
      "JSONDecodeError: Expecting ',' delimiter: line 3 column 372 (char 400)\n",
      "JSONDecodeError: Expecting ',' delimiter: line 3 column 522 (char 557)\n",
      "JSONDecodeError: Expecting ',' delimiter: line 3 column 525 (char 553)\n",
      "JSONDecodeError: Expecting ',' delimiter: line 3 column 427 (char 455)\n"
     ]
    },
    {
     "name": "stderr",
     "output_type": "stream",
     "text": [
      "100%|███████████████████████████████████████████████████| 15/15 [00:39<00:00,  2.64s/it]\n"
     ]
    },
    {
     "name": "stdout",
     "output_type": "stream",
     "text": [
      "JSONDecodeError: Expecting ',' delimiter: line 3 column 361 (char 389)\n",
      "JSONDecodeError: Expecting ',' delimiter: line 3 column 491 (char 519)\n",
      "JSONDecodeError: Expecting ',' delimiter: line 3 column 581 (char 609)\n",
      "JSONDecodeError: Expecting ',' delimiter: line 3 column 444 (char 479)\n",
      "JSONDecodeError: Expecting ',' delimiter: line 3 column 235 (char 263)\n",
      "JSONDecodeError: Expecting ',' delimiter: line 3 column 243 (char 271)\n",
      "JSONDecodeError: Expecting ',' delimiter: line 3 column 308 (char 340)\n",
      "JSONDecodeError: Expecting ',' delimiter: line 3 column 375 (char 403)\n",
      "JSONDecodeError: Expecting ',' delimiter: line 3 column 499 (char 525)\n",
      "JSONDecodeError: Expecting ',' delimiter: line 3 column 448 (char 483)\n"
     ]
    },
    {
     "name": "stderr",
     "output_type": "stream",
     "text": [
      "100%|███████████████████████████████████████████████████| 15/15 [00:39<00:00,  2.60s/it]\n"
     ]
    },
    {
     "name": "stdout",
     "output_type": "stream",
     "text": [
      "JSONDecodeError: Expecting ',' delimiter: line 3 column 493 (char 528)\n",
      "JSONDecodeError: Expecting ',' delimiter: line 3 column 250 (char 278)\n",
      "JSONDecodeError: Expecting ',' delimiter: line 3 column 346 (char 374)\n",
      "JSONDecodeError: Expecting ',' delimiter: line 3 column 536 (char 562)\n",
      "JSONDecodeError: Expecting ',' delimiter: line 3 column 644 (char 679)\n",
      "JSONDecodeError: Expecting ',' delimiter: line 3 column 337 (char 365)\n",
      "JSONDecodeError: Expecting value: line 1 column 1 (char 0)\n",
      "Failed to fix JSON string: Expecting value: line 1 column 1 (char 0)\n",
      "JSONDecodeError: Expecting ',' delimiter: line 3 column 323 (char 351)\n",
      "JSONDecodeError: Expecting value: line 1 column 1 (char 0)\n",
      "Failed to fix JSON string: Expecting value: line 1 column 1 (char 0)\n"
     ]
    },
    {
     "name": "stderr",
     "output_type": "stream",
     "text": [
      "100%|███████████████████████████████████████████████████| 15/15 [00:39<00:00,  2.65s/it]\n"
     ]
    },
    {
     "name": "stdout",
     "output_type": "stream",
     "text": [
      "JSONDecodeError: Expecting ',' delimiter: line 3 column 470 (char 505)\n",
      "JSONDecodeError: Expecting ',' delimiter: line 3 column 358 (char 386)\n",
      "JSONDecodeError: Expecting ',' delimiter: line 3 column 278 (char 306)\n",
      "JSONDecodeError: Expecting ',' delimiter: line 3 column 274 (char 302)\n",
      "JSONDecodeError: Expecting ',' delimiter: line 3 column 405 (char 433)\n",
      "JSONDecodeError: Expecting ',' delimiter: line 3 column 406 (char 441)\n",
      "JSONDecodeError: Expecting ',' delimiter: line 3 column 475 (char 503)\n"
     ]
    },
    {
     "name": "stderr",
     "output_type": "stream",
     "text": [
      "100%|███████████████████████████████████████████████████| 15/15 [00:38<00:00,  2.59s/it]\n"
     ]
    },
    {
     "name": "stdout",
     "output_type": "stream",
     "text": [
      "JSONDecodeError: Expecting ',' delimiter: line 3 column 397 (char 425)\n",
      "JSONDecodeError: Expecting ',' delimiter: line 3 column 425 (char 460)\n",
      "JSONDecodeError: Expecting ',' delimiter: line 3 column 328 (char 356)\n",
      "JSONDecodeError: Expecting ',' delimiter: line 3 column 220 (char 248)\n",
      "JSONDecodeError: Expecting ',' delimiter: line 3 column 318 (char 346)\n",
      "JSONDecodeError: Expecting ',' delimiter: line 3 column 312 (char 338)\n"
     ]
    },
    {
     "name": "stderr",
     "output_type": "stream",
     "text": [
      "100%|███████████████████████████████████████████████████| 15/15 [00:39<00:00,  2.61s/it]\n"
     ]
    },
    {
     "name": "stdout",
     "output_type": "stream",
     "text": [
      "JSONDecodeError: Expecting ',' delimiter: line 3 column 296 (char 324)\n",
      "JSONDecodeError: Expecting ',' delimiter: line 3 column 316 (char 344)\n",
      "JSONDecodeError: Expecting ',' delimiter: line 3 column 402 (char 437)\n",
      "JSONDecodeError: Expecting ',' delimiter: line 3 column 451 (char 481)\n",
      "JSONDecodeError: Expecting ',' delimiter: line 3 column 342 (char 375)\n",
      "JSONDecodeError: Expecting ',' delimiter: line 3 column 401 (char 434)\n"
     ]
    },
    {
     "name": "stderr",
     "output_type": "stream",
     "text": [
      "100%|███████████████████████████████████████████████████| 15/15 [00:39<00:00,  2.63s/it]\n"
     ]
    },
    {
     "name": "stdout",
     "output_type": "stream",
     "text": [
      "JSONDecodeError: Expecting ',' delimiter: line 3 column 295 (char 323)\n",
      "JSONDecodeError: Expecting value: line 1 column 1 (char 0)\n",
      "Failed to fix JSON string: Expecting value: line 1 column 1 (char 0)\n",
      "JSONDecodeError: Expecting ',' delimiter: line 3 column 463 (char 498)\n",
      "JSONDecodeError: Expecting ',' delimiter: line 3 column 422 (char 454)\n",
      "JSONDecodeError: Expecting ',' delimiter: line 3 column 280 (char 312)\n",
      "JSONDecodeError: Expecting value: line 1 column 1 (char 0)\n",
      "Failed to fix JSON string: Expecting value: line 1 column 1 (char 0)\n",
      "JSONDecodeError: Expecting value: line 1 column 1 (char 0)\n",
      "Failed to fix JSON string: Expecting value: line 1 column 1 (char 0)\n"
     ]
    },
    {
     "name": "stderr",
     "output_type": "stream",
     "text": [
      "100%|███████████████████████████████████████████████████| 15/15 [00:39<00:00,  2.61s/it]\n"
     ]
    },
    {
     "name": "stdout",
     "output_type": "stream",
     "text": [
      "JSONDecodeError: Expecting ',' delimiter: line 3 column 392 (char 420)\n",
      "JSONDecodeError: Expecting ',' delimiter: line 3 column 531 (char 559)\n",
      "JSONDecodeError: Expecting value: line 1 column 1 (char 0)\n",
      "Failed to fix JSON string: Expecting value: line 1 column 1 (char 0)\n",
      "JSONDecodeError: Expecting value: line 1 column 1 (char 0)\n",
      "Failed to fix JSON string: Expecting value: line 1 column 1 (char 0)\n",
      "JSONDecodeError: Expecting ',' delimiter: line 3 column 504 (char 539)\n",
      "JSONDecodeError: Expecting ',' delimiter: line 3 column 402 (char 430)\n",
      "JSONDecodeError: Expecting ',' delimiter: line 3 column 413 (char 439)\n",
      "JSONDecodeError: Expecting ',' delimiter: line 3 column 271 (char 299)\n"
     ]
    },
    {
     "name": "stderr",
     "output_type": "stream",
     "text": [
      "100%|███████████████████████████████████████████████████| 15/15 [00:39<00:00,  2.64s/it]\n"
     ]
    },
    {
     "name": "stdout",
     "output_type": "stream",
     "text": [
      "JSONDecodeError: Expecting value: line 1 column 1 (char 0)\n",
      "Failed to fix JSON string: Expecting value: line 1 column 1 (char 0)\n",
      "JSONDecodeError: Expecting value: line 1 column 1 (char 0)\n",
      "Failed to fix JSON string: Expecting value: line 1 column 1 (char 0)\n",
      "JSONDecodeError: Expecting ',' delimiter: line 3 column 507 (char 542)\n",
      "JSONDecodeError: Expecting ',' delimiter: line 3 column 483 (char 518)\n",
      "JSONDecodeError: Expecting ',' delimiter: line 3 column 449 (char 484)\n",
      "JSONDecodeError: Expecting ',' delimiter: line 3 column 341 (char 369)\n",
      "JSONDecodeError: Expecting ',' delimiter: line 3 column 373 (char 408)\n",
      "JSONDecodeError: Expecting ',' delimiter: line 3 column 256 (char 284)\n",
      "JSONDecodeError: Expecting ',' delimiter: line 3 column 503 (char 538)\n"
     ]
    },
    {
     "name": "stderr",
     "output_type": "stream",
     "text": [
      "100%|███████████████████████████████████████████████████| 15/15 [00:39<00:00,  2.61s/it]\n"
     ]
    },
    {
     "name": "stdout",
     "output_type": "stream",
     "text": [
      "JSONDecodeError: Expecting ',' delimiter: line 3 column 364 (char 396)\n",
      "JSONDecodeError: Expecting ',' delimiter: line 3 column 490 (char 522)\n",
      "JSONDecodeError: Expecting value: line 1 column 1 (char 0)\n",
      "Failed to fix JSON string: Expecting value: line 1 column 1 (char 0)\n",
      "JSONDecodeError: Expecting ',' delimiter: line 3 column 258 (char 286)\n",
      "JSONDecodeError: Expecting ',' delimiter: line 3 column 502 (char 537)\n",
      "JSONDecodeError: Expecting ',' delimiter: line 3 column 364 (char 399)\n",
      "JSONDecodeError: Expecting ',' delimiter: line 3 column 474 (char 502)\n"
     ]
    },
    {
     "name": "stderr",
     "output_type": "stream",
     "text": [
      "100%|███████████████████████████████████████████████████| 15/15 [00:39<00:00,  2.63s/it]\n"
     ]
    },
    {
     "name": "stdout",
     "output_type": "stream",
     "text": [
      "JSONDecodeError: Expecting ',' delimiter: line 3 column 343 (char 371)\n",
      "JSONDecodeError: Expecting ',' delimiter: line 3 column 606 (char 634)\n",
      "JSONDecodeError: Expecting ',' delimiter: line 3 column 482 (char 517)\n",
      "JSONDecodeError: Expecting ',' delimiter: line 3 column 379 (char 407)\n",
      "JSONDecodeError: Expecting value: line 1 column 1 (char 0)\n",
      "Failed to fix JSON string: Expecting value: line 1 column 1 (char 0)\n",
      "JSONDecodeError: Expecting value: line 1 column 1 (char 0)\n",
      "Failed to fix JSON string: Expecting value: line 1 column 1 (char 0)\n",
      "JSONDecodeError: Expecting ',' delimiter: line 3 column 372 (char 407)\n"
     ]
    },
    {
     "name": "stderr",
     "output_type": "stream",
     "text": [
      "100%|███████████████████████████████████████████████████| 15/15 [00:38<00:00,  2.58s/it]\n"
     ]
    },
    {
     "name": "stdout",
     "output_type": "stream",
     "text": [
      "JSONDecodeError: Expecting ',' delimiter: line 3 column 293 (char 321)\n",
      "JSONDecodeError: Expecting ',' delimiter: line 3 column 213 (char 241)\n",
      "JSONDecodeError: Expecting ',' delimiter: line 3 column 276 (char 304)\n",
      "JSONDecodeError: Expecting ',' delimiter: line 3 column 352 (char 378)\n",
      "JSONDecodeError: Expecting ',' delimiter: line 3 column 263 (char 291)\n",
      "JSONDecodeError: Expecting ',' delimiter: line 3 column 491 (char 519)\n",
      "JSONDecodeError: Expecting ',' delimiter: line 3 column 399 (char 427)\n",
      "JSONDecodeError: Expecting ',' delimiter: line 3 column 465 (char 491)\n"
     ]
    },
    {
     "name": "stderr",
     "output_type": "stream",
     "text": [
      "100%|████████████████████████████| 15/15 [00:38<00:00,  2.58s/it]\n"
     ]
    },
    {
     "name": "stdout",
     "output_type": "stream",
     "text": [
      "JSONDecodeError: Expecting ',' delimiter: line 3 column 285 (char 311)\n",
      "JSONDecodeError: Expecting ',' delimiter: line 3 column 266 (char 294)\n",
      "JSONDecodeError: Expecting ',' delimiter: line 3 column 408 (char 443)\n",
      "JSONDecodeError: Expecting ',' delimiter: line 3 column 256 (char 284)\n",
      "JSONDecodeError: Expecting ',' delimiter: line 3 column 268 (char 296)\n",
      "JSONDecodeError: Expecting ',' delimiter: line 3 column 311 (char 339)\n",
      "JSONDecodeError: Expecting ',' delimiter: line 3 column 210 (char 236)\n",
      "JSONDecodeError: Expecting ',' delimiter: line 3 column 208 (char 236)\n",
      "JSONDecodeError: Expecting ',' delimiter: line 3 column 471 (char 499)\n"
     ]
    },
    {
     "name": "stderr",
     "output_type": "stream",
     "text": [
      "100%|████████████████████████████| 15/15 [00:38<00:00,  2.60s/it]\n"
     ]
    },
    {
     "name": "stdout",
     "output_type": "stream",
     "text": [
      "JSONDecodeError: Expecting ',' delimiter: line 3 column 386 (char 414)\n",
      "JSONDecodeError: Expecting ',' delimiter: line 3 column 319 (char 347)\n",
      "JSONDecodeError: Expecting ',' delimiter: line 3 column 429 (char 457)\n",
      "JSONDecodeError: Expecting ',' delimiter: line 3 column 427 (char 455)\n"
     ]
    },
    {
     "name": "stderr",
     "output_type": "stream",
     "text": [
      "100%|████████████████████████████| 15/15 [00:38<00:00,  2.59s/it]\n"
     ]
    },
    {
     "name": "stdout",
     "output_type": "stream",
     "text": [
      "JSONDecodeError: Expecting ',' delimiter: line 3 column 509 (char 544)\n",
      "JSONDecodeError: Expecting ',' delimiter: line 3 column 444 (char 479)\n",
      "JSONDecodeError: Expecting ',' delimiter: line 3 column 297 (char 325)\n",
      "JSONDecodeError: Expecting ',' delimiter: line 3 column 261 (char 289)\n",
      "JSONDecodeError: Expecting ',' delimiter: line 3 column 404 (char 439)\n",
      "JSONDecodeError: Expecting value: line 1 column 1 (char 0)\n",
      "Failed to fix JSON string: Expecting value: line 1 column 1 (char 0)\n"
     ]
    },
    {
     "name": "stderr",
     "output_type": "stream",
     "text": [
      "100%|███████████████████████████████████████████████████| 15/15 [00:39<00:00,  2.64s/it]\n"
     ]
    },
    {
     "name": "stdout",
     "output_type": "stream",
     "text": [
      "JSONDecodeError: Expecting ',' delimiter: line 3 column 484 (char 517)\n",
      "JSONDecodeError: Expecting ',' delimiter: line 3 column 365 (char 393)\n",
      "JSONDecodeError: Expecting value: line 1 column 1 (char 0)\n",
      "Failed to fix JSON string: Expecting value: line 1 column 1 (char 0)\n"
     ]
    },
    {
     "name": "stderr",
     "output_type": "stream",
     "text": [
      "100%|███████████████████████████████████████████████████| 15/15 [00:39<00:00,  2.65s/it]\n"
     ]
    },
    {
     "name": "stdout",
     "output_type": "stream",
     "text": [
      "JSONDecodeError: Expecting ',' delimiter: line 3 column 301 (char 329)\n",
      "JSONDecodeError: Expecting ',' delimiter: line 3 column 212 (char 240)\n",
      "JSONDecodeError: Expecting ',' delimiter: line 3 column 202 (char 230)\n",
      "JSONDecodeError: Expecting ',' delimiter: line 3 column 398 (char 426)\n",
      "JSONDecodeError: Expecting ',' delimiter: line 3 column 464 (char 499)\n",
      "JSONDecodeError: Expecting ',' delimiter: line 3 column 562 (char 597)\n",
      "JSONDecodeError: Expecting value: line 1 column 1 (char 0)\n",
      "Failed to fix JSON string: Expecting value: line 1 column 1 (char 0)\n",
      "JSONDecodeError: Expecting ',' delimiter: line 3 column 390 (char 422)\n"
     ]
    },
    {
     "name": "stderr",
     "output_type": "stream",
     "text": [
      "100%|███████████████████████████████████████████████████| 15/15 [00:39<00:00,  2.64s/it]\n"
     ]
    },
    {
     "name": "stdout",
     "output_type": "stream",
     "text": [
      "JSONDecodeError: Expecting value: line 1 column 1 (char 0)\n",
      "Failed to fix JSON string: Expecting value: line 1 column 1 (char 0)\n",
      "JSONDecodeError: Expecting ',' delimiter: line 3 column 575 (char 610)\n",
      "JSONDecodeError: Expecting ',' delimiter: line 3 column 609 (char 644)\n",
      "JSONDecodeError: Expecting ',' delimiter: line 3 column 332 (char 367)\n",
      "JSONDecodeError: Expecting value: line 1 column 1 (char 0)\n",
      "Failed to fix JSON string: Expecting value: line 1 column 1 (char 0)\n",
      "JSONDecodeError: Expecting ',' delimiter: line 3 column 519 (char 547)\n",
      "JSONDecodeError: Expecting value: line 1 column 1 (char 0)\n",
      "Failed to fix JSON string: Expecting value: line 1 column 1 (char 0)\n",
      "JSONDecodeError: Expecting ',' delimiter: line 3 column 454 (char 482)\n",
      "JSONDecodeError: Expecting ',' delimiter: line 3 column 603 (char 638)\n",
      "JSONDecodeError: Expecting ',' delimiter: line 3 column 529 (char 557)\n",
      "JSONDecodeError: Expecting ',' delimiter: line 3 column 537 (char 565)\n"
     ]
    },
    {
     "name": "stderr",
     "output_type": "stream",
     "text": [
      "100%|███████████████████████████████████████████████████| 15/15 [00:39<00:00,  2.62s/it]\n"
     ]
    },
    {
     "name": "stdout",
     "output_type": "stream",
     "text": [
      "JSONDecodeError: Expecting ',' delimiter: line 3 column 308 (char 343)\n",
      "JSONDecodeError: Expecting value: line 1 column 1 (char 0)\n",
      "Failed to fix JSON string: Expecting value: line 1 column 1 (char 0)\n",
      "JSONDecodeError: Expecting ',' delimiter: line 3 column 412 (char 444)\n",
      "JSONDecodeError: Expecting ',' delimiter: line 3 column 257 (char 285)\n",
      "JSONDecodeError: Expecting ',' delimiter: line 3 column 315 (char 343)\n",
      "JSONDecodeError: Expecting value: line 1 column 1 (char 0)\n",
      "Failed to fix JSON string: Expecting value: line 1 column 1 (char 0)\n",
      "JSONDecodeError: Expecting ',' delimiter: line 3 column 269 (char 297)\n",
      "JSONDecodeError: Expecting ',' delimiter: line 3 column 440 (char 468)\n",
      "JSONDecodeError: Expecting ',' delimiter: line 3 column 387 (char 419)\n",
      "JSONDecodeError: Expecting value: line 1 column 1 (char 0)\n",
      "Failed to fix JSON string: Expecting value: line 1 column 1 (char 0)\n",
      "JSONDecodeError: Expecting value: line 1 column 1 (char 0)\n",
      "Failed to fix JSON string: Expecting value: line 1 column 1 (char 0)\n"
     ]
    },
    {
     "name": "stderr",
     "output_type": "stream",
     "text": [
      "100%|███████████████████████████████████████████████████| 15/15 [00:39<00:00,  2.64s/it]\n"
     ]
    },
    {
     "name": "stdout",
     "output_type": "stream",
     "text": [
      "JSONDecodeError: Expecting ',' delimiter: line 3 column 342 (char 370)\n",
      "JSONDecodeError: Expecting ',' delimiter: line 3 column 332 (char 360)\n",
      "JSONDecodeError: Expecting ',' delimiter: line 3 column 315 (char 350)\n",
      "JSONDecodeError: Expecting ',' delimiter: line 3 column 252 (char 280)\n",
      "JSONDecodeError: Expecting ',' delimiter: line 3 column 438 (char 473)\n",
      "JSONDecodeError: Expecting ',' delimiter: line 3 column 390 (char 425)\n",
      "JSONDecodeError: Expecting ',' delimiter: line 3 column 297 (char 325)\n",
      "JSONDecodeError: Expecting value: line 1 column 1 (char 0)\n",
      "Failed to fix JSON string: Expecting value: line 1 column 1 (char 0)\n",
      "JSONDecodeError: Expecting ',' delimiter: line 3 column 506 (char 541)\n",
      "JSONDecodeError: Expecting value: line 1 column 1 (char 0)\n",
      "Failed to fix JSON string: Expecting value: line 1 column 1 (char 0)\n"
     ]
    },
    {
     "name": "stderr",
     "output_type": "stream",
     "text": [
      "100%|███████████████████████████████████████████████████| 15/15 [00:39<00:00,  2.63s/it]\n"
     ]
    },
    {
     "name": "stdout",
     "output_type": "stream",
     "text": [
      "JSONDecodeError: Expecting value: line 1 column 1 (char 0)\n",
      "Failed to fix JSON string: Expecting value: line 1 column 1 (char 0)\n",
      "JSONDecodeError: Expecting ',' delimiter: line 3 column 498 (char 533)\n"
     ]
    },
    {
     "name": "stderr",
     "output_type": "stream",
     "text": [
      "100%|███████████████████████████████████████████████████| 15/15 [00:39<00:00,  2.62s/it]\n"
     ]
    },
    {
     "name": "stdout",
     "output_type": "stream",
     "text": [
      "JSONDecodeError: Expecting ',' delimiter: line 3 column 556 (char 584)\n",
      "JSONDecodeError: Expecting ',' delimiter: line 3 column 505 (char 540)\n",
      "JSONDecodeError: Expecting value: line 1 column 1 (char 0)\n",
      "Failed to fix JSON string: Expecting value: line 1 column 1 (char 0)\n",
      "JSONDecodeError: Expecting value: line 1 column 1 (char 0)\n",
      "Failed to fix JSON string: Expecting value: line 1 column 1 (char 0)\n",
      "JSONDecodeError: Expecting ',' delimiter: line 3 column 577 (char 605)\n",
      "JSONDecodeError: Expecting ',' delimiter: line 3 column 535 (char 570)\n",
      "JSONDecodeError: Expecting ',' delimiter: line 3 column 603 (char 636)\n",
      "JSONDecodeError: Expecting ',' delimiter: line 3 column 341 (char 369)\n",
      "JSONDecodeError: Expecting ',' delimiter: line 3 column 259 (char 287)\n",
      "JSONDecodeError: Expecting ',' delimiter: line 3 column 595 (char 630)\n"
     ]
    },
    {
     "name": "stderr",
     "output_type": "stream",
     "text": [
      "100%|███████████████████████████████████████████████████| 15/15 [00:39<00:00,  2.65s/it]\n"
     ]
    },
    {
     "name": "stdout",
     "output_type": "stream",
     "text": [
      "JSONDecodeError: Expecting value: line 1 column 1 (char 0)\n",
      "Failed to fix JSON string: Expecting value: line 1 column 1 (char 0)\n",
      "JSONDecodeError: Expecting ',' delimiter: line 3 column 224 (char 252)\n",
      "JSONDecodeError: Expecting ',' delimiter: line 3 column 413 (char 441)\n",
      "JSONDecodeError: Expecting ',' delimiter: line 3 column 446 (char 474)\n",
      "JSONDecodeError: Expecting ',' delimiter: line 3 column 425 (char 457)\n",
      "JSONDecodeError: Expecting value: line 1 column 1 (char 0)\n",
      "Failed to fix JSON string: Expecting value: line 1 column 1 (char 0)\n",
      "JSONDecodeError: Expecting ',' delimiter: line 3 column 637 (char 665)\n",
      "JSONDecodeError: Expecting ',' delimiter: line 3 column 411 (char 439)\n"
     ]
    },
    {
     "name": "stderr",
     "output_type": "stream",
     "text": [
      "100%|███████████████████████████████████████████████████| 15/15 [00:39<00:00,  2.64s/it]\n"
     ]
    },
    {
     "name": "stdout",
     "output_type": "stream",
     "text": [
      "JSONDecodeError: Expecting ',' delimiter: line 3 column 270 (char 302)\n",
      "JSONDecodeError: Expecting ',' delimiter: line 3 column 350 (char 380)\n",
      "JSONDecodeError: Expecting ',' delimiter: line 3 column 414 (char 442)\n",
      "JSONDecodeError: Expecting ',' delimiter: line 3 column 311 (char 339)\n",
      "JSONDecodeError: Expecting ',' delimiter: line 3 column 355 (char 383)\n",
      "JSONDecodeError: Expecting ',' delimiter: line 3 column 369 (char 397)\n",
      "JSONDecodeError: Expecting value: line 1 column 1 (char 0)\n",
      "Failed to fix JSON string: Expecting value: line 1 column 1 (char 0)\n"
     ]
    },
    {
     "name": "stderr",
     "output_type": "stream",
     "text": [
      "100%|████████████████████████████| 15/15 [00:39<00:00,  2.62s/it]\n"
     ]
    },
    {
     "name": "stdout",
     "output_type": "stream",
     "text": [
      "JSONDecodeError: Expecting ',' delimiter: line 3 column 418 (char 448)\n",
      "JSONDecodeError: Expecting ',' delimiter: line 3 column 504 (char 532)\n",
      "JSONDecodeError: Expecting ',' delimiter: line 3 column 421 (char 449)\n",
      "JSONDecodeError: Expecting ',' delimiter: line 3 column 340 (char 368)\n",
      "JSONDecodeError: Expecting ',' delimiter: line 3 column 365 (char 393)\n",
      "JSONDecodeError: Expecting ',' delimiter: line 3 column 422 (char 450)\n",
      "JSONDecodeError: Expecting ',' delimiter: line 3 column 380 (char 406)\n"
     ]
    },
    {
     "name": "stderr",
     "output_type": "stream",
     "text": [
      "100%|████████████████████████████| 15/15 [00:39<00:00,  2.63s/it]\n"
     ]
    },
    {
     "name": "stdout",
     "output_type": "stream",
     "text": [
      "JSONDecodeError: Expecting ',' delimiter: line 3 column 303 (char 335)\n",
      "JSONDecodeError: Expecting ',' delimiter: line 3 column 267 (char 297)\n",
      "JSONDecodeError: Expecting ',' delimiter: line 3 column 346 (char 378)\n",
      "JSONDecodeError: Expecting ',' delimiter: line 3 column 738 (char 773)\n",
      "JSONDecodeError: Expecting ',' delimiter: line 3 column 427 (char 455)\n",
      "JSONDecodeError: Expecting ',' delimiter: line 3 column 433 (char 466)\n"
     ]
    },
    {
     "name": "stderr",
     "output_type": "stream",
     "text": [
      "100%|████████████████████████████| 15/15 [00:38<00:00,  2.59s/it]\n"
     ]
    },
    {
     "name": "stdout",
     "output_type": "stream",
     "text": [
      "JSONDecodeError: Expecting value: line 1 column 1 (char 0)\n",
      "Failed to fix JSON string: Expecting value: line 1 column 1 (char 0)\n",
      "JSONDecodeError: Expecting ',' delimiter: line 3 column 499 (char 534)\n",
      "JSONDecodeError: Expecting ',' delimiter: line 3 column 416 (char 451)\n",
      "JSONDecodeError: Expecting ',' delimiter: line 3 column 382 (char 417)\n",
      "JSONDecodeError: Expecting ',' delimiter: line 3 column 286 (char 312)\n",
      "JSONDecodeError: Expecting ',' delimiter: line 3 column 301 (char 329)\n",
      "JSONDecodeError: Expecting ',' delimiter: line 3 column 289 (char 317)\n",
      "JSONDecodeError: Expecting ',' delimiter: line 3 column 350 (char 378)\n",
      "JSONDecodeError: Expecting ',' delimiter: line 3 column 340 (char 368)\n",
      "JSONDecodeError: Expecting ',' delimiter: line 3 column 201 (char 229)\n"
     ]
    },
    {
     "name": "stderr",
     "output_type": "stream",
     "text": [
      "100%|████████████████████████████| 15/15 [00:39<00:00,  2.61s/it]\n"
     ]
    },
    {
     "name": "stdout",
     "output_type": "stream",
     "text": [
      "JSONDecodeError: Expecting ',' delimiter: line 3 column 156 (char 184)\n",
      "JSONDecodeError: Expecting value: line 1 column 1 (char 0)\n",
      "Failed to fix JSON string: Expecting value: line 1 column 1 (char 0)\n",
      "JSONDecodeError: Expecting value: line 1 column 1 (char 0)\n",
      "Failed to fix JSON string: Expecting value: line 1 column 1 (char 0)\n",
      "JSONDecodeError: Expecting ',' delimiter: line 3 column 435 (char 467)\n",
      "JSONDecodeError: Expecting value: line 1 column 1 (char 0)\n",
      "Failed to fix JSON string: Expecting value: line 1 column 1 (char 0)\n",
      "JSONDecodeError: Expecting ',' delimiter: line 3 column 548 (char 576)\n",
      "JSONDecodeError: Expecting value: line 1 column 1 (char 0)\n",
      "Failed to fix JSON string: Expecting value: line 1 column 1 (char 0)\n"
     ]
    },
    {
     "name": "stderr",
     "output_type": "stream",
     "text": [
      "100%|████████████████████████████| 15/15 [00:39<00:00,  2.61s/it]\n"
     ]
    },
    {
     "name": "stdout",
     "output_type": "stream",
     "text": [
      "JSONDecodeError: Expecting value: line 1 column 1 (char 0)\n",
      "Failed to fix JSON string: Expecting value: line 1 column 1 (char 0)\n",
      "JSONDecodeError: Expecting ',' delimiter: line 3 column 291 (char 319)\n",
      "JSONDecodeError: Expecting ',' delimiter: line 3 column 381 (char 407)\n",
      "JSONDecodeError: Expecting ',' delimiter: line 3 column 276 (char 304)\n",
      "JSONDecodeError: Expecting value: line 1 column 1 (char 0)\n",
      "Failed to fix JSON string: Expecting value: line 1 column 1 (char 0)\n",
      "JSONDecodeError: Expecting value: line 1 column 1 (char 0)\n",
      "Failed to fix JSON string: Expecting value: line 1 column 1 (char 0)\n",
      "JSONDecodeError: Expecting ',' delimiter: line 3 column 468 (char 496)\n"
     ]
    },
    {
     "name": "stderr",
     "output_type": "stream",
     "text": [
      "100%|████████████████████████████| 15/15 [00:39<00:00,  2.62s/it]\n"
     ]
    },
    {
     "name": "stdout",
     "output_type": "stream",
     "text": [
      "JSONDecodeError: Expecting ',' delimiter: line 3 column 459 (char 494)\n",
      "JSONDecodeError: Expecting ',' delimiter: line 3 column 261 (char 289)\n",
      "JSONDecodeError: Expecting ',' delimiter: line 3 column 318 (char 346)\n",
      "JSONDecodeError: Expecting ',' delimiter: line 3 column 376 (char 408)\n",
      "JSONDecodeError: Expecting ',' delimiter: line 3 column 268 (char 300)\n",
      "JSONDecodeError: Expecting ',' delimiter: line 3 column 215 (char 241)\n",
      "JSONDecodeError: Expecting ',' delimiter: line 3 column 344 (char 376)\n",
      "JSONDecodeError: Expecting value: line 1 column 1 (char 0)\n",
      "Failed to fix JSON string: Expecting value: line 1 column 1 (char 0)\n",
      "JSONDecodeError: Expecting ',' delimiter: line 3 column 417 (char 452)\n",
      "JSONDecodeError: Expecting ',' delimiter: line 3 column 370 (char 402)\n",
      "JSONDecodeError: Expecting value: line 1 column 1 (char 0)\n",
      "Failed to fix JSON string: Expecting value: line 1 column 1 (char 0)\n"
     ]
    },
    {
     "name": "stderr",
     "output_type": "stream",
     "text": [
      "100%|███████████████████████████████████████████████████| 15/15 [00:39<00:00,  2.62s/it]\n"
     ]
    },
    {
     "name": "stdout",
     "output_type": "stream",
     "text": [
      "JSONDecodeError: Expecting value: line 1 column 1 (char 0)\n",
      "Failed to fix JSON string: Expecting value: line 1 column 1 (char 0)\n",
      "JSONDecodeError: Expecting value: line 1 column 1 (char 0)\n",
      "Failed to fix JSON string: Expecting value: line 1 column 1 (char 0)\n",
      "JSONDecodeError: Expecting ',' delimiter: line 3 column 358 (char 393)\n",
      "JSONDecodeError: Expecting ',' delimiter: line 3 column 208 (char 240)\n",
      "JSONDecodeError: Expecting value: line 1 column 1 (char 0)\n",
      "Failed to fix JSON string: Expecting value: line 1 column 1 (char 0)\n",
      "JSONDecodeError: Expecting ',' delimiter: line 3 column 252 (char 284)\n",
      "JSONDecodeError: Expecting value: line 1 column 1 (char 0)\n",
      "Failed to fix JSON string: Expecting value: line 1 column 1 (char 0)\n",
      "JSONDecodeError: Expecting value: line 1 column 1 (char 0)\n",
      "Failed to fix JSON string: Expecting value: line 1 column 1 (char 0)\n"
     ]
    },
    {
     "name": "stderr",
     "output_type": "stream",
     "text": [
      "100%|███████████████████████████████████████████████████| 15/15 [00:39<00:00,  2.64s/it]\n"
     ]
    },
    {
     "name": "stdout",
     "output_type": "stream",
     "text": [
      "JSONDecodeError: Expecting ',' delimiter: line 3 column 324 (char 356)\n",
      "JSONDecodeError: Expecting ',' delimiter: line 3 column 476 (char 504)\n",
      "JSONDecodeError: Expecting ',' delimiter: line 3 column 351 (char 386)\n",
      "JSONDecodeError: Expecting ',' delimiter: line 3 column 380 (char 408)\n",
      "JSONDecodeError: Expecting ',' delimiter: line 3 column 277 (char 305)\n",
      "JSONDecodeError: Expecting ',' delimiter: line 3 column 518 (char 544)\n",
      "JSONDecodeError: Expecting ',' delimiter: line 3 column 529 (char 564)\n",
      "JSONDecodeError: Expecting ',' delimiter: line 3 column 569 (char 604)\n",
      "JSONDecodeError: Expecting ',' delimiter: line 3 column 301 (char 329)\n",
      "JSONDecodeError: Expecting value: line 1 column 1 (char 0)\n",
      "Failed to fix JSON string: Expecting value: line 1 column 1 (char 0)\n"
     ]
    },
    {
     "name": "stderr",
     "output_type": "stream",
     "text": [
      "100%|███████████████████████████████████████████████████| 15/15 [00:39<00:00,  2.64s/it]\n"
     ]
    },
    {
     "name": "stdout",
     "output_type": "stream",
     "text": [
      "JSONDecodeError: Expecting ',' delimiter: line 3 column 303 (char 331)\n",
      "JSONDecodeError: Expecting ',' delimiter: line 3 column 369 (char 397)\n",
      "JSONDecodeError: Expecting ',' delimiter: line 3 column 339 (char 365)\n",
      "JSONDecodeError: Expecting ',' delimiter: line 3 column 319 (char 347)\n",
      "JSONDecodeError: Expecting ',' delimiter: line 3 column 302 (char 328)\n",
      "JSONDecodeError: Expecting value: line 1 column 1 (char 0)\n",
      "Failed to fix JSON string: Expecting value: line 1 column 1 (char 0)\n",
      "JSONDecodeError: Expecting ',' delimiter: line 3 column 486 (char 521)\n",
      "JSONDecodeError: Expecting ',' delimiter: line 3 column 523 (char 551)\n",
      "JSONDecodeError: Expecting value: line 1 column 1 (char 0)\n",
      "Failed to fix JSON string: Expecting value: line 1 column 1 (char 0)\n",
      "JSONDecodeError: Expecting ',' delimiter: line 3 column 650 (char 685)\n"
     ]
    },
    {
     "name": "stderr",
     "output_type": "stream",
     "text": [
      "100%|███████████████████████████████████████████████████| 15/15 [00:39<00:00,  2.64s/it]\n"
     ]
    },
    {
     "name": "stdout",
     "output_type": "stream",
     "text": [
      "JSONDecodeError: Expecting value: line 1 column 1 (char 0)\n",
      "Failed to fix JSON string: Expecting value: line 1 column 1 (char 0)\n",
      "JSONDecodeError: Expecting ',' delimiter: line 3 column 363 (char 396)\n",
      "JSONDecodeError: Expecting value: line 1 column 1 (char 0)\n",
      "Failed to fix JSON string: Expecting value: line 1 column 1 (char 0)\n",
      "JSONDecodeError: Expecting ',' delimiter: line 3 column 501 (char 529)\n",
      "JSONDecodeError: Expecting ',' delimiter: line 3 column 253 (char 281)\n",
      "JSONDecodeError: Expecting ',' delimiter: line 3 column 313 (char 341)\n",
      "JSONDecodeError: Expecting ',' delimiter: line 3 column 391 (char 419)\n",
      "JSONDecodeError: Expecting ',' delimiter: line 3 column 392 (char 420)\n"
     ]
    },
    {
     "name": "stderr",
     "output_type": "stream",
     "text": [
      "100%|███████████████████████████████████████████████████| 15/15 [00:39<00:00,  2.66s/it]\n"
     ]
    },
    {
     "name": "stdout",
     "output_type": "stream",
     "text": [
      "JSONDecodeError: Expecting ',' delimiter: line 3 column 259 (char 287)\n",
      "JSONDecodeError: Expecting ',' delimiter: line 3 column 520 (char 553)\n",
      "JSONDecodeError: Expecting ',' delimiter: line 3 column 375 (char 410)\n",
      "JSONDecodeError: Expecting ',' delimiter: line 3 column 451 (char 479)\n",
      "JSONDecodeError: Expecting ',' delimiter: line 3 column 823 (char 849)\n",
      "JSONDecodeError: Expecting value: line 1 column 1 (char 0)\n",
      "Failed to fix JSON string: Expecting value: line 1 column 1 (char 0)\n"
     ]
    },
    {
     "name": "stderr",
     "output_type": "stream",
     "text": [
      "100%|███████████████████████████████████████████████████| 15/15 [00:39<00:00,  2.65s/it]\n"
     ]
    },
    {
     "name": "stdout",
     "output_type": "stream",
     "text": [
      "JSONDecodeError: Expecting ',' delimiter: line 3 column 341 (char 369)\n",
      "JSONDecodeError: Expecting ',' delimiter: line 3 column 371 (char 403)\n",
      "JSONDecodeError: Expecting ',' delimiter: line 3 column 389 (char 417)\n",
      "JSONDecodeError: Expecting value: line 1 column 1 (char 0)\n",
      "Failed to fix JSON string: Expecting value: line 1 column 1 (char 0)\n",
      "JSONDecodeError: Expecting ',' delimiter: line 3 column 644 (char 679)\n",
      "JSONDecodeError: Expecting ',' delimiter: line 3 column 530 (char 558)\n",
      "JSONDecodeError: Expecting ',' delimiter: line 3 column 539 (char 574)\n"
     ]
    },
    {
     "name": "stderr",
     "output_type": "stream",
     "text": [
      "100%|████████████████████████████| 15/15 [00:40<00:00,  2.71s/it]\n"
     ]
    },
    {
     "name": "stdout",
     "output_type": "stream",
     "text": [
      "JSONDecodeError: Expecting ',' delimiter: line 3 column 438 (char 466)\n",
      "JSONDecodeError: Expecting ',' delimiter: line 3 column 608 (char 634)\n",
      "JSONDecodeError: Expecting ',' delimiter: line 3 column 493 (char 521)\n",
      "JSONDecodeError: Expecting ',' delimiter: line 3 column 436 (char 468)\n",
      "JSONDecodeError: Expecting ',' delimiter: line 3 column 400 (char 428)\n",
      "JSONDecodeError: Expecting ',' delimiter: line 3 column 489 (char 517)\n",
      "JSONDecodeError: Expecting ',' delimiter: line 3 column 432 (char 467)\n",
      "JSONDecodeError: Expecting ',' delimiter: line 3 column 427 (char 462)\n"
     ]
    },
    {
     "name": "stderr",
     "output_type": "stream",
     "text": [
      "100%|███████████████████████████████████████████████████| 15/15 [00:39<00:00,  2.62s/it]\n"
     ]
    },
    {
     "name": "stdout",
     "output_type": "stream",
     "text": [
      "JSONDecodeError: Expecting ',' delimiter: line 3 column 467 (char 502)\n",
      "JSONDecodeError: Expecting ',' delimiter: line 3 column 478 (char 506)\n",
      "JSONDecodeError: Expecting ',' delimiter: line 3 column 445 (char 473)\n",
      "JSONDecodeError: Expecting ',' delimiter: line 3 column 321 (char 349)\n",
      "JSONDecodeError: Expecting ',' delimiter: line 3 column 370 (char 398)\n",
      "JSONDecodeError: Expecting ',' delimiter: line 3 column 343 (char 375)\n",
      "JSONDecodeError: Expecting ',' delimiter: line 3 column 328 (char 360)\n",
      "JSONDecodeError: Expecting ',' delimiter: line 3 column 401 (char 434)\n",
      "JSONDecodeError: Expecting ',' delimiter: line 3 column 528 (char 556)\n"
     ]
    },
    {
     "name": "stderr",
     "output_type": "stream",
     "text": [
      "100%|███████████████████████████████████████████████████| 15/15 [00:38<00:00,  2.59s/it]\n"
     ]
    },
    {
     "name": "stdout",
     "output_type": "stream",
     "text": [
      "JSONDecodeError: Expecting value: line 1 column 1 (char 0)\n",
      "Failed to fix JSON string: Expecting value: line 1 column 1 (char 0)\n",
      "JSONDecodeError: Expecting ',' delimiter: line 3 column 248 (char 276)\n",
      "JSONDecodeError: Expecting value: line 1 column 1 (char 0)\n",
      "Failed to fix JSON string: Expecting value: line 1 column 1 (char 0)\n",
      "JSONDecodeError: Expecting ',' delimiter: line 3 column 307 (char 337)\n",
      "JSONDecodeError: Expecting value: line 1 column 1 (char 0)\n",
      "Failed to fix JSON string: Expecting value: line 1 column 1 (char 0)\n",
      "JSONDecodeError: Expecting ',' delimiter: line 3 column 551 (char 586)\n",
      "JSONDecodeError: Expecting ',' delimiter: line 3 column 490 (char 522)\n",
      "JSONDecodeError: Expecting ',' delimiter: line 3 column 469 (char 499)\n",
      "JSONDecodeError: Expecting ',' delimiter: line 3 column 302 (char 334)\n"
     ]
    },
    {
     "name": "stderr",
     "output_type": "stream",
     "text": [
      "100%|███████████████████████████████████████████████████| 15/15 [00:39<00:00,  2.62s/it]\n"
     ]
    },
    {
     "name": "stdout",
     "output_type": "stream",
     "text": [
      "JSONDecodeError: Expecting ',' delimiter: line 3 column 332 (char 364)\n",
      "JSONDecodeError: Expecting ',' delimiter: line 3 column 420 (char 448)\n",
      "JSONDecodeError: Expecting ',' delimiter: line 3 column 444 (char 472)\n",
      "JSONDecodeError: Expecting ',' delimiter: line 3 column 471 (char 506)\n",
      "JSONDecodeError: Expecting value: line 1 column 1 (char 0)\n",
      "Failed to fix JSON string: Expecting value: line 1 column 1 (char 0)\n",
      "JSONDecodeError: Expecting ',' delimiter: line 3 column 521 (char 556)\n",
      "JSONDecodeError: Expecting ',' delimiter: line 3 column 460 (char 488)\n"
     ]
    },
    {
     "name": "stderr",
     "output_type": "stream",
     "text": [
      "100%|███████████████████████████████████████████████████| 15/15 [00:39<00:00,  2.63s/it]\n"
     ]
    },
    {
     "name": "stdout",
     "output_type": "stream",
     "text": [
      "JSONDecodeError: Expecting value: line 1 column 1 (char 0)\n",
      "Failed to fix JSON string: Expecting value: line 1 column 1 (char 0)\n",
      "JSONDecodeError: Expecting value: line 1 column 1 (char 0)\n",
      "Failed to fix JSON string: Expecting value: line 1 column 1 (char 0)\n",
      "JSONDecodeError: Expecting ',' delimiter: line 3 column 583 (char 611)\n",
      "JSONDecodeError: Expecting ',' delimiter: line 3 column 430 (char 458)\n",
      "JSONDecodeError: Expecting ',' delimiter: line 3 column 403 (char 438)\n",
      "JSONDecodeError: Expecting ',' delimiter: line 3 column 282 (char 310)\n",
      "JSONDecodeError: Expecting ',' delimiter: line 3 column 540 (char 568)\n",
      "JSONDecodeError: Expecting ',' delimiter: line 3 column 311 (char 339)\n",
      "JSONDecodeError: Expecting ',' delimiter: line 3 column 276 (char 304)\n"
     ]
    },
    {
     "name": "stderr",
     "output_type": "stream",
     "text": [
      "100%|███████████████████████████████████████████████████| 15/15 [00:39<00:00,  2.61s/it]\n"
     ]
    },
    {
     "name": "stdout",
     "output_type": "stream",
     "text": [
      "JSONDecodeError: Expecting ',' delimiter: line 3 column 489 (char 517)\n",
      "JSONDecodeError: Expecting ',' delimiter: line 3 column 307 (char 335)\n",
      "JSONDecodeError: Expecting ',' delimiter: line 3 column 521 (char 549)\n",
      "JSONDecodeError: Expecting value: line 1 column 1 (char 0)\n",
      "Failed to fix JSON string: Expecting value: line 1 column 1 (char 0)\n",
      "JSONDecodeError: Expecting ',' delimiter: line 3 column 425 (char 453)\n",
      "JSONDecodeError: Expecting ',' delimiter: line 3 column 322 (char 357)\n",
      "JSONDecodeError: Expecting value: line 1 column 1 (char 0)\n",
      "Failed to fix JSON string: Expecting value: line 1 column 1 (char 0)\n",
      "JSONDecodeError: Expecting ',' delimiter: line 3 column 276 (char 304)\n",
      "JSONDecodeError: Expecting value: line 1 column 1 (char 0)\n",
      "Failed to fix JSON string: Expecting value: line 1 column 1 (char 0)\n"
     ]
    },
    {
     "name": "stderr",
     "output_type": "stream",
     "text": [
      "100%|███████████████████████████████████████████████████| 15/15 [00:38<00:00,  2.59s/it]\n"
     ]
    },
    {
     "name": "stdout",
     "output_type": "stream",
     "text": [
      "JSONDecodeError: Expecting ',' delimiter: line 3 column 543 (char 575)\n",
      "JSONDecodeError: Expecting value: line 1 column 1 (char 0)\n",
      "Failed to fix JSON string: Expecting value: line 1 column 1 (char 0)\n",
      "JSONDecodeError: Expecting ',' delimiter: line 3 column 531 (char 559)\n",
      "JSONDecodeError: Expecting ',' delimiter: line 3 column 297 (char 325)\n",
      "JSONDecodeError: Expecting ',' delimiter: line 3 column 303 (char 331)\n"
     ]
    },
    {
     "name": "stderr",
     "output_type": "stream",
     "text": [
      "100%|████████████████████████████| 15/15 [00:38<00:00,  2.58s/it]\n"
     ]
    },
    {
     "name": "stdout",
     "output_type": "stream",
     "text": [
      "JSONDecodeError: Expecting ',' delimiter: line 3 column 431 (char 459)\n",
      "JSONDecodeError: Expecting ',' delimiter: line 3 column 536 (char 564)\n",
      "JSONDecodeError: Expecting ',' delimiter: line 3 column 343 (char 371)\n",
      "JSONDecodeError: Expecting ',' delimiter: line 3 column 309 (char 337)\n",
      "JSONDecodeError: Expecting ',' delimiter: line 3 column 625 (char 660)\n",
      "JSONDecodeError: Expecting ',' delimiter: line 3 column 227 (char 255)\n",
      "JSONDecodeError: Expecting ',' delimiter: line 3 column 507 (char 535)\n",
      "JSONDecodeError: Expecting ',' delimiter: line 3 column 299 (char 327)\n"
     ]
    },
    {
     "name": "stderr",
     "output_type": "stream",
     "text": [
      "100%|████████████████████████████| 15/15 [00:39<00:00,  2.63s/it]\n"
     ]
    },
    {
     "name": "stdout",
     "output_type": "stream",
     "text": [
      "JSONDecodeError: Expecting ',' delimiter: line 3 column 355 (char 383)\n",
      "JSONDecodeError: Expecting ',' delimiter: line 3 column 369 (char 397)\n",
      "JSONDecodeError: Expecting ',' delimiter: line 3 column 379 (char 414)\n",
      "JSONDecodeError: Expecting ',' delimiter: line 3 column 707 (char 735)\n",
      "JSONDecodeError: Expecting value: line 1 column 1 (char 0)\n",
      "Failed to fix JSON string: Expecting value: line 1 column 1 (char 0)\n"
     ]
    },
    {
     "name": "stderr",
     "output_type": "stream",
     "text": [
      "100%|████████████████████████████| 15/15 [00:39<00:00,  2.62s/it]\n"
     ]
    },
    {
     "name": "stdout",
     "output_type": "stream",
     "text": [
      "JSONDecodeError: Extra data: line 6 column 1 (char 333)\n",
      "Failed to fix JSON string: Extra data: line 6 column 1 (char 333)\n",
      "JSONDecodeError: Expecting ',' delimiter: line 3 column 201 (char 229)\n",
      "JSONDecodeError: Expecting ',' delimiter: line 3 column 266 (char 294)\n",
      "JSONDecodeError: Expecting ',' delimiter: line 3 column 408 (char 436)\n",
      "JSONDecodeError: Expecting ',' delimiter: line 3 column 346 (char 374)\n",
      "JSONDecodeError: Expecting ',' delimiter: line 3 column 410 (char 445)\n",
      "JSONDecodeError: Expecting ',' delimiter: line 3 column 303 (char 331)\n",
      "JSONDecodeError: Expecting ',' delimiter: line 3 column 576 (char 609)\n",
      "JSONDecodeError: Expecting ',' delimiter: line 3 column 404 (char 432)\n"
     ]
    },
    {
     "name": "stderr",
     "output_type": "stream",
     "text": [
      "100%|████████████████████████████| 15/15 [00:39<00:00,  2.61s/it]\n"
     ]
    },
    {
     "name": "stdout",
     "output_type": "stream",
     "text": [
      "JSONDecodeError: Expecting value: line 1 column 1 (char 0)\n",
      "Failed to fix JSON string: Expecting value: line 1 column 1 (char 0)\n",
      "JSONDecodeError: Expecting ',' delimiter: line 3 column 279 (char 307)\n",
      "JSONDecodeError: Expecting ',' delimiter: line 3 column 418 (char 446)\n",
      "JSONDecodeError: Expecting ',' delimiter: line 3 column 433 (char 461)\n",
      "JSONDecodeError: Expecting ',' delimiter: line 3 column 524 (char 559)\n",
      "JSONDecodeError: Expecting ',' delimiter: line 3 column 523 (char 558)\n",
      "JSONDecodeError: Expecting ',' delimiter: line 3 column 302 (char 337)\n",
      "Failed to fix JSON string: Expecting ',' delimiter: line 3 column 302 (char 337)\n",
      "JSONDecodeError: Expecting ',' delimiter: line 3 column 362 (char 394)\n",
      "JSONDecodeError: Expecting ',' delimiter: line 3 column 469 (char 497)\n",
      "JSONDecodeError: Expecting ',' delimiter: line 3 column 342 (char 370)\n",
      "JSONDecodeError: Expecting ',' delimiter: line 3 column 223 (char 251)\n"
     ]
    },
    {
     "name": "stderr",
     "output_type": "stream",
     "text": [
      "100%|████████████████████████████| 15/15 [00:39<00:00,  2.64s/it]\n"
     ]
    },
    {
     "name": "stdout",
     "output_type": "stream",
     "text": [
      "JSONDecodeError: Expecting ',' delimiter: line 3 column 268 (char 300)\n",
      "JSONDecodeError: Expecting ',' delimiter: line 3 column 313 (char 341)\n",
      "JSONDecodeError: Expecting ',' delimiter: line 3 column 383 (char 418)\n",
      "JSONDecodeError: Expecting ',' delimiter: line 3 column 354 (char 382)\n",
      "JSONDecodeError: Expecting ',' delimiter: line 3 column 284 (char 310)\n",
      "JSONDecodeError: Expecting ',' delimiter: line 3 column 430 (char 465)\n",
      "JSONDecodeError: Expecting ',' delimiter: line 3 column 339 (char 374)\n",
      "JSONDecodeError: Expecting ',' delimiter: line 3 column 445 (char 473)\n",
      "JSONDecodeError: Expecting ',' delimiter: line 3 column 391 (char 419)\n",
      "JSONDecodeError: Expecting ',' delimiter: line 3 column 566 (char 601)\n"
     ]
    },
    {
     "name": "stderr",
     "output_type": "stream",
     "text": [
      "100%|████████████████████████████| 15/15 [00:39<00:00,  2.65s/it]\n"
     ]
    },
    {
     "name": "stdout",
     "output_type": "stream",
     "text": [
      "JSONDecodeError: Expecting ',' delimiter: line 3 column 290 (char 316)\n",
      "JSONDecodeError: Expecting ',' delimiter: line 3 column 366 (char 394)\n",
      "JSONDecodeError: Expecting ',' delimiter: line 3 column 357 (char 387)\n",
      "JSONDecodeError: Expecting ',' delimiter: line 3 column 431 (char 466)\n",
      "JSONDecodeError: Expecting ',' delimiter: line 3 column 310 (char 336)\n",
      "JSONDecodeError: Expecting ',' delimiter: line 3 column 386 (char 421)\n",
      "JSONDecodeError: Expecting value: line 1 column 1 (char 0)\n",
      "Failed to fix JSON string: Expecting value: line 1 column 1 (char 0)\n",
      "JSONDecodeError: Expecting ',' delimiter: line 3 column 405 (char 431)\n"
     ]
    },
    {
     "name": "stderr",
     "output_type": "stream",
     "text": [
      "100%|███████████████████████████████████████████████████| 15/15 [00:40<00:00,  2.67s/it]\n"
     ]
    },
    {
     "name": "stdout",
     "output_type": "stream",
     "text": [
      "JSONDecodeError: Expecting value: line 1 column 1 (char 0)\n",
      "Failed to fix JSON string: Expecting value: line 1 column 1 (char 0)\n",
      "JSONDecodeError: Expecting ',' delimiter: line 3 column 500 (char 528)\n",
      "JSONDecodeError: Expecting value: line 1 column 1 (char 0)\n",
      "Failed to fix JSON string: Expecting value: line 1 column 1 (char 0)\n",
      "JSONDecodeError: Expecting ',' delimiter: line 3 column 242 (char 270)\n",
      "JSONDecodeError: Expecting value: line 1 column 1 (char 0)\n",
      "Failed to fix JSON string: Expecting value: line 1 column 1 (char 0)\n",
      "JSONDecodeError: Expecting ',' delimiter: line 3 column 346 (char 381)\n"
     ]
    },
    {
     "name": "stderr",
     "output_type": "stream",
     "text": [
      "100%|███████████████████████████████████████████████████| 15/15 [00:39<00:00,  2.64s/it]\n"
     ]
    },
    {
     "name": "stdout",
     "output_type": "stream",
     "text": [
      "JSONDecodeError: Expecting ',' delimiter: line 3 column 505 (char 533)\n",
      "JSONDecodeError: Expecting value: line 1 column 1 (char 0)\n",
      "Failed to fix JSON string: Expecting value: line 1 column 1 (char 0)\n",
      "JSONDecodeError: Expecting ',' delimiter: line 3 column 452 (char 484)\n",
      "JSONDecodeError: Expecting ',' delimiter: line 3 column 588 (char 623)\n",
      "JSONDecodeError: Expecting ',' delimiter: line 3 column 443 (char 478)\n",
      "JSONDecodeError: Expecting ',' delimiter: line 3 column 357 (char 392)\n",
      "JSONDecodeError: Expecting ',' delimiter: line 3 column 331 (char 363)\n",
      "JSONDecodeError: Expecting ',' delimiter: line 3 column 250 (char 280)\n",
      "JSONDecodeError: Expecting ',' delimiter: line 3 column 448 (char 476)\n",
      "JSONDecodeError: Expecting ',' delimiter: line 3 column 378 (char 406)\n",
      "JSONDecodeError: Expecting ',' delimiter: line 3 column 299 (char 327)\n",
      "JSONDecodeError: Expecting ',' delimiter: line 3 column 544 (char 579)\n",
      "JSONDecodeError: Expecting ',' delimiter: line 3 column 186 (char 214)\n"
     ]
    },
    {
     "name": "stderr",
     "output_type": "stream",
     "text": [
      "100%|████████████████████████████| 15/15 [00:38<00:00,  2.56s/it]\n"
     ]
    },
    {
     "name": "stdout",
     "output_type": "stream",
     "text": [
      "JSONDecodeError: Expecting ',' delimiter: line 3 column 311 (char 346)\n",
      "JSONDecodeError: Expecting value: line 1 column 1 (char 0)\n",
      "Failed to fix JSON string: Expecting value: line 1 column 1 (char 0)\n",
      "JSONDecodeError: Expecting ',' delimiter: line 3 column 290 (char 318)\n",
      "JSONDecodeError: Expecting ',' delimiter: line 3 column 503 (char 538)\n",
      "JSONDecodeError: Expecting ',' delimiter: line 3 column 513 (char 539)\n",
      "JSONDecodeError: Expecting ',' delimiter: line 3 column 440 (char 468)\n",
      "JSONDecodeError: Expecting ',' delimiter: line 3 column 407 (char 435)\n",
      "JSONDecodeError: Expecting ',' delimiter: line 3 column 287 (char 319)\n"
     ]
    },
    {
     "name": "stderr",
     "output_type": "stream",
     "text": [
      "100%|████████████████████████████| 15/15 [00:39<00:00,  2.64s/it]\n"
     ]
    },
    {
     "name": "stdout",
     "output_type": "stream",
     "text": [
      "JSONDecodeError: Expecting ',' delimiter: line 3 column 295 (char 323)\n",
      "JSONDecodeError: Expecting value: line 1 column 1 (char 0)\n",
      "Failed to fix JSON string: Expecting value: line 1 column 1 (char 0)\n",
      "JSONDecodeError: Expecting ',' delimiter: line 3 column 663 (char 698)\n",
      "JSONDecodeError: Expecting ',' delimiter: line 3 column 750 (char 783)\n",
      "JSONDecodeError: Expecting ',' delimiter: line 3 column 520 (char 555)\n",
      "JSONDecodeError: Expecting ',' delimiter: line 3 column 396 (char 428)\n",
      "JSONDecodeError: Expecting ',' delimiter: line 3 column 401 (char 433)\n",
      "JSONDecodeError: Expecting ',' delimiter: line 3 column 495 (char 523)\n"
     ]
    },
    {
     "name": "stderr",
     "output_type": "stream",
     "text": [
      "100%|████████████████████████████| 15/15 [00:39<00:00,  2.64s/it]\n"
     ]
    },
    {
     "name": "stdout",
     "output_type": "stream",
     "text": [
      "JSONDecodeError: Expecting ',' delimiter: line 3 column 318 (char 346)\n",
      "JSONDecodeError: Expecting ',' delimiter: line 3 column 457 (char 492)\n",
      "JSONDecodeError: Expecting ',' delimiter: line 3 column 324 (char 352)\n",
      "JSONDecodeError: Expecting value: line 1 column 1 (char 0)\n",
      "Failed to fix JSON string: Expecting value: line 1 column 1 (char 0)\n",
      "JSONDecodeError: Expecting ',' delimiter: line 3 column 525 (char 551)\n",
      "JSONDecodeError: Expecting ',' delimiter: line 3 column 753 (char 781)\n",
      "JSONDecodeError: Expecting value: line 1 column 1 (char 0)\n",
      "Failed to fix JSON string: Expecting value: line 1 column 1 (char 0)\n",
      "JSONDecodeError: Expecting ',' delimiter: line 3 column 396 (char 428)\n",
      "JSONDecodeError: Expecting ',' delimiter: line 3 column 365 (char 400)\n",
      "JSONDecodeError: Expecting ',' delimiter: line 3 column 314 (char 342)\n"
     ]
    },
    {
     "name": "stderr",
     "output_type": "stream",
     "text": [
      "100%|███████████████████████████████████████████████████| 15/15 [00:39<00:00,  2.62s/it]\n"
     ]
    },
    {
     "name": "stdout",
     "output_type": "stream",
     "text": [
      "JSONDecodeError: Expecting ',' delimiter: line 3 column 281 (char 313)\n",
      "JSONDecodeError: Expecting ',' delimiter: line 3 column 446 (char 481)\n",
      "JSONDecodeError: Expecting value: line 1 column 1 (char 0)\n",
      "Failed to fix JSON string: Expecting value: line 1 column 1 (char 0)\n",
      "JSONDecodeError: Expecting ',' delimiter: line 3 column 497 (char 532)\n",
      "JSONDecodeError: Expecting ',' delimiter: line 3 column 366 (char 394)\n",
      "JSONDecodeError: Expecting ',' delimiter: line 3 column 411 (char 446)\n"
     ]
    },
    {
     "name": "stderr",
     "output_type": "stream",
     "text": [
      "100%|███████████████████████████████████████████████████| 15/15 [00:39<00:00,  2.65s/it]\n"
     ]
    },
    {
     "name": "stdout",
     "output_type": "stream",
     "text": [
      "JSONDecodeError: Expecting ',' delimiter: line 3 column 363 (char 395)\n",
      "JSONDecodeError: Expecting ',' delimiter: line 3 column 327 (char 355)\n",
      "JSONDecodeError: Expecting ',' delimiter: line 3 column 309 (char 337)\n",
      "JSONDecodeError: Expecting ',' delimiter: line 3 column 309 (char 337)\n",
      "JSONDecodeError: Expecting value: line 1 column 1 (char 0)\n",
      "Failed to fix JSON string: Expecting value: line 1 column 1 (char 0)\n",
      "JSONDecodeError: Expecting value: line 1 column 1 (char 0)\n",
      "Failed to fix JSON string: Expecting value: line 1 column 1 (char 0)\n",
      "JSONDecodeError: Expecting ',' delimiter: line 3 column 476 (char 504)\n",
      "JSONDecodeError: Expecting ',' delimiter: line 3 column 577 (char 612)\n",
      "JSONDecodeError: Expecting ',' delimiter: line 3 column 432 (char 464)\n"
     ]
    },
    {
     "name": "stderr",
     "output_type": "stream",
     "text": [
      "100%|█████████████████████████████████████████████████████| 2/2 [00:05<00:00,  2.70s/it]"
     ]
    },
    {
     "name": "stdout",
     "output_type": "stream",
     "text": [
      "JSONDecodeError: Expecting ',' delimiter: line 3 column 468 (char 503)\n",
      "JSONDecodeError: Expecting value: line 1 column 1 (char 0)\n",
      "Failed to fix JSON string: Expecting value: line 1 column 1 (char 0)\n"
     ]
    },
    {
     "name": "stderr",
     "output_type": "stream",
     "text": [
      "\n"
     ]
    }
   ],
   "source": [
    "for i in range(2, 83):\n",
    "    evaluations = []\n",
    "    results = []\n",
    "    json_evaluations = []\n",
    "    \n",
    "    # Load the pickle file\n",
    "    with open(f\"../data/vietnamese_rag/llm_answer/llm_answer{i}.pkl\", 'rb') as file:\n",
    "        r = pickle.load(file)\n",
    "    results.extend(r)\n",
    "    \n",
    "    # Convert results to DataFrame\n",
    "    df = pd.DataFrame(results)\n",
    "    samples = df.to_dict(orient='records')\n",
    "    \n",
    "    # Generate evaluations\n",
    "    for record in tqdm(samples):\n",
    "        prompt = prompt1_template.format(**record)\n",
    "        evaluation = llm(prompt)\n",
    "        evaluations.append(evaluation)\n",
    "    \n",
    "    # Parse evaluations\n",
    "    for j, str_eval in enumerate(evaluations):\n",
    "        try:\n",
    "            json_eval = json.loads(str_eval)\n",
    "        except json.JSONDecodeError as e:\n",
    "            print(f\"JSONDecodeError: {e}\")\n",
    "            # Attempt to fix the JSON string\n",
    "            try:\n",
    "                str_eval = str_eval.rstrip('}') + '}'  # Ensure it ends with a closing brace\n",
    "                json_eval = json.loads(str_eval)\n",
    "            except json.JSONDecodeError as e:\n",
    "                print(f\"Failed to fix JSON string: {e}\")\n",
    "                continue  # Skip this evaluation if it cannot be fixed\n",
    "        json_evaluations.append(json_eval)\n",
    "    \n",
    "    # Save evaluations to CSV\n",
    "    if json_evaluations:\n",
    "        df_evaluations = pd.DataFrame(json_evaluations)\n",
    "        df_evaluations.to_csv(f'../data/vietnamese_rag/evaluations_aqa/evaluations-aqa{i}.csv', index=False)"
   ]
  },
  {
   "cell_type": "code",
   "execution_count": null,
   "id": "732accb0-12df-46ef-ad49-1711255c942b",
   "metadata": {},
   "outputs": [],
   "source": [
    "\n",
    "    # evaluations = []\n",
    "    # results = []\n",
    "    # json_evaluations = []\n",
    "    # with open(f\"../data/vietnamese_rag/llm_answer/llm_answer1.pkl\", 'rb') as file:\n",
    "    #     r = pickle.load(file)\n",
    "    # results.extend(r)\n",
    "    # df = pd.DataFrame(results)\n",
    "    # samples = df.to_dict(orient='records')\n",
    "    # for record in tqdm(samples):\n",
    "    #     prompt = prompt1_template.format(**record)\n",
    "    #     evaluation = llm(prompt)\n",
    "    #     evaluations.append(evaluation)\n",
    "    "
   ]
  },
  {
   "cell_type": "code",
   "execution_count": null,
   "id": "d01a3c2f-4846-4cba-a020-559c9de11291",
   "metadata": {},
   "outputs": [],
   "source": [
    "# for i, str_eval in enumerate(evaluations):\n",
    "#     # print(str_eval)\n",
    "#     try:\n",
    "#         json_eval = json.loads(str_eval)\n",
    "        \n",
    "#     except json.JSONDecodeError as e:\n",
    "#         print(f\"JSONDecodeError: {e}\")\n",
    "#         str_eval = str_eval + \"}\"\n",
    "#         json_eval = json.loads(str_eval)\n",
    "#         # print(\"After fix: \", json_eval)\n",
    "#     json_evaluations.append(json_eval)\n",
    "# df_evaluations = pd.DataFrame(json_evaluations)\n",
    "# df_evaluations.to_csv(f'../data/vietnamese_rag/evaluations_aqa/evaluations-aqa1.csv', index=False)"
   ]
  },
  {
   "cell_type": "code",
   "execution_count": null,
   "id": "7c948fe7-e430-4392-83fa-fa555e105875",
   "metadata": {},
   "outputs": [],
   "source": [
    "# df_evaluations"
   ]
  },
  {
   "cell_type": "code",
   "execution_count": null,
   "id": "4cefb6fe-4a56-4284-b178-eee4ca24bf1e",
   "metadata": {},
   "outputs": [],
   "source": [
    "# import json\n",
    "\n",
    "# evaluations = [\n",
    "#     '{\"Relevance\": \"PARTLY_RELEVANT\", \"Explanation\": \"The generated answer partially corresponds to the original answer, as it describes Minh Tú\\'s experience in the catwalk challenge on Asia\\'s Next Top Model, which is similar to the context in the original answer. However, the generated answer focuses more on the outcome (her photo being considered too sexy) and doesn\\'t fully capture the original answer\\'s description of Minh Tú overcoming fear to complete the challenge successfully. The relevance is partly relevant because it shares some similar context, but crucial aspects of the original answer are missing.\"}'\n",
    "# ]\n",
    "\n",
    "# json_evaluations = []\n",
    "\n",
    "# for i, str_eval in enumerate(evaluations):\n",
    "#     print(f\"Evaluation {i}: {str_eval}\")\n",
    "#     try:\n",
    "#         json_eval = json.loads(str_eval)\n",
    "#         json_evaluations.append(json_eval)\n",
    "#     except json.JSONDecodeError as e:\n",
    "#         print(f\"JSONDecodeError: {e}\")\n",
    "#         # Optionally, handle the error or log it for further investigation\n",
    "\n",
    "# # If no errors, create DataFrame\n",
    "# if json_evaluations:\n",
    "#     import pandas as pd\n",
    "#     df_evaluations = pd.DataFrame(json_evaluations)\n",
    "#     print(df_evaluations)"
   ]
  },
  {
   "cell_type": "code",
   "execution_count": null,
   "id": "f9692661-66bd-443b-b6ae-d992e78807bc",
   "metadata": {},
   "outputs": [],
   "source": [
    "# df_evaluations"
   ]
  },
  {
   "cell_type": "code",
   "execution_count": 60,
   "id": "8b38c692-0a3f-4b7c-ab70-87b5082f6a1e",
   "metadata": {},
   "outputs": [
    {
     "name": "stderr",
     "output_type": "stream",
     "text": [
      "100%|███████████████████████████████████████████████████| 15/15 [00:06<00:00,  2.34it/s]\n"
     ]
    },
    {
     "name": "stdout",
     "output_type": "stream",
     "text": [
      "JSONDecodeError: Expecting ',' delimiter: line 3 column 454 (char 482)\n",
      "JSONDecodeError: Expecting ',' delimiter: line 3 column 622 (char 650)\n",
      "JSONDecodeError: Expecting ',' delimiter: line 3 column 424 (char 452)\n",
      "JSONDecodeError: Expecting ',' delimiter: line 3 column 459 (char 487)\n",
      "JSONDecodeError: Expecting ',' delimiter: line 3 column 621 (char 649)\n",
      "JSONDecodeError: Expecting value: line 1 column 1 (char 0)\n",
      "Failed to fix JSON string: Expecting value: line 1 column 1 (char 0)\n",
      "JSONDecodeError: Expecting ',' delimiter: line 3 column 332 (char 360)\n",
      "JSONDecodeError: Expecting ',' delimiter: line 3 column 225 (char 253)\n",
      "JSONDecodeError: Expecting ',' delimiter: line 3 column 279 (char 311)\n",
      "evaluations-aqa85.csv saved\n"
     ]
    },
    {
     "name": "stderr",
     "output_type": "stream",
     "text": [
      "100%|███████████████████████████████████████████████████| 15/15 [00:07<00:00,  2.11it/s]\n"
     ]
    },
    {
     "name": "stdout",
     "output_type": "stream",
     "text": [
      "JSONDecodeError: Expecting ',' delimiter: line 3 column 191 (char 219)\n",
      "JSONDecodeError: Expecting ',' delimiter: line 3 column 388 (char 420)\n",
      "JSONDecodeError: Expecting ',' delimiter: line 3 column 481 (char 509)\n",
      "JSONDecodeError: Expecting ',' delimiter: line 3 column 370 (char 396)\n",
      "JSONDecodeError: Expecting ',' delimiter: line 3 column 298 (char 326)\n",
      "JSONDecodeError: Expecting ',' delimiter: line 3 column 198 (char 226)\n",
      "JSONDecodeError: Expecting ',' delimiter: line 3 column 401 (char 429)\n",
      "JSONDecodeError: Expecting value: line 1 column 1 (char 0)\n",
      "Failed to fix JSON string: Expecting value: line 1 column 1 (char 0)\n",
      "evaluations-aqa86.csv saved\n"
     ]
    },
    {
     "name": "stderr",
     "output_type": "stream",
     "text": [
      "100%|███████████████████████████████████████████████████| 15/15 [00:38<00:00,  2.60s/it]\n"
     ]
    },
    {
     "name": "stdout",
     "output_type": "stream",
     "text": [
      "JSONDecodeError: Expecting ',' delimiter: line 3 column 399 (char 434)\n",
      "JSONDecodeError: Expecting ',' delimiter: line 3 column 383 (char 415)\n",
      "JSONDecodeError: Expecting ',' delimiter: line 3 column 455 (char 483)\n",
      "JSONDecodeError: Expecting ',' delimiter: line 3 column 449 (char 477)\n",
      "JSONDecodeError: Expecting ',' delimiter: line 3 column 267 (char 295)\n",
      "JSONDecodeError: Expecting ',' delimiter: line 3 column 547 (char 575)\n",
      "evaluations-aqa87.csv saved\n"
     ]
    },
    {
     "name": "stderr",
     "output_type": "stream",
     "text": [
      "100%|███████████████████████████████████████████████████| 15/15 [00:39<00:00,  2.64s/it]\n"
     ]
    },
    {
     "name": "stdout",
     "output_type": "stream",
     "text": [
      "JSONDecodeError: Expecting ',' delimiter: line 3 column 359 (char 387)\n",
      "JSONDecodeError: Expecting ',' delimiter: line 3 column 279 (char 307)\n",
      "JSONDecodeError: Expecting ',' delimiter: line 3 column 376 (char 411)\n",
      "JSONDecodeError: Expecting value: line 1 column 1 (char 0)\n",
      "Failed to fix JSON string: Expecting value: line 1 column 1 (char 0)\n",
      "JSONDecodeError: Expecting ',' delimiter: line 3 column 355 (char 383)\n",
      "evaluations-aqa88.csv saved\n"
     ]
    },
    {
     "name": "stderr",
     "output_type": "stream",
     "text": [
      "100%|███████████████████████████████████████████████████| 15/15 [00:39<00:00,  2.62s/it]\n"
     ]
    },
    {
     "name": "stdout",
     "output_type": "stream",
     "text": [
      "JSONDecodeError: Expecting value: line 1 column 1 (char 0)\n",
      "Failed to fix JSON string: Expecting value: line 1 column 1 (char 0)\n",
      "JSONDecodeError: Expecting ',' delimiter: line 3 column 363 (char 391)\n",
      "JSONDecodeError: Expecting ',' delimiter: line 3 column 464 (char 492)\n",
      "JSONDecodeError: Expecting ',' delimiter: line 3 column 465 (char 495)\n",
      "JSONDecodeError: Expecting ',' delimiter: line 3 column 327 (char 359)\n",
      "JSONDecodeError: Expecting ',' delimiter: line 3 column 258 (char 284)\n",
      "JSONDecodeError: Expecting ',' delimiter: line 3 column 430 (char 465)\n",
      "JSONDecodeError: Expecting ',' delimiter: line 3 column 532 (char 567)\n",
      "JSONDecodeError: Expecting ',' delimiter: line 3 column 321 (char 349)\n",
      "evaluations-aqa89.csv saved\n"
     ]
    },
    {
     "name": "stderr",
     "output_type": "stream",
     "text": [
      "100%|███████████████████████████████████████████████████| 15/15 [00:39<00:00,  2.62s/it]\n"
     ]
    },
    {
     "name": "stdout",
     "output_type": "stream",
     "text": [
      "JSONDecodeError: Expecting ',' delimiter: line 3 column 308 (char 336)\n",
      "JSONDecodeError: Expecting ',' delimiter: line 3 column 486 (char 521)\n",
      "JSONDecodeError: Expecting ',' delimiter: line 3 column 611 (char 639)\n",
      "JSONDecodeError: Expecting ',' delimiter: line 3 column 251 (char 279)\n",
      "JSONDecodeError: Expecting ',' delimiter: line 3 column 253 (char 281)\n",
      "JSONDecodeError: Expecting ',' delimiter: line 3 column 196 (char 224)\n",
      "JSONDecodeError: Expecting ',' delimiter: line 3 column 438 (char 464)\n",
      "evaluations-aqa90.csv saved\n"
     ]
    },
    {
     "name": "stderr",
     "output_type": "stream",
     "text": [
      "100%|████████████████████████████| 15/15 [00:40<00:00,  2.69s/it]\n"
     ]
    },
    {
     "name": "stdout",
     "output_type": "stream",
     "text": [
      "JSONDecodeError: Expecting ',' delimiter: line 3 column 439 (char 467)\n",
      "JSONDecodeError: Expecting ',' delimiter: line 3 column 318 (char 353)\n",
      "JSONDecodeError: Expecting ',' delimiter: line 3 column 371 (char 399)\n",
      "JSONDecodeError: Expecting value: line 1 column 1 (char 0)\n",
      "Failed to fix JSON string: Expecting value: line 1 column 1 (char 0)\n",
      "evaluations-aqa91.csv saved\n"
     ]
    },
    {
     "name": "stderr",
     "output_type": "stream",
     "text": [
      "100%|████████████████████████████| 15/15 [00:39<00:00,  2.63s/it]\n"
     ]
    },
    {
     "name": "stdout",
     "output_type": "stream",
     "text": [
      "JSONDecodeError: Expecting ',' delimiter: line 3 column 723 (char 751)\n",
      "JSONDecodeError: Expecting value: line 1 column 1 (char 0)\n",
      "Failed to fix JSON string: Expecting value: line 1 column 1 (char 0)\n",
      "JSONDecodeError: Expecting ',' delimiter: line 3 column 507 (char 533)\n",
      "JSONDecodeError: Expecting ',' delimiter: line 3 column 386 (char 414)\n",
      "JSONDecodeError: Expecting ',' delimiter: line 3 column 214 (char 242)\n",
      "JSONDecodeError: Expecting ',' delimiter: line 3 column 508 (char 536)\n",
      "JSONDecodeError: Expecting ',' delimiter: line 3 column 280 (char 312)\n",
      "JSONDecodeError: Expecting ',' delimiter: line 3 column 367 (char 399)\n",
      "JSONDecodeError: Expecting ',' delimiter: line 3 column 449 (char 477)\n",
      "evaluations-aqa92.csv saved\n"
     ]
    },
    {
     "name": "stderr",
     "output_type": "stream",
     "text": [
      "100%|███████████████████████████████████████████████████| 15/15 [00:39<00:00,  2.60s/it]\n"
     ]
    },
    {
     "name": "stdout",
     "output_type": "stream",
     "text": [
      "JSONDecodeError: Expecting ',' delimiter: line 3 column 202 (char 230)\n",
      "JSONDecodeError: Expecting ',' delimiter: line 3 column 467 (char 495)\n",
      "JSONDecodeError: Expecting ',' delimiter: line 3 column 488 (char 523)\n",
      "JSONDecodeError: Expecting ',' delimiter: line 3 column 407 (char 442)\n",
      "JSONDecodeError: Expecting ',' delimiter: line 3 column 557 (char 592)\n",
      "JSONDecodeError: Expecting ',' delimiter: line 3 column 608 (char 643)\n",
      "JSONDecodeError: Expecting ',' delimiter: line 3 column 628 (char 663)\n",
      "evaluations-aqa93.csv saved\n"
     ]
    },
    {
     "name": "stderr",
     "output_type": "stream",
     "text": [
      "100%|███████████████████████████████████████████████████| 15/15 [00:39<00:00,  2.62s/it]\n"
     ]
    },
    {
     "name": "stdout",
     "output_type": "stream",
     "text": [
      "JSONDecodeError: Expecting ',' delimiter: line 3 column 385 (char 417)\n",
      "JSONDecodeError: Expecting ',' delimiter: line 3 column 574 (char 609)\n",
      "JSONDecodeError: Expecting ',' delimiter: line 3 column 408 (char 440)\n",
      "JSONDecodeError: Expecting ',' delimiter: line 3 column 278 (char 306)\n",
      "JSONDecodeError: Expecting ',' delimiter: line 3 column 428 (char 463)\n",
      "JSONDecodeError: Expecting ',' delimiter: line 3 column 346 (char 378)\n",
      "JSONDecodeError: Expecting ',' delimiter: line 3 column 354 (char 386)\n",
      "JSONDecodeError: Expecting ',' delimiter: line 3 column 434 (char 469)\n",
      "JSONDecodeError: Expecting ',' delimiter: line 3 column 666 (char 694)\n",
      "JSONDecodeError: Expecting ',' delimiter: line 3 column 429 (char 457)\n",
      "evaluations-aqa94.csv saved\n"
     ]
    },
    {
     "name": "stderr",
     "output_type": "stream",
     "text": [
      "100%|███████████████████████████████████████████████████| 15/15 [00:39<00:00,  2.65s/it]\n"
     ]
    },
    {
     "name": "stdout",
     "output_type": "stream",
     "text": [
      "JSONDecodeError: Expecting ',' delimiter: line 3 column 522 (char 555)\n",
      "JSONDecodeError: Expecting ',' delimiter: line 3 column 569 (char 602)\n",
      "JSONDecodeError: Expecting ',' delimiter: line 3 column 351 (char 379)\n",
      "JSONDecodeError: Expecting value: line 1 column 1 (char 0)\n",
      "Failed to fix JSON string: Expecting value: line 1 column 1 (char 0)\n",
      "JSONDecodeError: Expecting ',' delimiter: line 3 column 295 (char 327)\n",
      "evaluations-aqa95.csv saved\n"
     ]
    },
    {
     "name": "stderr",
     "output_type": "stream",
     "text": [
      "100%|████████| 15/15 [00:39<00:00,  2.61s/it]\n"
     ]
    },
    {
     "name": "stdout",
     "output_type": "stream",
     "text": [
      "JSONDecodeError: Expecting ',' delimiter: line 3 column 353 (char 388)\n",
      "JSONDecodeError: Expecting value: line 1 column 1 (char 0)\n",
      "Failed to fix JSON string: Expecting value: line 1 column 1 (char 0)\n",
      "JSONDecodeError: Expecting ',' delimiter: line 3 column 437 (char 469)\n",
      "JSONDecodeError: Expecting ',' delimiter: line 3 column 263 (char 298)\n",
      "JSONDecodeError: Expecting ',' delimiter: line 3 column 458 (char 486)\n",
      "JSONDecodeError: Expecting value: line 1 column 1 (char 0)\n",
      "Failed to fix JSON string: Expecting value: line 1 column 1 (char 0)\n",
      "JSONDecodeError: Expecting ',' delimiter: line 3 column 466 (char 501)\n",
      "evaluations-aqa96.csv saved\n"
     ]
    },
    {
     "name": "stderr",
     "output_type": "stream",
     "text": [
      "100%|███████████████████████████████████████████████████| 15/15 [00:38<00:00,  2.58s/it]\n"
     ]
    },
    {
     "name": "stdout",
     "output_type": "stream",
     "text": [
      "JSONDecodeError: Expecting ',' delimiter: line 3 column 343 (char 371)\n",
      "JSONDecodeError: Expecting value: line 1 column 1 (char 0)\n",
      "Failed to fix JSON string: Expecting value: line 1 column 1 (char 0)\n",
      "JSONDecodeError: Expecting ',' delimiter: line 3 column 384 (char 419)\n",
      "JSONDecodeError: Expecting ',' delimiter: line 3 column 384 (char 419)\n",
      "JSONDecodeError: Expecting ',' delimiter: line 3 column 312 (char 338)\n",
      "JSONDecodeError: Expecting ',' delimiter: line 3 column 408 (char 443)\n",
      "evaluations-aqa97.csv saved\n"
     ]
    },
    {
     "name": "stderr",
     "output_type": "stream",
     "text": [
      "100%|███████████████████████████████████████████████████| 15/15 [00:39<00:00,  2.62s/it]\n"
     ]
    },
    {
     "name": "stdout",
     "output_type": "stream",
     "text": [
      "JSONDecodeError: Expecting ',' delimiter: line 3 column 348 (char 376)\n",
      "JSONDecodeError: Expecting value: line 1 column 1 (char 0)\n",
      "Failed to fix JSON string: Expecting value: line 1 column 1 (char 0)\n",
      "JSONDecodeError: Expecting ',' delimiter: line 3 column 555 (char 581)\n",
      "JSONDecodeError: Expecting value: line 1 column 1 (char 0)\n",
      "Failed to fix JSON string: Expecting value: line 1 column 1 (char 0)\n",
      "JSONDecodeError: Expecting ',' delimiter: line 3 column 419 (char 454)\n",
      "JSONDecodeError: Expecting ',' delimiter: line 3 column 513 (char 541)\n",
      "JSONDecodeError: Expecting value: line 1 column 1 (char 0)\n",
      "Failed to fix JSON string: Expecting value: line 1 column 1 (char 0)\n",
      "JSONDecodeError: Expecting value: line 1 column 1 (char 0)\n",
      "Failed to fix JSON string: Expecting value: line 1 column 1 (char 0)\n",
      "evaluations-aqa98.csv saved\n"
     ]
    },
    {
     "name": "stderr",
     "output_type": "stream",
     "text": [
      "100%|███████████████████████████████████████████████████| 15/15 [00:39<00:00,  2.61s/it]\n"
     ]
    },
    {
     "name": "stdout",
     "output_type": "stream",
     "text": [
      "JSONDecodeError: Expecting ',' delimiter: line 3 column 410 (char 438)\n",
      "JSONDecodeError: Expecting ',' delimiter: line 3 column 434 (char 462)\n",
      "JSONDecodeError: Expecting ',' delimiter: line 3 column 370 (char 405)\n",
      "JSONDecodeError: Expecting ',' delimiter: line 3 column 382 (char 417)\n",
      "JSONDecodeError: Expecting value: line 1 column 1 (char 0)\n",
      "Failed to fix JSON string: Expecting value: line 1 column 1 (char 0)\n",
      "JSONDecodeError: Expecting ',' delimiter: line 3 column 385 (char 413)\n",
      "JSONDecodeError: Expecting ',' delimiter: line 3 column 250 (char 278)\n",
      "JSONDecodeError: Expecting ',' delimiter: line 3 column 583 (char 611)\n",
      "evaluations-aqa99.csv saved\n"
     ]
    },
    {
     "name": "stderr",
     "output_type": "stream",
     "text": [
      "100%|███████████████████████████████████████████████████| 15/15 [00:38<00:00,  2.59s/it]\n"
     ]
    },
    {
     "name": "stdout",
     "output_type": "stream",
     "text": [
      "JSONDecodeError: Expecting ',' delimiter: line 3 column 395 (char 427)\n",
      "JSONDecodeError: Expecting ',' delimiter: line 3 column 463 (char 495)\n",
      "JSONDecodeError: Expecting ',' delimiter: line 3 column 347 (char 379)\n",
      "JSONDecodeError: Expecting ',' delimiter: line 3 column 377 (char 403)\n",
      "JSONDecodeError: Expecting ',' delimiter: line 3 column 436 (char 464)\n",
      "JSONDecodeError: Expecting ',' delimiter: line 3 column 424 (char 452)\n",
      "JSONDecodeError: Expecting ',' delimiter: line 3 column 405 (char 431)\n",
      "evaluations-aqa100.csv saved\n"
     ]
    },
    {
     "name": "stderr",
     "output_type": "stream",
     "text": [
      "100%|███████████████████████████████████████████████████| 15/15 [00:39<00:00,  2.62s/it]\n"
     ]
    },
    {
     "name": "stdout",
     "output_type": "stream",
     "text": [
      "JSONDecodeError: Expecting ',' delimiter: line 3 column 355 (char 383)\n",
      "JSONDecodeError: Expecting ',' delimiter: line 3 column 338 (char 366)\n",
      "JSONDecodeError: Expecting ',' delimiter: line 3 column 291 (char 319)\n",
      "JSONDecodeError: Expecting ',' delimiter: line 3 column 466 (char 501)\n",
      "JSONDecodeError: Expecting ',' delimiter: line 3 column 441 (char 469)\n",
      "JSONDecodeError: Expecting ',' delimiter: line 3 column 590 (char 618)\n",
      "JSONDecodeError: Expecting ',' delimiter: line 3 column 412 (char 440)\n",
      "JSONDecodeError: Expecting ',' delimiter: line 3 column 316 (char 344)\n",
      "JSONDecodeError: Expecting ',' delimiter: line 3 column 490 (char 516)\n",
      "JSONDecodeError: Expecting ',' delimiter: line 3 column 298 (char 324)\n",
      "evaluations-aqa101.csv saved\n"
     ]
    },
    {
     "name": "stderr",
     "output_type": "stream",
     "text": [
      "100%|███████████████████████████████████████████████████| 15/15 [00:39<00:00,  2.65s/it]\n"
     ]
    },
    {
     "name": "stdout",
     "output_type": "stream",
     "text": [
      "JSONDecodeError: Expecting ',' delimiter: line 3 column 482 (char 514)\n",
      "JSONDecodeError: Expecting ',' delimiter: line 3 column 326 (char 361)\n",
      "Failed to fix JSON string: Expecting ',' delimiter: line 3 column 326 (char 361)\n",
      "JSONDecodeError: Expecting ',' delimiter: line 3 column 355 (char 383)\n",
      "JSONDecodeError: Expecting value: line 1 column 1 (char 0)\n",
      "Failed to fix JSON string: Expecting value: line 1 column 1 (char 0)\n",
      "JSONDecodeError: Expecting value: line 1 column 1 (char 0)\n",
      "Failed to fix JSON string: Expecting value: line 1 column 1 (char 0)\n",
      "JSONDecodeError: Expecting value: line 1 column 2 (char 1)\n",
      "Failed to fix JSON string: Expecting value: line 1 column 2 (char 1)\n",
      "JSONDecodeError: Expecting ',' delimiter: line 3 column 391 (char 421)\n",
      "evaluations-aqa102.csv saved\n"
     ]
    },
    {
     "name": "stderr",
     "output_type": "stream",
     "text": [
      "100%|███████████████████████████████████████████████████| 15/15 [00:39<00:00,  2.60s/it]\n"
     ]
    },
    {
     "name": "stdout",
     "output_type": "stream",
     "text": [
      "JSONDecodeError: Expecting value: line 1 column 1 (char 0)\n",
      "Failed to fix JSON string: Expecting value: line 1 column 1 (char 0)\n",
      "JSONDecodeError: Expecting ',' delimiter: line 3 column 575 (char 603)\n",
      "JSONDecodeError: Expecting value: line 1 column 1 (char 0)\n",
      "Failed to fix JSON string: Expecting value: line 1 column 1 (char 0)\n",
      "JSONDecodeError: Expecting ',' delimiter: line 3 column 455 (char 481)\n",
      "JSONDecodeError: Expecting value: line 1 column 1 (char 0)\n",
      "Failed to fix JSON string: Expecting value: line 1 column 1 (char 0)\n",
      "evaluations-aqa103.csv saved\n"
     ]
    },
    {
     "name": "stderr",
     "output_type": "stream",
     "text": [
      "100%|███████████████████████████████████████████████████| 15/15 [00:39<00:00,  2.61s/it]\n"
     ]
    },
    {
     "name": "stdout",
     "output_type": "stream",
     "text": [
      "JSONDecodeError: Expecting ',' delimiter: line 3 column 403 (char 431)\n",
      "JSONDecodeError: Expecting ',' delimiter: line 3 column 381 (char 413)\n",
      "JSONDecodeError: Expecting value: line 1 column 1 (char 0)\n",
      "Failed to fix JSON string: Expecting value: line 1 column 1 (char 0)\n",
      "JSONDecodeError: Expecting value: line 1 column 1 (char 0)\n",
      "Failed to fix JSON string: Expecting value: line 1 column 1 (char 0)\n",
      "JSONDecodeError: Expecting ',' delimiter: line 3 column 348 (char 378)\n",
      "JSONDecodeError: Expecting ',' delimiter: line 3 column 321 (char 349)\n",
      "JSONDecodeError: Expecting ',' delimiter: line 3 column 380 (char 415)\n",
      "JSONDecodeError: Expecting value: line 1 column 1 (char 0)\n",
      "Failed to fix JSON string: Expecting value: line 1 column 1 (char 0)\n",
      "evaluations-aqa104.csv saved\n"
     ]
    },
    {
     "name": "stderr",
     "output_type": "stream",
     "text": [
      "100%|███████████████████████████████████████████████████| 15/15 [00:38<00:00,  2.60s/it]\n"
     ]
    },
    {
     "name": "stdout",
     "output_type": "stream",
     "text": [
      "JSONDecodeError: Expecting ',' delimiter: line 3 column 579 (char 607)\n",
      "JSONDecodeError: Expecting ',' delimiter: line 3 column 500 (char 528)\n",
      "JSONDecodeError: Expecting ',' delimiter: line 3 column 483 (char 511)\n",
      "JSONDecodeError: Expecting ',' delimiter: line 3 column 430 (char 465)\n",
      "JSONDecodeError: Expecting ',' delimiter: line 3 column 179 (char 207)\n",
      "JSONDecodeError: Expecting ',' delimiter: line 3 column 290 (char 318)\n",
      "JSONDecodeError: Expecting value: line 1 column 1 (char 0)\n",
      "Failed to fix JSON string: Expecting value: line 1 column 1 (char 0)\n",
      "JSONDecodeError: Expecting ',' delimiter: line 3 column 377 (char 409)\n",
      "evaluations-aqa105.csv saved\n"
     ]
    },
    {
     "name": "stderr",
     "output_type": "stream",
     "text": [
      "100%|███████████████████████████████████████████████████| 15/15 [00:38<00:00,  2.60s/it]\n"
     ]
    },
    {
     "name": "stdout",
     "output_type": "stream",
     "text": [
      "JSONDecodeError: Expecting ',' delimiter: line 3 column 602 (char 630)\n",
      "JSONDecodeError: Expecting ',' delimiter: line 3 column 384 (char 412)\n",
      "JSONDecodeError: Expecting ',' delimiter: line 3 column 444 (char 479)\n",
      "JSONDecodeError: Expecting ',' delimiter: line 3 column 243 (char 271)\n",
      "JSONDecodeError: Expecting ',' delimiter: line 3 column 321 (char 349)\n",
      "JSONDecodeError: Expecting ',' delimiter: line 3 column 303 (char 336)\n",
      "JSONDecodeError: Expecting ',' delimiter: line 3 column 334 (char 362)\n",
      "JSONDecodeError: Expecting ',' delimiter: line 3 column 356 (char 388)\n",
      "JSONDecodeError: Expecting ',' delimiter: line 3 column 600 (char 628)\n",
      "JSONDecodeError: Expecting ',' delimiter: line 3 column 365 (char 393)\n",
      "JSONDecodeError: Expecting value: line 1 column 1 (char 0)\n",
      "Failed to fix JSON string: Expecting value: line 1 column 1 (char 0)\n",
      "evaluations-aqa106.csv saved\n"
     ]
    },
    {
     "name": "stderr",
     "output_type": "stream",
     "text": [
      "100%|███████████████████████████████████████████████████| 15/15 [00:39<00:00,  2.61s/it]\n"
     ]
    },
    {
     "name": "stdout",
     "output_type": "stream",
     "text": [
      "JSONDecodeError: Expecting ',' delimiter: line 3 column 474 (char 502)\n",
      "JSONDecodeError: Expecting ',' delimiter: line 3 column 399 (char 434)\n",
      "JSONDecodeError: Expecting value: line 1 column 1 (char 0)\n",
      "Failed to fix JSON string: Expecting value: line 1 column 1 (char 0)\n",
      "JSONDecodeError: Expecting ',' delimiter: line 3 column 389 (char 415)\n",
      "JSONDecodeError: Expecting value: line 1 column 1 (char 0)\n",
      "Failed to fix JSON string: Expecting value: line 1 column 1 (char 0)\n",
      "evaluations-aqa107.csv saved\n"
     ]
    },
    {
     "name": "stderr",
     "output_type": "stream",
     "text": [
      "100%|███████████████████████████████████████████████████| 15/15 [00:39<00:00,  2.63s/it]\n"
     ]
    },
    {
     "name": "stdout",
     "output_type": "stream",
     "text": [
      "JSONDecodeError: Expecting ',' delimiter: line 3 column 268 (char 296)\n",
      "JSONDecodeError: Expecting ',' delimiter: line 3 column 404 (char 437)\n",
      "Failed to fix JSON string: Expecting ',' delimiter: line 3 column 404 (char 437)\n",
      "JSONDecodeError: Expecting ',' delimiter: line 3 column 536 (char 562)\n",
      "JSONDecodeError: Expecting ',' delimiter: line 3 column 437 (char 469)\n",
      "JSONDecodeError: Expecting ',' delimiter: line 3 column 281 (char 309)\n",
      "JSONDecodeError: Expecting ',' delimiter: line 3 column 369 (char 404)\n",
      "JSONDecodeError: Expecting ',' delimiter: line 3 column 375 (char 410)\n",
      "evaluations-aqa108.csv saved\n"
     ]
    },
    {
     "name": "stderr",
     "output_type": "stream",
     "text": [
      "100%|███████████████████████████████████████████████████| 15/15 [00:38<00:00,  2.60s/it]\n"
     ]
    },
    {
     "name": "stdout",
     "output_type": "stream",
     "text": [
      "JSONDecodeError: Expecting value: line 1 column 1 (char 0)\n",
      "Failed to fix JSON string: Expecting value: line 1 column 1 (char 0)\n",
      "JSONDecodeError: Expecting value: line 1 column 1 (char 0)\n",
      "Failed to fix JSON string: Expecting value: line 1 column 1 (char 0)\n",
      "JSONDecodeError: Expecting ',' delimiter: line 3 column 399 (char 427)\n",
      "JSONDecodeError: Expecting ',' delimiter: line 3 column 382 (char 415)\n",
      "JSONDecodeError: Expecting value: line 1 column 1 (char 0)\n",
      "Failed to fix JSON string: Expecting value: line 1 column 1 (char 0)\n",
      "JSONDecodeError: Expecting value: line 1 column 1 (char 0)\n",
      "Failed to fix JSON string: Expecting value: line 1 column 1 (char 0)\n",
      "JSONDecodeError: Expecting ',' delimiter: line 3 column 322 (char 354)\n",
      "JSONDecodeError: Expecting ',' delimiter: line 3 column 443 (char 471)\n",
      "JSONDecodeError: Expecting ',' delimiter: line 3 column 178 (char 204)\n",
      "JSONDecodeError: Expecting ',' delimiter: line 3 column 253 (char 281)\n",
      "JSONDecodeError: Expecting ',' delimiter: line 3 column 394 (char 424)\n",
      "evaluations-aqa109.csv saved\n"
     ]
    },
    {
     "name": "stderr",
     "output_type": "stream",
     "text": [
      "100%|███████████████████████████████████████████████████| 15/15 [00:39<00:00,  2.60s/it]\n"
     ]
    },
    {
     "name": "stdout",
     "output_type": "stream",
     "text": [
      "JSONDecodeError: Expecting ',' delimiter: line 3 column 323 (char 353)\n",
      "JSONDecodeError: Expecting ',' delimiter: line 3 column 402 (char 434)\n",
      "JSONDecodeError: Expecting ',' delimiter: line 3 column 397 (char 432)\n",
      "JSONDecodeError: Expecting value: line 1 column 1 (char 0)\n",
      "Failed to fix JSON string: Expecting value: line 1 column 1 (char 0)\n",
      "JSONDecodeError: Expecting ',' delimiter: line 3 column 490 (char 525)\n",
      "evaluations-aqa110.csv saved\n"
     ]
    },
    {
     "name": "stderr",
     "output_type": "stream",
     "text": [
      "100%|███████████████████████████████████████████████████| 15/15 [00:39<00:00,  2.62s/it]\n"
     ]
    },
    {
     "name": "stdout",
     "output_type": "stream",
     "text": [
      "JSONDecodeError: Expecting value: line 1 column 1 (char 0)\n",
      "Failed to fix JSON string: Expecting value: line 1 column 1 (char 0)\n",
      "JSONDecodeError: Expecting value: line 1 column 1 (char 0)\n",
      "Failed to fix JSON string: Expecting value: line 1 column 1 (char 0)\n",
      "JSONDecodeError: Expecting ',' delimiter: line 3 column 482 (char 517)\n",
      "JSONDecodeError: Expecting ',' delimiter: line 3 column 406 (char 434)\n",
      "JSONDecodeError: Expecting ',' delimiter: line 3 column 554 (char 589)\n",
      "JSONDecodeError: Expecting ',' delimiter: line 3 column 423 (char 451)\n",
      "evaluations-aqa111.csv saved\n"
     ]
    },
    {
     "name": "stderr",
     "output_type": "stream",
     "text": [
      "100%|███████████████████████████████████████████████████| 15/15 [00:39<00:00,  2.64s/it]\n"
     ]
    },
    {
     "name": "stdout",
     "output_type": "stream",
     "text": [
      "JSONDecodeError: Expecting ',' delimiter: line 3 column 208 (char 234)\n",
      "JSONDecodeError: Expecting ',' delimiter: line 3 column 392 (char 427)\n",
      "JSONDecodeError: Expecting ',' delimiter: line 3 column 358 (char 390)\n",
      "JSONDecodeError: Expecting ',' delimiter: line 3 column 284 (char 312)\n",
      "JSONDecodeError: Expecting ',' delimiter: line 3 column 378 (char 406)\n",
      "evaluations-aqa112.csv saved\n"
     ]
    },
    {
     "name": "stderr",
     "output_type": "stream",
     "text": [
      "100%|███████████████████████████████████████████████████| 15/15 [00:39<00:00,  2.62s/it]\n"
     ]
    },
    {
     "name": "stdout",
     "output_type": "stream",
     "text": [
      "JSONDecodeError: Expecting ',' delimiter: line 3 column 218 (char 246)\n",
      "JSONDecodeError: Expecting ',' delimiter: line 3 column 194 (char 222)\n",
      "JSONDecodeError: Expecting value: line 1 column 1 (char 0)\n",
      "Failed to fix JSON string: Expecting value: line 1 column 1 (char 0)\n",
      "JSONDecodeError: Expecting ',' delimiter: line 3 column 307 (char 339)\n",
      "JSONDecodeError: Expecting ',' delimiter: line 3 column 367 (char 393)\n",
      "JSONDecodeError: Expecting ',' delimiter: line 3 column 304 (char 332)\n",
      "JSONDecodeError: Expecting ',' delimiter: line 3 column 166 (char 194)\n",
      "JSONDecodeError: Expecting ',' delimiter: line 3 column 294 (char 322)\n",
      "evaluations-aqa113.csv saved\n"
     ]
    },
    {
     "name": "stderr",
     "output_type": "stream",
     "text": [
      "100%|███████████████████████████████████████████████████| 15/15 [00:39<00:00,  2.63s/it]\n"
     ]
    },
    {
     "name": "stdout",
     "output_type": "stream",
     "text": [
      "JSONDecodeError: Expecting ',' delimiter: line 3 column 410 (char 438)\n",
      "JSONDecodeError: Expecting ',' delimiter: line 3 column 337 (char 365)\n",
      "JSONDecodeError: Expecting ',' delimiter: line 3 column 392 (char 420)\n",
      "JSONDecodeError: Expecting ',' delimiter: line 3 column 263 (char 291)\n",
      "JSONDecodeError: Expecting ',' delimiter: line 3 column 461 (char 494)\n",
      "JSONDecodeError: Expecting ',' delimiter: line 3 column 426 (char 454)\n",
      "JSONDecodeError: Expecting ',' delimiter: line 3 column 494 (char 520)\n",
      "JSONDecodeError: Expecting ',' delimiter: line 3 column 374 (char 402)\n",
      "JSONDecodeError: Expecting ',' delimiter: line 3 column 331 (char 359)\n",
      "evaluations-aqa114.csv saved\n"
     ]
    },
    {
     "name": "stderr",
     "output_type": "stream",
     "text": [
      "100%|███████████████████████████████████████████████████| 15/15 [00:39<00:00,  2.63s/it]\n"
     ]
    },
    {
     "name": "stdout",
     "output_type": "stream",
     "text": [
      "JSONDecodeError: Expecting ',' delimiter: line 3 column 302 (char 330)\n",
      "JSONDecodeError: Expecting ',' delimiter: line 3 column 331 (char 359)\n",
      "JSONDecodeError: Expecting ',' delimiter: line 3 column 304 (char 332)\n",
      "JSONDecodeError: Expecting ',' delimiter: line 3 column 355 (char 383)\n",
      "evaluations-aqa115.csv saved\n"
     ]
    },
    {
     "name": "stderr",
     "output_type": "stream",
     "text": [
      "100%|████████| 15/15 [00:38<00:00,  2.59s/it]\n"
     ]
    },
    {
     "name": "stdout",
     "output_type": "stream",
     "text": [
      "JSONDecodeError: Expecting ',' delimiter: line 3 column 396 (char 428)\n",
      "JSONDecodeError: Expecting value: line 1 column 1 (char 0)\n",
      "Failed to fix JSON string: Expecting value: line 1 column 1 (char 0)\n",
      "JSONDecodeError: Expecting value: line 1 column 1 (char 0)\n",
      "Failed to fix JSON string: Expecting value: line 1 column 1 (char 0)\n",
      "JSONDecodeError: Expecting ',' delimiter: line 3 column 296 (char 324)\n",
      "JSONDecodeError: Expecting ',' delimiter: line 3 column 92 (char 120)\n",
      "Failed to fix JSON string: Expecting ',' delimiter: line 3 column 92 (char 120)\n",
      "JSONDecodeError: Expecting ',' delimiter: line 3 column 381 (char 413)\n",
      "JSONDecodeError: Expecting value: line 1 column 1 (char 0)\n",
      "Failed to fix JSON string: Expecting value: line 1 column 1 (char 0)\n",
      "JSONDecodeError: Expecting ',' delimiter: line 3 column 591 (char 619)\n",
      "JSONDecodeError: Expecting value: line 1 column 1 (char 0)\n",
      "Failed to fix JSON string: Expecting value: line 1 column 1 (char 0)\n",
      "JSONDecodeError: Expecting ',' delimiter: line 3 column 368 (char 396)\n",
      "evaluations-aqa116.csv saved\n"
     ]
    },
    {
     "name": "stderr",
     "output_type": "stream",
     "text": [
      "100%|███████████████████████████████████████████████████| 15/15 [00:39<00:00,  2.61s/it]\n"
     ]
    },
    {
     "name": "stdout",
     "output_type": "stream",
     "text": [
      "JSONDecodeError: Expecting ',' delimiter: line 3 column 303 (char 331)\n",
      "JSONDecodeError: Expecting ',' delimiter: line 3 column 446 (char 474)\n",
      "JSONDecodeError: Expecting ',' delimiter: line 3 column 472 (char 507)\n",
      "JSONDecodeError: Expecting ',' delimiter: line 3 column 397 (char 429)\n",
      "JSONDecodeError: Expecting ',' delimiter: line 3 column 468 (char 500)\n",
      "JSONDecodeError: Expecting ',' delimiter: line 3 column 534 (char 562)\n",
      "JSONDecodeError: Expecting ',' delimiter: line 3 column 290 (char 318)\n",
      "JSONDecodeError: Expecting value: line 1 column 1 (char 0)\n",
      "Failed to fix JSON string: Expecting value: line 1 column 1 (char 0)\n",
      "JSONDecodeError: Expecting ',' delimiter: line 3 column 478 (char 513)\n",
      "JSONDecodeError: Expecting ',' delimiter: line 3 column 530 (char 565)\n",
      "evaluations-aqa117.csv saved\n"
     ]
    },
    {
     "name": "stderr",
     "output_type": "stream",
     "text": [
      "100%|███████████████████████████████████████████████████| 15/15 [00:39<00:00,  2.65s/it]\n"
     ]
    },
    {
     "name": "stdout",
     "output_type": "stream",
     "text": [
      "JSONDecodeError: Expecting value: line 1 column 1 (char 0)\n",
      "Failed to fix JSON string: Expecting value: line 1 column 1 (char 0)\n",
      "JSONDecodeError: Expecting value: line 1 column 1 (char 0)\n",
      "Failed to fix JSON string: Expecting value: line 1 column 1 (char 0)\n",
      "JSONDecodeError: Expecting value: line 1 column 1 (char 0)\n",
      "Failed to fix JSON string: Expecting value: line 1 column 1 (char 0)\n",
      "JSONDecodeError: Expecting value: line 1 column 1 (char 0)\n",
      "Failed to fix JSON string: Expecting value: line 1 column 1 (char 0)\n",
      "JSONDecodeError: Expecting value: line 1 column 1 (char 0)\n",
      "Failed to fix JSON string: Expecting value: line 1 column 1 (char 0)\n",
      "JSONDecodeError: Expecting value: line 1 column 1 (char 0)\n",
      "Failed to fix JSON string: Expecting value: line 1 column 1 (char 0)\n",
      "evaluations-aqa118.csv saved\n"
     ]
    },
    {
     "name": "stderr",
     "output_type": "stream",
     "text": [
      "100%|███████████████████████████████████████████████████| 15/15 [00:39<00:00,  2.62s/it]\n"
     ]
    },
    {
     "name": "stdout",
     "output_type": "stream",
     "text": [
      "JSONDecodeError: Expecting ',' delimiter: line 3 column 266 (char 294)\n",
      "JSONDecodeError: Expecting ',' delimiter: line 3 column 192 (char 220)\n",
      "JSONDecodeError: Expecting value: line 1 column 1 (char 0)\n",
      "Failed to fix JSON string: Expecting value: line 1 column 1 (char 0)\n",
      "JSONDecodeError: Expecting value: line 1 column 1 (char 0)\n",
      "Failed to fix JSON string: Expecting value: line 1 column 1 (char 0)\n",
      "evaluations-aqa119.csv saved\n"
     ]
    },
    {
     "name": "stderr",
     "output_type": "stream",
     "text": [
      "100%|███████████████████████████████████████████████████| 15/15 [00:39<00:00,  2.63s/it]\n"
     ]
    },
    {
     "name": "stdout",
     "output_type": "stream",
     "text": [
      "JSONDecodeError: Expecting ',' delimiter: line 3 column 241 (char 269)\n",
      "JSONDecodeError: Expecting ',' delimiter: line 3 column 236 (char 264)\n",
      "JSONDecodeError: Expecting ',' delimiter: line 3 column 320 (char 348)\n",
      "JSONDecodeError: Expecting ',' delimiter: line 3 column 419 (char 454)\n",
      "JSONDecodeError: Expecting ',' delimiter: line 3 column 487 (char 522)\n",
      "evaluations-aqa120.csv saved\n"
     ]
    },
    {
     "name": "stderr",
     "output_type": "stream",
     "text": [
      "100%|███████████████████████████████████████████████████| 15/15 [00:39<00:00,  2.62s/it]\n"
     ]
    },
    {
     "name": "stdout",
     "output_type": "stream",
     "text": [
      "JSONDecodeError: Expecting ',' delimiter: line 3 column 255 (char 283)\n",
      "JSONDecodeError: Expecting ',' delimiter: line 3 column 337 (char 365)\n",
      "JSONDecodeError: Expecting ',' delimiter: line 3 column 526 (char 561)\n",
      "JSONDecodeError: Expecting ',' delimiter: line 3 column 470 (char 505)\n",
      "JSONDecodeError: Expecting ',' delimiter: line 3 column 606 (char 634)\n",
      "JSONDecodeError: Expecting ',' delimiter: line 3 column 390 (char 422)\n",
      "JSONDecodeError: Expecting ',' delimiter: line 3 column 387 (char 422)\n",
      "JSONDecodeError: Expecting ',' delimiter: line 3 column 399 (char 427)\n",
      "evaluations-aqa121.csv saved\n"
     ]
    },
    {
     "name": "stderr",
     "output_type": "stream",
     "text": [
      "100%|███████████████████████████████████████████████████| 15/15 [00:39<00:00,  2.66s/it]\n"
     ]
    },
    {
     "name": "stdout",
     "output_type": "stream",
     "text": [
      "JSONDecodeError: Expecting value: line 1 column 1 (char 0)\n",
      "Failed to fix JSON string: Expecting value: line 1 column 1 (char 0)\n",
      "JSONDecodeError: Expecting value: line 1 column 1 (char 0)\n",
      "Failed to fix JSON string: Expecting value: line 1 column 1 (char 0)\n",
      "JSONDecodeError: Expecting ',' delimiter: line 3 column 483 (char 511)\n",
      "Failed to fix JSON string: Expecting ',' delimiter: line 3 column 483 (char 511)\n",
      "JSONDecodeError: Expecting ',' delimiter: line 3 column 333 (char 364)\n",
      "JSONDecodeError: Expecting ',' delimiter: line 3 column 554 (char 589)\n",
      "JSONDecodeError: Expecting ',' delimiter: line 3 column 251 (char 279)\n",
      "JSONDecodeError: Expecting ',' delimiter: line 3 column 330 (char 358)\n",
      "JSONDecodeError: Expecting value: line 1 column 1 (char 0)\n",
      "Failed to fix JSON string: Expecting value: line 1 column 1 (char 0)\n",
      "evaluations-aqa122.csv saved\n"
     ]
    },
    {
     "name": "stderr",
     "output_type": "stream",
     "text": [
      "100%|███████████████████████████████████████████████████| 15/15 [00:39<00:00,  2.63s/it]\n"
     ]
    },
    {
     "name": "stdout",
     "output_type": "stream",
     "text": [
      "JSONDecodeError: Expecting value: line 1 column 1 (char 0)\n",
      "Failed to fix JSON string: Expecting value: line 1 column 1 (char 0)\n",
      "JSONDecodeError: Expecting ',' delimiter: line 3 column 521 (char 556)\n",
      "JSONDecodeError: Expecting ',' delimiter: line 3 column 227 (char 255)\n",
      "JSONDecodeError: Expecting ',' delimiter: line 3 column 717 (char 745)\n",
      "JSONDecodeError: Expecting value: line 1 column 1 (char 0)\n",
      "Failed to fix JSON string: Expecting value: line 1 column 1 (char 0)\n",
      "JSONDecodeError: Expecting value: line 1 column 1 (char 0)\n",
      "Failed to fix JSON string: Expecting value: line 1 column 1 (char 0)\n",
      "JSONDecodeError: Expecting value: line 1 column 1 (char 0)\n",
      "Failed to fix JSON string: Expecting value: line 1 column 1 (char 0)\n",
      "JSONDecodeError: Expecting ',' delimiter: line 3 column 310 (char 336)\n",
      "evaluations-aqa123.csv saved\n"
     ]
    },
    {
     "name": "stderr",
     "output_type": "stream",
     "text": [
      "100%|██████████████████████████████████████████████████████████████████████████████████████████████████████████████████████████████████████████████████████████████| 15/15 [00:39<00:00,  2.63s/it]\n"
     ]
    },
    {
     "name": "stdout",
     "output_type": "stream",
     "text": [
      "JSONDecodeError: Expecting ',' delimiter: line 3 column 322 (char 357)\n",
      "JSONDecodeError: Expecting ',' delimiter: line 3 column 361 (char 389)\n",
      "JSONDecodeError: Expecting ',' delimiter: line 3 column 624 (char 652)\n",
      "JSONDecodeError: Expecting ',' delimiter: line 3 column 367 (char 393)\n",
      "JSONDecodeError: Expecting ',' delimiter: line 3 column 334 (char 362)\n",
      "JSONDecodeError: Expecting ',' delimiter: line 3 column 285 (char 311)\n",
      "JSONDecodeError: Expecting ',' delimiter: line 3 column 593 (char 628)\n",
      "JSONDecodeError: Expecting ',' delimiter: line 3 column 354 (char 389)\n",
      "JSONDecodeError: Expecting ',' delimiter: line 3 column 319 (char 345)\n",
      "evaluations-aqa124.csv saved\n"
     ]
    },
    {
     "name": "stderr",
     "output_type": "stream",
     "text": [
      "100%|███████████████████████████████████████████████████████████████████████████████████████████████████████████████████| 15/15 [00:39<00:00,  2.62s/it]\n"
     ]
    },
    {
     "name": "stdout",
     "output_type": "stream",
     "text": [
      "JSONDecodeError: Expecting ',' delimiter: line 3 column 487 (char 513)\n",
      "JSONDecodeError: Expecting value: line 1 column 1 (char 0)\n",
      "Failed to fix JSON string: Expecting value: line 1 column 1 (char 0)\n",
      "JSONDecodeError: Expecting ',' delimiter: line 3 column 359 (char 387)\n",
      "JSONDecodeError: Expecting ',' delimiter: line 3 column 477 (char 505)\n",
      "JSONDecodeError: Expecting ',' delimiter: line 3 column 569 (char 597)\n",
      "JSONDecodeError: Expecting value: line 1 column 1 (char 0)\n",
      "Failed to fix JSON string: Expecting value: line 1 column 1 (char 0)\n",
      "JSONDecodeError: Expecting ',' delimiter: line 3 column 595 (char 630)\n",
      "JSONDecodeError: Expecting ',' delimiter: line 3 column 470 (char 505)\n",
      "JSONDecodeError: Expecting ',' delimiter: line 3 column 457 (char 485)\n",
      "evaluations-aqa125.csv saved\n"
     ]
    },
    {
     "name": "stderr",
     "output_type": "stream",
     "text": [
      "100%|███████████████████████████████████████████████████████████████████████████████████████████████████████████████████| 15/15 [00:39<00:00,  2.61s/it]\n"
     ]
    },
    {
     "name": "stdout",
     "output_type": "stream",
     "text": [
      "JSONDecodeError: Expecting ',' delimiter: line 3 column 406 (char 434)\n",
      "JSONDecodeError: Expecting ',' delimiter: line 3 column 227 (char 255)\n",
      "JSONDecodeError: Expecting value: line 1 column 1 (char 0)\n",
      "Failed to fix JSON string: Expecting value: line 1 column 1 (char 0)\n",
      "JSONDecodeError: Expecting value: line 1 column 1 (char 0)\n",
      "Failed to fix JSON string: Expecting value: line 1 column 1 (char 0)\n",
      "JSONDecodeError: Expecting ',' delimiter: line 3 column 381 (char 416)\n",
      "evaluations-aqa126.csv saved\n"
     ]
    },
    {
     "name": "stderr",
     "output_type": "stream",
     "text": [
      "100%|███████████████████████████████████████████████████████████████████████████████████████████████████████████████████| 15/15 [00:40<00:00,  2.70s/it]\n"
     ]
    },
    {
     "name": "stdout",
     "output_type": "stream",
     "text": [
      "JSONDecodeError: Expecting ',' delimiter: line 3 column 430 (char 465)\n",
      "JSONDecodeError: Expecting value: line 1 column 1 (char 0)\n",
      "Failed to fix JSON string: Expecting value: line 1 column 1 (char 0)\n",
      "JSONDecodeError: Expecting value: line 1 column 1 (char 0)\n",
      "Failed to fix JSON string: Expecting value: line 1 column 1 (char 0)\n",
      "JSONDecodeError: Expecting ',' delimiter: line 3 column 325 (char 353)\n",
      "JSONDecodeError: Expecting ',' delimiter: line 3 column 448 (char 483)\n",
      "JSONDecodeError: Expecting ',' delimiter: line 3 column 218 (char 244)\n",
      "JSONDecodeError: Expecting ',' delimiter: line 3 column 454 (char 480)\n",
      "JSONDecodeError: Expecting ',' delimiter: line 3 column 478 (char 506)\n",
      "evaluations-aqa127.csv saved\n"
     ]
    },
    {
     "name": "stderr",
     "output_type": "stream",
     "text": [
      "100%|███████████████████████████████████████████████████████████████████████████████████████████████████████████████████| 15/15 [00:38<00:00,  2.58s/it]\n"
     ]
    },
    {
     "name": "stdout",
     "output_type": "stream",
     "text": [
      "JSONDecodeError: Expecting ',' delimiter: line 3 column 347 (char 375)\n",
      "JSONDecodeError: Expecting value: line 1 column 1 (char 0)\n",
      "Failed to fix JSON string: Expecting value: line 1 column 1 (char 0)\n",
      "JSONDecodeError: Expecting ',' delimiter: line 3 column 385 (char 418)\n",
      "JSONDecodeError: Expecting ',' delimiter: line 3 column 283 (char 318)\n",
      "JSONDecodeError: Expecting ',' delimiter: line 3 column 558 (char 593)\n",
      "JSONDecodeError: Expecting ',' delimiter: line 3 column 222 (char 252)\n",
      "JSONDecodeError: Expecting ',' delimiter: line 3 column 265 (char 293)\n",
      "JSONDecodeError: Expecting ',' delimiter: line 3 column 370 (char 398)\n",
      "evaluations-aqa128.csv saved\n"
     ]
    },
    {
     "name": "stderr",
     "output_type": "stream",
     "text": [
      "100%|███████████████████████████████████████████████████████████████████████████████████████████████████████████████████| 15/15 [00:39<00:00,  2.62s/it]\n"
     ]
    },
    {
     "name": "stdout",
     "output_type": "stream",
     "text": [
      "JSONDecodeError: Expecting ',' delimiter: line 3 column 688 (char 714)\n",
      "JSONDecodeError: Expecting ',' delimiter: line 3 column 335 (char 370)\n",
      "JSONDecodeError: Expecting ',' delimiter: line 3 column 374 (char 409)\n",
      "JSONDecodeError: Expecting ',' delimiter: line 3 column 411 (char 439)\n",
      "JSONDecodeError: Expecting ',' delimiter: line 3 column 217 (char 243)\n",
      "JSONDecodeError: Expecting ',' delimiter: line 3 column 389 (char 417)\n",
      "JSONDecodeError: Expecting ',' delimiter: line 3 column 450 (char 485)\n",
      "JSONDecodeError: Expecting ',' delimiter: line 3 column 614 (char 649)\n",
      "JSONDecodeError: Expecting ',' delimiter: line 3 column 710 (char 743)\n",
      "JSONDecodeError: Expecting value: line 1 column 1 (char 0)\n",
      "Failed to fix JSON string: Expecting value: line 1 column 1 (char 0)\n",
      "JSONDecodeError: Expecting ',' delimiter: line 3 column 438 (char 470)\n",
      "evaluations-aqa129.csv saved\n"
     ]
    },
    {
     "name": "stderr",
     "output_type": "stream",
     "text": [
      "100%|███████████████████████████████████████████████████████████████████████████████████████████████████████████████████| 15/15 [00:39<00:00,  2.64s/it]\n"
     ]
    },
    {
     "name": "stdout",
     "output_type": "stream",
     "text": [
      "JSONDecodeError: Expecting value: line 1 column 1 (char 0)\n",
      "Failed to fix JSON string: Expecting value: line 1 column 1 (char 0)\n",
      "JSONDecodeError: Expecting value: line 1 column 1 (char 0)\n",
      "Failed to fix JSON string: Expecting value: line 1 column 1 (char 0)\n",
      "JSONDecodeError: Expecting value: line 1 column 1 (char 0)\n",
      "Failed to fix JSON string: Expecting value: line 1 column 1 (char 0)\n",
      "JSONDecodeError: Expecting value: line 1 column 1 (char 0)\n",
      "Failed to fix JSON string: Expecting value: line 1 column 1 (char 0)\n",
      "JSONDecodeError: Expecting ',' delimiter: line 3 column 471 (char 506)\n",
      "JSONDecodeError: Expecting ',' delimiter: line 3 column 579 (char 614)\n",
      "evaluations-aqa130.csv saved\n"
     ]
    },
    {
     "name": "stderr",
     "output_type": "stream",
     "text": [
      "100%|███████████████████████████████████████████████████████████████████████████████████████████████████████████████████| 15/15 [00:38<00:00,  2.58s/it]\n"
     ]
    },
    {
     "name": "stdout",
     "output_type": "stream",
     "text": [
      "JSONDecodeError: Expecting ',' delimiter: line 3 column 447 (char 475)\n",
      "JSONDecodeError: Expecting value: line 1 column 1 (char 0)\n",
      "Failed to fix JSON string: Expecting value: line 1 column 1 (char 0)\n",
      "JSONDecodeError: Expecting value: line 1 column 1 (char 0)\n",
      "Failed to fix JSON string: Expecting value: line 1 column 1 (char 0)\n",
      "JSONDecodeError: Expecting ',' delimiter: line 3 column 404 (char 439)\n",
      "JSONDecodeError: Expecting ',' delimiter: line 3 column 378 (char 413)\n",
      "JSONDecodeError: Expecting ',' delimiter: line 3 column 514 (char 549)\n",
      "JSONDecodeError: Expecting ',' delimiter: line 3 column 480 (char 508)\n",
      "JSONDecodeError: Expecting ',' delimiter: line 3 column 367 (char 393)\n",
      "JSONDecodeError: Expecting ',' delimiter: line 3 column 335 (char 368)\n",
      "evaluations-aqa131.csv saved\n"
     ]
    },
    {
     "name": "stderr",
     "output_type": "stream",
     "text": [
      "100%|███████████████████████████████████████████████████████████████████████████████████████████████████████████████████| 15/15 [00:39<00:00,  2.64s/it]\n"
     ]
    },
    {
     "name": "stdout",
     "output_type": "stream",
     "text": [
      "JSONDecodeError: Expecting ',' delimiter: line 3 column 375 (char 403)\n",
      "JSONDecodeError: Expecting ',' delimiter: line 3 column 510 (char 538)\n",
      "JSONDecodeError: Expecting ',' delimiter: line 3 column 703 (char 739)\n",
      "JSONDecodeError: Expecting ',' delimiter: line 3 column 582 (char 608)\n",
      "JSONDecodeError: Expecting ',' delimiter: line 3 column 382 (char 414)\n",
      "JSONDecodeError: Expecting value: line 1 column 1 (char 0)\n",
      "Failed to fix JSON string: Expecting value: line 1 column 1 (char 0)\n",
      "JSONDecodeError: Expecting value: line 1 column 1 (char 0)\n",
      "Failed to fix JSON string: Expecting value: line 1 column 1 (char 0)\n",
      "evaluations-aqa132.csv saved\n"
     ]
    },
    {
     "name": "stderr",
     "output_type": "stream",
     "text": [
      "100%|███████████████████████████████████████████████████████████████████████████████████████████████████████████████████| 15/15 [00:38<00:00,  2.58s/it]\n"
     ]
    },
    {
     "name": "stdout",
     "output_type": "stream",
     "text": [
      "JSONDecodeError: Expecting ',' delimiter: line 3 column 327 (char 355)\n",
      "JSONDecodeError: Expecting ',' delimiter: line 3 column 376 (char 408)\n",
      "JSONDecodeError: Expecting ',' delimiter: line 3 column 370 (char 398)\n",
      "JSONDecodeError: Expecting ',' delimiter: line 3 column 244 (char 272)\n",
      "JSONDecodeError: Expecting ',' delimiter: line 3 column 350 (char 385)\n",
      "JSONDecodeError: Expecting ',' delimiter: line 3 column 404 (char 432)\n",
      "JSONDecodeError: Expecting ',' delimiter: line 3 column 434 (char 462)\n",
      "JSONDecodeError: Expecting ',' delimiter: line 3 column 527 (char 555)\n",
      "JSONDecodeError: Expecting ',' delimiter: line 3 column 309 (char 337)\n",
      "evaluations-aqa133.csv saved\n"
     ]
    },
    {
     "name": "stderr",
     "output_type": "stream",
     "text": [
      "100%|███████████████████████████████████████████████████████████████████████████████████████████████████████████████████| 15/15 [00:39<00:00,  2.61s/it]\n"
     ]
    },
    {
     "name": "stdout",
     "output_type": "stream",
     "text": [
      "JSONDecodeError: Expecting ',' delimiter: line 3 column 380 (char 408)\n",
      "JSONDecodeError: Expecting ',' delimiter: line 3 column 485 (char 513)\n",
      "JSONDecodeError: Expecting ',' delimiter: line 3 column 365 (char 393)\n",
      "JSONDecodeError: Expecting ',' delimiter: line 3 column 494 (char 529)\n",
      "JSONDecodeError: Expecting ',' delimiter: line 3 column 404 (char 430)\n",
      "JSONDecodeError: Expecting ',' delimiter: line 3 column 471 (char 506)\n",
      "JSONDecodeError: Expecting ',' delimiter: line 3 column 269 (char 297)\n",
      "JSONDecodeError: Expecting ',' delimiter: line 3 column 352 (char 380)\n",
      "JSONDecodeError: Expecting ',' delimiter: line 3 column 389 (char 415)\n",
      "JSONDecodeError: Expecting ',' delimiter: line 3 column 370 (char 398)\n",
      "evaluations-aqa134.csv saved\n"
     ]
    },
    {
     "name": "stderr",
     "output_type": "stream",
     "text": [
      "100%|███████████████████████████████████████████████████████████████████████████████████████████████████████████████████| 15/15 [00:39<00:00,  2.61s/it]\n"
     ]
    },
    {
     "name": "stdout",
     "output_type": "stream",
     "text": [
      "JSONDecodeError: Expecting value: line 1 column 1 (char 0)\n",
      "Failed to fix JSON string: Expecting value: line 1 column 1 (char 0)\n",
      "JSONDecodeError: Expecting ',' delimiter: line 3 column 188 (char 216)\n",
      "JSONDecodeError: Expecting ',' delimiter: line 3 column 372 (char 400)\n",
      "JSONDecodeError: Expecting ',' delimiter: line 3 column 381 (char 409)\n",
      "JSONDecodeError: Expecting ',' delimiter: line 3 column 284 (char 312)\n",
      "JSONDecodeError: Expecting ',' delimiter: line 3 column 379 (char 407)\n",
      "JSONDecodeError: Expecting ',' delimiter: line 3 column 322 (char 354)\n",
      "JSONDecodeError: Expecting ',' delimiter: line 3 column 306 (char 334)\n",
      "JSONDecodeError: Expecting ',' delimiter: line 3 column 296 (char 324)\n",
      "JSONDecodeError: Expecting ',' delimiter: line 3 column 319 (char 347)\n",
      "evaluations-aqa135.csv saved\n"
     ]
    },
    {
     "name": "stderr",
     "output_type": "stream",
     "text": [
      "100%|███████████████████████████████████████████████████████████████████████████████████████████████████████████████████| 15/15 [00:38<00:00,  2.59s/it]\n"
     ]
    },
    {
     "name": "stdout",
     "output_type": "stream",
     "text": [
      "JSONDecodeError: Expecting ',' delimiter: line 3 column 299 (char 327)\n",
      "JSONDecodeError: Expecting value: line 1 column 1 (char 0)\n",
      "Failed to fix JSON string: Expecting value: line 1 column 1 (char 0)\n",
      "JSONDecodeError: Expecting value: line 1 column 1 (char 0)\n",
      "Failed to fix JSON string: Expecting value: line 1 column 1 (char 0)\n",
      "JSONDecodeError: Expecting ',' delimiter: line 3 column 318 (char 346)\n",
      "JSONDecodeError: Expecting ',' delimiter: line 3 column 487 (char 515)\n",
      "JSONDecodeError: Expecting value: line 1 column 1 (char 0)\n",
      "Failed to fix JSON string: Expecting value: line 1 column 1 (char 0)\n",
      "JSONDecodeError: Expecting value: line 1 column 1 (char 0)\n",
      "Failed to fix JSON string: Expecting value: line 1 column 1 (char 0)\n",
      "JSONDecodeError: Expecting value: line 1 column 1 (char 0)\n",
      "Failed to fix JSON string: Expecting value: line 1 column 1 (char 0)\n",
      "JSONDecodeError: Expecting value: line 1 column 1 (char 0)\n",
      "Failed to fix JSON string: Expecting value: line 1 column 1 (char 0)\n",
      "evaluations-aqa136.csv saved\n"
     ]
    },
    {
     "name": "stderr",
     "output_type": "stream",
     "text": [
      "100%|███████████████████████████████████████████████████████████████████████████████████████████████████████████████████| 15/15 [00:39<00:00,  2.65s/it]\n"
     ]
    },
    {
     "name": "stdout",
     "output_type": "stream",
     "text": [
      "JSONDecodeError: Expecting ',' delimiter: line 3 column 320 (char 352)\n",
      "JSONDecodeError: Expecting ',' delimiter: line 3 column 397 (char 432)\n",
      "JSONDecodeError: Expecting ',' delimiter: line 3 column 373 (char 401)\n",
      "JSONDecodeError: Expecting ',' delimiter: line 3 column 375 (char 403)\n",
      "JSONDecodeError: Expecting ',' delimiter: line 3 column 595 (char 630)\n",
      "JSONDecodeError: Expecting ',' delimiter: line 3 column 348 (char 376)\n",
      "JSONDecodeError: Expecting ',' delimiter: line 3 column 525 (char 553)\n",
      "evaluations-aqa137.csv saved\n"
     ]
    },
    {
     "name": "stderr",
     "output_type": "stream",
     "text": [
      "100%|███████████████████████████████████████████████████████████████████████████████████████████████████████████████████| 15/15 [00:39<00:00,  2.63s/it]\n"
     ]
    },
    {
     "name": "stdout",
     "output_type": "stream",
     "text": [
      "JSONDecodeError: Expecting ',' delimiter: line 3 column 414 (char 449)\n",
      "JSONDecodeError: Expecting ',' delimiter: line 3 column 341 (char 376)\n",
      "JSONDecodeError: Expecting ',' delimiter: line 3 column 783 (char 818)\n",
      "JSONDecodeError: Expecting ',' delimiter: line 3 column 522 (char 550)\n",
      "JSONDecodeError: Expecting value: line 1 column 1 (char 0)\n",
      "Failed to fix JSON string: Expecting value: line 1 column 1 (char 0)\n",
      "JSONDecodeError: Expecting ',' delimiter: line 3 column 415 (char 443)\n",
      "JSONDecodeError: Expecting ',' delimiter: line 3 column 576 (char 611)\n",
      "evaluations-aqa138.csv saved\n"
     ]
    },
    {
     "name": "stderr",
     "output_type": "stream",
     "text": [
      "100%|███████████████████████████████████████████████████████████████████████████████████████████████████████████████████| 15/15 [00:39<00:00,  2.61s/it]\n"
     ]
    },
    {
     "name": "stdout",
     "output_type": "stream",
     "text": [
      "JSONDecodeError: Expecting ',' delimiter: line 3 column 335 (char 370)\n",
      "JSONDecodeError: Expecting ',' delimiter: line 3 column 301 (char 336)\n",
      "JSONDecodeError: Expecting ',' delimiter: line 3 column 273 (char 299)\n",
      "JSONDecodeError: Expecting ',' delimiter: line 3 column 289 (char 319)\n",
      "JSONDecodeError: Expecting ',' delimiter: line 3 column 388 (char 420)\n",
      "JSONDecodeError: Expecting ',' delimiter: line 3 column 419 (char 447)\n",
      "JSONDecodeError: Expecting ',' delimiter: line 3 column 373 (char 401)\n",
      "evaluations-aqa139.csv saved\n"
     ]
    },
    {
     "name": "stderr",
     "output_type": "stream",
     "text": [
      "100%|███████████████████████████████████████████████████████████████████████████████████████████████████████████████████| 15/15 [00:39<00:00,  2.63s/it]\n"
     ]
    },
    {
     "name": "stdout",
     "output_type": "stream",
     "text": [
      "JSONDecodeError: Expecting ',' delimiter: line 3 column 387 (char 413)\n",
      "JSONDecodeError: Expecting value: line 1 column 1 (char 0)\n",
      "Failed to fix JSON string: Expecting value: line 1 column 1 (char 0)\n",
      "JSONDecodeError: Expecting ',' delimiter: line 3 column 301 (char 329)\n",
      "JSONDecodeError: Expecting ',' delimiter: line 3 column 538 (char 573)\n",
      "JSONDecodeError: Expecting ',' delimiter: line 3 column 528 (char 556)\n",
      "JSONDecodeError: Expecting ',' delimiter: line 3 column 304 (char 332)\n",
      "JSONDecodeError: Expecting ',' delimiter: line 3 column 239 (char 267)\n",
      "evaluations-aqa140.csv saved\n"
     ]
    },
    {
     "name": "stderr",
     "output_type": "stream",
     "text": [
      "100%|███████████████████████████████████████████████████████████████████████████████████████████████████████████████████| 15/15 [00:39<00:00,  2.63s/it]\n"
     ]
    },
    {
     "name": "stdout",
     "output_type": "stream",
     "text": [
      "JSONDecodeError: Expecting value: line 1 column 1 (char 0)\n",
      "Failed to fix JSON string: Expecting value: line 1 column 1 (char 0)\n",
      "JSONDecodeError: Expecting ',' delimiter: line 3 column 449 (char 477)\n",
      "JSONDecodeError: Expecting ',' delimiter: line 3 column 332 (char 358)\n",
      "JSONDecodeError: Expecting value: line 1 column 1 (char 0)\n",
      "Failed to fix JSON string: Expecting value: line 1 column 1 (char 0)\n",
      "JSONDecodeError: Expecting ',' delimiter: line 3 column 398 (char 426)\n",
      "JSONDecodeError: Expecting ',' delimiter: line 3 column 391 (char 417)\n",
      "JSONDecodeError: Expecting ',' delimiter: line 3 column 305 (char 333)\n",
      "JSONDecodeError: Expecting ',' delimiter: line 3 column 312 (char 340)\n",
      "evaluations-aqa141.csv saved\n"
     ]
    },
    {
     "name": "stderr",
     "output_type": "stream",
     "text": [
      "100%|███████████████████████████████████████████████████████████████████████████████████████████████████████████████████| 15/15 [00:39<00:00,  2.62s/it]\n"
     ]
    },
    {
     "name": "stdout",
     "output_type": "stream",
     "text": [
      "JSONDecodeError: Expecting ',' delimiter: line 3 column 420 (char 446)\n",
      "JSONDecodeError: Expecting ',' delimiter: line 3 column 448 (char 476)\n",
      "JSONDecodeError: Expecting ',' delimiter: line 3 column 506 (char 534)\n",
      "JSONDecodeError: Expecting ',' delimiter: line 3 column 286 (char 314)\n",
      "JSONDecodeError: Expecting ',' delimiter: line 3 column 384 (char 412)\n",
      "JSONDecodeError: Expecting ',' delimiter: line 3 column 240 (char 268)\n",
      "JSONDecodeError: Expecting ',' delimiter: line 3 column 488 (char 523)\n",
      "JSONDecodeError: Expecting ',' delimiter: line 3 column 418 (char 446)\n",
      "JSONDecodeError: Expecting value: line 1 column 1 (char 0)\n",
      "Failed to fix JSON string: Expecting value: line 1 column 1 (char 0)\n",
      "evaluations-aqa142.csv saved\n"
     ]
    },
    {
     "name": "stderr",
     "output_type": "stream",
     "text": [
      "100%|███████████████████████████████████████████████████████████████████████████████████████████████████████████████████| 15/15 [00:38<00:00,  2.58s/it]\n"
     ]
    },
    {
     "name": "stdout",
     "output_type": "stream",
     "text": [
      "JSONDecodeError: Expecting value: line 1 column 1 (char 0)\n",
      "Failed to fix JSON string: Expecting value: line 1 column 1 (char 0)\n",
      "JSONDecodeError: Expecting ',' delimiter: line 3 column 355 (char 381)\n",
      "JSONDecodeError: Expecting ',' delimiter: line 3 column 442 (char 470)\n",
      "JSONDecodeError: Expecting ',' delimiter: line 3 column 315 (char 343)\n",
      "JSONDecodeError: Expecting ',' delimiter: line 3 column 474 (char 506)\n",
      "JSONDecodeError: Expecting ',' delimiter: line 3 column 390 (char 418)\n",
      "JSONDecodeError: Expecting ',' delimiter: line 3 column 353 (char 385)\n",
      "evaluations-aqa143.csv saved\n"
     ]
    },
    {
     "name": "stderr",
     "output_type": "stream",
     "text": [
      "100%|███████████████████████████████████████████████████████████████████████████████████████████████████████████████████| 15/15 [00:39<00:00,  2.64s/it]\n"
     ]
    },
    {
     "name": "stdout",
     "output_type": "stream",
     "text": [
      "JSONDecodeError: Expecting ',' delimiter: line 3 column 557 (char 592)\n",
      "JSONDecodeError: Expecting ',' delimiter: line 3 column 431 (char 463)\n",
      "JSONDecodeError: Expecting ',' delimiter: line 3 column 578 (char 611)\n",
      "JSONDecodeError: Expecting value: line 1 column 1 (char 0)\n",
      "Failed to fix JSON string: Expecting value: line 1 column 1 (char 0)\n",
      "JSONDecodeError: Expecting value: line 1 column 1 (char 0)\n",
      "Failed to fix JSON string: Expecting value: line 1 column 1 (char 0)\n",
      "JSONDecodeError: Expecting ',' delimiter: line 3 column 509 (char 544)\n",
      "evaluations-aqa144.csv saved\n"
     ]
    },
    {
     "name": "stderr",
     "output_type": "stream",
     "text": [
      "100%|███████████████████████████████████████████████████████████████████████████████████████████████████████████████████| 15/15 [00:39<00:00,  2.61s/it]\n"
     ]
    },
    {
     "name": "stdout",
     "output_type": "stream",
     "text": [
      "JSONDecodeError: Expecting ',' delimiter: line 3 column 663 (char 698)\n",
      "JSONDecodeError: Expecting ',' delimiter: line 3 column 409 (char 437)\n",
      "JSONDecodeError: Expecting ',' delimiter: line 3 column 373 (char 405)\n",
      "JSONDecodeError: Expecting value: line 1 column 1 (char 0)\n",
      "Failed to fix JSON string: Expecting value: line 1 column 1 (char 0)\n",
      "JSONDecodeError: Expecting ',' delimiter: line 3 column 457 (char 485)\n",
      "JSONDecodeError: Expecting ',' delimiter: line 3 column 366 (char 394)\n",
      "JSONDecodeError: Expecting ',' delimiter: line 3 column 471 (char 506)\n",
      "JSONDecodeError: Expecting ',' delimiter: line 3 column 286 (char 321)\n",
      "evaluations-aqa145.csv saved\n"
     ]
    },
    {
     "name": "stderr",
     "output_type": "stream",
     "text": [
      "100%|███████████████████████████████████████████████████████████████████████████████████████████████████████████████████| 15/15 [00:38<00:00,  2.59s/it]\n"
     ]
    },
    {
     "name": "stdout",
     "output_type": "stream",
     "text": [
      "JSONDecodeError: Expecting ',' delimiter: line 3 column 463 (char 491)\n",
      "JSONDecodeError: Expecting ',' delimiter: line 3 column 296 (char 328)\n",
      "JSONDecodeError: Expecting ',' delimiter: line 3 column 441 (char 469)\n",
      "JSONDecodeError: Expecting ',' delimiter: line 3 column 309 (char 337)\n",
      "JSONDecodeError: Expecting ',' delimiter: line 3 column 414 (char 449)\n",
      "evaluations-aqa146.csv saved\n"
     ]
    },
    {
     "name": "stderr",
     "output_type": "stream",
     "text": [
      "100%|███████████████████████████████████████████████████████████████████████████████████████████████████████████████████| 15/15 [00:39<00:00,  2.66s/it]\n"
     ]
    },
    {
     "name": "stdout",
     "output_type": "stream",
     "text": [
      "JSONDecodeError: Expecting ',' delimiter: line 3 column 456 (char 489)\n",
      "JSONDecodeError: Expecting ',' delimiter: line 3 column 317 (char 343)\n",
      "JSONDecodeError: Expecting ',' delimiter: line 3 column 664 (char 699)\n",
      "JSONDecodeError: Expecting value: line 1 column 1 (char 0)\n",
      "Failed to fix JSON string: Expecting value: line 1 column 1 (char 0)\n",
      "JSONDecodeError: Expecting ',' delimiter: line 3 column 511 (char 546)\n",
      "JSONDecodeError: Expecting ',' delimiter: line 3 column 394 (char 422)\n",
      "JSONDecodeError: Expecting ',' delimiter: line 3 column 406 (char 441)\n",
      "JSONDecodeError: Expecting ',' delimiter: line 3 column 369 (char 401)\n",
      "JSONDecodeError: Expecting ',' delimiter: line 3 column 304 (char 336)\n",
      "JSONDecodeError: Expecting value: line 1 column 1 (char 0)\n",
      "Failed to fix JSON string: Expecting value: line 1 column 1 (char 0)\n",
      "evaluations-aqa147.csv saved\n"
     ]
    },
    {
     "name": "stderr",
     "output_type": "stream",
     "text": [
      "100%|███████████████████████████████████████████████████████████████████████████████████████████████████████████████████| 15/15 [00:38<00:00,  2.55s/it]\n"
     ]
    },
    {
     "name": "stdout",
     "output_type": "stream",
     "text": [
      "JSONDecodeError: Expecting value: line 1 column 1 (char 0)\n",
      "Failed to fix JSON string: Expecting value: line 1 column 1 (char 0)\n",
      "JSONDecodeError: Expecting ',' delimiter: line 3 column 515 (char 543)\n",
      "JSONDecodeError: Expecting value: line 1 column 1 (char 0)\n",
      "Failed to fix JSON string: Expecting value: line 1 column 1 (char 0)\n",
      "JSONDecodeError: Expecting value: line 1 column 1 (char 0)\n",
      "Failed to fix JSON string: Expecting value: line 1 column 1 (char 0)\n",
      "JSONDecodeError: Expecting value: line 1 column 1 (char 0)\n",
      "Failed to fix JSON string: Expecting value: line 1 column 1 (char 0)\n",
      "evaluations-aqa148.csv saved\n"
     ]
    },
    {
     "name": "stderr",
     "output_type": "stream",
     "text": [
      "100%|███████████████████████████████████████████████████████████████████████████████████████████████████████████████████| 15/15 [00:39<00:00,  2.61s/it]\n"
     ]
    },
    {
     "name": "stdout",
     "output_type": "stream",
     "text": [
      "JSONDecodeError: Expecting ',' delimiter: line 3 column 409 (char 444)\n",
      "JSONDecodeError: Expecting ',' delimiter: line 3 column 380 (char 408)\n",
      "JSONDecodeError: Expecting ',' delimiter: line 3 column 368 (char 396)\n",
      "JSONDecodeError: Expecting value: line 1 column 1 (char 0)\n",
      "Failed to fix JSON string: Expecting value: line 1 column 1 (char 0)\n",
      "JSONDecodeError: Expecting ',' delimiter: line 3 column 433 (char 461)\n",
      "JSONDecodeError: Expecting ',' delimiter: line 3 column 315 (char 341)\n",
      "JSONDecodeError: Expecting ',' delimiter: line 3 column 476 (char 511)\n",
      "JSONDecodeError: Expecting ',' delimiter: line 3 column 435 (char 468)\n",
      "evaluations-aqa149.csv saved\n"
     ]
    },
    {
     "name": "stderr",
     "output_type": "stream",
     "text": [
      "100%|███████████████████████████████████████████████████████████████████████████████████████████████████████████████████| 15/15 [00:39<00:00,  2.61s/it]\n"
     ]
    },
    {
     "name": "stdout",
     "output_type": "stream",
     "text": [
      "JSONDecodeError: Expecting ',' delimiter: line 3 column 476 (char 504)\n",
      "JSONDecodeError: Expecting ',' delimiter: line 3 column 298 (char 326)\n",
      "JSONDecodeError: Expecting ',' delimiter: line 3 column 394 (char 422)\n",
      "JSONDecodeError: Expecting ',' delimiter: line 3 column 270 (char 296)\n",
      "JSONDecodeError: Expecting ',' delimiter: line 3 column 442 (char 472)\n",
      "JSONDecodeError: Expecting ',' delimiter: line 3 column 377 (char 412)\n",
      "JSONDecodeError: Expecting ',' delimiter: line 3 column 259 (char 285)\n",
      "JSONDecodeError: Expecting ',' delimiter: line 3 column 295 (char 323)\n",
      "evaluations-aqa150.csv saved\n"
     ]
    },
    {
     "name": "stderr",
     "output_type": "stream",
     "text": [
      "100%|███████████████████████████████████████████████████████████████████████████████████████████████████████████████████| 15/15 [00:38<00:00,  2.53s/it]\n"
     ]
    },
    {
     "name": "stdout",
     "output_type": "stream",
     "text": [
      "JSONDecodeError: Expecting ',' delimiter: line 3 column 303 (char 329)\n",
      "JSONDecodeError: Expecting ',' delimiter: line 3 column 269 (char 297)\n",
      "JSONDecodeError: Expecting ',' delimiter: line 3 column 276 (char 304)\n",
      "JSONDecodeError: Expecting ',' delimiter: line 3 column 353 (char 388)\n",
      "JSONDecodeError: Expecting ',' delimiter: line 3 column 504 (char 539)\n",
      "JSONDecodeError: Unterminated string starting at: line 3 column 18 (char 46)\n",
      "Failed to fix JSON string: Unterminated string starting at: line 3 column 18 (char 46)\n",
      "JSONDecodeError: Expecting value: line 1 column 1 (char 0)\n",
      "Failed to fix JSON string: Expecting value: line 1 column 1 (char 0)\n",
      "JSONDecodeError: Expecting ',' delimiter: line 3 column 481 (char 509)\n",
      "JSONDecodeError: Expecting ',' delimiter: line 3 column 499 (char 531)\n",
      "JSONDecodeError: Expecting ',' delimiter: line 3 column 341 (char 367)\n",
      "JSONDecodeError: Expecting ',' delimiter: line 3 column 483 (char 515)\n",
      "evaluations-aqa151.csv saved\n"
     ]
    },
    {
     "name": "stderr",
     "output_type": "stream",
     "text": [
      "100%|███████████████████████████████████████████████████████████████████████████████████████████████████████████████████| 15/15 [00:38<00:00,  2.58s/it]\n"
     ]
    },
    {
     "name": "stdout",
     "output_type": "stream",
     "text": [
      "JSONDecodeError: Expecting ',' delimiter: line 3 column 424 (char 454)\n",
      "JSONDecodeError: Expecting ',' delimiter: line 3 column 371 (char 403)\n",
      "JSONDecodeError: Expecting value: line 1 column 1 (char 0)\n",
      "Failed to fix JSON string: Expecting value: line 1 column 1 (char 0)\n",
      "JSONDecodeError: Expecting ',' delimiter: line 3 column 265 (char 291)\n",
      "JSONDecodeError: Expecting ',' delimiter: line 3 column 314 (char 342)\n",
      "JSONDecodeError: Expecting ',' delimiter: line 3 column 383 (char 416)\n",
      "evaluations-aqa152.csv saved\n"
     ]
    },
    {
     "name": "stderr",
     "output_type": "stream",
     "text": [
      "100%|███████████████████████████████████████████████████████████████████████████████████████████████████████████████████| 15/15 [00:39<00:00,  2.60s/it]\n"
     ]
    },
    {
     "name": "stdout",
     "output_type": "stream",
     "text": [
      "JSONDecodeError: Expecting value: line 1 column 1 (char 0)\n",
      "Failed to fix JSON string: Expecting value: line 1 column 1 (char 0)\n",
      "JSONDecodeError: Expecting value: line 1 column 1 (char 0)\n",
      "Failed to fix JSON string: Expecting value: line 1 column 1 (char 0)\n",
      "JSONDecodeError: Expecting ',' delimiter: line 3 column 296 (char 324)\n",
      "JSONDecodeError: Expecting ',' delimiter: line 3 column 598 (char 633)\n",
      "JSONDecodeError: Expecting ',' delimiter: line 3 column 534 (char 569)\n",
      "JSONDecodeError: Expecting ',' delimiter: line 3 column 432 (char 467)\n",
      "JSONDecodeError: Expecting ',' delimiter: line 3 column 432 (char 467)\n",
      "JSONDecodeError: Expecting ',' delimiter: line 3 column 244 (char 272)\n",
      "evaluations-aqa153.csv saved\n"
     ]
    },
    {
     "name": "stderr",
     "output_type": "stream",
     "text": [
      "100%|███████████████████████████████████████████████████████████████████████████████████████████████████████████████████| 15/15 [00:39<00:00,  2.64s/it]\n"
     ]
    },
    {
     "name": "stdout",
     "output_type": "stream",
     "text": [
      "JSONDecodeError: Expecting ',' delimiter: line 3 column 368 (char 396)\n",
      "JSONDecodeError: Expecting ',' delimiter: line 3 column 615 (char 643)\n",
      "JSONDecodeError: Expecting ',' delimiter: line 3 column 246 (char 274)\n",
      "JSONDecodeError: Expecting ',' delimiter: line 3 column 463 (char 498)\n",
      "JSONDecodeError: Expecting value: line 1 column 1 (char 0)\n",
      "Failed to fix JSON string: Expecting value: line 1 column 1 (char 0)\n",
      "JSONDecodeError: Expecting ',' delimiter: line 3 column 235 (char 263)\n",
      "JSONDecodeError: Expecting ',' delimiter: line 3 column 448 (char 476)\n",
      "evaluations-aqa154.csv saved\n"
     ]
    },
    {
     "name": "stderr",
     "output_type": "stream",
     "text": [
      "100%|███████████████████████████████████████████████████████████████████████████████████████████████████████████████████| 15/15 [00:40<00:00,  2.69s/it]\n"
     ]
    },
    {
     "name": "stdout",
     "output_type": "stream",
     "text": [
      "JSONDecodeError: Expecting ',' delimiter: line 3 column 455 (char 483)\n",
      "JSONDecodeError: Expecting value: line 1 column 1 (char 0)\n",
      "Failed to fix JSON string: Expecting value: line 1 column 1 (char 0)\n",
      "JSONDecodeError: Expecting value: line 1 column 1 (char 0)\n",
      "Failed to fix JSON string: Expecting value: line 1 column 1 (char 0)\n",
      "JSONDecodeError: Expecting value: line 1 column 1 (char 0)\n",
      "Failed to fix JSON string: Expecting value: line 1 column 1 (char 0)\n",
      "JSONDecodeError: Expecting value: line 1 column 1 (char 0)\n",
      "Failed to fix JSON string: Expecting value: line 1 column 1 (char 0)\n",
      "JSONDecodeError: Expecting value: line 1 column 1 (char 0)\n",
      "Failed to fix JSON string: Expecting value: line 1 column 1 (char 0)\n",
      "JSONDecodeError: Expecting ',' delimiter: line 3 column 610 (char 638)\n",
      "JSONDecodeError: Expecting ',' delimiter: line 3 column 432 (char 460)\n",
      "evaluations-aqa155.csv saved\n"
     ]
    },
    {
     "name": "stderr",
     "output_type": "stream",
     "text": [
      "100%|███████████████████████████████████████████████████████████████████████████████████████████████████████████████████| 15/15 [00:39<00:00,  2.62s/it]\n"
     ]
    },
    {
     "name": "stdout",
     "output_type": "stream",
     "text": [
      "JSONDecodeError: Expecting value: line 1 column 1 (char 0)\n",
      "Failed to fix JSON string: Expecting value: line 1 column 1 (char 0)\n",
      "JSONDecodeError: Expecting value: line 1 column 1 (char 0)\n",
      "Failed to fix JSON string: Expecting value: line 1 column 1 (char 0)\n",
      "JSONDecodeError: Expecting value: line 1 column 1 (char 0)\n",
      "Failed to fix JSON string: Expecting value: line 1 column 1 (char 0)\n",
      "JSONDecodeError: Expecting ',' delimiter: line 3 column 436 (char 471)\n",
      "JSONDecodeError: Expecting ',' delimiter: line 3 column 645 (char 673)\n",
      "JSONDecodeError: Expecting value: line 1 column 1 (char 0)\n",
      "Failed to fix JSON string: Expecting value: line 1 column 1 (char 0)\n",
      "JSONDecodeError: Expecting ',' delimiter: line 3 column 378 (char 413)\n",
      "evaluations-aqa156.csv saved\n"
     ]
    },
    {
     "name": "stderr",
     "output_type": "stream",
     "text": [
      "100%|███████████████████████████████████████████████████████████████████████████████████████████████████████████████████| 15/15 [00:39<00:00,  2.64s/it]\n"
     ]
    },
    {
     "name": "stdout",
     "output_type": "stream",
     "text": [
      "JSONDecodeError: Expecting value: line 1 column 1 (char 0)\n",
      "Failed to fix JSON string: Expecting value: line 1 column 1 (char 0)\n",
      "JSONDecodeError: Expecting ',' delimiter: line 3 column 231 (char 259)\n",
      "JSONDecodeError: Expecting ',' delimiter: line 3 column 516 (char 544)\n",
      "JSONDecodeError: Expecting value: line 1 column 1 (char 0)\n",
      "Failed to fix JSON string: Expecting value: line 1 column 1 (char 0)\n",
      "evaluations-aqa157.csv saved\n"
     ]
    },
    {
     "name": "stderr",
     "output_type": "stream",
     "text": [
      "100%|███████████████████████████████████████████████████████████████████████████████████████████████████████████████████| 15/15 [00:39<00:00,  2.62s/it]\n"
     ]
    },
    {
     "name": "stdout",
     "output_type": "stream",
     "text": [
      "JSONDecodeError: Expecting ',' delimiter: line 3 column 167 (char 195)\n",
      "JSONDecodeError: Expecting ',' delimiter: line 3 column 478 (char 506)\n",
      "JSONDecodeError: Expecting ',' delimiter: line 3 column 454 (char 482)\n",
      "JSONDecodeError: Expecting ',' delimiter: line 3 column 514 (char 549)\n",
      "JSONDecodeError: Expecting ',' delimiter: line 3 column 509 (char 537)\n",
      "JSONDecodeError: Expecting ',' delimiter: line 3 column 361 (char 389)\n",
      "JSONDecodeError: Expecting ',' delimiter: line 3 column 294 (char 326)\n",
      "JSONDecodeError: Expecting ',' delimiter: line 3 column 332 (char 365)\n",
      "JSONDecodeError: Expecting ',' delimiter: line 3 column 298 (char 333)\n",
      "JSONDecodeError: Expecting ',' delimiter: line 3 column 463 (char 491)\n",
      "evaluations-aqa158.csv saved\n"
     ]
    },
    {
     "name": "stderr",
     "output_type": "stream",
     "text": [
      "100%|███████████████████████████████████████████████████████████████████████████████████████████████████████████████████| 15/15 [00:39<00:00,  2.60s/it]\n"
     ]
    },
    {
     "name": "stdout",
     "output_type": "stream",
     "text": [
      "JSONDecodeError: Expecting ',' delimiter: line 3 column 505 (char 533)\n",
      "JSONDecodeError: Expecting ',' delimiter: line 3 column 467 (char 502)\n",
      "JSONDecodeError: Expecting ',' delimiter: line 3 column 418 (char 451)\n",
      "JSONDecodeError: Expecting ',' delimiter: line 3 column 514 (char 549)\n",
      "JSONDecodeError: Expecting value: line 1 column 1 (char 0)\n",
      "Failed to fix JSON string: Expecting value: line 1 column 1 (char 0)\n",
      "JSONDecodeError: Expecting ',' delimiter: line 3 column 585 (char 613)\n",
      "JSONDecodeError: Expecting ',' delimiter: line 3 column 447 (char 482)\n",
      "JSONDecodeError: Expecting value: line 1 column 1 (char 0)\n",
      "Failed to fix JSON string: Expecting value: line 1 column 1 (char 0)\n",
      "JSONDecodeError: Expecting ',' delimiter: line 3 column 317 (char 345)\n",
      "evaluations-aqa159.csv saved\n"
     ]
    },
    {
     "name": "stderr",
     "output_type": "stream",
     "text": [
      "100%|███████████████████████████████████████████████████████████████████████████████████████████████████████████████████| 15/15 [00:38<00:00,  2.60s/it]\n"
     ]
    },
    {
     "name": "stdout",
     "output_type": "stream",
     "text": [
      "JSONDecodeError: Expecting value: line 1 column 1 (char 0)\n",
      "Failed to fix JSON string: Expecting value: line 1 column 1 (char 0)\n",
      "JSONDecodeError: Expecting ',' delimiter: line 3 column 471 (char 499)\n",
      "JSONDecodeError: Expecting ',' delimiter: line 3 column 651 (char 679)\n",
      "JSONDecodeError: Expecting ',' delimiter: line 3 column 390 (char 418)\n",
      "JSONDecodeError: Expecting ',' delimiter: line 3 column 318 (char 346)\n",
      "JSONDecodeError: Expecting ',' delimiter: line 3 column 362 (char 390)\n",
      "JSONDecodeError: Expecting ',' delimiter: line 3 column 389 (char 424)\n",
      "evaluations-aqa160.csv saved\n"
     ]
    },
    {
     "name": "stderr",
     "output_type": "stream",
     "text": [
      "100%|███████████████████████████████████████████████████████████████████████████████████████████████████████████████████| 15/15 [00:39<00:00,  2.64s/it]\n"
     ]
    },
    {
     "name": "stdout",
     "output_type": "stream",
     "text": [
      "JSONDecodeError: Expecting ',' delimiter: line 3 column 391 (char 419)\n",
      "JSONDecodeError: Expecting value: line 1 column 1 (char 0)\n",
      "Failed to fix JSON string: Expecting value: line 1 column 1 (char 0)\n",
      "JSONDecodeError: Expecting value: line 1 column 1 (char 0)\n",
      "Failed to fix JSON string: Expecting value: line 1 column 1 (char 0)\n",
      "JSONDecodeError: Expecting ',' delimiter: line 3 column 600 (char 632)\n",
      "JSONDecodeError: Expecting value: line 1 column 1 (char 0)\n",
      "Failed to fix JSON string: Expecting value: line 1 column 1 (char 0)\n",
      "JSONDecodeError: Expecting ',' delimiter: line 3 column 311 (char 339)\n",
      "JSONDecodeError: Expecting value: line 1 column 1 (char 0)\n",
      "Failed to fix JSON string: Expecting value: line 1 column 1 (char 0)\n",
      "JSONDecodeError: Expecting ',' delimiter: line 3 column 448 (char 483)\n",
      "evaluations-aqa161.csv saved\n"
     ]
    },
    {
     "name": "stderr",
     "output_type": "stream",
     "text": [
      "100%|███████████████████████████████████████████████████████████████████████████████████████████████████████████████████| 15/15 [00:39<00:00,  2.60s/it]\n"
     ]
    },
    {
     "name": "stdout",
     "output_type": "stream",
     "text": [
      "JSONDecodeError: Expecting ',' delimiter: line 3 column 253 (char 279)\n",
      "JSONDecodeError: Expecting ',' delimiter: line 3 column 367 (char 395)\n",
      "JSONDecodeError: Expecting value: line 1 column 1 (char 0)\n",
      "Failed to fix JSON string: Expecting value: line 1 column 1 (char 0)\n",
      "JSONDecodeError: Expecting ',' delimiter: line 3 column 564 (char 597)\n",
      "JSONDecodeError: Expecting value: line 1 column 1 (char 0)\n",
      "Failed to fix JSON string: Expecting value: line 1 column 1 (char 0)\n",
      "JSONDecodeError: Expecting ',' delimiter: line 3 column 495 (char 530)\n",
      "JSONDecodeError: Expecting ',' delimiter: line 3 column 270 (char 298)\n",
      "evaluations-aqa162.csv saved\n"
     ]
    },
    {
     "name": "stderr",
     "output_type": "stream",
     "text": [
      "100%|███████████████████████████████████████████████████████████████████████████████████████████████████████████████████| 15/15 [00:38<00:00,  2.59s/it]\n"
     ]
    },
    {
     "name": "stdout",
     "output_type": "stream",
     "text": [
      "JSONDecodeError: Expecting ',' delimiter: line 3 column 341 (char 369)\n",
      "JSONDecodeError: Expecting ',' delimiter: line 3 column 305 (char 333)\n",
      "JSONDecodeError: Expecting ',' delimiter: line 3 column 365 (char 393)\n",
      "JSONDecodeError: Expecting ',' delimiter: line 3 column 478 (char 504)\n",
      "JSONDecodeError: Expecting ',' delimiter: line 3 column 421 (char 447)\n",
      "JSONDecodeError: Expecting ',' delimiter: line 3 column 668 (char 696)\n",
      "JSONDecodeError: Expecting value: line 1 column 1 (char 0)\n",
      "Failed to fix JSON string: Expecting value: line 1 column 1 (char 0)\n",
      "JSONDecodeError: Expecting ',' delimiter: line 3 column 521 (char 556)\n",
      "JSONDecodeError: Expecting ',' delimiter: line 3 column 357 (char 389)\n",
      "evaluations-aqa163.csv saved\n"
     ]
    },
    {
     "name": "stderr",
     "output_type": "stream",
     "text": [
      "100%|█████████████████████████████████████████████████████████████████████████████████████████████████████████████████████| 2/2 [00:05<00:00,  2.60s/it]\n"
     ]
    },
    {
     "name": "stdout",
     "output_type": "stream",
     "text": [
      "JSONDecodeError: Expecting ',' delimiter: line 3 column 411 (char 446)\n",
      "JSONDecodeError: Expecting ',' delimiter: line 3 column 307 (char 335)\n",
      "evaluations-aqa164.csv saved\n"
     ]
    },
    {
     "name": "stderr",
     "output_type": "stream",
     "text": [
      "100%|███████████████████████████████████████████████████████████████████████████████████████████████████████████████████| 15/15 [00:39<00:00,  2.61s/it]\n"
     ]
    },
    {
     "name": "stdout",
     "output_type": "stream",
     "text": [
      "JSONDecodeError: Expecting ',' delimiter: line 3 column 605 (char 633)\n",
      "JSONDecodeError: Expecting ',' delimiter: line 3 column 531 (char 564)\n",
      "JSONDecodeError: Expecting ',' delimiter: line 3 column 388 (char 420)\n",
      "JSONDecodeError: Expecting ',' delimiter: line 3 column 528 (char 561)\n",
      "JSONDecodeError: Expecting ',' delimiter: line 3 column 475 (char 510)\n",
      "JSONDecodeError: Expecting ',' delimiter: line 3 column 517 (char 552)\n",
      "evaluations-aqa165.csv saved\n"
     ]
    },
    {
     "name": "stderr",
     "output_type": "stream",
     "text": [
      "100%|███████████████████████████████████████████████████████████████████████████████████████████████████████████████████| 15/15 [00:39<00:00,  2.61s/it]\n"
     ]
    },
    {
     "name": "stdout",
     "output_type": "stream",
     "text": [
      "JSONDecodeError: Expecting value: line 1 column 1 (char 0)\n",
      "Failed to fix JSON string: Expecting value: line 1 column 1 (char 0)\n",
      "JSONDecodeError: Expecting value: line 1 column 1 (char 0)\n",
      "Failed to fix JSON string: Expecting value: line 1 column 1 (char 0)\n",
      "JSONDecodeError: Expecting ',' delimiter: line 3 column 309 (char 344)\n",
      "JSONDecodeError: Expecting value: line 1 column 1 (char 0)\n",
      "Failed to fix JSON string: Expecting value: line 1 column 1 (char 0)\n",
      "JSONDecodeError: Expecting value: line 1 column 1 (char 0)\n",
      "Failed to fix JSON string: Expecting value: line 1 column 1 (char 0)\n",
      "JSONDecodeError: Expecting ',' delimiter: line 3 column 410 (char 438)\n",
      "evaluations-aqa166.csv saved\n"
     ]
    },
    {
     "name": "stderr",
     "output_type": "stream",
     "text": [
      "100%|███████████████████████████████████████████████████████████████████████████████████████████████████████████████████| 15/15 [00:38<00:00,  2.59s/it]\n"
     ]
    },
    {
     "name": "stdout",
     "output_type": "stream",
     "text": [
      "JSONDecodeError: Expecting ',' delimiter: line 3 column 366 (char 394)\n",
      "JSONDecodeError: Expecting ',' delimiter: line 3 column 242 (char 270)\n",
      "JSONDecodeError: Expecting value: line 1 column 1 (char 0)\n",
      "Failed to fix JSON string: Expecting value: line 1 column 1 (char 0)\n",
      "JSONDecodeError: Expecting ',' delimiter: line 3 column 291 (char 319)\n",
      "JSONDecodeError: Expecting ',' delimiter: line 3 column 385 (char 413)\n",
      "JSONDecodeError: Expecting ',' delimiter: line 3 column 452 (char 484)\n",
      "evaluations-aqa167.csv saved\n"
     ]
    },
    {
     "name": "stderr",
     "output_type": "stream",
     "text": [
      "100%|███████████████████████████████████████████████████████████████████████████████████████████████████████████████████| 15/15 [00:38<00:00,  2.58s/it]\n"
     ]
    },
    {
     "name": "stdout",
     "output_type": "stream",
     "text": [
      "JSONDecodeError: Expecting value: line 1 column 1 (char 0)\n",
      "Failed to fix JSON string: Expecting value: line 1 column 1 (char 0)\n",
      "JSONDecodeError: Expecting value: line 1 column 1 (char 0)\n",
      "Failed to fix JSON string: Expecting value: line 1 column 1 (char 0)\n",
      "JSONDecodeError: Expecting ',' delimiter: line 3 column 260 (char 288)\n",
      "JSONDecodeError: Expecting ',' delimiter: line 3 column 441 (char 469)\n",
      "JSONDecodeError: Expecting ',' delimiter: line 3 column 581 (char 607)\n",
      "evaluations-aqa168.csv saved\n"
     ]
    },
    {
     "name": "stderr",
     "output_type": "stream",
     "text": [
      "100%|███████████████████████████████████████████████████████████████████████████████████████████████████████████████████| 15/15 [00:40<00:00,  2.69s/it]"
     ]
    },
    {
     "name": "stdout",
     "output_type": "stream",
     "text": [
      "JSONDecodeError: Expecting value: line 1 column 1 (char 0)\n",
      "Failed to fix JSON string: Expecting value: line 1 column 1 (char 0)\n",
      "JSONDecodeError: Expecting value: line 1 column 1 (char 0)\n",
      "Failed to fix JSON string: Expecting value: line 1 column 1 (char 0)\n",
      "JSONDecodeError: Expecting value: line 1 column 1 (char 0)\n",
      "Failed to fix JSON string: Expecting value: line 1 column 1 (char 0)\n",
      "JSONDecodeError: Expecting ',' delimiter: line 3 column 335 (char 363)\n",
      "JSONDecodeError: Expecting value: line 1 column 1 (char 0)\n",
      "Failed to fix JSON string: Expecting value: line 1 column 1 (char 0)\n",
      "JSONDecodeError: Expecting value: line 1 column 1 (char 0)\n",
      "Failed to fix JSON string: Expecting value: line 1 column 1 (char 0)\n",
      "JSONDecodeError: Expecting value: line 1 column 1 (char 0)\n",
      "Failed to fix JSON string: Expecting value: line 1 column 1 (char 0)\n",
      "JSONDecodeError: Expecting ',' delimiter: line 3 column 370 (char 396)\n",
      "JSONDecodeError: Expecting ',' delimiter: line 3 column 561 (char 596)\n",
      "evaluations-aqa169.csv saved\n"
     ]
    },
    {
     "name": "stderr",
     "output_type": "stream",
     "text": [
      "\n"
     ]
    }
   ],
   "source": [
    "for i in range(85, 170):\n",
    "    evaluations = []\n",
    "    results = []\n",
    "    json_evaluations = []\n",
    "    \n",
    "    # Load the pickle file\n",
    "    with open(f\"../data/vietnamese_rag/llm_answer/llm_answer{i}.pkl\", 'rb') as file:\n",
    "        r = pickle.load(file)\n",
    "    results.extend(r)\n",
    "    \n",
    "    # Convert results to DataFrame\n",
    "    df = pd.DataFrame(results)\n",
    "    samples = df.to_dict(orient='records')\n",
    "    \n",
    "    # Generate evaluations\n",
    "    for record in tqdm(samples):\n",
    "        prompt = prompt1_template.format(**record)\n",
    "        evaluation = llm(prompt)\n",
    "        evaluations.append(evaluation)\n",
    "    \n",
    "    # Parse evaluations\n",
    "    for j, str_eval in enumerate(evaluations):\n",
    "        try:\n",
    "            json_eval = json.loads(str_eval)\n",
    "        except json.JSONDecodeError as e:\n",
    "            print(f\"JSONDecodeError: {e}\")\n",
    "            # Attempt to fix the JSON string\n",
    "            try:\n",
    "                # str_eval = \"{\" + str_eval.lstrip(\"{\")  # Ensure it starts with an opening brace\n",
    "                str_eval = str_eval.rstrip('}') + '}'  # Ensure it ends with a closing brace\n",
    "                json_eval = json.loads(str_eval)\n",
    "            except json.JSONDecodeError as e:\n",
    "                print(f\"Failed to fix JSON string: {e}\")\n",
    "                continue  # Skip this evaluation if it cannot be fixed\n",
    "        json_evaluations.append(json_eval)\n",
    "    \n",
    "    # Save evaluations to CSV\n",
    "    if json_evaluations:\n",
    "        df_evaluations = pd.DataFrame(json_evaluations)\n",
    "        df_evaluations.to_csv(f'../data/vietnamese_rag/evaluations_aqa/evaluations-aqa{i}.csv', index=False)\n",
    "        print(f\"evaluations-aqa{i}.csv saved\")"
   ]
  },
  {
   "cell_type": "code",
   "execution_count": null,
   "id": "ec1ce80f-c703-4468-8ece-33f95a003881",
   "metadata": {},
   "outputs": [
    {
     "name": "stderr",
     "output_type": "stream",
     "text": [
      "100%|███████████████████████████████████████████████████████████████████████████████████████████████████████████████████| 15/15 [00:39<00:00,  2.60s/it]\n"
     ]
    },
    {
     "name": "stdout",
     "output_type": "stream",
     "text": [
      "JSONDecodeError: Expecting ',' delimiter: line 3 column 232 (char 260)\n",
      "JSONDecodeError: Expecting ',' delimiter: line 3 column 312 (char 340)\n",
      "JSONDecodeError: Expecting ',' delimiter: line 3 column 528 (char 556)\n",
      "JSONDecodeError: Expecting ',' delimiter: line 3 column 456 (char 484)\n",
      "JSONDecodeError: Expecting ',' delimiter: line 3 column 397 (char 425)\n",
      "JSONDecodeError: Expecting value: line 1 column 1 (char 0)\n",
      "Failed to fix JSON string: Expecting value: line 1 column 1 (char 0)\n",
      "evaluations-aqa170.csv saved\n"
     ]
    },
    {
     "name": "stderr",
     "output_type": "stream",
     "text": [
      "100%|███████████████████████████████████████████████████████████████████████████████████████████████████████████████████| 15/15 [00:38<00:00,  2.56s/it]\n"
     ]
    },
    {
     "name": "stdout",
     "output_type": "stream",
     "text": [
      "JSONDecodeError: Expecting ',' delimiter: line 3 column 366 (char 394)\n",
      "JSONDecodeError: Expecting ',' delimiter: line 3 column 289 (char 315)\n",
      "JSONDecodeError: Expecting ',' delimiter: line 3 column 346 (char 372)\n",
      "JSONDecodeError: Expecting ',' delimiter: line 3 column 473 (char 501)\n",
      "JSONDecodeError: Expecting ',' delimiter: line 3 column 325 (char 353)\n",
      "JSONDecodeError: Expecting ',' delimiter: line 3 column 346 (char 374)\n",
      "JSONDecodeError: Expecting ',' delimiter: line 3 column 349 (char 377)\n",
      "evaluations-aqa171.csv saved\n"
     ]
    },
    {
     "name": "stderr",
     "output_type": "stream",
     "text": [
      "100%|███████████████████████████████████████████████████████████████████████████████████████████████████████████████████| 15/15 [00:39<00:00,  2.61s/it]\n"
     ]
    },
    {
     "name": "stdout",
     "output_type": "stream",
     "text": [
      "JSONDecodeError: Expecting ',' delimiter: line 3 column 312 (char 340)\n",
      "JSONDecodeError: Expecting value: line 1 column 1 (char 0)\n",
      "Failed to fix JSON string: Expecting value: line 1 column 1 (char 0)\n",
      "JSONDecodeError: Expecting value: line 1 column 1 (char 0)\n",
      "Failed to fix JSON string: Expecting value: line 1 column 1 (char 0)\n",
      "JSONDecodeError: Expecting value: line 1 column 1 (char 0)\n",
      "Failed to fix JSON string: Expecting value: line 1 column 1 (char 0)\n",
      "JSONDecodeError: Expecting ',' delimiter: line 3 column 206 (char 234)\n",
      "JSONDecodeError: Expecting ',' delimiter: line 3 column 329 (char 364)\n",
      "JSONDecodeError: Expecting value: line 1 column 1 (char 0)\n",
      "Failed to fix JSON string: Expecting value: line 1 column 1 (char 0)\n",
      "evaluations-aqa172.csv saved\n"
     ]
    },
    {
     "name": "stderr",
     "output_type": "stream",
     "text": [
      "100%|███████████████████████████████████████████████████████████████████████████████████████████████████████████████████| 15/15 [00:39<00:00,  2.63s/it]\n"
     ]
    },
    {
     "name": "stdout",
     "output_type": "stream",
     "text": [
      "JSONDecodeError: Expecting ',' delimiter: line 3 column 430 (char 465)\n",
      "JSONDecodeError: Expecting ',' delimiter: line 3 column 387 (char 415)\n",
      "JSONDecodeError: Expecting ',' delimiter: line 3 column 303 (char 331)\n",
      "JSONDecodeError: Expecting ',' delimiter: line 3 column 464 (char 492)\n",
      "JSONDecodeError: Expecting ',' delimiter: line 3 column 456 (char 484)\n",
      "JSONDecodeError: Expecting ',' delimiter: line 3 column 471 (char 504)\n",
      "JSONDecodeError: Expecting value: line 1 column 1 (char 0)\n",
      "Failed to fix JSON string: Expecting value: line 1 column 1 (char 0)\n",
      "JSONDecodeError: Expecting value: line 1 column 1 (char 0)\n",
      "Failed to fix JSON string: Expecting value: line 1 column 1 (char 0)\n",
      "JSONDecodeError: Expecting ',' delimiter: line 3 column 585 (char 613)\n",
      "JSONDecodeError: Expecting ',' delimiter: line 3 column 425 (char 451)\n",
      "evaluations-aqa173.csv saved\n"
     ]
    },
    {
     "name": "stderr",
     "output_type": "stream",
     "text": [
      "100%|███████████████████████████████████████████████████████████████████████████████████████████████████████████████████| 15/15 [00:39<00:00,  2.64s/it]\n"
     ]
    },
    {
     "name": "stdout",
     "output_type": "stream",
     "text": [
      "JSONDecodeError: Expecting ',' delimiter: line 3 column 441 (char 467)\n",
      "JSONDecodeError: Expecting ',' delimiter: line 3 column 505 (char 540)\n",
      "JSONDecodeError: Expecting value: line 1 column 1 (char 0)\n",
      "Failed to fix JSON string: Expecting value: line 1 column 1 (char 0)\n",
      "JSONDecodeError: Expecting value: line 1 column 1 (char 0)\n",
      "Failed to fix JSON string: Expecting value: line 1 column 1 (char 0)\n",
      "JSONDecodeError: Expecting ',' delimiter: line 3 column 694 (char 722)\n",
      "JSONDecodeError: Expecting ',' delimiter: line 3 column 395 (char 423)\n",
      "JSONDecodeError: Expecting ',' delimiter: line 3 column 501 (char 536)\n",
      "JSONDecodeError: Expecting ',' delimiter: line 3 column 400 (char 435)\n",
      "JSONDecodeError: Expecting ',' delimiter: line 3 column 387 (char 420)\n",
      "JSONDecodeError: Expecting ',' delimiter: line 3 column 541 (char 569)\n",
      "evaluations-aqa174.csv saved\n"
     ]
    },
    {
     "name": "stderr",
     "output_type": "stream",
     "text": [
      "100%|███████████████████████████████████████████████████████████████████████████████████████████████████████████████████| 15/15 [00:39<00:00,  2.61s/it]\n"
     ]
    },
    {
     "name": "stdout",
     "output_type": "stream",
     "text": [
      "JSONDecodeError: Expecting ',' delimiter: line 3 column 435 (char 463)\n",
      "JSONDecodeError: Expecting value: line 1 column 1 (char 0)\n",
      "Failed to fix JSON string: Expecting value: line 1 column 1 (char 0)\n",
      "JSONDecodeError: Expecting ',' delimiter: line 3 column 269 (char 297)\n",
      "evaluations-aqa175.csv saved\n"
     ]
    },
    {
     "name": "stderr",
     "output_type": "stream",
     "text": [
      "100%|███████████████████████████████████████████████████████████████████████████████████████████████████████████████████| 15/15 [00:39<00:00,  2.63s/it]\n"
     ]
    },
    {
     "name": "stdout",
     "output_type": "stream",
     "text": [
      "JSONDecodeError: Expecting ',' delimiter: line 3 column 410 (char 438)\n",
      "JSONDecodeError: Expecting value: line 1 column 1 (char 0)\n",
      "Failed to fix JSON string: Expecting value: line 1 column 1 (char 0)\n",
      "JSONDecodeError: Expecting value: line 1 column 1 (char 0)\n",
      "Failed to fix JSON string: Expecting value: line 1 column 1 (char 0)\n",
      "JSONDecodeError: Expecting ',' delimiter: line 3 column 517 (char 545)\n",
      "JSONDecodeError: Expecting value: line 1 column 1 (char 0)\n",
      "Failed to fix JSON string: Expecting value: line 1 column 1 (char 0)\n",
      "JSONDecodeError: Expecting value: line 1 column 1 (char 0)\n",
      "Failed to fix JSON string: Expecting value: line 1 column 1 (char 0)\n",
      "JSONDecodeError: Expecting value: line 1 column 1 (char 0)\n",
      "Failed to fix JSON string: Expecting value: line 1 column 1 (char 0)\n",
      "JSONDecodeError: Expecting ',' delimiter: line 3 column 610 (char 645)\n",
      "JSONDecodeError: Expecting value: line 1 column 1 (char 0)\n",
      "Failed to fix JSON string: Expecting value: line 1 column 1 (char 0)\n",
      "evaluations-aqa176.csv saved\n"
     ]
    },
    {
     "name": "stderr",
     "output_type": "stream",
     "text": [
      "100%|███████████████████████████████████████████████████████████████████████████████████████████████████████████████████| 15/15 [00:39<00:00,  2.64s/it]\n"
     ]
    },
    {
     "name": "stdout",
     "output_type": "stream",
     "text": [
      "JSONDecodeError: Expecting ',' delimiter: line 3 column 570 (char 598)\n",
      "JSONDecodeError: Expecting value: line 1 column 1 (char 0)\n",
      "Failed to fix JSON string: Expecting value: line 1 column 1 (char 0)\n",
      "JSONDecodeError: Expecting value: line 1 column 1 (char 0)\n",
      "Failed to fix JSON string: Expecting value: line 1 column 1 (char 0)\n",
      "JSONDecodeError: Expecting ',' delimiter: line 3 column 309 (char 341)\n",
      "JSONDecodeError: Expecting ',' delimiter: line 3 column 495 (char 530)\n",
      "JSONDecodeError: Expecting ',' delimiter: line 3 column 382 (char 417)\n",
      "JSONDecodeError: Expecting ',' delimiter: line 3 column 478 (char 506)\n",
      "evaluations-aqa177.csv saved\n"
     ]
    },
    {
     "name": "stderr",
     "output_type": "stream",
     "text": [
      "100%|███████████████████████████████████████████████████████████████████████████████████████████████████████████████████| 15/15 [00:39<00:00,  2.63s/it]\n"
     ]
    },
    {
     "name": "stdout",
     "output_type": "stream",
     "text": [
      "JSONDecodeError: Expecting ',' delimiter: line 3 column 546 (char 581)\n",
      "JSONDecodeError: Expecting ',' delimiter: line 3 column 368 (char 396)\n",
      "JSONDecodeError: Expecting value: line 1 column 1 (char 0)\n",
      "Failed to fix JSON string: Expecting value: line 1 column 1 (char 0)\n",
      "JSONDecodeError: Expecting ',' delimiter: line 3 column 518 (char 553)\n",
      "JSONDecodeError: Expecting value: line 1 column 1 (char 0)\n",
      "Failed to fix JSON string: Expecting value: line 1 column 1 (char 0)\n",
      "JSONDecodeError: Expecting ',' delimiter: line 3 column 608 (char 643)\n",
      "JSONDecodeError: Expecting ',' delimiter: line 3 column 190 (char 218)\n",
      "JSONDecodeError: Expecting ',' delimiter: line 3 column 335 (char 363)\n",
      "evaluations-aqa178.csv saved\n"
     ]
    },
    {
     "name": "stderr",
     "output_type": "stream",
     "text": [
      "100%|███████████████████████████████████████████████████████████████████████████████████████████████████████████████████| 15/15 [00:39<00:00,  2.63s/it]\n"
     ]
    },
    {
     "name": "stdout",
     "output_type": "stream",
     "text": [
      "JSONDecodeError: Expecting value: line 1 column 1 (char 0)\n",
      "Failed to fix JSON string: Expecting value: line 1 column 1 (char 0)\n",
      "JSONDecodeError: Expecting ',' delimiter: line 3 column 540 (char 573)\n",
      "JSONDecodeError: Expecting ',' delimiter: line 3 column 347 (char 375)\n",
      "JSONDecodeError: Expecting ',' delimiter: line 3 column 485 (char 520)\n",
      "evaluations-aqa179.csv saved\n"
     ]
    },
    {
     "name": "stderr",
     "output_type": "stream",
     "text": [
      "100%|███████████████████████████████████████████████████████████████████████████████████████████████████████████████████| 15/15 [00:39<00:00,  2.61s/it]\n"
     ]
    },
    {
     "name": "stdout",
     "output_type": "stream",
     "text": [
      "JSONDecodeError: Expecting value: line 1 column 1 (char 0)\n",
      "Failed to fix JSON string: Expecting value: line 1 column 1 (char 0)\n",
      "JSONDecodeError: Expecting value: line 1 column 1 (char 0)\n",
      "Failed to fix JSON string: Expecting value: line 1 column 1 (char 0)\n",
      "JSONDecodeError: Expecting ',' delimiter: line 3 column 331 (char 357)\n",
      "JSONDecodeError: Expecting value: line 1 column 1 (char 0)\n",
      "Failed to fix JSON string: Expecting value: line 1 column 1 (char 0)\n",
      "JSONDecodeError: Expecting ',' delimiter: line 3 column 250 (char 282)\n",
      "JSONDecodeError: Expecting ',' delimiter: line 3 column 387 (char 422)\n",
      "JSONDecodeError: Expecting ',' delimiter: line 3 column 432 (char 460)\n",
      "JSONDecodeError: Expecting ',' delimiter: line 3 column 602 (char 637)\n",
      "evaluations-aqa180.csv saved\n"
     ]
    },
    {
     "name": "stderr",
     "output_type": "stream",
     "text": [
      "100%|███████████████████████████████████████████████████████████████████████████████████████████████████████████████████| 15/15 [00:39<00:00,  2.61s/it]\n"
     ]
    },
    {
     "name": "stdout",
     "output_type": "stream",
     "text": [
      "JSONDecodeError: Expecting value: line 1 column 1 (char 0)\n",
      "Failed to fix JSON string: Expecting value: line 1 column 1 (char 0)\n",
      "JSONDecodeError: Expecting value: line 1 column 1 (char 0)\n",
      "Failed to fix JSON string: Expecting value: line 1 column 1 (char 0)\n",
      "JSONDecodeError: Expecting value: line 1 column 1 (char 0)\n",
      "Failed to fix JSON string: Expecting value: line 1 column 1 (char 0)\n",
      "JSONDecodeError: Expecting ',' delimiter: line 3 column 382 (char 410)\n",
      "JSONDecodeError: Expecting ',' delimiter: line 3 column 457 (char 492)\n",
      "JSONDecodeError: Expecting ',' delimiter: line 3 column 255 (char 290)\n",
      "JSONDecodeError: Expecting value: line 1 column 1 (char 0)\n",
      "Failed to fix JSON string: Expecting value: line 1 column 1 (char 0)\n",
      "JSONDecodeError: Expecting value: line 1 column 1 (char 0)\n",
      "Failed to fix JSON string: Expecting value: line 1 column 1 (char 0)\n",
      "evaluations-aqa181.csv saved\n"
     ]
    },
    {
     "name": "stderr",
     "output_type": "stream",
     "text": [
      "100%|███████████████████████████████████████████████████████████████████████████████████████████████████████████████████| 15/15 [00:39<00:00,  2.64s/it]\n"
     ]
    },
    {
     "name": "stdout",
     "output_type": "stream",
     "text": [
      "JSONDecodeError: Expecting ',' delimiter: line 3 column 530 (char 563)\n",
      "JSONDecodeError: Expecting ',' delimiter: line 3 column 484 (char 512)\n",
      "JSONDecodeError: Expecting ',' delimiter: line 3 column 436 (char 464)\n",
      "JSONDecodeError: Expecting ',' delimiter: line 3 column 361 (char 389)\n",
      "JSONDecodeError: Expecting ',' delimiter: line 3 column 318 (char 344)\n",
      "JSONDecodeError: Expecting ',' delimiter: line 3 column 390 (char 416)\n",
      "JSONDecodeError: Expecting ',' delimiter: line 3 column 424 (char 452)\n",
      "JSONDecodeError: Expecting ',' delimiter: line 3 column 500 (char 535)\n",
      "JSONDecodeError: Expecting value: line 1 column 1 (char 0)\n",
      "Failed to fix JSON string: Expecting value: line 1 column 1 (char 0)\n",
      "evaluations-aqa182.csv saved\n"
     ]
    },
    {
     "name": "stderr",
     "output_type": "stream",
     "text": [
      "100%|███████████████████████████████████████████████████████████████████████████████████████████████████████████████████| 15/15 [00:40<00:00,  2.72s/it]\n"
     ]
    },
    {
     "name": "stdout",
     "output_type": "stream",
     "text": [
      "JSONDecodeError: Expecting value: line 1 column 1 (char 0)\n",
      "Failed to fix JSON string: Expecting value: line 1 column 1 (char 0)\n",
      "JSONDecodeError: Expecting value: line 1 column 1 (char 0)\n",
      "Failed to fix JSON string: Expecting value: line 1 column 1 (char 0)\n",
      "JSONDecodeError: Expecting value: line 1 column 1 (char 0)\n",
      "Failed to fix JSON string: Expecting value: line 1 column 1 (char 0)\n",
      "JSONDecodeError: Expecting ',' delimiter: line 3 column 549 (char 584)\n",
      "JSONDecodeError: Expecting ',' delimiter: line 3 column 376 (char 404)\n",
      "JSONDecodeError: Expecting ',' delimiter: line 3 column 635 (char 670)\n",
      "JSONDecodeError: Expecting value: line 1 column 1 (char 0)\n",
      "Failed to fix JSON string: Expecting value: line 1 column 1 (char 0)\n",
      "JSONDecodeError: Expecting ',' delimiter: line 3 column 509 (char 535)\n",
      "JSONDecodeError: Expecting value: line 1 column 1 (char 0)\n",
      "Failed to fix JSON string: Expecting value: line 1 column 1 (char 0)\n",
      "JSONDecodeError: Expecting value: line 1 column 1 (char 0)\n",
      "Failed to fix JSON string: Expecting value: line 1 column 1 (char 0)\n",
      "JSONDecodeError: Expecting ',' delimiter: line 3 column 377 (char 409)\n",
      "JSONDecodeError: Expecting value: line 1 column 1 (char 0)\n",
      "Failed to fix JSON string: Expecting value: line 1 column 1 (char 0)\n",
      "evaluations-aqa183.csv saved\n"
     ]
    },
    {
     "name": "stderr",
     "output_type": "stream",
     "text": [
      "100%|███████████████████████████████████████████████████████████████████████████████████████████████████████████████████| 15/15 [00:37<00:00,  2.52s/it]\n"
     ]
    },
    {
     "name": "stdout",
     "output_type": "stream",
     "text": [
      "JSONDecodeError: Expecting value: line 1 column 1 (char 0)\n",
      "Failed to fix JSON string: Expecting value: line 1 column 1 (char 0)\n",
      "JSONDecodeError: Expecting ',' delimiter: line 3 column 367 (char 399)\n",
      "JSONDecodeError: Expecting value: line 1 column 1 (char 0)\n",
      "Failed to fix JSON string: Expecting value: line 1 column 1 (char 0)\n",
      "JSONDecodeError: Expecting ',' delimiter: line 3 column 295 (char 323)\n",
      "JSONDecodeError: Expecting value: line 1 column 1 (char 0)\n",
      "Failed to fix JSON string: Expecting value: line 1 column 1 (char 0)\n",
      "JSONDecodeError: Expecting ',' delimiter: line 3 column 456 (char 484)\n",
      "JSONDecodeError: Expecting value: line 1 column 1 (char 0)\n",
      "Failed to fix JSON string: Expecting value: line 1 column 1 (char 0)\n",
      "JSONDecodeError: Expecting ',' delimiter: line 3 column 365 (char 393)\n",
      "JSONDecodeError: Expecting ',' delimiter: line 3 column 308 (char 336)\n",
      "evaluations-aqa184.csv saved\n"
     ]
    },
    {
     "name": "stderr",
     "output_type": "stream",
     "text": [
      "100%|███████████████████████████████████████████████████████████████████████████████████████████████████████████████████| 15/15 [00:40<00:00,  2.68s/it]\n"
     ]
    },
    {
     "name": "stdout",
     "output_type": "stream",
     "text": [
      "JSONDecodeError: Expecting ',' delimiter: line 3 column 296 (char 324)\n",
      "JSONDecodeError: Expecting ',' delimiter: line 3 column 215 (char 243)\n",
      "JSONDecodeError: Expecting value: line 1 column 1 (char 0)\n",
      "Failed to fix JSON string: Expecting value: line 1 column 1 (char 0)\n",
      "JSONDecodeError: Expecting ',' delimiter: line 3 column 487 (char 515)\n",
      "JSONDecodeError: Expecting ',' delimiter: line 3 column 310 (char 338)\n",
      "JSONDecodeError: Expecting ',' delimiter: line 3 column 341 (char 367)\n",
      "JSONDecodeError: Expecting ',' delimiter: line 3 column 411 (char 437)\n",
      "JSONDecodeError: Expecting value: line 1 column 1 (char 0)\n",
      "Failed to fix JSON string: Expecting value: line 1 column 1 (char 0)\n",
      "JSONDecodeError: Expecting value: line 1 column 1 (char 0)\n",
      "Failed to fix JSON string: Expecting value: line 1 column 1 (char 0)\n",
      "evaluations-aqa185.csv saved\n"
     ]
    },
    {
     "name": "stderr",
     "output_type": "stream",
     "text": [
      "100%|███████████████████████████████████████████████████████████████████████████████████████████████████████████████████| 15/15 [00:38<00:00,  2.57s/it]\n"
     ]
    },
    {
     "name": "stdout",
     "output_type": "stream",
     "text": [
      "JSONDecodeError: Expecting ',' delimiter: line 3 column 435 (char 470)\n",
      "JSONDecodeError: Expecting ',' delimiter: line 3 column 426 (char 452)\n",
      "JSONDecodeError: Expecting value: line 1 column 1 (char 0)\n",
      "Failed to fix JSON string: Expecting value: line 1 column 1 (char 0)\n",
      "JSONDecodeError: Expecting value: line 1 column 1 (char 0)\n",
      "Failed to fix JSON string: Expecting value: line 1 column 1 (char 0)\n",
      "JSONDecodeError: Expecting ',' delimiter: line 3 column 375 (char 407)\n",
      "JSONDecodeError: Expecting ',' delimiter: line 3 column 301 (char 334)\n",
      "evaluations-aqa186.csv saved\n"
     ]
    },
    {
     "name": "stderr",
     "output_type": "stream",
     "text": [
      "100%|███████████████████████████████████████████████████████████████████████████████████████████████████████████████████| 15/15 [00:38<00:00,  2.60s/it]\n"
     ]
    },
    {
     "name": "stdout",
     "output_type": "stream",
     "text": [
      "JSONDecodeError: Expecting ',' delimiter: line 3 column 342 (char 377)\n",
      "JSONDecodeError: Expecting value: line 1 column 1 (char 0)\n",
      "Failed to fix JSON string: Expecting value: line 1 column 1 (char 0)\n",
      "JSONDecodeError: Expecting ',' delimiter: line 3 column 580 (char 613)\n",
      "JSONDecodeError: Expecting ',' delimiter: line 3 column 581 (char 609)\n",
      "JSONDecodeError: Expecting ',' delimiter: line 3 column 387 (char 419)\n",
      "JSONDecodeError: Expecting ',' delimiter: line 3 column 437 (char 465)\n",
      "JSONDecodeError: Expecting ',' delimiter: line 3 column 503 (char 531)\n",
      "JSONDecodeError: Expecting ',' delimiter: line 3 column 403 (char 435)\n",
      "JSONDecodeError: Expecting ',' delimiter: line 3 column 430 (char 463)\n",
      "evaluations-aqa187.csv saved\n"
     ]
    },
    {
     "name": "stderr",
     "output_type": "stream",
     "text": [
      "100%|███████████████████████████████████████████████████████████████████████████████████████████████████████████████████| 15/15 [00:39<00:00,  2.61s/it]\n"
     ]
    },
    {
     "name": "stdout",
     "output_type": "stream",
     "text": [
      "JSONDecodeError: Expecting ',' delimiter: line 3 column 273 (char 301)\n",
      "JSONDecodeError: Expecting ',' delimiter: line 3 column 327 (char 355)\n",
      "JSONDecodeError: Expecting ',' delimiter: line 3 column 498 (char 533)\n",
      "JSONDecodeError: Expecting ',' delimiter: line 3 column 496 (char 524)\n",
      "JSONDecodeError: Expecting ',' delimiter: line 3 column 488 (char 514)\n",
      "JSONDecodeError: Expecting ',' delimiter: line 3 column 466 (char 494)\n",
      "JSONDecodeError: Expecting ',' delimiter: line 3 column 624 (char 652)\n",
      "JSONDecodeError: Expecting ',' delimiter: line 3 column 433 (char 461)\n",
      "JSONDecodeError: Expecting ',' delimiter: line 3 column 575 (char 610)\n",
      "evaluations-aqa188.csv saved\n"
     ]
    },
    {
     "name": "stderr",
     "output_type": "stream",
     "text": [
      "100%|███████████████████████████████████████████████████████████████████████████████████████████████████████████████████| 15/15 [00:39<00:00,  2.61s/it]\n"
     ]
    },
    {
     "name": "stdout",
     "output_type": "stream",
     "text": [
      "JSONDecodeError: Expecting ',' delimiter: line 3 column 428 (char 456)\n",
      "JSONDecodeError: Expecting ',' delimiter: line 3 column 328 (char 363)\n",
      "JSONDecodeError: Expecting ',' delimiter: line 3 column 484 (char 512)\n",
      "JSONDecodeError: Expecting ',' delimiter: line 3 column 354 (char 382)\n",
      "JSONDecodeError: Expecting ',' delimiter: line 3 column 370 (char 398)\n",
      "JSONDecodeError: Expecting ',' delimiter: line 3 column 344 (char 376)\n",
      "JSONDecodeError: Invalid \\escape: line 3 column 293 (char 328)\n",
      "Failed to fix JSON string: Invalid \\escape: line 3 column 293 (char 328)\n",
      "JSONDecodeError: Expecting ',' delimiter: line 3 column 451 (char 486)\n",
      "evaluations-aqa189.csv saved\n"
     ]
    },
    {
     "name": "stderr",
     "output_type": "stream",
     "text": [
      "100%|███████████████████████████████████████████████████████████████████████████████████████████████████████████████████| 15/15 [00:40<00:00,  2.67s/it]\n"
     ]
    },
    {
     "name": "stdout",
     "output_type": "stream",
     "text": [
      "JSONDecodeError: Expecting ',' delimiter: line 3 column 368 (char 396)\n",
      "JSONDecodeError: Expecting value: line 1 column 1 (char 0)\n",
      "Failed to fix JSON string: Expecting value: line 1 column 1 (char 0)\n",
      "JSONDecodeError: Expecting ',' delimiter: line 3 column 335 (char 370)\n",
      "Failed to fix JSON string: Expecting ',' delimiter: line 3 column 335 (char 370)\n",
      "JSONDecodeError: Expecting ',' delimiter: line 3 column 443 (char 478)\n",
      "JSONDecodeError: Expecting ',' delimiter: line 3 column 424 (char 459)\n",
      "JSONDecodeError: Expecting ',' delimiter: line 3 column 341 (char 376)\n",
      "JSONDecodeError: Expecting ',' delimiter: line 3 column 297 (char 325)\n",
      "JSONDecodeError: Expecting value: line 1 column 1 (char 0)\n",
      "Failed to fix JSON string: Expecting value: line 1 column 1 (char 0)\n",
      "JSONDecodeError: Expecting value: line 1 column 1 (char 0)\n",
      "Failed to fix JSON string: Expecting value: line 1 column 1 (char 0)\n",
      "evaluations-aqa190.csv saved\n"
     ]
    },
    {
     "name": "stderr",
     "output_type": "stream",
     "text": [
      "100%|███████████████████████████████████████████████████████████████████████████████████████████████████████████████████| 15/15 [00:39<00:00,  2.64s/it]\n"
     ]
    },
    {
     "name": "stdout",
     "output_type": "stream",
     "text": [
      "JSONDecodeError: Expecting value: line 1 column 1 (char 0)\n",
      "Failed to fix JSON string: Expecting value: line 1 column 1 (char 0)\n",
      "JSONDecodeError: Expecting value: line 1 column 1 (char 0)\n",
      "Failed to fix JSON string: Expecting value: line 1 column 1 (char 0)\n",
      "JSONDecodeError: Expecting value: line 1 column 1 (char 0)\n",
      "Failed to fix JSON string: Expecting value: line 1 column 1 (char 0)\n",
      "JSONDecodeError: Expecting ',' delimiter: line 3 column 502 (char 537)\n",
      "JSONDecodeError: Expecting ',' delimiter: line 3 column 385 (char 413)\n",
      "JSONDecodeError: Expecting value: line 1 column 1 (char 0)\n",
      "Failed to fix JSON string: Expecting value: line 1 column 1 (char 0)\n",
      "JSONDecodeError: Expecting ',' delimiter: line 3 column 541 (char 576)\n",
      "JSONDecodeError: Expecting ',' delimiter: line 3 column 524 (char 559)\n",
      "evaluations-aqa191.csv saved\n"
     ]
    },
    {
     "name": "stderr",
     "output_type": "stream",
     "text": [
      "100%|███████████████████████████████████████████████████████████████████████████████████████████████████████████████████| 15/15 [00:39<00:00,  2.64s/it]\n"
     ]
    },
    {
     "name": "stdout",
     "output_type": "stream",
     "text": [
      "JSONDecodeError: Expecting value: line 1 column 1 (char 0)\n",
      "Failed to fix JSON string: Expecting value: line 1 column 1 (char 0)\n",
      "JSONDecodeError: Expecting ',' delimiter: line 3 column 356 (char 388)\n",
      "JSONDecodeError: Extra data: line 6 column 1 (char 346)\n",
      "Failed to fix JSON string: Extra data: line 6 column 1 (char 346)\n",
      "JSONDecodeError: Expecting value: line 1 column 1 (char 0)\n",
      "Failed to fix JSON string: Expecting value: line 1 column 1 (char 0)\n",
      "JSONDecodeError: Expecting ',' delimiter: line 3 column 408 (char 434)\n",
      "JSONDecodeError: Expecting ',' delimiter: line 3 column 331 (char 359)\n",
      "JSONDecodeError: Expecting ',' delimiter: line 3 column 419 (char 454)\n",
      "JSONDecodeError: Expecting value: line 1 column 1 (char 0)\n",
      "Failed to fix JSON string: Expecting value: line 1 column 1 (char 0)\n",
      "JSONDecodeError: Expecting ',' delimiter: line 3 column 551 (char 586)\n",
      "evaluations-aqa192.csv saved\n"
     ]
    },
    {
     "name": "stderr",
     "output_type": "stream",
     "text": [
      "100%|███████████████████████████████████████████████████████████████████████████████████████████████████████████████████| 15/15 [00:39<00:00,  2.61s/it]\n"
     ]
    },
    {
     "name": "stdout",
     "output_type": "stream",
     "text": [
      "JSONDecodeError: Expecting ',' delimiter: line 3 column 477 (char 505)\n",
      "JSONDecodeError: Expecting ',' delimiter: line 3 column 326 (char 354)\n",
      "JSONDecodeError: Expecting ',' delimiter: line 3 column 479 (char 507)\n",
      "JSONDecodeError: Expecting ',' delimiter: line 3 column 459 (char 494)\n",
      "JSONDecodeError: Expecting ',' delimiter: line 3 column 448 (char 483)\n",
      "evaluations-aqa193.csv saved\n"
     ]
    },
    {
     "name": "stderr",
     "output_type": "stream",
     "text": [
      "100%|███████████████████████████████████████████████████████████████████████████████████████████████████████████████████| 15/15 [00:40<00:00,  2.71s/it]\n"
     ]
    },
    {
     "name": "stdout",
     "output_type": "stream",
     "text": [
      "JSONDecodeError: Expecting ',' delimiter: line 3 column 331 (char 361)\n",
      "JSONDecodeError: Expecting ',' delimiter: line 3 column 336 (char 371)\n",
      "JSONDecodeError: Expecting ',' delimiter: line 3 column 331 (char 359)\n",
      "JSONDecodeError: Expecting ',' delimiter: line 3 column 545 (char 580)\n",
      "JSONDecodeError: Expecting value: line 1 column 1 (char 0)\n",
      "Failed to fix JSON string: Expecting value: line 1 column 1 (char 0)\n",
      "JSONDecodeError: Expecting ',' delimiter: line 3 column 509 (char 537)\n",
      "JSONDecodeError: Expecting ',' delimiter: line 3 column 484 (char 512)\n",
      "evaluations-aqa194.csv saved\n"
     ]
    },
    {
     "name": "stderr",
     "output_type": "stream",
     "text": [
      "100%|███████████████████████████████████████████████████████████████████████████████████████████████████████████████████| 15/15 [00:39<00:00,  2.63s/it]\n"
     ]
    },
    {
     "name": "stdout",
     "output_type": "stream",
     "text": [
      "JSONDecodeError: Expecting ',' delimiter: line 3 column 459 (char 494)\n",
      "JSONDecodeError: Expecting ',' delimiter: line 3 column 389 (char 422)\n",
      "JSONDecodeError: Expecting ',' delimiter: line 3 column 700 (char 728)\n",
      "JSONDecodeError: Expecting value: line 1 column 1 (char 0)\n",
      "Failed to fix JSON string: Expecting value: line 1 column 1 (char 0)\n",
      "JSONDecodeError: Expecting ',' delimiter: line 3 column 385 (char 415)\n",
      "JSONDecodeError: Expecting value: line 1 column 1 (char 0)\n",
      "Failed to fix JSON string: Expecting value: line 1 column 1 (char 0)\n",
      "JSONDecodeError: Expecting ',' delimiter: line 3 column 367 (char 402)\n",
      "JSONDecodeError: Expecting value: line 1 column 1 (char 0)\n",
      "Failed to fix JSON string: Expecting value: line 1 column 1 (char 0)\n",
      "evaluations-aqa195.csv saved\n"
     ]
    },
    {
     "name": "stderr",
     "output_type": "stream",
     "text": [
      "100%|███████████████████████████████████████████████████████████████████████████████████████████████████████████████████| 15/15 [00:40<00:00,  2.68s/it]\n"
     ]
    },
    {
     "name": "stdout",
     "output_type": "stream",
     "text": [
      "JSONDecodeError: Expecting value: line 1 column 1 (char 0)\n",
      "Failed to fix JSON string: Expecting value: line 1 column 1 (char 0)\n",
      "JSONDecodeError: Expecting value: line 1 column 1 (char 0)\n",
      "Failed to fix JSON string: Expecting value: line 1 column 1 (char 0)\n",
      "JSONDecodeError: Expecting ',' delimiter: line 3 column 608 (char 643)\n",
      "JSONDecodeError: Expecting ',' delimiter: line 3 column 226 (char 258)\n",
      "JSONDecodeError: Expecting ',' delimiter: line 3 column 379 (char 407)\n",
      "JSONDecodeError: Expecting ',' delimiter: line 3 column 403 (char 438)\n",
      "JSONDecodeError: Expecting ',' delimiter: line 3 column 367 (char 393)\n",
      "JSONDecodeError: Expecting ',' delimiter: line 3 column 358 (char 386)\n",
      "evaluations-aqa196.csv saved\n"
     ]
    },
    {
     "name": "stderr",
     "output_type": "stream",
     "text": [
      "100%|███████████████████████████████████████████████████████████████████████████████████████████████████████████████████| 15/15 [00:39<00:00,  2.63s/it]\n"
     ]
    },
    {
     "name": "stdout",
     "output_type": "stream",
     "text": [
      "JSONDecodeError: Expecting ',' delimiter: line 3 column 286 (char 321)\n",
      "JSONDecodeError: Expecting ',' delimiter: line 3 column 334 (char 360)\n",
      "JSONDecodeError: Expecting ',' delimiter: line 3 column 427 (char 455)\n",
      "JSONDecodeError: Expecting ',' delimiter: line 3 column 543 (char 571)\n",
      "JSONDecodeError: Expecting value: line 1 column 1 (char 0)\n",
      "Failed to fix JSON string: Expecting value: line 1 column 1 (char 0)\n",
      "JSONDecodeError: Expecting ',' delimiter: line 3 column 445 (char 473)\n",
      "JSONDecodeError: Expecting ',' delimiter: line 3 column 374 (char 407)\n",
      "JSONDecodeError: Expecting ',' delimiter: line 3 column 244 (char 270)\n",
      "evaluations-aqa197.csv saved\n"
     ]
    },
    {
     "name": "stderr",
     "output_type": "stream",
     "text": [
      "100%|███████████████████████████████████████████████████████████████████████████████████████████████████████████████████| 15/15 [00:39<00:00,  2.62s/it]\n"
     ]
    },
    {
     "name": "stdout",
     "output_type": "stream",
     "text": [
      "JSONDecodeError: Expecting ',' delimiter: line 3 column 386 (char 421)\n",
      "JSONDecodeError: Expecting ',' delimiter: line 3 column 490 (char 525)\n",
      "JSONDecodeError: Expecting ',' delimiter: line 3 column 250 (char 276)\n",
      "JSONDecodeError: Expecting ',' delimiter: line 3 column 295 (char 323)\n",
      "JSONDecodeError: Expecting ',' delimiter: line 3 column 348 (char 376)\n",
      "JSONDecodeError: Expecting ',' delimiter: line 3 column 450 (char 485)\n",
      "JSONDecodeError: Expecting value: line 1 column 1 (char 0)\n",
      "Failed to fix JSON string: Expecting value: line 1 column 1 (char 0)\n",
      "JSONDecodeError: Expecting value: line 1 column 1 (char 0)\n",
      "Failed to fix JSON string: Expecting value: line 1 column 1 (char 0)\n",
      "JSONDecodeError: Expecting ',' delimiter: line 3 column 429 (char 455)\n",
      "evaluations-aqa198.csv saved\n"
     ]
    },
    {
     "name": "stderr",
     "output_type": "stream",
     "text": [
      "100%|███████████████████████████████████████████████████████████████████████████████████████████████████████████████████| 15/15 [00:39<00:00,  2.62s/it]\n"
     ]
    },
    {
     "name": "stdout",
     "output_type": "stream",
     "text": [
      "JSONDecodeError: Expecting ',' delimiter: line 3 column 172 (char 200)\n",
      "JSONDecodeError: Expecting value: line 1 column 1 (char 0)\n",
      "Failed to fix JSON string: Expecting value: line 1 column 1 (char 0)\n",
      "JSONDecodeError: Expecting ',' delimiter: line 3 column 584 (char 619)\n",
      "JSONDecodeError: Expecting value: line 1 column 1 (char 0)\n",
      "Failed to fix JSON string: Expecting value: line 1 column 1 (char 0)\n",
      "JSONDecodeError: Expecting ',' delimiter: line 3 column 368 (char 396)\n",
      "JSONDecodeError: Expecting value: line 1 column 1 (char 0)\n",
      "Failed to fix JSON string: Expecting value: line 1 column 1 (char 0)\n",
      "JSONDecodeError: Expecting value: line 1 column 1 (char 0)\n",
      "Failed to fix JSON string: Expecting value: line 1 column 1 (char 0)\n",
      "JSONDecodeError: Expecting value: line 1 column 1 (char 0)\n",
      "Failed to fix JSON string: Expecting value: line 1 column 1 (char 0)\n",
      "JSONDecodeError: Expecting ',' delimiter: line 3 column 455 (char 487)\n",
      "evaluations-aqa199.csv saved\n"
     ]
    },
    {
     "name": "stderr",
     "output_type": "stream",
     "text": [
      "100%|███████████████████████████████████████████████████████████████████████████████████████████████████████████████████| 15/15 [00:40<00:00,  2.69s/it]\n"
     ]
    },
    {
     "name": "stdout",
     "output_type": "stream",
     "text": [
      "JSONDecodeError: Expecting ',' delimiter: line 3 column 424 (char 452)\n",
      "JSONDecodeError: Expecting value: line 1 column 1 (char 0)\n",
      "Failed to fix JSON string: Expecting value: line 1 column 1 (char 0)\n",
      "JSONDecodeError: Expecting value: line 1 column 1 (char 0)\n",
      "Failed to fix JSON string: Expecting value: line 1 column 1 (char 0)\n",
      "JSONDecodeError: Expecting ',' delimiter: line 3 column 640 (char 675)\n",
      "JSONDecodeError: Expecting value: line 1 column 1 (char 0)\n",
      "Failed to fix JSON string: Expecting value: line 1 column 1 (char 0)\n",
      "JSONDecodeError: Expecting ',' delimiter: line 3 column 395 (char 423)\n",
      "JSONDecodeError: Expecting ',' delimiter: line 3 column 450 (char 478)\n",
      "evaluations-aqa200.csv saved\n"
     ]
    },
    {
     "name": "stderr",
     "output_type": "stream",
     "text": [
      "100%|███████████████████████████████████████████████████████████████████████████████████████████████████████████████████| 15/15 [00:39<00:00,  2.64s/it]\n"
     ]
    },
    {
     "name": "stdout",
     "output_type": "stream",
     "text": [
      "JSONDecodeError: Expecting ',' delimiter: line 3 column 226 (char 254)\n",
      "JSONDecodeError: Expecting value: line 1 column 1 (char 0)\n",
      "Failed to fix JSON string: Expecting value: line 1 column 1 (char 0)\n",
      "JSONDecodeError: Expecting value: line 1 column 1 (char 0)\n",
      "Failed to fix JSON string: Expecting value: line 1 column 1 (char 0)\n",
      "JSONDecodeError: Expecting ',' delimiter: line 3 column 427 (char 455)\n",
      "JSONDecodeError: Expecting ',' delimiter: line 3 column 444 (char 479)\n",
      "JSONDecodeError: Expecting ',' delimiter: line 3 column 421 (char 449)\n",
      "JSONDecodeError: Expecting value: line 1 column 1 (char 0)\n",
      "Failed to fix JSON string: Expecting value: line 1 column 1 (char 0)\n",
      "evaluations-aqa201.csv saved\n"
     ]
    },
    {
     "name": "stderr",
     "output_type": "stream",
     "text": [
      "100%|██████████████████████████████████████████████████████████████████████████████████████████████████████████████████████████████████████████████████████████████| 15/15 [00:39<00:00,  2.64s/it]\n"
     ]
    },
    {
     "name": "stdout",
     "output_type": "stream",
     "text": [
      "JSONDecodeError: Expecting ',' delimiter: line 3 column 348 (char 376)\n",
      "JSONDecodeError: Expecting ',' delimiter: line 3 column 306 (char 334)\n",
      "JSONDecodeError: Expecting ',' delimiter: line 3 column 275 (char 303)\n",
      "JSONDecodeError: Expecting ',' delimiter: line 3 column 477 (char 512)\n",
      "JSONDecodeError: Expecting ',' delimiter: line 3 column 354 (char 382)\n",
      "JSONDecodeError: Expecting ',' delimiter: line 3 column 447 (char 480)\n",
      "JSONDecodeError: Expecting ',' delimiter: line 3 column 415 (char 448)\n",
      "evaluations-aqa202.csv saved\n"
     ]
    },
    {
     "name": "stderr",
     "output_type": "stream",
     "text": [
      "100%|██████████████████████████████████████████████████████████████████████████████████████████████████████████████████████████████████████████████████████████████| 15/15 [00:39<00:00,  2.61s/it]\n"
     ]
    },
    {
     "name": "stdout",
     "output_type": "stream",
     "text": [
      "JSONDecodeError: Expecting ',' delimiter: line 3 column 501 (char 529)\n",
      "JSONDecodeError: Expecting ',' delimiter: line 3 column 223 (char 251)\n",
      "JSONDecodeError: Expecting value: line 1 column 1 (char 0)\n",
      "Failed to fix JSON string: Expecting value: line 1 column 1 (char 0)\n",
      "JSONDecodeError: Expecting ',' delimiter: line 3 column 326 (char 354)\n",
      "JSONDecodeError: Expecting ',' delimiter: line 3 column 336 (char 362)\n",
      "JSONDecodeError: Expecting ',' delimiter: line 3 column 371 (char 399)\n",
      "JSONDecodeError: Expecting ',' delimiter: line 3 column 332 (char 358)\n",
      "evaluations-aqa203.csv saved\n"
     ]
    },
    {
     "name": "stderr",
     "output_type": "stream",
     "text": [
      "100%|███████████████████████████████████████████████████████████████████████████████████████████████████████████████████| 15/15 [00:39<00:00,  2.63s/it]\n"
     ]
    },
    {
     "name": "stdout",
     "output_type": "stream",
     "text": [
      "JSONDecodeError: Expecting ',' delimiter: line 3 column 385 (char 413)\n",
      "JSONDecodeError: Expecting ',' delimiter: line 3 column 374 (char 402)\n",
      "JSONDecodeError: Expecting ',' delimiter: line 3 column 441 (char 476)\n",
      "JSONDecodeError: Expecting value: line 1 column 1 (char 0)\n",
      "Failed to fix JSON string: Expecting value: line 1 column 1 (char 0)\n",
      "JSONDecodeError: Expecting ',' delimiter: line 3 column 455 (char 483)\n",
      "JSONDecodeError: Expecting value: line 1 column 1 (char 0)\n",
      "Failed to fix JSON string: Expecting value: line 1 column 1 (char 0)\n",
      "JSONDecodeError: Expecting value: line 1 column 1 (char 0)\n",
      "Failed to fix JSON string: Expecting value: line 1 column 1 (char 0)\n",
      "JSONDecodeError: Expecting ',' delimiter: line 3 column 287 (char 315)\n",
      "evaluations-aqa204.csv saved\n"
     ]
    },
    {
     "name": "stderr",
     "output_type": "stream",
     "text": [
      "100%|███████████████████████████████████████████████████████████████████████████████████████████████████████████████████| 15/15 [00:40<00:00,  2.69s/it]\n"
     ]
    },
    {
     "name": "stdout",
     "output_type": "stream",
     "text": [
      "JSONDecodeError: Expecting ',' delimiter: line 3 column 615 (char 650)\n",
      "JSONDecodeError: Expecting value: line 1 column 1 (char 0)\n",
      "Failed to fix JSON string: Expecting value: line 1 column 1 (char 0)\n",
      "JSONDecodeError: Expecting ',' delimiter: line 3 column 370 (char 398)\n",
      "JSONDecodeError: Expecting ',' delimiter: line 3 column 365 (char 400)\n",
      "JSONDecodeError: Expecting ',' delimiter: line 3 column 275 (char 303)\n",
      "JSONDecodeError: Expecting ',' delimiter: line 3 column 298 (char 326)\n",
      "evaluations-aqa205.csv saved\n"
     ]
    },
    {
     "name": "stderr",
     "output_type": "stream",
     "text": [
      "100%|███████████████████████████████████████████████████████████████████████████████████████████████████████████████████| 15/15 [00:39<00:00,  2.66s/it]\n"
     ]
    },
    {
     "name": "stdout",
     "output_type": "stream",
     "text": [
      "JSONDecodeError: Expecting ',' delimiter: line 3 column 459 (char 487)\n",
      "JSONDecodeError: Expecting ',' delimiter: line 3 column 595 (char 623)\n",
      "JSONDecodeError: Expecting value: line 1 column 1 (char 0)\n",
      "Failed to fix JSON string: Expecting value: line 1 column 1 (char 0)\n",
      "JSONDecodeError: Expecting ',' delimiter: line 3 column 525 (char 551)\n",
      "JSONDecodeError: Expecting value: line 1 column 1 (char 0)\n",
      "Failed to fix JSON string: Expecting value: line 1 column 1 (char 0)\n",
      "JSONDecodeError: Expecting value: line 1 column 1 (char 0)\n",
      "Failed to fix JSON string: Expecting value: line 1 column 1 (char 0)\n",
      "JSONDecodeError: Expecting ',' delimiter: line 3 column 605 (char 633)\n",
      "JSONDecodeError: Expecting value: line 1 column 1 (char 0)\n",
      "Failed to fix JSON string: Expecting value: line 1 column 1 (char 0)\n",
      "JSONDecodeError: Expecting value: line 1 column 1 (char 0)\n",
      "Failed to fix JSON string: Expecting value: line 1 column 1 (char 0)\n",
      "JSONDecodeError: Expecting ',' delimiter: line 3 column 408 (char 443)\n",
      "JSONDecodeError: Expecting value: line 1 column 1 (char 0)\n",
      "Failed to fix JSON string: Expecting value: line 1 column 1 (char 0)\n",
      "JSONDecodeError: Expecting value: line 1 column 1 (char 0)\n",
      "Failed to fix JSON string: Expecting value: line 1 column 1 (char 0)\n",
      "evaluations-aqa206.csv saved\n"
     ]
    },
    {
     "name": "stderr",
     "output_type": "stream",
     "text": [
      "100%|███████████████████████████████████████████████████████████████████████████████████████████████████████████████████| 15/15 [00:39<00:00,  2.63s/it]\n"
     ]
    },
    {
     "name": "stdout",
     "output_type": "stream",
     "text": [
      "JSONDecodeError: Expecting value: line 1 column 1 (char 0)\n",
      "Failed to fix JSON string: Expecting value: line 1 column 1 (char 0)\n",
      "JSONDecodeError: Expecting ',' delimiter: line 3 column 380 (char 406)\n",
      "JSONDecodeError: Expecting ',' delimiter: line 3 column 559 (char 587)\n",
      "JSONDecodeError: Expecting ',' delimiter: line 3 column 386 (char 421)\n",
      "evaluations-aqa207.csv saved\n"
     ]
    },
    {
     "name": "stderr",
     "output_type": "stream",
     "text": [
      "100%|███████████████████████████████████████████████████████████████████████████████████████████████████████████████████| 15/15 [00:39<00:00,  2.61s/it]\n"
     ]
    },
    {
     "name": "stdout",
     "output_type": "stream",
     "text": [
      "JSONDecodeError: Expecting value: line 1 column 1 (char 0)\n",
      "Failed to fix JSON string: Expecting value: line 1 column 1 (char 0)\n",
      "JSONDecodeError: Expecting ',' delimiter: line 3 column 389 (char 415)\n",
      "JSONDecodeError: Expecting ',' delimiter: line 3 column 399 (char 429)\n",
      "JSONDecodeError: Expecting ',' delimiter: line 3 column 255 (char 283)\n",
      "JSONDecodeError: Expecting ',' delimiter: line 3 column 235 (char 263)\n",
      "JSONDecodeError: Expecting value: line 1 column 1 (char 0)\n",
      "Failed to fix JSON string: Expecting value: line 1 column 1 (char 0)\n",
      "JSONDecodeError: Expecting ',' delimiter: line 3 column 333 (char 368)\n",
      "JSONDecodeError: Expecting value: line 1 column 1 (char 0)\n",
      "Failed to fix JSON string: Expecting value: line 1 column 1 (char 0)\n",
      "JSONDecodeError: Expecting value: line 1 column 1 (char 0)\n",
      "Failed to fix JSON string: Expecting value: line 1 column 1 (char 0)\n",
      "evaluations-aqa208.csv saved\n"
     ]
    },
    {
     "name": "stderr",
     "output_type": "stream",
     "text": [
      "100%|███████████████████████████████████████████████████████████████████████████████████████████████████████████████████| 15/15 [00:40<00:00,  2.71s/it]\n"
     ]
    },
    {
     "name": "stdout",
     "output_type": "stream",
     "text": [
      "JSONDecodeError: Expecting ',' delimiter: line 3 column 432 (char 467)\n",
      "JSONDecodeError: Unterminated string starting at: line 3 column 18 (char 46)\n",
      "Failed to fix JSON string: Unterminated string starting at: line 3 column 18 (char 46)\n",
      "JSONDecodeError: Expecting ',' delimiter: line 3 column 518 (char 551)\n",
      "JSONDecodeError: Expecting ',' delimiter: line 3 column 373 (char 401)\n",
      "JSONDecodeError: Expecting value: line 1 column 1 (char 0)\n",
      "Failed to fix JSON string: Expecting value: line 1 column 1 (char 0)\n",
      "JSONDecodeError: Expecting value: line 1 column 1 (char 0)\n",
      "Failed to fix JSON string: Expecting value: line 1 column 1 (char 0)\n",
      "JSONDecodeError: Expecting ',' delimiter: line 3 column 683 (char 711)\n",
      "JSONDecodeError: Expecting value: line 1 column 1 (char 0)\n",
      "Failed to fix JSON string: Expecting value: line 1 column 1 (char 0)\n",
      "JSONDecodeError: Expecting value: line 1 column 1 (char 0)\n",
      "Failed to fix JSON string: Expecting value: line 1 column 1 (char 0)\n",
      "evaluations-aqa209.csv saved\n"
     ]
    },
    {
     "name": "stderr",
     "output_type": "stream",
     "text": [
      "100%|███████████████████████████████████████████████████████████████████████████████████████████████████████████████████| 15/15 [00:39<00:00,  2.66s/it]\n"
     ]
    },
    {
     "name": "stdout",
     "output_type": "stream",
     "text": [
      "JSONDecodeError: Expecting value: line 1 column 1 (char 0)\n",
      "Failed to fix JSON string: Expecting value: line 1 column 1 (char 0)\n",
      "JSONDecodeError: Expecting ',' delimiter: line 3 column 357 (char 385)\n",
      "JSONDecodeError: Expecting ',' delimiter: line 3 column 475 (char 510)\n",
      "JSONDecodeError: Expecting ',' delimiter: line 3 column 380 (char 408)\n",
      "JSONDecodeError: Expecting value: line 1 column 1 (char 0)\n",
      "Failed to fix JSON string: Expecting value: line 1 column 1 (char 0)\n",
      "JSONDecodeError: Expecting ',' delimiter: line 3 column 233 (char 261)\n",
      "JSONDecodeError: Expecting ',' delimiter: line 3 column 327 (char 355)\n",
      "evaluations-aqa210.csv saved\n"
     ]
    },
    {
     "name": "stderr",
     "output_type": "stream",
     "text": [
      "100%|███████████████████████████████████████████████████████████████████████████████████████████████████████████████████| 15/15 [00:39<00:00,  2.61s/it]\n"
     ]
    },
    {
     "name": "stdout",
     "output_type": "stream",
     "text": [
      "JSONDecodeError: Expecting ',' delimiter: line 3 column 212 (char 240)\n",
      "JSONDecodeError: Expecting value: line 1 column 1 (char 0)\n",
      "Failed to fix JSON string: Expecting value: line 1 column 1 (char 0)\n",
      "JSONDecodeError: Expecting value: line 1 column 1 (char 0)\n",
      "Failed to fix JSON string: Expecting value: line 1 column 1 (char 0)\n",
      "JSONDecodeError: Expecting value: line 1 column 1 (char 0)\n",
      "Failed to fix JSON string: Expecting value: line 1 column 1 (char 0)\n",
      "JSONDecodeError: Expecting value: line 1 column 1 (char 0)\n",
      "Failed to fix JSON string: Expecting value: line 1 column 1 (char 0)\n",
      "JSONDecodeError: Expecting value: line 1 column 1 (char 0)\n",
      "Failed to fix JSON string: Expecting value: line 1 column 1 (char 0)\n",
      "JSONDecodeError: Expecting ',' delimiter: line 3 column 522 (char 554)\n",
      "JSONDecodeError: Expecting ',' delimiter: line 3 column 374 (char 402)\n",
      "JSONDecodeError: Expecting ',' delimiter: line 3 column 430 (char 462)\n",
      "JSONDecodeError: Expecting value: line 1 column 1 (char 0)\n",
      "Failed to fix JSON string: Expecting value: line 1 column 1 (char 0)\n",
      "evaluations-aqa211.csv saved\n"
     ]
    },
    {
     "name": "stderr",
     "output_type": "stream",
     "text": [
      "100%|███████████████████████████████████████████████████████████████████████████████████████████████████████████████████| 15/15 [00:39<00:00,  2.65s/it]\n"
     ]
    },
    {
     "name": "stdout",
     "output_type": "stream",
     "text": [
      "JSONDecodeError: Expecting value: line 1 column 1 (char 0)\n",
      "Failed to fix JSON string: Expecting value: line 1 column 1 (char 0)\n",
      "JSONDecodeError: Expecting ',' delimiter: line 3 column 321 (char 349)\n",
      "JSONDecodeError: Expecting ',' delimiter: line 3 column 516 (char 544)\n",
      "JSONDecodeError: Expecting value: line 1 column 1 (char 0)\n",
      "Failed to fix JSON string: Expecting value: line 1 column 1 (char 0)\n",
      "JSONDecodeError: Expecting ',' delimiter: line 3 column 299 (char 327)\n",
      "evaluations-aqa212.csv saved\n"
     ]
    },
    {
     "name": "stderr",
     "output_type": "stream",
     "text": [
      "100%|███████████████████████████████████████████████████████████████████████████████████████████████████████████████████| 15/15 [00:40<00:00,  2.72s/it]\n"
     ]
    },
    {
     "name": "stdout",
     "output_type": "stream",
     "text": [
      "JSONDecodeError: Expecting ',' delimiter: line 3 column 468 (char 501)\n",
      "JSONDecodeError: Expecting ',' delimiter: line 3 column 265 (char 291)\n",
      "JSONDecodeError: Expecting ',' delimiter: line 3 column 197 (char 223)\n",
      "JSONDecodeError: Expecting ',' delimiter: line 3 column 466 (char 501)\n",
      "JSONDecodeError: Expecting value: line 1 column 1 (char 0)\n",
      "Failed to fix JSON string: Expecting value: line 1 column 1 (char 0)\n",
      "JSONDecodeError: Expecting ',' delimiter: line 3 column 279 (char 307)\n",
      "JSONDecodeError: Expecting ',' delimiter: line 3 column 359 (char 394)\n",
      "JSONDecodeError: Expecting value: line 1 column 1 (char 0)\n",
      "Failed to fix JSON string: Expecting value: line 1 column 1 (char 0)\n",
      "JSONDecodeError: Expecting ',' delimiter: line 3 column 376 (char 404)\n",
      "JSONDecodeError: Expecting ',' delimiter: line 3 column 366 (char 401)\n",
      "JSONDecodeError: Expecting value: line 1 column 1 (char 0)\n",
      "Failed to fix JSON string: Expecting value: line 1 column 1 (char 0)\n",
      "evaluations-aqa213.csv saved\n"
     ]
    },
    {
     "name": "stderr",
     "output_type": "stream",
     "text": [
      "100%|███████████████████████████████████████████████████████████████████████████████████████████████████████████████████| 15/15 [00:39<00:00,  2.61s/it]\n"
     ]
    },
    {
     "name": "stdout",
     "output_type": "stream",
     "text": [
      "JSONDecodeError: Expecting ',' delimiter: line 3 column 414 (char 449)\n",
      "JSONDecodeError: Expecting ',' delimiter: line 3 column 490 (char 518)\n",
      "JSONDecodeError: Expecting value: line 1 column 1 (char 0)\n",
      "Failed to fix JSON string: Expecting value: line 1 column 1 (char 0)\n",
      "JSONDecodeError: Expecting ',' delimiter: line 3 column 287 (char 322)\n",
      "JSONDecodeError: Expecting value: line 1 column 1 (char 0)\n",
      "Failed to fix JSON string: Expecting value: line 1 column 1 (char 0)\n",
      "JSONDecodeError: Expecting ',' delimiter: line 3 column 421 (char 449)\n",
      "JSONDecodeError: Expecting value: line 1 column 1 (char 0)\n",
      "Failed to fix JSON string: Expecting value: line 1 column 1 (char 0)\n",
      "JSONDecodeError: Expecting value: line 1 column 1 (char 0)\n",
      "Failed to fix JSON string: Expecting value: line 1 column 1 (char 0)\n",
      "JSONDecodeError: Expecting ',' delimiter: line 3 column 614 (char 647)\n",
      "JSONDecodeError: Expecting ',' delimiter: line 3 column 576 (char 611)\n",
      "JSONDecodeError: Expecting ',' delimiter: line 3 column 453 (char 481)\n",
      "JSONDecodeError: Expecting value: line 1 column 1 (char 0)\n",
      "Failed to fix JSON string: Expecting value: line 1 column 1 (char 0)\n",
      "evaluations-aqa214.csv saved\n"
     ]
    },
    {
     "name": "stderr",
     "output_type": "stream",
     "text": [
      "100%|███████████████████████████████████████████████████████████████████████████████████████████████████████████████████| 15/15 [00:40<00:00,  2.71s/it]\n"
     ]
    },
    {
     "name": "stdout",
     "output_type": "stream",
     "text": [
      "JSONDecodeError: Expecting ',' delimiter: line 3 column 379 (char 414)\n",
      "JSONDecodeError: Expecting ',' delimiter: line 3 column 227 (char 255)\n",
      "JSONDecodeError: Expecting value: line 1 column 1 (char 0)\n",
      "Failed to fix JSON string: Expecting value: line 1 column 1 (char 0)\n",
      "JSONDecodeError: Expecting value: line 1 column 1 (char 0)\n",
      "Failed to fix JSON string: Expecting value: line 1 column 1 (char 0)\n",
      "JSONDecodeError: Extra data: line 6 column 1 (char 542)\n",
      "Failed to fix JSON string: Extra data: line 6 column 1 (char 542)\n",
      "JSONDecodeError: Expecting ',' delimiter: line 3 column 445 (char 477)\n",
      "JSONDecodeError: Expecting value: line 1 column 1 (char 0)\n",
      "Failed to fix JSON string: Expecting value: line 1 column 1 (char 0)\n",
      "JSONDecodeError: Expecting value: line 1 column 1 (char 0)\n",
      "Failed to fix JSON string: Expecting value: line 1 column 1 (char 0)\n",
      "JSONDecodeError: Expecting value: line 1 column 1 (char 0)\n",
      "Failed to fix JSON string: Expecting value: line 1 column 1 (char 0)\n",
      "evaluations-aqa215.csv saved\n"
     ]
    },
    {
     "name": "stderr",
     "output_type": "stream",
     "text": [
      "100%|███████████████████████████████████████████████████████████████████████████████████████████████████████████████████| 15/15 [00:38<00:00,  2.58s/it]\n"
     ]
    },
    {
     "name": "stdout",
     "output_type": "stream",
     "text": [
      "JSONDecodeError: Expecting ',' delimiter: line 3 column 444 (char 476)\n",
      "JSONDecodeError: Expecting ',' delimiter: line 3 column 355 (char 383)\n",
      "JSONDecodeError: Expecting value: line 1 column 1 (char 0)\n",
      "Failed to fix JSON string: Expecting value: line 1 column 1 (char 0)\n",
      "JSONDecodeError: Expecting ',' delimiter: line 3 column 249 (char 277)\n",
      "JSONDecodeError: Expecting ',' delimiter: line 3 column 260 (char 288)\n",
      "JSONDecodeError: Expecting ',' delimiter: line 3 column 354 (char 382)\n",
      "JSONDecodeError: Expecting ',' delimiter: line 3 column 409 (char 437)\n",
      "evaluations-aqa216.csv saved\n"
     ]
    },
    {
     "name": "stderr",
     "output_type": "stream",
     "text": [
      "100%|███████████████████████████████████████████████████████████████████████████████████████████████████████████████████| 15/15 [00:41<00:00,  2.73s/it]\n"
     ]
    },
    {
     "name": "stdout",
     "output_type": "stream",
     "text": [
      "JSONDecodeError: Expecting value: line 1 column 1 (char 0)\n",
      "Failed to fix JSON string: Expecting value: line 1 column 1 (char 0)\n",
      "JSONDecodeError: Expecting ',' delimiter: line 3 column 408 (char 438)\n",
      "JSONDecodeError: Expecting value: line 3 column 18 (char 53)\n",
      "Failed to fix JSON string: Expecting value: line 3 column 18 (char 53)\n",
      "JSONDecodeError: Expecting value: line 1 column 1 (char 0)\n",
      "Failed to fix JSON string: Expecting value: line 1 column 1 (char 0)\n",
      "JSONDecodeError: Expecting ',' delimiter: line 3 column 504 (char 532)\n",
      "JSONDecodeError: Expecting ',' delimiter: line 3 column 614 (char 640)\n",
      "JSONDecodeError: Expecting value: line 1 column 1 (char 0)\n",
      "Failed to fix JSON string: Expecting value: line 1 column 1 (char 0)\n",
      "evaluations-aqa217.csv saved\n"
     ]
    },
    {
     "name": "stderr",
     "output_type": "stream",
     "text": [
      "100%|███████████████████████████████████████████████████████████████████████████████████████████████████████████████████| 15/15 [00:37<00:00,  2.52s/it]\n"
     ]
    },
    {
     "name": "stdout",
     "output_type": "stream",
     "text": [
      "JSONDecodeError: Expecting ',' delimiter: line 3 column 296 (char 324)\n",
      "JSONDecodeError: Expecting ',' delimiter: line 3 column 471 (char 497)\n",
      "JSONDecodeError: Expecting ',' delimiter: line 3 column 412 (char 447)\n",
      "JSONDecodeError: Expecting ',' delimiter: line 3 column 345 (char 377)\n",
      "JSONDecodeError: Expecting ',' delimiter: line 3 column 378 (char 410)\n",
      "JSONDecodeError: Expecting value: line 1 column 1 (char 0)\n",
      "Failed to fix JSON string: Expecting value: line 1 column 1 (char 0)\n",
      "JSONDecodeError: Expecting value: line 1 column 1 (char 0)\n",
      "Failed to fix JSON string: Expecting value: line 1 column 1 (char 0)\n",
      "evaluations-aqa218.csv saved\n"
     ]
    },
    {
     "name": "stderr",
     "output_type": "stream",
     "text": [
      "100%|███████████████████████████████████████████████████████████████████████████████████████████████████████████████████| 15/15 [00:38<00:00,  2.60s/it]\n"
     ]
    },
    {
     "name": "stdout",
     "output_type": "stream",
     "text": [
      "JSONDecodeError: Expecting value: line 1 column 1 (char 0)\n",
      "Failed to fix JSON string: Expecting value: line 1 column 1 (char 0)\n",
      "JSONDecodeError: Expecting ',' delimiter: line 3 column 338 (char 366)\n",
      "JSONDecodeError: Expecting ',' delimiter: line 3 column 376 (char 404)\n",
      "JSONDecodeError: Expecting value: line 1 column 1 (char 0)\n",
      "Failed to fix JSON string: Expecting value: line 1 column 1 (char 0)\n",
      "JSONDecodeError: Expecting ',' delimiter: line 3 column 476 (char 511)\n",
      "JSONDecodeError: Expecting ',' delimiter: line 3 column 379 (char 414)\n",
      "JSONDecodeError: Expecting value: line 1 column 1 (char 0)\n",
      "Failed to fix JSON string: Expecting value: line 1 column 1 (char 0)\n",
      "JSONDecodeError: Expecting ',' delimiter: line 3 column 565 (char 593)\n",
      "JSONDecodeError: Expecting ',' delimiter: line 3 column 369 (char 397)\n",
      "JSONDecodeError: Unterminated string starting at: line 3 column 18 (char 46)\n",
      "Failed to fix JSON string: Unterminated string starting at: line 3 column 18 (char 46)\n",
      "evaluations-aqa219.csv saved\n"
     ]
    },
    {
     "name": "stderr",
     "output_type": "stream",
     "text": [
      "100%|███████████████████████████████████████████████████████████████████████████████████████████████████████████████████| 15/15 [00:40<00:00,  2.68s/it]\n"
     ]
    },
    {
     "name": "stdout",
     "output_type": "stream",
     "text": [
      "JSONDecodeError: Expecting ',' delimiter: line 3 column 453 (char 481)\n",
      "JSONDecodeError: Expecting ',' delimiter: line 3 column 333 (char 361)\n",
      "JSONDecodeError: Expecting value: line 1 column 1 (char 0)\n",
      "Failed to fix JSON string: Expecting value: line 1 column 1 (char 0)\n",
      "JSONDecodeError: Expecting ',' delimiter: line 3 column 320 (char 348)\n",
      "JSONDecodeError: Expecting ',' delimiter: line 3 column 392 (char 420)\n",
      "JSONDecodeError: Expecting ',' delimiter: line 3 column 433 (char 461)\n",
      "JSONDecodeError: Expecting ',' delimiter: line 3 column 585 (char 620)\n",
      "JSONDecodeError: Expecting value: line 1 column 1 (char 0)\n",
      "Failed to fix JSON string: Expecting value: line 1 column 1 (char 0)\n",
      "JSONDecodeError: Expecting ',' delimiter: line 3 column 518 (char 553)\n",
      "JSONDecodeError: Expecting ',' delimiter: line 3 column 601 (char 627)\n",
      "evaluations-aqa220.csv saved\n"
     ]
    },
    {
     "name": "stderr",
     "output_type": "stream",
     "text": [
      "100%|███████████████████████████████████████████████████████████████████████████████████████████████████████████████████| 15/15 [00:39<00:00,  2.64s/it]\n"
     ]
    },
    {
     "name": "stdout",
     "output_type": "stream",
     "text": [
      "JSONDecodeError: Expecting value: line 1 column 1 (char 0)\n",
      "Failed to fix JSON string: Expecting value: line 1 column 1 (char 0)\n",
      "JSONDecodeError: Expecting ',' delimiter: line 3 column 380 (char 408)\n",
      "JSONDecodeError: Expecting ',' delimiter: line 3 column 382 (char 410)\n",
      "JSONDecodeError: Expecting ',' delimiter: line 3 column 530 (char 558)\n",
      "JSONDecodeError: Expecting ',' delimiter: line 3 column 427 (char 462)\n",
      "JSONDecodeError: Expecting value: line 1 column 1 (char 0)\n",
      "Failed to fix JSON string: Expecting value: line 1 column 1 (char 0)\n",
      "JSONDecodeError: Expecting value: line 1 column 1 (char 0)\n",
      "Failed to fix JSON string: Expecting value: line 1 column 1 (char 0)\n",
      "JSONDecodeError: Expecting ',' delimiter: line 3 column 463 (char 498)\n",
      "JSONDecodeError: Expecting ',' delimiter: line 3 column 564 (char 599)\n",
      "evaluations-aqa221.csv saved\n"
     ]
    },
    {
     "name": "stderr",
     "output_type": "stream",
     "text": [
      "100%|███████████████████████████████████████████████████████████████████████████████████████████████████████████████████| 15/15 [00:40<00:00,  2.69s/it]\n"
     ]
    },
    {
     "name": "stdout",
     "output_type": "stream",
     "text": [
      "JSONDecodeError: Expecting ',' delimiter: line 3 column 453 (char 479)\n",
      "JSONDecodeError: Expecting ',' delimiter: line 3 column 342 (char 377)\n",
      "JSONDecodeError: Expecting ',' delimiter: line 3 column 522 (char 555)\n",
      "JSONDecodeError: Expecting value: line 1 column 1 (char 0)\n",
      "Failed to fix JSON string: Expecting value: line 1 column 1 (char 0)\n",
      "JSONDecodeError: Expecting ',' delimiter: line 3 column 472 (char 500)\n",
      "JSONDecodeError: Expecting value: line 1 column 1 (char 0)\n",
      "Failed to fix JSON string: Expecting value: line 1 column 1 (char 0)\n",
      "evaluations-aqa222.csv saved\n"
     ]
    },
    {
     "name": "stderr",
     "output_type": "stream",
     "text": [
      "100%|███████████████████████████████████████████████████████████████████████████████████████████████████████████████████| 15/15 [00:39<00:00,  2.66s/it]\n"
     ]
    },
    {
     "name": "stdout",
     "output_type": "stream",
     "text": [
      "JSONDecodeError: Expecting ',' delimiter: line 3 column 476 (char 511)\n",
      "JSONDecodeError: Expecting ',' delimiter: line 3 column 203 (char 231)\n",
      "JSONDecodeError: Expecting ',' delimiter: line 3 column 626 (char 654)\n",
      "JSONDecodeError: Expecting ',' delimiter: line 3 column 516 (char 549)\n",
      "JSONDecodeError: Expecting ',' delimiter: line 3 column 339 (char 371)\n",
      "JSONDecodeError: Expecting value: line 1 column 1 (char 0)\n",
      "Failed to fix JSON string: Expecting value: line 1 column 1 (char 0)\n",
      "JSONDecodeError: Expecting ',' delimiter: line 3 column 593 (char 619)\n",
      "JSONDecodeError: Expecting value: line 1 column 1 (char 0)\n",
      "Failed to fix JSON string: Expecting value: line 1 column 1 (char 0)\n",
      "JSONDecodeError: Expecting ',' delimiter: line 3 column 366 (char 394)\n",
      "JSONDecodeError: Expecting ',' delimiter: line 3 column 472 (char 505)\n",
      "evaluations-aqa223.csv saved\n"
     ]
    },
    {
     "name": "stderr",
     "output_type": "stream",
     "text": [
      "100%|███████████████████████████████████████████████████████████████████████████████████████████████████████████████████| 15/15 [00:39<00:00,  2.65s/it]\n"
     ]
    },
    {
     "name": "stdout",
     "output_type": "stream",
     "text": [
      "JSONDecodeError: Expecting value: line 1 column 1 (char 0)\n",
      "Failed to fix JSON string: Expecting value: line 1 column 1 (char 0)\n",
      "JSONDecodeError: Expecting value: line 1 column 1 (char 0)\n",
      "Failed to fix JSON string: Expecting value: line 1 column 1 (char 0)\n",
      "JSONDecodeError: Expecting ',' delimiter: line 3 column 488 (char 521)\n",
      "JSONDecodeError: Expecting value: line 1 column 1 (char 0)\n",
      "Failed to fix JSON string: Expecting value: line 1 column 1 (char 0)\n",
      "JSONDecodeError: Expecting value: line 1 column 1 (char 0)\n",
      "Failed to fix JSON string: Expecting value: line 1 column 1 (char 0)\n",
      "JSONDecodeError: Expecting ',' delimiter: line 3 column 429 (char 464)\n",
      "JSONDecodeError: Expecting ',' delimiter: line 3 column 377 (char 412)\n",
      "JSONDecodeError: Expecting ',' delimiter: line 3 column 517 (char 552)\n",
      "evaluations-aqa224.csv saved\n"
     ]
    },
    {
     "name": "stderr",
     "output_type": "stream",
     "text": [
      "100%|███████████████████████████████████████████████████████████████████████████████████████████████████████████████████| 15/15 [00:39<00:00,  2.62s/it]\n"
     ]
    },
    {
     "name": "stdout",
     "output_type": "stream",
     "text": [
      "JSONDecodeError: Expecting ',' delimiter: line 3 column 330 (char 358)\n",
      "JSONDecodeError: Expecting ',' delimiter: line 3 column 301 (char 333)\n",
      "JSONDecodeError: Expecting ',' delimiter: line 3 column 364 (char 397)\n",
      "JSONDecodeError: Expecting ',' delimiter: line 3 column 327 (char 355)\n",
      "JSONDecodeError: Expecting ',' delimiter: line 3 column 529 (char 557)\n",
      "JSONDecodeError: Expecting ',' delimiter: line 3 column 564 (char 592)\n",
      "JSONDecodeError: Expecting ',' delimiter: line 3 column 447 (char 475)\n",
      "JSONDecodeError: Expecting ',' delimiter: line 3 column 520 (char 555)\n",
      "JSONDecodeError: Expecting ',' delimiter: line 3 column 441 (char 474)\n",
      "evaluations-aqa225.csv saved\n"
     ]
    },
    {
     "name": "stderr",
     "output_type": "stream",
     "text": [
      "100%|███████████████████████████████████████████████████████████████████████████████████████████████████████████████████| 15/15 [00:39<00:00,  2.65s/it]\n"
     ]
    },
    {
     "name": "stdout",
     "output_type": "stream",
     "text": [
      "JSONDecodeError: Expecting value: line 1 column 1 (char 0)\n",
      "Failed to fix JSON string: Expecting value: line 1 column 1 (char 0)\n",
      "JSONDecodeError: Expecting ',' delimiter: line 3 column 273 (char 301)\n",
      "JSONDecodeError: Expecting value: line 1 column 1 (char 0)\n",
      "Failed to fix JSON string: Expecting value: line 1 column 1 (char 0)\n",
      "JSONDecodeError: Expecting ',' delimiter: line 3 column 208 (char 236)\n",
      "JSONDecodeError: Expecting ',' delimiter: line 3 column 357 (char 383)\n",
      "JSONDecodeError: Expecting value: line 1 column 1 (char 0)\n",
      "Failed to fix JSON string: Expecting value: line 1 column 1 (char 0)\n",
      "evaluations-aqa226.csv saved\n"
     ]
    },
    {
     "name": "stderr",
     "output_type": "stream",
     "text": [
      "100%|███████████████████████████████████████████████████████████████████████████████████████████████████████████████████| 15/15 [00:39<00:00,  2.64s/it]\n"
     ]
    },
    {
     "name": "stdout",
     "output_type": "stream",
     "text": [
      "JSONDecodeError: Expecting value: line 1 column 1 (char 0)\n",
      "Failed to fix JSON string: Expecting value: line 1 column 1 (char 0)\n",
      "JSONDecodeError: Expecting ',' delimiter: line 3 column 527 (char 562)\n",
      "JSONDecodeError: Expecting ',' delimiter: line 3 column 427 (char 460)\n",
      "JSONDecodeError: Expecting value: line 1 column 1 (char 0)\n",
      "Failed to fix JSON string: Expecting value: line 1 column 1 (char 0)\n",
      "JSONDecodeError: Expecting value: line 1 column 1 (char 0)\n",
      "Failed to fix JSON string: Expecting value: line 1 column 1 (char 0)\n",
      "JSONDecodeError: Expecting ',' delimiter: line 3 column 544 (char 579)\n",
      "JSONDecodeError: Expecting ',' delimiter: line 3 column 271 (char 299)\n",
      "JSONDecodeError: Expecting value: line 1 column 1 (char 0)\n",
      "Failed to fix JSON string: Expecting value: line 1 column 1 (char 0)\n",
      "evaluations-aqa227.csv saved\n"
     ]
    },
    {
     "name": "stderr",
     "output_type": "stream",
     "text": [
      "100%|███████████████████████████████████████████████████████████████████████████████████████████████████████████████████| 15/15 [00:39<00:00,  2.62s/it]\n"
     ]
    },
    {
     "name": "stdout",
     "output_type": "stream",
     "text": [
      "JSONDecodeError: Expecting ',' delimiter: line 3 column 346 (char 374)\n",
      "JSONDecodeError: Expecting ',' delimiter: line 3 column 568 (char 596)\n",
      "JSONDecodeError: Expecting ',' delimiter: line 3 column 327 (char 355)\n",
      "JSONDecodeError: Expecting ',' delimiter: line 3 column 452 (char 487)\n",
      "JSONDecodeError: Expecting value: line 1 column 1 (char 0)\n",
      "Failed to fix JSON string: Expecting value: line 1 column 1 (char 0)\n",
      "JSONDecodeError: Expecting value: line 1 column 1 (char 0)\n",
      "Failed to fix JSON string: Expecting value: line 1 column 1 (char 0)\n",
      "JSONDecodeError: Expecting value: line 1 column 1 (char 0)\n",
      "Failed to fix JSON string: Expecting value: line 1 column 1 (char 0)\n",
      "JSONDecodeError: Expecting ',' delimiter: line 3 column 359 (char 394)\n",
      "JSONDecodeError: Expecting value: line 1 column 1 (char 0)\n",
      "Failed to fix JSON string: Expecting value: line 1 column 1 (char 0)\n",
      "evaluations-aqa228.csv saved\n"
     ]
    },
    {
     "name": "stderr",
     "output_type": "stream",
     "text": [
      "100%|███████████████████████████████████████████████████████████████████████████████████████████████████████████████████| 15/15 [00:40<00:00,  2.68s/it]\n"
     ]
    },
    {
     "name": "stdout",
     "output_type": "stream",
     "text": [
      "JSONDecodeError: Expecting ',' delimiter: line 3 column 214 (char 246)\n",
      "JSONDecodeError: Expecting ',' delimiter: line 3 column 532 (char 560)\n",
      "JSONDecodeError: Expecting value: line 1 column 1 (char 0)\n",
      "Failed to fix JSON string: Expecting value: line 1 column 1 (char 0)\n",
      "JSONDecodeError: Expecting value: line 1 column 1 (char 0)\n",
      "Failed to fix JSON string: Expecting value: line 1 column 1 (char 0)\n",
      "JSONDecodeError: Expecting value: line 1 column 1 (char 0)\n",
      "Failed to fix JSON string: Expecting value: line 1 column 1 (char 0)\n",
      "JSONDecodeError: Expecting value: line 1 column 1 (char 0)\n",
      "Failed to fix JSON string: Expecting value: line 1 column 1 (char 0)\n",
      "JSONDecodeError: Expecting ',' delimiter: line 3 column 614 (char 640)\n",
      "evaluations-aqa229.csv saved\n"
     ]
    },
    {
     "name": "stderr",
     "output_type": "stream",
     "text": [
      "100%|███████████████████████████████████████████████████████████████████████████████████████████████████████████████████| 15/15 [00:39<00:00,  2.66s/it]\n"
     ]
    },
    {
     "name": "stdout",
     "output_type": "stream",
     "text": [
      "JSONDecodeError: Expecting ',' delimiter: line 3 column 326 (char 358)\n",
      "JSONDecodeError: Expecting value: line 1 column 1 (char 0)\n",
      "Failed to fix JSON string: Expecting value: line 1 column 1 (char 0)\n",
      "JSONDecodeError: Expecting ',' delimiter: line 3 column 299 (char 329)\n",
      "JSONDecodeError: Expecting ',' delimiter: line 3 column 556 (char 591)\n",
      "JSONDecodeError: Expecting ',' delimiter: line 3 column 578 (char 606)\n",
      "JSONDecodeError: Expecting ',' delimiter: line 3 column 401 (char 436)\n",
      "evaluations-aqa230.csv saved\n"
     ]
    },
    {
     "name": "stderr",
     "output_type": "stream",
     "text": [
      "100%|███████████████████████████████████████████████████████████████████████████████████████████████████████████████████| 15/15 [00:39<00:00,  2.66s/it]\n"
     ]
    },
    {
     "name": "stdout",
     "output_type": "stream",
     "text": [
      "JSONDecodeError: Expecting ',' delimiter: line 3 column 480 (char 515)\n",
      "JSONDecodeError: Expecting ',' delimiter: line 3 column 434 (char 462)\n",
      "JSONDecodeError: Expecting value: line 1 column 1 (char 0)\n",
      "Failed to fix JSON string: Expecting value: line 1 column 1 (char 0)\n",
      "JSONDecodeError: Expecting value: line 1 column 1 (char 0)\n",
      "Failed to fix JSON string: Expecting value: line 1 column 1 (char 0)\n",
      "JSONDecodeError: Expecting ',' delimiter: line 3 column 403 (char 438)\n",
      "JSONDecodeError: Expecting ',' delimiter: line 3 column 354 (char 382)\n",
      "JSONDecodeError: Expecting ',' delimiter: line 3 column 437 (char 472)\n",
      "JSONDecodeError: Expecting ',' delimiter: line 3 column 381 (char 413)\n",
      "JSONDecodeError: Expecting ',' delimiter: line 3 column 299 (char 325)\n",
      "evaluations-aqa231.csv saved\n"
     ]
    },
    {
     "name": "stderr",
     "output_type": "stream",
     "text": [
      "100%|███████████████████████████████████████████████████████████████████████████████████████████████████████████████████| 15/15 [00:40<00:00,  2.68s/it]\n"
     ]
    },
    {
     "name": "stdout",
     "output_type": "stream",
     "text": [
      "JSONDecodeError: Expecting ',' delimiter: line 3 column 481 (char 509)\n",
      "JSONDecodeError: Expecting ',' delimiter: line 3 column 443 (char 478)\n",
      "JSONDecodeError: Expecting value: line 1 column 1 (char 0)\n",
      "Failed to fix JSON string: Expecting value: line 1 column 1 (char 0)\n",
      "JSONDecodeError: Expecting ',' delimiter: line 3 column 350 (char 382)\n",
      "JSONDecodeError: Expecting value: line 1 column 1 (char 0)\n",
      "Failed to fix JSON string: Expecting value: line 1 column 1 (char 0)\n",
      "JSONDecodeError: Expecting ',' delimiter: line 3 column 432 (char 460)\n",
      "JSONDecodeError: Expecting value: line 1 column 1 (char 0)\n",
      "Failed to fix JSON string: Expecting value: line 1 column 1 (char 0)\n",
      "JSONDecodeError: Expecting value: line 1 column 1 (char 0)\n",
      "Failed to fix JSON string: Expecting value: line 1 column 1 (char 0)\n",
      "evaluations-aqa232.csv saved\n"
     ]
    },
    {
     "name": "stderr",
     "output_type": "stream",
     "text": [
      "100%|███████████████████████████████████████████████████████████████████████████████████████████████████████████████████| 15/15 [00:40<00:00,  2.68s/it]\n"
     ]
    },
    {
     "name": "stdout",
     "output_type": "stream",
     "text": [
      "JSONDecodeError: Expecting ',' delimiter: line 3 column 540 (char 575)\n",
      "JSONDecodeError: Expecting value: line 1 column 1 (char 0)\n",
      "Failed to fix JSON string: Expecting value: line 1 column 1 (char 0)\n",
      "JSONDecodeError: Expecting ',' delimiter: line 3 column 340 (char 368)\n",
      "JSONDecodeError: Expecting ',' delimiter: line 3 column 480 (char 508)\n",
      "JSONDecodeError: Expecting ',' delimiter: line 3 column 475 (char 501)\n",
      "JSONDecodeError: Expecting ',' delimiter: line 3 column 349 (char 384)\n",
      "JSONDecodeError: Expecting ',' delimiter: line 3 column 546 (char 572)\n",
      "JSONDecodeError: Expecting ',' delimiter: line 3 column 517 (char 545)\n",
      "JSONDecodeError: Expecting ',' delimiter: line 3 column 291 (char 323)\n",
      "JSONDecodeError: Expecting ',' delimiter: line 3 column 439 (char 474)\n",
      "evaluations-aqa233.csv saved\n"
     ]
    },
    {
     "name": "stderr",
     "output_type": "stream",
     "text": [
      "100%|███████████████████████████████████████████████████████████████████████████████████████████████████████████████████| 15/15 [00:39<00:00,  2.63s/it]\n"
     ]
    },
    {
     "name": "stdout",
     "output_type": "stream",
     "text": [
      "JSONDecodeError: Expecting ',' delimiter: line 3 column 311 (char 346)\n",
      "JSONDecodeError: Expecting ',' delimiter: line 3 column 300 (char 328)\n",
      "JSONDecodeError: Expecting ',' delimiter: line 3 column 422 (char 452)\n",
      "JSONDecodeError: Expecting ',' delimiter: line 3 column 226 (char 252)\n",
      "JSONDecodeError: Expecting ',' delimiter: line 3 column 318 (char 350)\n",
      "JSONDecodeError: Expecting ',' delimiter: line 3 column 303 (char 331)\n",
      "JSONDecodeError: Expecting ',' delimiter: line 3 column 512 (char 540)\n",
      "evaluations-aqa234.csv saved\n"
     ]
    },
    {
     "name": "stderr",
     "output_type": "stream",
     "text": [
      "100%|███████████████████████████████████████████████████████████████████████████████████████████████████████████████████| 15/15 [00:39<00:00,  2.64s/it]\n"
     ]
    },
    {
     "name": "stdout",
     "output_type": "stream",
     "text": [
      "JSONDecodeError: Expecting ',' delimiter: line 3 column 382 (char 410)\n",
      "JSONDecodeError: Expecting value: line 1 column 1 (char 0)\n",
      "Failed to fix JSON string: Expecting value: line 1 column 1 (char 0)\n",
      "JSONDecodeError: Expecting ',' delimiter: line 3 column 470 (char 505)\n",
      "evaluations-aqa235.csv saved\n"
     ]
    },
    {
     "name": "stderr",
     "output_type": "stream",
     "text": [
      "100%|███████████████████████████████████████████████████████████████████████████████████████████████████████████████████| 15/15 [00:39<00:00,  2.62s/it]\n"
     ]
    },
    {
     "name": "stdout",
     "output_type": "stream",
     "text": [
      "JSONDecodeError: Expecting ',' delimiter: line 3 column 639 (char 665)\n",
      "JSONDecodeError: Expecting ',' delimiter: line 3 column 315 (char 341)\n",
      "JSONDecodeError: Expecting ',' delimiter: line 3 column 516 (char 549)\n",
      "JSONDecodeError: Expecting ',' delimiter: line 3 column 463 (char 498)\n",
      "JSONDecodeError: Expecting value: line 1 column 1 (char 0)\n",
      "Failed to fix JSON string: Expecting value: line 1 column 1 (char 0)\n",
      "JSONDecodeError: Expecting ',' delimiter: line 3 column 585 (char 620)\n",
      "JSONDecodeError: Unterminated string starting at: line 3 column 18 (char 53)\n",
      "Failed to fix JSON string: Unterminated string starting at: line 3 column 18 (char 53)\n",
      "JSONDecodeError: Expecting ',' delimiter: line 3 column 512 (char 547)\n",
      "JSONDecodeError: Expecting value: line 1 column 1 (char 0)\n",
      "Failed to fix JSON string: Expecting value: line 1 column 1 (char 0)\n",
      "JSONDecodeError: Expecting ',' delimiter: line 3 column 425 (char 457)\n",
      "evaluations-aqa236.csv saved\n"
     ]
    },
    {
     "name": "stderr",
     "output_type": "stream",
     "text": [
      "100%|███████████████████████████████████████████████████████████████████████████████████████████████████████████████████| 15/15 [00:39<00:00,  2.62s/it]\n"
     ]
    },
    {
     "name": "stdout",
     "output_type": "stream",
     "text": [
      "JSONDecodeError: Expecting ',' delimiter: line 3 column 351 (char 386)\n",
      "JSONDecodeError: Expecting value: line 1 column 1 (char 0)\n",
      "Failed to fix JSON string: Expecting value: line 1 column 1 (char 0)\n",
      "JSONDecodeError: Expecting value: line 1 column 1 (char 0)\n",
      "Failed to fix JSON string: Expecting value: line 1 column 1 (char 0)\n",
      "JSONDecodeError: Expecting ',' delimiter: line 3 column 445 (char 473)\n",
      "evaluations-aqa237.csv saved\n"
     ]
    },
    {
     "name": "stderr",
     "output_type": "stream",
     "text": [
      "100%|███████████████████████████████████████████████████████████████████████████████████████████████████████████████████| 15/15 [00:39<00:00,  2.62s/it]\n"
     ]
    },
    {
     "name": "stdout",
     "output_type": "stream",
     "text": [
      "JSONDecodeError: Expecting ',' delimiter: line 3 column 642 (char 670)\n",
      "JSONDecodeError: Expecting value: line 1 column 1 (char 0)\n",
      "Failed to fix JSON string: Expecting value: line 1 column 1 (char 0)\n",
      "JSONDecodeError: Expecting ',' delimiter: line 3 column 467 (char 502)\n",
      "JSONDecodeError: Expecting ',' delimiter: line 3 column 457 (char 485)\n",
      "JSONDecodeError: Expecting ',' delimiter: line 3 column 583 (char 618)\n",
      "JSONDecodeError: Expecting ',' delimiter: line 3 column 491 (char 526)\n",
      "JSONDecodeError: Expecting value: line 1 column 1 (char 0)\n",
      "Failed to fix JSON string: Expecting value: line 1 column 1 (char 0)\n",
      "evaluations-aqa238.csv saved\n"
     ]
    },
    {
     "name": "stderr",
     "output_type": "stream",
     "text": [
      "100%|███████████████████████████████████████████████████████████████████████████████████████████████████████████████████| 15/15 [00:40<00:00,  2.71s/it]\n"
     ]
    },
    {
     "name": "stdout",
     "output_type": "stream",
     "text": [
      "JSONDecodeError: Expecting ',' delimiter: line 3 column 586 (char 614)\n",
      "JSONDecodeError: Expecting ',' delimiter: line 3 column 362 (char 390)\n",
      "JSONDecodeError: Expecting ',' delimiter: line 3 column 393 (char 425)\n",
      "JSONDecodeError: Expecting value: line 1 column 1 (char 0)\n",
      "Failed to fix JSON string: Expecting value: line 1 column 1 (char 0)\n",
      "JSONDecodeError: Expecting value: line 1 column 1 (char 0)\n",
      "Failed to fix JSON string: Expecting value: line 1 column 1 (char 0)\n",
      "JSONDecodeError: Expecting ',' delimiter: line 3 column 342 (char 368)\n",
      "evaluations-aqa239.csv saved\n"
     ]
    },
    {
     "name": "stderr",
     "output_type": "stream",
     "text": [
      "100%|███████████████████████████████████████████████████████████████████████████████████████████████████████████████████| 15/15 [00:38<00:00,  2.56s/it]\n"
     ]
    },
    {
     "name": "stdout",
     "output_type": "stream",
     "text": [
      "JSONDecodeError: Expecting value: line 1 column 1 (char 0)\n",
      "Failed to fix JSON string: Expecting value: line 1 column 1 (char 0)\n",
      "JSONDecodeError: Expecting ',' delimiter: line 3 column 412 (char 444)\n",
      "JSONDecodeError: Expecting ',' delimiter: line 3 column 533 (char 561)\n",
      "JSONDecodeError: Expecting value: line 1 column 1 (char 0)\n",
      "Failed to fix JSON string: Expecting value: line 1 column 1 (char 0)\n",
      "JSONDecodeError: Expecting ',' delimiter: line 3 column 345 (char 373)\n",
      "JSONDecodeError: Expecting ',' delimiter: line 3 column 387 (char 415)\n",
      "JSONDecodeError: Expecting ',' delimiter: line 3 column 459 (char 494)\n",
      "JSONDecodeError: Expecting ',' delimiter: line 3 column 500 (char 535)\n",
      "evaluations-aqa240.csv saved\n"
     ]
    },
    {
     "name": "stderr",
     "output_type": "stream",
     "text": [
      "100%|███████████████████████████████████████████████████████████████████████████████████████████████████████████████████| 15/15 [00:39<00:00,  2.62s/it]\n"
     ]
    },
    {
     "name": "stdout",
     "output_type": "stream",
     "text": [
      "JSONDecodeError: Expecting ',' delimiter: line 3 column 495 (char 523)\n",
      "JSONDecodeError: Expecting ',' delimiter: line 3 column 526 (char 561)\n",
      "JSONDecodeError: Expecting ',' delimiter: line 3 column 361 (char 393)\n",
      "JSONDecodeError: Expecting ',' delimiter: line 3 column 493 (char 521)\n",
      "JSONDecodeError: Expecting value: line 1 column 1 (char 0)\n",
      "Failed to fix JSON string: Expecting value: line 1 column 1 (char 0)\n",
      "JSONDecodeError: Expecting ',' delimiter: line 3 column 498 (char 531)\n",
      "evaluations-aqa241.csv saved\n"
     ]
    },
    {
     "name": "stderr",
     "output_type": "stream",
     "text": [
      "100%|███████████████████████████████████████████████████████████████████████████████████████████████████████████████████| 15/15 [00:39<00:00,  2.63s/it]\n"
     ]
    },
    {
     "name": "stdout",
     "output_type": "stream",
     "text": [
      "JSONDecodeError: Expecting ',' delimiter: line 3 column 554 (char 589)\n",
      "JSONDecodeError: Expecting ',' delimiter: line 3 column 460 (char 488)\n",
      "JSONDecodeError: Expecting ',' delimiter: line 3 column 390 (char 418)\n",
      "JSONDecodeError: Expecting value: line 1 column 1 (char 0)\n",
      "Failed to fix JSON string: Expecting value: line 1 column 1 (char 0)\n",
      "JSONDecodeError: Expecting ',' delimiter: line 3 column 355 (char 387)\n",
      "JSONDecodeError: Expecting ',' delimiter: line 3 column 306 (char 338)\n",
      "evaluations-aqa242.csv saved\n"
     ]
    },
    {
     "name": "stderr",
     "output_type": "stream",
     "text": [
      "100%|███████████████████████████████████████████████████████████████████████████████████████████████████████████████████| 15/15 [00:39<00:00,  2.65s/it]\n"
     ]
    },
    {
     "name": "stdout",
     "output_type": "stream",
     "text": [
      "JSONDecodeError: Expecting ',' delimiter: line 3 column 356 (char 388)\n",
      "JSONDecodeError: Expecting ',' delimiter: line 3 column 350 (char 376)\n",
      "JSONDecodeError: Expecting ',' delimiter: line 3 column 448 (char 481)\n",
      "JSONDecodeError: Expecting ',' delimiter: line 3 column 355 (char 385)\n",
      "JSONDecodeError: Expecting ',' delimiter: line 3 column 342 (char 370)\n",
      "JSONDecodeError: Expecting value: line 1 column 1 (char 0)\n",
      "Failed to fix JSON string: Expecting value: line 1 column 1 (char 0)\n",
      "evaluations-aqa243.csv saved\n"
     ]
    },
    {
     "name": "stderr",
     "output_type": "stream",
     "text": [
      "100%|███████████████████████████████████████████████████████████████████████████████████████████████████████████████████| 15/15 [00:38<00:00,  2.57s/it]\n"
     ]
    },
    {
     "name": "stdout",
     "output_type": "stream",
     "text": [
      "JSONDecodeError: Expecting ',' delimiter: line 3 column 326 (char 354)\n",
      "JSONDecodeError: Expecting ',' delimiter: line 3 column 290 (char 318)\n",
      "JSONDecodeError: Expecting ',' delimiter: line 3 column 353 (char 381)\n",
      "JSONDecodeError: Expecting ',' delimiter: line 3 column 453 (char 488)\n",
      "JSONDecodeError: Expecting ',' delimiter: line 3 column 479 (char 514)\n",
      "JSONDecodeError: Expecting ',' delimiter: line 3 column 433 (char 461)\n",
      "evaluations-aqa244.csv saved\n"
     ]
    },
    {
     "name": "stderr",
     "output_type": "stream",
     "text": [
      "100%|███████████████████████████████████████████████████████████████████████████████████████████████████████████████████| 15/15 [00:39<00:00,  2.64s/it]\n"
     ]
    },
    {
     "name": "stdout",
     "output_type": "stream",
     "text": [
      "JSONDecodeError: Expecting ',' delimiter: line 3 column 546 (char 574)\n",
      "JSONDecodeError: Unterminated string starting at: line 3 column 18 (char 53)\n",
      "Failed to fix JSON string: Unterminated string starting at: line 3 column 18 (char 53)\n",
      "JSONDecodeError: Expecting ',' delimiter: line 3 column 690 (char 718)\n",
      "JSONDecodeError: Expecting ',' delimiter: line 3 column 437 (char 470)\n",
      "JSONDecodeError: Expecting ',' delimiter: line 3 column 455 (char 483)\n",
      "JSONDecodeError: Expecting ',' delimiter: line 3 column 624 (char 659)\n",
      "JSONDecodeError: Expecting ',' delimiter: line 3 column 378 (char 406)\n",
      "JSONDecodeError: Expecting ',' delimiter: line 3 column 575 (char 608)\n",
      "JSONDecodeError: Expecting value: line 1 column 1 (char 0)\n",
      "Failed to fix JSON string: Expecting value: line 1 column 1 (char 0)\n",
      "JSONDecodeError: Expecting ',' delimiter: line 3 column 441 (char 469)\n",
      "JSONDecodeError: Extra data: line 6 column 1 (char 288)\n",
      "Failed to fix JSON string: Extra data: line 6 column 1 (char 288)\n",
      "JSONDecodeError: Expecting ',' delimiter: line 3 column 332 (char 360)\n",
      "JSONDecodeError: Expecting value: line 1 column 1 (char 0)\n",
      "Failed to fix JSON string: Expecting value: line 1 column 1 (char 0)\n",
      "evaluations-aqa245.csv saved\n"
     ]
    },
    {
     "name": "stderr",
     "output_type": "stream",
     "text": [
      "100%|███████████████████████████████████████████████████████████████████████████████████████████████████████████████████| 17/17 [00:44<00:00,  2.61s/it]\n"
     ]
    },
    {
     "name": "stdout",
     "output_type": "stream",
     "text": [
      "JSONDecodeError: Expecting ',' delimiter: line 3 column 356 (char 384)\n",
      "JSONDecodeError: Expecting ',' delimiter: line 3 column 358 (char 386)\n",
      "JSONDecodeError: Expecting ',' delimiter: line 3 column 415 (char 447)\n",
      "JSONDecodeError: Expecting value: line 1 column 1 (char 0)\n",
      "Failed to fix JSON string: Expecting value: line 1 column 1 (char 0)\n",
      "JSONDecodeError: Expecting ',' delimiter: line 3 column 470 (char 498)\n",
      "JSONDecodeError: Expecting ',' delimiter: line 3 column 566 (char 592)\n",
      "JSONDecodeError: Expecting value: line 1 column 1 (char 0)\n",
      "Failed to fix JSON string: Expecting value: line 1 column 1 (char 0)\n",
      "evaluations-aqa246.csv saved\n"
     ]
    },
    {
     "name": "stderr",
     "output_type": "stream",
     "text": [
      "100%|███████████████████████████████████████████████████████████████████████████████████████████████████████████████████| 15/15 [00:39<00:00,  2.61s/it]\n"
     ]
    },
    {
     "name": "stdout",
     "output_type": "stream",
     "text": [
      "JSONDecodeError: Expecting value: line 1 column 1 (char 0)\n",
      "Failed to fix JSON string: Expecting value: line 1 column 1 (char 0)\n",
      "JSONDecodeError: Expecting value: line 1 column 1 (char 0)\n",
      "Failed to fix JSON string: Expecting value: line 1 column 1 (char 0)\n",
      "JSONDecodeError: Expecting ',' delimiter: line 3 column 262 (char 290)\n",
      "JSONDecodeError: Expecting ',' delimiter: line 3 column 428 (char 456)\n",
      "JSONDecodeError: Expecting ',' delimiter: line 3 column 220 (char 248)\n",
      "JSONDecodeError: Expecting ',' delimiter: line 3 column 262 (char 288)\n",
      "JSONDecodeError: Expecting ',' delimiter: line 3 column 324 (char 352)\n",
      "JSONDecodeError: Expecting ',' delimiter: line 3 column 508 (char 536)\n",
      "JSONDecodeError: Expecting ',' delimiter: line 3 column 418 (char 446)\n",
      "JSONDecodeError: Expecting ',' delimiter: line 3 column 471 (char 499)\n",
      "evaluations-aqa247.csv saved\n"
     ]
    },
    {
     "name": "stderr",
     "output_type": "stream",
     "text": [
      "100%|███████████████████████████████████████████████████████████████████████████████████████████████████████████████████| 15/15 [00:39<00:00,  2.63s/it]\n"
     ]
    },
    {
     "name": "stdout",
     "output_type": "stream",
     "text": [
      "JSONDecodeError: Expecting ',' delimiter: line 3 column 221 (char 256)\n",
      "JSONDecodeError: Expecting value: line 1 column 1 (char 0)\n",
      "Failed to fix JSON string: Expecting value: line 1 column 1 (char 0)\n",
      "JSONDecodeError: Expecting ',' delimiter: line 3 column 337 (char 365)\n",
      "JSONDecodeError: Expecting value: line 1 column 1 (char 0)\n",
      "Failed to fix JSON string: Expecting value: line 1 column 1 (char 0)\n",
      "JSONDecodeError: Expecting ',' delimiter: line 3 column 530 (char 558)\n",
      "JSONDecodeError: Expecting value: line 1 column 1 (char 0)\n",
      "Failed to fix JSON string: Expecting value: line 1 column 1 (char 0)\n",
      "JSONDecodeError: Expecting ',' delimiter: line 3 column 571 (char 606)\n",
      "evaluations-aqa248.csv saved\n"
     ]
    },
    {
     "name": "stderr",
     "output_type": "stream",
     "text": [
      "100%|███████████████████████████████████████████████████████████████████████████████████████████████████████████████████| 15/15 [00:39<00:00,  2.64s/it]\n"
     ]
    },
    {
     "name": "stdout",
     "output_type": "stream",
     "text": [
      "JSONDecodeError: Expecting value: line 1 column 1 (char 0)\n",
      "Failed to fix JSON string: Expecting value: line 1 column 1 (char 0)\n",
      "JSONDecodeError: Expecting value: line 1 column 1 (char 0)\n",
      "Failed to fix JSON string: Expecting value: line 1 column 1 (char 0)\n",
      "JSONDecodeError: Expecting value: line 1 column 1 (char 0)\n",
      "Failed to fix JSON string: Expecting value: line 1 column 1 (char 0)\n",
      "JSONDecodeError: Expecting value: line 1 column 1 (char 0)\n",
      "Failed to fix JSON string: Expecting value: line 1 column 1 (char 0)\n",
      "JSONDecodeError: Expecting ',' delimiter: line 3 column 410 (char 438)\n",
      "JSONDecodeError: Expecting ',' delimiter: line 3 column 550 (char 578)\n",
      "JSONDecodeError: Expecting ',' delimiter: line 3 column 377 (char 405)\n",
      "JSONDecodeError: Expecting ',' delimiter: line 3 column 369 (char 401)\n",
      "evaluations-aqa249.csv saved\n"
     ]
    },
    {
     "name": "stderr",
     "output_type": "stream",
     "text": [
      "100%|███████████████████████████████████████████████████████████████████████████████████████████████████████████████████| 15/15 [00:39<00:00,  2.62s/it]\n"
     ]
    },
    {
     "name": "stdout",
     "output_type": "stream",
     "text": [
      "JSONDecodeError: Expecting value: line 1 column 1 (char 0)\n",
      "Failed to fix JSON string: Expecting value: line 1 column 1 (char 0)\n",
      "JSONDecodeError: Expecting ',' delimiter: line 3 column 471 (char 504)\n",
      "JSONDecodeError: Expecting ',' delimiter: line 3 column 547 (char 575)\n",
      "JSONDecodeError: Expecting value: line 1 column 1 (char 0)\n",
      "Failed to fix JSON string: Expecting value: line 1 column 1 (char 0)\n",
      "JSONDecodeError: Expecting ',' delimiter: line 3 column 638 (char 673)\n",
      "JSONDecodeError: Expecting ',' delimiter: line 3 column 551 (char 579)\n",
      "JSONDecodeError: Expecting ',' delimiter: line 3 column 654 (char 689)\n",
      "JSONDecodeError: Expecting ',' delimiter: line 3 column 671 (char 706)\n",
      "JSONDecodeError: Expecting ',' delimiter: line 3 column 445 (char 480)\n",
      "JSONDecodeError: Expecting value: line 1 column 1 (char 0)\n",
      "Failed to fix JSON string: Expecting value: line 1 column 1 (char 0)\n",
      "evaluations-aqa250.csv saved\n"
     ]
    },
    {
     "name": "stderr",
     "output_type": "stream",
     "text": [
      "100%|███████████████████████████████████████████████████████████████████████████████████████████████████████████████████| 15/15 [00:39<00:00,  2.61s/it]\n"
     ]
    },
    {
     "name": "stdout",
     "output_type": "stream",
     "text": [
      "JSONDecodeError: Expecting ',' delimiter: line 3 column 619 (char 647)\n",
      "JSONDecodeError: Expecting ',' delimiter: line 3 column 465 (char 493)\n",
      "JSONDecodeError: Expecting ',' delimiter: line 3 column 637 (char 665)\n",
      "JSONDecodeError: Expecting ',' delimiter: line 3 column 650 (char 685)\n",
      "JSONDecodeError: Expecting value: line 1 column 1 (char 0)\n",
      "Failed to fix JSON string: Expecting value: line 1 column 1 (char 0)\n",
      "JSONDecodeError: Expecting ',' delimiter: line 3 column 278 (char 308)\n",
      "JSONDecodeError: Expecting ',' delimiter: line 3 column 514 (char 542)\n",
      "JSONDecodeError: Expecting ',' delimiter: line 3 column 400 (char 432)\n",
      "evaluations-aqa251.csv saved\n"
     ]
    },
    {
     "name": "stderr",
     "output_type": "stream",
     "text": [
      "100%|███████████████████████████████████████████████████████████████████████████████████████████████████████████████████| 15/15 [00:39<00:00,  2.64s/it]\n"
     ]
    },
    {
     "name": "stdout",
     "output_type": "stream",
     "text": [
      "JSONDecodeError: Expecting value: line 1 column 1 (char 0)\n",
      "Failed to fix JSON string: Expecting value: line 1 column 1 (char 0)\n",
      "JSONDecodeError: Expecting ',' delimiter: line 3 column 576 (char 611)\n",
      "JSONDecodeError: Expecting ',' delimiter: line 3 column 581 (char 614)\n",
      "JSONDecodeError: Expecting ',' delimiter: line 3 column 380 (char 408)\n",
      "JSONDecodeError: Expecting ',' delimiter: line 3 column 656 (char 689)\n",
      "JSONDecodeError: Expecting ',' delimiter: line 3 column 366 (char 394)\n",
      "JSONDecodeError: Expecting ',' delimiter: line 3 column 400 (char 432)\n",
      "evaluations-aqa252.csv saved\n"
     ]
    },
    {
     "name": "stderr",
     "output_type": "stream",
     "text": [
      "100%|███████████████████████████████████████████████████████████████████████████████████████████████████████████████████| 15/15 [00:38<00:00,  2.60s/it]\n"
     ]
    },
    {
     "name": "stdout",
     "output_type": "stream",
     "text": [
      "JSONDecodeError: Expecting value: line 1 column 1 (char 0)\n",
      "Failed to fix JSON string: Expecting value: line 1 column 1 (char 0)\n",
      "JSONDecodeError: Expecting value: line 1 column 1 (char 0)\n",
      "Failed to fix JSON string: Expecting value: line 1 column 1 (char 0)\n",
      "JSONDecodeError: Expecting value: line 1 column 1 (char 0)\n",
      "Failed to fix JSON string: Expecting value: line 1 column 1 (char 0)\n",
      "JSONDecodeError: Expecting ',' delimiter: line 3 column 506 (char 541)\n",
      "JSONDecodeError: Expecting ',' delimiter: line 3 column 437 (char 465)\n",
      "JSONDecodeError: Expecting ',' delimiter: line 3 column 406 (char 434)\n",
      "JSONDecodeError: Expecting ',' delimiter: line 3 column 325 (char 360)\n",
      "JSONDecodeError: Expecting ',' delimiter: line 3 column 456 (char 484)\n",
      "evaluations-aqa253.csv saved\n"
     ]
    },
    {
     "name": "stderr",
     "output_type": "stream",
     "text": [
      "100%|███████████████████████████████████████████████████████████████████████████████████████████████████████████████████| 15/15 [00:39<00:00,  2.66s/it]\n"
     ]
    },
    {
     "name": "stdout",
     "output_type": "stream",
     "text": [
      "JSONDecodeError: Expecting value: line 1 column 1 (char 0)\n",
      "Failed to fix JSON string: Expecting value: line 1 column 1 (char 0)\n",
      "JSONDecodeError: Expecting ',' delimiter: line 3 column 321 (char 347)\n",
      "JSONDecodeError: Expecting value: line 1 column 1 (char 0)\n",
      "Failed to fix JSON string: Expecting value: line 1 column 1 (char 0)\n",
      "JSONDecodeError: Expecting ',' delimiter: line 3 column 406 (char 434)\n",
      "JSONDecodeError: Expecting value: line 1 column 1 (char 0)\n",
      "Failed to fix JSON string: Expecting value: line 1 column 1 (char 0)\n",
      "JSONDecodeError: Expecting ',' delimiter: line 3 column 573 (char 608)\n",
      "JSONDecodeError: Expecting value: line 1 column 1 (char 0)\n",
      "Failed to fix JSON string: Expecting value: line 1 column 1 (char 0)\n",
      "evaluations-aqa254.csv saved\n"
     ]
    },
    {
     "name": "stderr",
     "output_type": "stream",
     "text": [
      "100%|███████████████████████████████████████████████████████████████████████████████████████████████████████████████████| 15/15 [00:39<00:00,  2.64s/it]\n"
     ]
    },
    {
     "name": "stdout",
     "output_type": "stream",
     "text": [
      "JSONDecodeError: Expecting ',' delimiter: line 3 column 425 (char 453)\n",
      "JSONDecodeError: Expecting ',' delimiter: line 3 column 218 (char 248)\n",
      "JSONDecodeError: Expecting ',' delimiter: line 3 column 598 (char 626)\n",
      "evaluations-aqa255.csv saved\n"
     ]
    },
    {
     "name": "stderr",
     "output_type": "stream",
     "text": [
      "100%|███████████████████████████████████████████████████████████████████████████████████████████████████████████████████| 15/15 [00:40<00:00,  2.68s/it]\n"
     ]
    },
    {
     "name": "stdout",
     "output_type": "stream",
     "text": [
      "JSONDecodeError: Expecting ',' delimiter: line 3 column 462 (char 490)\n",
      "JSONDecodeError: Expecting value: line 1 column 1 (char 0)\n",
      "Failed to fix JSON string: Expecting value: line 1 column 1 (char 0)\n",
      "JSONDecodeError: Expecting value: line 1 column 1 (char 0)\n",
      "Failed to fix JSON string: Expecting value: line 1 column 1 (char 0)\n",
      "JSONDecodeError: Expecting ',' delimiter: line 3 column 368 (char 396)\n",
      "JSONDecodeError: Expecting value: line 1 column 1 (char 0)\n",
      "Failed to fix JSON string: Expecting value: line 1 column 1 (char 0)\n",
      "JSONDecodeError: Expecting ',' delimiter: line 3 column 380 (char 408)\n",
      "JSONDecodeError: Expecting ',' delimiter: line 3 column 443 (char 471)\n",
      "evaluations-aqa256.csv saved\n"
     ]
    },
    {
     "name": "stderr",
     "output_type": "stream",
     "text": [
      "100%|███████████████████████████████████████████████████████████████████████████████████████████████████████████████████| 15/15 [00:39<00:00,  2.64s/it]\n"
     ]
    },
    {
     "name": "stdout",
     "output_type": "stream",
     "text": [
      "JSONDecodeError: Expecting value: line 1 column 1 (char 0)\n",
      "Failed to fix JSON string: Expecting value: line 1 column 1 (char 0)\n",
      "JSONDecodeError: Expecting ',' delimiter: line 3 column 398 (char 431)\n",
      "JSONDecodeError: Expecting ',' delimiter: line 3 column 430 (char 458)\n",
      "JSONDecodeError: Expecting ',' delimiter: line 3 column 238 (char 266)\n",
      "JSONDecodeError: Expecting ',' delimiter: line 3 column 327 (char 355)\n",
      "JSONDecodeError: Expecting ',' delimiter: line 3 column 260 (char 286)\n",
      "JSONDecodeError: Expecting value: line 1 column 1 (char 0)\n",
      "Failed to fix JSON string: Expecting value: line 1 column 1 (char 0)\n",
      "evaluations-aqa257.csv saved\n"
     ]
    },
    {
     "name": "stderr",
     "output_type": "stream",
     "text": [
      "100%|███████████████████████████████████████████████████████████████████████████████████████████████████████████████████| 15/15 [00:39<00:00,  2.65s/it]\n"
     ]
    },
    {
     "name": "stdout",
     "output_type": "stream",
     "text": [
      "JSONDecodeError: Expecting ',' delimiter: line 3 column 420 (char 448)\n",
      "JSONDecodeError: Expecting ',' delimiter: line 3 column 343 (char 371)\n",
      "JSONDecodeError: Expecting ',' delimiter: line 3 column 427 (char 455)\n",
      "JSONDecodeError: Expecting value: line 1 column 1 (char 0)\n",
      "Failed to fix JSON string: Expecting value: line 1 column 1 (char 0)\n",
      "JSONDecodeError: Expecting ',' delimiter: line 3 column 237 (char 263)\n",
      "JSONDecodeError: Expecting ',' delimiter: line 3 column 369 (char 397)\n",
      "JSONDecodeError: Expecting ',' delimiter: line 3 column 459 (char 487)\n",
      "JSONDecodeError: Expecting ',' delimiter: line 3 column 372 (char 400)\n",
      "JSONDecodeError: Expecting ',' delimiter: line 3 column 335 (char 363)\n",
      "evaluations-aqa258.csv saved\n"
     ]
    },
    {
     "name": "stderr",
     "output_type": "stream",
     "text": [
      "100%|███████████████████████████████████████████████████████████████████████████████████████████████████████████████████| 15/15 [00:39<00:00,  2.64s/it]\n"
     ]
    },
    {
     "name": "stdout",
     "output_type": "stream",
     "text": [
      "JSONDecodeError: Expecting value: line 1 column 1 (char 0)\n",
      "Failed to fix JSON string: Expecting value: line 1 column 1 (char 0)\n",
      "JSONDecodeError: Expecting value: line 1 column 1 (char 0)\n",
      "Failed to fix JSON string: Expecting value: line 1 column 1 (char 0)\n",
      "JSONDecodeError: Expecting value: line 1 column 1 (char 0)\n",
      "Failed to fix JSON string: Expecting value: line 1 column 1 (char 0)\n",
      "JSONDecodeError: Expecting value: line 1 column 1 (char 0)\n",
      "Failed to fix JSON string: Expecting value: line 1 column 1 (char 0)\n",
      "JSONDecodeError: Expecting value: line 1 column 1 (char 0)\n",
      "Failed to fix JSON string: Expecting value: line 1 column 1 (char 0)\n",
      "JSONDecodeError: Expecting ',' delimiter: line 3 column 527 (char 562)\n",
      "JSONDecodeError: Expecting ',' delimiter: line 3 column 511 (char 546)\n",
      "JSONDecodeError: Expecting value: line 1 column 1 (char 0)\n",
      "Failed to fix JSON string: Expecting value: line 1 column 1 (char 0)\n",
      "evaluations-aqa259.csv saved\n"
     ]
    },
    {
     "name": "stderr",
     "output_type": "stream",
     "text": [
      "100%|███████████████████████████████████████████████████████████████████████████████████████████████████████████████████| 15/15 [00:39<00:00,  2.62s/it]\n"
     ]
    },
    {
     "name": "stdout",
     "output_type": "stream",
     "text": [
      "JSONDecodeError: Expecting value: line 1 column 1 (char 0)\n",
      "Failed to fix JSON string: Expecting value: line 1 column 1 (char 0)\n",
      "JSONDecodeError: Expecting ',' delimiter: line 3 column 566 (char 594)\n",
      "JSONDecodeError: Expecting ',' delimiter: line 3 column 208 (char 234)\n",
      "JSONDecodeError: Expecting ',' delimiter: line 3 column 466 (char 494)\n",
      "JSONDecodeError: Expecting ',' delimiter: line 3 column 575 (char 603)\n",
      "JSONDecodeError: Expecting ',' delimiter: line 3 column 405 (char 440)\n",
      "JSONDecodeError: Expecting ',' delimiter: line 3 column 365 (char 393)\n",
      "JSONDecodeError: Expecting value: line 1 column 1 (char 0)\n",
      "Failed to fix JSON string: Expecting value: line 1 column 1 (char 0)\n",
      "evaluations-aqa260.csv saved\n"
     ]
    },
    {
     "name": "stderr",
     "output_type": "stream",
     "text": [
      "100%|███████████████████████████████████████████████████████████████████████████████████████████████████████████████████| 15/15 [00:38<00:00,  2.58s/it]\n"
     ]
    },
    {
     "name": "stdout",
     "output_type": "stream",
     "text": [
      "JSONDecodeError: Expecting ',' delimiter: line 3 column 452 (char 480)\n",
      "JSONDecodeError: Expecting ',' delimiter: line 3 column 471 (char 506)\n",
      "JSONDecodeError: Expecting ',' delimiter: line 3 column 468 (char 502)\n",
      "JSONDecodeError: Expecting value: line 1 column 1 (char 0)\n",
      "Failed to fix JSON string: Expecting value: line 1 column 1 (char 0)\n",
      "JSONDecodeError: Expecting ',' delimiter: line 3 column 276 (char 304)\n",
      "JSONDecodeError: Expecting ',' delimiter: line 3 column 378 (char 406)\n",
      "evaluations-aqa261.csv saved\n"
     ]
    },
    {
     "name": "stderr",
     "output_type": "stream",
     "text": [
      "100%|███████████████████████████████████████████████████████████████████████████████████████████████████████████████████| 15/15 [00:38<00:00,  2.59s/it]\n"
     ]
    },
    {
     "name": "stdout",
     "output_type": "stream",
     "text": [
      "JSONDecodeError: Expecting ',' delimiter: line 3 column 477 (char 505)\n",
      "JSONDecodeError: Expecting value: line 1 column 1 (char 0)\n",
      "Failed to fix JSON string: Expecting value: line 1 column 1 (char 0)\n",
      "JSONDecodeError: Expecting value: line 1 column 1 (char 0)\n",
      "Failed to fix JSON string: Expecting value: line 1 column 1 (char 0)\n",
      "JSONDecodeError: Expecting ',' delimiter: line 3 column 510 (char 538)\n",
      "JSONDecodeError: Expecting value: line 1 column 1 (char 0)\n",
      "Failed to fix JSON string: Expecting value: line 1 column 1 (char 0)\n",
      "JSONDecodeError: Expecting value: line 1 column 1 (char 0)\n",
      "Failed to fix JSON string: Expecting value: line 1 column 1 (char 0)\n",
      "JSONDecodeError: Expecting value: line 1 column 1 (char 0)\n",
      "Failed to fix JSON string: Expecting value: line 1 column 1 (char 0)\n",
      "JSONDecodeError: Expecting ',' delimiter: line 3 column 420 (char 450)\n",
      "JSONDecodeError: Expecting value: line 1 column 1 (char 0)\n",
      "Failed to fix JSON string: Expecting value: line 1 column 1 (char 0)\n",
      "evaluations-aqa262.csv saved\n"
     ]
    },
    {
     "name": "stderr",
     "output_type": "stream",
     "text": [
      "100%|███████████████████████████████████████████████████████████████████████████████████████████████████████████████████| 15/15 [00:39<00:00,  2.61s/it]\n"
     ]
    },
    {
     "name": "stdout",
     "output_type": "stream",
     "text": [
      "JSONDecodeError: Expecting ',' delimiter: line 3 column 287 (char 315)\n",
      "JSONDecodeError: Expecting ',' delimiter: line 3 column 323 (char 351)\n",
      "JSONDecodeError: Expecting ',' delimiter: line 3 column 386 (char 414)\n",
      "JSONDecodeError: Expecting ',' delimiter: line 3 column 321 (char 354)\n",
      "JSONDecodeError: Expecting ',' delimiter: line 3 column 494 (char 527)\n",
      "JSONDecodeError: Expecting ',' delimiter: line 3 column 289 (char 317)\n",
      "evaluations-aqa263.csv saved\n"
     ]
    },
    {
     "name": "stderr",
     "output_type": "stream",
     "text": [
      "100%|███████████████████████████████████████████████████████████████████████████████████████████████████████████████████| 15/15 [00:39<00:00,  2.61s/it]\n"
     ]
    },
    {
     "name": "stdout",
     "output_type": "stream",
     "text": [
      "JSONDecodeError: Expecting ',' delimiter: line 3 column 482 (char 515)\n",
      "JSONDecodeError: Expecting ',' delimiter: line 3 column 386 (char 414)\n",
      "JSONDecodeError: Expecting ',' delimiter: line 3 column 324 (char 359)\n",
      "JSONDecodeError: Expecting ',' delimiter: line 3 column 424 (char 452)\n",
      "JSONDecodeError: Expecting value: line 1 column 1 (char 0)\n",
      "Failed to fix JSON string: Expecting value: line 1 column 1 (char 0)\n",
      "JSONDecodeError: Expecting ',' delimiter: line 3 column 522 (char 557)\n",
      "JSONDecodeError: Expecting ',' delimiter: line 3 column 420 (char 448)\n",
      "JSONDecodeError: Unterminated string starting at: line 3 column 18 (char 46)\n",
      "Failed to fix JSON string: Unterminated string starting at: line 3 column 18 (char 46)\n",
      "JSONDecodeError: Expecting ',' delimiter: line 3 column 437 (char 470)\n",
      "JSONDecodeError: Expecting ',' delimiter: line 3 column 260 (char 286)\n",
      "Failed to fix JSON string: Expecting ',' delimiter: line 3 column 260 (char 286)\n",
      "evaluations-aqa264.csv saved\n"
     ]
    },
    {
     "name": "stderr",
     "output_type": "stream",
     "text": [
      "100%|███████████████████████████████████████████████████████████████████████████████████████████████████████████████████| 15/15 [00:39<00:00,  2.63s/it]\n"
     ]
    },
    {
     "name": "stdout",
     "output_type": "stream",
     "text": [
      "JSONDecodeError: Expecting ',' delimiter: line 3 column 569 (char 597)\n",
      "JSONDecodeError: Expecting value: line 1 column 1 (char 0)\n",
      "Failed to fix JSON string: Expecting value: line 1 column 1 (char 0)\n",
      "JSONDecodeError: Expecting ',' delimiter: line 3 column 294 (char 322)\n",
      "JSONDecodeError: Expecting value: line 1 column 1 (char 0)\n",
      "Failed to fix JSON string: Expecting value: line 1 column 1 (char 0)\n",
      "JSONDecodeError: Expecting ',' delimiter: line 3 column 468 (char 496)\n",
      "JSONDecodeError: Expecting ',' delimiter: line 3 column 349 (char 377)\n",
      "JSONDecodeError: Expecting ',' delimiter: line 3 column 476 (char 502)\n",
      "evaluations-aqa265.csv saved\n"
     ]
    },
    {
     "name": "stderr",
     "output_type": "stream",
     "text": [
      "100%|███████████████████████████████████████████████████████████████████████████████████████████████████████████████████| 15/15 [00:39<00:00,  2.62s/it]\n"
     ]
    },
    {
     "name": "stdout",
     "output_type": "stream",
     "text": [
      "JSONDecodeError: Expecting ',' delimiter: line 3 column 458 (char 493)\n",
      "JSONDecodeError: Expecting value: line 1 column 1 (char 0)\n",
      "Failed to fix JSON string: Expecting value: line 1 column 1 (char 0)\n",
      "JSONDecodeError: Expecting ',' delimiter: line 3 column 275 (char 303)\n",
      "JSONDecodeError: Expecting value: line 1 column 1 (char 0)\n",
      "Failed to fix JSON string: Expecting value: line 1 column 1 (char 0)\n",
      "evaluations-aqa266.csv saved\n"
     ]
    },
    {
     "name": "stderr",
     "output_type": "stream",
     "text": [
      "100%|███████████████████████████████████████████████████████████████████████████████████████████████████████████████████| 15/15 [00:39<00:00,  2.65s/it]\n"
     ]
    },
    {
     "name": "stdout",
     "output_type": "stream",
     "text": [
      "JSONDecodeError: Expecting ',' delimiter: line 3 column 531 (char 559)\n",
      "JSONDecodeError: Expecting ',' delimiter: line 3 column 264 (char 292)\n",
      "JSONDecodeError: Expecting ',' delimiter: line 3 column 283 (char 311)\n",
      "JSONDecodeError: Expecting ',' delimiter: line 3 column 443 (char 471)\n",
      "JSONDecodeError: Expecting value: line 1 column 1 (char 0)\n",
      "Failed to fix JSON string: Expecting value: line 1 column 1 (char 0)\n",
      "JSONDecodeError: Expecting ',' delimiter: line 3 column 274 (char 302)\n",
      "JSONDecodeError: Expecting ',' delimiter: line 3 column 746 (char 781)\n",
      "JSONDecodeError: Expecting value: line 1 column 1 (char 0)\n",
      "Failed to fix JSON string: Expecting value: line 1 column 1 (char 0)\n",
      "evaluations-aqa267.csv saved\n"
     ]
    },
    {
     "name": "stderr",
     "output_type": "stream",
     "text": [
      "100%|███████████████████████████████████████████████████████████████████████████████████████████████████████████████████| 15/15 [00:39<00:00,  2.61s/it]\n"
     ]
    },
    {
     "name": "stdout",
     "output_type": "stream",
     "text": [
      "JSONDecodeError: Expecting ',' delimiter: line 3 column 266 (char 298)\n",
      "JSONDecodeError: Expecting ',' delimiter: line 3 column 454 (char 480)\n",
      "JSONDecodeError: Expecting ',' delimiter: line 3 column 383 (char 418)\n",
      "JSONDecodeError: Expecting value: line 1 column 1 (char 0)\n",
      "Failed to fix JSON string: Expecting value: line 1 column 1 (char 0)\n",
      "JSONDecodeError: Expecting value: line 1 column 1 (char 0)\n",
      "Failed to fix JSON string: Expecting value: line 1 column 1 (char 0)\n",
      "JSONDecodeError: Expecting ',' delimiter: line 3 column 304 (char 332)\n",
      "JSONDecodeError: Expecting ',' delimiter: line 3 column 676 (char 704)\n",
      "evaluations-aqa268.csv saved\n"
     ]
    },
    {
     "name": "stderr",
     "output_type": "stream",
     "text": [
      "100%|███████████████████████████████████████████████████████████████████████████████████████████████████████████████████| 15/15 [00:39<00:00,  2.62s/it]\n"
     ]
    },
    {
     "name": "stdout",
     "output_type": "stream",
     "text": [
      "JSONDecodeError: Expecting ',' delimiter: line 3 column 305 (char 333)\n",
      "JSONDecodeError: Expecting value: line 1 column 1 (char 0)\n",
      "Failed to fix JSON string: Expecting value: line 1 column 1 (char 0)\n",
      "JSONDecodeError: Expecting ',' delimiter: line 3 column 441 (char 469)\n",
      "JSONDecodeError: Expecting value: line 1 column 1 (char 0)\n",
      "Failed to fix JSON string: Expecting value: line 1 column 1 (char 0)\n",
      "JSONDecodeError: Expecting value: line 1 column 1 (char 0)\n",
      "Failed to fix JSON string: Expecting value: line 1 column 1 (char 0)\n",
      "JSONDecodeError: Expecting ',' delimiter: line 3 column 256 (char 284)\n",
      "JSONDecodeError: Expecting ',' delimiter: line 3 column 368 (char 400)\n",
      "JSONDecodeError: Expecting ',' delimiter: line 3 column 369 (char 397)\n",
      "JSONDecodeError: Expecting ',' delimiter: line 3 column 331 (char 357)\n",
      "evaluations-aqa269.csv saved\n"
     ]
    },
    {
     "name": "stderr",
     "output_type": "stream",
     "text": [
      "100%|███████████████████████████████████████████████████████████████████████████████████████████████████████████████████| 15/15 [00:39<00:00,  2.63s/it]\n"
     ]
    },
    {
     "name": "stdout",
     "output_type": "stream",
     "text": [
      "JSONDecodeError: Expecting value: line 1 column 1 (char 0)\n",
      "Failed to fix JSON string: Expecting value: line 1 column 1 (char 0)\n",
      "JSONDecodeError: Expecting ',' delimiter: line 3 column 472 (char 500)\n",
      "JSONDecodeError: Expecting ',' delimiter: line 3 column 649 (char 684)\n",
      "JSONDecodeError: Expecting value: line 1 column 1 (char 0)\n",
      "Failed to fix JSON string: Expecting value: line 1 column 1 (char 0)\n",
      "JSONDecodeError: Expecting value: line 1 column 1 (char 0)\n",
      "Failed to fix JSON string: Expecting value: line 1 column 1 (char 0)\n",
      "evaluations-aqa270.csv saved\n"
     ]
    },
    {
     "name": "stderr",
     "output_type": "stream",
     "text": [
      "100%|███████████████████████████████████████████████████████████████████████████████████████████████████████████████████| 15/15 [00:40<00:00,  2.67s/it]\n"
     ]
    },
    {
     "name": "stdout",
     "output_type": "stream",
     "text": [
      "JSONDecodeError: Expecting ',' delimiter: line 3 column 251 (char 279)\n",
      "JSONDecodeError: Expecting ',' delimiter: line 3 column 323 (char 358)\n",
      "JSONDecodeError: Expecting ',' delimiter: line 3 column 208 (char 236)\n",
      "JSONDecodeError: Expecting value: line 1 column 1 (char 0)\n",
      "Failed to fix JSON string: Expecting value: line 1 column 1 (char 0)\n",
      "JSONDecodeError: Expecting value: line 1 column 1 (char 0)\n",
      "Failed to fix JSON string: Expecting value: line 1 column 1 (char 0)\n",
      "JSONDecodeError: Expecting ',' delimiter: line 3 column 327 (char 353)\n",
      "JSONDecodeError: Expecting ',' delimiter: line 3 column 360 (char 388)\n",
      "evaluations-aqa271.csv saved\n"
     ]
    },
    {
     "name": "stderr",
     "output_type": "stream",
     "text": [
      "100%|███████████████████████████████████████████████████████████████████████████████████████████████████████████████████| 15/15 [00:39<00:00,  2.62s/it]\n"
     ]
    },
    {
     "name": "stdout",
     "output_type": "stream",
     "text": [
      "JSONDecodeError: Expecting ',' delimiter: line 3 column 306 (char 332)\n",
      "JSONDecodeError: Expecting ',' delimiter: line 3 column 397 (char 432)\n",
      "JSONDecodeError: Expecting ',' delimiter: line 3 column 357 (char 389)\n",
      "JSONDecodeError: Expecting ',' delimiter: line 3 column 494 (char 529)\n",
      "JSONDecodeError: Expecting ',' delimiter: line 3 column 507 (char 539)\n",
      "JSONDecodeError: Expecting value: line 1 column 1 (char 0)\n",
      "Failed to fix JSON string: Expecting value: line 1 column 1 (char 0)\n",
      "JSONDecodeError: Expecting value: line 1 column 1 (char 0)\n",
      "Failed to fix JSON string: Expecting value: line 1 column 1 (char 0)\n",
      "JSONDecodeError: Expecting value: line 1 column 1 (char 0)\n",
      "Failed to fix JSON string: Expecting value: line 1 column 1 (char 0)\n",
      "JSONDecodeError: Expecting ',' delimiter: line 3 column 586 (char 621)\n",
      "evaluations-aqa272.csv saved\n"
     ]
    },
    {
     "name": "stderr",
     "output_type": "stream",
     "text": [
      "100%|███████████████████████████████████████████████████████████████████████████████████████████████████████████████████| 15/15 [00:38<00:00,  2.60s/it]\n"
     ]
    },
    {
     "name": "stdout",
     "output_type": "stream",
     "text": [
      "JSONDecodeError: Expecting ',' delimiter: line 3 column 523 (char 551)\n",
      "JSONDecodeError: Expecting ',' delimiter: line 3 column 401 (char 429)\n",
      "JSONDecodeError: Expecting ',' delimiter: line 3 column 377 (char 405)\n",
      "JSONDecodeError: Expecting ',' delimiter: line 3 column 286 (char 314)\n",
      "JSONDecodeError: Expecting ',' delimiter: line 3 column 209 (char 241)\n",
      "JSONDecodeError: Expecting ',' delimiter: line 3 column 312 (char 340)\n",
      "JSONDecodeError: Expecting value: line 1 column 1 (char 0)\n",
      "Failed to fix JSON string: Expecting value: line 1 column 1 (char 0)\n",
      "JSONDecodeError: Expecting value: line 1 column 1 (char 0)\n",
      "Failed to fix JSON string: Expecting value: line 1 column 1 (char 0)\n",
      "JSONDecodeError: Expecting ',' delimiter: line 3 column 574 (char 602)\n",
      "evaluations-aqa273.csv saved\n"
     ]
    },
    {
     "name": "stderr",
     "output_type": "stream",
     "text": [
      "100%|███████████████████████████████████████████████████████████████████████████████████████████████████████████████████| 15/15 [00:39<00:00,  2.60s/it]\n"
     ]
    },
    {
     "name": "stdout",
     "output_type": "stream",
     "text": [
      "JSONDecodeError: Expecting ',' delimiter: line 3 column 554 (char 589)\n",
      "JSONDecodeError: Expecting ',' delimiter: line 3 column 432 (char 460)\n",
      "JSONDecodeError: Expecting ',' delimiter: line 3 column 511 (char 546)\n",
      "JSONDecodeError: Expecting value: line 1 column 1 (char 0)\n",
      "Failed to fix JSON string: Expecting value: line 1 column 1 (char 0)\n",
      "JSONDecodeError: Expecting value: line 1 column 1 (char 0)\n",
      "Failed to fix JSON string: Expecting value: line 1 column 1 (char 0)\n",
      "JSONDecodeError: Expecting ',' delimiter: line 3 column 568 (char 596)\n",
      "JSONDecodeError: Expecting ',' delimiter: line 3 column 436 (char 464)\n",
      "JSONDecodeError: Expecting ',' delimiter: line 3 column 268 (char 296)\n",
      "evaluations-aqa274.csv saved\n"
     ]
    },
    {
     "name": "stderr",
     "output_type": "stream",
     "text": [
      "100%|███████████████████████████████████████████████████████████████████████████████████████████████████████████████████| 15/15 [00:39<00:00,  2.66s/it]\n"
     ]
    },
    {
     "name": "stdout",
     "output_type": "stream",
     "text": [
      "JSONDecodeError: Expecting value: line 1 column 1 (char 0)\n",
      "Failed to fix JSON string: Expecting value: line 1 column 1 (char 0)\n",
      "JSONDecodeError: Expecting ',' delimiter: line 3 column 463 (char 491)\n",
      "JSONDecodeError: Expecting ',' delimiter: line 3 column 576 (char 604)\n",
      "JSONDecodeError: Expecting value: line 1 column 1 (char 0)\n",
      "Failed to fix JSON string: Expecting value: line 1 column 1 (char 0)\n",
      "JSONDecodeError: Expecting ',' delimiter: line 3 column 424 (char 459)\n",
      "JSONDecodeError: Expecting ',' delimiter: line 3 column 366 (char 399)\n",
      "JSONDecodeError: Expecting ',' delimiter: line 3 column 334 (char 362)\n",
      "JSONDecodeError: Expecting ',' delimiter: line 3 column 340 (char 368)\n",
      "JSONDecodeError: Expecting ',' delimiter: line 3 column 355 (char 390)\n",
      "JSONDecodeError: Expecting ',' delimiter: line 3 column 356 (char 384)\n",
      "evaluations-aqa275.csv saved\n"
     ]
    },
    {
     "name": "stderr",
     "output_type": "stream",
     "text": [
      "100%|███████████████████████████████████████████████████████████████████████████████████████████████████████████████████| 15/15 [00:38<00:00,  2.59s/it]\n"
     ]
    },
    {
     "name": "stdout",
     "output_type": "stream",
     "text": [
      "JSONDecodeError: Expecting ',' delimiter: line 3 column 368 (char 396)\n",
      "JSONDecodeError: Expecting ',' delimiter: line 3 column 364 (char 392)\n",
      "JSONDecodeError: Expecting ',' delimiter: line 3 column 253 (char 285)\n",
      "JSONDecodeError: Expecting ',' delimiter: line 3 column 560 (char 595)\n",
      "evaluations-aqa276.csv saved\n"
     ]
    },
    {
     "name": "stderr",
     "output_type": "stream",
     "text": [
      "100%|███████████████████████████████████████████████████████████████████████████████████████████████████████████████████| 15/15 [00:39<00:00,  2.62s/it]\n"
     ]
    },
    {
     "name": "stdout",
     "output_type": "stream",
     "text": [
      "JSONDecodeError: Expecting value: line 1 column 1 (char 0)\n",
      "Failed to fix JSON string: Expecting value: line 1 column 1 (char 0)\n",
      "JSONDecodeError: Expecting ',' delimiter: line 3 column 350 (char 385)\n",
      "JSONDecodeError: Expecting ',' delimiter: line 3 column 394 (char 429)\n",
      "JSONDecodeError: Expecting ',' delimiter: line 3 column 637 (char 670)\n",
      "evaluations-aqa277.csv saved\n"
     ]
    },
    {
     "name": "stderr",
     "output_type": "stream",
     "text": [
      "100%|███████████████████████████████████████████████████| 15/15 [00:38<00:00,  2.60s/it]\n"
     ]
    },
    {
     "name": "stdout",
     "output_type": "stream",
     "text": [
      "JSONDecodeError: Expecting value: line 1 column 1 (char 0)\n",
      "Failed to fix JSON string: Expecting value: line 1 column 1 (char 0)\n",
      "JSONDecodeError: Expecting value: line 1 column 1 (char 0)\n",
      "Failed to fix JSON string: Expecting value: line 1 column 1 (char 0)\n",
      "JSONDecodeError: Expecting ',' delimiter: line 3 column 377 (char 405)\n",
      "JSONDecodeError: Expecting ',' delimiter: line 3 column 287 (char 313)\n",
      "JSONDecodeError: Expecting ',' delimiter: line 3 column 243 (char 269)\n",
      "JSONDecodeError: Expecting ',' delimiter: line 3 column 483 (char 518)\n",
      "JSONDecodeError: Expecting ',' delimiter: line 3 column 257 (char 285)\n",
      "JSONDecodeError: Expecting ',' delimiter: line 3 column 273 (char 305)\n",
      "evaluations-aqa278.csv saved\n"
     ]
    },
    {
     "name": "stderr",
     "output_type": "stream",
     "text": [
      "100%|███████████████████████████████████████████████████| 15/15 [00:39<00:00,  2.66s/it]\n"
     ]
    },
    {
     "name": "stdout",
     "output_type": "stream",
     "text": [
      "JSONDecodeError: Expecting value: line 1 column 1 (char 0)\n",
      "Failed to fix JSON string: Expecting value: line 1 column 1 (char 0)\n",
      "JSONDecodeError: Expecting ',' delimiter: line 3 column 492 (char 527)\n",
      "JSONDecodeError: Expecting ',' delimiter: line 3 column 278 (char 306)\n",
      "JSONDecodeError: Expecting ',' delimiter: line 3 column 479 (char 514)\n",
      "JSONDecodeError: Expecting ',' delimiter: line 3 column 459 (char 494)\n",
      "JSONDecodeError: Expecting ',' delimiter: line 3 column 327 (char 359)\n",
      "JSONDecodeError: Expecting ',' delimiter: line 3 column 663 (char 698)\n",
      "JSONDecodeError: Expecting ',' delimiter: line 3 column 612 (char 640)\n",
      "evaluations-aqa279.csv saved\n"
     ]
    },
    {
     "name": "stderr",
     "output_type": "stream",
     "text": [
      "100%|███████████████████████████████████████████████████| 15/15 [00:38<00:00,  2.59s/it]\n"
     ]
    },
    {
     "name": "stdout",
     "output_type": "stream",
     "text": [
      "JSONDecodeError: Expecting ',' delimiter: line 3 column 233 (char 261)\n",
      "JSONDecodeError: Expecting ',' delimiter: line 3 column 456 (char 484)\n",
      "JSONDecodeError: Expecting ',' delimiter: line 3 column 420 (char 448)\n",
      "JSONDecodeError: Expecting ',' delimiter: line 3 column 369 (char 401)\n",
      "JSONDecodeError: Expecting ',' delimiter: line 3 column 647 (char 673)\n",
      "JSONDecodeError: Expecting ',' delimiter: line 3 column 467 (char 493)\n",
      "JSONDecodeError: Expecting ',' delimiter: line 3 column 559 (char 587)\n",
      "JSONDecodeError: Expecting ',' delimiter: line 3 column 444 (char 477)\n",
      "evaluations-aqa280.csv saved\n"
     ]
    },
    {
     "name": "stderr",
     "output_type": "stream",
     "text": [
      "100%|███████████████████████████████████████████████████| 15/15 [00:39<00:00,  2.67s/it]\n"
     ]
    },
    {
     "name": "stdout",
     "output_type": "stream",
     "text": [
      "JSONDecodeError: Expecting value: line 1 column 1 (char 0)\n",
      "Failed to fix JSON string: Expecting value: line 1 column 1 (char 0)\n",
      "JSONDecodeError: Expecting ',' delimiter: line 3 column 178 (char 206)\n",
      "JSONDecodeError: Expecting ',' delimiter: line 3 column 298 (char 326)\n",
      "JSONDecodeError: Expecting ',' delimiter: line 3 column 385 (char 417)\n",
      "JSONDecodeError: Expecting ',' delimiter: line 3 column 472 (char 507)\n",
      "JSONDecodeError: Expecting value: line 1 column 1 (char 0)\n",
      "Failed to fix JSON string: Expecting value: line 1 column 1 (char 0)\n",
      "JSONDecodeError: Expecting ',' delimiter: line 3 column 360 (char 388)\n",
      "JSONDecodeError: Expecting ',' delimiter: line 3 column 437 (char 463)\n",
      "evaluations-aqa281.csv saved\n"
     ]
    },
    {
     "name": "stderr",
     "output_type": "stream",
     "text": [
      "100%|███████████████████████████████████████████████████| 15/15 [00:38<00:00,  2.56s/it]\n"
     ]
    },
    {
     "name": "stdout",
     "output_type": "stream",
     "text": [
      "JSONDecodeError: Expecting ',' delimiter: line 3 column 450 (char 478)\n",
      "JSONDecodeError: Expecting ',' delimiter: line 3 column 562 (char 597)\n",
      "JSONDecodeError: Expecting ',' delimiter: line 3 column 615 (char 643)\n",
      "JSONDecodeError: Expecting ',' delimiter: line 3 column 650 (char 678)\n",
      "JSONDecodeError: Expecting value: line 1 column 1 (char 0)\n",
      "Failed to fix JSON string: Expecting value: line 1 column 1 (char 0)\n",
      "JSONDecodeError: Expecting value: line 1 column 1 (char 0)\n",
      "Failed to fix JSON string: Expecting value: line 1 column 1 (char 0)\n",
      "JSONDecodeError: Expecting ',' delimiter: line 3 column 513 (char 548)\n",
      "JSONDecodeError: Expecting ',' delimiter: line 3 column 363 (char 391)\n",
      "evaluations-aqa282.csv saved\n"
     ]
    },
    {
     "name": "stderr",
     "output_type": "stream",
     "text": [
      "100%|███████████████████████████████████████████████████| 15/15 [00:39<00:00,  2.61s/it]\n"
     ]
    },
    {
     "name": "stdout",
     "output_type": "stream",
     "text": [
      "JSONDecodeError: Expecting ',' delimiter: line 3 column 431 (char 466)\n",
      "JSONDecodeError: Expecting ',' delimiter: line 3 column 537 (char 565)\n",
      "JSONDecodeError: Expecting ',' delimiter: line 3 column 485 (char 520)\n",
      "JSONDecodeError: Expecting value: line 1 column 1 (char 0)\n",
      "Failed to fix JSON string: Expecting value: line 1 column 1 (char 0)\n",
      "JSONDecodeError: Expecting ',' delimiter: line 3 column 353 (char 379)\n",
      "JSONDecodeError: Expecting ',' delimiter: line 3 column 368 (char 396)\n",
      "JSONDecodeError: Expecting ',' delimiter: line 3 column 445 (char 480)\n",
      "JSONDecodeError: Expecting ',' delimiter: line 3 column 476 (char 508)\n",
      "evaluations-aqa283.csv saved\n"
     ]
    },
    {
     "name": "stderr",
     "output_type": "stream",
     "text": [
      "100%|███████████████████████████████████████████████████| 15/15 [00:39<00:00,  2.60s/it]\n"
     ]
    },
    {
     "name": "stdout",
     "output_type": "stream",
     "text": [
      "JSONDecodeError: Expecting ',' delimiter: line 3 column 584 (char 612)\n",
      "JSONDecodeError: Expecting ',' delimiter: line 3 column 436 (char 464)\n",
      "JSONDecodeError: Expecting ',' delimiter: line 3 column 285 (char 313)\n",
      "JSONDecodeError: Expecting ',' delimiter: line 3 column 310 (char 336)\n",
      "JSONDecodeError: Expecting ',' delimiter: line 3 column 411 (char 446)\n",
      "JSONDecodeError: Expecting ',' delimiter: line 3 column 382 (char 410)\n",
      "JSONDecodeError: Expecting value: line 1 column 1 (char 0)\n",
      "Failed to fix JSON string: Expecting value: line 1 column 1 (char 0)\n",
      "JSONDecodeError: Expecting ',' delimiter: line 3 column 338 (char 366)\n",
      "JSONDecodeError: Expecting ',' delimiter: line 3 column 467 (char 502)\n",
      "JSONDecodeError: Expecting ',' delimiter: line 3 column 384 (char 412)\n",
      "JSONDecodeError: Expecting ',' delimiter: line 3 column 615 (char 650)\n",
      "evaluations-aqa284.csv saved\n"
     ]
    },
    {
     "name": "stderr",
     "output_type": "stream",
     "text": [
      "100%|███████████████████████████████████████████████████| 15/15 [00:40<00:00,  2.70s/it]\n"
     ]
    },
    {
     "name": "stdout",
     "output_type": "stream",
     "text": [
      "JSONDecodeError: Expecting value: line 1 column 1 (char 0)\n",
      "Failed to fix JSON string: Expecting value: line 1 column 1 (char 0)\n",
      "JSONDecodeError: Expecting value: line 1 column 1 (char 0)\n",
      "Failed to fix JSON string: Expecting value: line 1 column 1 (char 0)\n",
      "JSONDecodeError: Expecting ',' delimiter: line 3 column 288 (char 323)\n",
      "JSONDecodeError: Expecting value: line 1 column 1 (char 0)\n",
      "Failed to fix JSON string: Expecting value: line 1 column 1 (char 0)\n",
      "evaluations-aqa285.csv saved\n"
     ]
    },
    {
     "name": "stderr",
     "output_type": "stream",
     "text": [
      "100%|███████████████████████████████████████████████████| 15/15 [00:38<00:00,  2.60s/it]\n"
     ]
    },
    {
     "name": "stdout",
     "output_type": "stream",
     "text": [
      "JSONDecodeError: Expecting ',' delimiter: line 3 column 329 (char 357)\n",
      "JSONDecodeError: Expecting ',' delimiter: line 3 column 493 (char 521)\n",
      "JSONDecodeError: Unterminated string starting at: line 3 column 18 (char 53)\n",
      "Failed to fix JSON string: Unterminated string starting at: line 3 column 18 (char 53)\n",
      "JSONDecodeError: Expecting ',' delimiter: line 3 column 518 (char 546)\n",
      "JSONDecodeError: Expecting ',' delimiter: line 3 column 570 (char 596)\n",
      "JSONDecodeError: Expecting ',' delimiter: line 3 column 310 (char 336)\n",
      "JSONDecodeError: Expecting ',' delimiter: line 3 column 355 (char 381)\n",
      "evaluations-aqa286.csv saved\n"
     ]
    },
    {
     "name": "stderr",
     "output_type": "stream",
     "text": [
      "100%|███████████████████████████████████████████████████| 15/15 [00:39<00:00,  2.60s/it]\n"
     ]
    },
    {
     "name": "stdout",
     "output_type": "stream",
     "text": [
      "JSONDecodeError: Expecting ',' delimiter: line 3 column 408 (char 443)\n",
      "JSONDecodeError: Expecting ',' delimiter: line 3 column 467 (char 495)\n",
      "JSONDecodeError: Expecting ',' delimiter: line 3 column 275 (char 301)\n",
      "JSONDecodeError: Expecting ',' delimiter: line 3 column 370 (char 398)\n",
      "JSONDecodeError: Expecting ',' delimiter: line 3 column 377 (char 412)\n",
      "JSONDecodeError: Expecting ',' delimiter: line 3 column 393 (char 421)\n",
      "JSONDecodeError: Expecting ',' delimiter: line 3 column 456 (char 484)\n",
      "evaluations-aqa287.csv saved\n"
     ]
    },
    {
     "name": "stderr",
     "output_type": "stream",
     "text": [
      "100%|███████████████████████████████████████████████████| 15/15 [00:39<00:00,  2.66s/it]\n"
     ]
    },
    {
     "name": "stdout",
     "output_type": "stream",
     "text": [
      "JSONDecodeError: Expecting value: line 1 column 1 (char 0)\n",
      "Failed to fix JSON string: Expecting value: line 1 column 1 (char 0)\n",
      "JSONDecodeError: Expecting ',' delimiter: line 3 column 446 (char 481)\n",
      "JSONDecodeError: Expecting ',' delimiter: line 3 column 496 (char 531)\n",
      "JSONDecodeError: Expecting value: line 1 column 1 (char 0)\n",
      "Failed to fix JSON string: Expecting value: line 1 column 1 (char 0)\n",
      "JSONDecodeError: Expecting ',' delimiter: line 3 column 491 (char 517)\n",
      "JSONDecodeError: Expecting ',' delimiter: line 3 column 415 (char 443)\n",
      "JSONDecodeError: Expecting ',' delimiter: line 3 column 341 (char 367)\n",
      "JSONDecodeError: Expecting ',' delimiter: line 3 column 448 (char 483)\n",
      "evaluations-aqa288.csv saved\n"
     ]
    },
    {
     "name": "stderr",
     "output_type": "stream",
     "text": [
      "100%|███████████████████████████████████████████████████| 15/15 [00:39<00:00,  2.63s/it]\n"
     ]
    },
    {
     "name": "stdout",
     "output_type": "stream",
     "text": [
      "JSONDecodeError: Expecting value: line 1 column 1 (char 0)\n",
      "Failed to fix JSON string: Expecting value: line 1 column 1 (char 0)\n",
      "JSONDecodeError: Expecting value: line 1 column 1 (char 0)\n",
      "Failed to fix JSON string: Expecting value: line 1 column 1 (char 0)\n",
      "JSONDecodeError: Expecting value: line 1 column 1 (char 0)\n",
      "Failed to fix JSON string: Expecting value: line 1 column 1 (char 0)\n",
      "JSONDecodeError: Expecting ',' delimiter: line 3 column 505 (char 540)\n",
      "JSONDecodeError: Expecting value: line 1 column 1 (char 0)\n",
      "Failed to fix JSON string: Expecting value: line 1 column 1 (char 0)\n",
      "JSONDecodeError: Expecting ',' delimiter: line 3 column 462 (char 494)\n",
      "JSONDecodeError: Expecting ',' delimiter: line 3 column 227 (char 259)\n",
      "JSONDecodeError: Expecting ',' delimiter: line 3 column 518 (char 553)\n",
      "JSONDecodeError: Expecting value: line 1 column 1 (char 0)\n",
      "Failed to fix JSON string: Expecting value: line 1 column 1 (char 0)\n",
      "JSONDecodeError: Expecting ',' delimiter: line 3 column 516 (char 544)\n",
      "JSONDecodeError: Expecting ',' delimiter: line 3 column 461 (char 489)\n",
      "JSONDecodeError: Expecting ',' delimiter: line 3 column 439 (char 467)\n",
      "JSONDecodeError: Expecting value: line 1 column 1 (char 0)\n",
      "Failed to fix JSON string: Expecting value: line 1 column 1 (char 0)\n",
      "evaluations-aqa289.csv saved\n"
     ]
    },
    {
     "name": "stderr",
     "output_type": "stream",
     "text": [
      "100%|███████████████████████████████████████████████████| 15/15 [00:39<00:00,  2.66s/it]\n"
     ]
    },
    {
     "name": "stdout",
     "output_type": "stream",
     "text": [
      "JSONDecodeError: Expecting ',' delimiter: line 3 column 394 (char 422)\n",
      "JSONDecodeError: Expecting value: line 1 column 1 (char 0)\n",
      "Failed to fix JSON string: Expecting value: line 1 column 1 (char 0)\n",
      "JSONDecodeError: Expecting value: line 1 column 1 (char 0)\n",
      "Failed to fix JSON string: Expecting value: line 1 column 1 (char 0)\n",
      "JSONDecodeError: Expecting value: line 1 column 1 (char 0)\n",
      "Failed to fix JSON string: Expecting value: line 1 column 1 (char 0)\n",
      "JSONDecodeError: Expecting ',' delimiter: line 3 column 371 (char 406)\n",
      "JSONDecodeError: Expecting ',' delimiter: line 3 column 373 (char 405)\n",
      "JSONDecodeError: Expecting ',' delimiter: line 3 column 651 (char 684)\n",
      "JSONDecodeError: Expecting ',' delimiter: line 3 column 275 (char 305)\n",
      "JSONDecodeError: Expecting value: line 1 column 1 (char 0)\n",
      "Failed to fix JSON string: Expecting value: line 1 column 1 (char 0)\n",
      "JSONDecodeError: Expecting value: line 1 column 1 (char 0)\n",
      "Failed to fix JSON string: Expecting value: line 1 column 1 (char 0)\n",
      "evaluations-aqa290.csv saved\n"
     ]
    },
    {
     "name": "stderr",
     "output_type": "stream",
     "text": [
      "100%|███████████████████████████████████████████████████| 15/15 [00:39<00:00,  2.61s/it]\n"
     ]
    },
    {
     "name": "stdout",
     "output_type": "stream",
     "text": [
      "JSONDecodeError: Expecting ',' delimiter: line 3 column 421 (char 449)\n",
      "JSONDecodeError: Expecting ',' delimiter: line 3 column 302 (char 330)\n",
      "JSONDecodeError: Expecting ',' delimiter: line 3 column 321 (char 349)\n",
      "JSONDecodeError: Expecting ',' delimiter: line 3 column 362 (char 397)\n",
      "JSONDecodeError: Expecting ',' delimiter: line 3 column 295 (char 323)\n",
      "JSONDecodeError: Expecting value: line 1 column 1 (char 0)\n",
      "Failed to fix JSON string: Expecting value: line 1 column 1 (char 0)\n",
      "JSONDecodeError: Expecting ',' delimiter: line 3 column 332 (char 360)\n",
      "JSONDecodeError: Expecting ',' delimiter: line 3 column 436 (char 469)\n",
      "evaluations-aqa291.csv saved\n"
     ]
    },
    {
     "name": "stderr",
     "output_type": "stream",
     "text": [
      "100%|███████████████████████████████████████████████████| 15/15 [00:39<00:00,  2.64s/it]\n"
     ]
    },
    {
     "name": "stdout",
     "output_type": "stream",
     "text": [
      "JSONDecodeError: Expecting ',' delimiter: line 3 column 439 (char 474)\n",
      "JSONDecodeError: Expecting ',' delimiter: line 3 column 481 (char 513)\n",
      "JSONDecodeError: Expecting value: line 1 column 1 (char 0)\n",
      "Failed to fix JSON string: Expecting value: line 1 column 1 (char 0)\n",
      "JSONDecodeError: Expecting ',' delimiter: line 3 column 389 (char 421)\n",
      "JSONDecodeError: Expecting ',' delimiter: line 3 column 281 (char 316)\n",
      "JSONDecodeError: Expecting ',' delimiter: line 3 column 451 (char 479)\n",
      "JSONDecodeError: Expecting ',' delimiter: line 3 column 299 (char 327)\n",
      "JSONDecodeError: Expecting value: line 1 column 1 (char 0)\n",
      "Failed to fix JSON string: Expecting value: line 1 column 1 (char 0)\n",
      "JSONDecodeError: Expecting ',' delimiter: line 3 column 330 (char 358)\n",
      "JSONDecodeError: Expecting ',' delimiter: line 3 column 317 (char 345)\n",
      "evaluations-aqa292.csv saved\n"
     ]
    },
    {
     "name": "stderr",
     "output_type": "stream",
     "text": [
      "100%|███████████████████████████████████████████████████| 15/15 [00:39<00:00,  2.61s/it]\n"
     ]
    },
    {
     "name": "stdout",
     "output_type": "stream",
     "text": [
      "JSONDecodeError: Expecting ',' delimiter: line 3 column 523 (char 551)\n",
      "JSONDecodeError: Expecting ',' delimiter: line 3 column 209 (char 237)\n",
      "JSONDecodeError: Expecting ',' delimiter: line 3 column 325 (char 357)\n",
      "JSONDecodeError: Expecting value: line 1 column 1 (char 0)\n",
      "Failed to fix JSON string: Expecting value: line 1 column 1 (char 0)\n",
      "JSONDecodeError: Expecting value: line 1 column 1 (char 0)\n",
      "Failed to fix JSON string: Expecting value: line 1 column 1 (char 0)\n",
      "JSONDecodeError: Expecting value: line 1 column 1 (char 0)\n",
      "Failed to fix JSON string: Expecting value: line 1 column 1 (char 0)\n",
      "evaluations-aqa293.csv saved\n"
     ]
    },
    {
     "name": "stderr",
     "output_type": "stream",
     "text": [
      "100%|███████████████████████████████████████████████████| 15/15 [00:39<00:00,  2.61s/it]\n"
     ]
    },
    {
     "name": "stdout",
     "output_type": "stream",
     "text": [
      "JSONDecodeError: Expecting ',' delimiter: line 3 column 284 (char 312)\n",
      "JSONDecodeError: Expecting value: line 1 column 1 (char 0)\n",
      "Failed to fix JSON string: Expecting value: line 1 column 1 (char 0)\n",
      "JSONDecodeError: Expecting value: line 1 column 1 (char 0)\n",
      "Failed to fix JSON string: Expecting value: line 1 column 1 (char 0)\n",
      "JSONDecodeError: Expecting ',' delimiter: line 3 column 594 (char 629)\n",
      "JSONDecodeError: Expecting ',' delimiter: line 3 column 311 (char 339)\n",
      "JSONDecodeError: Expecting ',' delimiter: line 3 column 286 (char 312)\n",
      "JSONDecodeError: Expecting ',' delimiter: line 3 column 429 (char 464)\n",
      "JSONDecodeError: Expecting ',' delimiter: line 3 column 551 (char 577)\n",
      "JSONDecodeError: Expecting value: line 1 column 1 (char 0)\n",
      "Failed to fix JSON string: Expecting value: line 1 column 1 (char 0)\n",
      "evaluations-aqa294.csv saved\n"
     ]
    },
    {
     "name": "stderr",
     "output_type": "stream",
     "text": [
      "100%|███████████████████████████████████████████████████| 15/15 [00:39<00:00,  2.64s/it]\n"
     ]
    },
    {
     "name": "stdout",
     "output_type": "stream",
     "text": [
      "JSONDecodeError: Expecting ',' delimiter: line 3 column 417 (char 445)\n",
      "JSONDecodeError: Expecting ',' delimiter: line 3 column 578 (char 606)\n",
      "JSONDecodeError: Expecting value: line 1 column 1 (char 0)\n",
      "Failed to fix JSON string: Expecting value: line 1 column 1 (char 0)\n",
      "JSONDecodeError: Expecting ',' delimiter: line 3 column 773 (char 801)\n",
      "JSONDecodeError: Expecting value: line 1 column 1 (char 0)\n",
      "Failed to fix JSON string: Expecting value: line 1 column 1 (char 0)\n",
      "JSONDecodeError: Expecting ',' delimiter: line 3 column 457 (char 485)\n",
      "JSONDecodeError: Expecting ',' delimiter: line 3 column 518 (char 551)\n",
      "evaluations-aqa295.csv saved\n"
     ]
    },
    {
     "name": "stderr",
     "output_type": "stream",
     "text": [
      "100%|████████| 15/15 [00:39<00:00,  2.67s/it]\n"
     ]
    },
    {
     "name": "stdout",
     "output_type": "stream",
     "text": [
      "JSONDecodeError: Expecting ',' delimiter: line 3 column 283 (char 311)\n",
      "JSONDecodeError: Expecting value: line 1 column 1 (char 0)\n",
      "Failed to fix JSON string: Expecting value: line 1 column 1 (char 0)\n",
      "JSONDecodeError: Expecting value: line 1 column 1 (char 0)\n",
      "Failed to fix JSON string: Expecting value: line 1 column 1 (char 0)\n",
      "JSONDecodeError: Expecting ',' delimiter: line 3 column 418 (char 453)\n",
      "JSONDecodeError: Expecting value: line 1 column 1 (char 0)\n",
      "Failed to fix JSON string: Expecting value: line 1 column 1 (char 0)\n",
      "JSONDecodeError: Expecting ',' delimiter: line 3 column 525 (char 560)\n",
      "JSONDecodeError: Expecting ',' delimiter: line 3 column 368 (char 396)\n",
      "JSONDecodeError: Expecting ',' delimiter: line 3 column 222 (char 250)\n",
      "JSONDecodeError: Expecting ',' delimiter: line 3 column 400 (char 435)\n",
      "evaluations-aqa296.csv saved\n"
     ]
    },
    {
     "name": "stderr",
     "output_type": "stream",
     "text": [
      "100%|████████| 15/15 [00:39<00:00,  2.64s/it]\n"
     ]
    },
    {
     "name": "stdout",
     "output_type": "stream",
     "text": [
      "JSONDecodeError: Expecting value: line 1 column 1 (char 0)\n",
      "Failed to fix JSON string: Expecting value: line 1 column 1 (char 0)\n",
      "JSONDecodeError: Expecting value: line 1 column 1 (char 0)\n",
      "Failed to fix JSON string: Expecting value: line 1 column 1 (char 0)\n",
      "JSONDecodeError: Expecting ',' delimiter: line 3 column 375 (char 403)\n",
      "JSONDecodeError: Expecting ',' delimiter: line 3 column 615 (char 647)\n",
      "JSONDecodeError: Expecting value: line 1 column 1 (char 0)\n",
      "Failed to fix JSON string: Expecting value: line 1 column 1 (char 0)\n",
      "JSONDecodeError: Expecting value: line 1 column 1 (char 0)\n",
      "Failed to fix JSON string: Expecting value: line 1 column 1 (char 0)\n",
      "JSONDecodeError: Expecting ',' delimiter: line 3 column 364 (char 392)\n",
      "JSONDecodeError: Expecting ',' delimiter: line 3 column 297 (char 325)\n",
      "evaluations-aqa297.csv saved\n"
     ]
    },
    {
     "name": "stderr",
     "output_type": "stream",
     "text": [
      "100%|████████| 15/15 [00:38<00:00,  2.60s/it]\n"
     ]
    },
    {
     "name": "stdout",
     "output_type": "stream",
     "text": [
      "JSONDecodeError: Expecting ',' delimiter: line 3 column 690 (char 718)\n",
      "JSONDecodeError: Expecting value: line 1 column 1 (char 0)\n",
      "Failed to fix JSON string: Expecting value: line 1 column 1 (char 0)\n",
      "JSONDecodeError: Expecting ',' delimiter: line 3 column 203 (char 235)\n",
      "JSONDecodeError: Expecting ',' delimiter: line 3 column 312 (char 344)\n",
      "JSONDecodeError: Expecting value: line 1 column 1 (char 0)\n",
      "Failed to fix JSON string: Expecting value: line 1 column 1 (char 0)\n",
      "JSONDecodeError: Expecting ',' delimiter: line 3 column 499 (char 532)\n",
      "JSONDecodeError: Expecting ',' delimiter: line 3 column 326 (char 354)\n",
      "JSONDecodeError: Expecting ',' delimiter: line 3 column 472 (char 507)\n",
      "JSONDecodeError: Expecting value: line 1 column 1 (char 0)\n",
      "Failed to fix JSON string: Expecting value: line 1 column 1 (char 0)\n",
      "evaluations-aqa298.csv saved\n"
     ]
    },
    {
     "name": "stderr",
     "output_type": "stream",
     "text": [
      "100%|████████| 15/15 [00:38<00:00,  2.60s/it]\n"
     ]
    },
    {
     "name": "stdout",
     "output_type": "stream",
     "text": [
      "JSONDecodeError: Expecting ',' delimiter: line 3 column 464 (char 499)\n",
      "JSONDecodeError: Expecting ',' delimiter: line 3 column 466 (char 501)\n",
      "JSONDecodeError: Expecting ',' delimiter: line 3 column 354 (char 386)\n",
      "JSONDecodeError: Expecting ',' delimiter: line 3 column 340 (char 372)\n",
      "JSONDecodeError: Expecting value: line 1 column 1 (char 0)\n",
      "Failed to fix JSON string: Expecting value: line 1 column 1 (char 0)\n",
      "JSONDecodeError: Expecting ',' delimiter: line 3 column 661 (char 689)\n",
      "JSONDecodeError: Expecting value: line 1 column 1 (char 0)\n",
      "Failed to fix JSON string: Expecting value: line 1 column 1 (char 0)\n",
      "JSONDecodeError: Expecting value: line 1 column 1 (char 0)\n",
      "Failed to fix JSON string: Expecting value: line 1 column 1 (char 0)\n",
      "JSONDecodeError: Expecting value: line 1 column 1 (char 0)\n",
      "Failed to fix JSON string: Expecting value: line 1 column 1 (char 0)\n",
      "evaluations-aqa299.csv saved\n"
     ]
    },
    {
     "name": "stderr",
     "output_type": "stream",
     "text": [
      "100%|████████| 15/15 [00:39<00:00,  2.64s/it]\n"
     ]
    },
    {
     "name": "stdout",
     "output_type": "stream",
     "text": [
      "JSONDecodeError: Expecting ',' delimiter: line 3 column 466 (char 492)\n",
      "JSONDecodeError: Expecting value: line 1 column 1 (char 0)\n",
      "Failed to fix JSON string: Expecting value: line 1 column 1 (char 0)\n",
      "JSONDecodeError: Expecting value: line 1 column 1 (char 0)\n",
      "Failed to fix JSON string: Expecting value: line 1 column 1 (char 0)\n",
      "JSONDecodeError: Expecting ',' delimiter: line 3 column 367 (char 395)\n",
      "JSONDecodeError: Expecting ',' delimiter: line 3 column 475 (char 503)\n",
      "JSONDecodeError: Expecting ',' delimiter: line 3 column 618 (char 653)\n",
      "JSONDecodeError: Expecting ',' delimiter: line 3 column 530 (char 562)\n",
      "evaluations-aqa300.csv saved\n"
     ]
    },
    {
     "name": "stderr",
     "output_type": "stream",
     "text": [
      "100%|████████| 15/15 [00:39<00:00,  2.63s/it]\n"
     ]
    },
    {
     "name": "stdout",
     "output_type": "stream",
     "text": [
      "JSONDecodeError: Expecting value: line 1 column 1 (char 0)\n",
      "Failed to fix JSON string: Expecting value: line 1 column 1 (char 0)\n",
      "JSONDecodeError: Expecting value: line 1 column 1 (char 0)\n",
      "Failed to fix JSON string: Expecting value: line 1 column 1 (char 0)\n",
      "JSONDecodeError: Expecting ',' delimiter: line 3 column 643 (char 673)\n",
      "JSONDecodeError: Expecting ',' delimiter: line 3 column 366 (char 394)\n",
      "JSONDecodeError: Expecting ',' delimiter: line 3 column 541 (char 576)\n",
      "JSONDecodeError: Expecting value: line 1 column 1 (char 0)\n",
      "Failed to fix JSON string: Expecting value: line 1 column 1 (char 0)\n",
      "JSONDecodeError: Expecting ',' delimiter: line 3 column 377 (char 405)\n",
      "JSONDecodeError: Expecting ',' delimiter: line 3 column 597 (char 625)\n",
      "JSONDecodeError: Expecting value: line 1 column 1 (char 0)\n",
      "Failed to fix JSON string: Expecting value: line 1 column 1 (char 0)\n",
      "evaluations-aqa301.csv saved\n"
     ]
    },
    {
     "name": "stderr",
     "output_type": "stream",
     "text": [
      "100%|████████| 15/15 [00:39<00:00,  2.61s/it]\n"
     ]
    },
    {
     "name": "stdout",
     "output_type": "stream",
     "text": [
      "JSONDecodeError: Expecting ',' delimiter: line 3 column 284 (char 310)\n",
      "JSONDecodeError: Expecting ',' delimiter: line 3 column 496 (char 524)\n",
      "JSONDecodeError: Expecting value: line 1 column 1 (char 0)\n",
      "Failed to fix JSON string: Expecting value: line 1 column 1 (char 0)\n",
      "JSONDecodeError: Expecting ',' delimiter: line 3 column 383 (char 415)\n",
      "JSONDecodeError: Expecting ',' delimiter: line 3 column 297 (char 325)\n",
      "evaluations-aqa302.csv saved\n"
     ]
    },
    {
     "name": "stderr",
     "output_type": "stream",
     "text": [
      "100%|████████| 15/15 [00:39<00:00,  2.61s/it]\n"
     ]
    },
    {
     "name": "stdout",
     "output_type": "stream",
     "text": [
      "JSONDecodeError: Expecting ',' delimiter: line 3 column 506 (char 534)\n",
      "JSONDecodeError: Expecting ',' delimiter: line 3 column 287 (char 315)\n",
      "JSONDecodeError: Expecting ',' delimiter: line 3 column 219 (char 247)\n",
      "JSONDecodeError: Expecting value: line 1 column 1 (char 0)\n",
      "Failed to fix JSON string: Expecting value: line 1 column 1 (char 0)\n",
      "JSONDecodeError: Expecting value: line 1 column 1 (char 0)\n",
      "Failed to fix JSON string: Expecting value: line 1 column 1 (char 0)\n",
      "JSONDecodeError: Expecting ',' delimiter: line 3 column 541 (char 569)\n",
      "JSONDecodeError: Expecting ',' delimiter: line 3 column 636 (char 664)\n",
      "JSONDecodeError: Expecting value: line 1 column 1 (char 0)\n",
      "Failed to fix JSON string: Expecting value: line 1 column 1 (char 0)\n",
      "evaluations-aqa303.csv saved\n"
     ]
    },
    {
     "name": "stderr",
     "output_type": "stream",
     "text": [
      "100%|████████| 15/15 [00:39<00:00,  2.60s/it]\n"
     ]
    },
    {
     "name": "stdout",
     "output_type": "stream",
     "text": [
      "JSONDecodeError: Expecting value: line 1 column 1 (char 0)\n",
      "Failed to fix JSON string: Expecting value: line 1 column 1 (char 0)\n",
      "JSONDecodeError: Expecting ',' delimiter: line 3 column 491 (char 519)\n",
      "JSONDecodeError: Expecting ',' delimiter: line 3 column 372 (char 407)\n",
      "JSONDecodeError: Expecting ',' delimiter: line 3 column 277 (char 305)\n",
      "JSONDecodeError: Expecting ',' delimiter: line 3 column 617 (char 652)\n",
      "JSONDecodeError: Expecting value: line 1 column 1 (char 0)\n",
      "Failed to fix JSON string: Expecting value: line 1 column 1 (char 0)\n",
      "JSONDecodeError: Expecting value: line 1 column 1 (char 0)\n",
      "Failed to fix JSON string: Expecting value: line 1 column 1 (char 0)\n",
      "evaluations-aqa304.csv saved\n"
     ]
    },
    {
     "name": "stderr",
     "output_type": "stream",
     "text": [
      "100%|████████| 15/15 [00:38<00:00,  2.54s/it]\n"
     ]
    },
    {
     "name": "stdout",
     "output_type": "stream",
     "text": [
      "JSONDecodeError: Expecting ',' delimiter: line 3 column 357 (char 385)\n",
      "JSONDecodeError: Expecting ',' delimiter: line 3 column 391 (char 419)\n",
      "JSONDecodeError: Expecting ',' delimiter: line 3 column 461 (char 496)\n",
      "JSONDecodeError: Expecting ',' delimiter: line 3 column 420 (char 455)\n",
      "JSONDecodeError: Expecting ',' delimiter: line 3 column 483 (char 518)\n",
      "JSONDecodeError: Expecting ',' delimiter: line 3 column 350 (char 378)\n",
      "evaluations-aqa305.csv saved\n"
     ]
    },
    {
     "name": "stderr",
     "output_type": "stream",
     "text": [
      "100%|████████| 15/15 [00:38<00:00,  2.56s/it]\n"
     ]
    },
    {
     "name": "stdout",
     "output_type": "stream",
     "text": [
      "JSONDecodeError: Expecting ',' delimiter: line 3 column 561 (char 589)\n",
      "JSONDecodeError: Expecting ',' delimiter: line 3 column 329 (char 361)\n",
      "JSONDecodeError: Expecting ',' delimiter: line 3 column 370 (char 405)\n",
      "JSONDecodeError: Expecting ',' delimiter: line 3 column 303 (char 335)\n",
      "JSONDecodeError: Expecting value: line 1 column 1 (char 0)\n",
      "Failed to fix JSON string: Expecting value: line 1 column 1 (char 0)\n",
      "JSONDecodeError: Expecting ',' delimiter: line 3 column 382 (char 408)\n",
      "JSONDecodeError: Expecting value: line 1 column 1 (char 0)\n",
      "Failed to fix JSON string: Expecting value: line 1 column 1 (char 0)\n",
      "JSONDecodeError: Expecting ',' delimiter: line 3 column 407 (char 437)\n",
      "evaluations-aqa306.csv saved\n"
     ]
    },
    {
     "name": "stderr",
     "output_type": "stream",
     "text": [
      "100%|████████| 15/15 [00:38<00:00,  2.59s/it]\n"
     ]
    },
    {
     "name": "stdout",
     "output_type": "stream",
     "text": [
      "JSONDecodeError: Expecting ',' delimiter: line 3 column 447 (char 475)\n",
      "JSONDecodeError: Expecting ',' delimiter: line 3 column 497 (char 525)\n",
      "JSONDecodeError: Expecting ',' delimiter: line 3 column 422 (char 457)\n",
      "JSONDecodeError: Expecting ',' delimiter: line 3 column 509 (char 535)\n",
      "JSONDecodeError: Expecting ',' delimiter: line 3 column 302 (char 330)\n",
      "JSONDecodeError: Expecting value: line 1 column 1 (char 0)\n",
      "Failed to fix JSON string: Expecting value: line 1 column 1 (char 0)\n",
      "JSONDecodeError: Expecting ',' delimiter: line 3 column 308 (char 336)\n",
      "JSONDecodeError: Expecting ',' delimiter: line 3 column 339 (char 374)\n",
      "JSONDecodeError: Expecting ',' delimiter: line 3 column 381 (char 409)\n",
      "JSONDecodeError: Expecting ',' delimiter: line 3 column 300 (char 333)\n",
      "evaluations-aqa307.csv saved\n"
     ]
    },
    {
     "name": "stderr",
     "output_type": "stream",
     "text": [
      "100%|████████| 15/15 [00:38<00:00,  2.56s/it]\n"
     ]
    },
    {
     "name": "stdout",
     "output_type": "stream",
     "text": [
      "JSONDecodeError: Expecting ',' delimiter: line 3 column 356 (char 386)\n",
      "JSONDecodeError: Expecting ',' delimiter: line 3 column 469 (char 502)\n",
      "JSONDecodeError: Expecting ',' delimiter: line 3 column 291 (char 319)\n",
      "JSONDecodeError: Expecting ',' delimiter: line 3 column 385 (char 413)\n",
      "JSONDecodeError: Expecting ',' delimiter: line 3 column 350 (char 376)\n",
      "JSONDecodeError: Expecting ',' delimiter: line 3 column 312 (char 347)\n",
      "JSONDecodeError: Expecting ',' delimiter: line 3 column 421 (char 451)\n",
      "evaluations-aqa308.csv saved\n"
     ]
    },
    {
     "name": "stderr",
     "output_type": "stream",
     "text": [
      "100%|████████| 15/15 [00:39<00:00,  2.61s/it]\n"
     ]
    },
    {
     "name": "stdout",
     "output_type": "stream",
     "text": [
      "JSONDecodeError: Expecting ',' delimiter: line 3 column 440 (char 475)\n",
      "JSONDecodeError: Expecting value: line 1 column 1 (char 0)\n",
      "Failed to fix JSON string: Expecting value: line 1 column 1 (char 0)\n",
      "JSONDecodeError: Expecting ',' delimiter: line 3 column 481 (char 516)\n",
      "JSONDecodeError: Expecting value: line 1 column 1 (char 0)\n",
      "Failed to fix JSON string: Expecting value: line 1 column 1 (char 0)\n",
      "JSONDecodeError: Extra data: line 6 column 1 (char 419)\n",
      "Failed to fix JSON string: Extra data: line 6 column 1 (char 419)\n",
      "JSONDecodeError: Expecting ',' delimiter: line 3 column 453 (char 481)\n",
      "JSONDecodeError: Expecting ',' delimiter: line 3 column 273 (char 301)\n",
      "JSONDecodeError: Expecting ',' delimiter: line 3 column 389 (char 417)\n",
      "evaluations-aqa309.csv saved\n"
     ]
    },
    {
     "name": "stderr",
     "output_type": "stream",
     "text": [
      "100%|████████| 15/15 [00:38<00:00,  2.57s/it]\n"
     ]
    },
    {
     "name": "stdout",
     "output_type": "stream",
     "text": [
      "JSONDecodeError: Expecting ',' delimiter: line 3 column 375 (char 403)\n",
      "JSONDecodeError: Expecting ',' delimiter: line 3 column 312 (char 340)\n",
      "JSONDecodeError: Expecting ',' delimiter: line 3 column 316 (char 344)\n",
      "JSONDecodeError: Expecting value: line 1 column 1 (char 0)\n",
      "Failed to fix JSON string: Expecting value: line 1 column 1 (char 0)\n",
      "JSONDecodeError: Expecting ',' delimiter: line 3 column 517 (char 545)\n",
      "evaluations-aqa310.csv saved\n"
     ]
    },
    {
     "name": "stderr",
     "output_type": "stream",
     "text": [
      "100%|████████| 15/15 [00:38<00:00,  2.57s/it]\n"
     ]
    },
    {
     "name": "stdout",
     "output_type": "stream",
     "text": [
      "JSONDecodeError: Expecting value: line 1 column 1 (char 0)\n",
      "Failed to fix JSON string: Expecting value: line 1 column 1 (char 0)\n",
      "JSONDecodeError: Expecting value: line 1 column 1 (char 0)\n",
      "Failed to fix JSON string: Expecting value: line 1 column 1 (char 0)\n",
      "JSONDecodeError: Expecting ',' delimiter: line 3 column 415 (char 443)\n",
      "JSONDecodeError: Expecting ',' delimiter: line 3 column 439 (char 469)\n",
      "JSONDecodeError: Expecting value: line 1 column 1 (char 0)\n",
      "Failed to fix JSON string: Expecting value: line 1 column 1 (char 0)\n",
      "JSONDecodeError: Expecting ',' delimiter: line 3 column 486 (char 518)\n",
      "JSONDecodeError: Expecting ',' delimiter: line 3 column 495 (char 523)\n",
      "JSONDecodeError: Expecting ',' delimiter: line 3 column 330 (char 365)\n",
      "JSONDecodeError: Expecting ',' delimiter: line 3 column 268 (char 296)\n",
      "evaluations-aqa311.csv saved\n"
     ]
    },
    {
     "name": "stderr",
     "output_type": "stream",
     "text": [
      "100%|███████████████████████████████████████████████████| 15/15 [00:39<00:00,  2.61s/it]\n"
     ]
    },
    {
     "name": "stdout",
     "output_type": "stream",
     "text": [
      "JSONDecodeError: Expecting ',' delimiter: line 3 column 663 (char 691)\n",
      "JSONDecodeError: Expecting value: line 1 column 1 (char 0)\n",
      "Failed to fix JSON string: Expecting value: line 1 column 1 (char 0)\n",
      "JSONDecodeError: Expecting ',' delimiter: line 3 column 250 (char 278)\n",
      "JSONDecodeError: Expecting value: line 1 column 1 (char 0)\n",
      "Failed to fix JSON string: Expecting value: line 1 column 1 (char 0)\n",
      "JSONDecodeError: Expecting ',' delimiter: line 3 column 218 (char 246)\n",
      "evaluations-aqa312.csv saved\n"
     ]
    },
    {
     "name": "stderr",
     "output_type": "stream",
     "text": [
      "100%|███████████████████████████████████████████████████| 15/15 [00:38<00:00,  2.57s/it]\n"
     ]
    },
    {
     "name": "stdout",
     "output_type": "stream",
     "text": [
      "JSONDecodeError: Expecting value: line 1 column 1 (char 0)\n",
      "Failed to fix JSON string: Expecting value: line 1 column 1 (char 0)\n",
      "JSONDecodeError: Expecting ',' delimiter: line 3 column 297 (char 325)\n",
      "JSONDecodeError: Expecting ',' delimiter: line 3 column 319 (char 347)\n",
      "JSONDecodeError: Expecting ',' delimiter: line 3 column 386 (char 414)\n",
      "JSONDecodeError: Expecting ',' delimiter: line 3 column 371 (char 406)\n",
      "JSONDecodeError: Expecting value: line 1 column 1 (char 0)\n",
      "Failed to fix JSON string: Expecting value: line 1 column 1 (char 0)\n",
      "JSONDecodeError: Expecting ',' delimiter: line 3 column 362 (char 394)\n",
      "evaluations-aqa313.csv saved\n"
     ]
    },
    {
     "name": "stderr",
     "output_type": "stream",
     "text": [
      "100%|███████████████████████████████████████████████████| 15/15 [00:39<00:00,  2.62s/it]\n"
     ]
    },
    {
     "name": "stdout",
     "output_type": "stream",
     "text": [
      "JSONDecodeError: Expecting ',' delimiter: line 3 column 480 (char 515)\n",
      "JSONDecodeError: Expecting ',' delimiter: line 3 column 328 (char 356)\n",
      "JSONDecodeError: Expecting ',' delimiter: line 3 column 491 (char 519)\n",
      "JSONDecodeError: Expecting ',' delimiter: line 3 column 488 (char 523)\n",
      "JSONDecodeError: Expecting ',' delimiter: line 3 column 482 (char 517)\n",
      "JSONDecodeError: Expecting ',' delimiter: line 3 column 474 (char 509)\n",
      "JSONDecodeError: Expecting ',' delimiter: line 3 column 417 (char 452)\n",
      "evaluations-aqa314.csv saved\n"
     ]
    },
    {
     "name": "stderr",
     "output_type": "stream",
     "text": [
      "100%|███████████████████████████████████████████████████| 15/15 [00:38<00:00,  2.55s/it]\n"
     ]
    },
    {
     "name": "stdout",
     "output_type": "stream",
     "text": [
      "JSONDecodeError: Expecting value: line 1 column 1 (char 0)\n",
      "Failed to fix JSON string: Expecting value: line 1 column 1 (char 0)\n",
      "JSONDecodeError: Expecting ',' delimiter: line 3 column 474 (char 509)\n",
      "JSONDecodeError: Expecting ',' delimiter: line 3 column 447 (char 475)\n",
      "JSONDecodeError: Expecting ',' delimiter: line 3 column 338 (char 366)\n",
      "JSONDecodeError: Expecting ',' delimiter: line 3 column 515 (char 550)\n",
      "JSONDecodeError: Expecting ',' delimiter: line 3 column 489 (char 517)\n",
      "JSONDecodeError: Expecting ',' delimiter: line 3 column 297 (char 325)\n",
      "JSONDecodeError: Expecting ',' delimiter: line 3 column 381 (char 411)\n",
      "JSONDecodeError: Expecting ',' delimiter: line 3 column 361 (char 396)\n",
      "evaluations-aqa315.csv saved\n"
     ]
    },
    {
     "name": "stderr",
     "output_type": "stream",
     "text": [
      "100%|███████████████████████████████████████████████████| 15/15 [00:38<00:00,  2.56s/it]\n"
     ]
    },
    {
     "name": "stdout",
     "output_type": "stream",
     "text": [
      "JSONDecodeError: Expecting value: line 1 column 1 (char 0)\n",
      "Failed to fix JSON string: Expecting value: line 1 column 1 (char 0)\n",
      "JSONDecodeError: Expecting ',' delimiter: line 3 column 411 (char 443)\n",
      "JSONDecodeError: Expecting value: line 1 column 1 (char 0)\n",
      "Failed to fix JSON string: Expecting value: line 1 column 1 (char 0)\n",
      "JSONDecodeError: Expecting ',' delimiter: line 3 column 339 (char 367)\n",
      "JSONDecodeError: Expecting ',' delimiter: line 3 column 351 (char 379)\n",
      "JSONDecodeError: Expecting ',' delimiter: line 3 column 623 (char 651)\n",
      "evaluations-aqa316.csv saved\n"
     ]
    },
    {
     "name": "stderr",
     "output_type": "stream",
     "text": [
      "100%|███████████████████████████████████████████████████| 15/15 [00:39<00:00,  2.60s/it]\n"
     ]
    },
    {
     "name": "stdout",
     "output_type": "stream",
     "text": [
      "JSONDecodeError: Expecting ',' delimiter: line 3 column 319 (char 347)\n",
      "JSONDecodeError: Expecting ',' delimiter: line 3 column 470 (char 498)\n",
      "JSONDecodeError: Expecting ',' delimiter: line 3 column 308 (char 336)\n",
      "JSONDecodeError: Expecting value: line 1 column 1 (char 0)\n",
      "Failed to fix JSON string: Expecting value: line 1 column 1 (char 0)\n",
      "JSONDecodeError: Expecting ',' delimiter: line 3 column 304 (char 332)\n",
      "JSONDecodeError: Expecting value: line 1 column 1 (char 0)\n",
      "Failed to fix JSON string: Expecting value: line 1 column 1 (char 0)\n",
      "JSONDecodeError: Expecting value: line 1 column 1 (char 0)\n",
      "Failed to fix JSON string: Expecting value: line 1 column 1 (char 0)\n",
      "evaluations-aqa317.csv saved\n"
     ]
    },
    {
     "name": "stderr",
     "output_type": "stream",
     "text": [
      "100%|███████████████████████████████████████████████████| 15/15 [00:39<00:00,  2.65s/it]\n"
     ]
    },
    {
     "name": "stdout",
     "output_type": "stream",
     "text": [
      "JSONDecodeError: Expecting value: line 1 column 1 (char 0)\n",
      "Failed to fix JSON string: Expecting value: line 1 column 1 (char 0)\n",
      "JSONDecodeError: Expecting value: line 1 column 1 (char 0)\n",
      "Failed to fix JSON string: Expecting value: line 1 column 1 (char 0)\n",
      "JSONDecodeError: Expecting ',' delimiter: line 3 column 570 (char 605)\n",
      "JSONDecodeError: Expecting ',' delimiter: line 3 column 477 (char 503)\n",
      "JSONDecodeError: Expecting ',' delimiter: line 3 column 484 (char 512)\n",
      "JSONDecodeError: Expecting ',' delimiter: line 3 column 536 (char 564)\n",
      "JSONDecodeError: Expecting ',' delimiter: line 3 column 413 (char 448)\n",
      "JSONDecodeError: Expecting ',' delimiter: line 3 column 385 (char 413)\n",
      "JSONDecodeError: Expecting ',' delimiter: line 3 column 274 (char 300)\n",
      "evaluations-aqa318.csv saved\n"
     ]
    },
    {
     "name": "stderr",
     "output_type": "stream",
     "text": [
      "100%|███████████████████████████████████████████████████| 15/15 [00:39<00:00,  2.64s/it]\n"
     ]
    },
    {
     "name": "stdout",
     "output_type": "stream",
     "text": [
      "JSONDecodeError: Expecting value: line 1 column 1 (char 0)\n",
      "Failed to fix JSON string: Expecting value: line 1 column 1 (char 0)\n",
      "JSONDecodeError: Expecting ',' delimiter: line 3 column 336 (char 371)\n",
      "JSONDecodeError: Expecting value: line 1 column 1 (char 0)\n",
      "Failed to fix JSON string: Expecting value: line 1 column 1 (char 0)\n",
      "JSONDecodeError: Expecting ',' delimiter: line 3 column 347 (char 375)\n",
      "JSONDecodeError: Expecting value: line 1 column 1 (char 0)\n",
      "Failed to fix JSON string: Expecting value: line 1 column 1 (char 0)\n",
      "JSONDecodeError: Expecting value: line 1 column 1 (char 0)\n",
      "Failed to fix JSON string: Expecting value: line 1 column 1 (char 0)\n",
      "evaluations-aqa319.csv saved\n"
     ]
    },
    {
     "name": "stderr",
     "output_type": "stream",
     "text": [
      "100%|███████████████████████████████████████████████████| 15/15 [00:39<00:00,  2.63s/it]\n"
     ]
    },
    {
     "name": "stdout",
     "output_type": "stream",
     "text": [
      "JSONDecodeError: Expecting ',' delimiter: line 3 column 397 (char 425)\n",
      "JSONDecodeError: Expecting value: line 1 column 1 (char 0)\n",
      "Failed to fix JSON string: Expecting value: line 1 column 1 (char 0)\n",
      "JSONDecodeError: Expecting ',' delimiter: line 3 column 229 (char 255)\n",
      "JSONDecodeError: Expecting ',' delimiter: line 3 column 486 (char 514)\n",
      "JSONDecodeError: Expecting value: line 1 column 1 (char 0)\n",
      "Failed to fix JSON string: Expecting value: line 1 column 1 (char 0)\n",
      "JSONDecodeError: Expecting value: line 1 column 1 (char 0)\n",
      "Failed to fix JSON string: Expecting value: line 1 column 1 (char 0)\n",
      "evaluations-aqa320.csv saved\n"
     ]
    },
    {
     "name": "stderr",
     "output_type": "stream",
     "text": [
      "100%|███████████████████████████████████████████████████| 15/15 [00:37<00:00,  2.53s/it]\n"
     ]
    },
    {
     "name": "stdout",
     "output_type": "stream",
     "text": [
      "JSONDecodeError: Expecting ',' delimiter: line 3 column 247 (char 282)\n",
      "JSONDecodeError: Expecting value: line 1 column 1 (char 0)\n",
      "Failed to fix JSON string: Expecting value: line 1 column 1 (char 0)\n",
      "JSONDecodeError: Expecting ',' delimiter: line 3 column 414 (char 449)\n",
      "JSONDecodeError: Expecting ',' delimiter: line 3 column 259 (char 287)\n",
      "evaluations-aqa321.csv saved\n"
     ]
    },
    {
     "name": "stderr",
     "output_type": "stream",
     "text": [
      "100%|███████████████████████████████████████████████████| 15/15 [00:39<00:00,  2.63s/it]\n"
     ]
    },
    {
     "name": "stdout",
     "output_type": "stream",
     "text": [
      "JSONDecodeError: Expecting ',' delimiter: line 3 column 544 (char 570)\n",
      "JSONDecodeError: Expecting ',' delimiter: line 3 column 541 (char 569)\n",
      "JSONDecodeError: Expecting value: line 1 column 1 (char 0)\n",
      "Failed to fix JSON string: Expecting value: line 1 column 1 (char 0)\n",
      "JSONDecodeError: Expecting ',' delimiter: line 3 column 301 (char 329)\n",
      "JSONDecodeError: Expecting ',' delimiter: line 3 column 416 (char 444)\n",
      "JSONDecodeError: Expecting value: line 1 column 1 (char 0)\n",
      "Failed to fix JSON string: Expecting value: line 1 column 1 (char 0)\n",
      "evaluations-aqa322.csv saved\n"
     ]
    },
    {
     "name": "stderr",
     "output_type": "stream",
     "text": [
      "100%|███████████████████████████████████████████████████| 15/15 [00:37<00:00,  2.51s/it]\n"
     ]
    },
    {
     "name": "stdout",
     "output_type": "stream",
     "text": [
      "JSONDecodeError: Expecting ',' delimiter: line 3 column 364 (char 392)\n",
      "JSONDecodeError: Expecting value: line 1 column 1 (char 0)\n",
      "Failed to fix JSON string: Expecting value: line 1 column 1 (char 0)\n",
      "JSONDecodeError: Expecting ',' delimiter: line 3 column 472 (char 507)\n",
      "JSONDecodeError: Expecting ',' delimiter: line 3 column 339 (char 374)\n",
      "JSONDecodeError: Expecting ',' delimiter: line 3 column 509 (char 537)\n",
      "JSONDecodeError: Expecting ',' delimiter: line 3 column 364 (char 392)\n",
      "JSONDecodeError: Expecting ',' delimiter: line 3 column 490 (char 525)\n",
      "JSONDecodeError: Expecting ',' delimiter: line 3 column 318 (char 353)\n",
      "JSONDecodeError: Expecting ',' delimiter: line 3 column 266 (char 292)\n",
      "evaluations-aqa323.csv saved\n"
     ]
    },
    {
     "name": "stderr",
     "output_type": "stream",
     "text": [
      "100%|███████████████████████████████████████████████████| 15/15 [00:39<00:00,  2.65s/it]\n"
     ]
    },
    {
     "name": "stdout",
     "output_type": "stream",
     "text": [
      "JSONDecodeError: Expecting ',' delimiter: line 3 column 748 (char 781)\n",
      "JSONDecodeError: Expecting value: line 1 column 1 (char 0)\n",
      "Failed to fix JSON string: Expecting value: line 1 column 1 (char 0)\n",
      "JSONDecodeError: Expecting ',' delimiter: line 3 column 646 (char 674)\n",
      "JSONDecodeError: Expecting ',' delimiter: line 3 column 467 (char 497)\n",
      "JSONDecodeError: Expecting ',' delimiter: line 3 column 366 (char 394)\n",
      "JSONDecodeError: Expecting value: line 1 column 1 (char 0)\n",
      "Failed to fix JSON string: Expecting value: line 1 column 1 (char 0)\n",
      "JSONDecodeError: Expecting value: line 1 column 1 (char 0)\n",
      "Failed to fix JSON string: Expecting value: line 1 column 1 (char 0)\n",
      "JSONDecodeError: Expecting value: line 1 column 1 (char 0)\n",
      "Failed to fix JSON string: Expecting value: line 1 column 1 (char 0)\n",
      "evaluations-aqa324.csv saved\n"
     ]
    },
    {
     "name": "stderr",
     "output_type": "stream",
     "text": [
      "100%|███████████████████████████████████████████████████| 15/15 [00:39<00:00,  2.60s/it]\n"
     ]
    },
    {
     "name": "stdout",
     "output_type": "stream",
     "text": [
      "JSONDecodeError: Expecting ',' delimiter: line 3 column 423 (char 451)\n",
      "JSONDecodeError: Expecting value: line 1 column 1 (char 0)\n",
      "Failed to fix JSON string: Expecting value: line 1 column 1 (char 0)\n",
      "JSONDecodeError: Expecting ',' delimiter: line 3 column 438 (char 473)\n",
      "JSONDecodeError: Expecting value: line 1 column 1 (char 0)\n",
      "Failed to fix JSON string: Expecting value: line 1 column 1 (char 0)\n",
      "JSONDecodeError: Expecting value: line 1 column 1 (char 0)\n",
      "Failed to fix JSON string: Expecting value: line 1 column 1 (char 0)\n",
      "JSONDecodeError: Expecting value: line 1 column 1 (char 0)\n",
      "Failed to fix JSON string: Expecting value: line 1 column 1 (char 0)\n",
      "JSONDecodeError: Expecting value: line 1 column 1 (char 0)\n",
      "Failed to fix JSON string: Expecting value: line 1 column 1 (char 0)\n",
      "JSONDecodeError: Expecting value: line 1 column 1 (char 0)\n",
      "Failed to fix JSON string: Expecting value: line 1 column 1 (char 0)\n",
      "JSONDecodeError: Expecting ',' delimiter: line 3 column 392 (char 424)\n",
      "JSONDecodeError: Expecting ',' delimiter: line 3 column 531 (char 559)\n",
      "JSONDecodeError: Expecting ',' delimiter: line 3 column 426 (char 461)\n",
      "JSONDecodeError: Expecting value: line 1 column 1 (char 0)\n",
      "Failed to fix JSON string: Expecting value: line 1 column 1 (char 0)\n",
      "evaluations-aqa325.csv saved\n"
     ]
    },
    {
     "name": "stderr",
     "output_type": "stream",
     "text": [
      "100%|███████████████████████████████████████████████████| 15/15 [00:38<00:00,  2.56s/it]\n"
     ]
    },
    {
     "name": "stdout",
     "output_type": "stream",
     "text": [
      "JSONDecodeError: Expecting ',' delimiter: line 3 column 513 (char 548)\n",
      "JSONDecodeError: Expecting ',' delimiter: line 3 column 382 (char 410)\n",
      "JSONDecodeError: Expecting value: line 1 column 1 (char 0)\n",
      "Failed to fix JSON string: Expecting value: line 1 column 1 (char 0)\n",
      "JSONDecodeError: Expecting value: line 1 column 1 (char 0)\n",
      "Failed to fix JSON string: Expecting value: line 1 column 1 (char 0)\n",
      "JSONDecodeError: Expecting value: line 1 column 1 (char 0)\n",
      "Failed to fix JSON string: Expecting value: line 1 column 1 (char 0)\n",
      "JSONDecodeError: Expecting ',' delimiter: line 3 column 456 (char 491)\n",
      "evaluations-aqa326.csv saved\n"
     ]
    },
    {
     "name": "stderr",
     "output_type": "stream",
     "text": [
      "100%|███████████████████████████████████████████████████| 15/15 [00:38<00:00,  2.60s/it]\n"
     ]
    },
    {
     "name": "stdout",
     "output_type": "stream",
     "text": [
      "JSONDecodeError: Expecting ',' delimiter: line 3 column 323 (char 349)\n",
      "JSONDecodeError: Expecting ',' delimiter: line 3 column 379 (char 411)\n",
      "JSONDecodeError: Expecting value: line 1 column 1 (char 0)\n",
      "Failed to fix JSON string: Expecting value: line 1 column 1 (char 0)\n",
      "JSONDecodeError: Expecting value: line 1 column 1 (char 0)\n",
      "Failed to fix JSON string: Expecting value: line 1 column 1 (char 0)\n",
      "JSONDecodeError: Expecting value: line 1 column 1 (char 0)\n",
      "Failed to fix JSON string: Expecting value: line 1 column 1 (char 0)\n",
      "JSONDecodeError: Expecting value: line 1 column 1 (char 0)\n",
      "Failed to fix JSON string: Expecting value: line 1 column 1 (char 0)\n",
      "JSONDecodeError: Expecting ',' delimiter: line 3 column 434 (char 466)\n",
      "JSONDecodeError: Expecting ',' delimiter: line 3 column 518 (char 544)\n",
      "evaluations-aqa327.csv saved\n"
     ]
    },
    {
     "name": "stderr",
     "output_type": "stream",
     "text": [
      "100%|█████████████████████████████████████████████████████| 2/2 [00:05<00:00,  2.53s/it]\n"
     ]
    },
    {
     "name": "stdout",
     "output_type": "stream",
     "text": [
      "JSONDecodeError: Expecting ',' delimiter: line 3 column 435 (char 470)\n",
      "JSONDecodeError: Expecting ',' delimiter: line 3 column 366 (char 394)\n",
      "evaluations-aqa328.csv saved\n"
     ]
    },
    {
     "name": "stderr",
     "output_type": "stream",
     "text": [
      "100%|███████████████████████████████████████████████████| 15/15 [00:38<00:00,  2.56s/it]\n"
     ]
    },
    {
     "name": "stdout",
     "output_type": "stream",
     "text": [
      "JSONDecodeError: Expecting ',' delimiter: line 3 column 276 (char 304)\n",
      "JSONDecodeError: Expecting value: line 1 column 1 (char 0)\n",
      "Failed to fix JSON string: Expecting value: line 1 column 1 (char 0)\n",
      "JSONDecodeError: Expecting ',' delimiter: line 3 column 338 (char 364)\n",
      "JSONDecodeError: Expecting ',' delimiter: line 3 column 389 (char 417)\n",
      "JSONDecodeError: Expecting ',' delimiter: line 3 column 305 (char 337)\n",
      "JSONDecodeError: Expecting ',' delimiter: line 3 column 395 (char 423)\n",
      "JSONDecodeError: Expecting ',' delimiter: line 3 column 336 (char 371)\n",
      "JSONDecodeError: Expecting ',' delimiter: line 3 column 476 (char 511)\n",
      "JSONDecodeError: Expecting ',' delimiter: line 3 column 445 (char 477)\n",
      "JSONDecodeError: Expecting ',' delimiter: line 3 column 354 (char 382)\n",
      "evaluations-aqa329.csv saved\n"
     ]
    },
    {
     "name": "stderr",
     "output_type": "stream",
     "text": [
      "100%|███████████████████████████████████████████████████| 15/15 [00:38<00:00,  2.57s/it]\n"
     ]
    },
    {
     "name": "stdout",
     "output_type": "stream",
     "text": [
      "JSONDecodeError: Expecting ',' delimiter: line 3 column 321 (char 349)\n",
      "JSONDecodeError: Expecting ',' delimiter: line 3 column 389 (char 417)\n",
      "JSONDecodeError: Expecting ',' delimiter: line 3 column 339 (char 365)\n",
      "JSONDecodeError: Expecting ',' delimiter: line 3 column 608 (char 640)\n",
      "JSONDecodeError: Expecting value: line 1 column 1 (char 0)\n",
      "Failed to fix JSON string: Expecting value: line 1 column 1 (char 0)\n",
      "JSONDecodeError: Expecting ',' delimiter: line 3 column 408 (char 440)\n",
      "JSONDecodeError: Expecting value: line 1 column 1 (char 0)\n",
      "Failed to fix JSON string: Expecting value: line 1 column 1 (char 0)\n",
      "evaluations-aqa330.csv saved\n"
     ]
    },
    {
     "name": "stderr",
     "output_type": "stream",
     "text": [
      "100%|███████████████████████████████████████████████████| 15/15 [00:38<00:00,  2.55s/it]\n"
     ]
    },
    {
     "name": "stdout",
     "output_type": "stream",
     "text": [
      "JSONDecodeError: Expecting ',' delimiter: line 3 column 519 (char 554)\n",
      "JSONDecodeError: Expecting ',' delimiter: line 3 column 283 (char 318)\n",
      "JSONDecodeError: Expecting ',' delimiter: line 3 column 319 (char 347)\n",
      "JSONDecodeError: Expecting ',' delimiter: line 3 column 365 (char 393)\n",
      "JSONDecodeError: Expecting value: line 1 column 1 (char 0)\n",
      "Failed to fix JSON string: Expecting value: line 1 column 1 (char 0)\n",
      "JSONDecodeError: Expecting ',' delimiter: line 3 column 368 (char 396)\n",
      "evaluations-aqa331.csv saved\n"
     ]
    },
    {
     "name": "stderr",
     "output_type": "stream",
     "text": [
      "100%|███████████████████████████████████████████████████| 15/15 [00:39<00:00,  2.62s/it]\n"
     ]
    },
    {
     "name": "stdout",
     "output_type": "stream",
     "text": [
      "JSONDecodeError: Expecting value: line 1 column 1 (char 0)\n",
      "Failed to fix JSON string: Expecting value: line 1 column 1 (char 0)\n",
      "JSONDecodeError: Expecting value: line 1 column 1 (char 0)\n",
      "Failed to fix JSON string: Expecting value: line 1 column 1 (char 0)\n",
      "JSONDecodeError: Expecting value: line 1 column 1 (char 0)\n",
      "Failed to fix JSON string: Expecting value: line 1 column 1 (char 0)\n",
      "JSONDecodeError: Expecting ',' delimiter: line 3 column 313 (char 339)\n",
      "JSONDecodeError: Expecting ',' delimiter: line 3 column 221 (char 253)\n",
      "evaluations-aqa332.csv saved\n"
     ]
    },
    {
     "name": "stderr",
     "output_type": "stream",
     "text": [
      "100%|███████████████████████████████████████████████████| 15/15 [00:38<00:00,  2.56s/it]\n"
     ]
    },
    {
     "name": "stdout",
     "output_type": "stream",
     "text": [
      "JSONDecodeError: Expecting value: line 1 column 1 (char 0)\n",
      "Failed to fix JSON string: Expecting value: line 1 column 1 (char 0)\n",
      "JSONDecodeError: Expecting ',' delimiter: line 3 column 495 (char 523)\n",
      "JSONDecodeError: Expecting value: line 1 column 1 (char 0)\n",
      "Failed to fix JSON string: Expecting value: line 1 column 1 (char 0)\n",
      "JSONDecodeError: Expecting ',' delimiter: line 3 column 441 (char 476)\n",
      "JSONDecodeError: Expecting value: line 1 column 1 (char 0)\n",
      "Failed to fix JSON string: Expecting value: line 1 column 1 (char 0)\n",
      "JSONDecodeError: Expecting ',' delimiter: line 3 column 583 (char 611)\n",
      "evaluations-aqa333.csv saved\n"
     ]
    },
    {
     "name": "stderr",
     "output_type": "stream",
     "text": [
      "100%|███████████████████████████████████████████████████| 15/15 [00:38<00:00,  2.56s/it]\n"
     ]
    },
    {
     "name": "stdout",
     "output_type": "stream",
     "text": [
      "JSONDecodeError: Expecting ',' delimiter: line 3 column 373 (char 401)\n",
      "JSONDecodeError: Expecting ',' delimiter: line 3 column 539 (char 572)\n",
      "JSONDecodeError: Expecting ',' delimiter: line 3 column 347 (char 379)\n",
      "JSONDecodeError: Expecting ',' delimiter: line 3 column 336 (char 364)\n",
      "JSONDecodeError: Expecting ',' delimiter: line 3 column 528 (char 563)\n",
      "evaluations-aqa334.csv saved\n"
     ]
    },
    {
     "name": "stderr",
     "output_type": "stream",
     "text": [
      " 80%|████████████████████████████████████████▊          | 12/15 [00:31<00:07,  2.64s/it]"
     ]
    }
   ],
   "source": [
    "for i in range(170, 411):\n",
    "    evaluations = []\n",
    "    results = []\n",
    "    json_evaluations = []\n",
    "    \n",
    "    # Load the pickle file\n",
    "    with open(f\"../data/vietnamese_rag/llm_answer/llm_answer{i}.pkl\", 'rb') as file:\n",
    "        r = pickle.load(file)\n",
    "    results.extend(r)\n",
    "    \n",
    "    # Convert results to DataFrame\n",
    "    df = pd.DataFrame(results)\n",
    "    samples = df.to_dict(orient='records')\n",
    "    \n",
    "    # Generate evaluations\n",
    "    for record in tqdm(samples):\n",
    "        prompt = prompt1_template.format(**record)\n",
    "        evaluation = llm(prompt)\n",
    "        evaluations.append(evaluation)\n",
    "    \n",
    "    # Parse evaluations\n",
    "    for j, str_eval in enumerate(evaluations):\n",
    "        try:\n",
    "            json_eval = json.loads(str_eval)\n",
    "        except json.JSONDecodeError as e:\n",
    "            print(f\"JSONDecodeError: {e}\")\n",
    "            # Attempt to fix the JSON string\n",
    "            try:\n",
    "                # str_eval = \"{\" + str_eval.lstrip(\"{\")  # Ensure it starts with an opening brace\n",
    "                str_eval = str_eval.rstrip('}') + '}'  # Ensure it ends with a closing brace\n",
    "                json_eval = json.loads(str_eval)\n",
    "            except json.JSONDecodeError as e:\n",
    "                print(f\"Failed to fix JSON string: {e}\")\n",
    "                continue  # Skip this evaluation if it cannot be fixed\n",
    "        json_evaluations.append(json_eval)\n",
    "    \n",
    "    # Save evaluations to CSV\n",
    "    if json_evaluations:\n",
    "        df_evaluations = pd.DataFrame(json_evaluations)\n",
    "        df_evaluations.to_csv(f'../data/vietnamese_rag/evaluations_aqa/evaluations-aqa{i}.csv', index=False)\n",
    "        print(f\"evaluations-aqa{i}.csv saved\")"
   ]
  },
  {
   "cell_type": "code",
   "execution_count": null,
   "id": "5f50b216-e566-41e9-a158-9ca051749237",
   "metadata": {},
   "outputs": [],
   "source": []
  }
 ],
 "metadata": {
  "kernelspec": {
   "display_name": "Python 3 (ipykernel)",
   "language": "python",
   "name": "python3"
  },
  "language_info": {
   "codemirror_mode": {
    "name": "ipython",
    "version": 3
   },
   "file_extension": ".py",
   "mimetype": "text/x-python",
   "name": "python",
   "nbconvert_exporter": "python",
   "pygments_lexer": "ipython3",
   "version": "3.10.13"
  }
 },
 "nbformat": 4,
 "nbformat_minor": 5
}
