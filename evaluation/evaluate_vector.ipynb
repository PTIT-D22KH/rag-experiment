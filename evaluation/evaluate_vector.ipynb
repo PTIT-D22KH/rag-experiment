{
 "cells": [
  {
   "cell_type": "code",
   "execution_count": 88,
   "id": "015e7ddf-b1ba-4d46-af17-b02f92541be6",
   "metadata": {},
   "outputs": [],
   "source": [
    "import json\n",
    "from openai import OpenAI\n",
    "from groq import Groq\n",
    "import os\n",
    "from sentence_transformers import SentenceTransformer\n",
    "from tqdm.auto import tqdm\n",
    "import pickle\n",
    "from elasticsearch import Elasticsearch\n",
    "import pandas as pd"
   ]
  },
  {
   "cell_type": "code",
   "execution_count": 2,
   "id": "94ca7553-c856-4b2b-ae9f-eea8d0f178cf",
   "metadata": {},
   "outputs": [
    {
     "name": "stderr",
     "output_type": "stream",
     "text": [
      "/home/codespace/.local/lib/python3.10/site-packages/transformers/tokenization_utils_base.py:1601: FutureWarning: `clean_up_tokenization_spaces` was not set. It will be set to `True` by default. This behavior will be depracted in transformers v4.45, and will be then set to `False` by default. For more details check this issue: https://github.com/huggingface/transformers/issues/31884\n",
      "  warnings.warn(\n"
     ]
    }
   ],
   "source": [
    "model = SentenceTransformer(\"paraphrase-multilingual-MiniLM-L12-v2\")"
   ]
  },
  {
   "cell_type": "code",
   "execution_count": 3,
   "id": "49e3e2f5-d5c8-4e37-8eef-b84f0b8d3bdb",
   "metadata": {},
   "outputs": [],
   "source": [
    "# def load_documents(base_path, num_files):\n",
    "#     documents = []\n",
    "#     for i in range(1, num_files + 1):\n",
    "#         file_path = f'{base_path}/documents-with-ids{i}.json'\n",
    "#         with open(file_path, 'rt') as f_in:\n",
    "#             documents.extend(json.load(f_in))\n",
    "#     return documents"
   ]
  },
  {
   "cell_type": "code",
   "execution_count": 4,
   "id": "3b063a50-e4e2-4e02-9c7c-41abf769292a",
   "metadata": {},
   "outputs": [],
   "source": [
    "# base_path = '../data/vietnamese_rag'\n",
    "# num_files = 5\n",
    "# documents = load_documents(base_path, num_files)"
   ]
  },
  {
   "cell_type": "code",
   "execution_count": 5,
   "id": "7d751880-4ffb-4c05-b261-4e7243a9ca08",
   "metadata": {},
   "outputs": [],
   "source": [
    "# len(documents)"
   ]
  },
  {
   "cell_type": "code",
   "execution_count": 59,
   "id": "f6d972e0-f866-4d94-bf31-0c9429855aa4",
   "metadata": {},
   "outputs": [],
   "source": [
    "with open('../data/vietnamese_rag/documents-with-ids1.json', 'rt') as f_in:\n",
    "    documents1 = json.load(f_in)"
   ]
  },
  {
   "cell_type": "code",
   "execution_count": 7,
   "id": "06a8ec2b-33f3-4bd0-be39-860db697dc20",
   "metadata": {},
   "outputs": [],
   "source": [
    "with open('../data/vietnamese_rag/text_vector_pickle/text_vector1.pkl', 'rb') as file:\n",
    "    operations1 = pickle.load(file)"
   ]
  },
  {
   "cell_type": "code",
   "execution_count": 8,
   "id": "a53156ca-b84a-4665-b0fc-7f1513609820",
   "metadata": {},
   "outputs": [
    {
     "data": {
      "text/plain": [
       "1217"
      ]
     },
     "execution_count": 8,
     "metadata": {},
     "output_type": "execute_result"
    }
   ],
   "source": [
    "len(operations1)"
   ]
  },
  {
   "cell_type": "code",
   "execution_count": 9,
   "id": "686c2b32-5213-4295-abd7-783634276960",
   "metadata": {},
   "outputs": [],
   "source": [
    "for i in range(len(operations1)):\n",
    "    operations1[i]['id'] = documents1[i]['id']"
   ]
  },
  {
   "cell_type": "code",
   "execution_count": 10,
   "id": "31ed235a-0db5-4867-a69a-d70324878483",
   "metadata": {},
   "outputs": [
    {
     "data": {
      "text/plain": [
       "'75fafd29'"
      ]
     },
     "execution_count": 10,
     "metadata": {},
     "output_type": "execute_result"
    }
   ],
   "source": [
    "operations1[0]['id']"
   ]
  },
  {
   "cell_type": "code",
   "execution_count": 12,
   "id": "f55d1853-a3ab-45e1-b11b-6a5a3a55b82c",
   "metadata": {},
   "outputs": [
    {
     "data": {
      "text/plain": [
       "list"
      ]
     },
     "execution_count": 12,
     "metadata": {},
     "output_type": "execute_result"
    }
   ],
   "source": [
    "type(documents1)"
   ]
  },
  {
   "cell_type": "code",
   "execution_count": 13,
   "id": "fcf51673-11fb-430a-bc9e-3f7aeade2647",
   "metadata": {},
   "outputs": [
    {
     "name": "stderr",
     "output_type": "stream",
     "text": [
      "100%|████████████████| 1217/1217 [00:35<00:00, 33.94it/s]\n"
     ]
    }
   ],
   "source": [
    "document_question_vector_list = []\n",
    "\n",
    "for doc in tqdm(documents1):\n",
    "    temp_dict = {}\n",
    "    question = doc['question']\n",
    "    temp_dict['question_vector'] = model.encode(question)\n",
    "    document_question_vector_list.append(temp_dict)"
   ]
  },
  {
   "cell_type": "code",
   "execution_count": 14,
   "id": "6f87fe38-9c95-4078-8c4e-b55878a321a9",
   "metadata": {},
   "outputs": [],
   "source": [
    "with open('../data/vietnamese_rag/question_vector_pickle/question_vector1.pkl', 'wb') as file:\n",
    "    pickle.dump(document_question_vector_list, file)"
   ]
  },
  {
   "cell_type": "code",
   "execution_count": 15,
   "id": "cadc6fa3-6f26-4714-a568-8ef3bfaef3d8",
   "metadata": {},
   "outputs": [
    {
     "name": "stderr",
     "output_type": "stream",
     "text": [
      "100%|████████████████| 1217/1217 [00:42<00:00, 28.42it/s]\n"
     ]
    }
   ],
   "source": [
    "document_question_vector_list = []\n",
    "\n",
    "for doc in tqdm(documents1):\n",
    "    temp_dict = {}\n",
    "    answer = doc['answer']\n",
    "    temp_dict['answer_vector'] = model.encode(answer)\n",
    "    document_question_vector_list.append(temp_dict)\n",
    "with open('../data/vietnamese_rag/answer_vector_pickle/answer_vector1.pkl', 'wb') as file:\n",
    "    pickle.dump(document_question_vector_list, file)"
   ]
  },
  {
   "cell_type": "code",
   "execution_count": null,
   "id": "5f069127-6c14-4ce1-8e53-2c544ad157b6",
   "metadata": {},
   "outputs": [],
   "source": [
    "document_question_vector_list = []\n",
    "\n",
    "for doc in tqdm(documents1):\n",
    "    question = doc['question']\n",
    "    context = doc['context']\n",
    "    answer = doc['answer']\n",
    "    qta = question + ' ' + context + \" \" + answer\n",
    "    temp_dict = {}\n",
    "    temp_dict['question_context_answer_vector'] = model.encode(qta)\n",
    "    document_question_vector_list.append(temp_dict)\n",
    "with open('../data/vietnamese_rag/question_context_answer_vector_pickle/question_context_answer_vector1.pkl', 'wb') as file:\n",
    "    pickle.dump(document_question_vector_list, file)"
   ]
  },
  {
   "cell_type": "code",
   "execution_count": 60,
   "id": "71b98d26-c205-4e2f-8e99-cb6c53e7ca5b",
   "metadata": {},
   "outputs": [],
   "source": [
    "with open('../data/vietnamese_rag/documents-with-ids2.json', 'rt') as f_in:\n",
    "    documents2 = json.load(f_in)"
   ]
  },
  {
   "cell_type": "code",
   "execution_count": 61,
   "id": "42cce42a-7b05-49e6-86f6-21adbde1ad1c",
   "metadata": {},
   "outputs": [],
   "source": [
    "with open('../data/vietnamese_rag/documents-with-ids3.json', 'rt') as f_in:\n",
    "    documents3 = json.load(f_in)"
   ]
  },
  {
   "cell_type": "code",
   "execution_count": 62,
   "id": "a11bf0f9-6c92-4f63-a4e3-2597ec9ef796",
   "metadata": {},
   "outputs": [],
   "source": [
    "with open('../data/vietnamese_rag/documents-with-ids4.json', 'rt') as f_in:\n",
    "    documents4 = json.load(f_in)"
   ]
  },
  {
   "cell_type": "code",
   "execution_count": 63,
   "id": "ae160575-fe78-4bd7-a759-ca0ee29cc7c6",
   "metadata": {},
   "outputs": [],
   "source": [
    "with open('../data/vietnamese_rag/documents.json', 'rt') as f_in:\n",
    "    documents = json.load(f_in)"
   ]
  },
  {
   "cell_type": "code",
   "execution_count": 37,
   "id": "ac8433c2-f22c-4ce5-8760-1b73cf519449",
   "metadata": {},
   "outputs": [],
   "source": [
    "# for doc in documents:\n",
    "#     if (doc['context'] == None):\n",
    "#         doc['context'] = 'Ngữ cảnh không được cung cấp'"
   ]
  },
  {
   "cell_type": "code",
   "execution_count": 38,
   "id": "358f7e0b-390f-42b3-bfe0-654ffca6a068",
   "metadata": {},
   "outputs": [],
   "source": [
    "# for doc in documents4:\n",
    "#     if (doc['context'] == None):\n",
    "#         doc['context'] = 'Ngữ cảnh không được cung cấp'"
   ]
  },
  {
   "cell_type": "code",
   "execution_count": 39,
   "id": "e8b1ab95-01c8-47a5-8a12-ffded5008e44",
   "metadata": {},
   "outputs": [],
   "source": [
    "with open('../data/vietnamese_rag/documents-with-ids5.json', 'rt') as f_in:\n",
    "    documents5 = json.load(f_in)"
   ]
  },
  {
   "cell_type": "code",
   "execution_count": 40,
   "id": "43fcec85-1df8-4646-bb4e-66718cf9c3dc",
   "metadata": {},
   "outputs": [],
   "source": [
    "# for doc in documents5:\n",
    "#     if (doc['context'] == None):\n",
    "#         doc['context'] = 'Ngữ cảnh không được cung cấp'"
   ]
  },
  {
   "cell_type": "code",
   "execution_count": 41,
   "id": "dd1f69d9-34b9-46df-9f1a-8163a0e071b2",
   "metadata": {},
   "outputs": [],
   "source": [
    "# with open('../data/vietnamese_rag/documents.json', 'w', encoding='utf-8') as f:\n",
    "#     json.dump(documents, f, ensure_ascii=False, indent=4)"
   ]
  },
  {
   "cell_type": "code",
   "execution_count": 42,
   "id": "430aca80-b98f-4bab-9ae4-0dc1e4e97730",
   "metadata": {},
   "outputs": [],
   "source": [
    "# with open('../data/vietnamese_rag/documents-with-ids4.json', 'wt') as f_out:\n",
    "#     json.dump(documents4 , f_out, indent=2)"
   ]
  },
  {
   "cell_type": "code",
   "execution_count": 43,
   "id": "b21bb383-19e9-4020-af2b-9679854942e5",
   "metadata": {},
   "outputs": [],
   "source": [
    "# with open('../data/vietnamese_rag/documents-with-ids5.json', 'wt') as f_out:\n",
    "#     json.dump(documents5 , f_out, indent=2)"
   ]
  },
  {
   "cell_type": "code",
   "execution_count": 22,
   "id": "e683b6e0-f4dc-4c4a-994d-03bd716ee014",
   "metadata": {
    "scrolled": true
   },
   "outputs": [
    {
     "name": "stderr",
     "output_type": "stream",
     "text": [
      "100%|████████████████| 1217/1217 [02:26<00:00,  8.33it/s]\n",
      "100%|████████████████| 1217/1217 [02:25<00:00,  8.34it/s]\n",
      " 67%|▋| 811/1217 [01:39<00:49,\n"
     ]
    },
    {
     "ename": "TypeError",
     "evalue": "can only concatenate str (not \"NoneType\") to str",
     "output_type": "error",
     "traceback": [
      "\u001b[0;31m---------------------------------------------------------------------------\u001b[0m",
      "\u001b[0;31mTypeError\u001b[0m                                 Traceback (most recent call last)",
      "Cell \u001b[0;32mIn[22], line 19\u001b[0m\n\u001b[1;32m     17\u001b[0m context \u001b[38;5;241m=\u001b[39m doc[\u001b[38;5;124m'\u001b[39m\u001b[38;5;124mcontext\u001b[39m\u001b[38;5;124m'\u001b[39m]\n\u001b[1;32m     18\u001b[0m answer \u001b[38;5;241m=\u001b[39m doc[\u001b[38;5;124m'\u001b[39m\u001b[38;5;124manswer\u001b[39m\u001b[38;5;124m'\u001b[39m]\n\u001b[0;32m---> 19\u001b[0m qta \u001b[38;5;241m=\u001b[39m \u001b[43mquestion\u001b[49m\u001b[43m \u001b[49m\u001b[38;5;241;43m+\u001b[39;49m\u001b[43m \u001b[49m\u001b[38;5;124;43m'\u001b[39;49m\u001b[38;5;124;43m \u001b[39;49m\u001b[38;5;124;43m'\u001b[39;49m\u001b[43m \u001b[49m\u001b[38;5;241;43m+\u001b[39;49m\u001b[43m \u001b[49m\u001b[43mcontext\u001b[49m \u001b[38;5;241m+\u001b[39m \u001b[38;5;124m\"\u001b[39m\u001b[38;5;124m \u001b[39m\u001b[38;5;124m\"\u001b[39m \u001b[38;5;241m+\u001b[39m answer\n\u001b[1;32m     20\u001b[0m question_vector_dict[\u001b[38;5;124m'\u001b[39m\u001b[38;5;124mquestion_vector\u001b[39m\u001b[38;5;124m'\u001b[39m] \u001b[38;5;241m=\u001b[39m model\u001b[38;5;241m.\u001b[39mencode(question)\n\u001b[1;32m     21\u001b[0m answer_vector_dict[\u001b[38;5;124m'\u001b[39m\u001b[38;5;124manswer_vector\u001b[39m\u001b[38;5;124m'\u001b[39m] \u001b[38;5;241m=\u001b[39m model\u001b[38;5;241m.\u001b[39mencode(answer)\n",
      "\u001b[0;31mTypeError\u001b[0m: can only concatenate str (not \"NoneType\") to str"
     ]
    }
   ],
   "source": [
    "for i in range(2, 6):\n",
    "    document_question_vector_list = []\n",
    "    document_answer_vector_list = []\n",
    "    document_qta_vector_list = []\n",
    "    data = documents2.copy()\n",
    "    if (i == 3):\n",
    "        data = documents3.copy()\n",
    "    elif (i == 4):\n",
    "        data = documents4.copy()\n",
    "    elif (i == 5):\n",
    "        data = documents5.copy()\n",
    "    for doc in tqdm(data):\n",
    "        question_vector_dict = {}\n",
    "        answer_vector_dict = {}\n",
    "        qta_vector_dict = {}\n",
    "        question = doc['question']\n",
    "        context = doc['context']\n",
    "        answer = doc['answer']\n",
    "        qta = question + ' ' + context + \" \" + answer\n",
    "        question_vector_dict['question_vector'] = model.encode(question)\n",
    "        answer_vector_dict['answer_vector'] = model.encode(answer)\n",
    "        qta_vector_dict['question_context_answer_vector'] = model.encode(qta)\n",
    "        document_question_vector_list.append(question_vector_dict)\n",
    "        document_answer_vector_list.append(answer_vector_dict)\n",
    "        document_qta_vector_list.append(qta_vector_dict)\n",
    "    with open(f'../data/vietnamese_rag/question_vector_pickle/question_vector{i}.pkl', 'wb') as file:\n",
    "        pickle.dump(document_question_vector_list, file)\n",
    "    with open(f'../data/vietnamese_rag/answer_vector_pickle/answer_vector{i}.pkl', 'wb') as file:\n",
    "        pickle.dump(document_answer_vector_list, file)\n",
    "    with open(f'../data/vietnamese_rag/question_context_answer_vector_pickle/question_context_answer_vector{i}.pkl', 'wb') as file:\n",
    "        pickle.dump(document_qta_vector_list, file)"
   ]
  },
  {
   "cell_type": "code",
   "execution_count": 45,
   "id": "ce452290-b436-4224-a99a-9c74e6a72d87",
   "metadata": {
    "scrolled": true
   },
   "outputs": [
    {
     "name": "stderr",
     "output_type": "stream",
     "text": [
      "100%|██████████████████████████████████████████████████████████████████████████████████████████████████████████████████████████████████████████████████████████| 1217/1217 [02:36<00:00,  7.78it/s]\n",
      "100%|███████████████████████████████████████████████| 1221/1221 [02:40<00:00,  7.61it/s]\n"
     ]
    }
   ],
   "source": [
    "for i in range(4, 6):\n",
    "    document_question_vector_list = []\n",
    "    document_answer_vector_list = []\n",
    "    document_qta_vector_list = []\n",
    "    data = documents4.copy()\n",
    "    if (i == 5):\n",
    "        data = documents5.copy()\n",
    "    for doc in tqdm(data):\n",
    "        question_vector_dict = {}\n",
    "        answer_vector_dict = {}\n",
    "        qta_vector_dict = {}\n",
    "        question = doc['question']\n",
    "        context = doc['context']\n",
    "        answer = doc['answer']\n",
    "        qta = question + ' ' + context + \" \" + answer\n",
    "        question_vector_dict['question_vector'] = model.encode(question)\n",
    "        answer_vector_dict['answer_vector'] = model.encode(answer)\n",
    "        qta_vector_dict['question_context_answer_vector'] = model.encode(qta)\n",
    "        document_question_vector_list.append(question_vector_dict)\n",
    "        document_answer_vector_list.append(answer_vector_dict)\n",
    "        document_qta_vector_list.append(qta_vector_dict)\n",
    "    with open(f'../data/vietnamese_rag/question_vector_pickle/question_vector{i}.pkl', 'wb') as file:\n",
    "        pickle.dump(document_question_vector_list, file)\n",
    "    with open(f'../data/vietnamese_rag/answer_vector_pickle/answer_vector{i}.pkl', 'wb') as file:\n",
    "        pickle.dump(document_answer_vector_list, file)\n",
    "    with open(f'../data/vietnamese_rag/question_context_answer_vector_pickle/question_context_answer_vector{i}.pkl', 'wb') as file:\n",
    "        pickle.dump(document_qta_vector_list, file)"
   ]
  },
  {
   "cell_type": "code",
   "execution_count": 67,
   "id": "3602caf6-334e-4adf-af26-05a24a6d0732",
   "metadata": {},
   "outputs": [
    {
     "data": {
      "text/plain": [
       "ObjectApiResponse({'acknowledged': True, 'shards_acknowledged': True, 'index': 'vietnamese-questions'})"
      ]
     },
     "execution_count": 67,
     "metadata": {},
     "output_type": "execute_result"
    }
   ],
   "source": [
    "es_client = Elasticsearch('http://localhost:9200') \n",
    "\n",
    "index_settings = {\n",
    "    \"settings\": {\n",
    "        \"number_of_shards\": 1,\n",
    "        \"number_of_replicas\": 0\n",
    "    },\n",
    "    \"mappings\": {\n",
    "        \"properties\": {\n",
    "            \"group\": {\"type\": \"keyword\"},\n",
    "            \"context\": {\"type\": \"text\"},\n",
    "            \"question\": {\"type\": \"text\"},\n",
    "            \"answer\": {\"type\": \"text\"},\n",
    "            \"id\": {\"type\": \"keyword\"},\n",
    "            \"context_vector\": {\n",
    "                \"type\": \"dense_vector\",\n",
    "                \"dims\": 384,\n",
    "                \"index\": True,\n",
    "                \"similarity\": \"cosine\"\n",
    "            },\n",
    "            \"question_vector\": {\n",
    "                \"type\": \"dense_vector\",\n",
    "                \"dims\": 384,\n",
    "                \"index\": True,\n",
    "                \"similarity\": \"cosine\"\n",
    "            },\n",
    "            \"answer_vector\": {\n",
    "                \"type\": \"dense_vector\",\n",
    "                \"dims\": 384,\n",
    "                \"index\": True,\n",
    "                \"similarity\": \"cosine\"\n",
    "            },\n",
    "            \"question_context_answer_vector\": {\n",
    "                \"type\": \"dense_vector\",\n",
    "                \"dims\": 384,\n",
    "                \"index\": True,\n",
    "                \"similarity\": \"cosine\"\n",
    "            },\n",
    "        }\n",
    "    }\n",
    "}\n",
    "\n",
    "index_name = \"vietnamese-questions\"\n",
    "\n",
    "es_client.indices.delete(index=index_name, ignore_unavailable=True)\n",
    "es_client.indices.create(index=index_name, body=index_settings)"
   ]
  },
  {
   "cell_type": "code",
   "execution_count": 53,
   "id": "a9f129ce-6083-4656-9fe3-cb3cb44ed324",
   "metadata": {
    "scrolled": true
   },
   "outputs": [
    {
     "ename": "IndentationError",
     "evalue": "unindent does not match any outer indentation level (<tokenize>, line 16)",
     "output_type": "error",
     "traceback": [
      "\u001b[0;36m  File \u001b[0;32m<tokenize>:16\u001b[0;36m\u001b[0m\n\u001b[0;31m    with open(f'../data/vietnamese_rag/answer_vector_pickle/answer_vector{i}.pkl', 'rb') as file:\u001b[0m\n\u001b[0m    ^\u001b[0m\n\u001b[0;31mIndentationError\u001b[0m\u001b[0;31m:\u001b[0m unindent does not match any outer indentation level\n"
     ]
    }
   ],
   "source": [
    "for i in range(1, 6):\n",
    "    document_question_vector_list = []\n",
    "    document_answer_vector_list = []\n",
    "    document_qta_vector_list = []\n",
    "    data = documents1.copy()\n",
    "    with open(f'../data/vietnamese_rag/question_vector_pickle/question_vector1.pkl', 'rb') as file:\n",
    "        document_question_vector_list = pickle.load(file)\n",
    "    with open(f'../data/vietnamese_rag/answer_vector_pickle/answer_vector1.pkl', 'rb') as file:\n",
    "        document_answer_vector_list = pickle.load(file)\n",
    "    with open(f'../data/vietnamese_rag/question_context_answer_vector_pickle/question_context_answer_vector1.pkl', 'rb') as file:\n",
    "        document_qta_vector_list = pickle.load(file)\n",
    "    if (i == 2):\n",
    "        data = documents2.copy()\n",
    "        with open(f'../data/vietnamese_rag/question_vector_pickle/question_vector{i}.pkl', 'rb') as file:\n",
    "            document_question_vector_list = pickle.load(file)\n",
    "         with open(f'../data/vietnamese_rag/answer_vector_pickle/answer_vector{i}.pkl', 'rb') as file:\n",
    "            document_answer_vector_list = pickle.load(file)\n",
    "        with open(f'../data/vietnamese_rag/question_context_answer_vector_pickle/question_context_answer_vector{i}.pkl', 'rb') as file:\n",
    "            document_qta_vector_list = pickle.load(file)\n",
    "    elif (i == 3):\n",
    "        data = documents3.copy()\n",
    "        with open(f'../data/vietnamese_rag/question_vector_pickle/question_vector{i}.pkl', 'rb') as file:\n",
    "            document_question_vector_list = pickle.load(file)\n",
    "         with open(f'../data/vietnamese_rag/answer_vector_pickle/answer_vector{i}.pkl', 'rb') as file:\n",
    "            document_answer_vector_list = pickle.load(file)\n",
    "        with open(f'../data/vietnamese_rag/question_context_answer_vector_pickle/question_context_answer_vector{i}.pkl', 'rb') as file:\n",
    "            document_qta_vector_list = pickle.load(file)\n",
    "    elif (i == 4):\n",
    "        data = documents4.copy()\n",
    "        with open(f'../data/vietnamese_rag/question_vector_pickle/question_vector{i}.pkl', 'rb') as file:\n",
    "            document_question_vector_list = pickle.load(file)\n",
    "         with open(f'../data/vietnamese_rag/answer_vector_pickle/answer_vector{i}.pkl', 'rb') as file:\n",
    "            document_answer_vector_list = pickle.load(file)\n",
    "        with open(f'../data/vietnamese_rag/question_context_answer_vector_pickle/question_context_answer_vector{i}.pkl', 'rb') as file:\n",
    "            document_qta_vector_list = pickle.load(file)\n",
    "    elif (i == 5):\n",
    "        data = documents5.copy()\n",
    "        with open(f'../data/vietnamese_rag/question_vector_pickle/question_vector{i}.pkl', 'rb') as file:\n",
    "            document_question_vector_list = pickle.load(file)\n",
    "         with open(f'../data/vietnamese_rag/answer_vector_pickle/answer_vector{i}.pkl', 'rb') as file:\n",
    "            document_answer_vector_list = pickle.load(file)\n",
    "        with open(f'../data/vietnamese_rag/question_context_answer_vector_pickle/question_context_answer_vector{i}.pkl', 'rb') as file:\n",
    "            document_qta_vector_list = pickle.load(file)\n",
    "    for i in range(len(data)):\n",
    "        doc[i]['question_vector'] = document_question_vector_list[i]['question_vector']\n",
    "        doc[i]['answer_vector'] = document_answer_vector_list[i]['answer_vector']\n",
    "        doc[i]['question_context_answer_vector'] = document_qta_vector_list[i]['question_context_answer_vector']\n",
    "    for doc in tqdm(data):\n",
    "        es_client.index(index=index_name, document=doc)"
   ]
  },
  {
   "cell_type": "code",
   "execution_count": 68,
   "id": "8b03bcaa-3276-4e7b-9ea2-9e38253a8f11",
   "metadata": {},
   "outputs": [],
   "source": [
    "def load_vectors(file_path):\n",
    "    with open(file_path, 'rb') as file:\n",
    "        return pickle.load(file)\n",
    "\n",
    "def process_documents(documents, index_name, es_client):\n",
    "    for i in range(1, 6):\n",
    "        if i == 1:\n",
    "            data = documents1.copy()\n",
    "        elif i == 2:\n",
    "            data = documents2.copy()\n",
    "        elif i == 3:\n",
    "            data = documents3.copy()\n",
    "        elif i == 4:\n",
    "            data = documents4.copy()\n",
    "        elif i == 5:\n",
    "            data = documents5.copy()\n",
    "\n",
    "        document_question_vector_list = load_vectors(f'../data/vietnamese_rag/question_vector_pickle/question_vector{i}.pkl')\n",
    "        document_answer_vector_list = load_vectors(f'../data/vietnamese_rag/answer_vector_pickle/answer_vector{i}.pkl')\n",
    "        document_qta_vector_list = load_vectors(f'../data/vietnamese_rag/question_context_answer_vector_pickle/question_context_answer_vector{i}.pkl')\n",
    "\n",
    "        for j in range(len(data)):\n",
    "            data[j]['question_vector'] = document_question_vector_list[j]['question_vector']\n",
    "            data[j]['answer_vector'] = document_answer_vector_list[j]['answer_vector']\n",
    "            data[j]['question_context_answer_vector'] = document_qta_vector_list[j]['question_context_answer_vector']\n",
    "\n",
    "        for doc in tqdm(data):\n",
    "            es_client.index(index=index_name, document=doc)\n"
   ]
  },
  {
   "cell_type": "code",
   "execution_count": 69,
   "id": "090c17d1-7917-46f2-abc3-8856b2d32eee",
   "metadata": {},
   "outputs": [
    {
     "name": "stderr",
     "output_type": "stream",
     "text": [
      "100%|███████████████████████████████████████████████| 1217/1217 [00:26<00:00, 45.17it/s]\n",
      "100%|███████████████████████████████████████████████| 1217/1217 [00:27<00:00, 44.29it/s]\n",
      "100%|███████████████████████████████████████████████| 1217/1217 [00:27<00:00, 44.31it/s]\n",
      "100%|███████████████████████████████████████████████| 1217/1217 [00:27<00:00, 43.79it/s]\n",
      "100%|███████████████████████████████████████████████| 1221/1221 [00:30<00:00, 39.73it/s]\n"
     ]
    }
   ],
   "source": [
    "process_documents(documents, index_name, es_client)"
   ]
  },
  {
   "cell_type": "code",
   "execution_count": 83,
   "id": "e8693e6b-ace0-4b2a-8610-a02e0e7b11f9",
   "metadata": {},
   "outputs": [],
   "source": [
    "query = 'Pep Guardiola là ai ? '\n",
    "v_q = model.encode(query)"
   ]
  },
  {
   "cell_type": "code",
   "execution_count": 87,
   "id": "344cdad9-b425-4f0b-ab21-dc736063f692",
   "metadata": {},
   "outputs": [
    {
     "name": "stdout",
     "output_type": "stream",
     "text": [
      "Những gì Pep Guardiola đã làm để giúp các ngôi sao của Man City xuất sắc hơn chính họ?\n",
      "Ai là những người đã góp mặt tại bữa tiệc mừng Giáng sinh và chức vô địch lượt đi sớm tổ chức bởi Pep Guardiola tại một hộp đêm ở Manchester?\n",
      "Carol Catan là ai và cô ấy làm gì ở Brazil?\n",
      "Tại sao Pep Guardiola lại thích Virgil Van Dijk và Inigo Martinez trong kì chuyển nhượng tháng 1.2018?\n",
      "Karim Benzema có thể sắp chuyển đến đâu trong mùa hè năm nay?\n"
     ]
    }
   ],
   "source": [
    "knn = {\n",
    "        \"field\": \"question_vector\",\n",
    "        \"query_vector\": v_q,\n",
    "        \"k\": 5,\n",
    "        \"num_candidates\": 10000,\n",
    "    }\n",
    "\n",
    "search_query = {\n",
    "    \"knn\": knn,\n",
    "    \"_source\": [\"group\", \"context\", \"question\", \"answer\", \"id\"]\n",
    "}\n",
    "es_results = es_client.search(\n",
    "    index = index_name,\n",
    "    knn = knn,\n",
    "    source = [\"group\", \"context\", \"question\", \"answer\", \"id\"]\n",
    ")\n",
    "result_docs = []\n",
    "    \n",
    "for hit in es_results['hits']['hits']:\n",
    "    result_docs.append(hit['_source'])\n",
    "\n",
    "for result in result_docs:\n",
    "    print(result['question'])"
   ]
  },
  {
   "cell_type": "code",
   "execution_count": 109,
   "id": "1cba3898-c0a2-4eab-86fe-43b971c68235",
   "metadata": {},
   "outputs": [],
   "source": [
    "def elastic_search_knn(field, vector, group):\n",
    "    knn = {\n",
    "        \"field\": field,\n",
    "        \"query_vector\": vector,\n",
    "        \"k\": 5,\n",
    "        \"num_candidates\": 10000,\n",
    "        \"filter\": {\n",
    "            \"term\": {\n",
    "                \"group\": group\n",
    "            }\n",
    "        }\n",
    "    }\n",
    "\n",
    "    search_query = {\n",
    "        \"knn\": knn,\n",
    "        \"_source\": [\"group\", \"context\", \"question\", \"answer\", \"id\"]\n",
    "    }\n",
    "\n",
    "    es_results = es_client.search(\n",
    "        index=index_name,\n",
    "        body=search_query\n",
    "    )\n",
    "    \n",
    "    result_docs = []\n",
    "    \n",
    "    for hit in es_results['hits']['hits']:\n",
    "        result_docs.append(hit['_source'])\n",
    "\n",
    "    return result_docs"
   ]
  },
  {
   "cell_type": "code",
   "execution_count": 123,
   "id": "5b42f29e-2241-4cf0-a455-d759f0494165",
   "metadata": {},
   "outputs": [],
   "source": [
    "\n",
    "def question_vector_knn(q):\n",
    "    # print(q)\n",
    "    question = q['question']\n",
    "    group = q['Group']\n",
    "    if not isinstance(question, str):\n",
    "        print(question)\n",
    "        raise TypeError(f\"Expected question to be a string, but got {type(question)}\")\n",
    "    v_q = model.encode(question)\n",
    "\n",
    "    return elastic_search_knn('question_vector', v_q, group)"
   ]
  },
  {
   "cell_type": "code",
   "execution_count": 151,
   "id": "c96a667d-1809-4201-8901-184da7e5e7cf",
   "metadata": {},
   "outputs": [
    {
     "data": {
      "text/plain": [
       "{'question': \"Minh Tú đã gặp khó khăn gì trong thử thách đi catwalk tại Asia's Next Top Model mùa 5?\",\n",
       " 'Group': 'General',\n",
       " 'document': '75fafd29'}"
      ]
     },
     "execution_count": 151,
     "metadata": {},
     "output_type": "execute_result"
    }
   ],
   "source": [
    "df_ground_truth = pd.read_csv('../data/vietnamese_rag/ground_truth_data/ground_truth_data.csv')\n",
    "\n",
    "ground_truth = df_ground_truth.to_dict(orient='records')\n",
    "ground_truth[0]"
   ]
  },
  {
   "cell_type": "code",
   "execution_count": 152,
   "id": "e615fa8b-f862-402d-87f5-edc36808d99d",
   "metadata": {},
   "outputs": [
    {
     "name": "stdout",
     "output_type": "stream",
     "text": [
      "<class 'pandas.core.frame.DataFrame'>\n",
      "RangeIndex: 29203 entries, 0 to 29202\n",
      "Data columns (total 3 columns):\n",
      " #   Column    Non-Null Count  Dtype \n",
      "---  ------    --------------  ----- \n",
      " 0   question  29203 non-null  object\n",
      " 1   Group     29203 non-null  object\n",
      " 2   document  29203 non-null  object\n",
      "dtypes: object(3)\n",
      "memory usage: 684.6+ KB\n"
     ]
    }
   ],
   "source": [
    "df_ground_truth = pd.read_csv('../data/vietnamese_rag/ground_truth_data/ground_truth_data.csv')\n",
    "df_ground_truth.info()"
   ]
  },
  {
   "cell_type": "code",
   "execution_count": 153,
   "id": "ddcab56d-1ac9-4aad-9cf0-b92ad6d03594",
   "metadata": {},
   "outputs": [],
   "source": [
    "\n",
    "def hit_rate(relevance_total):\n",
    "    cnt = 0\n",
    "\n",
    "    for line in relevance_total:\n",
    "        if True in line:\n",
    "            cnt = cnt + 1\n",
    "\n",
    "    return cnt / len(relevance_total)"
   ]
  },
  {
   "cell_type": "code",
   "execution_count": 154,
   "id": "b286ebe9-a980-4992-b9ee-d1accf08d761",
   "metadata": {},
   "outputs": [],
   "source": [
    "\n",
    "def mrr(relevance_total):\n",
    "    total_score = 0.0\n",
    "\n",
    "    for line in relevance_total:\n",
    "        for rank in range(len(line)):\n",
    "            if line[rank] == True:\n",
    "                total_score = total_score + 1 / (rank + 1)\n",
    "\n",
    "    return total_score / len(relevance_total)"
   ]
  },
  {
   "cell_type": "code",
   "execution_count": 155,
   "id": "4c407abf-1972-4577-ad1b-beeb144de889",
   "metadata": {},
   "outputs": [],
   "source": [
    "\n",
    "def evaluate(ground_truth, search_function):\n",
    "    relevance_total = []\n",
    "\n",
    "    for q in tqdm(ground_truth):\n",
    "        doc_id = q['document']\n",
    "        results = search_function(q)\n",
    "        relevance = [d['id'] == doc_id for d in results]\n",
    "        relevance_total.append(relevance)\n",
    "\n",
    "    return {\n",
    "        'hit_rate': hit_rate(relevance_total),\n",
    "        'mrr': mrr(relevance_total),\n",
    "    }"
   ]
  },
  {
   "cell_type": "code",
   "execution_count": 156,
   "id": "b55b721f-1388-4d3a-9ee6-dc153b792c40",
   "metadata": {},
   "outputs": [],
   "source": [
    "# id_list = []\n",
    "# for q in tqdm(ground_truth):\n",
    "#     question = q['question']\n",
    "#     group = q['Group']\n",
    "#     if not isinstance(question, str):\n",
    "#         id_list.append(q['document'])"
   ]
  },
  {
   "cell_type": "code",
   "execution_count": 157,
   "id": "d023e577-f329-42ca-be40-3e4c51e92b7c",
   "metadata": {
    "scrolled": true
   },
   "outputs": [],
   "source": [
    "# id_list"
   ]
  },
  {
   "cell_type": "code",
   "execution_count": 158,
   "id": "d60f8328-8a4e-45e6-9359-05bd9e8bab83",
   "metadata": {},
   "outputs": [],
   "source": [
    " # df_ground_truth[df_ground_truth['document'].isin(id_list)]"
   ]
  },
  {
   "cell_type": "code",
   "execution_count": 159,
   "id": "287e3416-fae2-44f1-807f-eaf9d3dd00d3",
   "metadata": {},
   "outputs": [
    {
     "name": "stderr",
     "output_type": "stream",
     "text": [
      "100%|███████████████████| 29203/29203 [15:54<00:00, 30.59it/s]\n"
     ]
    },
    {
     "data": {
      "text/plain": [
       "{'hit_rate': 0.7979659624011232, 'mrr': 0.6908942003675488}"
      ]
     },
     "execution_count": 159,
     "metadata": {},
     "output_type": "execute_result"
    }
   ],
   "source": [
    "\n",
    "evaluate(ground_truth, question_vector_knn)"
   ]
  },
  {
   "cell_type": "code",
   "execution_count": 160,
   "id": "5130707d-fee7-4b1e-8cc9-6d883c29523a",
   "metadata": {},
   "outputs": [],
   "source": [
    "def context_vector_knn(q):\n",
    "    question = q['question']\n",
    "    group = q['Group']\n",
    "\n",
    "    v_q = model.encode(question)\n",
    "\n",
    "    return elastic_search_knn('context_vector', v_q, group)"
   ]
  },
  {
   "cell_type": "code",
   "execution_count": 161,
   "id": "2fd45d65-4ab7-4700-acfa-ae43d3400c69",
   "metadata": {},
   "outputs": [],
   "source": [
    "def question_context_answer_vector_knn(q):\n",
    "    question = q['question']\n",
    "    group = q['Group']\n",
    "\n",
    "    v_q = model.encode(question)\n",
    "\n",
    "    return elastic_search_knn('question_context_answer_vector', v_q, group)"
   ]
  },
  {
   "cell_type": "code",
   "execution_count": 162,
   "id": "eb52ce0d-5c8f-4699-aa67-a74f3c9b1743",
   "metadata": {},
   "outputs": [],
   "source": [
    "def answer_vector_knn(q):\n",
    "    question = q['question']\n",
    "    group = q['Group']\n",
    "\n",
    "    v_q = model.encode(question)\n",
    "\n",
    "    return elastic_search_knn('answer_vector', v_q, group)"
   ]
  },
  {
   "cell_type": "code",
   "execution_count": 173,
   "id": "f0c75e6c-2c40-45b0-b828-f1908a4cff65",
   "metadata": {},
   "outputs": [],
   "source": [
    "def elastic_search_knn_combined(vector, group):\n",
    "    search_query = {\n",
    "        \"size\": 5,\n",
    "        \"query\": {\n",
    "            \"bool\": {\n",
    "                \"must\": [\n",
    "                    {\n",
    "                        \"script_score\": {\n",
    "                            \"query\": {\n",
    "                                \"term\": {\n",
    "                                    \"group\": group\n",
    "                                }\n",
    "                            },\n",
    "                            \"script\": {\n",
    "                                \"source\": \"\"\"\n",
    "                                    cosineSimilarity(params.query_vector, 'context_vector') + \n",
    "                                    cosineSimilarity(params.query_vector, 'question_vector') + \n",
    "                                    cosineSimilarity(params.query_vector, 'answer_vector') + \n",
    "                                    cosineSimilarity(params.query_vector, 'question_context_answer_vector') + \n",
    "                                    1\n",
    "                                \"\"\",\n",
    "                                \"params\": {\n",
    "                                    \"query_vector\": vector\n",
    "                                }\n",
    "                            }\n",
    "                        }\n",
    "                    }\n",
    "                ],\n",
    "                \"filter\": {\n",
    "                    \"term\": {\n",
    "                        \"group\": group\n",
    "                    }\n",
    "                }\n",
    "            }\n",
    "        },\n",
    "        \"_source\": [\"group\", \"context\", \"question\", \"answer\", \"id\"]\n",
    "    }\n",
    "    es_results = es_client.search(\n",
    "        index=index_name,\n",
    "        body=search_query\n",
    "    )\n",
    "    \n",
    "    result_docs = []\n",
    "    \n",
    "    for hit in es_results['hits']['hits']:\n",
    "        result_docs.append(hit['_source'])\n",
    "\n",
    "    return result_docs"
   ]
  },
  {
   "cell_type": "code",
   "execution_count": 174,
   "id": "42e5c208-e828-4470-b011-eb408e10eb17",
   "metadata": {},
   "outputs": [],
   "source": [
    "def vector_combined_knn(q):\n",
    "    question = q['question']\n",
    "    group = q['Group']\n",
    "\n",
    "    v_q = model.encode(question)\n",
    "    return elastic_search_knn_combined(v_q, group)"
   ]
  },
  {
   "cell_type": "code",
   "execution_count": 165,
   "id": "3c1ab843-e6a3-494e-802e-091e03edb056",
   "metadata": {},
   "outputs": [
    {
     "name": "stderr",
     "output_type": "stream",
     "text": [
      "100%|█████████████████████████████████████████████| 29203/29203 [15:50<00:00, 30.71it/s]\n"
     ]
    },
    {
     "data": {
      "text/plain": [
       "{'hit_rate': 0.7839263089408622, 'mrr': 0.6888230661233499}"
      ]
     },
     "execution_count": 165,
     "metadata": {},
     "output_type": "execute_result"
    }
   ],
   "source": [
    "evaluate(ground_truth, answer_vector_knn)"
   ]
  },
  {
   "cell_type": "code",
   "execution_count": 166,
   "id": "a20f4302-0afe-40c6-945a-d13eaac851e5",
   "metadata": {},
   "outputs": [
    {
     "name": "stderr",
     "output_type": "stream",
     "text": [
      "100%|████████████████████████████████████████████████████████████████████████████████████████████████████████████████████████████████████████████████████████| 29203/29203 [15:50<00:00, 30.72it/s]\n"
     ]
    },
    {
     "data": {
      "text/plain": [
       "{'hit_rate': 0.6785946649316851, 'mrr': 0.5622133570751965}"
      ]
     },
     "execution_count": 166,
     "metadata": {},
     "output_type": "execute_result"
    }
   ],
   "source": [
    "evaluate(ground_truth, question_context_answer_vector_knn)"
   ]
  },
  {
   "cell_type": "code",
   "execution_count": 167,
   "id": "418c5ffb-db5e-4aa9-a18e-2c71bb174e52",
   "metadata": {},
   "outputs": [
    {
     "name": "stderr",
     "output_type": "stream",
     "text": [
      "100%|████████████████████████████████████████████████████████████████████████████████████████████████████████████████████████████████████████████████████████| 29203/29203 [11:58<00:00, 40.66it/s]\n"
     ]
    },
    {
     "data": {
      "text/plain": [
       "{'hit_rate': 0.0, 'mrr': 0.0}"
      ]
     },
     "execution_count": 167,
     "metadata": {},
     "output_type": "execute_result"
    }
   ],
   "source": [
    "evaluate(ground_truth, context_vector_knn)"
   ]
  },
  {
   "cell_type": "code",
   "execution_count": 175,
   "id": "662d6ad1-98ca-4d3c-b7aa-04e41cf5de31",
   "metadata": {},
   "outputs": [
    {
     "name": "stderr",
     "output_type": "stream",
     "text": [
      "  0%|                                                                                                                                                                    | 0/29203 [00:00<?, ?it/s]\n"
     ]
    },
    {
     "ename": "BadRequestError",
     "evalue": "BadRequestError(400, 'search_phase_execution_exception', 'runtime error')",
     "output_type": "error",
     "traceback": [
      "\u001b[0;31m---------------------------------------------------------------------------\u001b[0m",
      "\u001b[0;31mBadRequestError\u001b[0m                           Traceback (most recent call last)",
      "Cell \u001b[0;32mIn[175], line 1\u001b[0m\n\u001b[0;32m----> 1\u001b[0m \u001b[43mevaluate\u001b[49m\u001b[43m(\u001b[49m\u001b[43mground_truth\u001b[49m\u001b[43m,\u001b[49m\u001b[43m \u001b[49m\u001b[43mvector_combined_knn\u001b[49m\u001b[43m)\u001b[49m\n",
      "Cell \u001b[0;32mIn[155], line 6\u001b[0m, in \u001b[0;36mevaluate\u001b[0;34m(ground_truth, search_function)\u001b[0m\n\u001b[1;32m      4\u001b[0m \u001b[38;5;28;01mfor\u001b[39;00m q \u001b[38;5;129;01min\u001b[39;00m tqdm(ground_truth):\n\u001b[1;32m      5\u001b[0m     doc_id \u001b[38;5;241m=\u001b[39m q[\u001b[38;5;124m'\u001b[39m\u001b[38;5;124mdocument\u001b[39m\u001b[38;5;124m'\u001b[39m]\n\u001b[0;32m----> 6\u001b[0m     results \u001b[38;5;241m=\u001b[39m \u001b[43msearch_function\u001b[49m\u001b[43m(\u001b[49m\u001b[43mq\u001b[49m\u001b[43m)\u001b[49m\n\u001b[1;32m      7\u001b[0m     relevance \u001b[38;5;241m=\u001b[39m [d[\u001b[38;5;124m'\u001b[39m\u001b[38;5;124mid\u001b[39m\u001b[38;5;124m'\u001b[39m] \u001b[38;5;241m==\u001b[39m doc_id \u001b[38;5;28;01mfor\u001b[39;00m d \u001b[38;5;129;01min\u001b[39;00m results]\n\u001b[1;32m      8\u001b[0m     relevance_total\u001b[38;5;241m.\u001b[39mappend(relevance)\n",
      "Cell \u001b[0;32mIn[174], line 6\u001b[0m, in \u001b[0;36mvector_combined_knn\u001b[0;34m(q)\u001b[0m\n\u001b[1;32m      3\u001b[0m group \u001b[38;5;241m=\u001b[39m q[\u001b[38;5;124m'\u001b[39m\u001b[38;5;124mGroup\u001b[39m\u001b[38;5;124m'\u001b[39m]\n\u001b[1;32m      5\u001b[0m v_q \u001b[38;5;241m=\u001b[39m model\u001b[38;5;241m.\u001b[39mencode(question)\n\u001b[0;32m----> 6\u001b[0m \u001b[38;5;28;01mreturn\u001b[39;00m \u001b[43melastic_search_knn_combined\u001b[49m\u001b[43m(\u001b[49m\u001b[43mv_q\u001b[49m\u001b[43m,\u001b[49m\u001b[43m \u001b[49m\u001b[43mgroup\u001b[49m\u001b[43m)\u001b[49m\n",
      "Cell \u001b[0;32mIn[173], line 38\u001b[0m, in \u001b[0;36melastic_search_knn_combined\u001b[0;34m(vector, group)\u001b[0m\n\u001b[1;32m      1\u001b[0m \u001b[38;5;28;01mdef\u001b[39;00m \u001b[38;5;21melastic_search_knn_combined\u001b[39m(vector, group):\n\u001b[1;32m      2\u001b[0m     search_query \u001b[38;5;241m=\u001b[39m {\n\u001b[1;32m      3\u001b[0m         \u001b[38;5;124m\"\u001b[39m\u001b[38;5;124msize\u001b[39m\u001b[38;5;124m\"\u001b[39m: \u001b[38;5;241m5\u001b[39m,\n\u001b[1;32m      4\u001b[0m         \u001b[38;5;124m\"\u001b[39m\u001b[38;5;124mquery\u001b[39m\u001b[38;5;124m\"\u001b[39m: {\n\u001b[0;32m   (...)\u001b[0m\n\u001b[1;32m     36\u001b[0m         \u001b[38;5;124m\"\u001b[39m\u001b[38;5;124m_source\u001b[39m\u001b[38;5;124m\"\u001b[39m: [\u001b[38;5;124m\"\u001b[39m\u001b[38;5;124mgroup\u001b[39m\u001b[38;5;124m\"\u001b[39m, \u001b[38;5;124m\"\u001b[39m\u001b[38;5;124mcontext\u001b[39m\u001b[38;5;124m\"\u001b[39m, \u001b[38;5;124m\"\u001b[39m\u001b[38;5;124mquestion\u001b[39m\u001b[38;5;124m\"\u001b[39m, \u001b[38;5;124m\"\u001b[39m\u001b[38;5;124manswer\u001b[39m\u001b[38;5;124m\"\u001b[39m, \u001b[38;5;124m\"\u001b[39m\u001b[38;5;124mid\u001b[39m\u001b[38;5;124m\"\u001b[39m]\n\u001b[1;32m     37\u001b[0m     }\n\u001b[0;32m---> 38\u001b[0m     es_results \u001b[38;5;241m=\u001b[39m \u001b[43mes_client\u001b[49m\u001b[38;5;241;43m.\u001b[39;49m\u001b[43msearch\u001b[49m\u001b[43m(\u001b[49m\n\u001b[1;32m     39\u001b[0m \u001b[43m        \u001b[49m\u001b[43mindex\u001b[49m\u001b[38;5;241;43m=\u001b[39;49m\u001b[43mindex_name\u001b[49m\u001b[43m,\u001b[49m\n\u001b[1;32m     40\u001b[0m \u001b[43m        \u001b[49m\u001b[43mbody\u001b[49m\u001b[38;5;241;43m=\u001b[39;49m\u001b[43msearch_query\u001b[49m\n\u001b[1;32m     41\u001b[0m \u001b[43m    \u001b[49m\u001b[43m)\u001b[49m\n\u001b[1;32m     43\u001b[0m     result_docs \u001b[38;5;241m=\u001b[39m []\n\u001b[1;32m     45\u001b[0m     \u001b[38;5;28;01mfor\u001b[39;00m hit \u001b[38;5;129;01min\u001b[39;00m es_results[\u001b[38;5;124m'\u001b[39m\u001b[38;5;124mhits\u001b[39m\u001b[38;5;124m'\u001b[39m][\u001b[38;5;124m'\u001b[39m\u001b[38;5;124mhits\u001b[39m\u001b[38;5;124m'\u001b[39m]:\n",
      "File \u001b[0;32m~/.python/current/lib/python3.10/site-packages/elasticsearch/_sync/client/utils.py:446\u001b[0m, in \u001b[0;36m_rewrite_parameters.<locals>.wrapper.<locals>.wrapped\u001b[0;34m(*args, **kwargs)\u001b[0m\n\u001b[1;32m    443\u001b[0m         \u001b[38;5;28;01mexcept\u001b[39;00m \u001b[38;5;167;01mKeyError\u001b[39;00m:\n\u001b[1;32m    444\u001b[0m             \u001b[38;5;28;01mpass\u001b[39;00m\n\u001b[0;32m--> 446\u001b[0m \u001b[38;5;28;01mreturn\u001b[39;00m \u001b[43mapi\u001b[49m\u001b[43m(\u001b[49m\u001b[38;5;241;43m*\u001b[39;49m\u001b[43margs\u001b[49m\u001b[43m,\u001b[49m\u001b[43m \u001b[49m\u001b[38;5;241;43m*\u001b[39;49m\u001b[38;5;241;43m*\u001b[39;49m\u001b[43mkwargs\u001b[49m\u001b[43m)\u001b[49m\n",
      "File \u001b[0;32m~/.python/current/lib/python3.10/site-packages/elasticsearch/_sync/client/__init__.py:4119\u001b[0m, in \u001b[0;36mElasticsearch.search\u001b[0;34m(self, index, aggregations, aggs, allow_no_indices, allow_partial_search_results, analyze_wildcard, analyzer, batched_reduce_size, ccs_minimize_roundtrips, collapse, default_operator, df, docvalue_fields, error_trace, expand_wildcards, explain, ext, fields, filter_path, force_synthetic_source, from_, highlight, human, ignore_throttled, ignore_unavailable, indices_boost, knn, lenient, max_concurrent_shard_requests, min_compatible_shard_node, min_score, pit, post_filter, pre_filter_shard_size, preference, pretty, profile, q, query, rank, request_cache, rescore, rest_total_hits_as_int, retriever, routing, runtime_mappings, script_fields, scroll, search_after, search_type, seq_no_primary_term, size, slice, sort, source, source_excludes, source_includes, stats, stored_fields, suggest, suggest_field, suggest_mode, suggest_size, suggest_text, terminate_after, timeout, track_scores, track_total_hits, typed_keys, version, body)\u001b[0m\n\u001b[1;32m   4117\u001b[0m \u001b[38;5;28;01mif\u001b[39;00m __body \u001b[38;5;129;01mis\u001b[39;00m \u001b[38;5;129;01mnot\u001b[39;00m \u001b[38;5;28;01mNone\u001b[39;00m:\n\u001b[1;32m   4118\u001b[0m     __headers[\u001b[38;5;124m\"\u001b[39m\u001b[38;5;124mcontent-type\u001b[39m\u001b[38;5;124m\"\u001b[39m] \u001b[38;5;241m=\u001b[39m \u001b[38;5;124m\"\u001b[39m\u001b[38;5;124mapplication/json\u001b[39m\u001b[38;5;124m\"\u001b[39m\n\u001b[0;32m-> 4119\u001b[0m \u001b[38;5;28;01mreturn\u001b[39;00m \u001b[38;5;28;43mself\u001b[39;49m\u001b[38;5;241;43m.\u001b[39;49m\u001b[43mperform_request\u001b[49m\u001b[43m(\u001b[49m\u001b[43m  \u001b[49m\u001b[38;5;66;43;03m# type: ignore[return-value]\u001b[39;49;00m\n\u001b[1;32m   4120\u001b[0m \u001b[43m    \u001b[49m\u001b[38;5;124;43m\"\u001b[39;49m\u001b[38;5;124;43mPOST\u001b[39;49m\u001b[38;5;124;43m\"\u001b[39;49m\u001b[43m,\u001b[49m\n\u001b[1;32m   4121\u001b[0m \u001b[43m    \u001b[49m\u001b[43m__path\u001b[49m\u001b[43m,\u001b[49m\n\u001b[1;32m   4122\u001b[0m \u001b[43m    \u001b[49m\u001b[43mparams\u001b[49m\u001b[38;5;241;43m=\u001b[39;49m\u001b[43m__query\u001b[49m\u001b[43m,\u001b[49m\n\u001b[1;32m   4123\u001b[0m \u001b[43m    \u001b[49m\u001b[43mheaders\u001b[49m\u001b[38;5;241;43m=\u001b[39;49m\u001b[43m__headers\u001b[49m\u001b[43m,\u001b[49m\n\u001b[1;32m   4124\u001b[0m \u001b[43m    \u001b[49m\u001b[43mbody\u001b[49m\u001b[38;5;241;43m=\u001b[39;49m\u001b[43m__body\u001b[49m\u001b[43m,\u001b[49m\n\u001b[1;32m   4125\u001b[0m \u001b[43m    \u001b[49m\u001b[43mendpoint_id\u001b[49m\u001b[38;5;241;43m=\u001b[39;49m\u001b[38;5;124;43m\"\u001b[39;49m\u001b[38;5;124;43msearch\u001b[39;49m\u001b[38;5;124;43m\"\u001b[39;49m\u001b[43m,\u001b[49m\n\u001b[1;32m   4126\u001b[0m \u001b[43m    \u001b[49m\u001b[43mpath_parts\u001b[49m\u001b[38;5;241;43m=\u001b[39;49m\u001b[43m__path_parts\u001b[49m\u001b[43m,\u001b[49m\n\u001b[1;32m   4127\u001b[0m \u001b[43m\u001b[49m\u001b[43m)\u001b[49m\n",
      "File \u001b[0;32m~/.python/current/lib/python3.10/site-packages/elasticsearch/_sync/client/_base.py:271\u001b[0m, in \u001b[0;36mBaseClient.perform_request\u001b[0;34m(self, method, path, params, headers, body, endpoint_id, path_parts)\u001b[0m\n\u001b[1;32m    255\u001b[0m \u001b[38;5;28;01mdef\u001b[39;00m \u001b[38;5;21mperform_request\u001b[39m(\n\u001b[1;32m    256\u001b[0m     \u001b[38;5;28mself\u001b[39m,\n\u001b[1;32m    257\u001b[0m     method: \u001b[38;5;28mstr\u001b[39m,\n\u001b[0;32m   (...)\u001b[0m\n\u001b[1;32m    264\u001b[0m     path_parts: Optional[Mapping[\u001b[38;5;28mstr\u001b[39m, Any]] \u001b[38;5;241m=\u001b[39m \u001b[38;5;28;01mNone\u001b[39;00m,\n\u001b[1;32m    265\u001b[0m ) \u001b[38;5;241m-\u001b[39m\u001b[38;5;241m>\u001b[39m ApiResponse[Any]:\n\u001b[1;32m    266\u001b[0m     \u001b[38;5;28;01mwith\u001b[39;00m \u001b[38;5;28mself\u001b[39m\u001b[38;5;241m.\u001b[39m_otel\u001b[38;5;241m.\u001b[39mspan(\n\u001b[1;32m    267\u001b[0m         method,\n\u001b[1;32m    268\u001b[0m         endpoint_id\u001b[38;5;241m=\u001b[39mendpoint_id,\n\u001b[1;32m    269\u001b[0m         path_parts\u001b[38;5;241m=\u001b[39mpath_parts \u001b[38;5;129;01mor\u001b[39;00m {},\n\u001b[1;32m    270\u001b[0m     ) \u001b[38;5;28;01mas\u001b[39;00m otel_span:\n\u001b[0;32m--> 271\u001b[0m         response \u001b[38;5;241m=\u001b[39m \u001b[38;5;28;43mself\u001b[39;49m\u001b[38;5;241;43m.\u001b[39;49m\u001b[43m_perform_request\u001b[49m\u001b[43m(\u001b[49m\n\u001b[1;32m    272\u001b[0m \u001b[43m            \u001b[49m\u001b[43mmethod\u001b[49m\u001b[43m,\u001b[49m\n\u001b[1;32m    273\u001b[0m \u001b[43m            \u001b[49m\u001b[43mpath\u001b[49m\u001b[43m,\u001b[49m\n\u001b[1;32m    274\u001b[0m \u001b[43m            \u001b[49m\u001b[43mparams\u001b[49m\u001b[38;5;241;43m=\u001b[39;49m\u001b[43mparams\u001b[49m\u001b[43m,\u001b[49m\n\u001b[1;32m    275\u001b[0m \u001b[43m            \u001b[49m\u001b[43mheaders\u001b[49m\u001b[38;5;241;43m=\u001b[39;49m\u001b[43mheaders\u001b[49m\u001b[43m,\u001b[49m\n\u001b[1;32m    276\u001b[0m \u001b[43m            \u001b[49m\u001b[43mbody\u001b[49m\u001b[38;5;241;43m=\u001b[39;49m\u001b[43mbody\u001b[49m\u001b[43m,\u001b[49m\n\u001b[1;32m    277\u001b[0m \u001b[43m            \u001b[49m\u001b[43motel_span\u001b[49m\u001b[38;5;241;43m=\u001b[39;49m\u001b[43motel_span\u001b[49m\u001b[43m,\u001b[49m\n\u001b[1;32m    278\u001b[0m \u001b[43m        \u001b[49m\u001b[43m)\u001b[49m\n\u001b[1;32m    279\u001b[0m         otel_span\u001b[38;5;241m.\u001b[39mset_elastic_cloud_metadata(response\u001b[38;5;241m.\u001b[39mmeta\u001b[38;5;241m.\u001b[39mheaders)\n\u001b[1;32m    280\u001b[0m         \u001b[38;5;28;01mreturn\u001b[39;00m response\n",
      "File \u001b[0;32m~/.python/current/lib/python3.10/site-packages/elasticsearch/_sync/client/_base.py:352\u001b[0m, in \u001b[0;36mBaseClient._perform_request\u001b[0;34m(self, method, path, params, headers, body, otel_span)\u001b[0m\n\u001b[1;32m    349\u001b[0m         \u001b[38;5;28;01mexcept\u001b[39;00m (\u001b[38;5;167;01mValueError\u001b[39;00m, \u001b[38;5;167;01mKeyError\u001b[39;00m, \u001b[38;5;167;01mTypeError\u001b[39;00m):\n\u001b[1;32m    350\u001b[0m             \u001b[38;5;28;01mpass\u001b[39;00m\n\u001b[0;32m--> 352\u001b[0m     \u001b[38;5;28;01mraise\u001b[39;00m HTTP_EXCEPTIONS\u001b[38;5;241m.\u001b[39mget(meta\u001b[38;5;241m.\u001b[39mstatus, ApiError)(\n\u001b[1;32m    353\u001b[0m         message\u001b[38;5;241m=\u001b[39mmessage, meta\u001b[38;5;241m=\u001b[39mmeta, body\u001b[38;5;241m=\u001b[39mresp_body\n\u001b[1;32m    354\u001b[0m     )\n\u001b[1;32m    356\u001b[0m \u001b[38;5;66;03m# 'X-Elastic-Product: Elasticsearch' should be on every 2XX response.\u001b[39;00m\n\u001b[1;32m    357\u001b[0m \u001b[38;5;28;01mif\u001b[39;00m \u001b[38;5;129;01mnot\u001b[39;00m \u001b[38;5;28mself\u001b[39m\u001b[38;5;241m.\u001b[39m_verified_elasticsearch:\n\u001b[1;32m    358\u001b[0m     \u001b[38;5;66;03m# If the header is set we mark the server as verified.\u001b[39;00m\n",
      "\u001b[0;31mBadRequestError\u001b[0m: BadRequestError(400, 'search_phase_execution_exception', 'runtime error')"
     ]
    }
   ],
   "source": [
    "evaluate(ground_truth, vector_combined_knn)"
   ]
  },
  {
   "cell_type": "code",
   "execution_count": null,
   "id": "33a1e07e-e1d0-4d8b-bda2-d0f88e786e28",
   "metadata": {},
   "outputs": [],
   "source": []
  }
 ],
 "metadata": {
  "kernelspec": {
   "display_name": "Python 3 (ipykernel)",
   "language": "python",
   "name": "python3"
  },
  "language_info": {
   "codemirror_mode": {
    "name": "ipython",
    "version": 3
   },
   "file_extension": ".py",
   "mimetype": "text/x-python",
   "name": "python",
   "nbconvert_exporter": "python",
   "pygments_lexer": "ipython3",
   "version": "3.10.13"
  }
 },
 "nbformat": 4,
 "nbformat_minor": 5
}
