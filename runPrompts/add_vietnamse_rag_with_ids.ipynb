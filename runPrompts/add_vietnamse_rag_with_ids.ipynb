{
 "cells": [
  {
   "cell_type": "code",
   "execution_count": 1,
   "id": "1e6c48a4-5b1b-484f-a657-234cad3f6247",
   "metadata": {
    "scrolled": true
   },
   "outputs": [
    {
     "name": "stderr",
     "output_type": "stream",
     "text": [
      "/home/codespace/.local/lib/python3.10/site-packages/tqdm/auto.py:21: TqdmWarning: IProgress not found. Please update jupyter and ipywidgets. See https://ipywidgets.readthedocs.io/en/stable/user_install.html\n",
      "  from .autonotebook import tqdm as notebook_tqdm\n"
     ]
    }
   ],
   "source": [
    "import json\n",
    "from openai import OpenAI\n",
    "from groq import Groq\n",
    "import os\n",
    "from sentence_transformers import SentenceTransformer\n",
    "from tqdm.auto import tqdm\n",
    "import pickle\n",
    "from elasticsearch import Elasticsearch"
   ]
  },
  {
   "cell_type": "code",
   "execution_count": 2,
   "id": "c4e73cec-caa3-4399-add0-88c1f337559f",
   "metadata": {},
   "outputs": [],
   "source": [
    "client =  Groq(api_key = os.environ['GROQ_API_KEY'])\n"
   ]
  },
  {
   "cell_type": "code",
   "execution_count": 3,
   "id": "e25ed8e6-4d0e-462e-b05d-8da2bb97b215",
   "metadata": {},
   "outputs": [],
   "source": [
    "with open('../data/vietnamese_rag/documents.json', 'rt') as f_in:\n",
    "    documents = json.load(f_in)"
   ]
  },
  {
   "cell_type": "code",
   "execution_count": 4,
   "id": "0e6795d4-fe92-452c-98af-d68aa9e58742",
   "metadata": {},
   "outputs": [
    {
     "name": "stderr",
     "output_type": "stream",
     "text": [
      "/home/codespace/.local/lib/python3.10/site-packages/transformers/tokenization_utils_base.py:1601: FutureWarning: `clean_up_tokenization_spaces` was not set. It will be set to `True` by default. This behavior will be depracted in transformers v4.45, and will be then set to `False` by default. For more details check this issue: https://github.com/huggingface/transformers/issues/31884\n",
      "  warnings.warn(\n"
     ]
    }
   ],
   "source": [
    "model = SentenceTransformer(\"paraphrase-multilingual-MiniLM-L12-v2\")"
   ]
  },
  {
   "cell_type": "code",
   "execution_count": 5,
   "id": "f3e986ed-56a2-4e0d-9cd0-3174a4afffe9",
   "metadata": {},
   "outputs": [
    {
     "data": {
      "text/plain": [
       "384"
      ]
     },
     "execution_count": 5,
     "metadata": {},
     "output_type": "execute_result"
    }
   ],
   "source": [
    "len(model.encode(\"This is a simple sentence\"))"
   ]
  },
  {
   "cell_type": "code",
   "execution_count": 6,
   "id": "6960a599-1850-43ac-9707-67326505457b",
   "metadata": {},
   "outputs": [
    {
     "data": {
      "text/plain": [
       "ObjectApiResponse({'name': '220d97b49b71', 'cluster_name': 'docker-cluster', 'cluster_uuid': 'Bjagydp1SHuMN5WDZF6iog', 'version': {'number': '8.4.3', 'build_flavor': 'default', 'build_type': 'docker', 'build_hash': '42f05b9372a9a4a470db3b52817899b99a76ee73', 'build_date': '2022-10-04T07:17:24.662462378Z', 'build_snapshot': False, 'lucene_version': '9.3.0', 'minimum_wire_compatibility_version': '7.17.0', 'minimum_index_compatibility_version': '7.0.0'}, 'tagline': 'You Know, for Search'})"
      ]
     },
     "execution_count": 6,
     "metadata": {},
     "output_type": "execute_result"
    }
   ],
   "source": [
    "es_client = Elasticsearch('http://localhost:9200') \n",
    "\n",
    "es_client.info()"
   ]
  },
  {
   "cell_type": "code",
   "execution_count": 7,
   "id": "59eeebae-eeb7-45af-bb22-9b61a36ab6a1",
   "metadata": {},
   "outputs": [],
   "source": [
    "index_settings = {\n",
    "    \"settings\": {\n",
    "        \"number_of_shards\": 1,\n",
    "        \"number_of_replicas\": 0\n",
    "    },\n",
    "    \"mappings\": {\n",
    "        \"properties\": {\n",
    "            \"context\": {\"type\": \"text\"},\n",
    "            \"question\": {\"type\": \"text\"},\n",
    "            \"answer\": {\"type\": \"text\"}, \n",
    "            \"group\": {\"type\": \"keyword\"} ,\n",
    "            \"text_vector\": {\"type\": \"dense_vector\", \"dims\": 384, \"index\": True, \"similarity\": \"cosine\"},\n",
    "        }\n",
    "    }\n",
    "}"
   ]
  },
  {
   "cell_type": "code",
   "execution_count": 8,
   "id": "d66e0ef9-5461-4b2e-a45d-1ce63b9595b2",
   "metadata": {},
   "outputs": [
    {
     "data": {
      "text/plain": [
       "ObjectApiResponse({'acknowledged': True, 'shards_acknowledged': True, 'index': 'vietnamese-questions'})"
      ]
     },
     "execution_count": 8,
     "metadata": {},
     "output_type": "execute_result"
    }
   ],
   "source": [
    "index_name = \"vietnamese-questions\"\n",
    "\n",
    "es_client.indices.delete(index=index_name, ignore_unavailable=True)\n",
    "es_client.indices.create(index=index_name, body=index_settings)"
   ]
  },
  {
   "cell_type": "code",
   "execution_count": 9,
   "id": "439318cf-e5db-4c22-8cdb-7976158fda21",
   "metadata": {},
   "outputs": [],
   "source": [
    "with open('../data/vietnamese_rag/text_vector_pickle/text_vector1.pkl', 'rb') as file:\n",
    "    operations1 = pickle.load(file)"
   ]
  },
  {
   "cell_type": "code",
   "execution_count": 10,
   "id": "921d620d-9226-46d0-b6a5-a2a158efb273",
   "metadata": {},
   "outputs": [],
   "source": [
    "with open('../data/vietnamese_rag/text_vector_pickle/text_vector2.pkl', 'rb') as file:\n",
    "    operations2 = pickle.load(file)"
   ]
  },
  {
   "cell_type": "code",
   "execution_count": 11,
   "id": "d1e2326a-1a96-468d-bccb-625b299442ea",
   "metadata": {},
   "outputs": [],
   "source": [
    "with open('../data/vietnamese_rag/text_vector_pickle/text_vector3.pkl', 'rb') as file:\n",
    "    operations3 = pickle.load(file)"
   ]
  },
  {
   "cell_type": "code",
   "execution_count": 12,
   "id": "4844c63d-2873-45a6-80c0-7fc202611cdc",
   "metadata": {},
   "outputs": [],
   "source": [
    "with open('../data/vietnamese_rag/text_vector_pickle/text_vector4.pkl', 'rb') as file:\n",
    "    operations4 = pickle.load(file)"
   ]
  },
  {
   "cell_type": "code",
   "execution_count": 13,
   "id": "494e5a0f-aac9-442f-b5ce-2c4005a50103",
   "metadata": {},
   "outputs": [],
   "source": [
    "with open('../data/vietnamese_rag/text_vector_pickle/text_vector5.pkl', 'rb') as file:\n",
    "    operations5 = pickle.load(file)"
   ]
  },
  {
   "cell_type": "code",
   "execution_count": 14,
   "id": "a1c5b7a8-84d8-496b-86c0-5820a32aec5f",
   "metadata": {},
   "outputs": [
    {
     "name": "stderr",
     "output_type": "stream",
     "text": [
      "100%|█████████████████████| 1217/1217 [00:25<00:00, 46.89it/s]\n"
     ]
    }
   ],
   "source": [
    "for doc in tqdm(operations1):\n",
    "    try:\n",
    "        es_client.index(index=index_name, document=doc)\n",
    "    except Exception as e:\n",
    "        print(e)"
   ]
  },
  {
   "cell_type": "code",
   "execution_count": 15,
   "id": "aa5ebd03-611a-452b-9b06-32d27bd5c5b2",
   "metadata": {},
   "outputs": [
    {
     "name": "stderr",
     "output_type": "stream",
     "text": [
      "100%|█████████████████████| 1217/1217 [00:25<00:00, 47.04it/s]\n"
     ]
    }
   ],
   "source": [
    "for doc in tqdm(operations2):\n",
    "    try:\n",
    "        es_client.index(index=index_name, document=doc)\n",
    "    except Exception as e:\n",
    "        print(e)"
   ]
  },
  {
   "cell_type": "code",
   "execution_count": 16,
   "id": "6e7762fd-68bf-463c-8f92-dcd07594b9dd",
   "metadata": {},
   "outputs": [
    {
     "name": "stderr",
     "output_type": "stream",
     "text": [
      "100%|█████████████████████| 1217/1217 [00:26<00:00, 45.23it/s]\n"
     ]
    }
   ],
   "source": [
    "for doc in tqdm(operations3):\n",
    "    try:\n",
    "        es_client.index(index=index_name, document=doc)\n",
    "    except Exception as e:\n",
    "        print(e)"
   ]
  },
  {
   "cell_type": "code",
   "execution_count": 17,
   "id": "4cbbf389-f42e-4cf2-bdce-4937bc10b918",
   "metadata": {},
   "outputs": [
    {
     "name": "stderr",
     "output_type": "stream",
     "text": [
      "100%|█████████████████████| 2028/2028 [00:43<00:00, 46.23it/s]\n"
     ]
    }
   ],
   "source": [
    "for doc in tqdm(operations4):\n",
    "    try:\n",
    "        es_client.index(index=index_name, document=doc)\n",
    "    except Exception as e:\n",
    "        print(e)"
   ]
  },
  {
   "cell_type": "code",
   "execution_count": 18,
   "id": "0333b053-6c98-4d02-85ce-0f4d72565458",
   "metadata": {
    "scrolled": true
   },
   "outputs": [
    {
     "name": "stderr",
     "output_type": "stream",
     "text": [
      "100%|█████████████████████| 1221/1221 [00:26<00:00, 46.27it/s]\n"
     ]
    }
   ],
   "source": [
    "for doc in tqdm(operations5):\n",
    "    try:\n",
    "        es_client.index(index=index_name, document=doc)\n",
    "    except Exception as e:\n",
    "        print(e)"
   ]
  },
  {
   "cell_type": "code",
   "execution_count": 19,
   "id": "bbb6418c-9384-4443-9d6f-5bf75125d679",
   "metadata": {},
   "outputs": [],
   "source": [
    "search_term = \"Theo bài viết, chủ nghĩa thân hữu gây ra những vấn đề gì cho xã hội?\"\n",
    "vector_search_term = model.encode(search_term)"
   ]
  },
  {
   "cell_type": "code",
   "execution_count": 20,
   "id": "ae601b05-8a90-414e-ab04-b6715af66efd",
   "metadata": {},
   "outputs": [],
   "source": [
    "query = {\n",
    "    \"field\": \"text_vector\",\n",
    "    \"query_vector\": vector_search_term,\n",
    "    \"k\": 5,\n",
    "    \"num_candidates\": 10000, \n",
    "}"
   ]
  },
  {
   "cell_type": "code",
   "execution_count": 21,
   "id": "e6c206ba-988e-438b-bba7-2d2029d2c792",
   "metadata": {},
   "outputs": [
    {
     "data": {
      "text/plain": [
       "[{'_index': 'vietnamese-questions',\n",
       "  '_id': 'sbRLLJEBFdjf_YyEEYhw',\n",
       "  '_score': 0.8420652,\n",
       "  '_source': {'question': 'Dân tộc của chúng ta có ảnh hưởng đến cơ hội sống của chúng ta không?',\n",
       "   'answer': 'Vâng, dân tộc của chúng tôi có ảnh hưởng đến cơ hội sống của chúng tôi. Điều này được thấy ở nhiều khía cạnh khác nhau của cuộc sống bao gồm nền tảng tầng lớp xã hội, vai trò giới [1] [2], trình độ học vấn [3] [4] và thậm chí cả kết quả sức khỏe liên quan đến xu hướng tình dục [5]. Ví dụ, dân tộc được cho là có tương quan với sự chênh lệch về trình độ học vấn giữa các nhóm dân tộc thiểu số khác nhau, cho thấy rằng một số dân tộc đạt được thành tích thấp hơn những dân tộc khác [4]. Cũng có bằng chứng cho thấy vai trò của các thể chế xã hội có thể không phải lúc nào cũng tích cực và đôi khi có thể có lợi cho các cơ hội có quyền lực, có thể tác động đến các cá nhân thuộc các nhóm dân tộc khác nhau [1] [2].',\n",
       "   'group': 'Expert'}},\n",
       " {'_index': 'vietnamese-questions',\n",
       "  '_id': 'qLRKLJEBFdjf_YyE5YbT',\n",
       "  '_score': 0.7988924,\n",
       "  '_source': {'question': 'Xã hội Nam Phi đã thay đổi như thế nào trong 29 năm qua?',\n",
       "   'answer': 'Theo tìm kiếm trên web của tôi, xã hội Nam Phi đã thay đổi về nhiều mặt kể từ năm 1994, khi hệ thống phân biệt chủng tộc chấm dứt và Đảng Đại hội Dân tộc Châu Phi (ANC) lên nắm quyền[1]. Một số thay đổi bao gồm:\\r\\n\\r\\n- Việc ban hành một hiến pháp mới bảo đảm nhân quyền và dân chủ[1].\\r\\n- Cải thiện các dịch vụ xã hội như chăm sóc sức khỏe, giáo dục, nhà ở và điện cho hàng triệu người[2].\\r\\n- Sự gia tăng đa dạng chủng tộc và hội nhập trong các lĩnh vực khác nhau của xã hội như chính trị, truyền thông, thể thao và văn hóa[3] [4].\\r\\n- Sự tồn tại dai dẳng của những thách thức như thất nghiệp, nghèo đói, bất bình đẳng, tội phạm và tham nhũng[2] [3] [4].',\n",
       "   'group': 'Expert'}},\n",
       " {'_index': 'vietnamese-questions',\n",
       "  '_id': 'GrRLLJEBFdjf_YyERYuU',\n",
       "  '_score': 0.790179,\n",
       "  '_source': {'question': 'Tại sao tin đồn được nghiên cứu trong Nhân chủng học như một hình thức sản xuất dân tộc học?',\n",
       "   'answer': 'Tin đồn được nghiên cứu trong Nhân chủng học như một hình thức sản xuất dân tộc học vì chúng cung cấp cái nhìn sâu sắc về bối cảnh xã hội, văn hóa và chính trị mà chúng xuất hiện và lưu hành [1]. Tin đồn có thể tiết lộ những căng thẳng xã hội tiềm ẩn, những lo lắng và động lực quyền lực trong cộng đồng [2]. Kết quả là, các nhà nhân chủng học nghiên cứu tin đồn như một phương tiện để hiểu cách mọi người hiểu thế giới xã hội của họ, xây dựng ý nghĩa và đàm phán mối quan hệ của họ với người khác [3]. Ngoài ra, nghiên cứu tin đồn như một hình thức sản xuất dân tộc học có thể làm sáng tỏ cách thức truyền tải, duy trì và biến đổi thông tin trong và giữa các cộng đồng [4].',\n",
       "   'group': 'Expert'}},\n",
       " {'_index': 'vietnamese-questions',\n",
       "  '_id': 'OrRKLJEBFdjf_YyE3Iae',\n",
       "  '_score': 0.7846288,\n",
       "  '_source': {'question': 'Nếu người Hy Lạp và La Mã cổ đại có thể giao tiếp với chúng ta trong một giờ, họ sẽ tự hào hay xấu hổ về loài người?',\n",
       "   'answer': 'Đó là một câu hỏi rất thú vị. Thật khó để nói người Hy Lạp và La Mã cổ đại sẽ nghĩ gì về nhân loại ngày nay, vì họ có quan điểm đa dạng về bản chất con người và xã hội[1] [2] [3]. Họ có thể tự hào về một số thành tựu của chúng ta về nghệ thuật, khoa học, luật pháp và dân chủ[5] [6] [7] [8], vốn chịu ảnh hưởng từ nền văn minh của họ. Nhưng họ cũng có thể xấu hổ về một số vấn đề của chúng ta, chẳng hạn như chiến tranh, ô nhiễm, bất bình đẳng và tham nhũng[9].',\n",
       "   'group': 'Expert'}},\n",
       " {'_index': 'vietnamese-questions',\n",
       "  '_id': 't7RLLJEBFdjf_YyEEYjt',\n",
       "  '_score': 0.78086865,\n",
       "  '_source': {'question': 'Cấu trúc xã hội định hình cơ quan cá nhân ở mức độ nào?',\n",
       "   'answer': 'Cấu trúc xã hội định hình đáng kể cơ quan cá nhân nhưng không xác định đầy đủ nó [1] [3] [4]. Cấu trúc xã hội đề cập đến các yếu tố có thể hạn chế hoặc ảnh hưởng đến sự lựa chọn và hành động của các cá nhân, chẳng hạn như tầng lớp xã hội, tôn giáo, giới tính hoặc sắc tộc [1]. Ví dụ, quyền tự do của các cá nhân trong việc thực hiện quyền tự quyết của mình, tức là khả năng hành động độc lập và tự do lựa chọn, có thể bị giới hạn trong các cấu trúc xã hội [4].\\r\\n\\r\\nSự tương tác này được hiểu rõ nhất là mối quan hệ biện chứng [3] trong đó cái này ảnh hưởng đến sự thay đổi của cái kia. Trong khi cuộc sống của các cá nhân được định hình bởi cấu trúc xã hội, các cá nhân vẫn có khả năng đưa ra quyết định và thể hiện chúng, từ đó có thể định hình cấu trúc xã hội [3].\\r\\n\\r\\nCác mức độ phản ứng khác nhau trước ảnh hưởng xã hội, thường được gọi là \\'tính phản xạ\\', cũng đóng một vai trò nào đó [2]. Ở mức độ phản xạ thấp hơn, một cá nhân được định hình phần lớn bởi môi trường và cấu trúc xã hội của họ [2]. Tuy nhiên, mức độ phản ánh xã hội cao có nghĩa là một cá nhân đang định hình các chuẩn mực, thị hiếu của riêng mình, v.v. [2].\\r\\n\\r\\nNói cách khác, các cấu trúc xã hội và tác nhân cá nhân tạo thành một tính hai mặt trong đó cái này không thể tồn tại nếu không có cái kia, như Giddens gợi ý trong lý thuyết \\'Cấu trúc\\' của ông - \"các cấu trúc xã hội được cấu thành bởi tác nhân con người, nhưng đồng thời thời gian chính là phương tiện của hiến pháp này” [4]. \\r\\n\\r\\nVì vậy, để trả lời câu hỏi, các cấu trúc xã hội định hình đáng kể quyền tự quyết của một cá nhân; tuy nhiên, mức độ thay đổi tùy theo mức độ phản xạ của cá nhân cũng như khả năng đưa ra và hành động theo các quyết định của họ trong giới hạn của các cấu trúc này [1] [2] [3] [4].',\n",
       "   'group': 'Expert'}}]"
      ]
     },
     "execution_count": 21,
     "metadata": {},
     "output_type": "execute_result"
    }
   ],
   "source": [
    "res = es_client.search(index=index_name, knn=query, source=[ \"answer\", \"question\", \"group\"])\n",
    "res[\"hits\"][\"hits\"]"
   ]
  },
  {
   "cell_type": "code",
   "execution_count": 22,
   "id": "53c7483a-3158-4616-bb60-b18d43eabc68",
   "metadata": {},
   "outputs": [],
   "source": [
    "\n",
    "import hashlib\n",
    "\n",
    "def generate_document_id(doc):\n",
    "    # combined = f\"{doc['course']}-{doc['question']}\"\n",
    "    combined = f\"{doc['group']}-{doc['question']}-{doc['context']}-{doc['answer']}\"\n",
    "    hash_object = hashlib.md5(combined.encode())\n",
    "    hash_hex = hash_object.hexdigest()\n",
    "    document_id = hash_hex[:8]\n",
    "    return document_id"
   ]
  },
  {
   "cell_type": "code",
   "execution_count": 23,
   "id": "1e87c448-81fb-4e50-9330-6b8256ef7333",
   "metadata": {},
   "outputs": [],
   "source": [
    "\n",
    "for doc in documents:\n",
    "    doc['id'] = generate_document_id(doc)"
   ]
  },
  {
   "cell_type": "code",
   "execution_count": 77,
   "id": "67e2f35e-81a2-4401-bee0-ba8f3cb45758",
   "metadata": {},
   "outputs": [
    {
     "data": {
      "text/plain": [
       "{'group': 'General',\n",
       " 'context': 'ngữ cảnh 1: Vượt qua nỗi sợ hãi, Minh Tú xuất sắc vào chung kết Asia\\'s Next Top Model.  Bỏ qua hết những lo lắng về căn bệnh tim, Minh Tú đã hết sức chế ngự sự sợ hãi và hoàn thành tốt phần thử thách đi catwalk khi bị treo lơ lửng trên một tòa nhà cao tầng và dành chiếc vé vào đêm chung kết Asia’s Next Top Model..  Tối ngày 21/6, tập 12 của chương trình Asia’ Next Top Model mùa thứ 5 đã được lên sóng. 4 thí sinh cùng giám khảo bí mật Xiao Qing bước vào phần thi thử thách đặc biệt là đi catwalk khi bị treo lơ lửng trên một tòa nhà cao tầng. Các cô gái phải vừa tạo dáng vừa thể hiện được sự mạnh mẽ, quyến rũ riêng.. Mặc dù có bệnh về tim nhưng Minh Tú đã cố gắng hết sức chế ngự sự sợ hãi và hoàn thành tốt phần thử thách này. Thí sinh chiến thắng là Shikin và đại diện Việt Nam cũng không kém cạnh gì khi xuất sắc xếp ở vị trí thứ 2, báo GĐVN đưa tin.. Bước vào thử thách, Minh Tú hét lớn: “Tôi còn nhiều việc chưa làm được đâu” vì sợ sẽ rơi xuống tuy nhiên chỉ sau vài bước đi, cô hoàn toàn xác định được cách catwalk. Càng tiến tới, Minh Tú càng cảm thấy thú vị, nỗi sợ hãi dần biến mất và tự tin tạo dáng giữa đường đi, nở nụ cười suốt 6 tầng lầu.. Minh Tú đã cố gắng hết sức chế ngự sự sợ hãi và hoàn thành tốt phần thử thách khó khăn này. Ảnh chụp màn hình. Theo tin tức trên báo VTC, chủ đề của buổi chụp ảnh loại trừ tuần này do chính thí sinh tạo nên từ đạo cụ, trang phục có sẵn. Minh Tú chọn cho mình hình ảnh một phụ nữ cổ điển và thành đạt đề giúp cô kiềm chế được nét gợi cảm của mình. Người đẹp nỗ lực không tạo dáng quá nhiều mà tập trung vào cơ mặt và nhân vật.. Minh Tú có bức hình đẹp thứ 2 và chắc chắn giành chiếc vé vào đêm chung kết. Ảnh: SW. Một lần nữa, Minh Tú lại nhận được sự tán thưởng từ dàn giám khảo. Giám đốc sáng tạo Yu Tsai cho biết anh “ngã mũ” trước phần thể hiện của Minh Tú. Sau khi “lộ mặt” là một giám khảo ẩn danh, cựu người mẫu Xiaoqing chia sẻ Minh Tú ngoài đam mê còn ẩn chứa tính cách triết lý và cho biết Minh Tú sẵn sàng cạnh tranh với một thí sinh mới chứ không hề kêu ca bất công.. Kết quả chung cuộc, Shikin là thí sinh có bức hình đẹp nhất. Về thứ 2 là Minh Tú và thứ 3 là Maureen. Clara là thí sinh bị loại trong tuần này. Như vậy, đại diện của Việt Nam đã tạo nên kỳ tích khi chính thức được bước vào Chung kết “Asia’s Next Top Model” năm nay để giành ngôi vị quán quân. ngữ cảnh 2: Thuốc Vidatox 30CH chưa cấp phép bán, kê đơn nhưng có tiền vẫn mua được.  Sau khi khảo sát tại các hiệu thuốc gần cổng bệnh viện K- cơ sở Tam Hiệp (Thanh Trì, Hà Nội), chúng tôi đã có đầu mối mua thuốc Vidatox 30CH- loại thuốc chưa được cấp phép bán, kê đơn tại VN..  Mặc dù các quầy thuốc tại cổng bệnh viện K (Thanh Trì, Hà Nội) khẳng định không bán loại thuốc Vidatox 30CH nhưng một nhân viên của tiệm thuốc đã mách nước cho PV đến các hiệu thuốc đối diện cổng bệnh viện Bạch Mai sẽ được đáp ứng nhu cầu.. Sau một vòng dạo qua “chợ tân dược” đối diện cổng bệnh viện Bạch Mai, bất ngờ, tại một tiệm thuốc, khi PV đưa ra tờ giấy có kê 5 loại TPCN hỗ trợ điều trị ung thư nữ nhân viên nhanh nhảu cho biết: “Vidatox thì có”.. Nhân viên bán hàng đang tư vấn cho PV về cách dùng thuốc Vidatox 30CH (Ảnh N.H). Ngay lập tức, chị này gọi điện cho một người đàn ông để thông tin: “Có chị hỏi Vidatox, anh còn không, chị ấy đang ở đây, có hàng thì mang xuống nhé”. Trong khi chúng tôi ngồi chờ để xem hàng, nữ nhân viên này tiếp lời: “Mấy loại kia cửa hàng em không có, chỉ có Vidatox thôi. Chị có lấy không, giờ anh ấy mang xuống\".. Khoảng 10 phút, người đàn ông mang theo 1 lọ Vidatox 30CH từ nơi khác ra cửa hàng thuốc. Theo quảng cáo của người đàn ông này, Vidatox bọ cạp, dạng nhỏ giọt rất tốt cho bệnh nhân ung thư. Khi PV thắc mắc toàn tiếng nước ngoài thì người đàn ông này lấp lửng: “Cái này là bà chị của em mang cho người nhà, em bán hộ. Mua nhiều quá người nhà không dùng hết. 1,8 triệu đồng/lọ thôi, chị mua ở ngoài làm gì có giá đó”.. Để tạo tin tưởng với chúng tôi, nữ nhân viên bồi thêm: “Ngày trước bạn em mua 4 triệu, giá này là rẻ nhất rồi”. Không dừng lại ở đó, nữ nhân viên còn khẳng định đây là thuốc của Cu Ba hỗ trợ điều trị ung thư. PV thắc mắc, bệnh ung thư ruột có dùng được không thì chị này nói: “Người thân của bạn em bị ung thư gan cũng sử dụng được”.. Người đàn ông khẳng định đây là hàng xách tay, ở Việt Nam không nhập khẩu thuốc này. “Hạn sử dụng đến tháng 12/2019, chị không mua đến lúc cần lại không có hàng đâu”, người đàn ông nói.. Với chiêu thức bán hàng “điều khiển từ xa” này, theo tìm hiểu của PV, cách đây khoảng một tuần, các hiệu thuốc trước bệnh viện K (cơ sở Tam Hiệp, Thanh Trì và cơ sở Tân Triều, Hà Nội) vẫn áp dụng nhưng sau khi đường dây thuốc ung thư giả bị triệt phá, các hiệu thuốc bị \"đánh động\" và không dám “xuất đầu lộ diện”.. Còn nữa... ngữ cảnh 3: Nam thanh niên thoát chết tới hai lần chỉ trong vài giây.  Nam thanh niên đứng trên vỉa hè đã hai lần thoát chết một cách thần kỳ chỉ trong vài giây ngắn ngủi..  Nam thanh niên đứng trên vỉa hè đã hai lần thoát chết một cách thần kỳ chỉ trong vài giây ngắn ngủi.. DailyMail đăng tải đoạn video ghi lại cảnh thoát chết hi hữu và khó tin xảy ra tại thành phố Hồ Lô Đảo (tỉnh Liêu Ninh, Trung Quốc) hồi cuối tuần trước.. Theo đó, một nam thanh niên đang đứng trên vỉa hè nghe điện thoại bất ngờ bị ô tô lao tới suýt đâm trúng. Anh chàng này đã thoát chết nhờ chiếc xe bị chặn giữa bởi cột đèn đường.. Chưa dừng lại ở đó, chính vì sức ép của vụ va chạm đã khiến cột đèn đường rơi thẳng xuống ngay bên cạnh chỗ nam thanh niên này.. May mắn là cả hai lần anh chàng đều không bị ảnh hưởng gì. ngữ cảnh 4: Điểm mặt môtô siêu rẻ giá chỉ dưới 30 triệu đồng.  Nếu đang có ý định mua xe môtô côn tay, bạn có thể tham khảo những mẫu xe giá rẻ chỉ dưới 30 triệu đồng sau đây..  Bajaj Pulsar NS 160 mới ra mắt là một trong những mẫu xe môtô siêu rẻ đáng mua nhất hiện nay. Với chỉ 28 triệu đồng bạn có thể sở hữu xe mô tô kiểu dáng thể thao, động cơ 160 cc mạnh mẽ, xi-lanh đơn, làm mát bằng không khí cho công suất và mô men xoắn cực đại lần lượt là 15 mã lực và 14,6 Nm. Hệ thống treo của Bajaj Pulsar NS 160 bao gồm các phuộc lồng phía trước cùng với một giảm xóc monoshock ở phía sau.. Cùng dòng xe Bajaj có mẫu Pulsar 180 cũng có giá bán dưới 30 triệu đồng. Bajaj Pulsar 180 sở hữu một động cơ 179 cc, cho công suất và mô-men xoắn tương ứng 16,8 mã lực và 14 Nm. Với thiết lập này, Pulsar 180 đạt tốc độ tối đa 122 km/h và mang lại hiệu suất nhiên liệu kết hợp 40 km/l. Xe có giá bán khoảng 28,5 triệu đồng.. Nằm trong phân khúc xe môtô dưới 30 triệu, chất lượng tốt phải kể đến Bajaj Avenger 150 Street, một trong những chiếc xe bán chạy nhất của Bajaj. Dù có giá chỉ 28,3 triệu đồng nhưng Avenger 150 Street 0 được cung cấp sức mạnh từ một động cơ 149 cc, xi lanh đơn, làm mát bằng không khí và kết hợp với hộp số năm cấp. Động cơ này cho công suất 14,3 mã lực cùng với mô men xoắn cực đại 12,5 Nm.. Thấp giá hơn rất nhiều nữa là mẫu Honda CB Unicorn 160 chỉ 25,7 triệu. Xe sở hữu kiểu dáng đường phố khá hầm hố, chất chơi. Cùng với đó là động 162 cc, xi lanh đơn gắn với hộp số năm cấp. Xe được trang bị hệ thống phanh kết hợp (CBS) nhằm mang lại hệ thống phanh an toàn và hiệu quả.. Xe môtô thể thao Xtreme Sports có giá 28,1 triệu đồng khá được ưa chuộng hiện nay. Chiếc xe nhỏ gọn sở hữu động cơ 149 cc. Chiếc xe có thể đạt tốc độ tối đa 115 km/h và khả năng tiêu thụ nhiên liệu 55 km/l.. Suzuki Gixxer SP 28,4 triệu đồng dáng cao ráo, rất ngầu cũng có thể là một sự lựa chọn tốt cho những tín đồ mê dòng .. Mẫu xe cơ bắp Yamaha FZ rất hút khách hàng trẻ tuổi bởi kiểu dáng mạnh mẽ của nó. Cũng chính vì thế nó có giá 29 triệu đồng, khá nhỉnh hơn một chút so với các mẫu cùng phân khúc 149 cc.. Môtô Apache RTR 160 sở hữu một số tính năng lấy cảm hứng từ cuộc đua bộ đếm thời gian từ 0 đến 60 giây, đầu ghi tốc độ cao.... Xe có thể đạt tốc độ tối đa 118 km/h. Xe có mức giá 76.865 rupee (26,9 triệu đồng).. Hero Achiever 2017 mới ra mắt vào đầu năm nay nhưng sức hút của nó không hề nhỏ. Hero Achiever 2017 được đánh giá lá mẫu xe có khả năng tiết kiệm nhiên liệu tốt. Xe có giá rất rẻ chỉ 23 triệu đồng.. TVS Apache RTR 180 sẽ là mẫu xe rất phù hợp cho những ai có sở thích phong cách đường phố. TVS Apache RTR 180 được sức mạnh từ một động cơ 177cc, xi-lanh đơn, làm mát bằng không khí, kết hợp với một hộp số năm cấp. Và... nó có giá 28,2 triệu đồng. ngữ cảnh 5: Chủ nghĩa thân hữu.  .  Mới 9 tỉnh, thành phố. Qua một đợt kiểm tra. Ngót 60 quan chức. Là con cháu, người nhà. Chuyện này đâu có mới. Xưa như trái đất rồi. Nay chỉ thêm trầm trọng. Và có ở nhiều nơi. Tính đúng và tính đủ. Con số hẳn rất to. \"Chủ nghĩa thân hữu\" đấy. Tên gọi đã thấy lo!. Nguồn cơn từ đâu nhỉ. Con cháu ai chả thương. Nếu thật sự tài giỏi. Đâu có gì bất thường. Sao phải bằng mọi giá. Kéo nhau vào công đường. Nơi cần phải gìn giữ. Pháp luật và kỷ cương. Bách tính cần minh bạch. \"Quân pháp bất vị thân\". Lời người xưa đã dạy. Nhiều vị chẳng giữ mình!. Không chỉ người ruột thịt. Còn chiến hữu bạn bè. Thêm cả kẻ chạy chọt. Những chiếc ghế nhỏ to. Nếu để thành phe nhóm. Pháp luật dễ cong queo. Cuộc chiến giành lợi ích. Mọi thứ lộn tùng phèo. Điều khó khăn hơn cả. Mọi thứ không phân minh. Khi đều mang dấu ấn:. Bổ nhiệm đúng quy trình!. Cần công khai, chặt chẽ. Có giám sát của dân. Luật Hồi Tỵ đã có. Từ thời Lê Thánh Tông. Phải Dĩ Công Vi Thượng. Bác Hồ đã dặn rồi. Những quy trình đừng để. Chỉ là hình thức thôi. Xã hội không yên ổn. Tham nhũng và quan liêu. Khi chủ nghĩa thân hữu. Gây ra biết bao điều. Hãy tuyển người tài đức. Vào bộ máy công quyền. Không phe nhóm lợi ích. Mới có cơ tiến lên!',\n",
       " 'question': 'Minh Tú đã đạt được thành tích gì trong chương trình Asia’ Next Top Model mùa thứ 5?',\n",
       " 'answer': 'Minh Tú đã vượt qua sự sợ hãi để hoàn thành tốt phần thử thách đi catwalk khi bị treo lơ lửng trên một tòa nhà cao tầng và đạt vị trí thứ 2 trong đêm chung kết của chương trình.',\n",
       " 'id': '75fafd29'}"
      ]
     },
     "execution_count": 77,
     "metadata": {},
     "output_type": "execute_result"
    }
   ],
   "source": [
    "documents[0]"
   ]
  },
  {
   "cell_type": "code",
   "execution_count": 80,
   "id": "037867c1-fefe-4a72-90e4-6a2559b49539",
   "metadata": {},
   "outputs": [],
   "source": [
    "\n",
    "with open('../data/vietnamese_rag/documents-with-ids1.json', 'wt') as f_out:\n",
    "    json.dump(documents[:1217] , f_out, indent=2)"
   ]
  },
  {
   "cell_type": "code",
   "execution_count": 81,
   "id": "05cbe90f-8543-4722-b529-b3e90940ec2f",
   "metadata": {},
   "outputs": [],
   "source": [
    "with open('../data/vietnamese_rag/documents-with-ids2.json', 'wt') as f_out:\n",
    "    json.dump(documents[1217:1217*2] , f_out, indent=2)"
   ]
  },
  {
   "cell_type": "code",
   "execution_count": 82,
   "id": "2f6f34bb-2076-49bd-908d-4a051d4bd0ed",
   "metadata": {},
   "outputs": [],
   "source": [
    "with open('../data/vietnamese_rag/documents-with-ids3.json', 'wt') as f_out:\n",
    "    json.dump(documents[1217*2:1217*3] , f_out, indent=2)"
   ]
  },
  {
   "cell_type": "code",
   "execution_count": 83,
   "id": "b5b54758-2d31-42df-b255-2eafc333a6af",
   "metadata": {},
   "outputs": [],
   "source": [
    "with open('../data/vietnamese_rag/documents-with-ids4.json', 'wt') as f_out:\n",
    "    json.dump(documents[1217*3:1217*4] , f_out, indent=2)"
   ]
  },
  {
   "cell_type": "code",
   "execution_count": 84,
   "id": "12a62e9c-c8e8-4811-bf9e-0a8c62795f63",
   "metadata": {},
   "outputs": [],
   "source": [
    "with open('../data/vietnamese_rag/documents-with-ids5.json', 'wt') as f_out:\n",
    "    json.dump(documents[1217*4] , f_out, indent=2)"
   ]
  },
  {
   "cell_type": "code",
   "execution_count": null,
   "id": "31105aac-bab6-43ac-9faa-36abaa9730fb",
   "metadata": {},
   "outputs": [],
   "source": []
  }
 ],
 "metadata": {
  "kernelspec": {
   "display_name": "Python 3 (ipykernel)",
   "language": "python",
   "name": "python3"
  },
  "language_info": {
   "codemirror_mode": {
    "name": "ipython",
    "version": 3
   },
   "file_extension": ".py",
   "mimetype": "text/x-python",
   "name": "python",
   "nbconvert_exporter": "python",
   "pygments_lexer": "ipython3",
   "version": "3.10.13"
  }
 },
 "nbformat": 4,
 "nbformat_minor": 5
}
