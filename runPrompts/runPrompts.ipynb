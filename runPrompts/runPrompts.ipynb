{
 "cells": [
  {
   "cell_type": "code",
   "execution_count": 19,
   "id": "2d9af377-d98d-43ab-ac75-ba8c9cb8188e",
   "metadata": {},
   "outputs": [],
   "source": [
    "import json\n",
    "from openai import OpenAI"
   ]
  },
  {
   "cell_type": "code",
   "execution_count": 20,
   "id": "4e8061a1-ad13-43ff-b316-09a6310911cb",
   "metadata": {},
   "outputs": [],
   "source": [
    "with open('../data/documents.json', 'rt') as f_in:\n",
    "    documents = json.load(f_in)"
   ]
  },
  {
   "cell_type": "code",
   "execution_count": 21,
   "id": "eb9cafca-be01-444b-84d3-6c600824dd84",
   "metadata": {},
   "outputs": [
    {
     "data": {
      "text/plain": [
       "'Who found the answer to a search query collar george herbert essay?'"
      ]
     },
     "execution_count": 21,
     "metadata": {},
     "output_type": "execute_result"
    }
   ],
   "source": [
    "documents[0]['question']"
   ]
  },
  {
   "cell_type": "code",
   "execution_count": 22,
   "id": "2342079e-30da-4b1b-b3d7-697fdcf761b9",
   "metadata": {},
   "outputs": [],
   "source": [
    "from openai import OpenAI\n",
    "\n",
    "client = OpenAI(\n",
    "    base_url='http://localhost:11434/v1/',\n",
    "    api_key='ollama',\n",
    ")"
   ]
  },
  {
   "cell_type": "code",
   "execution_count": 43,
   "id": "beb30925-339e-4eee-a136-9f22f3939ca3",
   "metadata": {},
   "outputs": [],
   "source": [
    "from elasticsearch import Elasticsearch"
   ]
  },
  {
   "cell_type": "code",
   "execution_count": 44,
   "id": "3d449658-3c68-409a-ab4d-292700c0b386",
   "metadata": {},
   "outputs": [],
   "source": [
    "\n",
    "es_client = Elasticsearch('http://localhost:9200') "
   ]
  },
  {
   "cell_type": "code",
   "execution_count": 45,
   "id": "627ae7ec-0149-47f0-bb93-efa5981867e1",
   "metadata": {},
   "outputs": [],
   "source": [
    "\n",
    "index_settings = {\n",
    "    \"settings\": {\n",
    "        \"number_of_shards\": 1,\n",
    "        \"number_of_replicas\": 0\n",
    "    },\n",
    "    \"mappings\": {\n",
    "        \"properties\": {\n",
    "            \"context\": {\"type\": \"text\"},\n",
    "            \"answer\": {\"type\": \"text\"},\n",
    "            \"question\": {\"type\": \"text\"}\n",
    "        }\n",
    "    }\n",
    "}\n"
   ]
  },
  {
   "cell_type": "code",
   "execution_count": 46,
   "id": "983fadb6-f343-4999-afa6-7dd19c5aa31e",
   "metadata": {},
   "outputs": [
    {
     "data": {
      "text/plain": [
       "ObjectApiResponse({'acknowledged': True, 'shards_acknowledged': True, 'index': 'questions-related'})"
      ]
     },
     "execution_count": 46,
     "metadata": {},
     "output_type": "execute_result"
    }
   ],
   "source": [
    "index_name = \"questions-related\"\n",
    "es_client.indices.delete(index=index_name, ignore_unavailable=True)\n",
    "es_client.indices.create(index=index_name, body=index_settings)"
   ]
  },
  {
   "cell_type": "code",
   "execution_count": 47,
   "id": "f92c7f3d-4fd2-462a-b6d9-70cae1855612",
   "metadata": {},
   "outputs": [],
   "source": [
    "from tqdm.auto import tqdm"
   ]
  },
  {
   "cell_type": "code",
   "execution_count": 48,
   "id": "04b28096-c9e8-4e6d-a09f-473d95c953c3",
   "metadata": {},
   "outputs": [
    {
     "name": "stderr",
     "output_type": "stream",
     "text": [
      "100%|██████████████████████████████████████████████████████████████████████████████████████████████| 960/960 [00:24<00:00, 39.61it/s]\n"
     ]
    }
   ],
   "source": [
    "for doc in tqdm(documents):\n",
    "    es_client.index(index=index_name, document=doc)"
   ]
  },
  {
   "cell_type": "code",
   "execution_count": 63,
   "id": "df174c4a-f837-4fed-9fb6-c4166762f994",
   "metadata": {},
   "outputs": [],
   "source": [
    "def elastic_search(query):\n",
    "    # search_query = {\n",
    "    #     \"size\": 5,\n",
    "    #     \"query\": {\n",
    "    #         \"bool\": {\n",
    "    #             \"must\": {\n",
    "    #                 \"multi_match\": {\n",
    "    #                     \"query\": query,\n",
    "    #                     \"fields\": [\"question^3\", \"context^3\", \"answer\"],\n",
    "    #                     \"type\": \"best_fields\"\n",
    "    #                 }\n",
    "    #             }\n",
    "    #         }\n",
    "    #     }\n",
    "    # }\n",
    "    search_query = {\n",
    "        \"size\": 1,\n",
    "        \"query\": {\n",
    "            \"bool\": {\n",
    "                \"must\": {\n",
    "                    \"multi_match\": {\n",
    "                        \"query\": query,\n",
    "                        \"fields\": [\"question^3\", \"context\", \"answer\"],\n",
    "                        \"type\": \"best_fields\"\n",
    "                    }\n",
    "                }\n",
    "            }\n",
    "        }\n",
    "    }\n",
    "\n",
    "    response = es_client.search(index=index_name, body=search_query)\n",
    "    \n",
    "    result_docs = []\n",
    "    \n",
    "    for hit in response['hits']['hits']:\n",
    "        result_docs.append(hit['_source'])\n",
    "    \n",
    "    return result_docs\n"
   ]
  },
  {
   "cell_type": "code",
   "execution_count": 64,
   "id": "b1af81b4-dbab-499c-9a0b-6153557538a8",
   "metadata": {},
   "outputs": [],
   "source": [
    "query = 'How many percentage of the U.S. retail lingerie market did L-Brands account for in 2024?'"
   ]
  },
  {
   "cell_type": "code",
   "execution_count": 65,
   "id": "87406001-ba31-48c0-bede-f29848d93499",
   "metadata": {},
   "outputs": [],
   "source": [
    "result_docs = elastic_search(query)"
   ]
  },
  {
   "cell_type": "code",
   "execution_count": 67,
   "id": "c729b68e-ab52-4c6f-a38d-f51c79ca0172",
   "metadata": {},
   "outputs": [
    {
     "name": "stdout",
     "output_type": "stream",
     "text": [
      "In 2016, L-Brands, the parent company of Victoria’s Secret, accounted for 83 percent of the U.S. retail lingerie market.\n"
     ]
    }
   ],
   "source": [
    "\n",
    "    \n",
    "    print(result_docs[0]['answer'])"
   ]
  },
  {
   "cell_type": "code",
   "execution_count": 68,
   "id": "ed7d2b33-46d8-4017-8662-04a849fb034e",
   "metadata": {},
   "outputs": [],
   "source": [
    "def elastic_search(query):\n",
    "    search_query = {\n",
    "        \"size\": 1,\n",
    "        \"query\": {\n",
    "            \"bool\": {\n",
    "                \"must\": {\n",
    "                    \"multi_match\": {\n",
    "                        \"query\": query,\n",
    "                        \"fields\": [\"question^3\", \"context^3\", \"answer\"],\n",
    "                        \"type\": \"best_fields\"\n",
    "                    }\n",
    "                }\n",
    "            }\n",
    "        }\n",
    "    }\n",
    "    \n",
    "    # search_query = {\n",
    "    #     \"size\": 5,\n",
    "    #     \"query\": {\n",
    "    #         \"bool\": {\n",
    "    #             \"must\": {\n",
    "    #                 \"multi_match\": {\n",
    "    #                     \"query\": query,\n",
    "    #                     \"fields\": [\"question^3\", \"context\", \"answer\"],\n",
    "    #                     \"type\": \"best_fields\"\n",
    "    #                 }\n",
    "    #             }\n",
    "    #         }\n",
    "    #     }\n",
    "    # }\n",
    "\n",
    "    response = es_client.search(index=index_name, body=search_query)\n",
    "    \n",
    "    result_docs = []\n",
    "    \n",
    "    for hit in response['hits']['hits']:\n",
    "        result_docs.append(hit['_source'])\n",
    "    \n",
    "    return result_docs\n"
   ]
  },
  {
   "cell_type": "code",
   "execution_count": 69,
   "id": "29547501-6bde-4688-a1ce-06882be29450",
   "metadata": {},
   "outputs": [],
   "source": [
    "result_docs = elastic_search(query)"
   ]
  },
  {
   "cell_type": "code",
   "execution_count": 71,
   "id": "68c2742c-48cf-4308-b18f-9aacb4c690b2",
   "metadata": {},
   "outputs": [
    {
     "name": "stdout",
     "output_type": "stream",
     "text": [
      "What percentage of the U.S. retail lingerie market did L-Brands, the parent company of Victoria’s Secret, account for in 2016?\n",
      "In 2016, L-Brands, the parent company of Victoria’s Secret, accounted for 83 percent of the U.S. retail lingerie market.\n",
      "-----------------------\n"
     ]
    }
   ],
   "source": [
    "\n",
    "    print(result_docs[0]['question'])\n",
    "    print(result_docs[0]['answer'])\n",
    "    print(\"-----------------------\")"
   ]
  },
  {
   "cell_type": "code",
   "execution_count": 72,
   "id": "429a5e91-d69e-400c-b7e2-430a4eec9ee9",
   "metadata": {},
   "outputs": [],
   "source": [
    "def build_prompt(query, search_results):\n",
    "    prompt_template = \"\"\"\n",
    "You're a chatbot assistant. Answer the QUESTION based on the CONTEXT from the database.\n",
    "Use only the facts from the CONTEXT which including: context of the question, the question and answer when answering the QUESTION.\n",
    "\n",
    "QUESTION: {question}\n",
    "\n",
    "CONTEXT: \n",
    "{context}\n",
    "\"\"\".strip()\n",
    "\n",
    "    context = \"\"\n",
    "    \n",
    "    for doc in search_results:\n",
    "        context = context + f\"context: {doc['context']}\\nquestion: {doc['question']}\\nanswer: {doc['answer']}\\n\\n\"\n",
    "    \n",
    "    prompt = prompt_template.format(question=query, context=context).strip()\n",
    "    return prompt\n",
    "\n",
    "def llm(prompt):\n",
    "    response = client.chat.completions.create(\n",
    "        model='gemma:2b',\n",
    "        messages=[{\"role\": \"user\", \"content\": prompt}]\n",
    "    )\n",
    "    \n",
    "    return response.choices[0].message.content"
   ]
  },
  {
   "cell_type": "code",
   "execution_count": 73,
   "id": "8ddaa718-4f92-44a7-a441-8c903402a833",
   "metadata": {},
   "outputs": [],
   "source": [
    "def rag(query):\n",
    "    search_results = elastic_search(query)\n",
    "    prompt = build_prompt(query, search_results)\n",
    "    print(prompt)\n",
    "    answer = llm(prompt)\n",
    "    return answer"
   ]
  },
  {
   "cell_type": "code",
   "execution_count": 74,
   "id": "36a7ef87-e254-4958-9b6c-fb7f8f620381",
   "metadata": {
    "scrolled": true
   },
   "outputs": [
    {
     "name": "stdout",
     "output_type": "stream",
     "text": [
      "You're a chatbot assistant. Answer the QUESTION based on the CONTEXT from the database.\n",
      "Use only the facts from the CONTEXT which including: context of the question, the question and answer when answering the QUESTION.\n",
      "\n",
      "QUESTION: How many percentage of the U.S. retail lingerie market did L-Brands account for in 2024?\n",
      "\n",
      "CONTEXT: \n",
      "context: Follow CBSMIAMI.COM: Facebook | Twitter\n",
      "NEW YORK (CBSMiami) – While more traditional styles of women’s underwear dominate the market, a number of independent brands are catering to a much larger market.\n",
      "At the New York headquarters of Lively, the unmentionables on display aren’t necessarily meant to be kept under wraps.\n",
      "“These styles look like you could wear them outside, not just under your clothes,” said Karina Mitchell.\n",
      "“And they’ve certainly been styled that way,” Alexandra Alquiza responded.\n",
      "Underwear is big business, and Victoria’s Secret has helped shape the industry.\n",
      "According to IBIS World, in 2016, L-Brands, the parent company of Victoria’s Secret, known for its enticing looks, accounted for 83 percent of the U.S. retail lingerie market.\n",
      "But Lively’s director of marketing, Alexandra Alquiza, says a growing number of women want something different.\n",
      "“Ultimate comfort coupled with high style… really tapping into a new definition of sexy,” she said. “The sexy that resonates with women today is around being active and outgoing and confident.”\n",
      "Athleticwear has taken off and is now finding its way into intimate apparel.\n",
      "More businesses are creating a diverse range of undergarments that include larger sizes, increased comfort and styles that can blur the lines..\n",
      "People who stopped by the label’s New York photo shoot seemed interested.\n",
      "“I really like the more flexible casual look,” one person said.\n",
      "Another person added, “As long as it’s comfortable and gives you support, that’s all that matters to me.”\n",
      "question: What percentage of the U.S. retail lingerie market did L-Brands, the parent company of Victoria’s Secret, account for in 2016?\n",
      "answer: In 2016, L-Brands, the parent company of Victoria’s Secret, accounted for 83 percent of the U.S. retail lingerie market.\n"
     ]
    },
    {
     "data": {
      "text/plain": [
       "'According to the context, L-Brands accounted for 83 percent of the U.S. retail lingerie market in 2016.'"
      ]
     },
     "execution_count": 74,
     "metadata": {},
     "output_type": "execute_result"
    }
   ],
   "source": [
    "query = 'How many percentage of the U.S. retail lingerie market did L-Brands account for in 2024?'\n",
    "rag(query)"
   ]
  },
  {
   "cell_type": "code",
   "execution_count": null,
   "id": "d7c4281a-6900-4ce9-899a-1a7ce04dee2f",
   "metadata": {},
   "outputs": [],
   "source": []
  },
  {
   "cell_type": "code",
   "execution_count": null,
   "id": "cf306b61-ddbd-4fca-8be8-02a167333bdd",
   "metadata": {},
   "outputs": [],
   "source": []
  }
 ],
 "metadata": {
  "kernelspec": {
   "display_name": "Python 3 (ipykernel)",
   "language": "python",
   "name": "python3"
  },
  "language_info": {
   "codemirror_mode": {
    "name": "ipython",
    "version": 3
   },
   "file_extension": ".py",
   "mimetype": "text/x-python",
   "name": "python",
   "nbconvert_exporter": "python",
   "pygments_lexer": "ipython3",
   "version": "3.10.13"
  }
 },
 "nbformat": 4,
 "nbformat_minor": 5
}
