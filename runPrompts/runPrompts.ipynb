{
 "cells": [
  {
   "cell_type": "code",
   "execution_count": 1,
   "id": "2d9af377-d98d-43ab-ac75-ba8c9cb8188e",
   "metadata": {},
   "outputs": [],
   "source": [
    "import json\n",
    "from openai import OpenAI"
   ]
  },
  {
   "cell_type": "code",
   "execution_count": 2,
   "id": "58e3f530-de03-48c5-aa1c-29cc3d2d604f",
   "metadata": {},
   "outputs": [
    {
     "name": "stderr",
     "output_type": "stream",
     "text": [
      "/usr/local/python/3.10.13/lib/python3.10/site-packages/tqdm/auto.py:21: TqdmWarning: IProgress not found. Please update jupyter and ipywidgets. See https://ipywidgets.readthedocs.io/en/stable/user_install.html\n",
      "  from .autonotebook import tqdm as notebook_tqdm\n",
      "Downloading readme: 100%|█| 5.15k/\n",
      "Downloading data: 100%|█| 2.32M/2.\n",
      "Downloading data: 100%|█| 604k/604\n",
      "Generating train split: 100%|█| 96\n",
      "Generating test split: 100%|█| 240\n"
     ]
    }
   ],
   "source": [
    "from datasets import load_dataset\n",
    "rag_dataset = load_dataset(\"neural-bridge/rag-dataset-1200\")"
   ]
  },
  {
   "cell_type": "code",
   "execution_count": 3,
   "id": "61fc8634-3f0b-42fe-8be4-7d9a752aec2f",
   "metadata": {},
   "outputs": [
    {
     "data": {
      "text/plain": [
       "datasets.dataset_dict.DatasetDict"
      ]
     },
     "execution_count": 3,
     "metadata": {},
     "output_type": "execute_result"
    }
   ],
   "source": [
    "type(rag_dataset)"
   ]
  },
  {
   "cell_type": "code",
   "execution_count": 4,
   "id": "f262e7e4-2497-4226-b86e-deb405a8c770",
   "metadata": {},
   "outputs": [
    {
     "data": {
      "text/plain": [
       "Dataset({\n",
       "    features: ['context', 'question', 'answer'],\n",
       "    num_rows: 960\n",
       "})"
      ]
     },
     "execution_count": 4,
     "metadata": {},
     "output_type": "execute_result"
    }
   ],
   "source": [
    "rag_dataset['train']"
   ]
  },
  {
   "cell_type": "code",
   "execution_count": 5,
   "id": "42aa0e24-cf71-4541-9e7d-d5df7aa56bf9",
   "metadata": {},
   "outputs": [
    {
     "data": {
      "text/plain": [
       "'What are some of the potential negative impacts of charity as discussed in the context?'"
      ]
     },
     "execution_count": 5,
     "metadata": {},
     "output_type": "execute_result"
    }
   ],
   "source": [
    "rag_dataset['train'][1]['question']"
   ]
  },
  {
   "cell_type": "code",
   "execution_count": 6,
   "id": "5444a394-63af-488a-938d-f7448758d823",
   "metadata": {},
   "outputs": [
    {
     "data": {
      "text/plain": [
       "'The context discusses that charity can sometimes exacerbate problems rather than solve them. It can delay permanent infrastructure and job development, and in some cases, it can lead to mismanagement of funds. The context also mentions the situation in Haiti where an influx of donated rice and solar panels disrupted local businesses, making the local economy dependent on foreign aid. This is described as unsustainable and unethical. Furthermore, charity can also allow companies to overlook problems in their supply chain or company culture, as they can claim responsibility through their charitable actions.'"
      ]
     },
     "execution_count": 6,
     "metadata": {},
     "output_type": "execute_result"
    }
   ],
   "source": [
    "rag_dataset['train'][1]['answer']"
   ]
  },
  {
   "cell_type": "code",
   "execution_count": 7,
   "id": "18a2e19b-b544-4e18-b071-6b4843a8efee",
   "metadata": {},
   "outputs": [
    {
     "data": {
      "text/plain": [
       "['A few nights ago, my husband and I were watching an episode of Dragon\\'s Den, the Canadian version of Shark Tank, and a \"social good\" company was pitching their Haitian recycling program. It was a bad business concept poorly executed, but it didn\\'t justify one of the Dragons\\' responses, paraphrased below:',\n",
       " \"You're going about this the wrong way! You don't create a social good business before you become profitable. You become profitable by whatever means necessary, and then you give back! That's how business works.\",\n",
       " 'Now, I\\'ll concede that there\\'s something to the idea that a business needs to be successful in order for a positive end to be achieved. But her response is not an unusual one in the business community, and more often than not, the American Sharks who invest in social enterprises also buy this \"the ends justifies the means\" argument. Put another way, business people as a rule - and no thanks to Capitalism - prioritize profit over social good. If some money can be thrown at a few noble causes at the end of the line, that\\'s great. But do what you have to do to thrive, even if that means exploitation.',\n",
       " 'In an apparent attempt to combat that mindset, there are now hundreds of startup brands on the \"ethical\" market that use buzzwords like social enterprise, one-for-one, and give-back to describe themselves. One would presume by the marketing that being charitable makes a company ethical, and I\\'ve seen many ethical bloggers and influencers tout these brands as such, even when there\\'s very little data on their supply chain. But it begs the question: can a company really be ethical if workers are not provided a living wage, if they\\'re not working in a safe environment, and if no attention is paid to the sustainability of raw materials?',\n",
       " 'While give-back brands market themselves around the social good, how much good are they actually achieving? And is it enough?',\n",
       " \"Charitable small businesses believe that they are doing something different by placing a cause front and center in their marketing. But, on a practical level, if their supply chain isn't in order, they may not be doing much more than a conventional business. They may be even worse.\",\n",
       " 'After all, those big, nasty corporations their marketing subtly critiques do the same thing.',\n",
       " \"Large corporations have a history of giving back. GE matches employees' charitable giving, Johnson & Johnson recently pledged 1 million dollars towards improving air quality around the world, and, since 2006, the BP Foundation has donated more than 218 million dollars to community initiatives around the country. Even Walmart, through its Foundation, awards grants and scholarships, and donates money in $200,000 lump sums to all sorts of relief efforts and deserving programs.\",\n",
       " \"Being charitable is not a new angle. You could probably make the case that it's actually an engrained component of American enterprise, as fundamental as having a business plan. Americans really love charitable giving. In fact, in 2015 alone individual citizens and American businesses gave $373.25 billion dollars to charity.\",\n",
       " \"You can look at this from a couple of perspectives. On the one hand, it's really nice to know that these hugely profitable enterprises are designating at least some of their profits to charitable giving. It's certainly better than nothing, and for the recipients of these pledges, scholarships, and funds, it can be life changing.\",\n",
       " \"But it also makes it awfully convenient for these companies to never address problems in their supply chain - or even company culture within corporate offices - because as long as they claim they're being responsible, they can practically get away with murder (but, more realistically, with gross negligence when it comes to their most vulnerable workers).\",\n",
       " 'So, when a nicely branded \"social enterprise\" tells me they give back, I have questions.',\n",
       " \"Where are your raw materials sourced? Who makes your product? Where? What's the wage? Have you visited your supplier? How did you choose your supplier, and why?\",\n",
       " \"If they can't answer these questions with relative ease, something's wrong.\",\n",
       " \"It's not that charity is bad. Charity is very good, and comes from good human emotions like empathy, love, and maybe a bit of guilt. Charity is what's needed in times of crisis - in famine, tsunami, and war.\",\n",
       " 'But charity is also a bandaid placed on broken systems.',\n",
       " 'Charities, by their nature, go where there is trouble. Uprising, corruption, colonialism, exploitation, bigotry, terror. No amount of external aid, even if given in love and good faith, can correct underlying systemic issues. Sometimes, charity makes things worse.',\n",
       " 'The documentary, Poverty Inc., explores the ways in which charity has become big business, delaying permanent infrastructure and job development. In Haiti, NGOs are often so poorly managed that money simply vanishes, given to inefficient subcontractors or wasted on lavish homes.',\n",
       " \"After an earthquake devastated Haiti in 2010, Americans donated tens of millions of dollars to relief efforts. Haitian communities were inundated with donated rice, forcing local rice farmers to compete with free product, running many of them out of business. Meanwhile, an onslaught of solar panel donations threatened local alternative energy businesses. Even if individuals were helped in the short term, the local economy was now dependent on foreign aid to keep it afloat. Not only is this unsustainable, it's unethical.\",\n",
       " 'Change happens when marginalized communities are empowered to transform systems of oppression into systems of flourishing.',\n",
       " 'Social good brands must realize that there are limits to charity, and that building a charitable business model without attention to the ethics of their supply chain or the long term efficacy of the nonprofits they support is both irresponsible and dangerous.',\n",
       " 'The best possible world is one in which charity no longer needs to exist because people are able to provide for their families and their communities. It is a place where individuals are valued and not exploited. Where the root causes of injustice are addressed before they can spiral out of control.',\n",
       " \"Charity is only good now because it is necessary. But the world we should be working toward is one where people are far too important to ever be turned into charity cases, where we don't get to feel good about giving.\",\n",
       " \"Where we get to claim that we're good only when we know that everyone is being treated as the sacred beings they are.\",\n",
       " 'In the words of John Wesley:',\n",
       " 'Do all the good you can. By all the means you can. In all the ways you can. In all the places you can. At all the times you can. To all the people you can. As long as ever you can.',\n",
       " \"So, businesses, by all means give to charity. But take it a step further by seriously scrutinizing your supply chain for the slightest sign of injustice and exploitation. Care about company culture. Care about the environment. Vet the charities you support. Treat others the way you'd like to be treated.\",\n",
       " 'I originally covered this topic on my post on One-for-Ones. I\\'m hoping to do another post distinguishing between charity as a virtue versus \"charity, inc.\" soon.']"
      ]
     },
     "execution_count": 7,
     "metadata": {},
     "output_type": "execute_result"
    }
   ],
   "source": [
    "rag_dataset['train'][1]['context'].split(\"\\n\")"
   ]
  },
  {
   "cell_type": "code",
   "execution_count": 8,
   "id": "8cd9d3d5-043f-43e9-9f73-9628777c91f2",
   "metadata": {},
   "outputs": [],
   "source": [
    "instances_list = []\n",
    "\n",
    "# Iterate over each instance in the 'train' split\n",
    "for instance in rag_dataset['train']:\n",
    "    # Create a dictionary for the current instance and append it to the list\n",
    "    instances_list.append({\n",
    "        \"context\": instance[\"context\"],\n",
    "        \"question\": instance[\"question\"],\n",
    "        \"answer\": instance[\"answer\"]\n",
    "    })\n",
    "\n",
    "# Save the list of instances to a JSON file\n",
    "with open('../data/documents.json', 'w', encoding='utf-8') as f:\n",
    "    json.dump(instances_list, f, ensure_ascii=False, indent=4)"
   ]
  },
  {
   "cell_type": "code",
   "execution_count": 9,
   "id": "4e8061a1-ad13-43ff-b316-09a6310911cb",
   "metadata": {},
   "outputs": [],
   "source": [
    "with open('../data/documents.json', 'rt') as f_in:\n",
    "    documents = json.load(f_in)"
   ]
  },
  {
   "cell_type": "code",
   "execution_count": 10,
   "id": "eb9cafca-be01-444b-84d3-6c600824dd84",
   "metadata": {},
   "outputs": [
    {
     "data": {
      "text/plain": [
       "'Who found the answer to a search query collar george herbert essay?'"
      ]
     },
     "execution_count": 10,
     "metadata": {},
     "output_type": "execute_result"
    }
   ],
   "source": [
    "documents[0]['question']"
   ]
  },
  {
   "cell_type": "code",
   "execution_count": 25,
   "id": "2342079e-30da-4b1b-b3d7-697fdcf761b9",
   "metadata": {},
   "outputs": [],
   "source": [
    "from openai import OpenAI\n",
    "\n",
    "client = OpenAI(\n",
    "    base_url='http://localhost:11434/v1/',\n",
    "    api_key='ollama',\n",
    ")"
   ]
  },
  {
   "cell_type": "code",
   "execution_count": 33,
   "id": "beb30925-339e-4eee-a136-9f22f3939ca3",
   "metadata": {},
   "outputs": [],
   "source": [
    "from elasticsearch import Elasticsearch"
   ]
  },
  {
   "cell_type": "code",
   "execution_count": 34,
   "id": "3d449658-3c68-409a-ab4d-292700c0b386",
   "metadata": {},
   "outputs": [],
   "source": [
    "\n",
    "es_client = Elasticsearch('http://localhost:9200') "
   ]
  },
  {
   "cell_type": "code",
   "execution_count": 35,
   "id": "627ae7ec-0149-47f0-bb93-efa5981867e1",
   "metadata": {},
   "outputs": [],
   "source": [
    "\n",
    "index_settings = {\n",
    "    \"settings\": {\n",
    "        \"number_of_shards\": 1,\n",
    "        \"number_of_replicas\": 0\n",
    "    },\n",
    "    \"mappings\": {\n",
    "        \"properties\": {\n",
    "            \"context\": {\"type\": \"text\"},\n",
    "            \"answer\": {\"type\": \"text\"},\n",
    "            \"question\": {\"type\": \"text\"}\n",
    "        }\n",
    "    }\n",
    "}\n"
   ]
  },
  {
   "cell_type": "code",
   "execution_count": 37,
   "id": "983fadb6-f343-4999-afa6-7dd19c5aa31e",
   "metadata": {},
   "outputs": [
    {
     "data": {
      "text/plain": [
       "ObjectApiResponse({'acknowledged': True, 'shards_acknowledged': True, 'index': 'questions-related'})"
      ]
     },
     "execution_count": 37,
     "metadata": {},
     "output_type": "execute_result"
    }
   ],
   "source": [
    "index_name = \"questions-related\"\n",
    "es_client.indices.delete(index=index_name, ignore_unavailable=True)\n",
    "es_client.indices.create(index=index_name, body=index_settings)"
   ]
  },
  {
   "cell_type": "code",
   "execution_count": 38,
   "id": "f92c7f3d-4fd2-462a-b6d9-70cae1855612",
   "metadata": {},
   "outputs": [],
   "source": [
    "from tqdm.auto import tqdm"
   ]
  },
  {
   "cell_type": "code",
   "execution_count": 39,
   "id": "04b28096-c9e8-4e6d-a09f-473d95c953c3",
   "metadata": {},
   "outputs": [
    {
     "name": "stderr",
     "output_type": "stream",
     "text": [
      "100%|█████████████████████████████████████| 960/960 [00:26<00:00, 36.03it/s]\n"
     ]
    }
   ],
   "source": [
    "for doc in tqdm(documents):\n",
    "    es_client.index(index=index_name, document=doc)"
   ]
  },
  {
   "cell_type": "code",
   "execution_count": 54,
   "id": "df174c4a-f837-4fed-9fb6-c4166762f994",
   "metadata": {},
   "outputs": [],
   "source": [
    "def elastic_search(query):\n",
    "    # search_query = {\n",
    "    #     \"size\": 5,\n",
    "    #     \"query\": {\n",
    "    #         \"bool\": {\n",
    "    #             \"must\": {\n",
    "    #                 \"multi_match\": {\n",
    "    #                     \"query\": query,\n",
    "    #                     \"fields\": [\"question^3\", \"context^3\", \"answer\"],\n",
    "    #                     \"type\": \"best_fields\"\n",
    "    #                 }\n",
    "    #             }\n",
    "    #         }\n",
    "    #     }\n",
    "    # }\n",
    "    search_query = {\n",
    "        \"size\": 5,\n",
    "        \"query\": {\n",
    "            \"bool\": {\n",
    "                \"must\": {\n",
    "                    \"multi_match\": {\n",
    "                        \"query\": query,\n",
    "                        \"fields\": [\"question^3\", \"context\", \"answer\"],\n",
    "                        \"type\": \"best_fields\"\n",
    "                    }\n",
    "                }\n",
    "            }\n",
    "        }\n",
    "    }\n",
    "\n",
    "    response = es_client.search(index=index_name, body=search_query)\n",
    "    \n",
    "    result_docs = []\n",
    "    \n",
    "    for hit in response['hits']['hits']:\n",
    "        result_docs.append(hit['_source'])\n",
    "    \n",
    "    return result_docs\n"
   ]
  },
  {
   "cell_type": "code",
   "execution_count": 55,
   "id": "b1af81b4-dbab-499c-9a0b-6153557538a8",
   "metadata": {},
   "outputs": [],
   "source": [
    "query = 'How many percentage of the U.S. retail lingerie market did L-Brands account for in 2024?'"
   ]
  },
  {
   "cell_type": "code",
   "execution_count": 56,
   "id": "87406001-ba31-48c0-bede-f29848d93499",
   "metadata": {},
   "outputs": [],
   "source": [
    "result_docs = elastic_search(query)"
   ]
  },
  {
   "cell_type": "code",
   "execution_count": 58,
   "id": "c729b68e-ab52-4c6f-a38d-f51c79ca0172",
   "metadata": {},
   "outputs": [
    {
     "name": "stdout",
     "output_type": "stream",
     "text": [
      "In 2016, L-Brands, the parent company of Victoria’s Secret, accounted for 83 percent of the U.S. retail lingerie market.\n",
      "The person paid Rs 19,000 for the bicycle they purchased from Jackson Market.\n",
      "The person ran 8 miles on Monday.\n",
      "The parliament met for 135 times during the second session of the Legislature-Parliament.\n",
      "The Twitter account @0109mahahu started being active since August 2013.\n"
     ]
    }
   ],
   "source": [
    "for i in range(5):\n",
    "    \n",
    "    print(result_docs[i]['answer'])"
   ]
  },
  {
   "cell_type": "code",
   "execution_count": 59,
   "id": "ed7d2b33-46d8-4017-8662-04a849fb034e",
   "metadata": {},
   "outputs": [],
   "source": [
    "def elastic_search(query):\n",
    "    search_query = {\n",
    "        \"size\": 5,\n",
    "        \"query\": {\n",
    "            \"bool\": {\n",
    "                \"must\": {\n",
    "                    \"multi_match\": {\n",
    "                        \"query\": query,\n",
    "                        \"fields\": [\"question^3\", \"context^3\", \"answer\"],\n",
    "                        \"type\": \"best_fields\"\n",
    "                    }\n",
    "                }\n",
    "            }\n",
    "        }\n",
    "    }\n",
    "    \n",
    "    # search_query = {\n",
    "    #     \"size\": 5,\n",
    "    #     \"query\": {\n",
    "    #         \"bool\": {\n",
    "    #             \"must\": {\n",
    "    #                 \"multi_match\": {\n",
    "    #                     \"query\": query,\n",
    "    #                     \"fields\": [\"question^3\", \"context\", \"answer\"],\n",
    "    #                     \"type\": \"best_fields\"\n",
    "    #                 }\n",
    "    #             }\n",
    "    #         }\n",
    "    #     }\n",
    "    # }\n",
    "\n",
    "    response = es_client.search(index=index_name, body=search_query)\n",
    "    \n",
    "    result_docs = []\n",
    "    \n",
    "    for hit in response['hits']['hits']:\n",
    "        result_docs.append(hit['_source'])\n",
    "    \n",
    "    return result_docs\n"
   ]
  },
  {
   "cell_type": "code",
   "execution_count": 60,
   "id": "29547501-6bde-4688-a1ce-06882be29450",
   "metadata": {},
   "outputs": [],
   "source": [
    "result_docs = elastic_search(query)"
   ]
  },
  {
   "cell_type": "code",
   "execution_count": 62,
   "id": "68c2742c-48cf-4308-b18f-9aacb4c690b2",
   "metadata": {},
   "outputs": [
    {
     "name": "stdout",
     "output_type": "stream",
     "text": [
      "What percentage of the U.S. retail lingerie market did L-Brands, the parent company of Victoria’s Secret, account for in 2016?\n",
      "In 2016, L-Brands, the parent company of Victoria’s Secret, accounted for 83 percent of the U.S. retail lingerie market.\n",
      "-----------------------\n",
      "What is the usual adult dosage for L-Methyl-MC NAC tablets?\n",
      "The usual adult dose is one tablet daily or as prescribed by a licensed medical practitioner.\n",
      "-----------------------\n",
      "What are the terms of the new five-year pact between Verizon and the NFL?\n",
      "Under the new five-year pact, Verizon will pay the NFL more than $2 billion to gain rights to live-stream all in-market and national games, including preseason, regular season, and playoff games — including the Super Bowl — to any mobile device nationwide. The deal also covers the NFL’s Thursday, Sunday and Monday Night Football games, and the Sunday day games that air on TV in viewers’ local market. Verizon’s rights extend to mobile phones across all carriers and across Oath properties, including Yahoo, Yahoo Sports, AOL, and Go90. The new NFL deal also grants Verizon rights to sell select in-game ad inventory on its platforms. The deal will run through the 2022-23 season.\n",
      "-----------------------\n",
      "What challenges did Target Corp face in its expansion to Canada?\n",
      "Target Corp faced a frosty reception in Canada due to issues with pricing. The company underestimated the importance of pricing in Canada, leading to lower-than-expected sales and a cut in its full-year profit forecast. It failed to make the first shopping experience for every Canadian a positive one.\n",
      "-----------------------\n",
      "What are some of the benefits of using an automated trading system in Forex markets?\n",
      "An automated trading system can monitor the Forex markets 24 hours a day, is completely disciplined to the set of system rules and never strays. It can keep working to bring in the Forex trading income you desire.\n",
      "-----------------------\n"
     ]
    }
   ],
   "source": [
    "for i in range(5):\n",
    "    print(result_docs[i]['question'])\n",
    "    print(result_docs[i]['answer'])\n",
    "    print(\"-----------------------\")"
   ]
  },
  {
   "cell_type": "code",
   "execution_count": null,
   "id": "429a5e91-d69e-400c-b7e2-430a4eec9ee9",
   "metadata": {},
   "outputs": [],
   "source": []
  }
 ],
 "metadata": {
  "kernelspec": {
   "display_name": "Python 3 (ipykernel)",
   "language": "python",
   "name": "python3"
  },
  "language_info": {
   "codemirror_mode": {
    "name": "ipython",
    "version": 3
   },
   "file_extension": ".py",
   "mimetype": "text/x-python",
   "name": "python",
   "nbconvert_exporter": "python",
   "pygments_lexer": "ipython3",
   "version": "3.10.13"
  }
 },
 "nbformat": 4,
 "nbformat_minor": 5
}
