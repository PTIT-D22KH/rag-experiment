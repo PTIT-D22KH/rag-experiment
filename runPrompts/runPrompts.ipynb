{
 "cells": [
  {
   "cell_type": "code",
   "execution_count": 1,
   "id": "2d9af377-d98d-43ab-ac75-ba8c9cb8188e",
   "metadata": {},
   "outputs": [],
   "source": [
    "import json\n",
    "from openai import OpenAI"
   ]
  },
  {
   "cell_type": "code",
   "execution_count": 2,
   "id": "58e3f530-de03-48c5-aa1c-29cc3d2d604f",
   "metadata": {},
   "outputs": [
    {
     "name": "stderr",
     "output_type": "stream",
     "text": [
      "/usr/local/python/3.10.13/lib/python3.10/site-packages/tqdm/auto.py:21: TqdmWarning: IProgress not found. Please update jupyter and ipywidgets. See https://ipywidgets.readthedocs.io/en/stable/user_install.html\n",
      "  from .autonotebook import tqdm as notebook_tqdm\n"
     ]
    }
   ],
   "source": [
    "from datasets import load_dataset\n",
    "rag_dataset = load_dataset(\"neural-bridge/rag-dataset-12000\")"
   ]
  },
  {
   "cell_type": "code",
   "execution_count": 3,
   "id": "61fc8634-3f0b-42fe-8be4-7d9a752aec2f",
   "metadata": {},
   "outputs": [
    {
     "data": {
      "text/plain": [
       "datasets.dataset_dict.DatasetDict"
      ]
     },
     "execution_count": 3,
     "metadata": {},
     "output_type": "execute_result"
    }
   ],
   "source": [
    "type(rag_dataset)"
   ]
  },
  {
   "cell_type": "code",
   "execution_count": 4,
   "id": "f262e7e4-2497-4226-b86e-deb405a8c770",
   "metadata": {},
   "outputs": [
    {
     "data": {
      "text/plain": [
       "Dataset({\n",
       "    features: ['context', 'question', 'answer'],\n",
       "    num_rows: 9600\n",
       "})"
      ]
     },
     "execution_count": 4,
     "metadata": {},
     "output_type": "execute_result"
    }
   ],
   "source": [
    "rag_dataset['train']"
   ]
  },
  {
   "cell_type": "code",
   "execution_count": 5,
   "id": "42aa0e24-cf71-4541-9e7d-d5df7aa56bf9",
   "metadata": {},
   "outputs": [
    {
     "data": {
      "text/plain": [
       "{'context': 'RWSN Collaborations\\nSouthern Africa Self-supply Study Review of Self-supply and its support services in African countries\\nA lady in Zimbabwe proudly shows off her onions - watered from her self-supply well\\n© 2015 André Olschewski • Skat\\nProject starts: 2015\\nProject finished: 2016\\nCollaborators & Partners:.\\nProject Description\\nUNICEF and Skat have collaborated on a).\\nPerspectives\\nReach and benefits:\\n- Self-supply is practised by millions of rural households in Sub-Sahara Africa as well as in Europe, USA and other areas of the world.\\n- Benefits reported from having access to Self-supply water sources include convenience, less time spent for fetching water and access to more and better quality water. In some areas, Self-supply sources offer important added values such as water for productive use, income generation, family safety and improved food security.\\n- Sustainability of services from Self-supply is high as there is strong ownership by people investing in own sources.\\n- As Self-supply sources are shared sources, many people, including poor and vulnerable households, benefit from investments in Self-supply, often at no costs. This means that Self-supply can be effective in reaching the hard-to-reach.\\n- For millions of people in rural areas of Africa, supported Self-supply will be the most cost effective service delivery model to provide access to safe water. This also includes those parts of the population which actually have poor access as they e.g. cannot afford water from communal supplies.\\n- However, in areas where external support for Self-supply is lacking, only marginal improvements can usually be achieved, and the quality of services is lower than in areas where a dedicated support effort was made.\\nCosts and business model for supported Self-supply\\n- In many rural contexts, supported Self-supply is the most cost effective approach for water service delivery. However, as it is not applicable in all contexts, a blended approach combining communal water supply and supported Self-supply models should be followed.\\n- Based on a Life Cycle Cost (LCC) analysis of different service delivery approaches, the LCC for communal supplies are about 40 US$/capita served in the study countries, whereas the LCC for supported Self-supply is about 10 U$/capita.\\n- In sparsely populated areas, communal supplies (e.g. handpumps) are even more costly (up to 100 U$/capita served) as only few people can be served with one additional unit. Serving all rural people with communal supply is therefore not financially viable.\\n- Considering the applicability of Self-supply technologies, in Zambia and Zimbabwe, the cost saving of following a blended approach using both communal supplies and supported Self-supply is almost 50% of the total LCC for reaching 100% of the population by 2030. These cost savings are equivalent to more than 330 million US$ in Zambia and more than 260 million US$ in Zimbabwe.\\nSupport services needed\\n- Supported Self-supply is a service delivery model putting support services in place to improve Self-supply, so it is not about a particular technology.\\n- Supported Self-supply is aligned with the Human Rights to Water and Sanitation, which allows a progressive realisation of the universal access to safe water. However, supported Self-supply is not a way to exempt government from its duties: Government has specific roles to play to ensure that everybody will have access to safe water finally.\\n- To sustain and to take Self-supply to scale there is need for contextualised support as well as long-term engagement, capacity development at all levels, M&E and technical support, reliable funding and learning and sharing.\\n- Interministerial cooperation and champions within government agencies are needed to ensure sustainable embedding and for taking Self-supply further, particularly in remote rural areas.\\n- There is no-one-size-fits-all solution for supported Self-supply – for each programme, it needs a contextualized design and follow-up to achieve desired impact.\\n- Hygiene promotion, including Household Water Treatment and Safe Storage (HWTS), is highly recommended for any non-piped water supply services, including Self-supply water sources.\\n- The huge potential for substantially improving the level of water supply for millions of people in rural areas should be accessed through supported Self-supply. Some countries have endorsed supported Self-supply as service delivery model, such as Zimbabwe or Sierra Leone, and in Ethiopia, Self-supply is now being scaled up at national level.\\nMore Information\\n» Review of Self-supply and its support services in African countries: Synthesis Report).',\n",
       " 'question': 'What are some of the benefits reported from having access to Self-supply water sources?',\n",
       " 'answer': 'Benefits reported from having access to Self-supply water sources include convenience, less time spent for fetching water and access to more and better quality water. In some areas, Self-supply sources offer important added values such as water for productive use, income generation, family safety and improved food security.'}"
      ]
     },
     "execution_count": 5,
     "metadata": {},
     "output_type": "execute_result"
    }
   ],
   "source": [
    "rag_dataset['train'][1]"
   ]
  },
  {
   "cell_type": "code",
   "execution_count": 6,
   "id": "8cd9d3d5-043f-43e9-9f73-9628777c91f2",
   "metadata": {},
   "outputs": [],
   "source": [
    "# instances_list = []\n",
    "\n",
    "# # Iterate over each instance in the 'train' split\n",
    "# for instance in rag_dataset['train']:\n",
    "#     # Create a dictionary for the current instance and append it to the list\n",
    "#     instances_list.append({\n",
    "#         \"context\": instance[\"context\"],\n",
    "#         \"question\": instance[\"question\"],\n",
    "#         \"answer\": instance[\"answer\"]\n",
    "#     })\n",
    "\n",
    "# # Save the list of instances to a JSON file\n",
    "# with open('rag_dataset_train_instances.json', 'w', encoding='utf-8') as f:\n",
    "#     json.dump(instances_list, f, ensure_ascii=False, indent=4)"
   ]
  },
  {
   "cell_type": "code",
   "execution_count": 7,
   "id": "4e8061a1-ad13-43ff-b316-09a6310911cb",
   "metadata": {},
   "outputs": [],
   "source": [
    "with open('rag_dataset_train_instances.json', 'rt') as f_in:\n",
    "    documents = json.load(f_in)"
   ]
  },
  {
   "cell_type": "code",
   "execution_count": 8,
   "id": "eb9cafca-be01-444b-84d3-6c600824dd84",
   "metadata": {},
   "outputs": [
    {
     "data": {
      "text/plain": [
       "{'context': 'Caption: Tasmanian berry grower Nic Hansen showing Macau chef Antimo Merone around his property as part of export engagement activities.\\nTHE RISE and rise of the Australian strawberry, raspberry and blackberry industries has seen the sectors redouble their international trade focus, with the release of a dedicated export plan to grow their global presence over the next 10 years.\\nDriven by significant grower input, the Berry Export Summary 2028 maps the sectors’ current position, where they want to be, high-opportunity markets and next steps.\\nHort Innovation trade manager Jenny Van de Meeberg said the value and volume of raspberry and blackberry exports rose by 100 per cent between 2016 and 2017. She said the Australian strawberry industry experienced similar success with an almost 30 per cent rise in export volume and a 26 per cent rise in value to $32.6M over the same period.\\n“Australian berry sectors are in a firm position at the moment,” she said. “Production, adoption of protected substrate cropping, improved genetics and an expanding geographic footprint have all helped put Aussie berries on a positive trajectory.\\n“We are seeing a real transition point. Broad industry interest and a strong commercial appetite for export market development combined with the potential to capitalise on existing trade agreements and build new trade partnerships has created this perfect environment for growth.”\\nHigh-income countries across Europe, North America and Northern Asia have been identified as having a palate for Australian grown berries with more than 4244 tonnes of fresh berries exported in the last financial year alone.\\nThe strategy identified the best short-term prospect markets for the Australian blackberry and raspberry industry as Hong Kong, Singapore, The United Arab Emirates and Canada. The strongest short-term trade options identified for the strawberry sector were Thailand, Malaysia, New Zealand and Macau.\\nThe strategy focuses heavily on growing the existing strawberry export market from 4 per cent to at least 8 per cent of national production by volume, in markets with a capacity and willingness to pay a premium for quality fruit. For raspberries and blackberries, the sectors aim to achieve a 5 per cent boost in exports assessed by volume across identified markets by 2021.\\nTasmanian raspberry exporter Nic Hansen said Australia offers some of the sweetest and most attractive berries in the world, and this combined with our stringent food safety standards across all stages of the supply chain puts growers in a solid position.\\n“We have a great product, we are hungry to expand trade and now with this new plan in place, we have a clear roadmap towards driving growth,” Mr Hansen said.\\nHe said it is exciting to see new export market prospects for raspberries: “The more options we have for export the better. Now we just have to get on with the job of ensuring industry has all the tools it needs, such as supporting data and relationship building opportunities, to thrive in new markets.”\\nThis project was commissioned by Hort Innovation, and developed by market analysts and research consultants Auspex Strategic Advisory and AgInfinity. Hort Innovation will work now with berry sectors to determine levy-funded activities to support trade.\\nSee a summary of the strategy on the Hort Innovation website.\\nFor more information on the berry industries, refer to the Horticulture Statistics Handbook and the Strategic Investment Plans for strawberries, raspberries and blackberries. Growers seeking more information should email trade@horticulture.com.au',\n",
       " 'question': 'What is the Berry Export Summary 2028 and what is its purpose?',\n",
       " 'answer': 'The Berry Export Summary 2028 is a dedicated export plan for the Australian strawberry, raspberry, and blackberry industries. It maps the sectors’ current position, where they want to be, high-opportunity markets, and next steps. The purpose of this plan is to grow their global presence over the next 10 years.'}"
      ]
     },
     "execution_count": 8,
     "metadata": {},
     "output_type": "execute_result"
    }
   ],
   "source": [
    "documents[0]"
   ]
  },
  {
   "cell_type": "code",
   "execution_count": 9,
   "id": "2342079e-30da-4b1b-b3d7-697fdcf761b9",
   "metadata": {},
   "outputs": [],
   "source": [
    "from openai import OpenAI\n",
    "\n",
    "client = OpenAI(\n",
    "    base_url='http://localhost:11434/v1/',\n",
    "    api_key='ollama',\n",
    ")"
   ]
  },
  {
   "cell_type": "code",
   "execution_count": null,
   "id": "beb30925-339e-4eee-a136-9f22f3939ca3",
   "metadata": {},
   "outputs": [],
   "source": []
  }
 ],
 "metadata": {
  "kernelspec": {
   "display_name": "Python 3 (ipykernel)",
   "language": "python",
   "name": "python3"
  },
  "language_info": {
   "codemirror_mode": {
    "name": "ipython",
    "version": 3
   },
   "file_extension": ".py",
   "mimetype": "text/x-python",
   "name": "python",
   "nbconvert_exporter": "python",
   "pygments_lexer": "ipython3",
   "version": "3.10.13"
  }
 },
 "nbformat": 4,
 "nbformat_minor": 5
}
