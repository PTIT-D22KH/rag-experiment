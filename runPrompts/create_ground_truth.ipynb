{
 "cells": [
  {
   "cell_type": "code",
   "execution_count": 10,
   "id": "fbe24520-6c42-4c83-bd93-0c2715a62dde",
   "metadata": {},
   "outputs": [],
   "source": [
    "import json\n",
    "from openai import OpenAI\n",
    "from groq import Groq\n",
    "import os\n",
    "from sentence_transformers import SentenceTransformer\n",
    "from tqdm.auto import tqdm\n",
    "import pickle\n",
    "from requests.exceptions import HTTPError\n",
    "import time\n",
    "# from groq.exceptions import RateLimitError\n",
    "from concurrent.futures import ThreadPoolExecutor"
   ]
  },
  {
   "cell_type": "code",
   "execution_count": 11,
   "id": "c46a9d83-cb04-4200-81d4-96998653ea29",
   "metadata": {},
   "outputs": [],
   "source": [
    "client =  Groq(api_key = os.environ['GROQ_API_KEY'])"
   ]
  },
  {
   "cell_type": "code",
   "execution_count": 12,
   "id": "05f26bc4-5643-4e5d-b2b0-ba9099d45552",
   "metadata": {},
   "outputs": [],
   "source": [
    "model = SentenceTransformer(\"paraphrase-multilingual-MiniLM-L12-v2\")"
   ]
  },
  {
   "cell_type": "code",
   "execution_count": 13,
   "id": "19fc9924-77c0-47a7-a6c0-8eed58051fc8",
   "metadata": {},
   "outputs": [],
   "source": [
    "with open('../data/vietnamese_rag/documents-with-ids1.json', 'rt') as f_in:\n",
    "    documents1 = json.load(f_in)"
   ]
  },
  {
   "cell_type": "code",
   "execution_count": 30,
   "id": "160e34ec-0ffc-4e98-9440-c4d7618ca528",
   "metadata": {},
   "outputs": [
    {
     "data": {
      "text/plain": [
       "1217"
      ]
     },
     "execution_count": 30,
     "metadata": {},
     "output_type": "execute_result"
    }
   ],
   "source": [
    "len(documents1)"
   ]
  },
  {
   "cell_type": "code",
   "execution_count": 14,
   "id": "0845ba74-d2e9-4593-a2cf-e323fd8021f9",
   "metadata": {},
   "outputs": [
    {
     "data": {
      "text/plain": [
       "dict_keys(['group', 'context', 'question', 'answer', 'id'])"
      ]
     },
     "execution_count": 14,
     "metadata": {},
     "output_type": "execute_result"
    }
   ],
   "source": [
    "documents1[0].keys()"
   ]
  },
  {
   "cell_type": "code",
   "execution_count": 15,
   "id": "7749153a-333f-46f9-8a2e-cc7fbbaa947b",
   "metadata": {},
   "outputs": [],
   "source": [
    "prompt_template = \"\"\"\n",
    "You emulate my assistant who works with me in a Q and A project .\n",
    "Formulate 5 questions people might ask based on the record. The record\n",
    "should contain the answer to the questions, and the questions should be complete and not too short.\n",
    "If possible, use as fewer words as possible from the record. Make sure the questions should be in Vietnamese\n",
    "\n",
    "The record:\n",
    "\n",
    "question: {question}\n",
    "answer: {answer}\n",
    "\n",
    "Provide the output in parsable JSON without using code blocks:\n",
    "\n",
    "[\"question1\", \"question2\", ..., \"question5\"]\n",
    "\"\"\".strip()"
   ]
  },
  {
   "cell_type": "code",
   "execution_count": 16,
   "id": "f4d9b362-29a6-4a41-8547-e90ffeb7d612",
   "metadata": {},
   "outputs": [],
   "source": [
    "def generate_questions(doc):\n",
    "    # Create a new dictionary excluding the first key-value pair\n",
    "    doc_items = list(doc.items())[1:]  # Skip the first item\n",
    "    doc_filtered = dict(doc_items)\n",
    "\n",
    "    prompt = prompt_template.format(**doc_filtered)\n",
    "\n",
    "    retries = 5\n",
    "    for i in range(retries):\n",
    "        try:\n",
    "            response = client.chat.completions.create(\n",
    "                model='Gemma2-9b-It',\n",
    "                messages=[{\"role\": \"user\", \"content\": prompt}]\n",
    "            )\n",
    "            json_response = response.choices[0].message.content\n",
    "            return json_response\n",
    "        except HTTPError as e:\n",
    "            if e.response.status_code == 429:  # Rate limit error\n",
    "                retry_after = float(e.response.json()['error']['message'].split('in ')[-1].split('s')[0])\n",
    "                time.sleep(retry_after)\n",
    "            else:\n",
    "                raise\n",
    "        except Exception as e:\n",
    "            if i < retries - 1:\n",
    "                time.sleep(2 ** i)  # Exponential backoff\n",
    "            else:\n",
    "                raise"
   ]
  },
  {
   "cell_type": "code",
   "execution_count": 17,
   "id": "24ad98bd-d031-49f7-a6c5-559b3cb6b221",
   "metadata": {},
   "outputs": [],
   "source": [
    "def map_progress(pool, seq, f):\n",
    "    results = []\n",
    "\n",
    "    with tqdm(total=len(seq)) as progress:\n",
    "        futures = []\n",
    "\n",
    "        for el in seq:\n",
    "            future = pool.submit(f, el)\n",
    "            future.add_done_callback(lambda p: progress.update())\n",
    "            futures.append(future)\n",
    "\n",
    "        for future in futures:\n",
    "            result = future.result()\n",
    "            results.append(result)\n",
    "\n",
    "    return results"
   ]
  },
  {
   "cell_type": "code",
   "execution_count": 18,
   "id": "3976b0d8-2e24-492e-add5-d810b02ed7f6",
   "metadata": {},
   "outputs": [],
   "source": [
    "\n",
    "# Initialize ThreadPoolExecutor\n",
    "pool = ThreadPoolExecutor(max_workers=6)\n",
    "\n",
    "# Process documents in parallel\n",
    "results = {}"
   ]
  },
  {
   "cell_type": "code",
   "execution_count": 19,
   "id": "ebecb59b-f587-4984-9610-4c3994439130",
   "metadata": {},
   "outputs": [],
   "source": [
    "def process_document(doc):\n",
    "    doc_id = doc['id']\n",
    "    if doc_id in results:\n",
    "        return None\n",
    "\n",
    "    questions = generate_questions(doc)\n",
    "    return (doc_id, questions)"
   ]
  },
  {
   "cell_type": "code",
   "execution_count": 20,
   "id": "dd268002-4bc2-48ea-a7e2-f7c34ccc2fd8",
   "metadata": {},
   "outputs": [
    {
     "name": "stderr",
     "output_type": "stream",
     "text": [
      "100%|█████████████████████████| 30/30 [00:36<00:00,  1.21s/it]\n",
      "100%|█████████████████████████| 30/30 [00:03<00:00, 10.53it/s]"
     ]
    }
   ],
   "source": [
    "# Use map_progress to process documents\n",
    "processed_results = map_progress(pool, documents1[:30], process_document)\n",
    "\n",
    "# Store the results\n",
    "for result in processed_results:\n",
    "    if result is not None:\n",
    "        doc_id, questions = result\n",
    "        results[doc_id] = questions\n"
   ]
  },
  {
   "cell_type": "code",
   "execution_count": 21,
   "id": "bddd1f82-cfb3-467b-b1c6-54a35a6576c2",
   "metadata": {},
   "outputs": [
    {
     "name": "stdout",
     "output_type": "stream",
     "text": [
      "{'75fafd29': '[\\n\"Minh Tú đã gặp khó khăn gì trong thử thách đi catwalk tại Asia\\'s Next Top Model mùa 5?\",\\n\"Điểm đến nào là thử thách khó khăn nhất đối với Minh Tú trong buổi thử thách đi catwalk?\",\\n\"Vị trí của Minh Tú trong đêm chung kết Asia\\'s Next Top Model mùa 5 là gì?\",\\n\"Minh Tú đã thể hiện kỹ năng gì khi thực hiện thử thách đi catwalk trên tòa nhà cao tầng?\",\\n\"Những thử thách nào đã giúp Minh Tú gặt hái thành công trong Asia\\'s Next Top Model mùa 5?\"\\n] \\n', '7adda7d7': '[\"Tại sao TP HCM có sương mù dày đặc vào sáng hôm nay?\",\\n\"Những yếu tố nào dẫn đến sương mù dày đặc ở TP HCM?\",\\n\"Tại sao sương mù lại xuất hiện vào ban đêm?\",\\n\"Có sự liên quan giữa mưa lớn và hiện tượng sương mù\\xa0không?\",\\n\"Mức độ ô nhiễm không khí có ảnh hưởng đến sương mù\\xa0không?\"] \\n\\n\\n', 'de6e7aa5': '{\"question1\":\"Vụ nổ tại nhà máy hóa dầu xảy ra ở tỉnh nào ở Trung Quốc?\" , \"question2\":\"Ảnh hưởng ban đầu của vụ nổ là bao nhiêu người bị thương?\" , \"question3\":\"Vụ nổ xảy ra vào thời gian nào theo giờ Hà Nội?\" , \"question4\":\"Ngoài thiệt hại về người, có yếu tố nào khác bị ảnh hưởng?\",\"question5\":\"Số người mất tích sau vụ nổ là bao nhiêu?\"} \\n', 'e68ffd7a': '[\"Tây Ban Nha cáo buộc những quốc gia nào liên quan đến việc thúc giục Catalonia đòi độc lập?\", \"Các tổ chức ở Nga và Venezuela đã sử dụng phương tiện gì để thúc đẩy độc lập Catalonia?\", \"Catalonia đã tiến hành cuộc trưng cầu dân ý chưa?\", \"Tây Ban Nha có phản ứng gì với đòi độc lập của Catalonia?\", \"Mục tiêu của Nga và Venezuela trong việc thúc giục độc lập Catalonia là gì?\"] \\n\\n', 'e9d96b31': '[\\n\"Lý Hải đã từng hết thời trong sự nghiệp ca hát chưa?\",\\n\"Điều gì đã khiến Lý Hải hết thời?\",\\n\"Lý Hải đã làm gì để trở lại sự nghiệp ca hát?\",\\n\"Tên video ca nhạc mà Lý Hải đã sản xuất để quay lại là gì?\",\\n\"Video ca nhạc của Lý Hải đã giúp anh làm gì?\"\\n] \\n', 'd5118cb4': '[\\n\"Một nhóm tay súng từ Châu Phi, sau khi chiến đấu ở khu vực nào, có thể trở lại quê hương?\",\\n\"Có bao nhiêu tay súng Châu Phi được ước tính sẽ trở lại quê hương?\",\\n\"Lý do tại sao sự trở về của tay súng Châu Phi từ Syria và Iraq được coi là mối đe dọa?\",\\n\"Lo ngại gì về sự ổn định của khu vực nếu tay súng châu phi trở về?\",\\n\"Ngoài biện pháp riêng lẻ, các nước Châu Phi cần làm gì để đối phó với mối đe dọa này?\"\\n] \\n', '6351cb16': '[\\n\"Minh Tú đã khởi đầu mùa giải Asia\\'s Next Top Model 5 như thế nào?\",\\n\"Vị trí của Minh Tú sau vòng casting ban đầu là bao nhiêu?\",\\n\"Minh Tú đã rơi vào tình thế nguy hiểm bao nhiêu lần trong cuộc thi?\",\\n\"Vì lý do gì Minh Tú lại một lần rơi vào Top 3 nguy hiểm?\",\\n\"Minh Tú giành được vị trí thứ dự và giải thưởng gì trong Asia\\'s Next Top Model 5?\"\\n] \\n\\n\\n', 'de2d1d49': '[\\n\"Paris Air Show năm 2017 có những máy bay nước nào tham gia màn trình diễn bay?\",\\n\"Tại Paris Air Show năm 2017, máy bay Rafale thuộc quốc tịch nào?\",\\n\"F-35A Lightning II là loại máy bay của nước nào?\",\\n\"Loại máy bay nào có màn trình diễn bay ấn tượng tại Paris Air Show năm 2017?\",\\n\"Ngoài tiêm kích, loại máy bay khác nào cũng có màn trình diễn ấn tượng tại sự kiện này?\"\\n] \\n\\n\\n', '0f23c410': '[\\n\"Theo đánh giá, U22 Việt Nam và U22 Thái Lan ở SEA Games năm nay có sự chênh lệch về chất lượng chuyên môn như thế nào?\",\\n\"U22 Việt Nam có được xem là đội bóng vượt trội hơn U22 Thái Lan về mặt kỹ thuật chuyên môn tại SEA Games không?\",\\n\"Sự khác biệt về kỹ thuật chuyên môn giữa U22 Việt Nam và U22 Thái Lan trong SEA Games năm nay là rõ ràng không?\",\\n\"U22 Việt Nam nhận được đánh giá cao hơn U22 Thái Lan trong chuyên môn ở kỳ SEA Games này là do yếu tố nào?\",\\n\"Tại SEA Games năm nay, U22 Thái Lan có thể sánh ngang với U22 Việt Nam về mặt chất lượng chuyên môn được không?\"\\n]\\n', 'bfc01c8d': '[\"Cristiano Ronaldo đã ghi bao nhiêu bàn thắng trong sự nghiệp của mình?\", \"Cristiano Ronaldo đã trở thành chân sút hàng đầu tại những giải đấu quốc gia nào ở châu Âu?\", \"Ngoài Tây Ban Nha, Ronaldo còn thi đấu thành công ở các giải đấu quốc gia khác ở châu Âu không?\", \"Giải đấu quốc gia nào ở trên đã xem Ronaldo là chân sút hàng đầu?\", \"Bao nhiêu giải đấu quốc gia hàng đầu ở châu Âu mà Ronaldo ghi bàn?\"] \\n\\n\\n', '448b636b': '[\"Phiến quân Houthi đang đe dọa tấn công thủ đô của quốc gia nào?\", \"Phiến quân Houthi đã gia tăng hoạt động quân sự ở đâu?\", \"Các Tiểu vương quốc Arab thống nhất hiện đang bị đe dọa bởi ai?\", \"UAE đang đối mặt với mối đe dọa từ ai?\", \"Saudi Arabia đang thực hiện những biện pháp gì đối phó với phiến quân Houthi?\"] \\n', '163963df': '[\\n\"Dung lượng pin của iPhone X cao hơn iPhone 8 bao nhiêu mAh?\",\\n\"iPhone 8 Plus có dung lượng pin lớn hơn hay nhỏ hơn iPhone X?\",\\n\"iPhone X được so sánh về dung lượng pin với những mẫu iPhone nào?\",\\n\"Nguồn thông tin về dung lượng pin của iPhone X là gì?\",\\n\"Dung lượng pin của iPhone 8 có bao nhiêu mAh?\"\\n] \\n\\n\\n\\n\\n', '0a6ba01a': '[\"Ai là các ứng cử viên của giải thưởng Fair-play bóng đá Việt Nam năm 2017?\", \\n\"Nguyễn Văn Toàn có được đề cử giải thưởng Fair-play nào?\", \\n\"Trong số các đề cử viên cho giải thưởng Fair-play bóng đá Việt Nam năm 2017 có ai là huấn luyện viên?\", \\n\"CLB nào được đề cử cho giải thưởng Fair-play bóng đá Việt Nam năm 2017?\", \\n\"Trần Thị Thùy Trang được đề cử giải thưởng gì năm 2017?\"] \\n', '444425c1': '{\\n\"questions\": [\\n\"Tên lửa đạn đạo Bulava được triển khai trên loại phương tiện nào của Hải quân Nga?\",\\n\"Hải quân Nga trang bị bao nhiêu ống phóng Bulava trên tàu ngầm lớp Borei?\",\\n\"Bulava có khả năng mang bao nhiêu đầu đạn hạt nhân?\",\\n\"Mỗi đầu đạn hạt nhân của tên lửa Bulava có công suất bao nhiêu?\",\\n\"Bulava có loại đầu đạn hạt nhân gì?\"\\n]\\n}\\n\\n\\n\\n\\n\\n', '3a5bcd92': '[\"Sevilla vs Liverpool diễn ra ngày nào?\", \"Bóng đá Sevilla vs Liverpool lúc mấy giờ theo giờ GMT?\", \"Trận đấu Sevilla vs Liverpool được tổ chức tại đâu?\", \"Vào ngày 21/11, trận đấu Sevilla vs Liverpool diễn ra lúc mấy giờ?\", \"Trận Sevilla vs Liverpool diễn ra tại sân vận động nào?\"]\\n', '73e98a2e': '[\"Tên lửa Zircon được phóng bởi nước nào?\", \"Vận tốc tối đa của tên lửa Zircon là bao nhiêu lần vận tốc âm thanh?\", \"Tên lửa Zircon có tốc độ nhanh gấp mấy lần ma tốc âm thanh?\", \"Tốc độ của tên lửa Zircon được so sánh với vận tốc âm thanh như thế nào?\", \"Zircon là loại tên lửa gì?\"]  \\n', 'a2fb6556': '[\"Quả nào giàu chất xơ nhất?\", \"Ngoài chuối, thực phẩm nào khác cung cấp nhiều chất xơ?\", \"Những loại hạt có lợi cho hệ tiêu hóa?\", \"Khoai lang cung cấp bao nhiêu gram chất xơ?\", \"Hạt lanh cung cấp bao nhiêu chất xơ?\"] \\n', 'fbf937fc': '[\"Pà Khốm có đường lên như thế nào?\",\"Đường lên Pà Khốm có khó đi không?\",\"Người ta thường tả đường lên Pà Khốm ra sao?\",\"Trên đường lên Pà Khốm có tính năng đặc biệt nào không?\",\"Chất lượng đường lên đỉnh Pà Khốm như thế nào?\"] \\n', '3024d8bb': '[\"Có bao nhiêu cán bộ bị kỷ luật vì vi phạm trong việc tặng xe ô tô cho lãnh đạo Thành uỷ Đà Nẵng?\", \"Ông Phạm Văn Hải bị kỷ luật vì hành vi gì?\", \"Vì sao ông Đoàn Xuân Hiếu bị kỷ luật?\", \"Chức danh của ông Võ Văn Phụ là gì?\", \"Lãnh đạo Thành uỷ Đà Nẵng đã bị vi phạm điều gì?\"]  \\n', '678462ff': '[\\n\"Máy bay T-50 thuộc loại máy bay chiến đấu gì?\",\\n\"Máy bay T-50 có thể thực hiện nhiệm vụ cường kích không?\",\\n\"Ngoài nhiệm vụ tiêm kích, T-50 còn có thể làm gì?\",\\n\"Các nhiệm vụ tiêm kích, cường kích và do thám được thực hiện như thế nào trên máy bay T-50?\",\\n\"T-50 có thể được sử dụng trong lĩnh vực nào?\"\\n] \\n', 'e486a7aa': '[\\n\"Làng Phương La thuộc xã, huyện và tỉnh nào?\",\\n\"Làng Mẹo có tên gọi khác là gì?\",\\n\"Xã Thái Phương nằm ở huyện nào?\",\\n\"Huyện Hưng Hà thuộc tỉnh nào?\",\\n\"Làng Mẹo được biết đến với biệt danh gì ở Thái Bình?\"\\n] \\n', 'c1eda82d': '[\"Tại sao Man United thường xuyên gây thất vọng người hâm mộ?\", \"Những khó khăn của Man United có liên quan đến phong cách huấn luyện của Mourinho?\", \"Mourinho đã thất bại ở Man City do những lý do gì?\", \"Thành công của Mourinho ở những năm gần đây ra sao?\", \"Mourinho có điểm yếu nào trong cách huấn luyện?\"] \\n', '2e2169f8': '[\"Các em bé sơ sinh tại Bệnh viện Sản Nhi Bắc Ninh bị tử vong có liên quan đến vấn đề gì?\", \"Tại sao lại có nguy cơ nhiễm khuẩn ở bệnh viện? \", \"Bệnh viện Sản Nhi Bắc Ninh có phải thừa sức lao động không?\", \"Những yếu tố nào có thể thúc đẩy hiện tượng nhiễm khuẩn? \", \"ClientSize: nhiễm khuẩn bệnh viện gây tác động như thế nào đến trẻ sơ sinh ? \" ] \\n', '6c911123': '[\"Sau khi hết hạn hợp đồng với Gangwon FC, Xuân Trường có thể định hướng sự nghiệp thế nào?\",\\n \"Có khả năng Xuân Trường chuyển sang thi đấu tại đâu sau khi rời Gangwon FC?\",\\n \"Lí do tại sao phóng viên Thái Lan quan tâm đến tương lai của Xuân Trường?\",\\n \"Thái League đang có những động thái gì liên quan đến việc chiêu mộ ngoại binh?\",\\n \"Có cơ hội nào cho Xuân Trường thi đấu tại Thái League trong tương lai?\" ] \\n\\n\\n\\n', '198daf6a': '[\"Gía xe Suzuki Celerio vào tháng 3/2018 là bao nhiêu?\", \" Kia Morning có mức giá bao nhiêu vào cuối năm 2017?\", \"Hyundai Grand i10 có mức giá rẻ nhất là bao nhiêu?\", \"Hyundai Grand i10 đã được giảm giá bao nhiêu vào thời điểm tham khảo?\", \"Tại sao Kia Morning có mức giá giảm?\"] \\n', '2a0cf826': '[\\n\"Vị cán bộ xã nào tại huyện Krông Ana đã có hành vi dọn dẹp lòng lề đường gây tổn hại đến tài sản người dân?\",\\n\"Hành vi dọn dẹp lòng lề đường gây thiệt hại tài sản cho người dân xảy ra ở huyện nào?\",\\n\"Sự việc dọn dẹp lòng lề đường có gây tổn hại đến tài sản người dân ở xã Quảng Điền không?\",\\n\"Tại tỉnh nào xảy ra sự việc dọn dẹp lòng lề đường dẫn đến hư hại hàng hóa?\",\\n\"Người dân xã Quảng Điền bị thiệt hại tài sản như thế nào?\"\\n] \\n', '775be04e': '[\\n\"Honda CR-V 2018 có bao nhiêu phiên bản?\",\\n\"Phiên bản cao cấp nhất của Honda CR-V 2018 được gọi là gì?\",\\n\"Giá bán dự kiến phiên bản cao cấp nhất Honda CR-V 2018 là bao nhiêu?\",\\n\"Honda CR-V 2018 có giá bán ở mức tiền nào?\",\\n\"Có bao nhiêu phiên bản của Honda CR-V 2018 có giá bán dưới 1,1 tỷ đồng?\"\\n] \\n', '049ac602': '[\"Tại sao Tổng thống Zimbabwe Robert Mugabe lại không tuân theo văn bản phát biểu đã được thỏa thuận trước?\", \"Lý do gì khiến ông Mugabe không công bố từ chức trong thông điệp với quốc dân?\", \"Có những dấu hiệu nào cho thấy Tổng thống Mugabe cản trở việc tuyên bố từ chức?\", \"Điều gì đang diễn ra với Tổng thống Mugabe?\", \"Ông Mugabe đã đọc đúng bản ghi đã được chuẩn bị trước hay không?\"] \\n', 'efda5ff9': '```json\\n[\\n\"Loại xe sang nào có giá tính trước bạ cao nhất?\",\\n\"Giá trước bạ của Bentley Flying Spur là bao nhiêu?\",\\n\"Người mua McLaren 650S Spider cần đóng bao nhiêu tiền trước bạ khi đăng ký?\",\\n\"Mức thuế trước bạ áp dụng cho cả McLaren 650S Spider và Bentley Flying Spur là bao nhiêu?\",\\n\"Trường hợp mua Bentley Flying Spur, người mua cần đóng trước bạ bao nhiêu đồng?\".\\n]\\n```\\n', 'd6525ed0': '[\"SEA Games bóng đá nữ diễn ra trong bao nhiêu ngày?\", \"Các đội tuyển tham dự SEA Games bóng đá nữ có bao nhiêu?\", \"Việt Nam là một trong những đội tuyển tham dự SEA Games bóng đá nữ?\", \"Bóng đá nữ SEA Games năm nay diễn ra vào tháng nào?\", \"Thái Lan có tham dự SEA Games bóng đá nữ không?\" ] \\n'}\n"
     ]
    }
   ],
   "source": [
    "\n",
    "# Print or save the results as needed\n",
    "print(results)"
   ]
  },
  {
   "cell_type": "code",
   "execution_count": 22,
   "id": "d84176c6-5103-436c-9deb-6886dfe9d9a5",
   "metadata": {},
   "outputs": [
    {
     "data": {
      "text/plain": [
       "30"
      ]
     },
     "execution_count": 22,
     "metadata": {},
     "output_type": "execute_result"
    }
   ],
   "source": [
    "len(processed_results)"
   ]
  },
  {
   "cell_type": "code",
   "execution_count": 23,
   "id": "87cf08f9-6449-4721-9ccf-c6f87dedbfa5",
   "metadata": {},
   "outputs": [],
   "source": [
    "\n",
    "# from collections import defaultdict\n",
    "\n",
    "# hashes = defaultdict(list)\n",
    "\n",
    "# for doc in documents1:\n",
    "#     doc_id = doc['id']\n",
    "#     hashes[doc_id].append(doc)\n",
    "# # hashes['75fafd29']"
   ]
  },
  {
   "cell_type": "code",
   "execution_count": 24,
   "id": "3027c258-827e-4687-b9aa-4c2155dab7b8",
   "metadata": {},
   "outputs": [],
   "source": [
    "# len = 0\n",
    "# for hash in hashes:\n",
    "#     print(hash)\n",
    "#     len += 1\n",
    "#     if len == 30:\n",
    "#         break\n",
    "    "
   ]
  },
  {
   "cell_type": "code",
   "execution_count": 25,
   "id": "e25edddf-650a-422e-8c98-13e69470d241",
   "metadata": {},
   "outputs": [],
   "source": [
    "# for result in results:\n",
    "#     print(result)"
   ]
  },
  {
   "cell_type": "code",
   "execution_count": 26,
   "id": "35939842-bc41-4886-b015-fed5e2ba86f6",
   "metadata": {},
   "outputs": [],
   "source": [
    "with open('../data/vietnamese_rag/ground_truth_data/ground_truth1.pkl', 'wb') as file:\n",
    "    pickle.dump(results, file)"
   ]
  },
  {
   "cell_type": "code",
   "execution_count": 27,
   "id": "a1aefd32-cbcc-4984-ad4b-9fb29b3ee1ed",
   "metadata": {},
   "outputs": [],
   "source": [
    "with open('../data/vietnamese_rag/ground_truth_data/ground_truth1.pkl', 'rb') as file:\n",
    "    test = pickle.load(file)"
   ]
  },
  {
   "cell_type": "code",
   "execution_count": 29,
   "id": "100523ac-6c8d-4307-8c04-86e943320057",
   "metadata": {},
   "outputs": [
    {
     "data": {
      "text/plain": [
       "dict"
      ]
     },
     "execution_count": 29,
     "metadata": {},
     "output_type": "execute_result"
    }
   ],
   "source": [
    "type(test)"
   ]
  },
  {
   "cell_type": "code",
   "execution_count": 31,
   "id": "0fe24cfb-791d-4340-8992-af7e53bbd92e",
   "metadata": {
    "scrolled": true
   },
   "outputs": [
    {
     "name": "stderr",
     "output_type": "stream",
     "text": [
      "100%|█████████████████████████| 30/30 [00:03<00:00,  9.56it/s]\n"
     ]
    }
   ],
   "source": [
    "# Use map_progress to process documents\n",
    "processed_results = map_progress(pool, documents1[30:30*2], process_document)\n",
    "\n",
    "# Store the results\n",
    "for result in processed_results:\n",
    "    if result is not None:\n",
    "        doc_id, questions = result\n",
    "        results[doc_id] = questions\n"
   ]
  },
  {
   "cell_type": "code",
   "execution_count": 34,
   "id": "d4fcd43a-0f7f-4ac3-8a4e-13a2cebb26f8",
   "metadata": {},
   "outputs": [
    {
     "ename": "TypeError",
     "evalue": "unhashable type: 'slice'",
     "output_type": "error",
     "traceback": [
      "\u001b[0;31m---------------------------------------------------------------------------\u001b[0m",
      "\u001b[0;31mTypeError\u001b[0m                                 Traceback (most recent call last)",
      "Cell \u001b[0;32mIn[34], line 1\u001b[0m\n\u001b[0;32m----> 1\u001b[0m results \u001b[38;5;241m=\u001b[39m \u001b[43mresults\u001b[49m\u001b[43m[\u001b[49m\u001b[38;5;241;43m-\u001b[39;49m\u001b[38;5;241;43m30\u001b[39;49m\u001b[43m:\u001b[49m\u001b[43m]\u001b[49m\n",
      "\u001b[0;31mTypeError\u001b[0m: unhashable type: 'slice'"
     ]
    }
   ],
   "source": [
    "results = results[-30:]"
   ]
  },
  {
   "cell_type": "code",
   "execution_count": 32,
   "id": "30063159-5dd6-452b-9f3f-2b9f879f9119",
   "metadata": {},
   "outputs": [],
   "source": [
    "with open('../data/vietnamese_rag/ground_truth_data/ground_truth2.pkl', 'wb') as file:\n",
    "    pickle.dump(results, file)"
   ]
  },
  {
   "cell_type": "code",
   "execution_count": 33,
   "id": "6e026b99-60eb-413e-829c-dd905121875a",
   "metadata": {},
   "outputs": [
    {
     "data": {
      "text/plain": [
       "60"
      ]
     },
     "execution_count": 33,
     "metadata": {},
     "output_type": "execute_result"
    }
   ],
   "source": [
    "len(results)"
   ]
  },
  {
   "cell_type": "code",
   "execution_count": null,
   "id": "d714e3e6-9523-4d5b-bbc1-daa2c37041d5",
   "metadata": {},
   "outputs": [],
   "source": []
  }
 ],
 "metadata": {
  "kernelspec": {
   "display_name": "Python 3 (ipykernel)",
   "language": "python",
   "name": "python3"
  },
  "language_info": {
   "codemirror_mode": {
    "name": "ipython",
    "version": 3
   },
   "file_extension": ".py",
   "mimetype": "text/x-python",
   "name": "python",
   "nbconvert_exporter": "python",
   "pygments_lexer": "ipython3",
   "version": "3.10.13"
  }
 },
 "nbformat": 4,
 "nbformat_minor": 5
}
