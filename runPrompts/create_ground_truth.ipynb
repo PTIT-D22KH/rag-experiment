{
 "cells": [
  {
   "cell_type": "code",
   "execution_count": 1,
   "id": "fbe24520-6c42-4c83-bd93-0c2715a62dde",
   "metadata": {},
   "outputs": [
    {
     "name": "stderr",
     "output_type": "stream",
     "text": [
      "/home/codespace/.local/lib/python3.10/site-packages/tqdm/auto.py:21: TqdmWarning: IProgress not found. Please update jupyter and ipywidgets. See https://ipywidgets.readthedocs.io/en/stable/user_install.html\n",
      "  from .autonotebook import tqdm as notebook_tqdm\n"
     ]
    }
   ],
   "source": [
    "import json\n",
    "from openai import OpenAI\n",
    "from groq import Groq\n",
    "import os\n",
    "from sentence_transformers import SentenceTransformer\n",
    "from tqdm.auto import tqdm\n",
    "import pickle\n",
    "from requests.exceptions import HTTPError\n",
    "import time\n",
    "# from groq.exceptions import RateLimitError\n",
    "from concurrent.futures import ThreadPoolExecutor"
   ]
  },
  {
   "cell_type": "code",
   "execution_count": 2,
   "id": "c46a9d83-cb04-4200-81d4-96998653ea29",
   "metadata": {},
   "outputs": [],
   "source": [
    "client =  Groq(api_key = os.environ['GROQ_API_KEY'])"
   ]
  },
  {
   "cell_type": "code",
   "execution_count": 3,
   "id": "05f26bc4-5643-4e5d-b2b0-ba9099d45552",
   "metadata": {},
   "outputs": [
    {
     "name": "stderr",
     "output_type": "stream",
     "text": [
      "/home/codespace/.local/lib/python3.10/site-packages/transformers/tokenization_utils_base.py:1601: FutureWarning: `clean_up_tokenization_spaces` was not set. It will be set to `True` by default. This behavior will be depracted in transformers v4.45, and will be then set to `False` by default. For more details check this issue: https://github.com/huggingface/transformers/issues/31884\n",
      "  warnings.warn(\n"
     ]
    }
   ],
   "source": [
    "model = SentenceTransformer(\"paraphrase-multilingual-MiniLM-L12-v2\")"
   ]
  },
  {
   "cell_type": "code",
   "execution_count": 4,
   "id": "19fc9924-77c0-47a7-a6c0-8eed58051fc8",
   "metadata": {},
   "outputs": [],
   "source": [
    "with open('../data/vietnamese_rag/documents-with-ids1.json', 'rt') as f_in:\n",
    "    documents1 = json.load(f_in)"
   ]
  },
  {
   "cell_type": "code",
   "execution_count": 30,
   "id": "160e34ec-0ffc-4e98-9440-c4d7618ca528",
   "metadata": {},
   "outputs": [
    {
     "data": {
      "text/plain": [
       "1217"
      ]
     },
     "execution_count": 30,
     "metadata": {},
     "output_type": "execute_result"
    }
   ],
   "source": [
    "len(documents1)"
   ]
  },
  {
   "cell_type": "code",
   "execution_count": 14,
   "id": "0845ba74-d2e9-4593-a2cf-e323fd8021f9",
   "metadata": {},
   "outputs": [
    {
     "data": {
      "text/plain": [
       "dict_keys(['group', 'context', 'question', 'answer', 'id'])"
      ]
     },
     "execution_count": 14,
     "metadata": {},
     "output_type": "execute_result"
    }
   ],
   "source": [
    "documents1[0].keys()"
   ]
  },
  {
   "cell_type": "code",
   "execution_count": 5,
   "id": "7749153a-333f-46f9-8a2e-cc7fbbaa947b",
   "metadata": {},
   "outputs": [],
   "source": [
    "prompt_template = \"\"\"\n",
    "You emulate my assistant who works with me in a Q and A project .\n",
    "Formulate 5 questions people might ask based on the record. The record\n",
    "should contain the answer to the questions, and the questions should be complete and not too short.\n",
    "If possible, use as fewer words as possible from the record. Make sure the questions should be in Vietnamese\n",
    "\n",
    "The record:\n",
    "\n",
    "question: {question}\n",
    "answer: {answer}\n",
    "\n",
    "Provide the output in parsable JSON without using code blocks:\n",
    "\n",
    "[\"question1\", \"question2\", ..., \"question5\"]\n",
    "\"\"\".strip()"
   ]
  },
  {
   "cell_type": "code",
   "execution_count": 6,
   "id": "f4d9b362-29a6-4a41-8547-e90ffeb7d612",
   "metadata": {},
   "outputs": [],
   "source": [
    "def generate_questions(doc):\n",
    "    # Create a new dictionary excluding the first key-value pair\n",
    "    doc_items = list(doc.items())[1:]  # Skip the first item\n",
    "    doc_filtered = dict(doc_items)\n",
    "\n",
    "    prompt = prompt_template.format(**doc_filtered)\n",
    "\n",
    "    retries = 5\n",
    "    for i in range(retries):\n",
    "        try:\n",
    "            response = client.chat.completions.create(\n",
    "                model='Gemma2-9b-It',\n",
    "                messages=[{\"role\": \"user\", \"content\": prompt}]\n",
    "            )\n",
    "            json_response = response.choices[0].message.content\n",
    "            return json_response\n",
    "        except HTTPError as e:\n",
    "            if e.response.status_code == 429:  # Rate limit error\n",
    "                retry_after = float(e.response.json()['error']['message'].split('in ')[-1].split('s')[0])\n",
    "                time.sleep(retry_after)\n",
    "            else:\n",
    "                raise\n",
    "        except Exception as e:\n",
    "            if i < retries - 1:\n",
    "                time.sleep(2 ** i)  # Exponential backoff\n",
    "            else:\n",
    "                raise"
   ]
  },
  {
   "cell_type": "code",
   "execution_count": 7,
   "id": "24ad98bd-d031-49f7-a6c5-559b3cb6b221",
   "metadata": {},
   "outputs": [],
   "source": [
    "def map_progress(pool, seq, f):\n",
    "    results = []\n",
    "\n",
    "    with tqdm(total=len(seq)) as progress:\n",
    "        futures = []\n",
    "\n",
    "        for el in seq:\n",
    "            future = pool.submit(f, el)\n",
    "            future.add_done_callback(lambda p: progress.update())\n",
    "            futures.append(future)\n",
    "\n",
    "        for future in futures:\n",
    "            result = future.result()\n",
    "            results.append(result)\n",
    "\n",
    "    return results"
   ]
  },
  {
   "cell_type": "code",
   "execution_count": 8,
   "id": "3976b0d8-2e24-492e-add5-d810b02ed7f6",
   "metadata": {},
   "outputs": [],
   "source": [
    "\n",
    "# Initialize ThreadPoolExecutor\n",
    "pool = ThreadPoolExecutor(max_workers=6)\n",
    "\n",
    "# Process documents in parallel\n",
    "results = {}"
   ]
  },
  {
   "cell_type": "code",
   "execution_count": 9,
   "id": "ebecb59b-f587-4984-9610-4c3994439130",
   "metadata": {},
   "outputs": [],
   "source": [
    "def process_document(doc):\n",
    "    doc_id = doc['id']\n",
    "    if doc_id in results:\n",
    "        return None\n",
    "\n",
    "    questions = generate_questions(doc)\n",
    "    return (doc_id, questions)"
   ]
  },
  {
   "cell_type": "code",
   "execution_count": 20,
   "id": "dd268002-4bc2-48ea-a7e2-f7c34ccc2fd8",
   "metadata": {},
   "outputs": [
    {
     "name": "stderr",
     "output_type": "stream",
     "text": [
      "100%|█████████████████████████| 30/30 [00:36<00:00,  1.21s/it]\n",
      "  2%|█▏                                               | 28/1127 [00:20<35:37,  1.94s/it]████████████████████████████████████████████████████████████████▍          | 28/30 [00:02<00:00, 10.40it/s]"
     ]
    }
   ],
   "source": [
    "# Use map_progress to process documents\n",
    "processed_results = map_progress(pool, documents1[:30], process_document)\n",
    "\n",
    "# Store the results\n",
    "for result in processed_results:\n",
    "    if result is not None:\n",
    "        doc_id, questions = result\n",
    "        results[doc_id] = questions\n"
   ]
  },
  {
   "cell_type": "code",
   "execution_count": 21,
   "id": "bddd1f82-cfb3-467b-b1c6-54a35a6576c2",
   "metadata": {},
   "outputs": [
    {
     "name": "stdout",
     "output_type": "stream",
     "text": [
      "{'75fafd29': '[\\n\"Minh Tú đã gặp khó khăn gì trong thử thách đi catwalk tại Asia\\'s Next Top Model mùa 5?\",\\n\"Điểm đến nào là thử thách khó khăn nhất đối với Minh Tú trong buổi thử thách đi catwalk?\",\\n\"Vị trí của Minh Tú trong đêm chung kết Asia\\'s Next Top Model mùa 5 là gì?\",\\n\"Minh Tú đã thể hiện kỹ năng gì khi thực hiện thử thách đi catwalk trên tòa nhà cao tầng?\",\\n\"Những thử thách nào đã giúp Minh Tú gặt hái thành công trong Asia\\'s Next Top Model mùa 5?\"\\n] \\n', '7adda7d7': '[\"Tại sao TP HCM có sương mù dày đặc vào sáng hôm nay?\",\\n\"Những yếu tố nào dẫn đến sương mù dày đặc ở TP HCM?\",\\n\"Tại sao sương mù lại xuất hiện vào ban đêm?\",\\n\"Có sự liên quan giữa mưa lớn và hiện tượng sương mù\\xa0không?\",\\n\"Mức độ ô nhiễm không khí có ảnh hưởng đến sương mù\\xa0không?\"] \\n\\n\\n', 'de6e7aa5': '{\"question1\":\"Vụ nổ tại nhà máy hóa dầu xảy ra ở tỉnh nào ở Trung Quốc?\" , \"question2\":\"Ảnh hưởng ban đầu của vụ nổ là bao nhiêu người bị thương?\" , \"question3\":\"Vụ nổ xảy ra vào thời gian nào theo giờ Hà Nội?\" , \"question4\":\"Ngoài thiệt hại về người, có yếu tố nào khác bị ảnh hưởng?\",\"question5\":\"Số người mất tích sau vụ nổ là bao nhiêu?\"} \\n', 'e68ffd7a': '[\"Tây Ban Nha cáo buộc những quốc gia nào liên quan đến việc thúc giục Catalonia đòi độc lập?\", \"Các tổ chức ở Nga và Venezuela đã sử dụng phương tiện gì để thúc đẩy độc lập Catalonia?\", \"Catalonia đã tiến hành cuộc trưng cầu dân ý chưa?\", \"Tây Ban Nha có phản ứng gì với đòi độc lập của Catalonia?\", \"Mục tiêu của Nga và Venezuela trong việc thúc giục độc lập Catalonia là gì?\"] \\n\\n', 'e9d96b31': '[\\n\"Lý Hải đã từng hết thời trong sự nghiệp ca hát chưa?\",\\n\"Điều gì đã khiến Lý Hải hết thời?\",\\n\"Lý Hải đã làm gì để trở lại sự nghiệp ca hát?\",\\n\"Tên video ca nhạc mà Lý Hải đã sản xuất để quay lại là gì?\",\\n\"Video ca nhạc của Lý Hải đã giúp anh làm gì?\"\\n] \\n', 'd5118cb4': '[\\n\"Một nhóm tay súng từ Châu Phi, sau khi chiến đấu ở khu vực nào, có thể trở lại quê hương?\",\\n\"Có bao nhiêu tay súng Châu Phi được ước tính sẽ trở lại quê hương?\",\\n\"Lý do tại sao sự trở về của tay súng Châu Phi từ Syria và Iraq được coi là mối đe dọa?\",\\n\"Lo ngại gì về sự ổn định của khu vực nếu tay súng châu phi trở về?\",\\n\"Ngoài biện pháp riêng lẻ, các nước Châu Phi cần làm gì để đối phó với mối đe dọa này?\"\\n] \\n', '6351cb16': '[\\n\"Minh Tú đã khởi đầu mùa giải Asia\\'s Next Top Model 5 như thế nào?\",\\n\"Vị trí của Minh Tú sau vòng casting ban đầu là bao nhiêu?\",\\n\"Minh Tú đã rơi vào tình thế nguy hiểm bao nhiêu lần trong cuộc thi?\",\\n\"Vì lý do gì Minh Tú lại một lần rơi vào Top 3 nguy hiểm?\",\\n\"Minh Tú giành được vị trí thứ dự và giải thưởng gì trong Asia\\'s Next Top Model 5?\"\\n] \\n\\n\\n', 'de2d1d49': '[\\n\"Paris Air Show năm 2017 có những máy bay nước nào tham gia màn trình diễn bay?\",\\n\"Tại Paris Air Show năm 2017, máy bay Rafale thuộc quốc tịch nào?\",\\n\"F-35A Lightning II là loại máy bay của nước nào?\",\\n\"Loại máy bay nào có màn trình diễn bay ấn tượng tại Paris Air Show năm 2017?\",\\n\"Ngoài tiêm kích, loại máy bay khác nào cũng có màn trình diễn ấn tượng tại sự kiện này?\"\\n] \\n\\n\\n', '0f23c410': '[\\n\"Theo đánh giá, U22 Việt Nam và U22 Thái Lan ở SEA Games năm nay có sự chênh lệch về chất lượng chuyên môn như thế nào?\",\\n\"U22 Việt Nam có được xem là đội bóng vượt trội hơn U22 Thái Lan về mặt kỹ thuật chuyên môn tại SEA Games không?\",\\n\"Sự khác biệt về kỹ thuật chuyên môn giữa U22 Việt Nam và U22 Thái Lan trong SEA Games năm nay là rõ ràng không?\",\\n\"U22 Việt Nam nhận được đánh giá cao hơn U22 Thái Lan trong chuyên môn ở kỳ SEA Games này là do yếu tố nào?\",\\n\"Tại SEA Games năm nay, U22 Thái Lan có thể sánh ngang với U22 Việt Nam về mặt chất lượng chuyên môn được không?\"\\n]\\n', 'bfc01c8d': '[\"Cristiano Ronaldo đã ghi bao nhiêu bàn thắng trong sự nghiệp của mình?\", \"Cristiano Ronaldo đã trở thành chân sút hàng đầu tại những giải đấu quốc gia nào ở châu Âu?\", \"Ngoài Tây Ban Nha, Ronaldo còn thi đấu thành công ở các giải đấu quốc gia khác ở châu Âu không?\", \"Giải đấu quốc gia nào ở trên đã xem Ronaldo là chân sút hàng đầu?\", \"Bao nhiêu giải đấu quốc gia hàng đầu ở châu Âu mà Ronaldo ghi bàn?\"] \\n\\n\\n', '448b636b': '[\"Phiến quân Houthi đang đe dọa tấn công thủ đô của quốc gia nào?\", \"Phiến quân Houthi đã gia tăng hoạt động quân sự ở đâu?\", \"Các Tiểu vương quốc Arab thống nhất hiện đang bị đe dọa bởi ai?\", \"UAE đang đối mặt với mối đe dọa từ ai?\", \"Saudi Arabia đang thực hiện những biện pháp gì đối phó với phiến quân Houthi?\"] \\n', '163963df': '[\\n\"Dung lượng pin của iPhone X cao hơn iPhone 8 bao nhiêu mAh?\",\\n\"iPhone 8 Plus có dung lượng pin lớn hơn hay nhỏ hơn iPhone X?\",\\n\"iPhone X được so sánh về dung lượng pin với những mẫu iPhone nào?\",\\n\"Nguồn thông tin về dung lượng pin của iPhone X là gì?\",\\n\"Dung lượng pin của iPhone 8 có bao nhiêu mAh?\"\\n] \\n\\n\\n\\n\\n', '0a6ba01a': '[\"Ai là các ứng cử viên của giải thưởng Fair-play bóng đá Việt Nam năm 2017?\", \\n\"Nguyễn Văn Toàn có được đề cử giải thưởng Fair-play nào?\", \\n\"Trong số các đề cử viên cho giải thưởng Fair-play bóng đá Việt Nam năm 2017 có ai là huấn luyện viên?\", \\n\"CLB nào được đề cử cho giải thưởng Fair-play bóng đá Việt Nam năm 2017?\", \\n\"Trần Thị Thùy Trang được đề cử giải thưởng gì năm 2017?\"] \\n', '444425c1': '{\\n\"questions\": [\\n\"Tên lửa đạn đạo Bulava được triển khai trên loại phương tiện nào của Hải quân Nga?\",\\n\"Hải quân Nga trang bị bao nhiêu ống phóng Bulava trên tàu ngầm lớp Borei?\",\\n\"Bulava có khả năng mang bao nhiêu đầu đạn hạt nhân?\",\\n\"Mỗi đầu đạn hạt nhân của tên lửa Bulava có công suất bao nhiêu?\",\\n\"Bulava có loại đầu đạn hạt nhân gì?\"\\n]\\n}\\n\\n\\n\\n\\n\\n', '3a5bcd92': '[\"Sevilla vs Liverpool diễn ra ngày nào?\", \"Bóng đá Sevilla vs Liverpool lúc mấy giờ theo giờ GMT?\", \"Trận đấu Sevilla vs Liverpool được tổ chức tại đâu?\", \"Vào ngày 21/11, trận đấu Sevilla vs Liverpool diễn ra lúc mấy giờ?\", \"Trận Sevilla vs Liverpool diễn ra tại sân vận động nào?\"]\\n', '73e98a2e': '[\"Tên lửa Zircon được phóng bởi nước nào?\", \"Vận tốc tối đa của tên lửa Zircon là bao nhiêu lần vận tốc âm thanh?\", \"Tên lửa Zircon có tốc độ nhanh gấp mấy lần ma tốc âm thanh?\", \"Tốc độ của tên lửa Zircon được so sánh với vận tốc âm thanh như thế nào?\", \"Zircon là loại tên lửa gì?\"]  \\n', 'a2fb6556': '[\"Quả nào giàu chất xơ nhất?\", \"Ngoài chuối, thực phẩm nào khác cung cấp nhiều chất xơ?\", \"Những loại hạt có lợi cho hệ tiêu hóa?\", \"Khoai lang cung cấp bao nhiêu gram chất xơ?\", \"Hạt lanh cung cấp bao nhiêu chất xơ?\"] \\n', 'fbf937fc': '[\"Pà Khốm có đường lên như thế nào?\",\"Đường lên Pà Khốm có khó đi không?\",\"Người ta thường tả đường lên Pà Khốm ra sao?\",\"Trên đường lên Pà Khốm có tính năng đặc biệt nào không?\",\"Chất lượng đường lên đỉnh Pà Khốm như thế nào?\"] \\n', '3024d8bb': '[\"Có bao nhiêu cán bộ bị kỷ luật vì vi phạm trong việc tặng xe ô tô cho lãnh đạo Thành uỷ Đà Nẵng?\", \"Ông Phạm Văn Hải bị kỷ luật vì hành vi gì?\", \"Vì sao ông Đoàn Xuân Hiếu bị kỷ luật?\", \"Chức danh của ông Võ Văn Phụ là gì?\", \"Lãnh đạo Thành uỷ Đà Nẵng đã bị vi phạm điều gì?\"]  \\n', '678462ff': '[\\n\"Máy bay T-50 thuộc loại máy bay chiến đấu gì?\",\\n\"Máy bay T-50 có thể thực hiện nhiệm vụ cường kích không?\",\\n\"Ngoài nhiệm vụ tiêm kích, T-50 còn có thể làm gì?\",\\n\"Các nhiệm vụ tiêm kích, cường kích và do thám được thực hiện như thế nào trên máy bay T-50?\",\\n\"T-50 có thể được sử dụng trong lĩnh vực nào?\"\\n] \\n', 'e486a7aa': '[\\n\"Làng Phương La thuộc xã, huyện và tỉnh nào?\",\\n\"Làng Mẹo có tên gọi khác là gì?\",\\n\"Xã Thái Phương nằm ở huyện nào?\",\\n\"Huyện Hưng Hà thuộc tỉnh nào?\",\\n\"Làng Mẹo được biết đến với biệt danh gì ở Thái Bình?\"\\n] \\n', 'c1eda82d': '[\"Tại sao Man United thường xuyên gây thất vọng người hâm mộ?\", \"Những khó khăn của Man United có liên quan đến phong cách huấn luyện của Mourinho?\", \"Mourinho đã thất bại ở Man City do những lý do gì?\", \"Thành công của Mourinho ở những năm gần đây ra sao?\", \"Mourinho có điểm yếu nào trong cách huấn luyện?\"] \\n', '2e2169f8': '[\"Các em bé sơ sinh tại Bệnh viện Sản Nhi Bắc Ninh bị tử vong có liên quan đến vấn đề gì?\", \"Tại sao lại có nguy cơ nhiễm khuẩn ở bệnh viện? \", \"Bệnh viện Sản Nhi Bắc Ninh có phải thừa sức lao động không?\", \"Những yếu tố nào có thể thúc đẩy hiện tượng nhiễm khuẩn? \", \"ClientSize: nhiễm khuẩn bệnh viện gây tác động như thế nào đến trẻ sơ sinh ? \" ] \\n', '6c911123': '[\"Sau khi hết hạn hợp đồng với Gangwon FC, Xuân Trường có thể định hướng sự nghiệp thế nào?\",\\n \"Có khả năng Xuân Trường chuyển sang thi đấu tại đâu sau khi rời Gangwon FC?\",\\n \"Lí do tại sao phóng viên Thái Lan quan tâm đến tương lai của Xuân Trường?\",\\n \"Thái League đang có những động thái gì liên quan đến việc chiêu mộ ngoại binh?\",\\n \"Có cơ hội nào cho Xuân Trường thi đấu tại Thái League trong tương lai?\" ] \\n\\n\\n\\n', '198daf6a': '[\"Gía xe Suzuki Celerio vào tháng 3/2018 là bao nhiêu?\", \" Kia Morning có mức giá bao nhiêu vào cuối năm 2017?\", \"Hyundai Grand i10 có mức giá rẻ nhất là bao nhiêu?\", \"Hyundai Grand i10 đã được giảm giá bao nhiêu vào thời điểm tham khảo?\", \"Tại sao Kia Morning có mức giá giảm?\"] \\n', '2a0cf826': '[\\n\"Vị cán bộ xã nào tại huyện Krông Ana đã có hành vi dọn dẹp lòng lề đường gây tổn hại đến tài sản người dân?\",\\n\"Hành vi dọn dẹp lòng lề đường gây thiệt hại tài sản cho người dân xảy ra ở huyện nào?\",\\n\"Sự việc dọn dẹp lòng lề đường có gây tổn hại đến tài sản người dân ở xã Quảng Điền không?\",\\n\"Tại tỉnh nào xảy ra sự việc dọn dẹp lòng lề đường dẫn đến hư hại hàng hóa?\",\\n\"Người dân xã Quảng Điền bị thiệt hại tài sản như thế nào?\"\\n] \\n', '775be04e': '[\\n\"Honda CR-V 2018 có bao nhiêu phiên bản?\",\\n\"Phiên bản cao cấp nhất của Honda CR-V 2018 được gọi là gì?\",\\n\"Giá bán dự kiến phiên bản cao cấp nhất Honda CR-V 2018 là bao nhiêu?\",\\n\"Honda CR-V 2018 có giá bán ở mức tiền nào?\",\\n\"Có bao nhiêu phiên bản của Honda CR-V 2018 có giá bán dưới 1,1 tỷ đồng?\"\\n] \\n', '049ac602': '[\"Tại sao Tổng thống Zimbabwe Robert Mugabe lại không tuân theo văn bản phát biểu đã được thỏa thuận trước?\", \"Lý do gì khiến ông Mugabe không công bố từ chức trong thông điệp với quốc dân?\", \"Có những dấu hiệu nào cho thấy Tổng thống Mugabe cản trở việc tuyên bố từ chức?\", \"Điều gì đang diễn ra với Tổng thống Mugabe?\", \"Ông Mugabe đã đọc đúng bản ghi đã được chuẩn bị trước hay không?\"] \\n', 'efda5ff9': '```json\\n[\\n\"Loại xe sang nào có giá tính trước bạ cao nhất?\",\\n\"Giá trước bạ của Bentley Flying Spur là bao nhiêu?\",\\n\"Người mua McLaren 650S Spider cần đóng bao nhiêu tiền trước bạ khi đăng ký?\",\\n\"Mức thuế trước bạ áp dụng cho cả McLaren 650S Spider và Bentley Flying Spur là bao nhiêu?\",\\n\"Trường hợp mua Bentley Flying Spur, người mua cần đóng trước bạ bao nhiêu đồng?\".\\n]\\n```\\n', 'd6525ed0': '[\"SEA Games bóng đá nữ diễn ra trong bao nhiêu ngày?\", \"Các đội tuyển tham dự SEA Games bóng đá nữ có bao nhiêu?\", \"Việt Nam là một trong những đội tuyển tham dự SEA Games bóng đá nữ?\", \"Bóng đá nữ SEA Games năm nay diễn ra vào tháng nào?\", \"Thái Lan có tham dự SEA Games bóng đá nữ không?\" ] \\n'}\n"
     ]
    }
   ],
   "source": [
    "\n",
    "# Print or save the results as needed\n",
    "print(results)"
   ]
  },
  {
   "cell_type": "code",
   "execution_count": 22,
   "id": "d84176c6-5103-436c-9deb-6886dfe9d9a5",
   "metadata": {},
   "outputs": [
    {
     "data": {
      "text/plain": [
       "30"
      ]
     },
     "execution_count": 22,
     "metadata": {},
     "output_type": "execute_result"
    }
   ],
   "source": [
    "len(processed_results)"
   ]
  },
  {
   "cell_type": "code",
   "execution_count": 23,
   "id": "87cf08f9-6449-4721-9ccf-c6f87dedbfa5",
   "metadata": {},
   "outputs": [],
   "source": [
    "\n",
    "# from collections import defaultdict\n",
    "\n",
    "# hashes = defaultdict(list)\n",
    "\n",
    "# for doc in documents1:\n",
    "#     doc_id = doc['id']\n",
    "#     hashes[doc_id].append(doc)\n",
    "# # hashes['75fafd29']"
   ]
  },
  {
   "cell_type": "code",
   "execution_count": 24,
   "id": "3027c258-827e-4687-b9aa-4c2155dab7b8",
   "metadata": {},
   "outputs": [],
   "source": [
    "# len = 0\n",
    "# for hash in hashes:\n",
    "#     print(hash)\n",
    "#     len += 1\n",
    "#     if len == 30:\n",
    "#         break\n",
    "    "
   ]
  },
  {
   "cell_type": "code",
   "execution_count": 25,
   "id": "e25edddf-650a-422e-8c98-13e69470d241",
   "metadata": {},
   "outputs": [],
   "source": [
    "# for result in results:\n",
    "#     print(result)"
   ]
  },
  {
   "cell_type": "code",
   "execution_count": 26,
   "id": "35939842-bc41-4886-b015-fed5e2ba86f6",
   "metadata": {},
   "outputs": [],
   "source": [
    "with open('../data/vietnamese_rag/ground_truth_data/ground_truth1.pkl', 'wb') as file:\n",
    "    pickle.dump(results, file)"
   ]
  },
  {
   "cell_type": "code",
   "execution_count": 27,
   "id": "a1aefd32-cbcc-4984-ad4b-9fb29b3ee1ed",
   "metadata": {},
   "outputs": [],
   "source": [
    "with open('../data/vietnamese_rag/ground_truth_data/ground_truth1.pkl', 'rb') as file:\n",
    "    test = pickle.load(file)"
   ]
  },
  {
   "cell_type": "code",
   "execution_count": 29,
   "id": "100523ac-6c8d-4307-8c04-86e943320057",
   "metadata": {},
   "outputs": [
    {
     "data": {
      "text/plain": [
       "dict"
      ]
     },
     "execution_count": 29,
     "metadata": {},
     "output_type": "execute_result"
    }
   ],
   "source": [
    "type(test)"
   ]
  },
  {
   "cell_type": "code",
   "execution_count": 31,
   "id": "0fe24cfb-791d-4340-8992-af7e53bbd92e",
   "metadata": {
    "collapsed": true,
    "jupyter": {
     "outputs_hidden": true
    },
    "scrolled": true
   },
   "outputs": [
    {
     "name": "stderr",
     "output_type": "stream",
     "text": [
      "100%|█████████████████████████| 30/30 [00:03<00:00,  9.56it/s]\n"
     ]
    }
   ],
   "source": [
    "# Use map_progress to process documents\n",
    "processed_results = map_progress(pool, documents1[30:30*2], process_document)\n",
    "\n",
    "# Store the results\n",
    "for result in processed_results:\n",
    "    if result is not None:\n",
    "        doc_id, questions = result\n",
    "        results[doc_id] = questions\n"
   ]
  },
  {
   "cell_type": "code",
   "execution_count": 35,
   "id": "c543e8d7-4efd-4bad-a3a2-cca2693c8a44",
   "metadata": {},
   "outputs": [],
   "source": [
    "def get_last_n_items(d, n):\n",
    "    # Convert dictionary items to a list\n",
    "    items = list(d.items())\n",
    "    # Slice the list to get the last n items\n",
    "    last_n_items = items[-n:]\n",
    "    # Convert the sliced list back to a dictionary\n",
    "    return dict(last_n_items)"
   ]
  },
  {
   "cell_type": "code",
   "execution_count": 36,
   "id": "d4fcd43a-0f7f-4ac3-8a4e-13a2cebb26f8",
   "metadata": {},
   "outputs": [
    {
     "data": {
      "text/plain": [
       "30"
      ]
     },
     "execution_count": 36,
     "metadata": {},
     "output_type": "execute_result"
    }
   ],
   "source": [
    "last_30_items = get_last_n_items(results, 30)\n",
    "len(last_30_items)"
   ]
  },
  {
   "cell_type": "code",
   "execution_count": 37,
   "id": "30063159-5dd6-452b-9f3f-2b9f879f9119",
   "metadata": {},
   "outputs": [],
   "source": [
    "with open('../data/vietnamese_rag/ground_truth_data/ground_truth2.pkl', 'wb') as file:\n",
    "    pickle.dump(last_30_items, file)"
   ]
  },
  {
   "cell_type": "code",
   "execution_count": 43,
   "id": "adbb6439-bc5f-4cf8-99f2-60fb5f430fc6",
   "metadata": {},
   "outputs": [],
   "source": [
    "with open('../data/vietnamese_rag/ground_truth_data/ground_truth2.pkl', 'rb') as file:\n",
    "    test = pickle.load(file)"
   ]
  },
  {
   "cell_type": "code",
   "execution_count": 44,
   "id": "05ce4bfa-b708-48db-b251-114f92d02cd2",
   "metadata": {},
   "outputs": [
    {
     "data": {
      "text/plain": [
       "{'1549e29b': '{\"questions\":[\"Lexus NX mới có lưới tản nhiệt dạng nào?\",\"Lexus NX mới được trang bị màn hình thông tin và giải trí có kích thước bao nhiêu inch?\",\"NX 300h và NX 300 F Sport có điểm khác biệt nào về phần đầu xe?\",\"Có những thay đổi ở phần đuôi xe Lexus NX mới?\",\"Lexus NX mới sử dụng động cơ loại nào?\"]}  \\n',\n",
       " 'f55ad056': '[\"Huỳnh Thị Thuỳ Dung đại diện nước nào tham dự cuộc thi nào?\", \"Huỳnh Thị Thuỳ Dung đạt giải gì ở cuộc thi Hoa hậu Việt Nam 2016?\", \"Ngoài vị trí Á hậu 2, Huỳnh Thị Thuỳ Dung còn nhận giải gì?\", \"Năm Huỳnh Thị Thuỳ Dung đại diện Việt Nam tham dự Miss International?\", \"Huỳnh Thị Thuỳ Dung là người đẹp tài năng trong cuộc thi Hoa hậu Việt Nam nào?\"] \\n\\n\\n',\n",
       " '326bd715': '[\"Sở dĩ Tuấn Anh không thể tham gia buổi tập đội tuyển U22 Việt Nam là do lý do gì?\", \"Trường hợp Đức Huy không góp mặt trong buổi tập là do chấn thương gì?\", \"Chuyên gia vật lý trị liệu nào đang điều trị cho Tuấn Anh?\", \"Cầu thủ Tuấn Anh bị chấn thương gì?\", \"Được biết Đức Huy bị chấn thương chỗ nào?\" ] \\n',\n",
       " 'ffeae25b': '[\"HLV Claudio Ubeda đánh giá thế nào về năng lực của đội tuyển U.20 Việt Nam?\",\"HLV Claudio Ubeda kỳ vọng gì từ trận giao hữu sắp tới với U.20 Việt Nam?\",\"Tại sao HLV Claudio Ubeda coi trận giao hữu với U.20 Việt Nam là trận đấu quan trọng?\",\"U.20 Argentina sẽ tham dự giải đấu gì ở Hàn Quốc?\",\"Buổi giao hữu giữa U.20 Argentina và U.20 Việt Nam diễn ra trước thềm giải đấu nào?\"] \\n',\n",
       " '5dc9824c': '[\\n\"Triều Tiên đòi điều gì từ Hàn Quốc và Mỹ để tiến hành đàm phán quân sự?\",\\n\"Khả năng Hàn Quốc và Mỹ  đàm phán quân sự với Triều Tiên phụ thuộc vào điều kiện gì?\",\\n\"Triều Tiên yêu cầu Hàn Quốc trả lại ai?\",\\n\"Lý do Triều Tiên yêu cầu Hàn Quốc trả 12 nhân viên phục vụ?\",\\n\"Theo quan điểm của Hàn Quốc, 12 nhân viên phục vụ đã làm gì?\"\\n]   \\n',\n",
       " '2209b484': '[\"Hội đồng bóng đá quốc gia quy định bao nhiêu ngày nghỉ cho cầu thủ?\",\\n\"Trước trận đấu cuối cùng của vòng loại AFC Cup, cầu thủ được nghỉ bao nhiêu ngày?\",\\n\"Thời gian nghỉ chơi của cầu thủ sau giải đấu quốc tế là bao nhiêu?\",\\n\"Màn trình diễn sau World Cup, cầu thủ được nghỉ ngơi bao lâu?\",\\n\"Chính phủ quy định \\ngiải lao cho cầu thủ là bao nhiêu ngày?\" ] \\n',\n",
       " '9f4198d4': '[\\n\"Các nước Ả-rập vùng Vịnh đang thảo luận về việc bổ sung những biện pháp gì đối với Doha?\",\\n\"FOREIGN Minister UAE đã nhận xét như thế nào về việc bổ sung biện pháp trừng phạt Doha?\",\\n\"Lãnh đạo UAE đưa ra tuyên bố về Doha vào thời điểm nào?\",\\n\"Tại sao các nước Ả-rập vùng Vịnh muốn bổ sung các biện pháp trừng phạt Doha?\",\\n\"Ngoài việc bổ sung biện pháp trừng phạt, các nước Ả-rập vùng Vịnh có kế hoạch thực hiện những hành động khác đối với Doha không?\"\\n] \\n',\n",
       " '7719ea6b': '[\\n\"Báo cáo nào của Underwriters Laboratories xếp hạng nền kinh tế Việt Nam thứ 6 về an toàn trong 10 nền kinh tế Đông Nam Á?\",\\n\"Chỉ số an toàn của Việt Nam trong báo cáo Underwriters Laboratories là bao nhiêu?\",\\n\"Việt Nam đứng thứ bao nhiêu về an toàn trong 10 nền kinh tế Đông Nam Á?\",\\n\"Xuất bản viên nào công bố báo cáo về thông số an toàn của 10 nền kinh tế Đông Nam Á?\",\\n\"Lĩnh vực nào được đánh giá an toàn trong báo cáo của Underwriters Laboratories?\"\\n] \\n',\n",
       " '451a6060': '[\"Số người bị thương trong vụ nổ ở siêu thị Nga là bao nhiêu?\", \\n\"Vụ nổ ở siêu thị Nga đã gây ra thiệt hại gì?\",\\n\"Có trường hợp tử vong nào trong vụ nổ siêu thị?\", \\n\"Nguyên nhân gây ra vụ nổ ở siêu thị Nga là gì?\",\\n\"Sự việc về vụ nổ siêu thị ở Nga đã được điều tra như thế nào?\" ] \\n',\n",
       " '1ab8c78a': '[\"Philippines phản đối bởi vì sự việc gì?\", \"Lý do Hội Nghề cá Việt Nam phản đối Philippines là gì?\", \"Hội Nghề cá Việt Nam phản đối Philippines liên quan đến vụ việc gì?\", \"Vụ việc nào khiến Hội Nghề cá Việt Nam không hài lòng với Philippines?\", \"Có vụ việc gì trên biển khiến Việt Nam phản đối Philippines?\"] \\n',\n",
       " '18bab1e6': '{\"questions\":[\"Công ty TNHH xăng dầu Hồng Đức ở Bến Tre bị xử lý vì hành vi gì?\",\"Hồng Đức ở Bến Tre phải nộp lại bao nhiêu tiền cho ngân sách nhà nước?\",\"Mức phạt mà Công ty TNHH xăng dầu Hồng Đức phải gánh chịu là bao nhiêu?\",\"Tại sao Công ty TNHH xăng dầu Hồng Đức lại bị phạt?\", \"Hành vi sai phạm của Công ty TNHH xăng dầu Hồng Đức đã dẫn đến hậu quả gì?\"]} \\n\\n\\n',\n",
       " '0fd76553': '[\"Vòng loại World Cup 2018 diễn ra như thế nào với tuyển Italia?\", \"HLV Giampiero Ventura có thể bị sa thải vì lý do gì?\", \"Tại sao FIGC sẽ triệu tập cuộc họp?\", \"Tính chất thất bại của Italia lần này như thế nào?\", \" hợp đồng của HLV Ventura với Italia kéo dài đến năm bao nhiêu?\"] \\n',\n",
       " '70559883': '[\\n\"Emmanuel Macron và Marine Le Pen là ai?\",\\n\"Ai là hai ứng viên tranh chức tổng thống Pháp?\",\\n\"Váy cử thứ hai tại Pháp sẽ diễn ra giữa hai ai?\",\\n\"Ông Macron và bà Le Pen có chức gì?\",\\n\"Theo kết quả vòng bầu cử thứ nhất, ai sẽ bước vào vòng bầu cử thứ hai của cuộc bầu cử tổng thống Pháp?\"\\n]\\n',\n",
       " '63ee9c6e': '[\"Piaggio Medley đã bán được bao nhiêu xe tại Việt Nam?\", \"Doanh số bán hàng trung bình của Piaggio Medley hàng tháng là bao nhiêu?\", \"Sau hơn một năm kể từ khi ra mắt, Piaggio Medley đã bán được bao nhiêu xe?\", \"Kết quả bán hàng của Piaggio Medley tại thị trường Việt Nam như thế nào?\", \"Ngoài hơn 2.200 xe, có thông tin nào về doanh số bán xe Piaggio Medley không?\"] \\n',\n",
       " '3427d35d': '[\"Hà Nội FC có thể vào vòng trong AFC Cup 2017 với kết quả nào?\", \"Điều gì phải xảy ra để Hà Nội FC vào vòng trong dù hòa trận đấu?\", \"Ceres cần kết quả như thế nào để ngăn Hà Nội FC vào vòng trong?\", \"Việc Tampines Rovers thắng hay thua có ảnh hưởng gì tới Hà Nội FC?\", \"Hà Nội FC cần thắng Felda United với tỷ số bao nhiêu để chắc chắn vào vòng trong?\"] \\n',\n",
       " '5f24b910': '[\"Các tỉnh nào dự báo sẽ đón nhận bão số 2 vào đêm nay và sáng sớm ngày mai?\",\\n\"Thời gian dự báo bão số 2 đổ bộ vào đất liền?\",\\n\"Âm mưu đổ bộ của bão số 2 là gì?\",\\n\"Bão số 2 dự kiến ảnh hưởng đến khu vực nào?\",\\n\"Dự báo thời gian chính xác bão số 2 đổ bộ vào đất liền là lúc nào?\"]           \\n',\n",
       " '69bdbffc': '[\\n\"HMNZS Te Kaha có trang bị hệ thống tên lửa chống hạm không?\",\\n\"Tầm phóng của tên lửa chống hạm được sử dụng bởi HMNZS Te Kaha là bao nhiêu?\",\\n\"HMNZS Te Kaha có cách nào để tấn công tàu mặt nước khác bên cạnh trực thăng?\",\\n\"Hệ thống vũ khí của HMNZS Te Kaha có điểm yếu gì khi đối phó với tàu mặt nước?\",\\n\"Điều gì sẽ xảy ra nếu trực thăng SH-2G của HMNZS Te Kaha bị bắn hạ?\"\\n] \\n',\n",
       " '16f38e34': '[\"Liverpool đã nhận được bao nhiêu tiền từ thương vụ chuyển nhượng Coutinho?\", \"Số tiền Liverpool nhận được từ việc bán Coutinho bao gồm những điều gì?\", \"Có những điều khoản phụ nào liên quan đến việc Liverpool nhận thêm tiền từ Barcelona?\", \"Barcelona đã trả bao nhiêu tiền cho Liverpool để mua Coutinho?\", \"Liverpool có thể nhận thêm tiền từ Barcelona nếu Coutinho],\" \\n',\n",
       " 'c6a93c34': '[\"Hiện tại phiến quân IS có động thái gì ở tỉnh Deir Ezzor?\", \"Có những thay đổi nào trong lãnh đạo quân sự của phiến quân IS ở Deir Ezzor?\", \"Vì sao phiến quân IS muốn đánh chiếm thị trấn Al-Shoulah?\", \"Kết quả chiến lược của phiến quân IS nhằm cắt đứt tuyến đường tiếp viện cho quân đội Syria ở Deir Ezzor là gì?\", \" Quân đội Syria đã phản ứng như thế nào với chiến thuật mới của phiến quân IS?\" ] \\n\\n\\n',\n",
       " '95bfaf88': '[\"Liệu lỗ hổng bảo mật gần đây trên Xiaomi có ảnh hưởng đến người dùng đang sử dụng ứng dụng Mi Mover?\",\\n\"Xiaomi cho rằng việc xác minh mật khẩu khi chuyển dữ liệu giữa hai thiết bị là không cần thiết trong trường hợp nào?\",\\n\"Lo lắng của người dùng Xiaomi liên quan đến vấn đề gì khi sử dụng ứng dụng Mi Mover?\",\\n\"Dữ liệu nào của người dùng Xiaomi có nguy cơ bị di chuyển khi sử dụng Mi Mover?\",\\n\"Ngoài dữ liệu hệ thống, những thông tin nào khác của người dùng Xiaomi có thể bị di chuyển khi sử dụng Mi Mover?\"] \\n',\n",
       " '96da7d70': '[\"Người phụ nữ bị sát hại là ai và ở đâu?\", \"Nơi bắt giữ nghi can ?\", \"Địa điểm xảy ra vụ án mạng là gì?\", \"Nghi can sát hại người phụ nữ đó là ai?\", \"Trong trung tâm thương mại nào nghi can đã bị bắt?\"] \\n',\n",
       " '15a69e9b': '[\\n\"Ngoài Techfest Hải Phòng 2017, sự kiện nào khác thu hút đông đảo thanh niên?\",\\n\"Techfest Hải Phòng năm nào diễn ra vào ngày 8 tháng 9?\",\\n\"Có bao nhiêu doanh nghiệp khởi nghiệp tham gia Techfest Hải Phòng 2017?\",\\n\"Địa điểm tổ chức Techfest Hải Phòng 2017 là ở đâu?\",\\n\"Techfest Hải Phòng là sự kiện gì?\"\\n] \\n',\n",
       " 'd95e4565': '[\"Bạn có biết những ứng dụng nào miễn phí trên iOS vào ngày 30/7 không?\", \"Ứng dụng nào được miễn phí trên nền tảng iOS vào ngày 30/7?\", \"Có thể kể tên những ứng dụng iOS miễn phí vào ngày 30/7 được không?\", \"Vào ngày 30/7, những ứng dụng máy tính bảng nào miễn phí?\", \"Tiny Defense có phải là một trong những ứng dụng iOS miễn phí vào ngày 30/7 không?\" ] \\n',\n",
       " '29920069': '[\\n\"Cụ thể có bao nhiêu vụ va chạm xảy ra giữa tàu chiến của Hải quân Mỹ và tàu dân sự?\",\\n\"Ngoài vụ va chạm giữa USS Fitzgerald và tàu chở hàng Philippines, còn có vụ va chạm nào khác giữa tàu chiến Mỹ với tàu dân sự?\",\\n\"Bao nhiêu vụ va chạm giữa tàu chiến Nhật Bản và tàu dân sự đã được ghi nhận?\",\\n\"Tàu chiến của Nhật Bản va chạm với loại tàu dân sự nào ở biển Đảo Seto?\",\\n\"Bên cạnh vụ va chạm giữa tàu chiến Nga và tàu chở hàng Togo, còn có vụ va chạm nào khác giữa tàu chiến nước ngoài với tàu dân sự?\"\\n] \\n',\n",
       " '43d8bbc4': '[\"Những mối đe dọa nào mà Mỹ muốn chống lại bằng các vụ thử vũ khí mới?\", \"Mỹ đang phát triển chương trình phòng thủ tên lửa gì?\", \"Mục đích của Mỹ trong việc tăng khả năng đánh chặn tên lửa đối phương là gì?\", \"Các nước nào mà Mỹ muốn chống lại bằng vũ khí mới?\", \" Mỹ có sử dụng thử nghiệm vũ khí mới để tăng khả năng phòng thủ tên lửa không?\" ] \\n',\n",
       " '6b97b7d4': '[\"Cuộc đàm phán Hàn Quốc - Triều Tiên diễn ra vào ngày nào?\", \"Thông điệp chính của cuộc đàm phán?\", \"Triều Tiên dự định cử ai tham dự Thế vận hội mùa Đông?\", \"Địa điểm tổ chức Thế vận hội mùa Đông?\", \"Thời gian diễn ra Thế vận hội mùa Đông?\"] \\n',\n",
       " 'ed30bad1': '[\"Ai là người chiến thắng giải nhất tuần 3 của chương trình \"Gương mặt thân quen nhí\"?\", \\n\"Vai trò mà Thụy Bình đảm nhận trong đêm diễn tuần 3 của \"Gương mặt thân quen nhí\" là gì?\", \\n\"Ca khúc nào được biểu diễn bởi Thụy Bình trong đêm diễn tuần 3?\", \\n\"Tên nhân vật mà Thụy Bình hóa thân trong đêm diễn tuần 3 là gì?\", \\n\"Trong ca khúc nào Thụy Bình hóa thân thành Kasim Hoàng Vũ?\" ] \\n',\n",
       " 'ca29397c': '[\\n\"Nadal có khả năng bỏ giải Basel Open do chấn thương gì?\",\\n\"Trận thua Federer ở giải nào khiến Nadal có thể bỏ giải Basel Open?\",\\n\"Tại sao Nadal thường xuyên bị chấn thương đầu gối?\",\\n\"Khi nào giải Basel Open diễn ra?\",\\n\"Nadal có thể bỏ giải Basel Open vì lý do gì?\"\\n]  \\n\\n\\n',\n",
       " 'ce53bfe4': '[\"Lý do khiến Nissan phải triệu hồi 320.000 xe bán tải tại Nhật Bản?\", \"Bộ phận nào trên xe Nissan gây nguy cơ chập cháy?\", \"Nguyên nhân chập mạch trên xe Nissan là gì?\", \"Tiêu chuẩn sơn phủ nào chưa được đáp ứng?\", \"Nguy cơ gì mà Nissan phải triệu hồi xe? \"]  \\n',\n",
       " '76bd4f9b': '[\"Võ sĩ Từ Hiểu Đông có phản ứng thế nào trước lời thách đấu của Yi Long?\", \"Yếu tố nào khiến Từ Hiểu Đông xem thường Yi Long?\", \"Từ Hiểu Đông có sẵn sàng thượng đài với Yi Long?\", \"Theo Từ Hiểu Đông, Yi Long nên làm gì nếu thiếu tiền?\", \"Lời khuyên của Từ Hiểu Đông dành cho Yi Long là gì?\"] \\n\\n\\n\\n \\n'}"
      ]
     },
     "execution_count": 44,
     "metadata": {},
     "output_type": "execute_result"
    }
   ],
   "source": [
    "test"
   ]
  },
  {
   "cell_type": "code",
   "execution_count": 45,
   "id": "d714e3e6-9523-4d5b-bbc1-daa2c37041d5",
   "metadata": {
    "scrolled": true
   },
   "outputs": [
    {
     "name": "stderr",
     "output_type": "stream",
     "text": [
      "100%|██████████████████████████████████████████████████████████████████████████████████████████████████████████████████████████████████████████████████████████████| 30/30 [00:02<00:00, 10.34it/s]\n"
     ]
    }
   ],
   "source": [
    "results = {}\n",
    "# Use map_progress to process documents\n",
    "processed_results = map_progress(pool, documents1[30*2:30*3], process_document)\n",
    "\n",
    "# Store the results\n",
    "for result in processed_results:\n",
    "    if result is not None:\n",
    "        doc_id, questions = result\n",
    "        results[doc_id] = questions"
   ]
  },
  {
   "cell_type": "code",
   "execution_count": 50,
   "id": "31b041c1-ee55-41ed-a184-8fc07733dafb",
   "metadata": {},
   "outputs": [
    {
     "data": {
      "text/plain": [
       "30"
      ]
     },
     "execution_count": 50,
     "metadata": {},
     "output_type": "execute_result"
    }
   ],
   "source": [
    "len(results)"
   ]
  },
  {
   "cell_type": "code",
   "execution_count": 51,
   "id": "7a1011b8-9b7d-409d-ae7f-d48ef9c1ada4",
   "metadata": {},
   "outputs": [],
   "source": [
    "with open('../data/vietnamese_rag/ground_truth_data/ground_truth3.pkl', 'wb') as file:\n",
    "    pickle.dump(results, file)"
   ]
  },
  {
   "cell_type": "code",
   "execution_count": 10,
   "id": "c2a14cf1-9e4d-45f5-9944-ed5b5d5fc015",
   "metadata": {},
   "outputs": [
    {
     "name": "stderr",
     "output_type": "stream",
     "text": [
      "100%|███████████████████████████████████████████████████| 30/30 [00:38<00:00,  1.29s/it]\n",
      " 40%|████████████████████▍                              | 12/30 [00:12<00:27,  1.53s/it]"
     ]
    }
   ],
   "source": [
    "results = {}\n",
    "# Use map_progress to process documents\n",
    "processed_results = map_progress(pool, documents1[30*3:30*4], process_document)\n",
    "\n",
    "# Store the results\n",
    "for result in processed_results:\n",
    "    if result is not None:\n",
    "        doc_id, questions = result\n",
    "        results[doc_id] = questions"
   ]
  },
  {
   "cell_type": "code",
   "execution_count": 11,
   "id": "73d7dede-4247-4ab8-bda4-1cf0b4302b09",
   "metadata": {},
   "outputs": [],
   "source": [
    "with open('../data/vietnamese_rag/ground_truth_data/ground_truth4.pkl', 'wb') as file:\n",
    "    pickle.dump(results, file)"
   ]
  },
  {
   "cell_type": "code",
   "execution_count": 10,
   "id": "623e0abf-489a-42ed-bcd3-bdb33abc4905",
   "metadata": {},
   "outputs": [
    {
     "name": "stderr",
     "output_type": "stream",
     "text": [
      "100%|███████████████████████████████████████████████████| 30/30 [00:50<00:00,  1.68s/it]\n",
      "100%|█████████████████████████| 30/30 [00:13<00:00,  2.42it/s]"
     ]
    }
   ],
   "source": [
    "results = {}\n",
    "# Use map_progress to process documents\n",
    "processed_results = map_progress(pool, documents1[30*4:30*5], process_document)\n",
    "\n",
    "# Store the results\n",
    "for result in processed_results:\n",
    "    if result is not None:\n",
    "        doc_id, questions = result\n",
    "        results[doc_id] = questions\n",
    "with open('../data/vietnamese_rag/ground_truth_data/ground_truth5.pkl', 'wb') as file:\n",
    "    pickle.dump(results, file)"
   ]
  },
  {
   "cell_type": "code",
   "execution_count": 11,
   "id": "e3e7f02e-17d7-4da8-a794-96fd8ae54e85",
   "metadata": {},
   "outputs": [
    {
     "name": "stderr",
     "output_type": "stream",
     "text": [
      "100%|█████████████████████████| 30/30 [00:13<00:00,  2.16it/s]\n"
     ]
    }
   ],
   "source": [
    "results = {}\n",
    "# Use map_progress to process documents\n",
    "processed_results = map_progress(pool, documents1[30*5:30*6], process_document)\n",
    "\n",
    "# Store the results\n",
    "for result in processed_results:\n",
    "    if result is not None:\n",
    "        doc_id, questions = result\n",
    "        results[doc_id] = questions\n",
    "with open('../data/vietnamese_rag/ground_truth_data/ground_truth6.pkl', 'wb') as file:\n",
    "    pickle.dump(results, file)"
   ]
  },
  {
   "cell_type": "code",
   "execution_count": null,
   "id": "4d4e70b8-b2c9-401d-b8d9-7372c458d235",
   "metadata": {},
   "outputs": [],
   "source": [
    "results = {}\n",
    "# Use map_progress to process documents\n",
    "processed_results = map_progress(pool, documents1[30*6:30*7], process_document)\n",
    "\n",
    "# Store the results\n",
    "for result in processed_results:\n",
    "    if result is not None:\n",
    "        doc_id, questions = result\n",
    "        results[doc_id] = questions\n",
    "with open('../data/vietnamese_rag/ground_truth_data/ground_truth7.pkl', 'wb') as file:\n",
    "    pickle.dump(results, file)"
   ]
  }
 ],
 "metadata": {
  "kernelspec": {
   "display_name": "Python 3 (ipykernel)",
   "language": "python",
   "name": "python3"
  },
  "language_info": {
   "codemirror_mode": {
    "name": "ipython",
    "version": 3
   },
   "file_extension": ".py",
   "mimetype": "text/x-python",
   "name": "python",
   "nbconvert_exporter": "python",
   "pygments_lexer": "ipython3",
   "version": "3.10.13"
  }
 },
 "nbformat": 4,
 "nbformat_minor": 5
}
