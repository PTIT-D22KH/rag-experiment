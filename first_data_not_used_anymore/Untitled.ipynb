{
 "cells": [
  {
   "cell_type": "code",
   "execution_count": 17,
   "id": "99439a5d-ad92-4e77-b35c-7d7daada8d0e",
   "metadata": {},
   "outputs": [],
   "source": [
    "import requests\n",
    "import json\n",
    "import pickle\n",
    "import pandas as pd"
   ]
  },
  {
   "cell_type": "code",
   "execution_count": 8,
   "id": "8bd861e0-eeef-43db-8efc-cd733cb212ef",
   "metadata": {},
   "outputs": [],
   "source": [
    "docs_response = requests.get(\"https://github.com/PTIT-D22KH/rag-experiment/blob/main/data/vietnamese_rag/documents-with-ids1.json?raw=1\")"
   ]
  },
  {
   "cell_type": "code",
   "execution_count": 9,
   "id": "33990ce2-6a91-45ae-ab3d-9c2d321c24ed",
   "metadata": {},
   "outputs": [],
   "source": [
    "documents = docs_response.json()"
   ]
  },
  {
   "cell_type": "code",
   "execution_count": 15,
   "id": "ee498d3e-8cb2-4a29-95b3-d6dd0ffcf43c",
   "metadata": {},
   "outputs": [
    {
     "data": {
      "text/plain": [
       "'Minh Tú đã đạt được thành tích gì trong chương trình Asia’ Next Top Model mùa thứ 5?'"
      ]
     },
     "execution_count": 15,
     "metadata": {},
     "output_type": "execute_result"
    }
   ],
   "source": [
    "documents[0]['question']"
   ]
  },
  {
   "cell_type": "code",
   "execution_count": 6,
   "id": "aab59582-ef5b-4c41-99ae-293bbae8ecb3",
   "metadata": {},
   "outputs": [],
   "source": [
    "with open('../data/vietnamese_rag/documents-with-ids1.json', 'rt') as f_in:\n",
    "    documents1 = json.load(f_in)"
   ]
  },
  {
   "cell_type": "code",
   "execution_count": 16,
   "id": "061f0c72-9806-467d-a5bb-74ea395d3f89",
   "metadata": {},
   "outputs": [
    {
     "data": {
      "text/plain": [
       "'Minh Tú đã vượt qua sự sợ hãi để hoàn thành tốt phần thử thách đi catwalk khi bị treo lơ lửng trên một tòa nhà cao tầng và đạt vị trí thứ 2 trong đêm chung kết của chương trình.'"
      ]
     },
     "execution_count": 16,
     "metadata": {},
     "output_type": "execute_result"
    }
   ],
   "source": [
    "documents1[0]['answer']"
   ]
  },
  {
   "cell_type": "code",
   "execution_count": 13,
   "id": "9a538f6f-1ec2-410b-93cf-494eb92c2f10",
   "metadata": {},
   "outputs": [
    {
     "name": "stdout",
     "output_type": "stream",
     "text": [
      "Request successful\n"
     ]
    },
    {
     "ename": "UnpicklingError",
     "evalue": "invalid load key, '\\x0a'.",
     "output_type": "error",
     "traceback": [
      "\u001b[0;31m---------------------------------------------------------------------------\u001b[0m",
      "\u001b[0;31mUnpicklingError\u001b[0m                           Traceback (most recent call last)",
      "Cell \u001b[0;32mIn[13], line 6\u001b[0m\n\u001b[1;32m      3\u001b[0m \u001b[38;5;28mprint\u001b[39m(\u001b[38;5;124m\"\u001b[39m\u001b[38;5;124mRequest successful\u001b[39m\u001b[38;5;124m\"\u001b[39m)\n\u001b[1;32m      5\u001b[0m \u001b[38;5;66;03m# Loading the pickle data from the response content\u001b[39;00m\n\u001b[0;32m----> 6\u001b[0m data \u001b[38;5;241m=\u001b[39m \u001b[43mpickle\u001b[49m\u001b[38;5;241;43m.\u001b[39;49m\u001b[43mloads\u001b[49m\u001b[43m(\u001b[49m\u001b[43mresponse\u001b[49m\u001b[38;5;241;43m.\u001b[39;49m\u001b[43mcontent\u001b[49m\u001b[43m)\u001b[49m\n\u001b[1;32m      7\u001b[0m \u001b[38;5;28mprint\u001b[39m(\u001b[38;5;124m\"\u001b[39m\u001b[38;5;124mPickle file loaded successfully\u001b[39m\u001b[38;5;124m\"\u001b[39m)\n\u001b[1;32m      8\u001b[0m \u001b[38;5;28mprint\u001b[39m(data)\n",
      "\u001b[0;31mUnpicklingError\u001b[0m: invalid load key, '\\x0a'."
     ]
    }
   ],
   "source": [
    "response = requests.get(\"https://github.com/PTIT-D22KH/rag-experiment/blob/main/data/vietnamese_rag/question_context_answer_vector_pickle/question_context_answer_vector1.pkl\")\n",
    "if response.status_code == 200:\n",
    "    print(\"Request successful\")\n",
    "\n",
    "    # Loading the pickle data from the response content\n",
    "    data = pickle.loads(response.content)\n",
    "    print(\"Pickle file loaded successfully\")\n",
    "    print(data)\n",
    "else:\n",
    "    print(f\"Request failed with status code {response.status_code}\")"
   ]
  },
  {
   "cell_type": "code",
   "execution_count": 19,
   "id": "49d584f2-ff44-40a2-b451-50a45033a58c",
   "metadata": {},
   "outputs": [],
   "source": [
    "response = requests.get(\"https://github.com/PTIT-D22KH/rag-experiment/blob/main/data/vietnamese_rag/ground_truth_data/ground_truth_data.csv?raw=1\")\n"
   ]
  },
  {
   "cell_type": "code",
   "execution_count": 23,
   "id": "1e3e7667-c2ae-4b80-8282-ca4cbebc66cf",
   "metadata": {},
   "outputs": [],
   "source": [
    "df = pd.read_csv(\"https://github.com/PTIT-D22KH/rag-experiment/blob/main/data/vietnamese_rag/ground_truth_data/ground_truth_data.csv?raw=1\")"
   ]
  },
  {
   "cell_type": "code",
   "execution_count": 24,
   "id": "ea25d03d-d88c-48f1-a2f3-aeb3686a9fab",
   "metadata": {},
   "outputs": [
    {
     "data": {
      "text/html": [
       "<div>\n",
       "<style scoped>\n",
       "    .dataframe tbody tr th:only-of-type {\n",
       "        vertical-align: middle;\n",
       "    }\n",
       "\n",
       "    .dataframe tbody tr th {\n",
       "        vertical-align: top;\n",
       "    }\n",
       "\n",
       "    .dataframe thead th {\n",
       "        text-align: right;\n",
       "    }\n",
       "</style>\n",
       "<table border=\"1\" class=\"dataframe\">\n",
       "  <thead>\n",
       "    <tr style=\"text-align: right;\">\n",
       "      <th></th>\n",
       "      <th>question</th>\n",
       "      <th>Group</th>\n",
       "      <th>document</th>\n",
       "    </tr>\n",
       "  </thead>\n",
       "  <tbody>\n",
       "    <tr>\n",
       "      <th>0</th>\n",
       "      <td>Minh Tú đã gặp khó khăn gì trong thử thách đi ...</td>\n",
       "      <td>General</td>\n",
       "      <td>75fafd29</td>\n",
       "    </tr>\n",
       "    <tr>\n",
       "      <th>1</th>\n",
       "      <td>Điểm đến nào là thử thách khó khăn nhất đối vớ...</td>\n",
       "      <td>General</td>\n",
       "      <td>75fafd29</td>\n",
       "    </tr>\n",
       "    <tr>\n",
       "      <th>2</th>\n",
       "      <td>Vị trí của Minh Tú trong đêm chung kết Asia's ...</td>\n",
       "      <td>General</td>\n",
       "      <td>75fafd29</td>\n",
       "    </tr>\n",
       "    <tr>\n",
       "      <th>3</th>\n",
       "      <td>Minh Tú đã thể hiện kỹ năng gì khi thực hiện t...</td>\n",
       "      <td>General</td>\n",
       "      <td>75fafd29</td>\n",
       "    </tr>\n",
       "    <tr>\n",
       "      <th>4</th>\n",
       "      <td>Những thử thách nào đã giúp Minh Tú gặt hái th...</td>\n",
       "      <td>General</td>\n",
       "      <td>75fafd29</td>\n",
       "    </tr>\n",
       "    <tr>\n",
       "      <th>...</th>\n",
       "      <td>...</td>\n",
       "      <td>...</td>\n",
       "      <td>...</td>\n",
       "    </tr>\n",
       "    <tr>\n",
       "      <th>29198</th>\n",
       "      <td>Các trung tâm cai nghiện rượu hiện nay cung cấ...</td>\n",
       "      <td>Expert</td>\n",
       "      <td>7d3646ff</td>\n",
       "    </tr>\n",
       "    <tr>\n",
       "      <th>29199</th>\n",
       "      <td>Kỹ thuật thay đổi hành vi trong việc cai nghiệ...</td>\n",
       "      <td>Expert</td>\n",
       "      <td>7d3646ff</td>\n",
       "    </tr>\n",
       "    <tr>\n",
       "      <th>29200</th>\n",
       "      <td>Công nghệ cảm biến rượu có tác dụng gì trong đ...</td>\n",
       "      <td>Expert</td>\n",
       "      <td>7d3646ff</td>\n",
       "    </tr>\n",
       "    <tr>\n",
       "      <th>29201</th>\n",
       "      <td>Những hiểu biết mới về chuyển hóa rượu có thể ...</td>\n",
       "      <td>Expert</td>\n",
       "      <td>7d3646ff</td>\n",
       "    </tr>\n",
       "    <tr>\n",
       "      <th>29202</th>\n",
       "      <td>Triệu chứng cai nghiện rượu có thể được ngăn n...</td>\n",
       "      <td>Expert</td>\n",
       "      <td>7d3646ff</td>\n",
       "    </tr>\n",
       "  </tbody>\n",
       "</table>\n",
       "<p>29203 rows × 3 columns</p>\n",
       "</div>"
      ],
      "text/plain": [
       "                                                question    Group  document\n",
       "0      Minh Tú đã gặp khó khăn gì trong thử thách đi ...  General  75fafd29\n",
       "1      Điểm đến nào là thử thách khó khăn nhất đối vớ...  General  75fafd29\n",
       "2      Vị trí của Minh Tú trong đêm chung kết Asia's ...  General  75fafd29\n",
       "3      Minh Tú đã thể hiện kỹ năng gì khi thực hiện t...  General  75fafd29\n",
       "4      Những thử thách nào đã giúp Minh Tú gặt hái th...  General  75fafd29\n",
       "...                                                  ...      ...       ...\n",
       "29198  Các trung tâm cai nghiện rượu hiện nay cung cấ...   Expert  7d3646ff\n",
       "29199  Kỹ thuật thay đổi hành vi trong việc cai nghiệ...   Expert  7d3646ff\n",
       "29200  Công nghệ cảm biến rượu có tác dụng gì trong đ...   Expert  7d3646ff\n",
       "29201  Những hiểu biết mới về chuyển hóa rượu có thể ...   Expert  7d3646ff\n",
       "29202  Triệu chứng cai nghiện rượu có thể được ngăn n...   Expert  7d3646ff\n",
       "\n",
       "[29203 rows x 3 columns]"
      ]
     },
     "execution_count": 24,
     "metadata": {},
     "output_type": "execute_result"
    }
   ],
   "source": [
    "df"
   ]
  },
  {
   "cell_type": "code",
   "execution_count": null,
   "id": "6b93062e-c627-486c-a4bd-3b6a0b40bbaf",
   "metadata": {},
   "outputs": [],
   "source": []
  }
 ],
 "metadata": {
  "kernelspec": {
   "display_name": "Python 3 (ipykernel)",
   "language": "python",
   "name": "python3"
  },
  "language_info": {
   "codemirror_mode": {
    "name": "ipython",
    "version": 3
   },
   "file_extension": ".py",
   "mimetype": "text/x-python",
   "name": "python",
   "nbconvert_exporter": "python",
   "pygments_lexer": "ipython3",
   "version": "3.10.13"
  }
 },
 "nbformat": 4,
 "nbformat_minor": 5
}
