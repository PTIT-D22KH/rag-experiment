{
 "cells": [
  {
   "cell_type": "code",
   "execution_count": 1,
   "id": "0cbd7c2f-9b31-4918-aedd-2abe778703fa",
   "metadata": {},
   "outputs": [],
   "source": [
    "import json"
   ]
  },
  {
   "cell_type": "code",
   "execution_count": 2,
   "id": "6e5b681a-fd11-4159-bb5c-9b5146f3a15a",
   "metadata": {},
   "outputs": [
    {
     "name": "stderr",
     "output_type": "stream",
     "text": [
      "/home/codespace/.local/lib/python3.10/site-packages/tqdm/auto.py:21: TqdmWarning: IProgress not found. Please update jupyter and ipywidgets. See https://ipywidgets.readthedocs.io/en/stable/user_install.html\n",
      "  from .autonotebook import tqdm as notebook_tqdm\n",
      "Downloading readme: 100%|███████████████████████████████████████████████████████████████████████████████████████| 5.15k/5.15k [00:00<00:00, 10.5MB/s]\n",
      "Downloading data: 100%|█████████████████████████████████████████████████████████████████████████████████████████| 2.32M/2.32M [00:00<00:00, 5.44MB/s]\n",
      "Downloading data: 100%|███████████████████████████████████████████████████████████████████████████████████████████| 604k/604k [00:00<00:00, 1.64MB/s]\n",
      "Generating train split: 100%|████████████████████████████████████████████████████████████████████████████| 960/960 [00:00<00:00, 27989.04 examples/s]\n",
      "Generating test split: 100%|█████████████████████████████████████████████████████████████████████████████| 240/240 [00:00<00:00, 30899.16 examples/s]\n"
     ]
    }
   ],
   "source": [
    "from datasets import load_dataset\n",
    "rag_dataset = load_dataset(\"neural-bridge/rag-dataset-1200\")"
   ]
  },
  {
   "cell_type": "code",
   "execution_count": 3,
   "id": "124da9f7-9739-4146-af8d-b52328e03b3c",
   "metadata": {},
   "outputs": [
    {
     "data": {
      "text/plain": [
       "datasets.dataset_dict.DatasetDict"
      ]
     },
     "execution_count": 3,
     "metadata": {},
     "output_type": "execute_result"
    }
   ],
   "source": [
    "type(rag_dataset)"
   ]
  },
  {
   "cell_type": "code",
   "execution_count": 4,
   "id": "3b9465fb-e492-4b4f-a9d5-b1f43e8e17bc",
   "metadata": {},
   "outputs": [
    {
     "data": {
      "text/plain": [
       "Dataset({\n",
       "    features: ['context', 'question', 'answer'],\n",
       "    num_rows: 960\n",
       "})"
      ]
     },
     "execution_count": 4,
     "metadata": {},
     "output_type": "execute_result"
    }
   ],
   "source": [
    "rag_dataset['train']"
   ]
  },
  {
   "cell_type": "code",
   "execution_count": 5,
   "id": "a39b5de3-f8a6-4feb-af5b-524239f8705c",
   "metadata": {},
   "outputs": [
    {
     "data": {
      "text/plain": [
       "'What are some of the potential negative impacts of charity as discussed in the context?'"
      ]
     },
     "execution_count": 5,
     "metadata": {},
     "output_type": "execute_result"
    }
   ],
   "source": [
    "rag_dataset['train'][1]['question']"
   ]
  },
  {
   "cell_type": "code",
   "execution_count": 6,
   "id": "3f1856e3-4362-4208-8e0b-0186f3864921",
   "metadata": {},
   "outputs": [
    {
     "data": {
      "text/plain": [
       "'The context discusses that charity can sometimes exacerbate problems rather than solve them. It can delay permanent infrastructure and job development, and in some cases, it can lead to mismanagement of funds. The context also mentions the situation in Haiti where an influx of donated rice and solar panels disrupted local businesses, making the local economy dependent on foreign aid. This is described as unsustainable and unethical. Furthermore, charity can also allow companies to overlook problems in their supply chain or company culture, as they can claim responsibility through their charitable actions.'"
      ]
     },
     "execution_count": 6,
     "metadata": {},
     "output_type": "execute_result"
    }
   ],
   "source": [
    "rag_dataset['train'][1]['answer']"
   ]
  },
  {
   "cell_type": "code",
   "execution_count": 7,
   "id": "a0c9fa62-03dd-4c40-b136-9a496f60c191",
   "metadata": {},
   "outputs": [
    {
     "data": {
      "text/plain": [
       "['A few nights ago, my husband and I were watching an episode of Dragon\\'s Den, the Canadian version of Shark Tank, and a \"social good\" company was pitching their Haitian recycling program. It was a bad business concept poorly executed, but it didn\\'t justify one of the Dragons\\' responses, paraphrased below:',\n",
       " \"You're going about this the wrong way! You don't create a social good business before you become profitable. You become profitable by whatever means necessary, and then you give back! That's how business works.\",\n",
       " 'Now, I\\'ll concede that there\\'s something to the idea that a business needs to be successful in order for a positive end to be achieved. But her response is not an unusual one in the business community, and more often than not, the American Sharks who invest in social enterprises also buy this \"the ends justifies the means\" argument. Put another way, business people as a rule - and no thanks to Capitalism - prioritize profit over social good. If some money can be thrown at a few noble causes at the end of the line, that\\'s great. But do what you have to do to thrive, even if that means exploitation.',\n",
       " 'In an apparent attempt to combat that mindset, there are now hundreds of startup brands on the \"ethical\" market that use buzzwords like social enterprise, one-for-one, and give-back to describe themselves. One would presume by the marketing that being charitable makes a company ethical, and I\\'ve seen many ethical bloggers and influencers tout these brands as such, even when there\\'s very little data on their supply chain. But it begs the question: can a company really be ethical if workers are not provided a living wage, if they\\'re not working in a safe environment, and if no attention is paid to the sustainability of raw materials?',\n",
       " 'While give-back brands market themselves around the social good, how much good are they actually achieving? And is it enough?',\n",
       " \"Charitable small businesses believe that they are doing something different by placing a cause front and center in their marketing. But, on a practical level, if their supply chain isn't in order, they may not be doing much more than a conventional business. They may be even worse.\",\n",
       " 'After all, those big, nasty corporations their marketing subtly critiques do the same thing.',\n",
       " \"Large corporations have a history of giving back. GE matches employees' charitable giving, Johnson & Johnson recently pledged 1 million dollars towards improving air quality around the world, and, since 2006, the BP Foundation has donated more than 218 million dollars to community initiatives around the country. Even Walmart, through its Foundation, awards grants and scholarships, and donates money in $200,000 lump sums to all sorts of relief efforts and deserving programs.\",\n",
       " \"Being charitable is not a new angle. You could probably make the case that it's actually an engrained component of American enterprise, as fundamental as having a business plan. Americans really love charitable giving. In fact, in 2015 alone individual citizens and American businesses gave $373.25 billion dollars to charity.\",\n",
       " \"You can look at this from a couple of perspectives. On the one hand, it's really nice to know that these hugely profitable enterprises are designating at least some of their profits to charitable giving. It's certainly better than nothing, and for the recipients of these pledges, scholarships, and funds, it can be life changing.\",\n",
       " \"But it also makes it awfully convenient for these companies to never address problems in their supply chain - or even company culture within corporate offices - because as long as they claim they're being responsible, they can practically get away with murder (but, more realistically, with gross negligence when it comes to their most vulnerable workers).\",\n",
       " 'So, when a nicely branded \"social enterprise\" tells me they give back, I have questions.',\n",
       " \"Where are your raw materials sourced? Who makes your product? Where? What's the wage? Have you visited your supplier? How did you choose your supplier, and why?\",\n",
       " \"If they can't answer these questions with relative ease, something's wrong.\",\n",
       " \"It's not that charity is bad. Charity is very good, and comes from good human emotions like empathy, love, and maybe a bit of guilt. Charity is what's needed in times of crisis - in famine, tsunami, and war.\",\n",
       " 'But charity is also a bandaid placed on broken systems.',\n",
       " 'Charities, by their nature, go where there is trouble. Uprising, corruption, colonialism, exploitation, bigotry, terror. No amount of external aid, even if given in love and good faith, can correct underlying systemic issues. Sometimes, charity makes things worse.',\n",
       " 'The documentary, Poverty Inc., explores the ways in which charity has become big business, delaying permanent infrastructure and job development. In Haiti, NGOs are often so poorly managed that money simply vanishes, given to inefficient subcontractors or wasted on lavish homes.',\n",
       " \"After an earthquake devastated Haiti in 2010, Americans donated tens of millions of dollars to relief efforts. Haitian communities were inundated with donated rice, forcing local rice farmers to compete with free product, running many of them out of business. Meanwhile, an onslaught of solar panel donations threatened local alternative energy businesses. Even if individuals were helped in the short term, the local economy was now dependent on foreign aid to keep it afloat. Not only is this unsustainable, it's unethical.\",\n",
       " 'Change happens when marginalized communities are empowered to transform systems of oppression into systems of flourishing.',\n",
       " 'Social good brands must realize that there are limits to charity, and that building a charitable business model without attention to the ethics of their supply chain or the long term efficacy of the nonprofits they support is both irresponsible and dangerous.',\n",
       " 'The best possible world is one in which charity no longer needs to exist because people are able to provide for their families and their communities. It is a place where individuals are valued and not exploited. Where the root causes of injustice are addressed before they can spiral out of control.',\n",
       " \"Charity is only good now because it is necessary. But the world we should be working toward is one where people are far too important to ever be turned into charity cases, where we don't get to feel good about giving.\",\n",
       " \"Where we get to claim that we're good only when we know that everyone is being treated as the sacred beings they are.\",\n",
       " 'In the words of John Wesley:',\n",
       " 'Do all the good you can. By all the means you can. In all the ways you can. In all the places you can. At all the times you can. To all the people you can. As long as ever you can.',\n",
       " \"So, businesses, by all means give to charity. But take it a step further by seriously scrutinizing your supply chain for the slightest sign of injustice and exploitation. Care about company culture. Care about the environment. Vet the charities you support. Treat others the way you'd like to be treated.\",\n",
       " 'I originally covered this topic on my post on One-for-Ones. I\\'m hoping to do another post distinguishing between charity as a virtue versus \"charity, inc.\" soon.']"
      ]
     },
     "execution_count": 7,
     "metadata": {},
     "output_type": "execute_result"
    }
   ],
   "source": [
    "rag_dataset['train'][1]['context'].split(\"\\n\")"
   ]
  },
  {
   "cell_type": "code",
   "execution_count": 8,
   "id": "f6861b6f-0e16-4ebf-90b8-35b431a14013",
   "metadata": {},
   "outputs": [],
   "source": [
    "instances_list = []\n",
    "\n",
    "# Iterate over each instance in the 'train' split\n",
    "for instance in rag_dataset['train']:\n",
    "    # Create a dictionary for the current instance and append it to the list\n",
    "    instances_list.append({\n",
    "        \"context\": instance[\"context\"],\n",
    "        \"question\": instance[\"question\"],\n",
    "        \"answer\": instance[\"answer\"]\n",
    "    })\n",
    "\n",
    "# Save the list of instances to a JSON file\n",
    "with open('../data/documents.json', 'w', encoding='utf-8') as f:\n",
    "    json.dump(instances_list, f, ensure_ascii=False, indent=4)"
   ]
  },
  {
   "cell_type": "code",
   "execution_count": null,
   "id": "a9c4ec75-b1ba-4eba-ba54-e1c0e8653d6f",
   "metadata": {},
   "outputs": [],
   "source": []
  }
 ],
 "metadata": {
  "kernelspec": {
   "display_name": "Python 3 (ipykernel)",
   "language": "python",
   "name": "python3"
  },
  "language_info": {
   "codemirror_mode": {
    "name": "ipython",
    "version": 3
   },
   "file_extension": ".py",
   "mimetype": "text/x-python",
   "name": "python",
   "nbconvert_exporter": "python",
   "pygments_lexer": "ipython3",
   "version": "3.10.13"
  }
 },
 "nbformat": 4,
 "nbformat_minor": 5
}
