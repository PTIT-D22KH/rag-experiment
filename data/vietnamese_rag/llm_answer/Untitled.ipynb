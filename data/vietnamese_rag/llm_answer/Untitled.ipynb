{
 "cells": [
  {
   "cell_type": "code",
   "execution_count": 1,
   "id": "a56dd569-3846-45ab-860f-5fd4da9b1060",
   "metadata": {},
   "outputs": [
    {
     "name": "stderr",
     "output_type": "stream",
     "text": [
      "/home/codespace/.local/lib/python3.10/site-packages/tqdm/auto.py:21: TqdmWarning: IProgress not found. Please update jupyter and ipywidgets. See https://ipywidgets.readthedocs.io/en/stable/user_install.html\n",
      "  from .autonotebook import tqdm as notebook_tqdm\n"
     ]
    }
   ],
   "source": [
    "import json\n",
    "from openai import OpenAI\n",
    "from groq import Groq\n",
    "import os\n",
    "from sentence_transformers import SentenceTransformer\n",
    "from tqdm.auto import tqdm\n",
    "import pickle\n",
    "from elasticsearch import Elasticsearch\n",
    "import pandas as pd\n",
    "import requests\n",
    "import numpy as np\n",
    "from concurrent.futures import ThreadPoolExecutor\n",
    "from requests.exceptions import HTTPError\n",
    "\n",
    "import time"
   ]
  },
  {
   "cell_type": "code",
   "execution_count": 26,
   "id": "9330bd53-7044-4c57-9458-a664c753055e",
   "metadata": {},
   "outputs": [
    {
     "name": "stdout",
     "output_type": "stream",
     "text": [
      "{'answer_llm': 'Tại Guinea, Mỹ không cấp thị thực du lịch, công tác lẫn học tập cho các quan chức chính phủ và người thân đi cùng họ.\\n', 'answer_orig': 'Mỹ tạm ngưng cấp một số loại visa cho những trường hợp cụ thể ở các nước trên do các nước đó từ chối nhận lại những công dân bị Mỹ trục xuất. Eritrea là nước bị “chế tài” nặng nhất, mọi công dân Eritrea nộp đơn xin thị thực du lịch hoặc công tác sẽ bị bác bỏ. Ở Guinea, Mỹ không còn cấp thị thực du lịch, công tác lẫn học tập cho các quan chức chính phủ cùng người thân đi cùng. Ở Campuchia, Mỹ tạm dừng cấp thị thực công tác, du lịch đối với các quan chức cấp cao của Bộ Ngoại giao Campuchia và các thành viên gia đình họ. Đối với Sierra Leone, chỉ các quan chức di trú và ngoại giao sẽ bị từ chối thị thực du lịch và công tác. Lệnh cấm cấp thị thực này sẽ được dỡ bỏ nếu bốn quốc gia trên nhận lại những công dân bị trục xuất. Hiện tại, chính quyền Mỹ cần trục xuất khoảng 2.137 người Guinea, 831 người Sierra Leone, 700 người Eritrea và 1.900 người Campuchia, trong đó có nhiều người bị cáo buộc phạm tội nghiêm trọng.', 'document': '9c82b1be', 'question': 'Những loại visa nào bị Mỹ tạm ngưng cấp cho công dân Guinea?', 'group': 'General'}\n"
     ]
    }
   ],
   "source": [
    "with open('llm_answer45.pkl', 'rb') as file:\n",
    "        print(pickle.load(file)[-2])"
   ]
  },
  {
   "cell_type": "code",
   "execution_count": 25,
   "id": "1790bdff-4332-49fc-a1d6-9fd230320ec4",
   "metadata": {},
   "outputs": [
    {
     "name": "stdout",
     "output_type": "stream",
     "text": [
      "329 0 15\n",
      "330 15 30\n",
      "331 30 45\n",
      "332 45 60\n",
      "333 60 75\n",
      "334 75 90\n",
      "335 90 105\n",
      "336 105 120\n",
      "337 120 135\n",
      "338 135 150\n",
      "339 150 165\n",
      "340 165 180\n",
      "341 180 195\n",
      "342 195 210\n",
      "343 210 225\n",
      "344 225 240\n",
      "345 240 255\n",
      "346 255 270\n",
      "347 270 285\n",
      "348 285 300\n",
      "349 300 315\n",
      "350 315 330\n",
      "351 330 345\n",
      "352 345 360\n",
      "353 360 375\n",
      "354 375 390\n",
      "355 390 405\n",
      "356 405 420\n",
      "357 420 435\n",
      "358 435 450\n",
      "359 450 465\n",
      "360 465 480\n",
      "361 480 495\n",
      "362 495 510\n",
      "363 510 525\n",
      "364 525 540\n",
      "365 540 555\n",
      "366 555 570\n",
      "367 570 585\n",
      "368 585 600\n",
      "369 600 615\n",
      "370 615 630\n",
      "371 630 645\n",
      "372 645 660\n",
      "373 660 675\n",
      "374 675 690\n",
      "375 690 705\n",
      "376 705 720\n",
      "377 720 735\n",
      "378 735 750\n",
      "379 750 765\n",
      "380 765 780\n",
      "381 780 795\n",
      "382 795 810\n",
      "383 810 825\n",
      "384 825 840\n",
      "385 840 855\n",
      "386 855 870\n",
      "387 870 885\n",
      "388 885 900\n",
      "389 900 915\n",
      "390 915 930\n",
      "391 930 945\n",
      "392 945 960\n",
      "393 960 975\n",
      "394 975 990\n",
      "395 990 1005\n",
      "396 1005 1020\n",
      "397 1020 1035\n",
      "398 1035 1050\n",
      "399 1050 1065\n",
      "400 1065 1080\n",
      "401 1080 1095\n",
      "402 1095 1110\n",
      "403 1110 1125\n",
      "404 1125 1140\n",
      "405 1140 1155\n",
      "406 1155 1170\n",
      "407 1170 1185\n",
      "408 1185 1200\n",
      "409 1200 1215\n"
     ]
    }
   ],
   "source": [
    "chunk_size = 15\n",
    "start_chunk = 0 # Starting chunk index\n",
    "end_chunk = (1221 // chunk_size)   # Ending chunk index\n",
    "# print(end_chunk)\n",
    "for i in range(start_chunk, end_chunk):\n",
    "    results = []\n",
    "    chunk_start = i * chunk_size\n",
    "    chunk_end = chunk_start + chunk_size\n",
    "    \n",
    "    print(i + 329, chunk_start, chunk_end)\n",
    "    # chunk = documents_current[chunk_start:chunk_end]\n",
    "\n",
    "    # # Use map_progress to process documents\n",
    "    # processed_results = map_progress(pool, chunk, process_record)\n",
    "    # results.extend(processed_results)\n",
    "    # # # Store the results incrementally\n",
    "    # # for result in processed_results:\n",
    "    # #     if result is not None:\n",
    "    # #         doc_id, questions = result\n",
    "    # #         results[doc_id] = questions\n",
    "\n",
    "    # # Save the results to a file\n",
    "    # file_name = f'../data/vietnamese_rag/llm_answer/llm_answer{i + 1}.pkl'\n",
    "    # with open(file_name, 'wb') as file:\n",
    "    #     pickle.dump(results, file)\n",
    "\n",
    "    # # Print out the results\n",
    "    # print(f\"Chunk {i} processed and saved to {file_name}\")\n",
    "    # # print(results)\n",
    "\n",
    "    # # Wait for 1 minute to reset rate limit\n",
    "    # time.sleep(20)"
   ]
  },
  {
   "cell_type": "code",
   "execution_count": null,
   "id": "232f7858-4435-44dd-ad10-3157a6239ad2",
   "metadata": {},
   "outputs": [],
   "source": []
  }
 ],
 "metadata": {
  "kernelspec": {
   "display_name": "Python 3 (ipykernel)",
   "language": "python",
   "name": "python3"
  },
  "language_info": {
   "codemirror_mode": {
    "name": "ipython",
    "version": 3
   },
   "file_extension": ".py",
   "mimetype": "text/x-python",
   "name": "python",
   "nbconvert_exporter": "python",
   "pygments_lexer": "ipython3",
   "version": "3.10.13"
  }
 },
 "nbformat": 4,
 "nbformat_minor": 5
}
