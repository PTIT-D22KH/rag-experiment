{
 "cells": [
  {
   "cell_type": "code",
   "execution_count": 1,
   "id": "a56dd569-3846-45ab-860f-5fd4da9b1060",
   "metadata": {},
   "outputs": [
    {
     "name": "stderr",
     "output_type": "stream",
     "text": [
      "/home/codespace/.local/lib/python3.10/site-packages/tqdm/auto.py:21: TqdmWarning: IProgress not found. Please update jupyter and ipywidgets. See https://ipywidgets.readthedocs.io/en/stable/user_install.html\n",
      "  from .autonotebook import tqdm as notebook_tqdm\n"
     ]
    }
   ],
   "source": [
    "import json\n",
    "from openai import OpenAI\n",
    "from groq import Groq\n",
    "import os\n",
    "from sentence_transformers import SentenceTransformer\n",
    "from tqdm.auto import tqdm\n",
    "import pickle\n",
    "from elasticsearch import Elasticsearch\n",
    "import pandas as pd\n",
    "import requests\n",
    "import numpy as np\n",
    "from concurrent.futures import ThreadPoolExecutor\n",
    "from requests.exceptions import HTTPError\n",
    "\n",
    "import time"
   ]
  },
  {
   "cell_type": "code",
   "execution_count": 2,
   "id": "9330bd53-7044-4c57-9458-a664c753055e",
   "metadata": {},
   "outputs": [
    {
     "name": "stdout",
     "output_type": "stream",
     "text": [
      "{'answer_llm': 'Tổng mức đầu tư đã được phê duyệt cho 72 dự án có dấu hiệu đầu tư không hiệu quả là khoảng 42.744 tỷ đồng. \\n', 'answer_orig': 'Có tổng cộng 72 dự án có dấu hiệu đầu tư không hiệu quả, với tổng mức đầu tư đã được phê duyệt sau cùng khoảng 42.744 tỷ đồng.', 'document': '67dd4b32', 'question': 'Tổng mức đầu tư phê duyệt cho các dự án không hiệu quả là bao nhiêu ?', 'group': 'General'}\n"
     ]
    }
   ],
   "source": [
    "with open('llm_answer164.pkl', 'rb') as file:\n",
    "        print(pickle.load(file)[0])"
   ]
  },
  {
   "cell_type": "code",
   "execution_count": 3,
   "id": "067e893c-f868-493e-86c8-5eb0a1e593de",
   "metadata": {},
   "outputs": [
    {
     "name": "stdout",
     "output_type": "stream",
     "text": [
      "{'answer_llm': 'Niềm tin tạo lập giá trị mới là triết lý phát triển của IBSC, thể hiện mong muốn trong vòng 3-5 năm tới, Công ty sẽ trở thành một trong những công ty chứng khoán có thương hiệu mạnh trên thị trường và có sự phát triển bền vững, ổn định, đồng đều giữa các lĩnh vực hoạt động. \\n', 'answer_orig': 'Tòa nhà văn phòng mới của Apple có tổng kinh phí hơn 5 tỷ USD và được xây dựng với mục tiêu trở thành tòa nhà văn phòng tốt nhất và xanh nhất hành tinh.', 'document': 'c44974f0', 'question': 'Apple có kế hoạch xây dựng một tòa nhà văn phòng hiện đại với mục tiêu gì?', 'group': 'General'}\n"
     ]
    }
   ],
   "source": [
    "with open('llm_answer82.pkl', 'rb') as file:\n",
    "        print(pickle.load(file)[0])"
   ]
  },
  {
   "cell_type": "code",
   "execution_count": 6,
   "id": "6d7a7853-206c-4960-aa7b-b3b8341ceba6",
   "metadata": {},
   "outputs": [
    {
     "data": {
      "text/plain": [
       "[{'question': 'Tổng mức đầu tư phê duyệt cho các dự án không hiệu quả là bao nhiêu ?',\n",
       "  'Group': 'General',\n",
       "  'document': '67dd4b32'},\n",
       " {'question': 'Mức đầu tư cho những dự án này được phê duyệt dưới dạng bao nhiêu?',\n",
       "  'Group': 'General',\n",
       "  'document': '67dd4b32'},\n",
       " {'question': 'Có bao nhiêu dự án bị xác định là đầu tư không hiệu quả?',\n",
       "  'Group': 'General',\n",
       "  'document': '67dd4b32'},\n",
       " {'question': 'Có bao nhiêu tỉ đồng được phê duyệt cho các dự án có dấu hiệu đầu tư không hiệu quả? ',\n",
       "  'Group': 'General',\n",
       "  'document': '67dd4b32'},\n",
       " {'question': 'Đức, Ba Lan và Anh đã đứng đầu bảng nào để giành vé vào vòng chung kết World Cup 2018?',\n",
       "  'Group': 'General',\n",
       "  'document': 'a2b6ecc0'},\n",
       " {'question': 'Ngoài Đức, Ba Lan và Anh, những đội nào còn có cơ hội dự World Cup 2018?',\n",
       "  'Group': 'General',\n",
       "  'document': 'a2b6ecc0'},\n",
       " {'question': 'Ai là ba đội dẫn đầu bảng E, F và C?',\n",
       "  'Group': 'General',\n",
       "  'document': 'a2b6ecc0'},\n",
       " {'question': 'Các đội nào có khả năng dự play-off vòng loại World Cup 2018 khu vực châu Âu?',\n",
       "  'Group': 'General',\n",
       "  'document': 'a2b6ecc0'},\n",
       " {'question': 'World Cup 2018 diễn ra ở đâu?',\n",
       "  'Group': 'General',\n",
       "  'document': 'a2b6ecc0'},\n",
       " {'question': 'Tại sao CAAT yêu cầu Không quân Hoàng gia Thái Lan tăng cường an ninh tại sân gôn gần đường băng sân bay Don Mueang?',\n",
       "  'Group': 'General',\n",
       "  'document': '38f82fa7'},\n",
       " {'question': 'Đợt kiểm tra sắp tới của ICAO diễn ra vào tháng nào?',\n",
       "  'Group': 'General',\n",
       "  'document': '38f82fa7'},\n",
       " {'question': 'ICAO kiểm tra chất lượng an toàn tại các sân bay của quốc gia nào?',\n",
       "  'Group': 'General',\n",
       "  'document': '38f82fa7'},\n",
       " {'question': 'Tên chương trình kiểm tra an ninh toàn cầu do ICAO phát động là gì?',\n",
       "  'Group': 'General',\n",
       "  'document': '38f82fa7'},\n",
       " {'question': 'Chula Sukmanop là ai? ',\n",
       "  'Group': 'General',\n",
       "  'document': '38f82fa7'},\n",
       " {'question': 'Hương Tràm có MV nào được sản xuất bởi Alien Media?',\n",
       "  'Group': 'General',\n",
       "  'document': '1b470510'},\n",
       " {'question': \"Công ty sản xuất MV 'Em gái mưa' là ai?\",\n",
       "  'Group': 'General',\n",
       "  'document': '1b470510'},\n",
       " {'question': \"Producer của MV 'Em gái mưa' của Hương Tràm là đơn vị nào?\",\n",
       "  'Group': 'General',\n",
       "  'document': '1b470510'}]"
      ]
     },
     "execution_count": 6,
     "metadata": {},
     "output_type": "execute_result"
    }
   ],
   "source": [
    "df_ground_truth = pd.read_csv('../ground_truth_data/ground_truth_data.csv')\n",
    "\n",
    "ground_truth = df_ground_truth.to_dict(orient='records')\n",
    "s = ground_truth[1217:1217*2]\n",
    "s[1200:]"
   ]
  },
  {
   "cell_type": "code",
   "execution_count": 25,
   "id": "1790bdff-4332-49fc-a1d6-9fd230320ec4",
   "metadata": {},
   "outputs": [
    {
     "name": "stdout",
     "output_type": "stream",
     "text": [
      "329 0 15\n",
      "330 15 30\n",
      "331 30 45\n",
      "332 45 60\n",
      "333 60 75\n",
      "334 75 90\n",
      "335 90 105\n",
      "336 105 120\n",
      "337 120 135\n",
      "338 135 150\n",
      "339 150 165\n",
      "340 165 180\n",
      "341 180 195\n",
      "342 195 210\n",
      "343 210 225\n",
      "344 225 240\n",
      "345 240 255\n",
      "346 255 270\n",
      "347 270 285\n",
      "348 285 300\n",
      "349 300 315\n",
      "350 315 330\n",
      "351 330 345\n",
      "352 345 360\n",
      "353 360 375\n",
      "354 375 390\n",
      "355 390 405\n",
      "356 405 420\n",
      "357 420 435\n",
      "358 435 450\n",
      "359 450 465\n",
      "360 465 480\n",
      "361 480 495\n",
      "362 495 510\n",
      "363 510 525\n",
      "364 525 540\n",
      "365 540 555\n",
      "366 555 570\n",
      "367 570 585\n",
      "368 585 600\n",
      "369 600 615\n",
      "370 615 630\n",
      "371 630 645\n",
      "372 645 660\n",
      "373 660 675\n",
      "374 675 690\n",
      "375 690 705\n",
      "376 705 720\n",
      "377 720 735\n",
      "378 735 750\n",
      "379 750 765\n",
      "380 765 780\n",
      "381 780 795\n",
      "382 795 810\n",
      "383 810 825\n",
      "384 825 840\n",
      "385 840 855\n",
      "386 855 870\n",
      "387 870 885\n",
      "388 885 900\n",
      "389 900 915\n",
      "390 915 930\n",
      "391 930 945\n",
      "392 945 960\n",
      "393 960 975\n",
      "394 975 990\n",
      "395 990 1005\n",
      "396 1005 1020\n",
      "397 1020 1035\n",
      "398 1035 1050\n",
      "399 1050 1065\n",
      "400 1065 1080\n",
      "401 1080 1095\n",
      "402 1095 1110\n",
      "403 1110 1125\n",
      "404 1125 1140\n",
      "405 1140 1155\n",
      "406 1155 1170\n",
      "407 1170 1185\n",
      "408 1185 1200\n",
      "409 1200 1215\n"
     ]
    }
   ],
   "source": [
    "chunk_size = 15\n",
    "start_chunk = 0 # Starting chunk index\n",
    "end_chunk = (1221 // chunk_size)   # Ending chunk index\n",
    "# print(end_chunk)\n",
    "for i in range(start_chunk, end_chunk):\n",
    "    results = []\n",
    "    chunk_start = i * chunk_size\n",
    "    chunk_end = chunk_start + chunk_size\n",
    "    \n",
    "    print(i + 329, chunk_start, chunk_end)\n",
    "    # chunk = documents_current[chunk_start:chunk_end]\n",
    "\n",
    "    # # Use map_progress to process documents\n",
    "    # processed_results = map_progress(pool, chunk, process_record)\n",
    "    # results.extend(processed_results)\n",
    "    # # # Store the results incrementally\n",
    "    # # for result in processed_results:\n",
    "    # #     if result is not None:\n",
    "    # #         doc_id, questions = result\n",
    "    # #         results[doc_id] = questions\n",
    "\n",
    "    # # Save the results to a file\n",
    "    # file_name = f'../data/vietnamese_rag/llm_answer/llm_answer{i + 1}.pkl'\n",
    "    # with open(file_name, 'wb') as file:\n",
    "    #     pickle.dump(results, file)\n",
    "\n",
    "    # # Print out the results\n",
    "    # print(f\"Chunk {i} processed and saved to {file_name}\")\n",
    "    # # print(results)\n",
    "\n",
    "    # # Wait for 1 minute to reset rate limit\n",
    "    # time.sleep(20)"
   ]
  },
  {
   "cell_type": "code",
   "execution_count": null,
   "id": "232f7858-4435-44dd-ad10-3157a6239ad2",
   "metadata": {},
   "outputs": [],
   "source": []
  }
 ],
 "metadata": {
  "kernelspec": {
   "display_name": "Python 3 (ipykernel)",
   "language": "python",
   "name": "python3"
  },
  "language_info": {
   "codemirror_mode": {
    "name": "ipython",
    "version": 3
   },
   "file_extension": ".py",
   "mimetype": "text/x-python",
   "name": "python",
   "nbconvert_exporter": "python",
   "pygments_lexer": "ipython3",
   "version": "3.10.13"
  }
 },
 "nbformat": 4,
 "nbformat_minor": 5
}
