{
 "cells": [
  {
   "cell_type": "code",
   "execution_count": 1,
   "id": "a56dd569-3846-45ab-860f-5fd4da9b1060",
   "metadata": {},
   "outputs": [
    {
     "name": "stderr",
     "output_type": "stream",
     "text": [
      "/home/codespace/.local/lib/python3.10/site-packages/tqdm/auto.py:21: TqdmWarning: IProgress not found. Please update jupyter and ipywidgets. See https://ipywidgets.readthedocs.io/en/stable/user_install.html\n",
      "  from .autonotebook import tqdm as notebook_tqdm\n"
     ]
    }
   ],
   "source": [
    "import json\n",
    "from openai import OpenAI\n",
    "from groq import Groq\n",
    "import os\n",
    "from sentence_transformers import SentenceTransformer\n",
    "from tqdm.auto import tqdm\n",
    "import pickle\n",
    "from elasticsearch import Elasticsearch\n",
    "import pandas as pd\n",
    "import requests\n",
    "import numpy as np\n",
    "from concurrent.futures import ThreadPoolExecutor\n",
    "from requests.exceptions import HTTPError\n",
    "\n",
    "import time"
   ]
  },
  {
   "cell_type": "code",
   "execution_count": 17,
   "id": "9330bd53-7044-4c57-9458-a664c753055e",
   "metadata": {},
   "outputs": [
    {
     "name": "stdout",
     "output_type": "stream",
     "text": [
      "{'answer_llm': 'Thông tin về lý do giảm giá của Kia Morning không được cung cấp trong ngữ cảnh này.  \\n\\n\\n\\n\\n', 'answer_orig': 'Có một số lựa chọn ô tô mới chính hãng cho ngân sách 300 triệu đồng tại Việt Nam. Suzuki Celerio có thể mua với giá chỉ khoảng 299 triệu đồng với phiên bản số sàn vào thời điểm tháng 3/2018. Kia Morning đã được giảm giá từ 15-20 triệu đồng, đưa một số phiên bản về mốc chỉ còn 295 triệu đồng vào thời điểm cuối năm 2017. Hyundai Grand i10 vừa được giảm giá mạnh từ 20-40 triệu đồng, với 2 phiên bản thấp nhất hạ xuống chỉ còn là 315 triệu đồng và 355 triệu đồng.', 'document': '198daf6a', 'question': 'Tại sao Kia Morning có mức giá giảm?', 'group': 'General'}\n"
     ]
    }
   ],
   "source": [
    "with open('llm_answer8.pkl', 'rb') as file:\n",
    "        print(pickle.load(file)[-1])"
   ]
  },
  {
   "cell_type": "code",
   "execution_count": 19,
   "id": "1790bdff-4332-49fc-a1d6-9fd230320ec4",
   "metadata": {},
   "outputs": [
    {
     "name": "stdout",
     "output_type": "stream",
     "text": [
      "247 0 15\n",
      "248 15 30\n",
      "249 30 45\n",
      "250 45 60\n",
      "251 60 75\n",
      "252 75 90\n",
      "253 90 105\n",
      "254 105 120\n",
      "255 120 135\n",
      "256 135 150\n",
      "257 150 165\n",
      "258 165 180\n",
      "259 180 195\n",
      "260 195 210\n",
      "261 210 225\n",
      "262 225 240\n",
      "263 240 255\n",
      "264 255 270\n",
      "265 270 285\n",
      "266 285 300\n",
      "267 300 315\n",
      "268 315 330\n",
      "269 330 345\n",
      "270 345 360\n",
      "271 360 375\n",
      "272 375 390\n",
      "273 390 405\n",
      "274 405 420\n",
      "275 420 435\n",
      "276 435 450\n",
      "277 450 465\n",
      "278 465 480\n",
      "279 480 495\n",
      "280 495 510\n",
      "281 510 525\n",
      "282 525 540\n",
      "283 540 555\n",
      "284 555 570\n",
      "285 570 585\n",
      "286 585 600\n",
      "287 600 615\n",
      "288 615 630\n",
      "289 630 645\n",
      "290 645 660\n",
      "291 660 675\n",
      "292 675 690\n",
      "293 690 705\n",
      "294 705 720\n",
      "295 720 735\n",
      "296 735 750\n",
      "297 750 765\n",
      "298 765 780\n",
      "299 780 795\n",
      "300 795 810\n",
      "301 810 825\n",
      "302 825 840\n",
      "303 840 855\n",
      "304 855 870\n",
      "305 870 885\n",
      "306 885 900\n",
      "307 900 915\n",
      "308 915 930\n",
      "309 930 945\n",
      "310 945 960\n",
      "311 960 975\n",
      "312 975 990\n",
      "313 990 1005\n",
      "314 1005 1020\n",
      "315 1020 1035\n",
      "316 1035 1050\n",
      "317 1050 1065\n",
      "318 1065 1080\n",
      "319 1080 1095\n",
      "320 1095 1110\n",
      "321 1110 1125\n",
      "322 1125 1140\n",
      "323 1140 1155\n",
      "324 1155 1170\n",
      "325 1170 1185\n",
      "326 1185 1200\n",
      "327 1200 1215\n"
     ]
    }
   ],
   "source": [
    "chunk_size = 15\n",
    "start_chunk = 0 # Starting chunk index\n",
    "end_chunk = (1217 // chunk_size)   # Ending chunk index\n",
    "# print(end_chunk)\n",
    "for i in range(start_chunk, end_chunk):\n",
    "    results = []\n",
    "    chunk_start = i * chunk_size\n",
    "    chunk_end = chunk_start + chunk_size\n",
    "    \n",
    "    print(i + 247, chunk_start, chunk_end)\n",
    "    # chunk = documents_current[chunk_start:chunk_end]\n",
    "\n",
    "    # # Use map_progress to process documents\n",
    "    # processed_results = map_progress(pool, chunk, process_record)\n",
    "    # results.extend(processed_results)\n",
    "    # # # Store the results incrementally\n",
    "    # # for result in processed_results:\n",
    "    # #     if result is not None:\n",
    "    # #         doc_id, questions = result\n",
    "    # #         results[doc_id] = questions\n",
    "\n",
    "    # # Save the results to a file\n",
    "    # file_name = f'../data/vietnamese_rag/llm_answer/llm_answer{i + 1}.pkl'\n",
    "    # with open(file_name, 'wb') as file:\n",
    "    #     pickle.dump(results, file)\n",
    "\n",
    "    # # Print out the results\n",
    "    # print(f\"Chunk {i} processed and saved to {file_name}\")\n",
    "    # # print(results)\n",
    "\n",
    "    # # Wait for 1 minute to reset rate limit\n",
    "    # time.sleep(20)"
   ]
  },
  {
   "cell_type": "code",
   "execution_count": null,
   "id": "232f7858-4435-44dd-ad10-3157a6239ad2",
   "metadata": {},
   "outputs": [],
   "source": []
  }
 ],
 "metadata": {
  "kernelspec": {
   "display_name": "Python 3 (ipykernel)",
   "language": "python",
   "name": "python3"
  },
  "language_info": {
   "codemirror_mode": {
    "name": "ipython",
    "version": 3
   },
   "file_extension": ".py",
   "mimetype": "text/x-python",
   "name": "python",
   "nbconvert_exporter": "python",
   "pygments_lexer": "ipython3",
   "version": "3.10.13"
  }
 },
 "nbformat": 4,
 "nbformat_minor": 5
}
