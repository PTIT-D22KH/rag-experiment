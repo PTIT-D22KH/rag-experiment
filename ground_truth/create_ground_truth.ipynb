{
 "cells": [
  {
   "cell_type": "code",
   "execution_count": 2,
   "id": "b5c8e928-ed19-4840-9769-65fa9e6f8cab",
   "metadata": {},
   "outputs": [],
   "source": [
    "import json"
   ]
  },
  {
   "cell_type": "code",
   "execution_count": 3,
   "id": "98731f12-48f4-4e16-8e05-4f98222b2301",
   "metadata": {},
   "outputs": [],
   "source": [
    "\n",
    "with open('../data/documents.json', 'rt') as f_in:\n",
    "    documents = json.load(f_in)"
   ]
  },
  {
   "cell_type": "code",
   "execution_count": 6,
   "id": "12b739d7-411e-48f9-a261-5441ee63598b",
   "metadata": {},
   "outputs": [],
   "source": [
    "import hashlib\n",
    "\n",
    "def generate_document_id(doc):\n",
    "    combined = f\"{doc['context']}-{doc['question']}-{doc['answer'][:10]}\"\n",
    "    hash_object = hashlib.md5(combined.encode())\n",
    "    hash_hex = hash_object.hexdigest()\n",
    "    document_id = hash_hex[:8]\n",
    "    return document_id"
   ]
  },
  {
   "cell_type": "code",
   "execution_count": 7,
   "id": "29060b5d-f6f2-4f46-a7e0-c4991984ad91",
   "metadata": {},
   "outputs": [],
   "source": [
    "\n",
    "for doc in documents:\n",
    "    doc['id'] = generate_document_id(doc)"
   ]
  },
  {
   "cell_type": "code",
   "execution_count": 8,
   "id": "92ca8865-874c-4636-bb89-0b585ed13e83",
   "metadata": {},
   "outputs": [
    {
     "data": {
      "text/plain": [
       "{'context': \"Find Movers in Santa Clarita, CA 91390 - Moving Company 91390\\nWhether you're looking for just the right movers in Santa Clarita, Help with your move or ways to cut the cost of moving. Pearl Moving Company Santa Clarita, 91390 is working hard to connect you with the best moving companies in Santa Clarita, We are here to make your move as easy as possible.\\nWith our Moving companies In Santa Clarita Clarita.50 • 91380 • 91382 • 91383 • 91390 •\\nApartment Movers 91390, Local Movers 91390, Movers 91390, Moving Company 91390, Moving Services 91390, Office Move 91390, home movers 91390, Out of State Movers 91390, Professional Movers 91390, Moving Companies 91390, Cheap Movers 91390, movers reviews 91390, movers cost 91390, home moving companies 91390, moving and storage companies 91390, Long Distance Moving Company 91390, moving company reviews 91390, commercial movers 91390,Moving Quotes 91390, local moving companies 91390, local moving company 91390, best moving companies 91390, piano movers 91390, city Movers 91390, long distance movers 91390, furniture movers 91390,\",\n",
       " 'question': 'What services does Pearl Moving Company in Santa Clarita, 91390 offer?',\n",
       " 'answer': 'Pearl Moving Company Santa Clarita, 91390 offers services such as apartment moving, local moving, office moving, out of state moving, professional moving, cheap moving, long distance moving, commercial moving, and furniture moving.',\n",
       " 'id': '6f228e4e'}"
      ]
     },
     "execution_count": 8,
     "metadata": {},
     "output_type": "execute_result"
    }
   ],
   "source": [
    "documents[3]"
   ]
  },
  {
   "cell_type": "code",
   "execution_count": 9,
   "id": "8572b24f-6935-4838-bb5b-8cd05e8288fc",
   "metadata": {},
   "outputs": [],
   "source": [
    "from collections import defaultdict"
   ]
  },
  {
   "cell_type": "code",
   "execution_count": 10,
   "id": "d88c053c-140f-496d-a404-842fd568fa0b",
   "metadata": {},
   "outputs": [],
   "source": [
    "hashes = defaultdict(list)\n",
    "\n",
    "for doc in documents:\n",
    "    doc_id = doc['id']\n",
    "    hashes[doc_id].append(doc)"
   ]
  },
  {
   "cell_type": "code",
   "execution_count": 11,
   "id": "83389174-29bf-4146-a514-ea60a36e50a4",
   "metadata": {},
   "outputs": [
    {
     "data": {
      "text/plain": [
       "(960, 960)"
      ]
     },
     "execution_count": 11,
     "metadata": {},
     "output_type": "execute_result"
    }
   ],
   "source": [
    "len(hashes), len(documents)"
   ]
  },
  {
   "cell_type": "code",
   "execution_count": 12,
   "id": "30d44975-a890-4f1a-8678-a178cc0e0ddd",
   "metadata": {},
   "outputs": [],
   "source": [
    "with open('../data/documents-with-ids.json', 'wt') as f_out:\n",
    "    json.dump(documents, f_out, indent=2)"
   ]
  },
  {
   "cell_type": "code",
   "execution_count": 17,
   "id": "ea8a6d5f-ce5b-468f-aab4-2292151940b0",
   "metadata": {},
   "outputs": [],
   "source": [
    "prompt_template = \"\"\"\n",
    "You emulate an interviewer who is doing the interview with an expert.\n",
    "Formulate 5 questions this student might ask based on a  record. The record\n",
    "should contain the answer to the questions, and the questions should be complete and not too short.\n",
    "If possible, use as fewer words as possible from the record. \n",
    "\n",
    "The record:\n",
    "\n",
    "context: {context}\n",
    "question: {question}\n",
    "answer: {answer}\n",
    "\n",
    "Provide the output in parsable JSON without using code blocks:\n",
    "\n",
    "[\"question1\", \"question2\", ..., \"question5\"]\n",
    "\"\"\".strip()"
   ]
  },
  {
   "cell_type": "code",
   "execution_count": 15,
   "id": "c0fccd39-dc3a-49d9-b505-c700f750150b",
   "metadata": {},
   "outputs": [],
   "source": [
    "from groq import Groq"
   ]
  },
  {
   "cell_type": "code",
   "execution_count": null,
   "id": "bf3f5d4f-6f3a-440d-956e-08502a9a3789",
   "metadata": {},
   "outputs": [],
   "source": [
    "client = Groq()"
   ]
  },
  {
   "cell_type": "code",
   "execution_count": null,
   "id": "6c54da13-3abc-4f53-a9c3-9c821d6c8e28",
   "metadata": {},
   "outputs": [],
   "source": [
    "response = client.chat.completions.create(\n",
    "    model=\"llama3-70b-8192\",\n",
    "    messages=[\n",
    "        {\n",
    "            \"role\": \"user\",\n",
    "            \"content\": \"Is it too late to join the course\",\n",
    "        }\n",
    "    ],\n",
    ")"
   ]
  },
  {
   "cell_type": "code",
   "execution_count": 18,
   "id": "937ac5a5-5f6f-4654-aadd-75d45adfdcf1",
   "metadata": {},
   "outputs": [],
   "source": [
    "\n",
    "def generate_questions(doc):\n",
    "    prompt = prompt_template.format(**doc)\n",
    "\n",
    "    response = client.chat.completions.create(\n",
    "        model='gemma2-9b-it',\n",
    "        messages=[{\"role\": \"user\", \"content\": prompt}]\n",
    "    )\n",
    "\n",
    "    json_response = response.choices[0].message.content\n",
    "    return json_response"
   ]
  },
  {
   "cell_type": "code",
   "execution_count": 19,
   "id": "de071d4b-8951-4a1c-b53f-8b3ca489ec93",
   "metadata": {},
   "outputs": [
    {
     "name": "stderr",
     "output_type": "stream",
     "text": [
      "/usr/local/python/3.10.13/lib/python3.10/site-packages/tqdm/auto.py:21: TqdmWarning: IProgress not found. Please update jupyter and ipywidgets. See https://ipywidgets.readthedocs.io/en/stable/user_install.html\n",
      "  from .autonotebook import tqdm as notebook_tqdm\n"
     ]
    }
   ],
   "source": [
    "\n",
    "from tqdm.auto import tqdm"
   ]
  },
  {
   "cell_type": "code",
   "execution_count": 20,
   "id": "e1d8cdb0-618c-4ebb-81ce-70a195b345c8",
   "metadata": {},
   "outputs": [],
   "source": [
    "\n",
    "results = {}"
   ]
  },
  {
   "cell_type": "code",
   "execution_count": 21,
   "id": "73d0b56b-d28f-49b5-aa0e-8bd34f687794",
   "metadata": {},
   "outputs": [
    {
     "name": "stderr",
     "output_type": "stream",
     "text": [
      "  7%|█▍                   | 66/960 [03:30<47:31,  3.19s/it]\n"
     ]
    },
    {
     "ename": "KeyboardInterrupt",
     "evalue": "",
     "output_type": "error",
     "traceback": [
      "\u001b[0;31m---------------------------------------------------------------------------\u001b[0m",
      "\u001b[0;31mHTTPStatusError\u001b[0m                           Traceback (most recent call last)",
      "File \u001b[0;32m/usr/local/python/3.10.13/lib/python3.10/site-packages/groq/_base_client.py:997\u001b[0m, in \u001b[0;36mSyncAPIClient._request\u001b[0;34m(self, cast_to, options, remaining_retries, stream, stream_cls)\u001b[0m\n\u001b[1;32m    996\u001b[0m \u001b[38;5;28;01mtry\u001b[39;00m:\n\u001b[0;32m--> 997\u001b[0m     \u001b[43mresponse\u001b[49m\u001b[38;5;241;43m.\u001b[39;49m\u001b[43mraise_for_status\u001b[49m\u001b[43m(\u001b[49m\u001b[43m)\u001b[49m\n\u001b[1;32m    998\u001b[0m \u001b[38;5;28;01mexcept\u001b[39;00m httpx\u001b[38;5;241m.\u001b[39mHTTPStatusError \u001b[38;5;28;01mas\u001b[39;00m err:  \u001b[38;5;66;03m# thrown on 4xx and 5xx status code\u001b[39;00m\n",
      "File \u001b[0;32m~/.local/lib/python3.10/site-packages/httpx/_models.py:761\u001b[0m, in \u001b[0;36mResponse.raise_for_status\u001b[0;34m(self)\u001b[0m\n\u001b[1;32m    760\u001b[0m message \u001b[38;5;241m=\u001b[39m message\u001b[38;5;241m.\u001b[39mformat(\u001b[38;5;28mself\u001b[39m, error_type\u001b[38;5;241m=\u001b[39merror_type)\n\u001b[0;32m--> 761\u001b[0m \u001b[38;5;28;01mraise\u001b[39;00m HTTPStatusError(message, request\u001b[38;5;241m=\u001b[39mrequest, response\u001b[38;5;241m=\u001b[39m\u001b[38;5;28mself\u001b[39m)\n",
      "\u001b[0;31mHTTPStatusError\u001b[0m: Client error '429 Too Many Requests' for url 'https://api.groq.com/openai/v1/chat/completions'\nFor more information check: https://developer.mozilla.org/en-US/docs/Web/HTTP/Status/429",
      "\nDuring handling of the above exception, another exception occurred:\n",
      "\u001b[0;31mKeyboardInterrupt\u001b[0m                         Traceback (most recent call last)",
      "Cell \u001b[0;32mIn[21], line 6\u001b[0m\n\u001b[1;32m      3\u001b[0m \u001b[38;5;28;01mif\u001b[39;00m doc_id \u001b[38;5;129;01min\u001b[39;00m results:\n\u001b[1;32m      4\u001b[0m     \u001b[38;5;28;01mcontinue\u001b[39;00m\n\u001b[0;32m----> 6\u001b[0m questions \u001b[38;5;241m=\u001b[39m \u001b[43mgenerate_questions\u001b[49m\u001b[43m(\u001b[49m\u001b[43mdoc\u001b[49m\u001b[43m)\u001b[49m\n\u001b[1;32m      7\u001b[0m results[doc_id] \u001b[38;5;241m=\u001b[39m questions\n",
      "Cell \u001b[0;32mIn[18], line 4\u001b[0m, in \u001b[0;36mgenerate_questions\u001b[0;34m(doc)\u001b[0m\n\u001b[1;32m      1\u001b[0m \u001b[38;5;28;01mdef\u001b[39;00m \u001b[38;5;21mgenerate_questions\u001b[39m(doc):\n\u001b[1;32m      2\u001b[0m     prompt \u001b[38;5;241m=\u001b[39m prompt_template\u001b[38;5;241m.\u001b[39mformat(\u001b[38;5;241m*\u001b[39m\u001b[38;5;241m*\u001b[39mdoc)\n\u001b[0;32m----> 4\u001b[0m     response \u001b[38;5;241m=\u001b[39m \u001b[43mclient\u001b[49m\u001b[38;5;241;43m.\u001b[39;49m\u001b[43mchat\u001b[49m\u001b[38;5;241;43m.\u001b[39;49m\u001b[43mcompletions\u001b[49m\u001b[38;5;241;43m.\u001b[39;49m\u001b[43mcreate\u001b[49m\u001b[43m(\u001b[49m\n\u001b[1;32m      5\u001b[0m \u001b[43m        \u001b[49m\u001b[43mmodel\u001b[49m\u001b[38;5;241;43m=\u001b[39;49m\u001b[38;5;124;43m'\u001b[39;49m\u001b[38;5;124;43mgemma2-9b-it\u001b[39;49m\u001b[38;5;124;43m'\u001b[39;49m\u001b[43m,\u001b[49m\n\u001b[1;32m      6\u001b[0m \u001b[43m        \u001b[49m\u001b[43mmessages\u001b[49m\u001b[38;5;241;43m=\u001b[39;49m\u001b[43m[\u001b[49m\u001b[43m{\u001b[49m\u001b[38;5;124;43m\"\u001b[39;49m\u001b[38;5;124;43mrole\u001b[39;49m\u001b[38;5;124;43m\"\u001b[39;49m\u001b[43m:\u001b[49m\u001b[43m \u001b[49m\u001b[38;5;124;43m\"\u001b[39;49m\u001b[38;5;124;43muser\u001b[39;49m\u001b[38;5;124;43m\"\u001b[39;49m\u001b[43m,\u001b[49m\u001b[43m \u001b[49m\u001b[38;5;124;43m\"\u001b[39;49m\u001b[38;5;124;43mcontent\u001b[39;49m\u001b[38;5;124;43m\"\u001b[39;49m\u001b[43m:\u001b[49m\u001b[43m \u001b[49m\u001b[43mprompt\u001b[49m\u001b[43m}\u001b[49m\u001b[43m]\u001b[49m\n\u001b[1;32m      7\u001b[0m \u001b[43m    \u001b[49m\u001b[43m)\u001b[49m\n\u001b[1;32m      9\u001b[0m     json_response \u001b[38;5;241m=\u001b[39m response\u001b[38;5;241m.\u001b[39mchoices[\u001b[38;5;241m0\u001b[39m]\u001b[38;5;241m.\u001b[39mmessage\u001b[38;5;241m.\u001b[39mcontent\n\u001b[1;32m     10\u001b[0m     \u001b[38;5;28;01mreturn\u001b[39;00m json_response\n",
      "File \u001b[0;32m/usr/local/python/3.10.13/lib/python3.10/site-packages/groq/resources/chat/completions.py:289\u001b[0m, in \u001b[0;36mCompletions.create\u001b[0;34m(self, messages, model, frequency_penalty, function_call, functions, logit_bias, logprobs, max_tokens, n, parallel_tool_calls, presence_penalty, response_format, seed, stop, stream, temperature, tool_choice, tools, top_logprobs, top_p, user, extra_headers, extra_query, extra_body, timeout)\u001b[0m\n\u001b[1;32m    148\u001b[0m \u001b[38;5;28;01mdef\u001b[39;00m \u001b[38;5;21mcreate\u001b[39m(\n\u001b[1;32m    149\u001b[0m     \u001b[38;5;28mself\u001b[39m,\n\u001b[1;32m    150\u001b[0m     \u001b[38;5;241m*\u001b[39m,\n\u001b[0;32m   (...)\u001b[0m\n\u001b[1;32m    177\u001b[0m     timeout: \u001b[38;5;28mfloat\u001b[39m \u001b[38;5;241m|\u001b[39m httpx\u001b[38;5;241m.\u001b[39mTimeout \u001b[38;5;241m|\u001b[39m \u001b[38;5;28;01mNone\u001b[39;00m \u001b[38;5;241m|\u001b[39m NotGiven \u001b[38;5;241m=\u001b[39m NOT_GIVEN,\n\u001b[1;32m    178\u001b[0m ) \u001b[38;5;241m-\u001b[39m\u001b[38;5;241m>\u001b[39m ChatCompletion \u001b[38;5;241m|\u001b[39m Stream[ChatCompletionChunk]:\n\u001b[1;32m    179\u001b[0m \u001b[38;5;250m    \u001b[39m\u001b[38;5;124;03m\"\"\"\u001b[39;00m\n\u001b[1;32m    180\u001b[0m \u001b[38;5;124;03m    Creates a model response for the given chat conversation.\u001b[39;00m\n\u001b[1;32m    181\u001b[0m \n\u001b[0;32m   (...)\u001b[0m\n\u001b[1;32m    287\u001b[0m \u001b[38;5;124;03m      timeout: Override the client-level default timeout for this request, in seconds\u001b[39;00m\n\u001b[1;32m    288\u001b[0m \u001b[38;5;124;03m    \"\"\"\u001b[39;00m\n\u001b[0;32m--> 289\u001b[0m     \u001b[38;5;28;01mreturn\u001b[39;00m \u001b[38;5;28;43mself\u001b[39;49m\u001b[38;5;241;43m.\u001b[39;49m\u001b[43m_post\u001b[49m\u001b[43m(\u001b[49m\n\u001b[1;32m    290\u001b[0m \u001b[43m        \u001b[49m\u001b[38;5;124;43m\"\u001b[39;49m\u001b[38;5;124;43m/openai/v1/chat/completions\u001b[39;49m\u001b[38;5;124;43m\"\u001b[39;49m\u001b[43m,\u001b[49m\n\u001b[1;32m    291\u001b[0m \u001b[43m        \u001b[49m\u001b[43mbody\u001b[49m\u001b[38;5;241;43m=\u001b[39;49m\u001b[43mmaybe_transform\u001b[49m\u001b[43m(\u001b[49m\n\u001b[1;32m    292\u001b[0m \u001b[43m            \u001b[49m\u001b[43m{\u001b[49m\n\u001b[1;32m    293\u001b[0m \u001b[43m                \u001b[49m\u001b[38;5;124;43m\"\u001b[39;49m\u001b[38;5;124;43mmessages\u001b[39;49m\u001b[38;5;124;43m\"\u001b[39;49m\u001b[43m:\u001b[49m\u001b[43m \u001b[49m\u001b[43mmessages\u001b[49m\u001b[43m,\u001b[49m\n\u001b[1;32m    294\u001b[0m \u001b[43m                \u001b[49m\u001b[38;5;124;43m\"\u001b[39;49m\u001b[38;5;124;43mmodel\u001b[39;49m\u001b[38;5;124;43m\"\u001b[39;49m\u001b[43m:\u001b[49m\u001b[43m \u001b[49m\u001b[43mmodel\u001b[49m\u001b[43m,\u001b[49m\n\u001b[1;32m    295\u001b[0m \u001b[43m                \u001b[49m\u001b[38;5;124;43m\"\u001b[39;49m\u001b[38;5;124;43mfrequency_penalty\u001b[39;49m\u001b[38;5;124;43m\"\u001b[39;49m\u001b[43m:\u001b[49m\u001b[43m \u001b[49m\u001b[43mfrequency_penalty\u001b[49m\u001b[43m,\u001b[49m\n\u001b[1;32m    296\u001b[0m \u001b[43m                \u001b[49m\u001b[38;5;124;43m\"\u001b[39;49m\u001b[38;5;124;43mfunction_call\u001b[39;49m\u001b[38;5;124;43m\"\u001b[39;49m\u001b[43m:\u001b[49m\u001b[43m \u001b[49m\u001b[43mfunction_call\u001b[49m\u001b[43m,\u001b[49m\n\u001b[1;32m    297\u001b[0m \u001b[43m                \u001b[49m\u001b[38;5;124;43m\"\u001b[39;49m\u001b[38;5;124;43mfunctions\u001b[39;49m\u001b[38;5;124;43m\"\u001b[39;49m\u001b[43m:\u001b[49m\u001b[43m \u001b[49m\u001b[43mfunctions\u001b[49m\u001b[43m,\u001b[49m\n\u001b[1;32m    298\u001b[0m \u001b[43m                \u001b[49m\u001b[38;5;124;43m\"\u001b[39;49m\u001b[38;5;124;43mlogit_bias\u001b[39;49m\u001b[38;5;124;43m\"\u001b[39;49m\u001b[43m:\u001b[49m\u001b[43m \u001b[49m\u001b[43mlogit_bias\u001b[49m\u001b[43m,\u001b[49m\n\u001b[1;32m    299\u001b[0m \u001b[43m                \u001b[49m\u001b[38;5;124;43m\"\u001b[39;49m\u001b[38;5;124;43mlogprobs\u001b[39;49m\u001b[38;5;124;43m\"\u001b[39;49m\u001b[43m:\u001b[49m\u001b[43m \u001b[49m\u001b[43mlogprobs\u001b[49m\u001b[43m,\u001b[49m\n\u001b[1;32m    300\u001b[0m \u001b[43m                \u001b[49m\u001b[38;5;124;43m\"\u001b[39;49m\u001b[38;5;124;43mmax_tokens\u001b[39;49m\u001b[38;5;124;43m\"\u001b[39;49m\u001b[43m:\u001b[49m\u001b[43m \u001b[49m\u001b[43mmax_tokens\u001b[49m\u001b[43m,\u001b[49m\n\u001b[1;32m    301\u001b[0m \u001b[43m                \u001b[49m\u001b[38;5;124;43m\"\u001b[39;49m\u001b[38;5;124;43mn\u001b[39;49m\u001b[38;5;124;43m\"\u001b[39;49m\u001b[43m:\u001b[49m\u001b[43m \u001b[49m\u001b[43mn\u001b[49m\u001b[43m,\u001b[49m\n\u001b[1;32m    302\u001b[0m \u001b[43m                \u001b[49m\u001b[38;5;124;43m\"\u001b[39;49m\u001b[38;5;124;43mparallel_tool_calls\u001b[39;49m\u001b[38;5;124;43m\"\u001b[39;49m\u001b[43m:\u001b[49m\u001b[43m \u001b[49m\u001b[43mparallel_tool_calls\u001b[49m\u001b[43m,\u001b[49m\n\u001b[1;32m    303\u001b[0m \u001b[43m                \u001b[49m\u001b[38;5;124;43m\"\u001b[39;49m\u001b[38;5;124;43mpresence_penalty\u001b[39;49m\u001b[38;5;124;43m\"\u001b[39;49m\u001b[43m:\u001b[49m\u001b[43m \u001b[49m\u001b[43mpresence_penalty\u001b[49m\u001b[43m,\u001b[49m\n\u001b[1;32m    304\u001b[0m \u001b[43m                \u001b[49m\u001b[38;5;124;43m\"\u001b[39;49m\u001b[38;5;124;43mresponse_format\u001b[39;49m\u001b[38;5;124;43m\"\u001b[39;49m\u001b[43m:\u001b[49m\u001b[43m \u001b[49m\u001b[43mresponse_format\u001b[49m\u001b[43m,\u001b[49m\n\u001b[1;32m    305\u001b[0m \u001b[43m                \u001b[49m\u001b[38;5;124;43m\"\u001b[39;49m\u001b[38;5;124;43mseed\u001b[39;49m\u001b[38;5;124;43m\"\u001b[39;49m\u001b[43m:\u001b[49m\u001b[43m \u001b[49m\u001b[43mseed\u001b[49m\u001b[43m,\u001b[49m\n\u001b[1;32m    306\u001b[0m \u001b[43m                \u001b[49m\u001b[38;5;124;43m\"\u001b[39;49m\u001b[38;5;124;43mstop\u001b[39;49m\u001b[38;5;124;43m\"\u001b[39;49m\u001b[43m:\u001b[49m\u001b[43m \u001b[49m\u001b[43mstop\u001b[49m\u001b[43m,\u001b[49m\n\u001b[1;32m    307\u001b[0m \u001b[43m                \u001b[49m\u001b[38;5;124;43m\"\u001b[39;49m\u001b[38;5;124;43mstream\u001b[39;49m\u001b[38;5;124;43m\"\u001b[39;49m\u001b[43m:\u001b[49m\u001b[43m \u001b[49m\u001b[43mstream\u001b[49m\u001b[43m,\u001b[49m\n\u001b[1;32m    308\u001b[0m \u001b[43m                \u001b[49m\u001b[38;5;124;43m\"\u001b[39;49m\u001b[38;5;124;43mtemperature\u001b[39;49m\u001b[38;5;124;43m\"\u001b[39;49m\u001b[43m:\u001b[49m\u001b[43m \u001b[49m\u001b[43mtemperature\u001b[49m\u001b[43m,\u001b[49m\n\u001b[1;32m    309\u001b[0m \u001b[43m                \u001b[49m\u001b[38;5;124;43m\"\u001b[39;49m\u001b[38;5;124;43mtool_choice\u001b[39;49m\u001b[38;5;124;43m\"\u001b[39;49m\u001b[43m:\u001b[49m\u001b[43m \u001b[49m\u001b[43mtool_choice\u001b[49m\u001b[43m,\u001b[49m\n\u001b[1;32m    310\u001b[0m \u001b[43m                \u001b[49m\u001b[38;5;124;43m\"\u001b[39;49m\u001b[38;5;124;43mtools\u001b[39;49m\u001b[38;5;124;43m\"\u001b[39;49m\u001b[43m:\u001b[49m\u001b[43m \u001b[49m\u001b[43mtools\u001b[49m\u001b[43m,\u001b[49m\n\u001b[1;32m    311\u001b[0m \u001b[43m                \u001b[49m\u001b[38;5;124;43m\"\u001b[39;49m\u001b[38;5;124;43mtop_logprobs\u001b[39;49m\u001b[38;5;124;43m\"\u001b[39;49m\u001b[43m:\u001b[49m\u001b[43m \u001b[49m\u001b[43mtop_logprobs\u001b[49m\u001b[43m,\u001b[49m\n\u001b[1;32m    312\u001b[0m \u001b[43m                \u001b[49m\u001b[38;5;124;43m\"\u001b[39;49m\u001b[38;5;124;43mtop_p\u001b[39;49m\u001b[38;5;124;43m\"\u001b[39;49m\u001b[43m:\u001b[49m\u001b[43m \u001b[49m\u001b[43mtop_p\u001b[49m\u001b[43m,\u001b[49m\n\u001b[1;32m    313\u001b[0m \u001b[43m                \u001b[49m\u001b[38;5;124;43m\"\u001b[39;49m\u001b[38;5;124;43muser\u001b[39;49m\u001b[38;5;124;43m\"\u001b[39;49m\u001b[43m:\u001b[49m\u001b[43m \u001b[49m\u001b[43muser\u001b[49m\u001b[43m,\u001b[49m\n\u001b[1;32m    314\u001b[0m \u001b[43m            \u001b[49m\u001b[43m}\u001b[49m\u001b[43m,\u001b[49m\n\u001b[1;32m    315\u001b[0m \u001b[43m            \u001b[49m\u001b[43mcompletion_create_params\u001b[49m\u001b[38;5;241;43m.\u001b[39;49m\u001b[43mCompletionCreateParams\u001b[49m\u001b[43m,\u001b[49m\n\u001b[1;32m    316\u001b[0m \u001b[43m        \u001b[49m\u001b[43m)\u001b[49m\u001b[43m,\u001b[49m\n\u001b[1;32m    317\u001b[0m \u001b[43m        \u001b[49m\u001b[43moptions\u001b[49m\u001b[38;5;241;43m=\u001b[39;49m\u001b[43mmake_request_options\u001b[49m\u001b[43m(\u001b[49m\n\u001b[1;32m    318\u001b[0m \u001b[43m            \u001b[49m\u001b[43mextra_headers\u001b[49m\u001b[38;5;241;43m=\u001b[39;49m\u001b[43mextra_headers\u001b[49m\u001b[43m,\u001b[49m\u001b[43m \u001b[49m\u001b[43mextra_query\u001b[49m\u001b[38;5;241;43m=\u001b[39;49m\u001b[43mextra_query\u001b[49m\u001b[43m,\u001b[49m\u001b[43m \u001b[49m\u001b[43mextra_body\u001b[49m\u001b[38;5;241;43m=\u001b[39;49m\u001b[43mextra_body\u001b[49m\u001b[43m,\u001b[49m\u001b[43m \u001b[49m\u001b[43mtimeout\u001b[49m\u001b[38;5;241;43m=\u001b[39;49m\u001b[43mtimeout\u001b[49m\n\u001b[1;32m    319\u001b[0m \u001b[43m        \u001b[49m\u001b[43m)\u001b[49m\u001b[43m,\u001b[49m\n\u001b[1;32m    320\u001b[0m \u001b[43m        \u001b[49m\u001b[43mcast_to\u001b[49m\u001b[38;5;241;43m=\u001b[39;49m\u001b[43mChatCompletion\u001b[49m\u001b[43m,\u001b[49m\n\u001b[1;32m    321\u001b[0m \u001b[43m        \u001b[49m\u001b[43mstream\u001b[49m\u001b[38;5;241;43m=\u001b[39;49m\u001b[43mstream\u001b[49m\u001b[43m \u001b[49m\u001b[38;5;129;43;01mor\u001b[39;49;00m\u001b[43m \u001b[49m\u001b[38;5;28;43;01mFalse\u001b[39;49;00m\u001b[43m,\u001b[49m\n\u001b[1;32m    322\u001b[0m \u001b[43m        \u001b[49m\u001b[43mstream_cls\u001b[49m\u001b[38;5;241;43m=\u001b[39;49m\u001b[43mStream\u001b[49m\u001b[43m[\u001b[49m\u001b[43mChatCompletionChunk\u001b[49m\u001b[43m]\u001b[49m\u001b[43m,\u001b[49m\n\u001b[1;32m    323\u001b[0m \u001b[43m    \u001b[49m\u001b[43m)\u001b[49m\n",
      "File \u001b[0;32m/usr/local/python/3.10.13/lib/python3.10/site-packages/groq/_base_client.py:1225\u001b[0m, in \u001b[0;36mSyncAPIClient.post\u001b[0;34m(self, path, cast_to, body, options, files, stream, stream_cls)\u001b[0m\n\u001b[1;32m   1211\u001b[0m \u001b[38;5;28;01mdef\u001b[39;00m \u001b[38;5;21mpost\u001b[39m(\n\u001b[1;32m   1212\u001b[0m     \u001b[38;5;28mself\u001b[39m,\n\u001b[1;32m   1213\u001b[0m     path: \u001b[38;5;28mstr\u001b[39m,\n\u001b[0;32m   (...)\u001b[0m\n\u001b[1;32m   1220\u001b[0m     stream_cls: \u001b[38;5;28mtype\u001b[39m[_StreamT] \u001b[38;5;241m|\u001b[39m \u001b[38;5;28;01mNone\u001b[39;00m \u001b[38;5;241m=\u001b[39m \u001b[38;5;28;01mNone\u001b[39;00m,\n\u001b[1;32m   1221\u001b[0m ) \u001b[38;5;241m-\u001b[39m\u001b[38;5;241m>\u001b[39m ResponseT \u001b[38;5;241m|\u001b[39m _StreamT:\n\u001b[1;32m   1222\u001b[0m     opts \u001b[38;5;241m=\u001b[39m FinalRequestOptions\u001b[38;5;241m.\u001b[39mconstruct(\n\u001b[1;32m   1223\u001b[0m         method\u001b[38;5;241m=\u001b[39m\u001b[38;5;124m\"\u001b[39m\u001b[38;5;124mpost\u001b[39m\u001b[38;5;124m\"\u001b[39m, url\u001b[38;5;241m=\u001b[39mpath, json_data\u001b[38;5;241m=\u001b[39mbody, files\u001b[38;5;241m=\u001b[39mto_httpx_files(files), \u001b[38;5;241m*\u001b[39m\u001b[38;5;241m*\u001b[39moptions\n\u001b[1;32m   1224\u001b[0m     )\n\u001b[0;32m-> 1225\u001b[0m     \u001b[38;5;28;01mreturn\u001b[39;00m cast(ResponseT, \u001b[38;5;28;43mself\u001b[39;49m\u001b[38;5;241;43m.\u001b[39;49m\u001b[43mrequest\u001b[49m\u001b[43m(\u001b[49m\u001b[43mcast_to\u001b[49m\u001b[43m,\u001b[49m\u001b[43m \u001b[49m\u001b[43mopts\u001b[49m\u001b[43m,\u001b[49m\u001b[43m \u001b[49m\u001b[43mstream\u001b[49m\u001b[38;5;241;43m=\u001b[39;49m\u001b[43mstream\u001b[49m\u001b[43m,\u001b[49m\u001b[43m \u001b[49m\u001b[43mstream_cls\u001b[49m\u001b[38;5;241;43m=\u001b[39;49m\u001b[43mstream_cls\u001b[49m\u001b[43m)\u001b[49m)\n",
      "File \u001b[0;32m/usr/local/python/3.10.13/lib/python3.10/site-packages/groq/_base_client.py:920\u001b[0m, in \u001b[0;36mSyncAPIClient.request\u001b[0;34m(self, cast_to, options, remaining_retries, stream, stream_cls)\u001b[0m\n\u001b[1;32m    911\u001b[0m \u001b[38;5;28;01mdef\u001b[39;00m \u001b[38;5;21mrequest\u001b[39m(\n\u001b[1;32m    912\u001b[0m     \u001b[38;5;28mself\u001b[39m,\n\u001b[1;32m    913\u001b[0m     cast_to: Type[ResponseT],\n\u001b[0;32m   (...)\u001b[0m\n\u001b[1;32m    918\u001b[0m     stream_cls: \u001b[38;5;28mtype\u001b[39m[_StreamT] \u001b[38;5;241m|\u001b[39m \u001b[38;5;28;01mNone\u001b[39;00m \u001b[38;5;241m=\u001b[39m \u001b[38;5;28;01mNone\u001b[39;00m,\n\u001b[1;32m    919\u001b[0m ) \u001b[38;5;241m-\u001b[39m\u001b[38;5;241m>\u001b[39m ResponseT \u001b[38;5;241m|\u001b[39m _StreamT:\n\u001b[0;32m--> 920\u001b[0m     \u001b[38;5;28;01mreturn\u001b[39;00m \u001b[38;5;28;43mself\u001b[39;49m\u001b[38;5;241;43m.\u001b[39;49m\u001b[43m_request\u001b[49m\u001b[43m(\u001b[49m\n\u001b[1;32m    921\u001b[0m \u001b[43m        \u001b[49m\u001b[43mcast_to\u001b[49m\u001b[38;5;241;43m=\u001b[39;49m\u001b[43mcast_to\u001b[49m\u001b[43m,\u001b[49m\n\u001b[1;32m    922\u001b[0m \u001b[43m        \u001b[49m\u001b[43moptions\u001b[49m\u001b[38;5;241;43m=\u001b[39;49m\u001b[43moptions\u001b[49m\u001b[43m,\u001b[49m\n\u001b[1;32m    923\u001b[0m \u001b[43m        \u001b[49m\u001b[43mstream\u001b[49m\u001b[38;5;241;43m=\u001b[39;49m\u001b[43mstream\u001b[49m\u001b[43m,\u001b[49m\n\u001b[1;32m    924\u001b[0m \u001b[43m        \u001b[49m\u001b[43mstream_cls\u001b[49m\u001b[38;5;241;43m=\u001b[39;49m\u001b[43mstream_cls\u001b[49m\u001b[43m,\u001b[49m\n\u001b[1;32m    925\u001b[0m \u001b[43m        \u001b[49m\u001b[43mremaining_retries\u001b[49m\u001b[38;5;241;43m=\u001b[39;49m\u001b[43mremaining_retries\u001b[49m\u001b[43m,\u001b[49m\n\u001b[1;32m    926\u001b[0m \u001b[43m    \u001b[49m\u001b[43m)\u001b[49m\n",
      "File \u001b[0;32m/usr/local/python/3.10.13/lib/python3.10/site-packages/groq/_base_client.py:1003\u001b[0m, in \u001b[0;36mSyncAPIClient._request\u001b[0;34m(self, cast_to, options, remaining_retries, stream, stream_cls)\u001b[0m\n\u001b[1;32m   1001\u001b[0m \u001b[38;5;28;01mif\u001b[39;00m retries \u001b[38;5;241m>\u001b[39m \u001b[38;5;241m0\u001b[39m \u001b[38;5;129;01mand\u001b[39;00m \u001b[38;5;28mself\u001b[39m\u001b[38;5;241m.\u001b[39m_should_retry(err\u001b[38;5;241m.\u001b[39mresponse):\n\u001b[1;32m   1002\u001b[0m     err\u001b[38;5;241m.\u001b[39mresponse\u001b[38;5;241m.\u001b[39mclose()\n\u001b[0;32m-> 1003\u001b[0m     \u001b[38;5;28;01mreturn\u001b[39;00m \u001b[38;5;28;43mself\u001b[39;49m\u001b[38;5;241;43m.\u001b[39;49m\u001b[43m_retry_request\u001b[49m\u001b[43m(\u001b[49m\n\u001b[1;32m   1004\u001b[0m \u001b[43m        \u001b[49m\u001b[43moptions\u001b[49m\u001b[43m,\u001b[49m\n\u001b[1;32m   1005\u001b[0m \u001b[43m        \u001b[49m\u001b[43mcast_to\u001b[49m\u001b[43m,\u001b[49m\n\u001b[1;32m   1006\u001b[0m \u001b[43m        \u001b[49m\u001b[43mretries\u001b[49m\u001b[43m,\u001b[49m\n\u001b[1;32m   1007\u001b[0m \u001b[43m        \u001b[49m\u001b[43merr\u001b[49m\u001b[38;5;241;43m.\u001b[39;49m\u001b[43mresponse\u001b[49m\u001b[38;5;241;43m.\u001b[39;49m\u001b[43mheaders\u001b[49m\u001b[43m,\u001b[49m\n\u001b[1;32m   1008\u001b[0m \u001b[43m        \u001b[49m\u001b[43mstream\u001b[49m\u001b[38;5;241;43m=\u001b[39;49m\u001b[43mstream\u001b[49m\u001b[43m,\u001b[49m\n\u001b[1;32m   1009\u001b[0m \u001b[43m        \u001b[49m\u001b[43mstream_cls\u001b[49m\u001b[38;5;241;43m=\u001b[39;49m\u001b[43mstream_cls\u001b[49m\u001b[43m,\u001b[49m\n\u001b[1;32m   1010\u001b[0m \u001b[43m    \u001b[49m\u001b[43m)\u001b[49m\n\u001b[1;32m   1012\u001b[0m \u001b[38;5;66;03m# If the response is streamed then we need to explicitly read the response\u001b[39;00m\n\u001b[1;32m   1013\u001b[0m \u001b[38;5;66;03m# to completion before attempting to access the response text.\u001b[39;00m\n\u001b[1;32m   1014\u001b[0m \u001b[38;5;28;01mif\u001b[39;00m \u001b[38;5;129;01mnot\u001b[39;00m err\u001b[38;5;241m.\u001b[39mresponse\u001b[38;5;241m.\u001b[39mis_closed:\n",
      "File \u001b[0;32m/usr/local/python/3.10.13/lib/python3.10/site-packages/groq/_base_client.py:1049\u001b[0m, in \u001b[0;36mSyncAPIClient._retry_request\u001b[0;34m(self, options, cast_to, remaining_retries, response_headers, stream, stream_cls)\u001b[0m\n\u001b[1;32m   1045\u001b[0m log\u001b[38;5;241m.\u001b[39minfo(\u001b[38;5;124m\"\u001b[39m\u001b[38;5;124mRetrying request to \u001b[39m\u001b[38;5;132;01m%s\u001b[39;00m\u001b[38;5;124m in \u001b[39m\u001b[38;5;132;01m%f\u001b[39;00m\u001b[38;5;124m seconds\u001b[39m\u001b[38;5;124m\"\u001b[39m, options\u001b[38;5;241m.\u001b[39murl, timeout)\n\u001b[1;32m   1047\u001b[0m \u001b[38;5;66;03m# In a synchronous context we are blocking the entire thread. Up to the library user to run the client in a\u001b[39;00m\n\u001b[1;32m   1048\u001b[0m \u001b[38;5;66;03m# different thread if necessary.\u001b[39;00m\n\u001b[0;32m-> 1049\u001b[0m \u001b[43mtime\u001b[49m\u001b[38;5;241;43m.\u001b[39;49m\u001b[43msleep\u001b[49m\u001b[43m(\u001b[49m\u001b[43mtimeout\u001b[49m\u001b[43m)\u001b[49m\n\u001b[1;32m   1051\u001b[0m \u001b[38;5;28;01mreturn\u001b[39;00m \u001b[38;5;28mself\u001b[39m\u001b[38;5;241m.\u001b[39m_request(\n\u001b[1;32m   1052\u001b[0m     options\u001b[38;5;241m=\u001b[39moptions,\n\u001b[1;32m   1053\u001b[0m     cast_to\u001b[38;5;241m=\u001b[39mcast_to,\n\u001b[0;32m   (...)\u001b[0m\n\u001b[1;32m   1056\u001b[0m     stream_cls\u001b[38;5;241m=\u001b[39mstream_cls,\n\u001b[1;32m   1057\u001b[0m )\n",
      "\u001b[0;31mKeyboardInterrupt\u001b[0m: "
     ]
    }
   ],
   "source": [
    "\n",
    "for doc in tqdm(documents): \n",
    "    doc_id = doc['id']\n",
    "    if doc_id in results:\n",
    "        continue\n",
    "\n",
    "    questions = generate_questions(doc)\n",
    "    results[doc_id] = questions"
   ]
  },
  {
   "cell_type": "code",
   "execution_count": 22,
   "id": "0a19c03a-255d-49f4-929a-6de72e00c8fb",
   "metadata": {},
   "outputs": [
    {
     "data": {
      "text/plain": [
       "{'add14665': '[\\n\"What prompted the search for information related to a \\'collar george herbert essay\\'?\",\\n\"What type of resource yielded the answer to the search query?\",\\n\"What other related topics, aside from the essay itself, were mentioned in conjunction with the search query?\",\\n\"Based on the presence of other essay writing resources, what can be inferred about the individual\\'s needs or intentions?\",\\n\"What is the potential significance of a search query like \\'collar george herbert essay\\'?\"\\n] \\n',\n",
       " '1e9a1431': '[\\n\"What are some instances in which charitable giving, as described by the author, might actually make a social situation worse?\",\\n\"According to the author, what are some key ethical issues that can arise from a \\'give-back\\' business model?\",\\n\"How does the author critique the argument that companies should prioritize profit and then give back to charity?\",\\n\"What is the author\\'s opinion on the role of business in addressing social issues, beyond simple charitable donations?\",\\n\"The author mentions a documentary about poverty titled \\'Poverty Inc.\\' What is the main point of this documentary as it relates to the author\\'s overall argument?\"\\n] \\n',\n",
       " 'a7f2b936': '[\"What players were credited with a goal for the Edmonton Oilers?\",\\n\"What player on the Edmonton Oilers had the most shots on goal?\",\\n\"Which Edmonton Oilers player won the most faceoffs?\",\\n\"Who had the highest on-ice 5v5 shot attempt percentage for the Oilers?\",\\n\"Who had the lowest on-ice 5v5 shot attempt percentage for the Oilers?\"] \\n\\n\\n',\n",
       " '6f228e4e': '[\"What types of moves does Pearl Moving Company specialize in?\", \"Does Pearl Moving Company provide services for both residential and commercial clients?\", \"What makes Pearl Moving Company a good choice for people moving in 91390?\", \"Are there any additional services besides basic moving that Pearl Moving Company offers?\", \"Can you tell me more about the process of getting a moving quote from Pearl Moving Company?\"] \\n',\n",
       " '566dbcef': '[\"What type of scheduling work will a Senior Planning Engineer be tasked with? \",\\n\"What project documentation will a Senior Planning Engineer be required to create and maintain? \", \\n\"What kind of analysis will this role involve regarding project progress?\",\\n\"What software proficiency is expected of a Senior Planning Engineer?\",\\n\"Aside from technical skills, what personal attributes are important for this role?\"] \\n\\n\\n',\n",
       " '8a38bd8f': '[\"What kind of relationship is the person looking for?\", \"What are the specific qualities the person desires in a partner?\", \"What is the person hoping to achieve by posting on this forum?\", \"What are the parameters the person has set for the potential encounter?\", \"How does the person define a \\'real lady\\'?\"] \\n',\n",
       " 'a5ecc8e4': '[\"What is notable in the town of Grasse?\", \"Where does the river Siagne meet?\", \"Aside from the typical villages, what other locations does this region offer?\", \"What is special about the Verdon Gorge?\" , \"What type of family activities can be experienced near the property?\"] \\n\\n\\n',\n",
       " 'e4ffe1fc': '[\"What new definition of sexy is resonating with women today according to Lively\\'s director of marketing?\", \"What type of look are independent underwear brands, like Lively, trying to achieve?\", \"According to the article, what are some of the features that are becoming more common in undergarments?\", \"Aside from traditional lingerie styles, what other types of clothing are influencing the underwear market?\", \"What did people who stopped by Lively\\'s photo shoot say they liked about the brand\\'s style?\" ] \\n',\n",
       " 'ca195d5c': '{\\n\"questions\": [\\n\"What kinds of surface issues can develop on new fence pipes if they aren\\'t stored correctly?\",\\n\"How can problems like rust and white powder on new fence pipes be addressed?\",\\n\"What is the impact of improper storage on the production process?\",\\n\"Why is it important to limit the number of fence pipe layers when stacking?\",\\n\"What are the potential downsides of rainwater exposure on newly produced fence profiles?\"\\n]\\n} \\n\\n\\n',\n",
       " 'ecb893fa': '[\\n\"Who is the author of the tribute to the victims of 9/11?\",\\n\"What image is used as the top photo in the tribute?\",\\n\"What year was the poem \\'For The Fallen\\' written?\",\\n\"What specific lines are quoted from Laurence Binyon\\'s poem?\",\\n\"According to the record, what day did Kathleen M. Rodgers post her comment?\"\\n]\\n\\n',\n",
       " '6a06ecdd': '[\"What are some popular local attractions near hotels in Tallaght?\", \"Besides Tallaght Stadium, are there any other notable venues for entertainment or sports in Tallaght?\", \"What are some transportation options available within Tallaght for getting to different attractions?\", \"What is the name of the nearest airport to Tallaght and how far away is it?\", \"What are some shopping centers located near the hotels in Tallaght?\"] \\n',\n",
       " '975b0a35': '[\"What was the purpose of the commit with ID 5377377546fc2934106cdf540ff0c3c91f2b7feb?\", \"What specific file was changed in the commit with ID ad9d4571c0d3a134056bf6d361650864c8da9ddf?\", \"When was the commit with ID 5377377546fc2934106cdf540ff0c3c91f2b7feb made?\", \"Who made the commit with ID ad9d4571c0d3a134056bf6d361650864c8da9ddf?\", \"According to the log, what issue was resolved by the commit with ID 5377377546fc2934106cdf540ff0c3c91f2b7feb?\"] \\n',\n",
       " '2e96a379': '[\"What prompted the Stryker hip recall that occurred in July 2012?\", \"What specific issues were found with the Rejuvenate and ABG II stems?\", \"What steps has Stryker advised patients with these hip stems to take?\", \"Where were the complaints regarding the Stryker hip recall filed?\", \"What type of medical imaging did Stryker recommend for patients with the affected hip stems?\"] \\n',\n",
       " '9dd143f1': '[\"What are the two scheduling modes provided by Tivoli Storage Manager and how do they function?\",\\n\"What is the default scheduling mode used by Tivoli Storage Manager clients?\",\\n\"How can the default scheduling mode on the TSM server be changed to permit only one scheduling mode?\",\\n\"What needs to be done to have the server start sessions with clients instead of allowing clients to start sessions?\",\\n\"How can a user modify the scheduling mode on a client node?\"] \\n\\n\\n\\n',\n",
       " 'e5d29b1d': '[\\n\"If you can picture a future with this person, does that mean you might be falling in love?\",\\n\"Do you feel comfortable being open and honest with this person, even sharing your deepest fears and secrets?\",\\n\"Do you feel like you bring out the best in yourself when you are around this person?\",\\n\"Are you and this person able to laugh together easily?\",\\n\"Do you feel comfortable enough to be your true self around this person?\"\\n]\\n',\n",
       " '6c1de2ac': '[\\n\"What role did intellectuals play during the Jammeh regime?\",\\n\"How did intellectuals react to the Jammeh government\\'s suppression of dissenting voices?\",\\n\"According to the context, how did intellectuals contribute to the consolidation of freedom?\",\\n\"What does the context say about the necessary relationship between intellectuals and society\\'s masses?\",\\n\"What responsibilities does the context assign to intellectuals regarding truth and justice?\"\\n] \\n',\n",
       " '27118555': '[\"Can a project created in Premiere Elements 10 be opened in Premiere Elements 4?\", \"What happens if I try to open a Premiere Elements 10 project in Premiere Elements 4?\", \"Are there any consequences to opening an older Premiere Elements project in a newer version?\", \"What versions of Premiere Elements and Photoshop Elements are compatible?\", \"If a project was started in Photoshop Elements 6, how can it be brought into Premiere Elements 4?\" ] \\n',\n",
       " '211c163e': '[\"What is the best way to find good betting odds?\", \"What football matches are upcoming?\", \"What are some common betting tips for soccer?\", \"Are there any predictions for college football games?\", \"What is the typical win rate for mini-baccarat tables in Indianapolis, Indiana?\"] \\n',\n",
       " 'd70ed7ca': '[\"What is the make and model of the sailboat Dragonfly?\", \"How many cabins does Dragonfly have and how many have en suite bathrooms?\", \"What year was Dragonfly built and is it a chartered vessel?\", \"What type of engine does Dragonfly have and what is its horsepower?\", \"Where is Dragonfly currently located? \"]  \\n',\n",
       " '3e820c8a': '[\"What is the main reason the author chose to make no-bake desserts?\",\\n\"Besides being used in ice cream, what other desserts can Dulce de Leche be used in?\",\\n\"Aside from the core ingredients, what equipment is required to make this ice cream?\",\\n\"How long does the ice cream need to freeze before it is ready to eat?\",\\n\"Can the amount of chocolate chips and Dulce de Leche be adjusted in the recipe?\"] \\n\\n\\n',\n",
       " '0efba03c': '[\"What inspired the founding of The Music Coope?\",\\n\"How does The Music Coope address the common perception of musicians?\",\\n\"What inspired Kevin Prosch to use the cooperative model for The Music Coope?\",\\n\"What are the main goals The Music Coope aims to achieve for both its artists and fans?\",\\n\"What benefits can fans expect by joining The Music Coope?\" ] \\n',\n",
       " 'e816970d': '{\\n\"questions\": [\\n\"What qualities do ripped jeans demonstrate according to the author?\",\\n\"In the provided text, what are the author\\'s favorite types of jeans?\",\\n\"What is the author\\'s opinion on the importance of undertone when choosing clothing and makeup?\",\\n\"According to the author, what are the best things about Fall?\",\\n\"What does the author suggest to \\'brown girls\\' who are trying to figure out highlight and contouring practice?\"\\n]\\n}\\n\\n\\n\\n\\n\\n \\n',\n",
       " 'b9a68fc4': '[\\n\"What kinds of services do full-service restaurants in Collinwood typically provide?\",\\n\"What is the most common type of limited-service restaurant in Collinwood?\",\\n\"Besides price, what other factors do people consider when choosing a restaurant in Collinwood?\",\\n\"What are some characteristics that make a restaurant popular in Collinwood?\",\\n\"What is the significance of word-of-mouth advertising for restaurants in Collinwood?\"\\n] \\n',\n",
       " '0e25ce0a': '[\\n\"What inspired the second half of the movie \\'Wassup Rockers\\'?\",\\n\"Where did you find the actors for \\'Wassup Rockers\\'?\",\\n\"How did the real-life experiences of the actors influence the film?\",\\n\"What are the young actors in \\'Wassup Rockers\\' doing now?\",\\n\"Did you have any real-life interactions with Beverly Hills police while making the film?\"\\n] \\n',\n",
       " '36121f2c': '{\\n\"questions\": [\\n\"Where did Shirley Lenora Rost reside?\",\\n\"When did Shirley Lenora Rost pass away?\",\\n\"Who preceeded Shirley Lenora Rost in death?\",\\n\"Where will Shirley Lenora Rost be laid to rest?\",\\n\"How many sons and daughters did Shirley Lenora Rost have?\" \\n]\\n}  \\n',\n",
       " '72287de0': '[\\n\"What are some key ways that Moses and Jesus are similar?\",\\n\"Beyond being delivered from Egypt, how did Moses\\' experiences in the wilderness prepare him to be Israel\\'s deliverer?\",\\n\"What is the significance of Moses explicitly identifying himself as a prophet of the LORD in Deuteronomy 18:15?\",\\n\"What two questions did the soferim ask John the Baptist?\",\\n\"According to John 5:46, what did Jesus say about Moses and belief in him?\"\\n] \\n\\n\\n\\n',\n",
       " '467590f9': '[\"What is the type of sensor used in the camera?\", \"What size is the LCD screen and what is its resolution?\", \"What is the camera\\'s zoom range and its wide angle and telephoto focal lengths?\", \"What is the camera\\'s weight and does it allow for interchangeable lenses?\", \"What video format does the camera support and what kind of flash does it have? \"] \\n',\n",
       " 'b0f9c981': '[\"What is the general impression of Bloc Party\\'s album \"Four\" according to the context?\", \"What changes in musical direction are noted on \\'Four\\' compared to Bloc Party\\'s previous work?\", \"What are some of the musical influences cited in the description of \\'Four\\'?\", \"How does the reviewer feel about the album\\'s cover art?\", \"What were some of the challenges or tensions the band faced leading up to the release of \\'Four\\'?\"] \\n',\n",
       " '58a2b094': '[\\n\"What other coaching opportunity is Bob Hurley considering besides becoming a college assistant?\",\\n\"Why is the relationship between Fred Hill and Bob Hurley a positive sign for Rutgers basketball?\",\\n\"How many wins has Bob Hurley accumulated at St. Anthony High School?\",\\n\"What are St. Anthony coach Bob Hurley\\'s plans for the future?\",\\n\"What are the possible scenarios for Seton Hall coach Louis Orr\\'s future?\" \\n] \\n',\n",
       " '019e9f22': '[\"What were the objectives of the study published by Stefania Martignon et al. in 2008?\", \"What type of instruments were designed in the 2008 study?\", \"What factors did Veicy Morales and colleagues investigate in 2003?\", \"Which population was the focus of the 2008 study?\", \"Was NMS (Neuroleptic Malignant Syndrome) a result of the factors studied in 2003? \"]  \\n',\n",
       " '6a3308b8': '[\\n\"What specific steps did you take to achieve success with MOBE?\", \\n\"What do you consider to be the biggest advantages of the Dot Com Lifestyle?\",\\n\"How did you start your journey with affiliate marketing?\",\\n\"What advice would you give to someone who is just beginning to explore online income opportunities?\",\\n\"Besides MOBE, are there any other systems or strategies you recommend for generating online income?\"\\n]\\n\\n\\n',\n",
       " '9458bcf9': '[\\n\"What benefit does the \\'Ten Items or Less\\' Rule offer to players during character creation?\",\\n\"Why does the game designer believe that using the \\'Ten Items or Less\\' Rule promotes creative thinking?\",\\n\"What happens to a player\\'s gold after they select their ten free items?\",\\n\"According to the game designer, what other reasons besides simplicity does the \\'Ten Items or Less\\' Rule serve?\",\\n\"Except for the free items, what types of expenditures are players encouraged to make with their gold?\" \\n] \\n',\n",
       " 'ae7ca305': '[\"What kind of terrain does the road consist of?\", \"What does the dog like to do on the road?\", \"How does the dog feel after running and hiking on the road?\", \"What does the commenter mention about the owner?\",  \"What position does the other commenter mention the dog sleeping in? ] \\n',\n",
       " 'aa17d50e': '[\"What is the minimum amount of software industry experience required for this role?\", \"What specific Big Data technologies are emphasized for this position?\", \"Are there any preferred technologies or tools for Data warehousing and Business Intelligence?\", \"What type of software development methodologies are used in this team?\", \"What specific technical skills are necessary in addition to Hadoop expertise?\"] \\n',\n",
       " '99ba74e4': '[\"What is Sandy Sloane\\'s primary profession?\", \"What kind of topics has Sandy Sloane\\'s journalism covered?\", \"What organizations has Sandy Sloane worked with?\", \"Besides journalism, what other areas of expertise does Sandy Sloane have?\", \"What inspired Sandy Sloane to write children\\'s books?\"] \\n',\n",
       " '8038d148': '[\"What are some examples of trip deals offered in the record?\", \"What types of accommodations can be found through international youth hostels?\", \"The record mentions a special offer at KFC. What makes this deal notable?\", \"According to the record, what is the starting price for roundtrip flights to Salt Lake City?\", \"What specific details are included about a vacation package to Ponta Delgada?\"] \\n\\n\\n',\n",
       " 'b739723f': '[\"What is the shy person\\'s strategy for flirting with girls at work?\", \"How does the shy person\\'s strategy differ from approaches used by more confident individuals?\", \"What are some of the shy person\\'s perceived strengths that he utilizes in his approach?\", \"What is the initial step in the shy person\\'s flirting strategy?\", \"According to the shy person, what is the final step in his strategy for starting a conversation? \"] \\n',\n",
       " '5ffbbbb8': '[\"What is the name of the fantasy book series written by Charles de Lint that the author recommends?\", \"Which book does the author suggest as the best introduction to the Newford series?\", \"What are three books that tell a story about a character named Jilly?\", \"What recurring theme or challenge does the character Jilly face in the three books mentioned?\", \"Besides novels, what other type of fiction does the Newford series include?\" ] \\n',\n",
       " '7889b684': '[\\n\"Prior to his arrest, in what legal settings did Theofilos Mavropoulos express solidarity with the Conspiracy of Cells of Fire?\",\\n\"Besides the Conspiracy of Cells of Fire, what other anarchist group did Theofilos Mavropoulos express affiliation with?\",\\n\"How many imprisoned members did the Conspiracy of Cells of Fire have prior to Theofilos Mavropoulos joining?\",\\n\"In what month and year was Theofilos Mavropoulos arrested?\",\\n\"Where can we access Theofilos Mavropoulos\\' full court statement from the fourth CCF trial?\"\\n] \\n',\n",
       " '8c80ae5a': '[\"What are the primary materials used in the construction of the 2013 Mercedes-Benz SL?\",\"How does the 2013 SL\\'s powertrain compare to its predecessor?\",\"What are the suspension options available for the 2013 SL?\",\"Describe the retractable hard top feature of the 2013 SL.\",\"What are some of the innovative technologies featured in the 2013 SL? \"] \\n',\n",
       " '8f316b6c': '[\"What is the difficulty rating of the Tamarack Lake Hike?\", \"Does this hike require a car shuttle?\", \"What is the parking situation for this hike?\", \"Are there any safety concerns to be aware of on the trail?\", \"What is the approximate size of groups allowed on this hike?\"] \\n',\n",
       " '2f91c8ba': '[\\n\"What is the common criticism of The Guardian and the Daily Mail according to the discussion?\", \\n\"What kind of readership does the author believe both The Guardian and the Daily Mail have in common?\",\\n\"According to the discussion, how do both The Guardian and the Daily Mail view the world?\",\\n\"What does the author consider to be a flaw in the satirical portrayal of both The Guardian and the Daily Mail?\",\\n\"How does the discussion describe the evolution of The Guardian over time?\"\\n] \\n',\n",
       " 'dd3876e0': '[\\n\"What are you most thankful for that begins with the letter B?\",\\n\"What inspired your choice of \\'Children\\' for the letter C?\",\\n\"Besides the obvious appeal of \\'Ice Cream\\', what else makes  \\'A\\' a special letter for you?\",\\n\"In your post, you mentioned a special nickname for a family member. Could you tell us more about that?\",\\n\"What makes \\'Youth Sports\\' so rewarding for you?\"\\n]\\n\\n\\n',\n",
       " 'b3fdeb38': '[\\n\"What are some options for materials and styles when choosing wall letters for a baby\\'s room?\",\\n\"How can wall letters be personalized to match a specific theme or message?\",\\n\"Compared to other decorating methods, what makes wall letters a good choice for a baby\\'s room?\",\\n\"What are the advantages of using wall letters instead of murals or stencils?\",\\n\"Are there limitations in terms of size or color selection when it comes to wall letters?\"\\n] \\n',\n",
       " 'f7749360': '[\"What were the key themes discussed at the 2017 Information Management Symposium regarding data analysis in health insurance?\", \\n\"According to the discussions, how did Tableau benefit a customer and provider?\", \\n\"What new system architecture incorporating artificial intelligence was proposed at the symposium?\", \\n\"What is the importance of a good member patient index algorithm in health insurance?\", \\n\"How does Blue Cross Blue Shield of Michigan plan to use MiHIN to improve its services?\"]  \\n\\n\\n',\n",
       " 'eb21ad34': '[\\n\"Who is likely to be the primary defender tasked with marking Geraldine McLaughlin in the upcoming match?\",\\n\"After missing the previous Championship season, which Armagh player will likely return to the defense?\",\\n\"Besides Mairead Tennyson, who is another experienced defender on the Armagh team?\",\\n\"Which Armagh player is mentioned as a potential starter in place of Sharon Reel?\",\\n\"Aside from seeking promotion, what are two other significant goals Armagh hopes to achieve this season?\"\\n]   \\n\\n',\n",
       " '507d5c56': '[\\n\"What areas of expertise does the new Igor Sikorsky Distinguished Professor in Rotorcraft bring to the University of Maryland?\",\\n\"What is the purpose of the Igor Sikorsky Distinguished Professorship in Rotorcraft?\",\\n\"What is the name of the multibody dynamics code developed by Dr. Olivier Bauchau?\",\\n\"In addition to teaching and research, what is another important contribution Dr. Bauchau makes to the field of rotorcraft?\",\\n\"Which prestigious award did Dr. Bauchau recently receive for his work in multibody system dynamics?\"\\n] \\n\\n\\n',\n",
       " '94aa7f84': '[\\n\"What type of properties are being searched in the North Fort Myers Real Estate for Sale context?\",\\n\"What is the total number of properties found for this search category?\",\\n\"Describe the property with MLS ID: 216018694.\",\\n\"How many bedrooms and bathrooms are in the property with MLS ID: 217077463?\",\\n\"What year was the property with MLS ID: 217026797 built?\" \\n] \\n',\n",
       " 'c8d268e4': '[\"What is Stanley Whitney best known for?\",\\n\\'Who was awarded the Nordic Council Music Prize in 1991 for the first time?\\',\\n\"What was the theme of Iñaki Bonillas\\' photogravure series?\",\\n\"What is the subject of the exhibition described in the record?\",\\n\"What did Danish scientists succeed in proving in 1923?\"] \\n',\n",
       " 'a6ac03ed': '[\"What is the main focus of the online materials and \"electronic campfires\" offered by the Center?\", \"How does the Center for Youth & Community aim to make participation accessible to everyone?\", \"Who will be leading the \"Electronic Campfire\" emergent design experience?\", \"What is a key principle that the Center emphasizes in relation to youth and community development?\", \"What specific outcome does Dr. Blumenkrantz hope participants will achieve through this experience?\"] \\n',\n",
       " 'b4c7e55c': '[\"What are some common bricklaying tasks that a bricklayer in Langdon Hills might undertake?\", \"Besides Langdon Hills, what other nearby areas do you suggest checking for bricklayers?\", \"If I\\'m looking for a bricklayer who is both affordable and qualified, what resource would you recommend?\", \"Besides brickwork, what other types of construction services might a bricklayer in Langdon Hills offer?\", \"What is \\'Rated People\\', and why is it a good resource for finding bricklayers?\"]\\n\\n\\n\\n',\n",
       " 'e18494f1': '[\"What is one alternative the NCUA proposes to traditional payday loans?\", \"Which type of loan do federally chartered credit unions offer as an alternative to payday loans?\", \"How do the terms of \"payday alternative loans\" compare to traditional payday loans?\", \"What two types of expenses are payday loans typically intended to cover?\", \"Are payday loans intended for long-term borrowing?\"] \\n\\n\\n',\n",
       " '175284c1': '[\"Who are the residents of the Beverley Hills apartment and what are their professions?\", \"When were the Beverley Hills apartment buildings constructed?\", \"What architectural style is the Beverley Hills development known for?\", \"What is the name of Ellie King\\'s online store?\", \"According to Ellie, what does the Beverley Hills community value most?\"] \\n\\n\\n',\n",
       " 'c85427e6': '[\"What are the main benefits of using Quality Center for the testing process?\", \"How does Quality Center help to improve the quality of software products?\", \"What types of documents are managed through Quality Center?\", \"Can you describe how Quality Center supports both manual and automated testing?\", \"What is the role of requirements in the Quality Center testing process?\"]  \\n',\n",
       " '71f1020d': '[\"What is the name of the last race of the All Australian leg in the Clipper 2017-18 Round the World Yacht Race?\", \"When will the Clipper Race yachts arrive in Airlie Beach?\", \"How long will the \\'Wondrous Whitsundays Race\\' take?\", \"What is the name of the event that is planned to showcase Whitsundays  tourism?\", \"Why was \\'wondrous\\' chosen to describe the Whitsundays in event promotions?\" ] \\n\\n\\n',\n",
       " 'd55dd254': '[\\n\"What are some situations that might lead to higher homeowners insurance costs in a specific location?\",\\n\"How can reviewing your home insurance policy annually help you save money?\",\\n\"Before purchasing a home, what is an important consideration regarding insurance costs?\",\\n\"What steps can you take to potentially decrease homeowners insurance costs?\",\\n\"Besides the cost of rebuilding, what other factors should be considered when choosing a homeowner\\'s insurance policy?\"\\n] \\n',\n",
       " '3767022b': '[\"What is the primary reason for poor growth performance in newly weaned piglets?\",\\n\"What specific soybean proteins  cause problems for piglet digestion?\", \\n \"How does the inclusion of soybean meal in piglet diets impact gut health?\",\\n\"What is the mechanism by which protease helps to improve growth performance in piglets?\",\\n\"What were the observed effects of protease supplementation on growth performance and intestinal inflammation in nursery piglets?\" ] \\n',\n",
       " '37a2055a': '[\"What types of painting services are offered in Richardson, TX?\", \"What is the estimated average cost of painting a home in Richardson, TX?\", \"What factors can influence the price of painting a home in Richardson, TX?\", \"Are there any local painting businesses listed near Richardson, TX?\", \"How can I get a quote for painting services in Richardson, TX?\"] \\n',\n",
       " '073a9342': '[\"What is the North Carolina House Speaker Tim Moore\\'s primary focus as Speaker of the House?\",\"Which county does Speaker Tim Moore represent?\",\"What positive impact did recent reforms passed by the North Carolina House of Representatives have on the state\\'s economic climate?\",\"What are some examples of North Carolina\\'s economic success according to the N.C. Economic Development Association? \",\"How has tax revenue performed in North Carolina this year?\",] \\n',\n",
       " 'dd661ade': '[\\n\"What is the specific increased  risk  of heart disease events associated with endometriosis, particularly for women under 40?\",\\n\"In the research, how was the diagnosis of endometriosis confirmed?\",\\n\"Beyond age, what other factors related to endometriosis might contribute to a higher risk of coronary heart disease?\",\\n\"What recommendation do the researchers give for women with endometriosis regarding heart health?\",\\n\"What type of study design was used to examine the relationship between endometriosis and heart disease?\"\\n] \\n\\n',\n",
       " '6f1310d2': '[\"What types of furniture does Henredon sell?\", \"What is special about the furniture at Brylanehome?\", \"Which materials are used in the handmade furniture?\", \"Does Pottery Barn carry furniture for adults?\", \"What makes Via furniture distinctive?\"] \\n\\n\\n',\n",
       " 'f3a11033': '[\"What led to the British government giving the situation to the United Nations?\",\\n\"What was the outcome of the 1947 to 1949 war?\",\\n\"In what year did Israel gain control of the West Bank and Gaza Strip?\",\\n\"What restrictions are placed on Palestinians living in Israel?\",\\n\"What is the primary source of weaponry for Israel, according to the text?\"] \\n\\n\\n',\n",
       " '91c8e868': '[\"What is the primary crushing equipment used in sand and stone crushing lines?\", \"What type of crusher is the latest development based on feldspar stone crushing plants?\", \"What type of crushers are available for sale in Canada?\", \"What is the significance of small stone crushers in the mining industry?\", \"What are examples of companies that manufacture small stone crushers?\"] \\n',\n",
       " '6c14f7a2': '[\\n\"In the passage, it states that the Lord saw that there was no one to intercede for whom?\",\"What is written about the act of singing to the Lord a new song in this record?\",\"According to the text, how were the rulers and authorities disarmed?\",\"The passage mentions a torrent that swept people away, what is the name of this torrent?\",\"What does the passage state helped the righteous make many others righteous?\"\\n] \\n \\n\\n',\n",
       " '4cb3f17c': '[\"What is the previous name of Sri Lanka?\", \"Besides the beaches, what other type of attraction does this tour offer?\", \"Can a traveler customize this tour package?\", \"Does this tour provide an English-speaking driver?\", \"Approximately how long does this specific tour package last? \"]\\n',\n",
       " '242916e0': '[\\n\"The Reebok 1210 Elliptical Trainer is mentioned as being durable. What specific design element contributes to its durability?\",\\n\"The Reebok records mention several Reebok ellipticals. What makes the Reebok 1000 ZX elliptical unique compared to the others?\",\\n\"The Reebok 1000 X elliptical has a number of noteworthy features. What convenience feature does it offer for users with iPods?\",\\n\"Several Reebok ellipticals are highlighted for their design. What is distinctive about the appearance of the Reebok RL525 elliptical?\",\\n\"Outside of its core function, what additional benefits does the Reebok RL525 provide for users during workouts?\"\\n]\\n\\n\\n\\n\\n'}"
      ]
     },
     "execution_count": 22,
     "metadata": {},
     "output_type": "execute_result"
    }
   ],
   "source": [
    "results"
   ]
  },
  {
   "cell_type": "code",
   "execution_count": 23,
   "id": "86730183-0e1f-4895-b72e-1cbfab786ef2",
   "metadata": {},
   "outputs": [
    {
     "ename": "JSONDecodeError",
     "evalue": "Expecting ',' delimiter: line 1 column 57 (char 56)",
     "output_type": "error",
     "traceback": [
      "\u001b[0;31m---------------------------------------------------------------------------\u001b[0m",
      "\u001b[0;31mJSONDecodeError\u001b[0m                           Traceback (most recent call last)",
      "Cell \u001b[0;32mIn[23], line 4\u001b[0m\n\u001b[1;32m      1\u001b[0m parsed_resulst \u001b[38;5;241m=\u001b[39m {}\n\u001b[1;32m      3\u001b[0m \u001b[38;5;28;01mfor\u001b[39;00m doc_id, json_questions \u001b[38;5;129;01min\u001b[39;00m results\u001b[38;5;241m.\u001b[39mitems():\n\u001b[0;32m----> 4\u001b[0m     parsed_resulst[doc_id] \u001b[38;5;241m=\u001b[39m \u001b[43mjson\u001b[49m\u001b[38;5;241;43m.\u001b[39;49m\u001b[43mloads\u001b[49m\u001b[43m(\u001b[49m\u001b[43mjson_questions\u001b[49m\u001b[43m)\u001b[49m\n",
      "File \u001b[0;32m/usr/local/python/3.10.13/lib/python3.10/json/__init__.py:346\u001b[0m, in \u001b[0;36mloads\u001b[0;34m(s, cls, object_hook, parse_float, parse_int, parse_constant, object_pairs_hook, **kw)\u001b[0m\n\u001b[1;32m    341\u001b[0m     s \u001b[38;5;241m=\u001b[39m s\u001b[38;5;241m.\u001b[39mdecode(detect_encoding(s), \u001b[38;5;124m'\u001b[39m\u001b[38;5;124msurrogatepass\u001b[39m\u001b[38;5;124m'\u001b[39m)\n\u001b[1;32m    343\u001b[0m \u001b[38;5;28;01mif\u001b[39;00m (\u001b[38;5;28mcls\u001b[39m \u001b[38;5;129;01mis\u001b[39;00m \u001b[38;5;28;01mNone\u001b[39;00m \u001b[38;5;129;01mand\u001b[39;00m object_hook \u001b[38;5;129;01mis\u001b[39;00m \u001b[38;5;28;01mNone\u001b[39;00m \u001b[38;5;129;01mand\u001b[39;00m\n\u001b[1;32m    344\u001b[0m         parse_int \u001b[38;5;129;01mis\u001b[39;00m \u001b[38;5;28;01mNone\u001b[39;00m \u001b[38;5;129;01mand\u001b[39;00m parse_float \u001b[38;5;129;01mis\u001b[39;00m \u001b[38;5;28;01mNone\u001b[39;00m \u001b[38;5;129;01mand\u001b[39;00m\n\u001b[1;32m    345\u001b[0m         parse_constant \u001b[38;5;129;01mis\u001b[39;00m \u001b[38;5;28;01mNone\u001b[39;00m \u001b[38;5;129;01mand\u001b[39;00m object_pairs_hook \u001b[38;5;129;01mis\u001b[39;00m \u001b[38;5;28;01mNone\u001b[39;00m \u001b[38;5;129;01mand\u001b[39;00m \u001b[38;5;129;01mnot\u001b[39;00m kw):\n\u001b[0;32m--> 346\u001b[0m     \u001b[38;5;28;01mreturn\u001b[39;00m \u001b[43m_default_decoder\u001b[49m\u001b[38;5;241;43m.\u001b[39;49m\u001b[43mdecode\u001b[49m\u001b[43m(\u001b[49m\u001b[43ms\u001b[49m\u001b[43m)\u001b[49m\n\u001b[1;32m    347\u001b[0m \u001b[38;5;28;01mif\u001b[39;00m \u001b[38;5;28mcls\u001b[39m \u001b[38;5;129;01mis\u001b[39;00m \u001b[38;5;28;01mNone\u001b[39;00m:\n\u001b[1;32m    348\u001b[0m     \u001b[38;5;28mcls\u001b[39m \u001b[38;5;241m=\u001b[39m JSONDecoder\n",
      "File \u001b[0;32m/usr/local/python/3.10.13/lib/python3.10/json/decoder.py:337\u001b[0m, in \u001b[0;36mJSONDecoder.decode\u001b[0;34m(self, s, _w)\u001b[0m\n\u001b[1;32m    332\u001b[0m \u001b[38;5;28;01mdef\u001b[39;00m \u001b[38;5;21mdecode\u001b[39m(\u001b[38;5;28mself\u001b[39m, s, _w\u001b[38;5;241m=\u001b[39mWHITESPACE\u001b[38;5;241m.\u001b[39mmatch):\n\u001b[1;32m    333\u001b[0m \u001b[38;5;250m    \u001b[39m\u001b[38;5;124;03m\"\"\"Return the Python representation of ``s`` (a ``str`` instance\u001b[39;00m\n\u001b[1;32m    334\u001b[0m \u001b[38;5;124;03m    containing a JSON document).\u001b[39;00m\n\u001b[1;32m    335\u001b[0m \n\u001b[1;32m    336\u001b[0m \u001b[38;5;124;03m    \"\"\"\u001b[39;00m\n\u001b[0;32m--> 337\u001b[0m     obj, end \u001b[38;5;241m=\u001b[39m \u001b[38;5;28;43mself\u001b[39;49m\u001b[38;5;241;43m.\u001b[39;49m\u001b[43mraw_decode\u001b[49m\u001b[43m(\u001b[49m\u001b[43ms\u001b[49m\u001b[43m,\u001b[49m\u001b[43m \u001b[49m\u001b[43midx\u001b[49m\u001b[38;5;241;43m=\u001b[39;49m\u001b[43m_w\u001b[49m\u001b[43m(\u001b[49m\u001b[43ms\u001b[49m\u001b[43m,\u001b[49m\u001b[43m \u001b[49m\u001b[38;5;241;43m0\u001b[39;49m\u001b[43m)\u001b[49m\u001b[38;5;241;43m.\u001b[39;49m\u001b[43mend\u001b[49m\u001b[43m(\u001b[49m\u001b[43m)\u001b[49m\u001b[43m)\u001b[49m\n\u001b[1;32m    338\u001b[0m     end \u001b[38;5;241m=\u001b[39m _w(s, end)\u001b[38;5;241m.\u001b[39mend()\n\u001b[1;32m    339\u001b[0m     \u001b[38;5;28;01mif\u001b[39;00m end \u001b[38;5;241m!=\u001b[39m \u001b[38;5;28mlen\u001b[39m(s):\n",
      "File \u001b[0;32m/usr/local/python/3.10.13/lib/python3.10/json/decoder.py:353\u001b[0m, in \u001b[0;36mJSONDecoder.raw_decode\u001b[0;34m(self, s, idx)\u001b[0m\n\u001b[1;32m    344\u001b[0m \u001b[38;5;250m\u001b[39m\u001b[38;5;124;03m\"\"\"Decode a JSON document from ``s`` (a ``str`` beginning with\u001b[39;00m\n\u001b[1;32m    345\u001b[0m \u001b[38;5;124;03ma JSON document) and return a 2-tuple of the Python\u001b[39;00m\n\u001b[1;32m    346\u001b[0m \u001b[38;5;124;03mrepresentation and the index in ``s`` where the document ended.\u001b[39;00m\n\u001b[0;32m   (...)\u001b[0m\n\u001b[1;32m    350\u001b[0m \n\u001b[1;32m    351\u001b[0m \u001b[38;5;124;03m\"\"\"\u001b[39;00m\n\u001b[1;32m    352\u001b[0m \u001b[38;5;28;01mtry\u001b[39;00m:\n\u001b[0;32m--> 353\u001b[0m     obj, end \u001b[38;5;241m=\u001b[39m \u001b[38;5;28;43mself\u001b[39;49m\u001b[38;5;241;43m.\u001b[39;49m\u001b[43mscan_once\u001b[49m\u001b[43m(\u001b[49m\u001b[43ms\u001b[49m\u001b[43m,\u001b[49m\u001b[43m \u001b[49m\u001b[43midx\u001b[49m\u001b[43m)\u001b[49m\n\u001b[1;32m    354\u001b[0m \u001b[38;5;28;01mexcept\u001b[39;00m \u001b[38;5;167;01mStopIteration\u001b[39;00m \u001b[38;5;28;01mas\u001b[39;00m err:\n\u001b[1;32m    355\u001b[0m     \u001b[38;5;28;01mraise\u001b[39;00m JSONDecodeError(\u001b[38;5;124m\"\u001b[39m\u001b[38;5;124mExpecting value\u001b[39m\u001b[38;5;124m\"\u001b[39m, s, err\u001b[38;5;241m.\u001b[39mvalue) \u001b[38;5;28;01mfrom\u001b[39;00m \u001b[38;5;28;01mNone\u001b[39;00m\n",
      "\u001b[0;31mJSONDecodeError\u001b[0m: Expecting ',' delimiter: line 1 column 57 (char 56)"
     ]
    }
   ],
   "source": [
    "\n",
    "parsed_resulst = {}\n",
    "\n",
    "for doc_id, json_questions in results.items():\n",
    "    if \n",
    "    parsed_resulst[doc_id] = json.loads(json_questions)"
   ]
  },
  {
   "cell_type": "code",
   "execution_count": 24,
   "id": "ca375743-86c5-495a-8b63-274c4ab59c3c",
   "metadata": {},
   "outputs": [],
   "source": [
    "\n",
    "doc_index = {d['id']: d for d in documents}"
   ]
  },
  {
   "cell_type": "code",
   "execution_count": 26,
   "id": "82917155-3ea1-44ba-8d0b-67f449795624",
   "metadata": {},
   "outputs": [],
   "source": [
    "final_results = []\n",
    "\n",
    "for doc_id, questions in parsed_resulst.items():\n",
    "    context = doc_index[doc_id]['context']\n",
    "    for q in questions:\n",
    "        final_results.append((q, context, doc_id))"
   ]
  },
  {
   "cell_type": "code",
   "execution_count": 27,
   "id": "c2814125-ad98-46d8-81f8-6fd688195648",
   "metadata": {},
   "outputs": [],
   "source": [
    "\n",
    "import pandas as pd\n"
   ]
  },
  {
   "cell_type": "code",
   "execution_count": 28,
   "id": "be19ba78-84db-4b7c-948d-80fbb8abe6e2",
   "metadata": {},
   "outputs": [],
   "source": [
    "df = pd.DataFrame(final_results, columns=['question', 'course', 'document'])"
   ]
  },
  {
   "cell_type": "code",
   "execution_count": 29,
   "id": "41f5f396-a452-4301-a8ae-8a10d699c490",
   "metadata": {},
   "outputs": [
    {
     "data": {
      "text/html": [
       "<div>\n",
       "<style scoped>\n",
       "    .dataframe tbody tr th:only-of-type {\n",
       "        vertical-align: middle;\n",
       "    }\n",
       "\n",
       "    .dataframe tbody tr th {\n",
       "        vertical-align: top;\n",
       "    }\n",
       "\n",
       "    .dataframe thead th {\n",
       "        text-align: right;\n",
       "    }\n",
       "</style>\n",
       "<table border=\"1\" class=\"dataframe\">\n",
       "  <thead>\n",
       "    <tr style=\"text-align: right;\">\n",
       "      <th></th>\n",
       "      <th>question</th>\n",
       "      <th>course</th>\n",
       "      <th>document</th>\n",
       "    </tr>\n",
       "  </thead>\n",
       "  <tbody>\n",
       "    <tr>\n",
       "      <th>0</th>\n",
       "      <td>What prompted the search for information relat...</td>\n",
       "      <td>Francisco Rogers found the answer to a search ...</td>\n",
       "      <td>add14665</td>\n",
       "    </tr>\n",
       "    <tr>\n",
       "      <th>1</th>\n",
       "      <td>What type of resource yielded the answer to th...</td>\n",
       "      <td>Francisco Rogers found the answer to a search ...</td>\n",
       "      <td>add14665</td>\n",
       "    </tr>\n",
       "    <tr>\n",
       "      <th>2</th>\n",
       "      <td>What other related topics, aside from the essa...</td>\n",
       "      <td>Francisco Rogers found the answer to a search ...</td>\n",
       "      <td>add14665</td>\n",
       "    </tr>\n",
       "    <tr>\n",
       "      <th>3</th>\n",
       "      <td>Based on the presence of other essay writing r...</td>\n",
       "      <td>Francisco Rogers found the answer to a search ...</td>\n",
       "      <td>add14665</td>\n",
       "    </tr>\n",
       "    <tr>\n",
       "      <th>4</th>\n",
       "      <td>What is the potential significance of a search...</td>\n",
       "      <td>Francisco Rogers found the answer to a search ...</td>\n",
       "      <td>add14665</td>\n",
       "    </tr>\n",
       "    <tr>\n",
       "      <th>...</th>\n",
       "      <td>...</td>\n",
       "      <td>...</td>\n",
       "      <td>...</td>\n",
       "    </tr>\n",
       "    <tr>\n",
       "      <th>118</th>\n",
       "      <td>What is the type of sensor used in the camera?</td>\n",
       "      <td>Hey guys, I know I’ve been a little slow to po...</td>\n",
       "      <td>467590f9</td>\n",
       "    </tr>\n",
       "    <tr>\n",
       "      <th>119</th>\n",
       "      <td>What size is the LCD screen and what is its re...</td>\n",
       "      <td>Hey guys, I know I’ve been a little slow to po...</td>\n",
       "      <td>467590f9</td>\n",
       "    </tr>\n",
       "    <tr>\n",
       "      <th>120</th>\n",
       "      <td>What is the camera's zoom range and its wide a...</td>\n",
       "      <td>Hey guys, I know I’ve been a little slow to po...</td>\n",
       "      <td>467590f9</td>\n",
       "    </tr>\n",
       "    <tr>\n",
       "      <th>121</th>\n",
       "      <td>What is the camera's weight and does it allow ...</td>\n",
       "      <td>Hey guys, I know I’ve been a little slow to po...</td>\n",
       "      <td>467590f9</td>\n",
       "    </tr>\n",
       "    <tr>\n",
       "      <th>122</th>\n",
       "      <td>What video format does the camera support and ...</td>\n",
       "      <td>Hey guys, I know I’ve been a little slow to po...</td>\n",
       "      <td>467590f9</td>\n",
       "    </tr>\n",
       "  </tbody>\n",
       "</table>\n",
       "<p>123 rows × 3 columns</p>\n",
       "</div>"
      ],
      "text/plain": [
       "                                              question  \\\n",
       "0    What prompted the search for information relat...   \n",
       "1    What type of resource yielded the answer to th...   \n",
       "2    What other related topics, aside from the essa...   \n",
       "3    Based on the presence of other essay writing r...   \n",
       "4    What is the potential significance of a search...   \n",
       "..                                                 ...   \n",
       "118     What is the type of sensor used in the camera?   \n",
       "119  What size is the LCD screen and what is its re...   \n",
       "120  What is the camera's zoom range and its wide a...   \n",
       "121  What is the camera's weight and does it allow ...   \n",
       "122  What video format does the camera support and ...   \n",
       "\n",
       "                                                course  document  \n",
       "0    Francisco Rogers found the answer to a search ...  add14665  \n",
       "1    Francisco Rogers found the answer to a search ...  add14665  \n",
       "2    Francisco Rogers found the answer to a search ...  add14665  \n",
       "3    Francisco Rogers found the answer to a search ...  add14665  \n",
       "4    Francisco Rogers found the answer to a search ...  add14665  \n",
       "..                                                 ...       ...  \n",
       "118  Hey guys, I know I’ve been a little slow to po...  467590f9  \n",
       "119  Hey guys, I know I’ve been a little slow to po...  467590f9  \n",
       "120  Hey guys, I know I’ve been a little slow to po...  467590f9  \n",
       "121  Hey guys, I know I’ve been a little slow to po...  467590f9  \n",
       "122  Hey guys, I know I’ve been a little slow to po...  467590f9  \n",
       "\n",
       "[123 rows x 3 columns]"
      ]
     },
     "execution_count": 29,
     "metadata": {},
     "output_type": "execute_result"
    }
   ],
   "source": [
    "df"
   ]
  },
  {
   "cell_type": "code",
   "execution_count": null,
   "id": "548ce416-618a-48e7-a92e-fab056222045",
   "metadata": {},
   "outputs": [],
   "source": []
  }
 ],
 "metadata": {
  "kernelspec": {
   "display_name": "Python 3 (ipykernel)",
   "language": "python",
   "name": "python3"
  },
  "language_info": {
   "codemirror_mode": {
    "name": "ipython",
    "version": 3
   },
   "file_extension": ".py",
   "mimetype": "text/x-python",
   "name": "python",
   "nbconvert_exporter": "python",
   "pygments_lexer": "ipython3",
   "version": "3.10.13"
  }
 },
 "nbformat": 4,
 "nbformat_minor": 5
}
