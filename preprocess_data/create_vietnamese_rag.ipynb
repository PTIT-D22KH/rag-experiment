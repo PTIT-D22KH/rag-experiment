{
 "cells": [
  {
   "cell_type": "code",
   "execution_count": 1,
   "id": "f904cdcf-8d18-4535-a421-a5883a260ae9",
   "metadata": {},
   "outputs": [
    {
     "name": "stderr",
     "output_type": "stream",
     "text": [
      "/home/codespace/.local/lib/python3.10/site-packages/tqdm/auto.py:21: TqdmWarning: IProgress not found. Please update jupyter and ipywidgets. See https://ipywidgets.readthedocs.io/en/stable/user_install.html\n",
      "  from .autonotebook import tqdm as notebook_tqdm\n"
     ]
    }
   ],
   "source": [
    "import json\n",
    "from datasets import load_dataset\n"
   ]
  },
  {
   "cell_type": "code",
   "execution_count": 2,
   "id": "52e381b1-65b9-4200-b4a3-0eb5cc142de1",
   "metadata": {},
   "outputs": [],
   "source": [
    "rag_dataset = load_dataset(\"DuyTa/vi_RAG\", 'BKAI_RAG')"
   ]
  },
  {
   "cell_type": "code",
   "execution_count": 3,
   "id": "4a1574e7-db51-4744-bd3e-f8dc9f688f7b",
   "metadata": {},
   "outputs": [
    {
     "data": {
      "text/plain": [
       "{'question': 'Tại sao sương mù xuất hiện dày đặc ở TP HCM vào sáng 21/9?',\n",
       " 'answer': 'Sương mù xuất hiện dày đặc ở TP HCM vì mấy ngày trước mưa lớn khiến độ cao ẩm, khi đêm về nhiệt độ hạ xuống cộng với hơi nước có sẵn trong không khí đã ngưng tụ thành hạt sương. Đồng thời, do những khối không khí từ nơi khác đem thêm hơi ẩm tới tạo thành sương mù hỗn hợp. Mức ô nhiễm của TP HCM quá cao cũng là một yếu tố gây ra sương mù này.',\n",
       " 'context': ['ngữ cảnh 1: Sương mù dày đặc bao phủ Sài Gòn, người dân thích thú.  Sáng 21/9 sương mù xuất hiện dày đặc ở TP HCM kèm theo thời tiết se lạnh, khiến nhiều người thích thú..  Theo báo Dân Việt, tại các tuyến đường ven sông Sài Gòn như Mai Chí Thọ, Phạm Văn Đông...sương mù xuất hiện khá nhiều. Ngoài ra tại các huyện vùng ven như Bình Chánh, Nhà Bè....sương mù cũng khá nhiều, đứng xa khoảng 200m đã không nhìn thấy người lưu thông phía trước.. Sương mù xuất hiện vào sáng 21.9 tại nhiều quận huyện của TP.HCM. Ảnh: Dân Việt. Chị Nguyễn Thị Hương (ngụ quận 2) cho biết, sáng sớm chạy xe trên đường trời mát, sương mù bao phủ khắp phố phường cảm giác rất thích. Cảnh tượng nhìn giống ở Đà Lạt. Tuy nhiên, chị Hương cũng lo ngại hiện tượng này ảnh hưởng đến sức khỏe.. Đến khoảng 8h cùng ngày, khi những tia nắng hiện lên thì sương mù bắt đầu tan dần.. Những ngôi nhà cao tầng ẩn hiện trong làn sương mù. Ảnh: Dân Trí. Trước hiện tượng sương mù xuất hiện dày đặc ở TP HCM, trả lời báo Tri thức Trực tuyến, bà Lê Thị Xuân Lan, Chuyên gia Khí tượng cho biết, sương mù xuất hiện là do mấy ngày trước mưa lớn khiến độ cao ẩm, khi đêm về nhiệt độ hạ xuống cộng với hơi nước có sẵn trong không khí đã ngưng tụ thành hạt sương. Đồng thời, do những khối không khí từ nơi khác đem thêm hơi ẩm tới tạo thành sương mù hỗn hợp.. Ảnh: Tri thức Trực tuyến. Cũng theo bà Lan, do mức ô nhiễm của TP HCM quá cao nên sương mù xuất hiện dày đặc. Bà Lan cũng khẳng định đây là sương mù chứ không phải mù khô như một số thông tin.. Ảnh: Dân Việt. “Sương mù càng nhiều, mức độ ô nhiễm của không khí càng cao. Trong khi sương mù nó lãng đãng ở tầm thấp, người dân hít sương mù này thường sẽ mắc các bệnh về hô hấp. Người dân khi thấy sương mù nhiều thì cần cẩn trọng, che chắn bảo vệ lá phổi của mình”, chuyên gia khí tượng chia sẻ.',\n",
       "  'ngữ cảnh 2: Đội tuyển bóng đá nữ Việt Nam thắng đậm Myanmar tỷ số 3-1.  Chỉ cần cầm hòa Thái Lan và thắng thêm ĐT nữ Malaysia, ĐT nữ Việt Nam có thể giành HCV môn bóng đá nữ nhờ hơn đối thủ về hiệu số..  Sau trận thắng ĐT nữ Philippines, thầy trò HLV Mai Đức Chung bước vào trận gặp ĐT nữ Myanmar với quyết tâm rất lớn. Nhập cuộc tự tin, ĐT nữ Việt Nam tấn công dồn dập và tạo ra nhiều tình huống nguy hiểm về phía khung thành đối phương.. Phút 18, tận dụng sự lúng túng của hàng thủ Myanmar, Hải Yến đã lập công giúp ĐT Việt Nam vượt lên dẫn trước 1-0. Dù thi đấu với tâm lý thoải mái, các cô gái Việt Nam lại không thể ghi thêm bàn thắng nào trong suốt hiệp 1.. Các cầu thủ nữ Việt Nam vui mừng trước thắng lợi thứ 2 tại giải đấu năm nay.. Sau giờ nghỉ, ĐT nữ Việt Nam tiếp tục là đội chơi hay hơn, nhưng bất ngờ đã xảy ra khi ĐT nữ Myanmar lại có bàn thắng gỡ hòa. Phút 59, bắt nguồn từ một tình huống lơi là nơi hàng phòng ngự của ĐT nữ Việt Nam, ĐT nữ Myanmar đã có được bàn gỡ hòa 1-1 nhờ công của Theingi Tun.. Nhận bàn thua, ĐT nữ Việt Nam không hề nao núng, thay vào đó tiếp tục tràn lên tấn công và chúng ta đã làm được điều mình mong muốn, đó là những bàn thắng. Bích Thùy cùng Huỳnh Như ghi 2 bàn thắng đẹp mắt để giúp ĐT nữ Việt Nam đánh bại ĐT nữ Myanmar với tỷ số 3-1. Chiến thắng này giúp ĐT nữ Việt Nam tự tin hướng đến trận gặp đối thủ truyền kiếp ĐT nữ Thái Lan.. Ở trận đấu trước đó với Thái Lan, ĐT nữ Myanmar chỉ thua với tỷ số sát nút 2-3. Như vậy, chỉ cần cầm hòa Thái Lan và thắng thêm ĐT nữ Malaysia, ĐT nữ Việt Nam có thể giành HCV môn bóng đá nữ nhờ hơn đối thủ về hiệu số.',\n",
       "  'ngữ cảnh 3: Hà Thu liên tiếp giành 2 huy chương vàng tại Miss Earth 2017.  Đại diện Việt Nam vừa giành 2 Huy chương Vàng liên tiếp tại cuộc thi Hoa hậu Trái đất 2017..  Hà Thu. Tối 30/10, tại Manila (Philippines), nhiều danh hiệu, giải thưởng phụ trong khuôn khổ cuộc thi Hoa hậu Trái đất – Miss Earth 2017 đã được công bố. Danh hiệu “Hoa hậu Ảnh” đã thuộc về đại diện Việt Nam khi cô nhận được hơn 40.000 lượt likevà số lượt share kỷ lục: hơn 1 triệu trên mạng xã hội Facebook.. Cũng trong tối qua, Hoa hậu Trái đất - Miss Earth 2017 đã có phần thi trình diễn trang phục dân tộc. Đại diện Việt Nam - Á hậu Hà Thu xuất hiện trong bộ trang phục Chiến binh Hoa, được lấy cảm hứng từ hoa sen. Hà Thu mang đến hình ảnh người phụ nữ Việt Nam mạnh mẽ, tự tin. Vượt qua gần 90 thí sinh, hai tiếng Việt Nam lại được vang lên ở vị trí cao nhất.. Giải thưởng này được BGK đánh giá dựa trên các hoạt động vì môi trường của tất cả các thí sinh tham gia cuộc thi trong suốt hành trình của các người đẹp trước khi đến với Miss Earth 2017.. Trước đó, Hà Thu đã giành huy chương Vàng phần thi Trang phục đi biển, huy chương Đồng phần thi Tài năng, huy chương Đồng phần thi Trang phục dạ hội. Với hai chiến thắng tiếp theo này, người đẹp hiện đang dẫn đầu bảng thành tích các phần thi phụ ở Miss Earth năm nay. Đây cũng là thành tích cao nhất ở các phần thi phụ mà một đại diện Việt Nam giành được tại Hoa hậu Trái đất từ trước đến nay.. Hiện Hà Thu dẫn đầu bình chọn Hoa hậu ảnh tại Miss Earth 2017. Đến thời điểm hiện tại, Miss Earth 2017 đã đi qua hơn nửa chặng đường. Mới đây, chuyên trang sắc đẹp Missosology đã đưa ra danh sách dự đoán Top 20 thí sinh sáng giá nhất cuộc thi. Đại diện Việt Nam Hà Thu được dự đoán trở thành Á hậu 1 Miss Earth năm nay. Người đẹp đứng đầu danh sách này là thí sinh đến từ Puerto Rico.. Đêm chung kết Miss Earth sẽ diễn ra vào tối 4/11 tại Manila, Philippines.',\n",
       "  'ngữ cảnh 4: Đề xuất chế độ đãi ngộ giáo viên ngang bằng với công an, quân đội.  Phải xem đội ngũ nhà giáo là đội ngũ đặc biệt, có chế độ đãi ngộ đặc biệt (như quân đội, công an,…) để thu hút được nguồn nhân lực chất lượng cao vào ngành sư phạm....  TPHCM đề xuất chế độ đãi ngộ ngang bằng với công an, quân đội. Đó là đề nghị của UBND TPHCM với đoàn giám sát của Ủy ban Văn hóa, Giáo dục,. Thanh niên, Thiếu niên, Nhi đồng của Quốc hội.. Theo UBND TPHCM, ngành Giáo dục và Đào tạo Thành phố là đơn vị luôn đi đầu trong công cuộc đổi mới, tích cực, sáng tạo, năng động, mạnh dạn thí điểm nhiều giải pháp đột phá nhằm nâng cao hiệu suất, chất lượng giáo dục, đáp ứng nhu cầu nguồn nhân lực chất lượng cao, cung cấp nhân lực cho quá trình xây dựng và phát triển thành phố cũng như cả nước.. Nhiều Đề án, Chương trình có tính đột phá đã được Thành phố Hồ Chí Minh triển khai đem lại hiệu quả tích cực như: chương trình “Nhà ở cho cán bộ, giáo viên, nhân viên ngành giáo dục và đào tạo thành phố”; chương trình “Dạy và học các môn Toán, Khoa học và Tiếng Anh tích hợp chương trình Anh và Việt Nam”, các Đề án “Thẻ học đường thông minh - Thẻ SSC”, “Phổ cập và nâng cao năng lực sử dụng tiếng Anh cho học sinh phổ thông và chuyên nghiệp thành phố”; “Tuyển dụng, đào tạo, bồi dưỡng và chế độ chính sách đối với viên chức y tế trường học”; “Mô hình trường tiên tiến, hiện đại theo xu thế hội nhập quốc tế”; “Đề án Xóa mù chữ”; “Xây dựng Xã hội học tập”; “Nâng cao chất lượng công tác phổ biến giáo dục pháp luật trong nhà trường”.. Về luật giáo dục, UBND TPHCM cho rằng còn nhiều bất cập. Cụ thể, Luật Giáo dục định nghĩa “Nhà giáo” không bao gồm các cán bộ quản lý giáo dục. Vì vậy, gây khó khăn khi điều chuyển, bổ nhiệm các nhà giáo giỏi về công tác tại các đơn vị quản lý giáo dục (Sở Giáo dục và Đào tạo, các Phòng Giáo dục và Đào tạo). Việc triển khai thực hiện một số mô hình thí điểm tại Thành phố Hồ Chí Minh như mô hình “trường tiên tiến, hiện đại theo xu hướng hội nhập khu vực và quốc tế”, “trường tự chủ”,… chưa được quy định trong Luật Giáo dục nên gặp khó khăn (các trường theo mô hình tiên tiến phải đóng thuế).. Cũng theo UBND TPHCM, cần có sự linh hoạt trong một số quy định, cụ thể như định hướng mở trong biên chế năm học (thay vì 9 tháng/năm học như hiện nay); cơ cấu giờ, tiết học cũng linh hoạt (học 1 buổi, 2 buổi hoặc học cả ngày) để tiếp cận xu hướng thế giới và giảm ùn tắc giao thông, phù hợp đặc điểm của địa phương; cho phép sĩ số lớp học linh hoạt theo loại hình trường và đặc điểm địa phương; Nhằm đảm bảo mục tiêu học tập suốt đời, tăng tính phân luồng, bên cạnh hệ thống trường năng khiếu về thể dục thể thao, cần xây dựng hệ thống các trường chuyên về thẩm mỹ, nhạc, họa,… giúp đào tạo chuyên sâu từ nhỏ cho những học sinh sớm bộc lộ năng khiếu. Đồng thời, nghiên cứu thêm các quy định để học sinh nước ngoài có thể học tập chương trình phổ thông của Việt Nam tại các trường công lập.. Đặc biệt, UBND TPHCM đề nghị bổ sung Khoản 1 Điều 70, cụ thể: “Nhà giáo là những người làm nhiệm vụ giảng dạy, giáo dục trong nhà trường, cơ sở giáo dục khác hoặc đã có thời gian làm nhiệm vụ giảng dạy, giáo dục trong nhà trường, cơ sở giáo dục khác”. Đồng thời, phải xem đội ngũ nhà giáo là đội ngũ đặc biệt, có chế độ đãi ngộ đặc biệt (như quân đội, công an,…) để thu hút được nguồn nhân lực chất lượng cao vào ngành sư phạm.. Cho phép các địa phương có quy mô lớn bổ sung hệ thống trường bồi dưỡng giáo dục làm công tác bồi dưỡng định kỳ 5 năm, phục vụ việc sàng lọc, nâng cao trình độ giáo viên và thích ứng với sự thay đổi. Cần nâng chuẩn theo quy định của giáo viên các bậc học mầm non, tiểu học tối thiểu có bằng tốt nghiệp Cao đẳng.',\n",
       "  'ngữ cảnh 5: Triệu hồi Mercedes-Benz Metris đời 2016.  Khoảng 300 chiếc Mercedes-Benz Metris đời 2016 nằm trong danh sách bị triệu hồi..  Nguyên nhân được phía hãng đưa ra là do thông số kỹ thuật của bộ phận căng dây đai không đảm bảo an toàn do ảnh hưởng từ tỷ lệ chất liệu sản xuất bị sai.. Trong một số trường hợp, cuộn dây đai an toàn ở hàng ghế phía trước không hoạt động dẫn đến rủi ro chấn thương cao.. Mercedes-Benz sẽ gửi thông báo tới các khách hàng có xe nằm trong diện bị ảnh hưởng qua email vào đầu tháng 6.. Khi nhận được thông báo, khách hàng hãy mang xe đại lý gần nhất của Mercedes-Benz để kiểm tra và thay thế các dây đai kém chất lượng, hoàn toàn miễn phí.. Metris là mẫu xe tự hào với khả năng chuyên chở 1.134 kg, và khả năng kéo khoảng 2.268 kg, tương đương sức chở của một xe tải nhẹ thùng kín.. Khoang sau của Mercedes-Benz Metris có thể tích 5,267 mét khối, không gian xe rộng rãi hơn những mẫu xe tải cỡ bé hơn như Ford Transit Connect và Ram ProMaster City, đồng thời Metris vẫn nhỏ gọn hơn các phiên bản Transit, ProMaster, hay Sprinter.. Sức mạnh của xe đến từ động cơ tăng áp 4 xi lanh 2.0 lít, sản sinh 208 mã lực và mô men xoắn là 350 Nm. Sức mạnh này được truyền tới bánh sau thông qua một hộp số tự động 7 cấp.. Xe tiêu thụ bình quân 3,8 lít nhiên liệu sau khi đi được 34 km ở đường đô thị và 39 km ở đường cao tốc.']}"
      ]
     },
     "execution_count": 3,
     "metadata": {},
     "output_type": "execute_result"
    }
   ],
   "source": [
    "rag_dataset['train'][1]"
   ]
  },
  {
   "cell_type": "code",
   "execution_count": 4,
   "id": "00dbc22d-ddc5-48c9-b37e-9319d7039489",
   "metadata": {},
   "outputs": [],
   "source": [
    "rag_dataset1 = load_dataset(\"DuyTa/vi_RAG\", 'LegalRAG')"
   ]
  },
  {
   "cell_type": "code",
   "execution_count": 5,
   "id": "c03c2b43-8cd6-49fd-9335-0c031fac5cde",
   "metadata": {},
   "outputs": [],
   "source": [
    "rag_dataset2 = load_dataset(\"DuyTa/vi_RAG\", 'expert')"
   ]
  },
  {
   "cell_type": "code",
   "execution_count": 6,
   "id": "c937804b-a797-4f7b-871a-8d991c4c2c6f",
   "metadata": {},
   "outputs": [],
   "source": [
    "rag_dataset3 = load_dataset(\"DuyTa/vi_RAG\", 'viQuAD')"
   ]
  },
  {
   "cell_type": "code",
   "execution_count": 7,
   "id": "3e548d19-0664-4e2e-931c-cd41a7ddde90",
   "metadata": {},
   "outputs": [],
   "source": [
    "instances_list = []"
   ]
  },
  {
   "cell_type": "code",
   "execution_count": 8,
   "id": "7a8e0028-67db-4044-a883-23587e81a2c6",
   "metadata": {},
   "outputs": [],
   "source": [
    "def create_data_json(rag_dataset, group_name):\n",
    "    # Iterate over each instance in the 'train' split\n",
    "    for instance in rag_dataset['train']:\n",
    "        # Create a dictionary for the current instance and append it to the list\n",
    "        instances_list.append({\n",
    "            \"group\": group_name,\n",
    "            \"context\": ' '.join(instance[\"context\"]),\n",
    "            \"question\": instance[\"question\"],\n",
    "            \"answer\": instance[\"answer\"]\n",
    "        })\n",
    "    "
   ]
  },
  {
   "cell_type": "code",
   "execution_count": 9,
   "id": "a4ac4b26-4306-4206-8dc2-fe2f3eb0ac8f",
   "metadata": {},
   "outputs": [],
   "source": [
    "create_data_json(rag_dataset, \"General\")\n",
    "create_data_json(rag_dataset1, \"Legal\")"
   ]
  },
  {
   "cell_type": "code",
   "execution_count": 10,
   "id": "32664886-b480-4ffa-a0d2-cd2d3fa9ab14",
   "metadata": {},
   "outputs": [],
   "source": [
    "for instance in rag_dataset2['train']:\n",
    "        # Create a dictionary for the current instance and append it to the list\n",
    "        instances_list.append({\n",
    "            \"group\": \"Expert\",\n",
    "            \"context\": instance[\"revised_claims\"],\n",
    "            \"question\": instance[\"question\"],\n",
    "            \"answer\": instance[\"revised_answer\"]\n",
    "        })"
   ]
  },
  {
   "cell_type": "code",
   "execution_count": 11,
   "id": "6f15fef6-d059-4b23-ae79-14af3fe05389",
   "metadata": {},
   "outputs": [],
   "source": [
    "# Save the list of instances to a JSON file\n",
    "with open('../data/vietnamese_rag/documents.json', 'w', encoding='utf-8') as f:\n",
    "    json.dump(instances_list, f, ensure_ascii=False, indent=4)"
   ]
  },
  {
   "cell_type": "code",
   "execution_count": 12,
   "id": "d3e53d4c-22ca-42d4-b0f8-1b63d733b3fb",
   "metadata": {},
   "outputs": [],
   "source": [
    "with open('../data/vietnamese_rag/documents.json', 'rt') as f_in:\n",
    "    documents = json.load(f_in)"
   ]
  },
  {
   "cell_type": "code",
   "execution_count": 13,
   "id": "f4f44b15-4fe2-4cd4-af0f-04497721985d",
   "metadata": {},
   "outputs": [
    {
     "data": {
      "text/plain": [
       "{'group': 'General',\n",
       " 'context': 'ngữ cảnh 1: Vượt qua nỗi sợ hãi, Minh Tú xuất sắc vào chung kết Asia\\'s Next Top Model.  Bỏ qua hết những lo lắng về căn bệnh tim, Minh Tú đã hết sức chế ngự sự sợ hãi và hoàn thành tốt phần thử thách đi catwalk khi bị treo lơ lửng trên một tòa nhà cao tầng và dành chiếc vé vào đêm chung kết Asia’s Next Top Model..  Tối ngày 21/6, tập 12 của chương trình Asia’ Next Top Model mùa thứ 5 đã được lên sóng. 4 thí sinh cùng giám khảo bí mật Xiao Qing bước vào phần thi thử thách đặc biệt là đi catwalk khi bị treo lơ lửng trên một tòa nhà cao tầng. Các cô gái phải vừa tạo dáng vừa thể hiện được sự mạnh mẽ, quyến rũ riêng.. Mặc dù có bệnh về tim nhưng Minh Tú đã cố gắng hết sức chế ngự sự sợ hãi và hoàn thành tốt phần thử thách này. Thí sinh chiến thắng là Shikin và đại diện Việt Nam cũng không kém cạnh gì khi xuất sắc xếp ở vị trí thứ 2, báo GĐVN đưa tin.. Bước vào thử thách, Minh Tú hét lớn: “Tôi còn nhiều việc chưa làm được đâu” vì sợ sẽ rơi xuống tuy nhiên chỉ sau vài bước đi, cô hoàn toàn xác định được cách catwalk. Càng tiến tới, Minh Tú càng cảm thấy thú vị, nỗi sợ hãi dần biến mất và tự tin tạo dáng giữa đường đi, nở nụ cười suốt 6 tầng lầu.. Minh Tú đã cố gắng hết sức chế ngự sự sợ hãi và hoàn thành tốt phần thử thách khó khăn này. Ảnh chụp màn hình. Theo tin tức trên báo VTC, chủ đề của buổi chụp ảnh loại trừ tuần này do chính thí sinh tạo nên từ đạo cụ, trang phục có sẵn. Minh Tú chọn cho mình hình ảnh một phụ nữ cổ điển và thành đạt đề giúp cô kiềm chế được nét gợi cảm của mình. Người đẹp nỗ lực không tạo dáng quá nhiều mà tập trung vào cơ mặt và nhân vật.. Minh Tú có bức hình đẹp thứ 2 và chắc chắn giành chiếc vé vào đêm chung kết. Ảnh: SW. Một lần nữa, Minh Tú lại nhận được sự tán thưởng từ dàn giám khảo. Giám đốc sáng tạo Yu Tsai cho biết anh “ngã mũ” trước phần thể hiện của Minh Tú. Sau khi “lộ mặt” là một giám khảo ẩn danh, cựu người mẫu Xiaoqing chia sẻ Minh Tú ngoài đam mê còn ẩn chứa tính cách triết lý và cho biết Minh Tú sẵn sàng cạnh tranh với một thí sinh mới chứ không hề kêu ca bất công.. Kết quả chung cuộc, Shikin là thí sinh có bức hình đẹp nhất. Về thứ 2 là Minh Tú và thứ 3 là Maureen. Clara là thí sinh bị loại trong tuần này. Như vậy, đại diện của Việt Nam đã tạo nên kỳ tích khi chính thức được bước vào Chung kết “Asia’s Next Top Model” năm nay để giành ngôi vị quán quân. ngữ cảnh 2: Thuốc Vidatox 30CH chưa cấp phép bán, kê đơn nhưng có tiền vẫn mua được.  Sau khi khảo sát tại các hiệu thuốc gần cổng bệnh viện K- cơ sở Tam Hiệp (Thanh Trì, Hà Nội), chúng tôi đã có đầu mối mua thuốc Vidatox 30CH- loại thuốc chưa được cấp phép bán, kê đơn tại VN..  Mặc dù các quầy thuốc tại cổng bệnh viện K (Thanh Trì, Hà Nội) khẳng định không bán loại thuốc Vidatox 30CH nhưng một nhân viên của tiệm thuốc đã mách nước cho PV đến các hiệu thuốc đối diện cổng bệnh viện Bạch Mai sẽ được đáp ứng nhu cầu.. Sau một vòng dạo qua “chợ tân dược” đối diện cổng bệnh viện Bạch Mai, bất ngờ, tại một tiệm thuốc, khi PV đưa ra tờ giấy có kê 5 loại TPCN hỗ trợ điều trị ung thư nữ nhân viên nhanh nhảu cho biết: “Vidatox thì có”.. Nhân viên bán hàng đang tư vấn cho PV về cách dùng thuốc Vidatox 30CH (Ảnh N.H). Ngay lập tức, chị này gọi điện cho một người đàn ông để thông tin: “Có chị hỏi Vidatox, anh còn không, chị ấy đang ở đây, có hàng thì mang xuống nhé”. Trong khi chúng tôi ngồi chờ để xem hàng, nữ nhân viên này tiếp lời: “Mấy loại kia cửa hàng em không có, chỉ có Vidatox thôi. Chị có lấy không, giờ anh ấy mang xuống\".. Khoảng 10 phút, người đàn ông mang theo 1 lọ Vidatox 30CH từ nơi khác ra cửa hàng thuốc. Theo quảng cáo của người đàn ông này, Vidatox bọ cạp, dạng nhỏ giọt rất tốt cho bệnh nhân ung thư. Khi PV thắc mắc toàn tiếng nước ngoài thì người đàn ông này lấp lửng: “Cái này là bà chị của em mang cho người nhà, em bán hộ. Mua nhiều quá người nhà không dùng hết. 1,8 triệu đồng/lọ thôi, chị mua ở ngoài làm gì có giá đó”.. Để tạo tin tưởng với chúng tôi, nữ nhân viên bồi thêm: “Ngày trước bạn em mua 4 triệu, giá này là rẻ nhất rồi”. Không dừng lại ở đó, nữ nhân viên còn khẳng định đây là thuốc của Cu Ba hỗ trợ điều trị ung thư. PV thắc mắc, bệnh ung thư ruột có dùng được không thì chị này nói: “Người thân của bạn em bị ung thư gan cũng sử dụng được”.. Người đàn ông khẳng định đây là hàng xách tay, ở Việt Nam không nhập khẩu thuốc này. “Hạn sử dụng đến tháng 12/2019, chị không mua đến lúc cần lại không có hàng đâu”, người đàn ông nói.. Với chiêu thức bán hàng “điều khiển từ xa” này, theo tìm hiểu của PV, cách đây khoảng một tuần, các hiệu thuốc trước bệnh viện K (cơ sở Tam Hiệp, Thanh Trì và cơ sở Tân Triều, Hà Nội) vẫn áp dụng nhưng sau khi đường dây thuốc ung thư giả bị triệt phá, các hiệu thuốc bị \"đánh động\" và không dám “xuất đầu lộ diện”.. Còn nữa... ngữ cảnh 3: Nam thanh niên thoát chết tới hai lần chỉ trong vài giây.  Nam thanh niên đứng trên vỉa hè đã hai lần thoát chết một cách thần kỳ chỉ trong vài giây ngắn ngủi..  Nam thanh niên đứng trên vỉa hè đã hai lần thoát chết một cách thần kỳ chỉ trong vài giây ngắn ngủi.. DailyMail đăng tải đoạn video ghi lại cảnh thoát chết hi hữu và khó tin xảy ra tại thành phố Hồ Lô Đảo (tỉnh Liêu Ninh, Trung Quốc) hồi cuối tuần trước.. Theo đó, một nam thanh niên đang đứng trên vỉa hè nghe điện thoại bất ngờ bị ô tô lao tới suýt đâm trúng. Anh chàng này đã thoát chết nhờ chiếc xe bị chặn giữa bởi cột đèn đường.. Chưa dừng lại ở đó, chính vì sức ép của vụ va chạm đã khiến cột đèn đường rơi thẳng xuống ngay bên cạnh chỗ nam thanh niên này.. May mắn là cả hai lần anh chàng đều không bị ảnh hưởng gì. ngữ cảnh 4: Điểm mặt môtô siêu rẻ giá chỉ dưới 30 triệu đồng.  Nếu đang có ý định mua xe môtô côn tay, bạn có thể tham khảo những mẫu xe giá rẻ chỉ dưới 30 triệu đồng sau đây..  Bajaj Pulsar NS 160 mới ra mắt là một trong những mẫu xe môtô siêu rẻ đáng mua nhất hiện nay. Với chỉ 28 triệu đồng bạn có thể sở hữu xe mô tô kiểu dáng thể thao, động cơ 160 cc mạnh mẽ, xi-lanh đơn, làm mát bằng không khí cho công suất và mô men xoắn cực đại lần lượt là 15 mã lực và 14,6 Nm. Hệ thống treo của Bajaj Pulsar NS 160 bao gồm các phuộc lồng phía trước cùng với một giảm xóc monoshock ở phía sau.. Cùng dòng xe Bajaj có mẫu Pulsar 180 cũng có giá bán dưới 30 triệu đồng. Bajaj Pulsar 180 sở hữu một động cơ 179 cc, cho công suất và mô-men xoắn tương ứng 16,8 mã lực và 14 Nm. Với thiết lập này, Pulsar 180 đạt tốc độ tối đa 122 km/h và mang lại hiệu suất nhiên liệu kết hợp 40 km/l. Xe có giá bán khoảng 28,5 triệu đồng.. Nằm trong phân khúc xe môtô dưới 30 triệu, chất lượng tốt phải kể đến Bajaj Avenger 150 Street, một trong những chiếc xe bán chạy nhất của Bajaj. Dù có giá chỉ 28,3 triệu đồng nhưng Avenger 150 Street 0 được cung cấp sức mạnh từ một động cơ 149 cc, xi lanh đơn, làm mát bằng không khí và kết hợp với hộp số năm cấp. Động cơ này cho công suất 14,3 mã lực cùng với mô men xoắn cực đại 12,5 Nm.. Thấp giá hơn rất nhiều nữa là mẫu Honda CB Unicorn 160 chỉ 25,7 triệu. Xe sở hữu kiểu dáng đường phố khá hầm hố, chất chơi. Cùng với đó là động 162 cc, xi lanh đơn gắn với hộp số năm cấp. Xe được trang bị hệ thống phanh kết hợp (CBS) nhằm mang lại hệ thống phanh an toàn và hiệu quả.. Xe môtô thể thao Xtreme Sports có giá 28,1 triệu đồng khá được ưa chuộng hiện nay. Chiếc xe nhỏ gọn sở hữu động cơ 149 cc. Chiếc xe có thể đạt tốc độ tối đa 115 km/h và khả năng tiêu thụ nhiên liệu 55 km/l.. Suzuki Gixxer SP 28,4 triệu đồng dáng cao ráo, rất ngầu cũng có thể là một sự lựa chọn tốt cho những tín đồ mê dòng .. Mẫu xe cơ bắp Yamaha FZ rất hút khách hàng trẻ tuổi bởi kiểu dáng mạnh mẽ của nó. Cũng chính vì thế nó có giá 29 triệu đồng, khá nhỉnh hơn một chút so với các mẫu cùng phân khúc 149 cc.. Môtô Apache RTR 160 sở hữu một số tính năng lấy cảm hứng từ cuộc đua bộ đếm thời gian từ 0 đến 60 giây, đầu ghi tốc độ cao.... Xe có thể đạt tốc độ tối đa 118 km/h. Xe có mức giá 76.865 rupee (26,9 triệu đồng).. Hero Achiever 2017 mới ra mắt vào đầu năm nay nhưng sức hút của nó không hề nhỏ. Hero Achiever 2017 được đánh giá lá mẫu xe có khả năng tiết kiệm nhiên liệu tốt. Xe có giá rất rẻ chỉ 23 triệu đồng.. TVS Apache RTR 180 sẽ là mẫu xe rất phù hợp cho những ai có sở thích phong cách đường phố. TVS Apache RTR 180 được sức mạnh từ một động cơ 177cc, xi-lanh đơn, làm mát bằng không khí, kết hợp với một hộp số năm cấp. Và... nó có giá 28,2 triệu đồng. ngữ cảnh 5: Chủ nghĩa thân hữu.  .  Mới 9 tỉnh, thành phố. Qua một đợt kiểm tra. Ngót 60 quan chức. Là con cháu, người nhà. Chuyện này đâu có mới. Xưa như trái đất rồi. Nay chỉ thêm trầm trọng. Và có ở nhiều nơi. Tính đúng và tính đủ. Con số hẳn rất to. \"Chủ nghĩa thân hữu\" đấy. Tên gọi đã thấy lo!. Nguồn cơn từ đâu nhỉ. Con cháu ai chả thương. Nếu thật sự tài giỏi. Đâu có gì bất thường. Sao phải bằng mọi giá. Kéo nhau vào công đường. Nơi cần phải gìn giữ. Pháp luật và kỷ cương. Bách tính cần minh bạch. \"Quân pháp bất vị thân\". Lời người xưa đã dạy. Nhiều vị chẳng giữ mình!. Không chỉ người ruột thịt. Còn chiến hữu bạn bè. Thêm cả kẻ chạy chọt. Những chiếc ghế nhỏ to. Nếu để thành phe nhóm. Pháp luật dễ cong queo. Cuộc chiến giành lợi ích. Mọi thứ lộn tùng phèo. Điều khó khăn hơn cả. Mọi thứ không phân minh. Khi đều mang dấu ấn:. Bổ nhiệm đúng quy trình!. Cần công khai, chặt chẽ. Có giám sát của dân. Luật Hồi Tỵ đã có. Từ thời Lê Thánh Tông. Phải Dĩ Công Vi Thượng. Bác Hồ đã dặn rồi. Những quy trình đừng để. Chỉ là hình thức thôi. Xã hội không yên ổn. Tham nhũng và quan liêu. Khi chủ nghĩa thân hữu. Gây ra biết bao điều. Hãy tuyển người tài đức. Vào bộ máy công quyền. Không phe nhóm lợi ích. Mới có cơ tiến lên!',\n",
       " 'question': 'Minh Tú đã đạt được thành tích gì trong chương trình Asia’ Next Top Model mùa thứ 5?',\n",
       " 'answer': 'Minh Tú đã vượt qua sự sợ hãi để hoàn thành tốt phần thử thách đi catwalk khi bị treo lơ lửng trên một tòa nhà cao tầng và đạt vị trí thứ 2 trong đêm chung kết của chương trình.'}"
      ]
     },
     "execution_count": 13,
     "metadata": {},
     "output_type": "execute_result"
    }
   ],
   "source": [
    "documents[0]"
   ]
  },
  {
   "cell_type": "code",
   "execution_count": null,
   "id": "f29b0a86-7bea-40c1-996f-8486b8fe987f",
   "metadata": {},
   "outputs": [],
   "source": []
  },
  {
   "cell_type": "code",
   "execution_count": null,
   "id": "1ed76b0b-2678-45ed-82cc-22be11ee9b51",
   "metadata": {},
   "outputs": [],
   "source": []
  },
  {
   "cell_type": "code",
   "execution_count": null,
   "id": "384f5aae-ad06-434c-978a-5644d05b6ae4",
   "metadata": {},
   "outputs": [],
   "source": []
  },
  {
   "cell_type": "code",
   "execution_count": null,
   "id": "c288902c-2ffd-424d-b389-ed12891e3fac",
   "metadata": {},
   "outputs": [],
   "source": []
  },
  {
   "cell_type": "code",
   "execution_count": null,
   "id": "91957ef6-cc1f-4f83-b8cf-2587365a9c88",
   "metadata": {},
   "outputs": [],
   "source": []
  }
 ],
 "metadata": {
  "kernelspec": {
   "display_name": "Python 3 (ipykernel)",
   "language": "python",
   "name": "python3"
  },
  "language_info": {
   "codemirror_mode": {
    "name": "ipython",
    "version": 3
   },
   "file_extension": ".py",
   "mimetype": "text/x-python",
   "name": "python",
   "nbconvert_exporter": "python",
   "pygments_lexer": "ipython3",
   "version": "3.10.13"
  }
 },
 "nbformat": 4,
 "nbformat_minor": 5
}
