{
 "cells": [
  {
   "cell_type": "code",
   "execution_count": 1,
   "id": "62d51ecb-db7c-4148-a74e-3169cebaedb0",
   "metadata": {},
   "outputs": [
    {
     "name": "stderr",
     "output_type": "stream",
     "text": [
      "/home/codespace/.local/lib/python3.10/site-packages/tqdm/auto.py:21: TqdmWarning: IProgress not found. Please update jupyter and ipywidgets. See https://ipywidgets.readthedocs.io/en/stable/user_install.html\n",
      "  from .autonotebook import tqdm as notebook_tqdm\n"
     ]
    }
   ],
   "source": [
    "import json\n",
    "from openai import OpenAI\n",
    "from groq import Groq\n",
    "import os\n",
    "from sentence_transformers import SentenceTransformer\n",
    "from tqdm.auto import tqdm\n",
    "import pickle"
   ]
  },
  {
   "cell_type": "code",
   "execution_count": null,
   "id": "b1380be9-1a2c-4c0b-9567-b9d0046d54c6",
   "metadata": {},
   "outputs": [],
   "source": [
    "client =  Groq(api_key = os.environ['GROQ_API_KEY'])"
   ]
  },
  {
   "cell_type": "code",
   "execution_count": 2,
   "id": "2c6e0c57-7102-4d72-9968-93783b9c6777",
   "metadata": {},
   "outputs": [],
   "source": [
    "with open('../data/vietnamese_rag/documents.json', 'rt') as f_in:\n",
    "    documents = json.load(f_in)"
   ]
  },
  {
   "cell_type": "code",
   "execution_count": 3,
   "id": "56ed9e80-dc27-44a2-b661-8e960eb76119",
   "metadata": {},
   "outputs": [
    {
     "name": "stderr",
     "output_type": "stream",
     "text": [
      "/home/codespace/.local/lib/python3.10/site-packages/transformers/tokenization_utils_base.py:1601: FutureWarning: `clean_up_tokenization_spaces` was not set. It will be set to `True` by default. This behavior will be depracted in transformers v4.45, and will be then set to `False` by default. For more details check this issue: https://github.com/huggingface/transformers/issues/31884\n",
      "  warnings.warn(\n"
     ]
    }
   ],
   "source": [
    "model = SentenceTransformer(\"paraphrase-multilingual-MiniLM-L12-v2\")"
   ]
  },
  {
   "cell_type": "code",
   "execution_count": 4,
   "id": "a529998b-6b60-4cd1-804d-708e7d26fdbc",
   "metadata": {},
   "outputs": [
    {
     "data": {
      "text/plain": [
       "384"
      ]
     },
     "execution_count": 4,
     "metadata": {},
     "output_type": "execute_result"
    }
   ],
   "source": [
    "len(model.encode(\"This is a simple sentence\"))"
   ]
  },
  {
   "cell_type": "code",
   "execution_count": 5,
   "id": "4e55b4fd-6836-4b66-9d1d-7d9324cedb68",
   "metadata": {},
   "outputs": [
    {
     "data": {
      "text/plain": [
       "6089"
      ]
     },
     "execution_count": 5,
     "metadata": {},
     "output_type": "execute_result"
    }
   ],
   "source": [
    "len(documents)"
   ]
  },
  {
   "cell_type": "code",
   "execution_count": 6,
   "id": "02535d4c-425a-479b-a3de-1660a0a81a44",
   "metadata": {},
   "outputs": [],
   "source": [
    "#created the dense vector using the pre-trained model\n",
    "operations = []"
   ]
  },
  {
   "cell_type": "code",
   "execution_count": 7,
   "id": "dfd8d875-c3e4-49db-8c3e-117dc473ad10",
   "metadata": {},
   "outputs": [
    {
     "name": "stderr",
     "output_type": "stream",
     "text": [
      "100%|███████████████████████████████████████████████| 1217/1217 [01:17<00:00, 15.79it/s]\n"
     ]
    }
   ],
   "source": [
    "for doc in tqdm(documents[:1217]):\n",
    "    # Transforming the title into an embedding using the model\n",
    "    doc[\"text_vector\"] = model.encode(doc[\"context\"]).tolist()\n",
    "    operations.append(doc)"
   ]
  },
  {
   "cell_type": "code",
   "execution_count": 8,
   "id": "7e2103b0-5e4c-48c4-ae2f-544508760d2f",
   "metadata": {},
   "outputs": [],
   "source": [
    "# operations[0]"
   ]
  },
  {
   "cell_type": "code",
   "execution_count": 9,
   "id": "005a7f43-bceb-421b-b692-808f79e95d6b",
   "metadata": {
    "scrolled": true
   },
   "outputs": [],
   "source": [
    "with open('../data/vietnamese_rag/text_vector_pickle/text_vector1.pkl', 'wb') as file:\n",
    "    pickle.dump(operations, file)\n",
    "    "
   ]
  },
  {
   "cell_type": "code",
   "execution_count": 10,
   "id": "0dfd0d68-a632-4936-a69a-151802bda673",
   "metadata": {},
   "outputs": [],
   "source": [
    "with open('../data/vietnamese_rag/text_vector_pickle/text_vector1.pkl', 'rb') as file:\n",
    "    operations1 = pickle.load(file)"
   ]
  },
  {
   "cell_type": "code",
   "execution_count": 11,
   "id": "3de422bb-bc4b-42c3-91fa-f9a4439565a3",
   "metadata": {},
   "outputs": [],
   "source": [
    "# operations1[0]"
   ]
  },
  {
   "cell_type": "code",
   "execution_count": 12,
   "id": "5585b8a3-4a94-46e6-b044-22050bb9d66d",
   "metadata": {},
   "outputs": [],
   "source": [
    "operations2 = []"
   ]
  },
  {
   "cell_type": "code",
   "execution_count": 13,
   "id": "f4dbb4fe-0f9d-4aa4-8582-722a5c8867ce",
   "metadata": {},
   "outputs": [
    {
     "name": "stderr",
     "output_type": "stream",
     "text": [
      "100%|███████████████████████████████████████████████| 1217/1217 [01:18<00:00, 15.47it/s]\n"
     ]
    }
   ],
   "source": [
    "for doc in tqdm(documents[1217:1217*2]):\n",
    "    # Transforming the title into an embedding using the model\n",
    "    doc[\"text_vector\"] = model.encode(doc[\"context\"]).tolist()\n",
    "    operations2.append(doc)"
   ]
  },
  {
   "cell_type": "code",
   "execution_count": 14,
   "id": "36e4b69d-ff23-4b81-9e92-77a735a54b52",
   "metadata": {},
   "outputs": [],
   "source": [
    "with open('../data/vietnamese_rag/text_vector_pickle/text_vector2.pkl', 'wb') as file:\n",
    "    pickle.dump(operations2, file)"
   ]
  },
  {
   "cell_type": "code",
   "execution_count": 15,
   "id": "4ff1eadb-c097-4364-ad76-90e675dea38d",
   "metadata": {},
   "outputs": [],
   "source": [
    "with open('../data/vietnamese_rag/text_vector_pickle/text_vector2.pkl', 'rb') as file:\n",
    "    operations3 = pickle.load(file)"
   ]
  },
  {
   "cell_type": "code",
   "execution_count": 16,
   "id": "b70e045f-73f2-4f5f-89c3-0d22a743f84f",
   "metadata": {},
   "outputs": [],
   "source": [
    "operations4 = []"
   ]
  },
  {
   "cell_type": "code",
   "execution_count": 17,
   "id": "1d232dee-b293-4b80-8676-a9564b7cfd08",
   "metadata": {},
   "outputs": [
    {
     "name": "stderr",
     "output_type": "stream",
     "text": [
      "100%|███████████████████████████████████████████████| 1217/1217 [01:17<00:00, 15.61it/s]\n"
     ]
    }
   ],
   "source": [
    "for doc in tqdm(documents[1217*2:1217*3]):\n",
    "    # Transforming the title into an embedding using the model\n",
    "    doc[\"text_vector\"] = model.encode(doc[\"context\"]).tolist()\n",
    "    operations4.append(doc)"
   ]
  },
  {
   "cell_type": "code",
   "execution_count": 18,
   "id": "262dcfb6-520b-4620-9d63-7a49fb425de8",
   "metadata": {},
   "outputs": [],
   "source": [
    "with open('../data/vietnamese_rag/text_vector_pickle/text_vector3.pkl', 'wb') as file:\n",
    "    pickle.dump(operations4, file)"
   ]
  },
  {
   "cell_type": "code",
   "execution_count": 19,
   "id": "6c922a17-f6ea-40f7-b7c5-6b9c7318a9e6",
   "metadata": {},
   "outputs": [],
   "source": [
    "with open('../data/vietnamese_rag/text_vector_pickle/text_vector3.pkl', 'rb') as file:\n",
    "    operations5 = pickle.load(file)"
   ]
  },
  {
   "cell_type": "code",
   "execution_count": 20,
   "id": "0af4dcdf-334b-4821-a157-48e0cf3bd463",
   "metadata": {},
   "outputs": [],
   "source": [
    "operations6 = []"
   ]
  },
  {
   "cell_type": "code",
   "execution_count": 22,
   "id": "780b750f-0cc5-45ee-ad8d-078290f9b7cf",
   "metadata": {},
   "outputs": [
    {
     "name": "stderr",
     "output_type": "stream",
     "text": [
      "100%|██████████████████████████████████████████| 1217/1217 [00:00<00:00, 1656219.33it/s]"
     ]
    },
    {
     "name": "stdout",
     "output_type": "stream",
     "text": [
      "{'group': 'Expert', 'context': 'Ngữ cảnh không được cung cấp', 'question': 'Giả sử phỏng đoán của Fujita là đúng thì kết quả của việc nghiên cứu các bài toán mô đun sẽ như thế nào?', 'answer': 'Nếu giả thuyết của Fujita là đúng thì nó sẽ có những hệ quả đáng kể cho việc nghiên cứu các bài toán mô đun trong hình học đại số [1]. Cụ thể, nó có nghĩa là không gian mô đun của các bó vectơ ổn định trên một đa tạp xạ ảnh trơn là một đa tạp xạ ảnh chuẩn quy ước với nhiều lớp chính tắc [2]. Hơn nữa, nó sẽ hàm ý sự tồn tại của sự nén tự nhiên các không gian mô đun của các bó ổn định trên các đường cong đại số, dẫn đến sự hiểu biết sâu sắc hơn về mối quan hệ giữa hình học đại số và chương trình hình học Langlands [3]. Cuối cùng, nó sẽ có ý nghĩa đối với việc nghiên cứu không gian mô đun của các ròng rọc ổn định, cũng như cấu trúc của quỹ tích Brill-Noether và các đối tượng hình học liên quan khác nảy sinh trong nghiên cứu bó vectơ trên đa tạp đại số [4].'}\n",
      "{'group': 'Expert', 'context': 'Ngữ cảnh không được cung cấp', 'question': 'Làm thế nào có thể xây dựng một phản ví dụ cho phỏng đoán của Fujita?', 'answer': 'Theo Wikipedia[1], **Giả thuyết Fujita** là một bài toán trong lý thuyết hình học đại số và đa tạp phức, chưa được giải quyết tính đến năm 2017. Nó được đặt theo tên của Takao Fujita, người đã xây dựng nó vào năm 1985.\\r\\n\\r\\nMột cách khả thi để xây dựng một phản ví dụ đối với phỏng đoán của Fujita là sử dụng một bề mặt xạ ảnh nhẵn với ước số Cartier dồi dào sao cho hệ tuyến tính liền kề không thoát khỏi điểm cơ sở. Cách tiếp cận này được Chen và Zhang trình bày vào năm 2020[6] [7] cho mọi trường đóng đại số có đặc số p > 0 và mọi số nguyên dương m.\\r\\n\\r\\nBạn có quan tâm đến cách tiếp cận này hay bạn có một đặc điểm hoặc khía cạnh cụ thể nào trong đầu không?'}\n"
     ]
    },
    {
     "name": "stderr",
     "output_type": "stream",
     "text": [
      "\n"
     ]
    }
   ],
   "source": [
    "for doc in tqdm(documents[1217*3:1217*4]):\n",
    "    context = doc.get(\"context\")\n",
    "    if context is None:\n",
    "        doc['context'] = 'Ngữ cảnh không được cung cấp'\n",
    "        print(doc)"
   ]
  },
  {
   "cell_type": "code",
   "execution_count": 23,
   "id": "3d73edbe-4af1-4e3a-a47c-8af6f48c1a43",
   "metadata": {},
   "outputs": [
    {
     "name": "stderr",
     "output_type": "stream",
     "text": [
      "100%|███████████████████████████████████████████████| 1217/1217 [01:10<00:00, 17.27it/s]\n"
     ]
    }
   ],
   "source": [
    "for doc in tqdm(documents[1217*3:1217*4]):\n",
    "    # Transforming the title into an embedding using the model\n",
    "    doc[\"text_vector\"] = model.encode(doc[\"context\"]).tolist()\n",
    "    operations6.append(doc)"
   ]
  },
  {
   "cell_type": "code",
   "execution_count": 24,
   "id": "5488c57c-1735-47c2-b30b-2887ab493ee5",
   "metadata": {},
   "outputs": [],
   "source": [
    "with open('../data/vietnamese_rag/text_vector_pickle/text_vector4.pkl', 'wb') as file:\n",
    "    pickle.dump(operations6, file)"
   ]
  },
  {
   "cell_type": "code",
   "execution_count": 25,
   "id": "8b41f221-fbb3-4d6b-b972-6c262cf2a9f0",
   "metadata": {},
   "outputs": [],
   "source": [
    "with open('../data/vietnamese_rag/text_vector_pickle/text_vector4.pkl', 'rb') as file:\n",
    "    operations7 = pickle.load(file)"
   ]
  },
  {
   "cell_type": "code",
   "execution_count": 26,
   "id": "6a93e5ad-b654-4271-9482-b3c9c59ea6d2",
   "metadata": {},
   "outputs": [],
   "source": [
    "operations8 = []"
   ]
  },
  {
   "cell_type": "code",
   "execution_count": 27,
   "id": "e99c29f0-b0de-4d86-8f82-23c241d055e8",
   "metadata": {},
   "outputs": [
    {
     "name": "stderr",
     "output_type": "stream",
     "text": [
      "100%|██████████████████████████████████████████| 1221/1221 [00:00<00:00, 2063354.22it/s]"
     ]
    },
    {
     "name": "stdout",
     "output_type": "stream",
     "text": [
      "{'group': 'Expert', 'context': 'Ngữ cảnh không được cung cấp', 'question': 'Chúng tôi có một con chó có biểu hiện hành vi phá hoại, sủa và đi lại quá mức khi ở một mình, tất cả các triệu chứng của sự lo lắng khi bị chia ly. Cách tốt nhất để giải quyết chứng rối loạn lo âu này ở con chó này là gì?', 'answer': 'Để giải quyết nỗi lo lắng về sự xa cách ở một con chó có biểu hiện hành vi phá hoại, sủa và đi lại quá mức, nên thực hiện kết hợp các kỹ thuật sửa đổi hành vi, thay đổi môi trường và trong một số trường hợp là can thiệp y tế [1]. Những kỹ thuật này có thể bao gồm:\\r\\n\\r\\n1[2]. Dần dần giảm nhạy cảm với việc ở một mình: Điều này liên quan đến việc tăng dần thời gian chó ở một mình, bắt đầu bằng những khoảng thời gian ngắn và tăng dần đến thời gian vắng mặt kéo dài [3]. Điều này có thể được thực hiện bằng cách đi và về vào những khoảng thời gian ngẫu nhiên và không gây ồn ào khi rời đi hoặc trở về nhà [4]. Phản điều hòa: Điều này liên quan đến việc thay đổi phản ứng cảm xúc của con chó khi ở một mình, bằng cách liên kết những trải nghiệm tích cực với sự vắng mặt của chủ [5]. Điều này có thể bao gồm việc cung cấp đồ chơi, đồ ăn vặt hoặc các hoạt động tương tác mà chó có thể tham gia khi bị bỏ lại một mình [6]. Thiết lập một thói quen hàng ngày nhất quán: Cung cấp một lịch trình cho ăn, thời gian chơi và tập thể dục có thể dự đoán được có thể giúp giảm lo lắng và căng thẳng ở chó [7]. Thay đổi môi trường: Tạo “không gian an toàn” cho chó ở khu vực yên tĩnh, an toàn trong nhà có thể giúp chúng cảm thấy thoải mái hơn khi ở một mình [8]. Ngoài ra, sử dụng mùi hương êm dịu (chẳng hạn như thuốc xịt pheromone cho chó) hoặc âm nhạc êm dịu có thể giúp giảm lo lắng [9]. Tập thể dục và kích thích tinh thần: Đảm bảo chó được vận động đầy đủ và kích thích tinh thần có thể giúp giảm lo lắng và cải thiện hành vi tổng thể [10]. Điều này có thể bao gồm việc đi dạo thường xuyên, thời gian chơi và đồ chơi hoặc câu đố tương tác [11]. Huấn luyện: Dạy chó các mệnh lệnh cơ bản, chẳng hạn như \"ngồi\", \"ở yên\" và \"xuống\" có thể giúp xây dựng sự tự tin và giảm bớt lo lắng [12]. Trong một số trường hợp, làm việc với người huấn luyện chó chuyên nghiệp hoặc nhà nghiên cứu hành vi có thể có lợi [13]. Can thiệp y tế: Trong những trường hợp lo lắng bị chia ly nghiêm trọng, bác sĩ thú y có thể kê đơn thuốc để giúp kiểm soát chứng lo âu của chó và cải thiện chất lượng cuộc sống tổng thể của chúng [14]. Điều quan trọng là phải kiên nhẫn và nhất quán khi thực hiện các kỹ thuật này, vì có thể mất thời gian để chó điều chỉnh và thể hiện sự cải thiện trong hành vi của mình [15].'}\n"
     ]
    },
    {
     "name": "stderr",
     "output_type": "stream",
     "text": [
      "\n"
     ]
    }
   ],
   "source": [
    "for doc in tqdm(documents[1217*4:]):\n",
    "    context = doc.get(\"context\")\n",
    "    if context is None:\n",
    "        doc['context'] = 'Ngữ cảnh không được cung cấp'\n",
    "        print(doc)"
   ]
  },
  {
   "cell_type": "code",
   "execution_count": 28,
   "id": "df05d4c6-666d-4e06-9585-3122f8637ee5",
   "metadata": {},
   "outputs": [
    {
     "name": "stderr",
     "output_type": "stream",
     "text": [
      "100%|███████████████████████████████████████████████| 1221/1221 [01:03<00:00, 19.08it/s]\n"
     ]
    }
   ],
   "source": [
    "for doc in tqdm(documents[1217*4:]):\n",
    "    # Transforming the title into an embedding using the model\n",
    "    doc[\"text_vector\"] = model.encode(doc[\"context\"]).tolist()\n",
    "    operations8.append(doc)"
   ]
  },
  {
   "cell_type": "code",
   "execution_count": 34,
   "id": "9726a25d-3a2f-42cc-82ef-0edfe2ff2b8a",
   "metadata": {},
   "outputs": [],
   "source": [
    "with open('../data/vietnamese_rag/text_vector_pickle/text_vector5.pkl', 'wb') as file:\n",
    "    pickle.dump(operations8, file)"
   ]
  },
  {
   "cell_type": "code",
   "execution_count": 35,
   "id": "a814309f-91af-4040-a672-880689fa49ff",
   "metadata": {},
   "outputs": [],
   "source": [
    "with open('../data/vietnamese_rag/text_vector_pickle/text_vector5.pkl', 'rb') as file:\n",
    "    operations9 = pickle.load(file)"
   ]
  },
  {
   "cell_type": "code",
   "execution_count": null,
   "id": "29ddaee9-aac8-42da-a5a7-b0d6d6525e93",
   "metadata": {},
   "outputs": [],
   "source": [
    "# final_operation = []\n",
    "# final_operation.extend(operations1)"
   ]
  },
  {
   "cell_type": "code",
   "execution_count": null,
   "id": "be94723b-9b01-45f3-a2d9-6760c9fb71c4",
   "metadata": {},
   "outputs": [],
   "source": [
    "# final_operation.extend(operations3)"
   ]
  },
  {
   "cell_type": "code",
   "execution_count": null,
   "id": "2089d710-f4e4-409f-aff2-87d2d1ee9627",
   "metadata": {},
   "outputs": [],
   "source": [
    "# final_operation.extend(operations5)"
   ]
  },
  {
   "cell_type": "code",
   "execution_count": null,
   "id": "c48cefc3-f636-4c33-b761-a105ad19d815",
   "metadata": {},
   "outputs": [],
   "source": [
    "# final_operation.extend(operations7)"
   ]
  },
  {
   "cell_type": "code",
   "execution_count": null,
   "id": "51d79116-2e59-4854-9ad3-88ae1eecf06b",
   "metadata": {},
   "outputs": [],
   "source": [
    "# final_operation.extend(operations9)"
   ]
  },
  {
   "cell_type": "code",
   "execution_count": null,
   "id": "1498d58c-cc99-4da6-a5f1-b12107042d4f",
   "metadata": {},
   "outputs": [],
   "source": [
    "# len(final_operation)"
   ]
  },
  {
   "cell_type": "code",
   "execution_count": null,
   "id": "f28fc9f4-9e04-49ae-af3a-d1cae27a8a92",
   "metadata": {},
   "outputs": [],
   "source": [
    "# len(operations1)"
   ]
  },
  {
   "cell_type": "code",
   "execution_count": null,
   "id": "c8e1befc-6dd5-494d-a5a0-b6ce0b766b06",
   "metadata": {},
   "outputs": [],
   "source": [
    "# len(operations3)"
   ]
  },
  {
   "cell_type": "code",
   "execution_count": null,
   "id": "36dea596-69fb-4b0d-9880-13987dec3552",
   "metadata": {},
   "outputs": [],
   "source": [
    "# len(operations5)"
   ]
  },
  {
   "cell_type": "code",
   "execution_count": null,
   "id": "74b2f95e-40da-497e-ae01-33201704e247",
   "metadata": {},
   "outputs": [],
   "source": [
    "# len(operations7)"
   ]
  },
  {
   "cell_type": "code",
   "execution_count": null,
   "id": "05d8a2b7-a44a-492d-96bc-8aa75be70455",
   "metadata": {},
   "outputs": [],
   "source": [
    "# len(operations9)"
   ]
  },
  {
   "cell_type": "code",
   "execution_count": null,
   "id": "17915b65-09da-44ad-b9e1-695f0b53b8ed",
   "metadata": {},
   "outputs": [],
   "source": [
    "# with open('../data/vietnamese_rag/text_vector_pickle/all_text_vector.pkl', 'wb') as file:\n",
    "#     pickle.dump(final_operation, file)"
   ]
  },
  {
   "cell_type": "code",
   "execution_count": null,
   "id": "19fb513a-7093-44e9-8821-af5ee9e33d9b",
   "metadata": {},
   "outputs": [],
   "source": [
    "# with open('../data/vietnamese_rag/text_vector_pickle/all_text_vector.pkl', 'rb') as file:\n",
    "#     all_operations = pickle.load(file)"
   ]
  },
  {
   "cell_type": "code",
   "execution_count": null,
   "id": "7a134193-cbc7-4792-8048-3524de879236",
   "metadata": {},
   "outputs": [],
   "source": [
    "# len(all_operations)"
   ]
  },
  {
   "cell_type": "code",
   "execution_count": null,
   "id": "c6457a43-bb80-4143-8444-ca9d99a55691",
   "metadata": {},
   "outputs": [],
   "source": []
  }
 ],
 "metadata": {
  "kernelspec": {
   "display_name": "Python 3 (ipykernel)",
   "language": "python",
   "name": "python3"
  },
  "language_info": {
   "codemirror_mode": {
    "name": "ipython",
    "version": 3
   },
   "file_extension": ".py",
   "mimetype": "text/x-python",
   "name": "python",
   "nbconvert_exporter": "python",
   "pygments_lexer": "ipython3",
   "version": "3.10.13"
  }
 },
 "nbformat": 4,
 "nbformat_minor": 5
}
